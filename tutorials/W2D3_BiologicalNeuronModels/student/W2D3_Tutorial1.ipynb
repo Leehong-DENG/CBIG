{
  "nbformat": 4,
  "nbformat_minor": 0,
  "metadata": {
    "colab": {
      "name": "W2D3_Tutorial1",
      "provenance": [],
      "collapsed_sections": [],
      "include_colab_link": true
    },
    "kernel": {
      "display_name": "Python 3",
      "language": "python",
      "name": "python3"
    },
    "kernelspec": {
      "display_name": "Python 3",
      "name": "python3"
    },
    "language_info": {
      "codemirror_mode": {
        "name": "ipython",
        "version": 3
      },
      "file_extension": ".py",
      "mimetype": "text/x-python",
      "name": "python",
      "nbconvert_exporter": "python",
      "pygments_lexer": "ipython3",
      "version": "3.7.10"
    },
    "widgets": {
      "application/vnd.jupyter.widget-state+json": {
        "b41c8752ac0e4487bb748d66b736e415": {
          "model_module": "@jupyter-widgets/controls",
          "model_name": "TabModel",
          "state": {
            "_view_name": "TabView",
            "_dom_classes": [],
            "_titles": {
              "0": "Youtube",
              "1": "Bilibili"
            },
            "_model_name": "TabModel",
            "_view_module": "@jupyter-widgets/controls",
            "selected_index": 0,
            "_model_module_version": "1.5.0",
            "_view_count": null,
            "_view_module_version": "1.5.0",
            "box_style": "",
            "layout": "IPY_MODEL_5c5c30f56d914c12ad1a48f85d82ffc5",
            "_model_module": "@jupyter-widgets/controls",
            "children": [
              "IPY_MODEL_e576e7fc19fd4559834cab551f6c6e92",
              "IPY_MODEL_b7bf09cfd89d4f4ca498c27f6bf38f6e"
            ]
          }
        },
        "5c5c30f56d914c12ad1a48f85d82ffc5": {
          "model_module": "@jupyter-widgets/base",
          "model_name": "LayoutModel",
          "state": {
            "_view_name": "LayoutView",
            "grid_template_rows": null,
            "right": null,
            "justify_content": null,
            "_view_module": "@jupyter-widgets/base",
            "overflow": null,
            "_model_module_version": "1.2.0",
            "_view_count": null,
            "flex_flow": null,
            "width": null,
            "min_width": null,
            "border": null,
            "align_items": null,
            "bottom": null,
            "_model_module": "@jupyter-widgets/base",
            "top": null,
            "grid_column": null,
            "overflow_y": null,
            "overflow_x": null,
            "grid_auto_flow": null,
            "grid_area": null,
            "grid_template_columns": null,
            "flex": null,
            "_model_name": "LayoutModel",
            "justify_items": null,
            "grid_row": null,
            "max_height": null,
            "align_content": null,
            "visibility": null,
            "align_self": null,
            "height": null,
            "min_height": null,
            "padding": null,
            "grid_auto_rows": null,
            "grid_gap": null,
            "max_width": null,
            "order": null,
            "_view_module_version": "1.2.0",
            "grid_template_areas": null,
            "object_position": null,
            "object_fit": null,
            "grid_auto_columns": null,
            "margin": null,
            "display": null,
            "left": null
          }
        },
        "e576e7fc19fd4559834cab551f6c6e92": {
          "model_module": "@jupyter-widgets/output",
          "model_name": "OutputModel",
          "state": {
            "_view_name": "OutputView",
            "msg_id": "",
            "_dom_classes": [],
            "_model_name": "OutputModel",
            "outputs": [
              {
                "output_type": "stream",
                "metadata": {
                  "tags": []
                },
                "text": "Video available at https://youtube.com/watch?v=rSExvwCVRYg\n",
                "stream": "stdout"
              },
              {
                "output_type": "display_data",
                "metadata": {
                  "tags": []
                },
                "text/html": "\n        <iframe\n            width=\"854\"\n            height=\"480\"\n            src=\"https://www.youtube.com/embed/rSExvwCVRYg?fs=1&rel=0\"\n            frameborder=\"0\"\n            allowfullscreen\n        ></iframe>\n        ",
                "text/plain": "<IPython.lib.display.YouTubeVideo at 0x7f7d561f7f50>",
                "image/jpeg": "/9j/4AAQSkZJRgABAQAAAQABAAD/2wCEAAUDBAkKCAgICAgICAgICAgICAgICQgICAgICAgICAgICAgIChANCAgOCggIDRUNDhERExMTCAsWGBYSGBASExIBBQUFCAcIDwgIDhINDQ0SEhISEhISEhISEhISEhISEhISEhISEhISEhISEhISEhISEhISEhISEhISEhISEhISEv/AABEIAWgB4AMBIgACEQEDEQH/xAAdAAEAAQUBAQEAAAAAAAAAAAAABgMEBQcIAQIJ/8QAWBAAAQQBAQMHBQcRBQYFBAMAAQACAwQFEQYSIQcTFBYxUpIIIkFR0jJTYXGRsdEVGCMzNEJUVXKBk5ShssHi8DZzdLO0JDd1guHxCTVidsIXg6K1Q2SG/8QAGgEBAQEBAQEBAAAAAAAAAAAAAAECAwUEBv/EACwRAQEAAgECBQIFBQEAAAAAAAABAhEDBDESEyFBYTKBBTNRcbEVkaHB8BT/2gAMAwEAAhEDEQA/AOMkREBERAREQEREBERAREQEREBERAREQEREBERAREQEREBERAREQEREBERAREQEREBERAREQEREBERAREQEREBERAREQEREBERAREQEREBERAREQEREBERAREQEREBERAREQEREBERAREQEREBERAREQEREBERAREQEREBERAREQEREBERAREQEREBERAREQEREBERAREQEWf6qT9+HxP8AYTqpP34fE/2EGARZ/qpP34fE/wBhOqk/fh8T/YQYBFn+qk/fh8T/AGE6qT9+HxP9hBgEWf6qT9+HxP8AYTqpP34fE/2EGARZ/qpP34fE/wBhOqk/fh8T/YQYBFn+qk/fh8T/AGE6qT9+HxP9hBgEWf6qT9+HxP8AYTqpP34fE/2EGARZ/qpP34fE/wBhOqk/fh8T/YQYBFn+qk/fh8T/AGE6qT9+HxP9hBgEWf6qT9+HxP8AYTqpP34fE/2EGARZ/qpP34fE/wBhOqk/fh8T/YQYBFn+qk/fh8T/AGE6qT9+HxP9hBgEWf6qT9+HxP8AYTqpP34fE/2EGARZ/qpP34fE/wBhOqk/fh8T/YQYBFn+qk/fh8T/AGE6qT9+HxP9hBgEWf6qT9+HxP8AYTqpP34fE/2EGARZ/qpP34fE/wBhOqk/fh8T/YQYBFn+qk/fh8T/AGE6qT9+HxP9hBgEWf6qT9+HxP8AYTqpP34fE/2EGARZ/qpP34fE/wBhOqk/fh8T/YQYBFn+qk/fh8T/AGE6qT9+HxP9hBgEWf6qT9+HxP8AYTqpP34fE/2EGARZ/qpP34fE/wBhOqk/fh8T/YQYBFn+qk/fh8T/AGE6qT9+HxP9hBgEWf6qT9+HxP8AYTqpP34fE/2EGARZ/qpP34fE/wBhOqk/fh8T/YQYBFn+qk/fh8T/AGE6qT9+HxP9hBgEWf6qT9+HxP8AYTqpP34fE/2EGARZ/qpP34fE/wBhOqk/fh8T/YQYBFn+qk/fh8T/AGE6qT9+HxP9hBM0RFpkREQEREBERAREQEREBERAREQEREBERAREQEREBERAREQEREBERAREQEREBERAREQEREBERAREQEREBERAREQEREBERAREQEREBERARFGpdqwHObzBO6SNec9R07iipKii/W4fg5/S/wAidbh+Dn9L/IhpKEUX63D8HP6X+ROtw/Bz+l/kQ0lCKL9bh+Dn9L/InW4fg5/S/wAiGkoRRfrcPwc/pf5E63D8HP6X+RDSUIov1uH4Of0v8idbh+Dn9L/IhpKEUX63D8HP6X+ROtw/Bz+l/kQ0lCKL9bh+Dn9L/InW4fg5/S/yIaShFF+tw/Bz+l/kTrcPwc/pf5ENJQii/W4fg5/S/wAidbh+Dn9L/IhpKEUX63D8HP6X+ROtw/Bz+l/kQ0lCKL9bh+Dn9L/InW4fg5/S/wAiGkoRRfrcPwc/pf5E63D8HP6X+RDSUIov1uH4Of0v8idbh+Dn9L/IhpKEUX63D8HP6X+ROtw/Bz+l/kQ0lCKL9bh+Dn9L/InW4fg5/S/yIaShFHKe1AfJHHzBG+9jNec103nBuum5x7VI0BERVBERAREQEREBERAREQEREBERAREQEREBERAREQEREALWVv7Y/wDLd+8Vs0LWVv7Y/wDLd+8VKsUkRFFEREBERAW/X+SLtaASK1B2noF2LU/AN4AfKtBLtnywuTLaLK7W4y1galkiLEVIRkIpW1Y6s7b+Re4myXtMbmslY47urtHDQEnRByJt3sdkcRcdQy1OWlbaxsnNybjg+N+obLDLG50c8RLXt32OcNWPGurSBlOVDk1yWDdSZk2QsN+t0qvzMrZtYtQPO3fcu4jgtueXNtxTv3MNjqtuPIWcNTlhyN+HQwzXJxWEkbJG8JC013OO7q0Gct11a4DA+VlsFHiJcE2LIZS/0zFiw45Oy2y6A7zRzVctjbzcPH3PH40Gj0XRmU5JNmdnaNB+2l3Ly5jIQi0MNhRUD6cDxujpL7PB7mvDm74ewFzJGtEgYXmPcsnI/RrYWntRszfs5LA2pOjzC4xrL1GwHuj0n3I2NcwyMcwncboTHoXtka5BHM1yVug2Px21hvNe3IZF9AUOYLXRFjr7edNnnSH69BPm7g+2dvDjrddK7bf7nNm//cU/+Zn1H+TfkfxTNnute1t65Txc8pgx1LHNiN+/I1zwC107XNY1xhm0aQNWxueXtboSGikXQl3kiwGZwmRzGxdzKGxiWunv4bLtrmz0cNe8PrvqjTUshlc1u9IXbhb5rtAY55PfI/DmIclmMxdfjdncPG5121EA6zNI2PnDBWBY8Nc1ha4ndeSZImtY4v1YGnlJuTPYe7m8hHjMa2J1qSOWVomkETN2Fhe/V57DoFvjkv5Ldg9osm2lisntHTkjbM+SnfbSbLbhijAE9GzHFIyPR5a5zJRvODnaNaGlQzkF5P4bm20+D6dkqUEEuWiZaoTsr3tymZWs1m5st84MG9o0a6nsQagzeOkq2rNScATVZ5q0wad5olgkdFIGuHuhvNPFWa2bspyW2cxtZbwFKZ32K/fbPdtEyviqVbL45bc+7pz0x80aDd3pJWjVoJI2DtXslybY27Jh7eS2ot2oJDDbv0hQNStPH5ssWj4d4gOBBDGS6HUb3A6Bzii2Fyd4jZmS5knZzKX6uNrF3QG0oBJeyAdK8RtBfE5kDhE0OJe1o1cBqDoDsqxyV7LZfZzM5rZS1moLeBhE9ujmOiO5yBrJJXSf7K07jnxwzlrg8jWAtLG67yDX/IryTuztXPWW3m0/qHR6aWGuZ+k/Y7UnNhwlZzX3NpvaO932cOOs1075En/lW33/AAEf6bKLmJAREQEREBERBd4f7pr/AN/F/mNWx1rjD/dNf+/i/wAxq2OrEoiIqgiIgIiICIiAiIgIrea6xp0JJPZwGo+f9qqRSh3YdT6vSpuLpURERBERUEREBERAREQEREBERAC1lb+2P/Ld+8Vs0LWVv7Y/8t37xUqxSREUUREQEREBdf8AlybbZnHbXYxuIyWQqOOGpyNgqTTCKWc5HJtG/VaTHYc4MY3de128GgEFcgLfx8rva38IoD4qUX8SgmPlqYVkuA2W2hvVI6G0V+KKLJwsjEEk5dTZNI+xC4b7ZYZGtbo7zmCxuO13W6e+WxcZBldirErS+KDG1ppGgal0cViF72geklrSFzvyjcoGVzdhtrMXpbksbSyIOEcUULCQS2GCFrY49SBqWtBdujUnRXXKfyk5LOOpPyb4XmhW6LX5mJsOkWoOjt33TuA4oNzf+IZQlO0GOyTQZKF3D121LLfOhkdFNYfJGx44Ehk8MnxTtKu8RVfR5GsoL2sJzOaglxjJNQ6WPpOMcNxr9CA5uOuyjTtaN7sOq1tyeeUNtBiqTMbHLUv0IgBXrZOs22ysBroIX7zZA0a8GucWt0AaBx1jfKtypZfPzxzZa1zrYA4Vq0TGw1awdpvc1Cz746DV7i5xAA10AADb+23+5zZv/wBxT/5mfWT5ddbvJfsbdpB0lXHvjq3eba4iCdkEtN0k4A+xt5+FzA52gJsR6Hz266FyPKLkJsBU2bkfCcXStuuwMETRMJ3m0SXTdrm625uHwj1LI8kvLBmcBzzMZZZ0Wyd6xRtRixTlfu7nOGJ3GOQtDQXMLS4MaHahoADdXkDsNWLarM2g6PF1cXzc8zwRE+RnOWXsaSNJJGRRnVo1I5+PvjVyJ4+TKcle1OHxsYmyUOSjuPqRavsTwtfjLTHCJoLnSPZQssY0Al7qwA4lam5UuXbO5uo3H25q9bHBzXuoY6AVK0rmO32GYBznytDtHBjnFu81rtN5oIv/ACZtmNprVi9d2TvxVL2PjgEsT7DYX247Jm3Y2wzRugssaYCS2bRoJjI46EBsfyFeTrLw7SNylvHWaVKvVtQumuxPq87PNGWshrsmaHTv0a9x3QQ0RnUgloNr5Ln+9G7/AIraH9+wtqcnp2nx1mTajlGysdenjKlplGg6bH781uZobvxVsbpBJMYudY3iZCZdOA1XIOyPKRfxualz1AxR3ZZLcn2WMTRjpheZRuu7fdnQoOhvJEykEPKRtJBKWNlu/VuGsXHRz5Y8rHZfCwekmKCV/wAUC5p5QdmbuPy1zHX45umw2ZI3l7X79gukO5Yj3uMjJQQ9rhrvB4I11VlPtBaOQflGTPhvPtvvCeAmF8dl8pmMkRYdYyHuJGnYt0Q+VttSIWRufjJZ2M3W3ZKLDa7NC7zXCIO+KPT4EFTyeeTbGuwm0O1Gco2MmzBF8UWGZJLW5yxDGyWV9t0f2RkTOcj19DWsmLmv03Vs3ka2o+qWyPKDPDs7jMHTZhZWVpMZUnhFwihlTMyxakeW25IBzZ80N3eknUeeFzxyactecwt27eo2Y3vyUrp78NmJslazM975DM6Jm7zcgdI86xlvutOzgpNX8qLaluQdeNqtIw131hjX1wMYyJ5a47taNzSZN5uvOOcXaEt13fNQTDyJP/Ktvv8AgI/02UXMSn2zPK1lKMmdkp9Eh6wiZuQjbXZzQZM6wXMrM7K7B0qUADsG76lAUBERAREQEREF3h/umv8A38X+Y1bHWuMP901/7+L/ADGrY6sSiIiqCIiAiIgIiIKVmw1g1cdPQB6SfUFZWMkNzeAHbwB473q7PmVPaOEjddoS4t0aBqdNeOmg++PDh8S3Nyc8lrYoIZbjN+09jXOaRvCDVo+xs9G963fBwXz83POObr6un6e8l9GjXCw//wDik07S0tO7r3tdOB7e31q4q880t32Pbp2OAO98BB9fArrCDZuu0ac031aaD9vrX07ZSo8t3q8fA6jQAen1L4b+IfD0P6d6fV/hy5HM4aE6kffA6gg6akj06cVeafAuksvyfULETon12RkjzZI/New+sEdvxFaB2xwb8Zb6FZcXNcDJVn7Gyxa6aHuvadAR8IPAEL6eDqpn6Pj6jpLx+veMUi9e3QrxfZHxCIiqCIiAiIgIiICIiAFrK39sf+W794rZoWsrf2x/5bv3ipVikiIorK4PZy/cZPJRoXbjKrQ+y+pWnsMrscHua+d0LCIWkRyHV2n2t3qKxS63/wDD6zsOPo7Z5GzvdHpQYizPuDeeIYhl3yua375wYHHT06aLXHldclUeHyUeSxgY/AZsdLx8kGjq8EkjWyyVWPZ5vNEPEsWmgMb9Brzbig1BlMFcrxVp7VO1WguMMlOaeCaGK1G0MJkrSSNDZ2ASRnVhI89vrCxy6P8AKr/snyZ/8Ftf6bCKNbE8gjpsZVy+dzmN2apZDjjRf8+zdZoDzzYC9m5AQ5hDt4khwdoGuYXBpVFPOWjkuu7P24YLUkFqtch6Tj8hUcX1blckaPjcRweA5hc3jpzjSC4Oa41eVLkvmw2P2eyE1qGwzaHHjIQxxse11dhgpz83KXcHu0uNGo7hQa+RbHfyTzjZJu1vS4ejuudD6HuSc9vc8Yd/nPc6ajXRZ7kx8nrJZvCNzGPs1iX3+g9Fl34+ba10fPWprHFsdeNj3SHgXERkNDnFrSGmkWzNvuSgVsnjcThctS2mt5FugGKdC9kNjnHMMD3tne1oDW75e8sAbq46AEqev8mavFMzHXNs9n6ucfuMGLLy7dnlAMMD5nSNc2R+9Ho3mtTvt0DtRqHOyKR8o+xV/C5GfF5OHmbMOhBad+KeJ/GKxXk00kheBwPAghzXBrmuaN15ryT7tO29uRzmKx+JihhfLmbjjXrmed0zW1II5nN56cCJjjq5o0lboSeCDnFX2CxFq3O2vRq2bllwc5sFSGWxO4MG85zYoWlxAAJJA4ALYHLtyOWtnnUZTcrZPG5OIy0MlT+1Tta2N5DmguDCWyse0tc5r2uBBOjg2U+Qf/bWj/hch/pJEGmNocfcr2HwZCC1WtsDOchuRyw2GhzGvj345wHtBY5pGo4ggr3Z/BXLspgx9O1enDDIYacE1mURtLWukMcLXODAXNBOmnnD1rpzy88RFchwe1lQDmrkcmKubpBEdqs+Z8cbiB50rXMvxOP/APUaFIvIDwsVCm/NWmaWM9kmYPF6jzjFWhmu23scNdI3GvJrr99QA9IQccZGlLBLJBYilgnhe6OaGZjopYpGHR0ckbwHMeCCCCAQrdbP5ZsHav7c5uhQgfZt2s9dhggj03nvdZk9LiGsYAC4vcQ1rWuJIAJU6f5M1eKZmOubZ7P1c4/cYMWXl2k8oBhrvmdI1zZH70ejea1O+3QO1Goc7IpJyjbE38NkpsXk4OatQkEbp34p4n/ap68gH2WF47D2ghzXBrmuaNtxeTZ0atWftBtPhdnr9yITVsbdeDMGO4NNqQyMFfztQSA9o0I11BADWG0vJvkqWIx2ctRRNx+Udu05GzRvked17/Piad5nBju1Q9db+Vbs/PjtgNkMdaMTp6lt0L3wPEsMmkFktlhkHu4ntLXAkA6OGoB1A1Pybch0l3GNzmWy+P2dw80pgqWsgd6W5KC4EVq+8zfZ9jl47wP2JxDSAXANQKYbQ8nGSp4bH56zFE3HZR5jqSNmY+RzgJT58QO8waQv7fUPWsvy18kdvAupzGzWyeLyUfO4/K0nb1awAAXMcNTzcoa5rhxc1zXAtcSHhu1+XD/dbsR/i3f5d9BzCi3TsByCmziIM7ms7jtncdde6Og66DJPaLHPa54hL4wyM824t84khpdoG7pdAuVTZOvi74qVctRzULoI523ce9r4fsheDE7de7cmbucW66jeCCJoiILvD/dNf+/i/wAxq2OtcYf7pr/38X+Y1bHViUREVQREQEREBAi9aeIJ7PT/AEFKrKbA4sT5SrvjfZHIJnajVriw+YwAjiNdD+b5en4B8Ho/7rS3IPihLNYsuA3YXbo4AauPZp/XpW3bmarVzu2JmRuI1DXHQ6dmp4cF4vVZeLPU9nt9HjMePd913M8a/wBfnXsUo9fasbDnKsn2uaJ4Pdc0kfIVWM8YOocNPh07fSviuNejLLPRmqp1HHj6v6K1X5TeGbLjIren2SnZjIcO3mpvsUrfi1Mbv/thbMo2Gbvuh+cj9ijPLHDzmFu6AENiMnoI0bx1C7cFuOcvy4dRJlhZ8OY6kjvcPIJb2OHY5vwK4VKtFo3Xh6NPj0OunwfSVVXv4dn5vLuIiLbIiIgIiICIiAiIgBayt/bH/lu/eK2aFrK39sf+W794qVYpIiKK6P8AJU/snymf8Fq/6bNrO+TFtFV2jwVzk/zcoEnNPsbP25NHyQviDpeaj1Ic58Dt6RrQfOhdYZq1rQDpnkr5UDiMTtLixRFobRUoqZnM5h6Hzcd2PnBHzTuf16Zru7zPtfbx4QbBZWepar3KkroLVWaOeCZmm9HLE4OY4Agg6EdhBB7CCEHSflpYWejgOT7H2mhtmljsjUna07zRLXiw8T9133zNWkg+kELZnla39koLOGbn8XmrkJxgGLlxk0MdJsDZNHxNa6ww88GmuSdNN2SHjwOnOflH8uMm1LMSJccyhJjG2w90dh1hth9sU99zWOiaYGg1SQ3ef9s014anI7G8vcX1GgwG02Cr7R42oGMovfYkp3acTWlgjjssY5xa1mjG7hjcGjdLiNAAqeUPyq4PLYbB4nDUclXGEdJHDJkOjuc2m+JrOZbLHO9zjrFD2gDSJvqWe8rv+zXJp/7bb/oMKtY8qm3GHvVq1TDbMVsDHXmfK6dtqS9cstc3cayWxNG1+4Pdbpc7ip9s75Q9E4XGYraDZWln5MLE2DG2ZrAhDIWNjjZHJGa8nARxRNdod2TmY95uo3kEjv1pI+RiDnI3x85mBLHvtLd+N12Tdkbr2sOh0Pp0TZi7LFyM5QwyviMmY5mQxuLC6GW1RZLES3juPaS1w9IcQdQSFDOU7yjLOZ2flwdrGwROkux2I7Febm4K1eBw6PSgpCHzY2Rhrd7nOOhOnFRqlyslmxtjZHoAIsXm3fqh0jQs0mgl5vovM+d9o03ucHuuzhxCcf8Ah+RwnbAGYNMjMXedV3tNROTAxxZr2O5h1gcPQXLTXKY+Z2bzDrOvSDlcgZ973XPG3MZdfh395W2xe0tvGZCrk6Epht05RLC/TUa6Fr2Pb9/G9jnsc30te4elbytcvuz9i4zM39hKdjOtMb32WZKeKnNOwfdElEwOjc/e0PniRx0Gr9QCgznl/t1GyMk4H1Rfh5BdJ0506dFcwP8AToJn29NfSX/Crf8A8RrJTu2joVHTSGtDiIZ4oCTzTJp7Vxk0rW9m+5sEIJ7dI2+paO5WuUG9n8nLlMk5hme1sUUUQLYa1eMuMdeFriSIwXvdxJJdI8niVnPKI5UztLlosoaIx/NUYqXMCx0rURTWJuc5zmY9Nekabu79528eAbY8ok68m+wRPHgB+YVXgD5APkUV8g/+2tH/AAuQ/wBJIovyh8rRyWzmB2f6AK4wnZb6Rzps/YnR/aOZbzPbr7tyxfITyhnZ/NQZgVBe5mKxF0czdG3ufidFvc7zUmmm9rpunXT0IOiOTZjtoNm9utkvOlvY/JXcpiI9Yw9xdblnZXhL9A0G1BIxznaaDJdo9GZhsx0duNgtjqr2mDZylObZjJayXKX8bZmsSPjHAuLd2UOPEG7IOGp15f2H5U8hic3bzmL5qGxbNsPimaZ4uZtzCd0Thq3f3XtjIPDjGD8CrbG8qlmrtVHtXchF+2LVm3NDzhrtkfZhmh3GSbj+ajYJQGjdOgjaEHQXINHCeV3aMyhpkZLnXVd7TUTm1GxxZr2O5h1gcPQXLlzlLfM7NZh1nXpDspkDPve65425jLr8O/vLLZDlItjaafaegOg3JMjPkIYw/nhEZ3vL4HvLW89GWSPjd5o3mucNBqtp2uX3Z+xdZmb2wlOxnWmN77LMlPFTmnYPumSiYHRufvaHzxI46DV+oBQbV8oCrDLtXyYG9oLsrqQvbwaZHuZaovgil1B1Y6y6y3Q9960X5b0sztuMuJi/dYzHtrh2u6IPqdVdpHr94ZHSk6ffOf6dVB+UrlLyWYzH1btzCO4x0XRRX3o46TK7zJBHWBcSxrHlz9SSS5znE6lbiyflM46/HXsZ3YrF5bL1oWwtvSzMbDLu751lrPqvJiDnb3NF7m6ySabmqC+8oBjhyZbChwcDzjTo4EHddWsuYeP3paQQfUQp/wAt1zZaHZrYk5zHZe9QOIiGOfi5GxQxE0seXizzk0Z557Awt3tT5k3p3loLlt5erG0WIx2Ot0Y4Z6VqS1Jbjm1jnMjZWiKOrzI6PExsga0b7zpGNSe1ffJny7mpiDs9ncPW2jwrX79avZlNexTcS4nmLIjeQ0b8hboGvbzjgHhp3QGT5Z+VXZ65srj9msDQy1SPHZPpsJyBryNEcjb5nj51k73kmW7vAaacO3gFI+XD/dbsR/i3f5d9as5UNucFboR0MHsrBg9y2yy6667NkLszGxTx9HMtiPfjhLpg8t33DWFnqGn3tvysm/svhNmugCEYaUy9N6RzhsatsN3ej8y3mvt/bvu9z8PANgcm/Kzs7kMDR2W21qWWwY5zhjszTLzJVa4ShvPRwjfBjY8MG6yZrwI96PVm+YP5SXJGNnbtUV7gv4zJwOtY615ge6JpbvRybh3Xua2SIiRujXiQEBvEDKbPcq2zfQaFbLbDVL9rH14om3q9+XHyXHwNDY3XI68A57UDiZHSdgG6R2Rnl25VrW0V2GxNXhpVKcArUKFc70VWDUEjf3W78h0aCQ1o0jYA0aINdoiILvD/AHTX/v4v8xq2OtcYf7pr/wB/F/mNWx1YlERFUEREBERAV7RxU8sNieOKR8NZm9NI1pLWakAAnTt0OpHoAJVktuckZgFCZ873CBkM0bo26kSWJ5XDR8YcOcJgY1uh9BXz9Ry+XjvW/V9fR9PObO4261LV5yB6/Uu2/wBduTR3Zruxs14/GVgdsL9VrpxLvzvjAfMW77ms3iGtDnek6kDh6/SdVtLZTDMgoMhhaWskknsBu7uFjLEr5Yoy0HgWxOjZ6fcLF57ZwOYWczC4HiWvaNO0E8QOPEa/IvIvLPHbe1etjw5eCY/o1ZstdhdMwxxGMP0LXNLuI3i3XQgcNQfR6Dx4Kd7YQyVqzHvmdo4u7O0k6H8y9wOybI5Gvdze8PMYyNgAjZrr2/CfnUr2mxjLNfmHaAOYWg+ga+bx0Uyy3dzs+jj4bMPlpfFzMml3ZL8jH66iN03uteIHN9uvwaaqekTMw+The8SwNo2JYn6hwDebcSGkdrfmIKw+N2CY2w908BdJuOjJDgQ6Ms5slof/AOg6at19fapzT2fa3GZCs3eDZqdtjA4l5aXwyaAudxdxPp1K3lnNzV2+by8pLuac1VHfYmD4Br8YA7Pg4lfazVrZ0wY6tYl5xk8uknNuADOjOJYxw472+XDXiNNHBYVezxZTKejxOXjywusprc39qIiLo5CIiAiIgIiICIiAFrK39sf+W794rZoWsrf2x/5bv3ipVikiIooiIgIiICIiAiKXcmPKFewk89jHtqOksQiCTpdaK0zcD2yea2UaNdq0cQgiKLsTL8sOTj5P6G0TYMV9UrG0L8dI846qYuitq3ZQ0RbugdvQR+d29q0rSr5XbbJ25ZJMbXs4vBz23lsHRIX1KU4c5jWVo3b1gvunznAcG6a8Ag1KimPJzyfWctBmZ601eJuExdjK2BOZA6WCuxz3xwc2xwMpDDpvFo7OK2pyaciuMv7F3MxPlcZVyBuwxw2rNyaKpjYueijfXyDGRENtSDfLR5w0ni4jVBz0i2RsHyQW8nPlDFdxtfFYeV0d3O2p3RYvdEpjY6vJub07pGjfY0NGoczeLC9utblD5HZ6GNGao5LHZ3D8+Ks17GSPealghpbHdge0Or72+zQ6n3bNd3fZvBrFFujZzyer1jG4zNWMrh8diMhDNM+9dsOhZT5uVkMUEokYOcszFzyxrCRpBJq4HdDvn6kZCLYbMczLh7GGr7UGs+w2OZ2TmtRw1Gslqzj7F9T3s5pwB87zn+sINMq5xlCaxKyCtDNYnk1EcMEb5pXlrS4hkcYLnaNaTwHYCtp7B8i8V6Gk+fajZ6hZyLY+hY+WxJLcL5XFkUdqONmlV7zu7oJcTvjh6FIPJv2VtYnlLxuKvta21Ss3opebdvxuBxVt8ckbtATG+N7HjUA6PGoB1ADQ08TmOcx7XMexxY9jwWuY5p0c1zTxa4EEEH1L4Ui5Tv8AzvM/8VyP+rmUdQEREBERAREQEREF3h/umv8A38X+Y1bHWuMP901/7+L/ADGrY6sSiIiqCIiAiIgLZXIvA2aO5XdJubktazr2nhzjAQ0jRzddARw92Drw0OtVf4DMT1JhPWfuSAFp1Ac17CQSx7Twc0kA/mBXHn4/MwuMfT0nP5PJM/b3+7qmS4SwOduhxEYIbqW724Gu3dQCW7wOnD1KP5i+Q0g9vHQDtPZpp+1Yjkvzc13Hy2J90yR3S3RgLWhjY4HgAEnvO+VZbNhzXAsjc/fJLiwB0m76GtBI4cRwC8PPG45eGvf4eaWbx7VZ0LTWGPnnc25xLY2kO0cPdEucBoD6NT/FZCxk4gGtMukjnubGNC7ePutDujgPjWLvXqwO6+bmyNQA9hY74SGyEEpi5IG671iI8QQdCGjQeaSSOB7flXTXpp9UyvfTLYnJAuIc08DxY7tb8Wqkdh7ZK84a8Rl0Mjd8gERkxuAdx7dNexRVj4pZ2tjcx7uAMsR10du6+6HBw7NRx7fQVdZjPVaEXPW3lkckojYAwybzmtc7TcAOuu64/IuPhty1O7hycmPv6NT8s2Te/orZeE0teNz26Bu6yOWYtO4B5u+XtP8A9la3Wc27zvTr89prTHG47sLDpq2NupG9p985xe8/C8rBr3uDj8GExfnus5/N5blO3aftBERdnyiIiAiIgIiICIiAFrK39sf+W794rZoWsrf2x/5bv3ipVikiIooiIgIiICIiAiIg6A2i/wB0eJ/94Sf6LJr3yGIXSZjPQRjelsbJ5aGFmoBklfYx+6xuva46H5CtHSZy46mzHuuWnUI5jYjounlNNlgtc0zsrF3Ntm3XvG+Bro93HiV84HL2admK5SsTVLUDi6GxXkdFNGS0tduvYQQC1zmkekOIPAlB0r5OWwGUoYHbq9kqU+PisbK5atXjusdWs2Hx1JnzSR1pQJOYj1jBkIDdZmAF2jt3D8leOmtcl+1danDLastzWPmNeux00/NB+P1kEUYLi0COQkgcBG89jStO5jlFzdmWeazmcnLJZrOp2CblgCam/XfqSMa8NdVdvO1i03TvHUcSrPY7bHJ4uV82KyFuhJI0NlNaZ8QlaNd1srWndkA3iRvA6E6jRBvTk8xli7yZ7RYijDLJlKO0MN27j42vdcfV5unEHGvpv+bJXl1aBw6K70rzk2xVjFcn22k+ZgmqQZaTG0cXVuRvgksXYnSvfNXgnDS8ASRv32g8KMvbzZ00TiNrMjWuvyVXIXK9+V8kktyGxLHYldK/nJjLK129KHv4uDtQ49uqqbY7ZZPKSMlyuRuX3xgiLpU8krYg4NDhCxx3Yg7cbrugaloJ1KDcHL9O8bEcnEYe4Rvq5t7ow4hjnxz0mxvc3XQuaJZACeIEjvWV7s7/ALpMt/7vi/0WNWkMhm7c8NatYt2p69JsjadeaeWWGo2UtMra0T3FsDXFjCQwDXdbr2JHnLjab8e25abQkmFiSi2eUU32A1rRO+sHc26bdYwb5GujG8eAQdS43k1q4iTZOOjstY2kt5SDHZKxnny5B+PqOnlY97K8VF7IWthZuy85MfcuYTqCdMpcpys5cInyRSMZNIHwvc1zWSsbszuOdE4jR7Q5rmkjXQtI7QuXIuUHMtxxxLcvkW40hzDSFqcV+beCHQ82HadHOp1i9wSSdNeK+sjyiZuaxUtTZnJPtUInQ0rPS7DbFWN7Sx4hma8OY57CWucDq4cCSgo8p3/neZ/4rkP9XMo6qtqw+SR8sr3ySyPdJJJI4vkkkeS573vcSXPLiSSeJJKpICIiAiIgIiICIiC7w/3TX/v4v8xq2OtcYb7pr/38X+Y1bHViUREVQREQEREBERBt3yebDjHkYu1jXVpdNNdHPEzHO+SNvyLaNsgbju30ej5Vq7ybW6uyg/8ART+e0tjW5CNQ4cB2H1fR2rxeqx3y2ft/D2Oly1xy/wDd3zlpA6M6Na7h2OaHA/GCFbYWnATq+vXaNdRpFH7OuuqsLN4anU66fm1/69n7VWp22vAaHacOOjtSOHbqeIK5+VlJ6V93nzXdIYnsc9zm6AN8wacAR8HwLS3LxnOdtxUWAiOk3efrw3p52Mdrp6Q2PcGv/rct1YWMOII9wOOnbvOAHDj6FzlyozF+ZyLi0tJskbrtN5u4xjADoSNQG+grv0OM8y/Eed1ud8H71G0RF67yhERAREQEREBERAREQF8cy3uN8I+hfaIqnzLO43wj6FNuRLYOHNZePGSyurMfBYm52KON7wYWtIbuv4aHVQ1bi8jn+1df/BXv3GKDZ31olD8b2/1aqn1olD8b2/1aqulkUVzT9aJQ/G9v9Wqp9aJQ/G9v9WqrpZEHNP1olD8b2/1aqn1olD8b2/1aqulkQc0/WiUPxvb/AFaqn1olD8b2/wBWqrpZEHNP1olD8b2/1aqn1olD8b2/1aquiMTmalkztqW61p1WZ9ayK80Uxr2IyRJBOI3HmpmkEFjtCNOxXyDmn60Sh+N7f6tVT60Sh+N7f6tVXSyIOafrRKH43t/q1VPrRKH43t/q1VdLIg5p+tEofje3+rVU+tEofje3+rVV0RiszVsunbVtVrLqsz69lteaKZ1exGS2SCcRuJhmaQQWO0IIPBXyDmn60Sh+N7f6tVT60Sh+N7f6tVXSyIOafrRKH43t/q1VPrRKH43t/q1VdLIg5p+tEofje3+rVU+tEofje3+rVV0siDmn60Sh+N7f6tVT60Sh+N7f6tVXRORzFWCSCKxarwS2n81VjmmiiksyjTWOBj3AzP8AOb5rdTxCvUHNP1olD8b2/wBWqp9aJQ/G9v8AVqq6WRByFyqeTZSxeHvZSPI2J304myNikr12seXSxx6Oc3iBo8nh6lzlzLO43wj6F+gflNf2TzX+Hj/1MC4AVSvgRN7rfkC+0RVBERAREQEReOOnbwQeorWW60cBq4+oL1s5Pwejh6/Tx+RWSm26/JmHnZV3qbSb2jXUm0Rw/MfkW1JIRq4ka6/F+383BaY8mLJAXMnUcRvTVak8Y9J6NJYZNp6/uqL5FvF5Hb6+C8TrPTmv2/h6/SflT7/yh2a2eY77JFrG/UcAfNPwAH3J+LRfWE2eib58oLncPNJIGvbxHp7ew6rP32akBpA4gu+L4Vc82NOGh49vb2D1rhc7ru7+GL/Gwgbug/ormHlfhLM9lGHt6Q1+nHsmginZ29vmyNXUdEDQA/0Fy/5QF9sm0V/c4cyypCT6TIyuxzjr/wA4b/yL6fw78yz4/wBx8vXfRL8okitm2ezX+j8f/RVmyD1hezcbHl7faLwFeqAiIgIiICIiAiIgIiIC3F5HP9q6/wDgr37jFp1bi8jn+1df/BXv3GKK7kREUUXP3l0yyDCYVkcs0PPbUY6CR0Ej4XuilqZJr2b8ZBAP8AugVzt5fEHOYLCR774+c2qxrN+J25Izfp5Ju/G7Q7rxrqD6CAgiflDbJHZQYbL7M5PLR3p8vXpfUqfIWLdfIxyRzPcwwTOc6TzmRRnUlv2ZvY7dJ3D5R1nGsgwX1Vmy0LH7RY9lQ4l0DHyXXMsczHc5/wB1QID98N87UN09K03tHsxFsjtdiMxl57udwd5ooRZbN2H3ruDyLiXtlL3BsfNkM3g/dDg3pBHGP7JPfLMcDU2TIIIO2WGII4ggxXNCD6Qg2XyqcpOMwNWO1lJ3M5+QxVa0LDNbtygamOvC33RGo1c4taN5oJBc3XFcnXKs3KXDTOz+0+JdzL52T5nGdCrSNjdG0sjm552sv2QHd07AePBau5bdGcp2w8uQMYxbqtplUzac0MoBdDd3e4c7z8mJ3fTvc38C6WQcocjPKZRw1zbSOeO5evW9tMx0TF4uubuSsMjldzkkddrhpE0dr3Fo4EDUjRb65IuUyhn6s9mi21BJUsPqXKV6IQXKk7CfMnia9wGoGoIcexwOjmuaNYeSTjYPqrt7c5lnSnbW5OsZ9NZOjssSyiEOPuY997nEDtOmuug0t+QG7HW2p5UbEmrYa92hZk3Rro1jMtLK4NHa4hpPwoJNtB5RFCrzspwe1M2PgeWTZeHEOGMYA8xulFiaVhdCHDi4N04jTXUAzraPlBoVME7aMulsYwVYLrX1mb0stewYxE5kcrmaEiVhLXFpHHXiNFo/ObX7Q7QbG5zONlw+KwdjF5jo9J1axeyVirXitVpmz2zZjirzvfDI1pZG7d1adD6fraH/AHNM/wCAUP8AUV0G0dieWXH5TIx0MbUylmN8POSZRlUfUmvMIRO6lNdEmnS2ghpawObvHTeOh0xmX5fcdHetU6eM2gzLKEvMZC9hsa69QpSgkSxzTNkDi6PQl2413AO03tCFI+TymK+yeNioRNidHga7q8cQ0+zOotkDuHF0jpXFxcdSXOJOpJWv/IQkr9SaRhMfOMtZHppaW6tsdJe5vPadj+jGqeP3pZ6NEFn5GuShtT7b3KsglrW9rL9mvKA5olgne+WKQB4BAcx7ToQDxWB8tc5d2Z2RiwM00eR3c3brxwvc3npMfFTuiMxjzZ3lsD2tjcCHF26eDipD5HtuKa1tzPXkjmrzbXZGWCWJzXxSwySSPikiew6PjcwtII4EELI8sn9veTv/AP0v/wCtiQSTk95R6+f2UmytfSOU0bcVyBrtXVL0Vd3PQ6667vFr2E8SySM8CdBhfJ22kZU5P8Tkrz55GQ1JpJXNbLasSE3p42NYxur5ZHOc1oA9YWuOVyu/Y7PW8xXY/qztXFPUysETd5tDLSRSmK0xg4hrnOkk0GvB1oAcIgs3yd8orNnuS/D5V0HSpBEa9aAvETJLE96y1nOSkHm4mgPcTp95pw11QTPFeUBQdfpUL2H2kwpyUwrUbWZxhp1LM7nBkcTH865wc5zmaat0G+0uLQVM9suUCnjslhcXZZZdZz0tmGk6FjHRMfVEBk6Q50jSxulhmm6Hdjuz08/eUbW2hEGyc2eu4d+/tXiNKOLp2YhBPpOd4XbNp7p42t3mkc23UvadeGhl3lHPA2y5NS4gD6o5dupOg1czFtaPjLiB8ZQbU2/2+p4qbEwW2WHvzOSr4qpzDI3tbZsvaxjpy+Ru5CC4alu8eB4FW/Knyl4/CR1jcFmxavSmGhjsfCbWQvSjd3m1q4cN7d326kkDV7Rrq4A6r8rDM1vq5sBj+fjN3rXi7ZrA6ytrC3DCJntH2tjpDutLtN4sfpruO0+9opWf/VvEttEaDZeb6mh583pLprvPGIHgJjCLIJHEtaPgQRflN5Ra2W2k2DhbTymMu1M6ZJ8fmKUlG2yGbmWw2GtJcyWB7oZQHMedNziBqNerVz75S1yE7VcnlcSRmy3NSTGEOaZmQvNVjZHMHFsbnscATwJjdprunToJAREQa48pr+yea/w8f+pgXAC7/wDKa/snmv8ADx/6mBcAKxKIiKoIiIC+C/8ArsVRvzcVYg6jX16n5TqtY47ZuT7lscdB2evsVrPMXcB/1+Vfbm+tfB4dnaV0mMibUwN3sHnEdvq/6r7gk00aWnh6dQR6zr6QdUbHp28TqNfl4r0NV0m1qzIz17cNivPJXmZvbksTixzTw9I7QeAIPAjgdVtbZHlyuRDcyFdl1mn26IivYHwloHNyn4gxamyDfssXZx3v/iqprgdnD4jp+xcuTgw5Pqm3bDlyw+m6b4byy457tXx2oR6Q6Pe/N9hc7VZT/wCtmIY06NtzEDg2Ovu6/AXTPaB8fFc6c0e9r8YB/b+ZBCdPdafEAF81/D+K/r/d2/8AZyfDb+e5e7R3hj6cUGuuktomZwHwQxlrWns7XOHwLUrsjNZlntWZDNNPK98kjg0bztdOAYAAB2aADsVNsTQCT53o4neHyL3GgbvZw3nfJqV34uDj4/omnHk5cs/qqrJ8PZpwJ0HH418h+navt8ILgSNT6NdTp6PNHoXzI3UfEu7krQy/Crpsw9Py+hY2FyuApcdrtftGo1Gh9f8AR7UVjvEDt9B+ZXzTq0O+X+H9fAueWOllERFlRERAREQEREBbi8jn+1df/BXv3GLTq3B5HjwNqq5cQB0K9xJAHuGekqK7mRUelR++R+Nv0p0qP3yPxt+lRVZRblK2Co5qvWrZFsroql6HIQ8zIYnCzAyaOMucB5zNJ3+b8SkfSo/fI/G36U6VH75H42/SgxW3eylPLY+zjMjCJ6lpgbIzUtc0tcHxyRvHFkjHta4OHpb+ZRy7yS4yXG4jFTG5LUwdutcx+/YcZY5KgkbWjfLprJDGyQsDT2Na0ehTjpUfvkfjb9KdKj98j8bfpQRzlM5P8ZnKXQctVFiEPEkbg50c0EoBAlhmYQ6N2hIPoIOhBHBYTk95IqOLtMuMvZrIWIopIIXZXIz3WwRS7u+yGIhrGcGtGu7roFPulR++R+Nv0p0qP3yPxt+lBH9hthqWLkyctJsrXZbITZO5zkhkDrVhxdI6MEeYzU+5VLZfk+x9G7mb9eOQz56SKXIiZ5likMInDGsjcNGM0sSgj06hSXpUfvkfjb9KdKj98j8bfpQajwnk3bO13yNDMhPQfI6ZmHs37E2IilcNOcbT1HOP7NDK5+m609oBWZwfIxjK+Bt7N8/k7OLtvLjHatmWSvGZGS9HqPDB0euHxg7oHa55JJcSth9Kj98j8bfpTpUfvkfjb9KClhcfHWrV6kO9zNWCGvFvHedzcMbY2bzvvnbrRxWp8r5Nuz012zbDcjWivPMl/G0789XG3XucXuM8EWjg0lz/ADWPa0b50AW3elR++R+Nv0p0qP3yPxt+lBGuTzk9x2HOQ+pkToG5K5JesR72sTZpCdWwRgAQwgHQMHAAAK4z+xVO3k8Vl52ym5hul9Cc2Qtjb02JsM/ORgaSasaNNexZ3pUfvkfjb9KdKj98j8bfpQYvbjZenlcfZxmRhE9S3HuSs13XDRweySNw4slY9rXtcOwtCj03JLh37PM2YlryS4mNu7Gx80nPxls7rLJGWGkOEjZHEg9hGrSC0kGa9Kj98j8bfpTpUfvkfjb9KDT0vk14CSk+pZky1yXdjZXyNy/JYv0GQva+NmPke3mqjBugaNj4jQHXQaSnbvkmxuWxlLGZF96b6nmJ9TIm0/6qRTxR82LJuEEyzuHFxeHBzgHEataROOlR++R+Nv0p0qP3yPxt+lBq/F+T/gIXU5hFbmuU8lWy3T7NqSe9ZuVN3o5t2JNTLCwNAEQ3WcSdNSSs7ys8leLzzK4yMczJ6bzJTu05TXuVXktJMMoBHaxh0cHAFoI0I1Uz6VH75H42/SnSo/fI/G36UGsMHyA4GtPRtsjuS3qN1uQF+zaknuWrLGsZGbk7+M0bGxgNjG60bzyBq4k7VVHpUfvkfjb9KdKj98j8bfpQVkVHpUfvkfjb9KdKj98j8bfpQa+8pr+yea/w8f8AqYFwAu+/KXsMOymaAewno8fAOaT90wegFcCKxKIiKoIiIPiV3BWsJ1aPiVW6/Q8FZ1ZOOnq1+dd5NTTn3VJF4xq8PaqrGqo+ZW6DX1fw/or1o4lfb28NF5H2A+sfwCIxuUGjoT6nH/4q7cP6+QKhlx7j4z/D6Fc7vAfEo3OzzTh2/wBfSvCF96f0V8gKj4I9S8x480/lOGvb6Tr8yqHQAn1L4xX2oH1l/wC1xKgqxg68Tr+wrxrfN+MKo/TR3xHT49NB869h7ACqysyNCqgcqliNWwKNLknh+z5eCvoHa8OPH5/QsY93Z8Y+cK7pv0IPapUq6RfUzN1xHb6QfWCAQfkK+VwdBERAREQEREBfL2AjQgEeogEftX0iCl0aP3tnhb9CdGj97Z4W/QqqIKXRo/e2eFv0J0aP3tnhb9CqogpdGj97Z4W/QnRo/e2eFv0KqiCl0aP3tnhb9CdGj97Z4W/QqqIKXRo/e2eFv0J0aP3tnhb9CqogpdGj97Z4W/QnRo/e2eFv0KqiCl0aP3tnhb9CdGj97Z4W/QqqIKXRo/e2eFv0J0aP3tnhb9CqogpdGj97Z4W/QnRo/e2eFv0KqiCl0aP3tnhb9CdGj97Z4W/QqqIKXRo/e2eFv0J0aP3tnhb9CqogpdGj97Z4W/QnRo/e2eFv0KqiCl0aP3tnhb9CdGj97Z4W/QqqIKbYGA6hjAR6Q0A/LoqiIgIiIC+ou3U9gBcfzDgPl0XyviZ+jT6zoPza6/wCuPdL2WVmTUn41Z0n/ZXD4/k0P8Qq03rVlj3f7Rp62O/Zp9JXZllGM4q5avIwNF6qy8eviuOA+DUfISqhVOL0/AT+3QoLXJjUN+M/MvuMeaOI7F85I8GflgfKHL7b2AI1HgHD+v4r1unZw1+Bea+peg+j+vz+v/sg8sHzD8ITGt0jA+P5yvZvc6dnw9i+6TfMahX1MOHxkD+P8F61vBfUg9z8v8B/FfTgjL5c3ULHTcHceAKyTPlVtdh3gdO35iixaWXaNb+V/AlXVJ6xtlx3Wgjjv6fsKuaz9NFFZ2Qnh6QANPiOpHzn5F8KmJPcHvN3D/ykEfOPkKqLln3ax7CIiyoiIgIiICIiAiIgIiICIiAiIgIiICIiAiIgIiICIiAiIgIiICIiAiIgIiICIiArS4fkV2rLIHTTt1IB+X1reE9UyWUrlZUD/tI/u3/wCuZHDQq1x/3SPhjePmP8F1Rm43KoTp8KotXu8jCuHL4Z7p3w6H+Cpgr1p874wR/H+BQijlPcD4HA/OF608Bx4ej6Uyf2s8PS351ThPmj+viRpVavW9vxr5Hr/r4l6w/1og8mPD9n8e1Vqh81v5IVpaf5pV3XHmt+IfMgqH3fxAft1KOeqQcN4/GRpx9A09HxftX0WD4UTT1rlSkc4H0ftX2x44cB/Xwry12AorE5qch7G/8APwGnrbw+Dt+RfcDvSrTMP1nZ/dj8+r3qvCVn3VmIHasI9I0cPzdv/wCJJ/MrxYzFyaOGvZrx+I8D+xZJvYPTwHH1/CsZrHqIiwoiIgIs/sPs6y/LbhNyOpJXx16/A18Mk7rj6MLp31ImxkFsjoo53b3nECF2jXdgtsDsxkbjOco43IXY+P2WpUs2YgW8COdhjLd4H0a68EGJRXGRozQSmGzBPWnaA50NmKSvM0EkAuimaHAEg8SPQVboCIiAiIgIiICIiAiIgIiaoCIrirQnkZNJFBPLHXYJLEkUUkkdeNx3WyTvY0iFhPAOcQNUFuiIgIiICIiAiIgIiICIiAiIgIiIGmvD18Fjcg/VxPo9HxDsWQkfoNfkWItes/IumDN7rSV/qVtUd/tUXw7w+Vj/AOOiqzHsVtUP+1Q/lj5nfStqkJK80QhetKrOgIHcWn4f2dnzL0qlJ2IPvJD7G/8AN84VrU9yFd3DrET62En49OP7dVZ1uwfP+b0Iulz8XycP69S9aPV/H414zsI9fw/GvBw1/wC5RFvdfqP67FkIewfEsVad6Oz5Pg0WVJ0afRw+fh/FRVKE+n1nX5VXJ1VvGFXaVUU3jRVIyHNLT6fn9C+HO9BXsfbqEGEzDCJIwRpoH/JqNP4/KvGPVbaR3nxn07rvnborGNyy1OzK0n+lZqM8P69PH+KwFR/Zr6Vm6p4f1/XpWc+xFZERc1EREG++SDb3olajlc3Lj7tWgGYLEUq9OlNnqr9GA2GyBrJYqTapka7V7jISwbu84F9ly+7WMdcy1WYZ/G5SlbhrY+tHkA7CmnFJ91tqsZG6sZq27I0N39TJF5wAcFDNha0drCZ+jHUrS5KAU8tUm5kOvuq1ZdzJw15vdAMidHKI28XB0/A8NIiZLN20zeknu3LcsMLHzSvmnsTSFkEDDNM4l7iTGwbx7N0dgRU22K2tfefBg89PLdx9uRtetbsOM97D253ble5UtSayGDnHRtkhe4sLNdANCHQXNUJatizVnAE9SeetM0a6CWvI+KQNJHFu8w6H0jRbR2c5LsiaVxrMLfZtHi8tjpGOsFkdCSlK2Tgwy/YLQjnr7z3NcRuTMIJAc1RDljsMmzN+ePI1MsbBZLJdo13VKkszoWB7YIXSSasaWgb4e/f4u1JJQS7O8lOOx5pOzG0kVOK/SrWoGxY6zasb8rSZucihkIhqxkx6TOOshLwGt3CTjrnI/dZtA7AtsV3htYZB2RdrHWZjN3V96Rm8SwB32PcBPnkDe3Tvit5Td2Ge7iXV5op2t2WxUbnQvZK1sgkvuMZLCQH7r2Hd7dHt9a2lkttqFfaoc7dqx1clsbUxgv8A2GzWqWXvnmhdZDt6Mw7um814Lfske95pJRGn7uwmPmpX7eDzn1WfioBZvVpcfPjpDU3i2S7UdNI4TRM7XMOjmt0JOpa12J5QtjjjYMPMbAsfVbEV8puiLmujmdocYNd93OhoLfP83Xj5oWydoos7VoZB93M7KVIJ6Fqtu4+LDm1lY5o9H06Yp0mylko4b5LN3zXEDTVvztls+3O4jZu1RyeIgZjMJBjMmL91lV9GasyNjnyRuaXOjOkhHYSAwt3g/UFYWryMufnaGEGRG9dwkeY6R0UkRmRs46MIjON/z4ftm83g/wBzw42uO5K4LNuLHUM7Vt3YmzTZhzatmPHYqtXa3n5m5CQht8NlcIxzYbvFwJ3AHEbcrZugNu8PNFfqvps2QhhZaM0TIyR0+RrXuLtI5TEWv3DoQHDgtM+Tzm6kD8ljshYZSr5vCWcX02TzY6k8se7G+Zx4MiIdIC4kAEM10BJAXEnJtQs1bs2AzzcvYxtd1q1Skx9nHzS1ozpLYpGZ7ufa3uAa8W8dXNDvqHkypRYrE5nKZ5lCnk45nc2yhYuWmyxyaRxQRQPJmYYw575SGhhDG6PLxpJuT3BdWXZDL5a/invdirVLH0qFxl2a/YsuhLXMaxoLareabq9w4CTUhu7xjPKlchfszsRDFNFJJXp5dkzGPY98TjYpNaJWNOsZJjfpvaa7rvUiL7PckmPx80X1W2mrVqV1scmLsQUbNmW3BIxjjZngjfu0a7DIwb7nuDuJG7odMe3kcufV+5g5LMEUdCubtrKSNcKseP5tkgtGPe1DjvhvNlw0cyTzt1pevfKKuxTVtmRBNFMY9k8fHIIntkMcm48GN4YTuSag+aePBbU2v2lx0u020OOlyFaCvn9nK2NhyPOMkqwWuYlMTZ5WO3WRubYJJJA81g+/CDXOz/JRjsibjsPtIy3HRpT2Z2zY2zUsh8bdYebinkAlrSODwZAdYyGAtdvgjO1NlsE7YqN783FGx2da9+W+olySaOw6gA7Gcw13PPja0l3Oh3Nkjs1V3yNbIjC28rLlcph47EuByEFatWvxWHSRuMUs1iR2jRFGOYjDA7Rz9+Q7o5sqOcn9VmT2PnwVe3SgykGcZkmV7tiOp0iqaccBdA+Tg9zXl+o9G4NdN5uoYbGcnVOPH1snnM03FVsg6b6mQx0Z79y5BEQDbdBE8GvX4tdx14SR8QXNBm3JPszAyrtrQrZehbqzYXHPblW78NWKKU5B0j7cbtXV5Imte58eriAG+k6Czz2GbtBiMAzH3sbFkMFROJyFC5birP0g5qKO3WfqWT138yXb7SQRI3jq0hW+x1GvjcdttRdlMdckfg6IElOcPgfZc+62WpXkfu9KfG58TS5g01laNAdQAjmW5PKT8Rcy2FzgyzMY+BuRgkx9jHSxMsO3I7ELbDyXxak8CBwjk46tLVrpbP5J70Mezm20ck0Uck9LEthY+RjHzOFi4CImOOshBkZru66b7fWtYICIiAiIgIiICIiAiIgIiICIiD5m0DSe066AafKfmWCuu9fyBZXITkN3fz+o+rT9iws2p/r+K6zsz7reRyo1PumH8sfMUmcvMa7/AGiL8v8AgU91qR6IFU00CoPK2y93l8uC9AX04Io7jE4eoOHyjUKxrH+v4fMrz71w9Y+lWFd3Z+1Fi+9Hp/h+1eH4F6w/18ui8ePnRFjb90PjCy0h80D16fsH/ZYayfOHr1Hz/Ass48R+SD8v/ZZncr4BVUDgqT+1VYStI8KRqo5qpByDEbS+7iPra4f/AJD6VYxngsntO3zInep7mn/mbvD9z9qxTFj3bjJVjwCzNB3DT8/8PkWErOWXxzxqQfVwVs9EZBERcVEREF3hsnPVsQ26kz69qvIJYJ4yA+N4BGo1BBBaXNLXAtc1zmkEEgzKXanCWnc/kMHPVuFwkksYG82lDPLrqX9AtQSx1XE6EmFwBJJ0BUCRBv8A5KeVx4snEUG1sRTtQZF7b+ayNrIzRZHocj6lqa1be2GOIzRRB0DYt0mRxBLj52n9rdo23I6bBjcVRlqtnZNPjKsdMXnSvY5sk8cIDNWBmjd0AfZH6aAhowCIrwBAF6iI8DR6AAhaO3Qar1EHmg9S9REHgaB2AD4k0XqIM1itk8hYrm1XpyywDniHt5sOl5hu9OYInOElrcHujE127oddNFTbsxe6GcgKkvQhG6YzeYPsDZOadYEW9zjqwk80zBu4CCC7gVO+TvabF1W4mSaWOGSqLjLokxrr9x0lmS02OanckJbRpthngLmQBku9DP5shl3lg8lfx0tevM69dZYrYKrhjRqxOhfO+pXbSLjbfrH9TJ4mmV8ThvkyPZu8d5BhMpsdkK0LZrFCaKNz4o+xjnslnaXwRzQRuMleV4B3WSNa52nAFZDKcn9+Cn0izXljmdkqmMhqCNs0k81qC7KWtdDI7dsxuqMjNct39bLNd3gHTobcYqvJanrvhlacthsnVqx4t9ed8GMyJsurXslM581zIGKQfZJXui3oXuD9ZN0YvZrabF4x0LobdnJaZ+DJSA1HwFtP6m5ig92k79JMgx2Qje4cGOLGAPPEtCG2Nick2eGq6hM6ewyeSvHHzc/PNqsc+yInwucySSNrSXMBLm6tBALgDVv7CZWGKSeWhK2GGF1h0ofA9hgjbvyzwmOQ9IiY3i90W8GDXe3VKRtdTgjjqwzV3Rtr555fjsZ9S6rbOQwc2LqBsTtZpJ3PLOckO6xrREBv7pcsZhtpqsbsQXueG0tn85jptIyd21kOsHMNYPvmH6o1dXDgNXa+5RUXtYC3HJajkrSMkoxMmttdu/7PFI6Bkb3nXTdcbNcDQnXnW6arHLY+22R3MFjWSRzQ5LKVqcd9szCx0mOwMlqti592TR+7YbJAd8jzvqU0gkEa64RBERAREQEREBERAREQEREBERBYZEt11dx4dnxcOPyLDWrGvBo0H7flWZzMO84doBY3s4DXdAPH4wsBYljbwHnH4Oz/AKrtOwtnqphxrYjPqJPyAj+KtZZtf+ivtnRq95P3rQPEfoaVJPUqSSj0KjuqtJ6PhC+AFth4F8r6cvkFB56f69Tliq54gLMMb2n1D+BWGrlS3TUZOM/1+ZevOo1/7f12KjGV5IeH9a/OirOx7sfGPnWXb2n8w+QaLCzO4/Bqs8W6E/GkSqcoXxE/0L7kVIKsrtrgvl7V5GVV3UGLz7PsB+B7D+0t/wDksA1yk2db/s0vwNB+R7VFI+Px/Cs1uMjBMFmsYQSC0/Boo7CSODmlZvERjfaW/nB9CQrOIvXdp/ivFxBFDOtc/ch8L/bTrXP3IfC/21F0maKGda5+5D4X+2nWufuQ+F/toaTNFDOtc/ch8L/bTrXP3IfC/wBtDSZooZ1rn7kPhf7ada5+5D4X+2hpM0UM61z9yHwv9tOtc/ch8L/bQ0maKGda5+5D4X+2nWufuQ+F/toaTNFDOtc/ch8L/bTrXP3IfC/20NJmihnWufuQ+F/tp1rn7kPhf7aGkzRQzrXP3IfC/wBtOtc/ch8L/bQ0maKGda5+5D4X+2nWufuQ+F/toaTRxJOpJJ4DUnU6ABoGp9AAA+IBeKGda5+5D4X+2nWufuQ+F/toaTNFDOtc/ch8L/bTrXP3IfC/20NJmihnWufuQ+F/tp1rn7kPhf7aGkzRQzrXP3IfC/2061z9yHwv9tDSZooZ1rn7kPhf7ada5+5D4X+2hpM0UM61z9yHwv8AbTrXP3IfC/20NJmihnWufuQ+F/tp1rn7kPhf7aGkzQlQzrXP3IfC/wBtOtc/ch8L/bQ0kmVk1c4NHA69uoHH8yxM1R26fNG8ezdafl10Vj1rn7kPhf7ada5+5D4X+2t+M0ozwP103JD69GO01+DgsxgK7mxlxaQXOPAgg6DQdhHwH5VjetdjuQ+F/tp1rn7kPhf7aeM0lQHDsTc9OiivWufuQ+F/tp1rn7kPhf7avmJ4Ulew+o/t0XjmeoH5FG+tc/ch8L/bTrXP3IfC/wBtPMPCkkTiGyHQnzCR8YBWJghdp7l3yH6FY9a5+5D4X+2nWux3IfC/21LyLIzETXd0/IV7K06cGnX4lhutc/ch8L/bTrXP3IfC/wBtPGaXNiJ3dce370/QpH2tadDxaD+fQKJ9a5+5D4X+2nWufuQ+F/tpOTRZtJpG/AfkVHcOvYfkKj/WufuQ+F/tp1qn7kPhf7avmJ4UnY0+oqozX+vQop1rn7kPhf7adap+5D4X+2nmHhSm3DvRSNP3zHD19o4cPSooamhIdE/XUjVodpwOnDhoQvrrXP3IfC/20612O5D4X+2peRdLquw6aFjyPQXNOo/YspjXaHsIPwtKwPWufuQ+F/tp1rn7kPhf7aeM0mQK9UM61z9yHwv9tOtc/ch8L/bWNmmAREUUREQEREBERAREQEREBERAREQEREBERAREQEREBERAREQEREBERAREQEREBERAREQEREBERAREQEREBERAREQEREBERAREQEREBERAREQEREBERAREQEREBERAREQEREBERAREQEREBERAREQEREBERAREQEREBERAREQEREBERAREQEREBERAREQEREBERAREQEREBERAREQEREBERAREQEREBERAREQEREBERAREQEREBERAREQEREBERAREQEREBERAREQEREBERAREQEREBERAREQEREBERAREQEREH//Z\n"
              }
            ],
            "_view_module": "@jupyter-widgets/output",
            "_model_module_version": "1.0.0",
            "_view_count": null,
            "_view_module_version": "1.0.0",
            "layout": "IPY_MODEL_a47ce51f19fc43d5b15c0f956b178b78",
            "_model_module": "@jupyter-widgets/output"
          }
        },
        "b7bf09cfd89d4f4ca498c27f6bf38f6e": {
          "model_module": "@jupyter-widgets/output",
          "model_name": "OutputModel",
          "state": {
            "_view_name": "OutputView",
            "msg_id": "",
            "_dom_classes": [],
            "_model_name": "OutputModel",
            "outputs": [
              {
                "output_type": "stream",
                "metadata": {
                  "tags": []
                },
                "text": "Video available at https://www.bilibili.com/video/av456396195\n",
                "stream": "stdout"
              },
              {
                "output_type": "display_data",
                "metadata": {
                  "tags": []
                },
                "text/html": "\n        <iframe\n            width=\"854\"\n            height=\"480\"\n            src=\"https://player.bilibili.com/player.html?bvid=av456396195&page=1?fs=1\"\n            frameborder=\"0\"\n            allowfullscreen\n        ></iframe>\n        ",
                "text/plain": "<__main__.BiliVideo at 0x7f7d588f6590>"
              }
            ],
            "_view_module": "@jupyter-widgets/output",
            "_model_module_version": "1.0.0",
            "_view_count": null,
            "_view_module_version": "1.0.0",
            "layout": "IPY_MODEL_f8b7829207af4abfbfa5aad86918ffd5",
            "_model_module": "@jupyter-widgets/output"
          }
        },
        "a47ce51f19fc43d5b15c0f956b178b78": {
          "model_module": "@jupyter-widgets/base",
          "model_name": "LayoutModel",
          "state": {
            "_view_name": "LayoutView",
            "grid_template_rows": null,
            "right": null,
            "justify_content": null,
            "_view_module": "@jupyter-widgets/base",
            "overflow": null,
            "_model_module_version": "1.2.0",
            "_view_count": null,
            "flex_flow": null,
            "width": null,
            "min_width": null,
            "border": null,
            "align_items": null,
            "bottom": null,
            "_model_module": "@jupyter-widgets/base",
            "top": null,
            "grid_column": null,
            "overflow_y": null,
            "overflow_x": null,
            "grid_auto_flow": null,
            "grid_area": null,
            "grid_template_columns": null,
            "flex": null,
            "_model_name": "LayoutModel",
            "justify_items": null,
            "grid_row": null,
            "max_height": null,
            "align_content": null,
            "visibility": null,
            "align_self": null,
            "height": null,
            "min_height": null,
            "padding": null,
            "grid_auto_rows": null,
            "grid_gap": null,
            "max_width": null,
            "order": null,
            "_view_module_version": "1.2.0",
            "grid_template_areas": null,
            "object_position": null,
            "object_fit": null,
            "grid_auto_columns": null,
            "margin": null,
            "display": null,
            "left": null
          }
        },
        "f8b7829207af4abfbfa5aad86918ffd5": {
          "model_module": "@jupyter-widgets/base",
          "model_name": "LayoutModel",
          "state": {
            "_view_name": "LayoutView",
            "grid_template_rows": null,
            "right": null,
            "justify_content": null,
            "_view_module": "@jupyter-widgets/base",
            "overflow": null,
            "_model_module_version": "1.2.0",
            "_view_count": null,
            "flex_flow": null,
            "width": null,
            "min_width": null,
            "border": null,
            "align_items": null,
            "bottom": null,
            "_model_module": "@jupyter-widgets/base",
            "top": null,
            "grid_column": null,
            "overflow_y": null,
            "overflow_x": null,
            "grid_auto_flow": null,
            "grid_area": null,
            "grid_template_columns": null,
            "flex": null,
            "_model_name": "LayoutModel",
            "justify_items": null,
            "grid_row": null,
            "max_height": null,
            "align_content": null,
            "visibility": null,
            "align_self": null,
            "height": null,
            "min_height": null,
            "padding": null,
            "grid_auto_rows": null,
            "grid_gap": null,
            "max_width": null,
            "order": null,
            "_view_module_version": "1.2.0",
            "grid_template_areas": null,
            "object_position": null,
            "object_fit": null,
            "grid_auto_columns": null,
            "margin": null,
            "display": null,
            "left": null
          }
        },
        "e1a54f3fcfcb4880a476bbc919a5130b": {
          "model_module": "@jupyter-widgets/controls",
          "model_name": "TabModel",
          "state": {
            "_view_name": "TabView",
            "_dom_classes": [],
            "_titles": {
              "0": "Youtube",
              "1": "Bilibili"
            },
            "_model_name": "TabModel",
            "_view_module": "@jupyter-widgets/controls",
            "selected_index": 0,
            "_model_module_version": "1.5.0",
            "_view_count": null,
            "_view_module_version": "1.5.0",
            "box_style": "",
            "layout": "IPY_MODEL_d231775d65814fae99a52037b6218784",
            "_model_module": "@jupyter-widgets/controls",
            "children": [
              "IPY_MODEL_f93d64d3d1c64b409217a2004814de1f",
              "IPY_MODEL_19e2d268118d4b39bce54f51b7a6d928"
            ]
          }
        },
        "d231775d65814fae99a52037b6218784": {
          "model_module": "@jupyter-widgets/base",
          "model_name": "LayoutModel",
          "state": {
            "_view_name": "LayoutView",
            "grid_template_rows": null,
            "right": null,
            "justify_content": null,
            "_view_module": "@jupyter-widgets/base",
            "overflow": null,
            "_model_module_version": "1.2.0",
            "_view_count": null,
            "flex_flow": null,
            "width": null,
            "min_width": null,
            "border": null,
            "align_items": null,
            "bottom": null,
            "_model_module": "@jupyter-widgets/base",
            "top": null,
            "grid_column": null,
            "overflow_y": null,
            "overflow_x": null,
            "grid_auto_flow": null,
            "grid_area": null,
            "grid_template_columns": null,
            "flex": null,
            "_model_name": "LayoutModel",
            "justify_items": null,
            "grid_row": null,
            "max_height": null,
            "align_content": null,
            "visibility": null,
            "align_self": null,
            "height": null,
            "min_height": null,
            "padding": null,
            "grid_auto_rows": null,
            "grid_gap": null,
            "max_width": null,
            "order": null,
            "_view_module_version": "1.2.0",
            "grid_template_areas": null,
            "object_position": null,
            "object_fit": null,
            "grid_auto_columns": null,
            "margin": null,
            "display": null,
            "left": null
          }
        },
        "f93d64d3d1c64b409217a2004814de1f": {
          "model_module": "@jupyter-widgets/output",
          "model_name": "OutputModel",
          "state": {
            "_view_name": "OutputView",
            "msg_id": "",
            "_dom_classes": [],
            "_model_name": "OutputModel",
            "outputs": [
              {
                "output_type": "stream",
                "metadata": {
                  "tags": []
                },
                "text": "Video available at https://youtube.com/watch?v=preNGdab7Kk\n",
                "stream": "stdout"
              },
              {
                "output_type": "display_data",
                "metadata": {
                  "tags": []
                },
                "text/html": "\n        <iframe\n            width=\"854\"\n            height=\"480\"\n            src=\"https://www.youtube.com/embed/preNGdab7Kk?fs=1&rel=0\"\n            frameborder=\"0\"\n            allowfullscreen\n        ></iframe>\n        ",
                "text/plain": "<IPython.lib.display.YouTubeVideo at 0x7f7d522eaf90>",
                "image/jpeg": "/9j/4AAQSkZJRgABAQAAAQABAAD/2wCEAAUDBAkKCAgICAgICAgICAgICAgICQgICAgICAgICAgICAgIChANCAgOCggIDRUNDhERExMTCAsWGBYSGBASExIBBQUFCAcIDwgIDhINDQ0SEhISEhISEhISEhISEhISEhISEhISEhISEhISEhISEhISEhISEhISEhISEhISEhISEv/AABEIAWgB4AMBIgACEQEDEQH/xAAdAAEAAQUBAQEAAAAAAAAAAAAABgMEBQcIAQIJ/8QAWBAAAQQBAQMHBQcRBQYFBAMAAQACAwQFEQYSIQcTFBYxUpIIIkFR0jJTYXGRsdEVGCMzNEJUVXKBk5ShssHi8DZzdLO0JDd1guHxCTVidsIXg6K1Q2SG/8QAGgEBAQEBAQEBAAAAAAAAAAAAAAECAwUEBv/EACwRAQEAAgECBQIFBQEAAAAAAAABAhEDBDESEyFBYTKBBTNRcbEVkaHB8BT/2gAMAwEAAhEDEQA/AOMkREBERAREQEREBERAREQEREBERAREQEREBERAREQEREBERAREQEREBERAREQEREBERAREQEREBERAREQEREBERAREQEREBERAREQEREBERAREQEREBERAREQEREBERAREQEREBERAREQEREBERAREQEREBERAREQEREBERAREQEREBERAREQEREBERAREQEREBERAREQEWf6qT9+HxP8AYTqpP34fE/2EGARZ/qpP34fE/wBhOqk/fh8T/YQYBFn+qk/fh8T/AGE6qT9+HxP9hBgEWf6qT9+HxP8AYTqpP34fE/2EGARZ/qpP34fE/wBhOqk/fh8T/YQYBFn+qk/fh8T/AGE6qT9+HxP9hBgEWf6qT9+HxP8AYTqpP34fE/2EGARZ/qpP34fE/wBhOqk/fh8T/YQYBFn+qk/fh8T/AGE6qT9+HxP9hBgEWf6qT9+HxP8AYTqpP34fE/2EGARZ/qpP34fE/wBhOqk/fh8T/YQYBFn+qk/fh8T/AGE6qT9+HxP9hBgEWf6qT9+HxP8AYTqpP34fE/2EGARZ/qpP34fE/wBhOqk/fh8T/YQYBFn+qk/fh8T/AGE6qT9+HxP9hBgEWf6qT9+HxP8AYTqpP34fE/2EGARZ/qpP34fE/wBhOqk/fh8T/YQYBFn+qk/fh8T/AGE6qT9+HxP9hBgEWf6qT9+HxP8AYTqpP34fE/2EGARZ/qpP34fE/wBhOqk/fh8T/YQYBFn+qk/fh8T/AGE6qT9+HxP9hBgEWf6qT9+HxP8AYTqpP34fE/2EGARZ/qpP34fE/wBhOqk/fh8T/YQYBFn+qk/fh8T/AGE6qT9+HxP9hBgEWf6qT9+HxP8AYTqpP34fE/2EGARZ/qpP34fE/wBhOqk/fh8T/YQYBFn+qk/fh8T/AGE6qT9+HxP9hBgEWf6qT9+HxP8AYTqpP34fE/2EGARZ/qpP34fE/wBhOqk/fh8T/YQYBFn+qk/fh8T/AGE6qT9+HxP9hBM0RFpkREQEREBERAREQEREBERAREQEREBERAREQEREBERAREQEREBERAREQEREBERAREQEREBERAREQEREBERAREQEREBERAREQEREBERARFGpdqwHObzBO6SNec9R07iipKii/W4fg5/S/wAidbh+Dn9L/IhpKEUX63D8HP6X+ROtw/Bz+l/kQ0lCKL9bh+Dn9L/InW4fg5/S/wAiGkoRRfrcPwc/pf5E63D8HP6X+RDSUIov1uH4Of0v8idbh+Dn9L/IhpKEUX63D8HP6X+ROtw/Bz+l/kQ0lCKL9bh+Dn9L/InW4fg5/S/yIaShFF+tw/Bz+l/kTrcPwc/pf5ENJQii/W4fg5/S/wAidbh+Dn9L/IhpKEUX63D8HP6X+ROtw/Bz+l/kQ0lCKL9bh+Dn9L/InW4fg5/S/wAiGkoRRfrcPwc/pf5E63D8HP6X+RDSUIov1uH4Of0v8idbh+Dn9L/IhpKEUX63D8HP6X+ROtw/Bz+l/kQ0lCKL9bh+Dn9L/InW4fg5/S/yIaShFHKe1AfJHHzBG+9jNec103nBuum5x7VI0BERVBERAREQEREBERAREQEREBERAREQEREBERAREQEREALWVv7Y/wDLd+8Vs0LWVv7Y/wDLd+8VKsUkRFFEREBERAW/X+SLtaASK1B2noF2LU/AN4AfKtBLtnywuTLaLK7W4y1galkiLEVIRkIpW1Y6s7b+Re4myXtMbmslY47urtHDQEnRByJt3sdkcRcdQy1OWlbaxsnNybjg+N+obLDLG50c8RLXt32OcNWPGurSBlOVDk1yWDdSZk2QsN+t0qvzMrZtYtQPO3fcu4jgtueXNtxTv3MNjqtuPIWcNTlhyN+HQwzXJxWEkbJG8JC013OO7q0Gct11a4DA+VlsFHiJcE2LIZS/0zFiw45Oy2y6A7zRzVctjbzcPH3PH40Gj0XRmU5JNmdnaNB+2l3Ly5jIQi0MNhRUD6cDxujpL7PB7mvDm74ewFzJGtEgYXmPcsnI/RrYWntRszfs5LA2pOjzC4xrL1GwHuj0n3I2NcwyMcwncboTHoXtka5BHM1yVug2Px21hvNe3IZF9AUOYLXRFjr7edNnnSH69BPm7g+2dvDjrddK7bf7nNm//cU/+Zn1H+TfkfxTNnute1t65Txc8pgx1LHNiN+/I1zwC107XNY1xhm0aQNWxueXtboSGikXQl3kiwGZwmRzGxdzKGxiWunv4bLtrmz0cNe8PrvqjTUshlc1u9IXbhb5rtAY55PfI/DmIclmMxdfjdncPG5121EA6zNI2PnDBWBY8Nc1ha4ndeSZImtY4v1YGnlJuTPYe7m8hHjMa2J1qSOWVomkETN2Fhe/V57DoFvjkv5Ldg9osm2lisntHTkjbM+SnfbSbLbhijAE9GzHFIyPR5a5zJRvODnaNaGlQzkF5P4bm20+D6dkqUEEuWiZaoTsr3tymZWs1m5st84MG9o0a6nsQagzeOkq2rNScATVZ5q0wad5olgkdFIGuHuhvNPFWa2bspyW2cxtZbwFKZ32K/fbPdtEyviqVbL45bc+7pz0x80aDd3pJWjVoJI2DtXslybY27Jh7eS2ot2oJDDbv0hQNStPH5ssWj4d4gOBBDGS6HUb3A6Bzii2Fyd4jZmS5knZzKX6uNrF3QG0oBJeyAdK8RtBfE5kDhE0OJe1o1cBqDoDsqxyV7LZfZzM5rZS1moLeBhE9ujmOiO5yBrJJXSf7K07jnxwzlrg8jWAtLG67yDX/IryTuztXPWW3m0/qHR6aWGuZ+k/Y7UnNhwlZzX3NpvaO932cOOs1075En/lW33/AAEf6bKLmJAREQEREBERBd4f7pr/AN/F/mNWx1rjD/dNf+/i/wAxq2OrEoiIqgiIgIiICIiAiIgIrea6xp0JJPZwGo+f9qqRSh3YdT6vSpuLpURERBERUEREBERAREQEREBERAC1lb+2P/Ld+8Vs0LWVv7Y/8t37xUqxSREUUREQEREBdf8AlybbZnHbXYxuIyWQqOOGpyNgqTTCKWc5HJtG/VaTHYc4MY3de128GgEFcgLfx8rva38IoD4qUX8SgmPlqYVkuA2W2hvVI6G0V+KKLJwsjEEk5dTZNI+xC4b7ZYZGtbo7zmCxuO13W6e+WxcZBldirErS+KDG1ppGgal0cViF72geklrSFzvyjcoGVzdhtrMXpbksbSyIOEcUULCQS2GCFrY49SBqWtBdujUnRXXKfyk5LOOpPyb4XmhW6LX5mJsOkWoOjt33TuA4oNzf+IZQlO0GOyTQZKF3D121LLfOhkdFNYfJGx44Ehk8MnxTtKu8RVfR5GsoL2sJzOaglxjJNQ6WPpOMcNxr9CA5uOuyjTtaN7sOq1tyeeUNtBiqTMbHLUv0IgBXrZOs22ysBroIX7zZA0a8GucWt0AaBx1jfKtypZfPzxzZa1zrYA4Vq0TGw1awdpvc1Cz746DV7i5xAA10AADb+23+5zZv/wBxT/5mfWT5ddbvJfsbdpB0lXHvjq3eba4iCdkEtN0k4A+xt5+FzA52gJsR6Hz266FyPKLkJsBU2bkfCcXStuuwMETRMJ3m0SXTdrm625uHwj1LI8kvLBmcBzzMZZZ0Wyd6xRtRixTlfu7nOGJ3GOQtDQXMLS4MaHahoADdXkDsNWLarM2g6PF1cXzc8zwRE+RnOWXsaSNJJGRRnVo1I5+PvjVyJ4+TKcle1OHxsYmyUOSjuPqRavsTwtfjLTHCJoLnSPZQssY0Al7qwA4lam5UuXbO5uo3H25q9bHBzXuoY6AVK0rmO32GYBznytDtHBjnFu81rtN5oIv/ACZtmNprVi9d2TvxVL2PjgEsT7DYX247Jm3Y2wzRugssaYCS2bRoJjI46EBsfyFeTrLw7SNylvHWaVKvVtQumuxPq87PNGWshrsmaHTv0a9x3QQ0RnUgloNr5Ln+9G7/AIraH9+wtqcnp2nx1mTajlGysdenjKlplGg6bH781uZobvxVsbpBJMYudY3iZCZdOA1XIOyPKRfxualz1AxR3ZZLcn2WMTRjpheZRuu7fdnQoOhvJEykEPKRtJBKWNlu/VuGsXHRz5Y8rHZfCwekmKCV/wAUC5p5QdmbuPy1zHX45umw2ZI3l7X79gukO5Yj3uMjJQQ9rhrvB4I11VlPtBaOQflGTPhvPtvvCeAmF8dl8pmMkRYdYyHuJGnYt0Q+VttSIWRufjJZ2M3W3ZKLDa7NC7zXCIO+KPT4EFTyeeTbGuwm0O1Gco2MmzBF8UWGZJLW5yxDGyWV9t0f2RkTOcj19DWsmLmv03Vs3ka2o+qWyPKDPDs7jMHTZhZWVpMZUnhFwihlTMyxakeW25IBzZ80N3eknUeeFzxyactecwt27eo2Y3vyUrp78NmJslazM975DM6Jm7zcgdI86xlvutOzgpNX8qLaluQdeNqtIw131hjX1wMYyJ5a47taNzSZN5uvOOcXaEt13fNQTDyJP/Ktvv8AgI/02UXMSn2zPK1lKMmdkp9Eh6wiZuQjbXZzQZM6wXMrM7K7B0qUADsG76lAUBERAREQEREF3h/umv8A38X+Y1bHWuMP901/7+L/ADGrY6sSiIiqCIiAiIgIiIKVmw1g1cdPQB6SfUFZWMkNzeAHbwB473q7PmVPaOEjddoS4t0aBqdNeOmg++PDh8S3Nyc8lrYoIZbjN+09jXOaRvCDVo+xs9G963fBwXz83POObr6un6e8l9GjXCw//wDik07S0tO7r3tdOB7e31q4q880t32Pbp2OAO98BB9fArrCDZuu0ac031aaD9vrX07ZSo8t3q8fA6jQAen1L4b+IfD0P6d6fV/hy5HM4aE6kffA6gg6akj06cVeafAuksvyfULETon12RkjzZI/New+sEdvxFaB2xwb8Zb6FZcXNcDJVn7Gyxa6aHuvadAR8IPAEL6eDqpn6Pj6jpLx+veMUi9e3QrxfZHxCIiqCIiAiIgIiICIiAFrK39sf+W794rZoWsrf2x/5bv3ipVikiIorK4PZy/cZPJRoXbjKrQ+y+pWnsMrscHua+d0LCIWkRyHV2n2t3qKxS63/wDD6zsOPo7Z5GzvdHpQYizPuDeeIYhl3yua375wYHHT06aLXHldclUeHyUeSxgY/AZsdLx8kGjq8EkjWyyVWPZ5vNEPEsWmgMb9Brzbig1BlMFcrxVp7VO1WguMMlOaeCaGK1G0MJkrSSNDZ2ASRnVhI89vrCxy6P8AKr/snyZ/8Ftf6bCKNbE8gjpsZVy+dzmN2apZDjjRf8+zdZoDzzYC9m5AQ5hDt4khwdoGuYXBpVFPOWjkuu7P24YLUkFqtch6Tj8hUcX1blckaPjcRweA5hc3jpzjSC4Oa41eVLkvmw2P2eyE1qGwzaHHjIQxxse11dhgpz83KXcHu0uNGo7hQa+RbHfyTzjZJu1vS4ejuudD6HuSc9vc8Yd/nPc6ajXRZ7kx8nrJZvCNzGPs1iX3+g9Fl34+ba10fPWprHFsdeNj3SHgXERkNDnFrSGmkWzNvuSgVsnjcThctS2mt5FugGKdC9kNjnHMMD3tne1oDW75e8sAbq46AEqev8mavFMzHXNs9n6ucfuMGLLy7dnlAMMD5nSNc2R+9Ho3mtTvt0DtRqHOyKR8o+xV/C5GfF5OHmbMOhBad+KeJ/GKxXk00kheBwPAghzXBrmuaN15ryT7tO29uRzmKx+JihhfLmbjjXrmed0zW1II5nN56cCJjjq5o0lboSeCDnFX2CxFq3O2vRq2bllwc5sFSGWxO4MG85zYoWlxAAJJA4ALYHLtyOWtnnUZTcrZPG5OIy0MlT+1Tta2N5DmguDCWyse0tc5r2uBBOjg2U+Qf/bWj/hch/pJEGmNocfcr2HwZCC1WtsDOchuRyw2GhzGvj345wHtBY5pGo4ggr3Z/BXLspgx9O1enDDIYacE1mURtLWukMcLXODAXNBOmnnD1rpzy88RFchwe1lQDmrkcmKubpBEdqs+Z8cbiB50rXMvxOP/APUaFIvIDwsVCm/NWmaWM9kmYPF6jzjFWhmu23scNdI3GvJrr99QA9IQccZGlLBLJBYilgnhe6OaGZjopYpGHR0ckbwHMeCCCCAQrdbP5ZsHav7c5uhQgfZt2s9dhggj03nvdZk9LiGsYAC4vcQ1rWuJIAJU6f5M1eKZmOubZ7P1c4/cYMWXl2k8oBhrvmdI1zZH70ejea1O+3QO1Goc7IpJyjbE38NkpsXk4OatQkEbp34p4n/ap68gH2WF47D2ghzXBrmuaNtxeTZ0atWftBtPhdnr9yITVsbdeDMGO4NNqQyMFfztQSA9o0I11BADWG0vJvkqWIx2ctRRNx+Udu05GzRvked17/Piad5nBju1Q9db+Vbs/PjtgNkMdaMTp6lt0L3wPEsMmkFktlhkHu4ntLXAkA6OGoB1A1Pybch0l3GNzmWy+P2dw80pgqWsgd6W5KC4EVq+8zfZ9jl47wP2JxDSAXANQKYbQ8nGSp4bH56zFE3HZR5jqSNmY+RzgJT58QO8waQv7fUPWsvy18kdvAupzGzWyeLyUfO4/K0nb1awAAXMcNTzcoa5rhxc1zXAtcSHhu1+XD/dbsR/i3f5d9BzCi3TsByCmziIM7ms7jtncdde6Og66DJPaLHPa54hL4wyM824t84khpdoG7pdAuVTZOvi74qVctRzULoI523ce9r4fsheDE7de7cmbucW66jeCCJoiILvD/dNf+/i/wAxq2OtcYf7pr/38X+Y1bHViUREVQREQEREBAi9aeIJ7PT/AEFKrKbA4sT5SrvjfZHIJnajVriw+YwAjiNdD+b5en4B8Ho/7rS3IPihLNYsuA3YXbo4AauPZp/XpW3bmarVzu2JmRuI1DXHQ6dmp4cF4vVZeLPU9nt9HjMePd913M8a/wBfnXsUo9fasbDnKsn2uaJ4Pdc0kfIVWM8YOocNPh07fSviuNejLLPRmqp1HHj6v6K1X5TeGbLjIren2SnZjIcO3mpvsUrfi1Mbv/thbMo2Gbvuh+cj9ijPLHDzmFu6AENiMnoI0bx1C7cFuOcvy4dRJlhZ8OY6kjvcPIJb2OHY5vwK4VKtFo3Xh6NPj0OunwfSVVXv4dn5vLuIiLbIiIgIiICIiAiIgBayt/bH/lu/eK2aFrK39sf+W794qVYpIiKK6P8AJU/snymf8Fq/6bNrO+TFtFV2jwVzk/zcoEnNPsbP25NHyQviDpeaj1Ic58Dt6RrQfOhdYZq1rQDpnkr5UDiMTtLixRFobRUoqZnM5h6Hzcd2PnBHzTuf16Zru7zPtfbx4QbBZWepar3KkroLVWaOeCZmm9HLE4OY4Agg6EdhBB7CCEHSflpYWejgOT7H2mhtmljsjUna07zRLXiw8T9133zNWkg+kELZnla39koLOGbn8XmrkJxgGLlxk0MdJsDZNHxNa6ww88GmuSdNN2SHjwOnOflH8uMm1LMSJccyhJjG2w90dh1hth9sU99zWOiaYGg1SQ3ef9s014anI7G8vcX1GgwG02Cr7R42oGMovfYkp3acTWlgjjssY5xa1mjG7hjcGjdLiNAAqeUPyq4PLYbB4nDUclXGEdJHDJkOjuc2m+JrOZbLHO9zjrFD2gDSJvqWe8rv+zXJp/7bb/oMKtY8qm3GHvVq1TDbMVsDHXmfK6dtqS9cstc3cayWxNG1+4Pdbpc7ip9s75Q9E4XGYraDZWln5MLE2DG2ZrAhDIWNjjZHJGa8nARxRNdod2TmY95uo3kEjv1pI+RiDnI3x85mBLHvtLd+N12Tdkbr2sOh0Pp0TZi7LFyM5QwyviMmY5mQxuLC6GW1RZLES3juPaS1w9IcQdQSFDOU7yjLOZ2flwdrGwROkux2I7Febm4K1eBw6PSgpCHzY2Rhrd7nOOhOnFRqlyslmxtjZHoAIsXm3fqh0jQs0mgl5vovM+d9o03ucHuuzhxCcf8Ah+RwnbAGYNMjMXedV3tNROTAxxZr2O5h1gcPQXLTXKY+Z2bzDrOvSDlcgZ973XPG3MZdfh395W2xe0tvGZCrk6Epht05RLC/TUa6Fr2Pb9/G9jnsc30te4elbytcvuz9i4zM39hKdjOtMb32WZKeKnNOwfdElEwOjc/e0PniRx0Gr9QCgznl/t1GyMk4H1Rfh5BdJ0506dFcwP8AToJn29NfSX/Crf8A8RrJTu2joVHTSGtDiIZ4oCTzTJp7Vxk0rW9m+5sEIJ7dI2+paO5WuUG9n8nLlMk5hme1sUUUQLYa1eMuMdeFriSIwXvdxJJdI8niVnPKI5UztLlosoaIx/NUYqXMCx0rURTWJuc5zmY9Nekabu79528eAbY8ok68m+wRPHgB+YVXgD5APkUV8g/+2tH/AAuQ/wBJIovyh8rRyWzmB2f6AK4wnZb6Rzps/YnR/aOZbzPbr7tyxfITyhnZ/NQZgVBe5mKxF0czdG3ufidFvc7zUmmm9rpunXT0IOiOTZjtoNm9utkvOlvY/JXcpiI9Yw9xdblnZXhL9A0G1BIxznaaDJdo9GZhsx0duNgtjqr2mDZylObZjJayXKX8bZmsSPjHAuLd2UOPEG7IOGp15f2H5U8hic3bzmL5qGxbNsPimaZ4uZtzCd0Thq3f3XtjIPDjGD8CrbG8qlmrtVHtXchF+2LVm3NDzhrtkfZhmh3GSbj+ajYJQGjdOgjaEHQXINHCeV3aMyhpkZLnXVd7TUTm1GxxZr2O5h1gcPQXLlzlLfM7NZh1nXpDspkDPve65425jLr8O/vLLZDlItjaafaegOg3JMjPkIYw/nhEZ3vL4HvLW89GWSPjd5o3mucNBqtp2uX3Z+xdZmb2wlOxnWmN77LMlPFTmnYPumSiYHRufvaHzxI46DV+oBQbV8oCrDLtXyYG9oLsrqQvbwaZHuZaovgil1B1Y6y6y3Q9960X5b0sztuMuJi/dYzHtrh2u6IPqdVdpHr94ZHSk6ffOf6dVB+UrlLyWYzH1btzCO4x0XRRX3o46TK7zJBHWBcSxrHlz9SSS5znE6lbiyflM46/HXsZ3YrF5bL1oWwtvSzMbDLu751lrPqvJiDnb3NF7m6ySabmqC+8oBjhyZbChwcDzjTo4EHddWsuYeP3paQQfUQp/wAt1zZaHZrYk5zHZe9QOIiGOfi5GxQxE0seXizzk0Z557Awt3tT5k3p3loLlt5erG0WIx2Ot0Y4Z6VqS1Jbjm1jnMjZWiKOrzI6PExsga0b7zpGNSe1ffJny7mpiDs9ncPW2jwrX79avZlNexTcS4nmLIjeQ0b8hboGvbzjgHhp3QGT5Z+VXZ65srj9msDQy1SPHZPpsJyBryNEcjb5nj51k73kmW7vAaacO3gFI+XD/dbsR/i3f5d9as5UNucFboR0MHsrBg9y2yy6667NkLszGxTx9HMtiPfjhLpg8t33DWFnqGn3tvysm/svhNmugCEYaUy9N6RzhsatsN3ej8y3mvt/bvu9z8PANgcm/Kzs7kMDR2W21qWWwY5zhjszTLzJVa4ShvPRwjfBjY8MG6yZrwI96PVm+YP5SXJGNnbtUV7gv4zJwOtY615ge6JpbvRybh3Xua2SIiRujXiQEBvEDKbPcq2zfQaFbLbDVL9rH14om3q9+XHyXHwNDY3XI68A57UDiZHSdgG6R2Rnl25VrW0V2GxNXhpVKcArUKFc70VWDUEjf3W78h0aCQ1o0jYA0aINdoiILvD/AHTX/v4v8xq2OtcYf7pr/wB/F/mNWx1YlERFUEREBERAV7RxU8sNieOKR8NZm9NI1pLWakAAnTt0OpHoAJVktuckZgFCZ873CBkM0bo26kSWJ5XDR8YcOcJgY1uh9BXz9Ry+XjvW/V9fR9PObO4261LV5yB6/Uu2/wBduTR3Zruxs14/GVgdsL9VrpxLvzvjAfMW77ms3iGtDnek6kDh6/SdVtLZTDMgoMhhaWskknsBu7uFjLEr5Yoy0HgWxOjZ6fcLF57ZwOYWczC4HiWvaNO0E8QOPEa/IvIvLPHbe1etjw5eCY/o1ZstdhdMwxxGMP0LXNLuI3i3XQgcNQfR6Dx4Kd7YQyVqzHvmdo4u7O0k6H8y9wOybI5Gvdze8PMYyNgAjZrr2/CfnUr2mxjLNfmHaAOYWg+ga+bx0Uyy3dzs+jj4bMPlpfFzMml3ZL8jH66iN03uteIHN9uvwaaqekTMw+The8SwNo2JYn6hwDebcSGkdrfmIKw+N2CY2w908BdJuOjJDgQ6Ms5slof/AOg6at19fapzT2fa3GZCs3eDZqdtjA4l5aXwyaAudxdxPp1K3lnNzV2+by8pLuac1VHfYmD4Br8YA7Pg4lfazVrZ0wY6tYl5xk8uknNuADOjOJYxw472+XDXiNNHBYVezxZTKejxOXjywusprc39qIiLo5CIiAiIgIiICIiAFrK39sf+W794rZoWsrf2x/5bv3ipVikiIooiIgIiICIiAiKXcmPKFewk89jHtqOksQiCTpdaK0zcD2yea2UaNdq0cQgiKLsTL8sOTj5P6G0TYMV9UrG0L8dI846qYuitq3ZQ0RbugdvQR+d29q0rSr5XbbJ25ZJMbXs4vBz23lsHRIX1KU4c5jWVo3b1gvunznAcG6a8Ag1KimPJzyfWctBmZ601eJuExdjK2BOZA6WCuxz3xwc2xwMpDDpvFo7OK2pyaciuMv7F3MxPlcZVyBuwxw2rNyaKpjYueijfXyDGRENtSDfLR5w0ni4jVBz0i2RsHyQW8nPlDFdxtfFYeV0d3O2p3RYvdEpjY6vJub07pGjfY0NGoczeLC9utblD5HZ6GNGao5LHZ3D8+Ks17GSPealghpbHdge0Or72+zQ6n3bNd3fZvBrFFujZzyer1jG4zNWMrh8diMhDNM+9dsOhZT5uVkMUEokYOcszFzyxrCRpBJq4HdDvn6kZCLYbMczLh7GGr7UGs+w2OZ2TmtRw1Gslqzj7F9T3s5pwB87zn+sINMq5xlCaxKyCtDNYnk1EcMEb5pXlrS4hkcYLnaNaTwHYCtp7B8i8V6Gk+fajZ6hZyLY+hY+WxJLcL5XFkUdqONmlV7zu7oJcTvjh6FIPJv2VtYnlLxuKvta21Ss3opebdvxuBxVt8ckbtATG+N7HjUA6PGoB1ADQ08TmOcx7XMexxY9jwWuY5p0c1zTxa4EEEH1L4Ui5Tv8AzvM/8VyP+rmUdQEREBERAREQEREF3h/umv8A38X+Y1bHWuMP901/7+L/ADGrY6sSiIiqCIiAiIgLZXIvA2aO5XdJubktazr2nhzjAQ0jRzddARw92Drw0OtVf4DMT1JhPWfuSAFp1Ac17CQSx7Twc0kA/mBXHn4/MwuMfT0nP5PJM/b3+7qmS4SwOduhxEYIbqW724Gu3dQCW7wOnD1KP5i+Q0g9vHQDtPZpp+1Yjkvzc13Hy2J90yR3S3RgLWhjY4HgAEnvO+VZbNhzXAsjc/fJLiwB0m76GtBI4cRwC8PPG45eGvf4eaWbx7VZ0LTWGPnnc25xLY2kO0cPdEucBoD6NT/FZCxk4gGtMukjnubGNC7ePutDujgPjWLvXqwO6+bmyNQA9hY74SGyEEpi5IG671iI8QQdCGjQeaSSOB7flXTXpp9UyvfTLYnJAuIc08DxY7tb8Wqkdh7ZK84a8Rl0Mjd8gERkxuAdx7dNexRVj4pZ2tjcx7uAMsR10du6+6HBw7NRx7fQVdZjPVaEXPW3lkckojYAwybzmtc7TcAOuu64/IuPhty1O7hycmPv6NT8s2Te/orZeE0teNz26Bu6yOWYtO4B5u+XtP8A9la3Wc27zvTr89prTHG47sLDpq2NupG9p985xe8/C8rBr3uDj8GExfnus5/N5blO3aftBERdnyiIiAiIgIiICIiAFrK39sf+W794rZoWsrf2x/5bv3ipVikiIooiIgIiICIiAiIg6A2i/wB0eJ/94Sf6LJr3yGIXSZjPQRjelsbJ5aGFmoBklfYx+6xuva46H5CtHSZy46mzHuuWnUI5jYjounlNNlgtc0zsrF3Ntm3XvG+Bro93HiV84HL2admK5SsTVLUDi6GxXkdFNGS0tduvYQQC1zmkekOIPAlB0r5OWwGUoYHbq9kqU+PisbK5atXjusdWs2Hx1JnzSR1pQJOYj1jBkIDdZmAF2jt3D8leOmtcl+1danDLastzWPmNeux00/NB+P1kEUYLi0COQkgcBG89jStO5jlFzdmWeazmcnLJZrOp2CblgCam/XfqSMa8NdVdvO1i03TvHUcSrPY7bHJ4uV82KyFuhJI0NlNaZ8QlaNd1srWndkA3iRvA6E6jRBvTk8xli7yZ7RYijDLJlKO0MN27j42vdcfV5unEHGvpv+bJXl1aBw6K70rzk2xVjFcn22k+ZgmqQZaTG0cXVuRvgksXYnSvfNXgnDS8ASRv32g8KMvbzZ00TiNrMjWuvyVXIXK9+V8kktyGxLHYldK/nJjLK129KHv4uDtQ49uqqbY7ZZPKSMlyuRuX3xgiLpU8krYg4NDhCxx3Yg7cbrugaloJ1KDcHL9O8bEcnEYe4Rvq5t7ow4hjnxz0mxvc3XQuaJZACeIEjvWV7s7/ALpMt/7vi/0WNWkMhm7c8NatYt2p69JsjadeaeWWGo2UtMra0T3FsDXFjCQwDXdbr2JHnLjab8e25abQkmFiSi2eUU32A1rRO+sHc26bdYwb5GujG8eAQdS43k1q4iTZOOjstY2kt5SDHZKxnny5B+PqOnlY97K8VF7IWthZuy85MfcuYTqCdMpcpys5cInyRSMZNIHwvc1zWSsbszuOdE4jR7Q5rmkjXQtI7QuXIuUHMtxxxLcvkW40hzDSFqcV+beCHQ82HadHOp1i9wSSdNeK+sjyiZuaxUtTZnJPtUInQ0rPS7DbFWN7Sx4hma8OY57CWucDq4cCSgo8p3/neZ/4rkP9XMo6qtqw+SR8sr3ySyPdJJJI4vkkkeS573vcSXPLiSSeJJKpICIiAiIgIiICIiC7w/3TX/v4v8xq2OtcYb7pr/38X+Y1bHViUREVQREQEREBERBt3yebDjHkYu1jXVpdNNdHPEzHO+SNvyLaNsgbju30ej5Vq7ybW6uyg/8ART+e0tjW5CNQ4cB2H1fR2rxeqx3y2ft/D2Oly1xy/wDd3zlpA6M6Na7h2OaHA/GCFbYWnATq+vXaNdRpFH7OuuqsLN4anU66fm1/69n7VWp22vAaHacOOjtSOHbqeIK5+VlJ6V93nzXdIYnsc9zm6AN8wacAR8HwLS3LxnOdtxUWAiOk3efrw3p52Mdrp6Q2PcGv/rct1YWMOII9wOOnbvOAHDj6FzlyozF+ZyLi0tJskbrtN5u4xjADoSNQG+grv0OM8y/Eed1ud8H71G0RF67yhERAREQEREBERAREQF8cy3uN8I+hfaIqnzLO43wj6FNuRLYOHNZePGSyurMfBYm52KON7wYWtIbuv4aHVQ1bi8jn+1df/BXv3GKDZ31olD8b2/1aqn1olD8b2/1aqulkUVzT9aJQ/G9v9Wqp9aJQ/G9v9WqrpZEHNP1olD8b2/1aqn1olD8b2/1aqulkQc0/WiUPxvb/AFaqn1olD8b2/wBWqrpZEHNP1olD8b2/1aqn1olD8b2/1aquiMTmalkztqW61p1WZ9ayK80Uxr2IyRJBOI3HmpmkEFjtCNOxXyDmn60Sh+N7f6tVT60Sh+N7f6tVXSyIOafrRKH43t/q1VPrRKH43t/q1VdLIg5p+tEofje3+rVU+tEofje3+rVV0RiszVsunbVtVrLqsz69lteaKZ1exGS2SCcRuJhmaQQWO0IIPBXyDmn60Sh+N7f6tVT60Sh+N7f6tVXSyIOafrRKH43t/q1VPrRKH43t/q1VdLIg5p+tEofje3+rVU+tEofje3+rVV0siDmn60Sh+N7f6tVT60Sh+N7f6tVXRORzFWCSCKxarwS2n81VjmmiiksyjTWOBj3AzP8AOb5rdTxCvUHNP1olD8b2/wBWqp9aJQ/G9v8AVqq6WRByFyqeTZSxeHvZSPI2J304myNikr12seXSxx6Oc3iBo8nh6lzlzLO43wj6F+gflNf2TzX+Hj/1MC4AVSvgRN7rfkC+0RVBERAREQEReOOnbwQeorWW60cBq4+oL1s5Pwejh6/Tx+RWSm26/JmHnZV3qbSb2jXUm0Rw/MfkW1JIRq4ka6/F+383BaY8mLJAXMnUcRvTVak8Y9J6NJYZNp6/uqL5FvF5Hb6+C8TrPTmv2/h6/SflT7/yh2a2eY77JFrG/UcAfNPwAH3J+LRfWE2eib58oLncPNJIGvbxHp7ew6rP32akBpA4gu+L4Vc82NOGh49vb2D1rhc7ru7+GL/Gwgbug/ormHlfhLM9lGHt6Q1+nHsmginZ29vmyNXUdEDQA/0Fy/5QF9sm0V/c4cyypCT6TIyuxzjr/wA4b/yL6fw78yz4/wBx8vXfRL8okitm2ezX+j8f/RVmyD1hezcbHl7faLwFeqAiIgIiICIiAiIgIiIC3F5HP9q6/wDgr37jFp1bi8jn+1df/BXv3GKK7kREUUXP3l0yyDCYVkcs0PPbUY6CR0Ej4XuilqZJr2b8ZBAP8AugVzt5fEHOYLCR774+c2qxrN+J25Izfp5Ju/G7Q7rxrqD6CAgiflDbJHZQYbL7M5PLR3p8vXpfUqfIWLdfIxyRzPcwwTOc6TzmRRnUlv2ZvY7dJ3D5R1nGsgwX1Vmy0LH7RY9lQ4l0DHyXXMsczHc5/wB1QID98N87UN09K03tHsxFsjtdiMxl57udwd5ooRZbN2H3ruDyLiXtlL3BsfNkM3g/dDg3pBHGP7JPfLMcDU2TIIIO2WGII4ggxXNCD6Qg2XyqcpOMwNWO1lJ3M5+QxVa0LDNbtygamOvC33RGo1c4taN5oJBc3XFcnXKs3KXDTOz+0+JdzL52T5nGdCrSNjdG0sjm552sv2QHd07AePBau5bdGcp2w8uQMYxbqtplUzac0MoBdDd3e4c7z8mJ3fTvc38C6WQcocjPKZRw1zbSOeO5evW9tMx0TF4uubuSsMjldzkkddrhpE0dr3Fo4EDUjRb65IuUyhn6s9mi21BJUsPqXKV6IQXKk7CfMnia9wGoGoIcexwOjmuaNYeSTjYPqrt7c5lnSnbW5OsZ9NZOjssSyiEOPuY997nEDtOmuug0t+QG7HW2p5UbEmrYa92hZk3Rro1jMtLK4NHa4hpPwoJNtB5RFCrzspwe1M2PgeWTZeHEOGMYA8xulFiaVhdCHDi4N04jTXUAzraPlBoVME7aMulsYwVYLrX1mb0stewYxE5kcrmaEiVhLXFpHHXiNFo/ObX7Q7QbG5zONlw+KwdjF5jo9J1axeyVirXitVpmz2zZjirzvfDI1pZG7d1adD6fraH/AHNM/wCAUP8AUV0G0dieWXH5TIx0MbUylmN8POSZRlUfUmvMIRO6lNdEmnS2ghpawObvHTeOh0xmX5fcdHetU6eM2gzLKEvMZC9hsa69QpSgkSxzTNkDi6PQl2413AO03tCFI+TymK+yeNioRNidHga7q8cQ0+zOotkDuHF0jpXFxcdSXOJOpJWv/IQkr9SaRhMfOMtZHppaW6tsdJe5vPadj+jGqeP3pZ6NEFn5GuShtT7b3KsglrW9rL9mvKA5olgne+WKQB4BAcx7ToQDxWB8tc5d2Z2RiwM00eR3c3brxwvc3npMfFTuiMxjzZ3lsD2tjcCHF26eDipD5HtuKa1tzPXkjmrzbXZGWCWJzXxSwySSPikiew6PjcwtII4EELI8sn9veTv/AP0v/wCtiQSTk95R6+f2UmytfSOU0bcVyBrtXVL0Vd3PQ6667vFr2E8SySM8CdBhfJ22kZU5P8Tkrz55GQ1JpJXNbLasSE3p42NYxur5ZHOc1oA9YWuOVyu/Y7PW8xXY/qztXFPUysETd5tDLSRSmK0xg4hrnOkk0GvB1oAcIgs3yd8orNnuS/D5V0HSpBEa9aAvETJLE96y1nOSkHm4mgPcTp95pw11QTPFeUBQdfpUL2H2kwpyUwrUbWZxhp1LM7nBkcTH865wc5zmaat0G+0uLQVM9suUCnjslhcXZZZdZz0tmGk6FjHRMfVEBk6Q50jSxulhmm6Hdjuz08/eUbW2hEGyc2eu4d+/tXiNKOLp2YhBPpOd4XbNp7p42t3mkc23UvadeGhl3lHPA2y5NS4gD6o5dupOg1czFtaPjLiB8ZQbU2/2+p4qbEwW2WHvzOSr4qpzDI3tbZsvaxjpy+Ru5CC4alu8eB4FW/Knyl4/CR1jcFmxavSmGhjsfCbWQvSjd3m1q4cN7d326kkDV7Rrq4A6r8rDM1vq5sBj+fjN3rXi7ZrA6ytrC3DCJntH2tjpDutLtN4sfpruO0+9opWf/VvEttEaDZeb6mh583pLprvPGIHgJjCLIJHEtaPgQRflN5Ra2W2k2DhbTymMu1M6ZJ8fmKUlG2yGbmWw2GtJcyWB7oZQHMedNziBqNerVz75S1yE7VcnlcSRmy3NSTGEOaZmQvNVjZHMHFsbnscATwJjdprunToJAREQa48pr+yea/w8f+pgXAC7/wDKa/snmv8ADx/6mBcAKxKIiKoIiIC+C/8ArsVRvzcVYg6jX16n5TqtY47ZuT7lscdB2evsVrPMXcB/1+Vfbm+tfB4dnaV0mMibUwN3sHnEdvq/6r7gk00aWnh6dQR6zr6QdUbHp28TqNfl4r0NV0m1qzIz17cNivPJXmZvbksTixzTw9I7QeAIPAjgdVtbZHlyuRDcyFdl1mn26IivYHwloHNyn4gxamyDfssXZx3v/iqprgdnD4jp+xcuTgw5Pqm3bDlyw+m6b4byy457tXx2oR6Q6Pe/N9hc7VZT/wCtmIY06NtzEDg2Ovu6/AXTPaB8fFc6c0e9r8YB/b+ZBCdPdafEAF81/D+K/r/d2/8AZyfDb+e5e7R3hj6cUGuuktomZwHwQxlrWns7XOHwLUrsjNZlntWZDNNPK98kjg0bztdOAYAAB2aADsVNsTQCT53o4neHyL3GgbvZw3nfJqV34uDj4/omnHk5cs/qqrJ8PZpwJ0HH418h+navt8ILgSNT6NdTp6PNHoXzI3UfEu7krQy/Crpsw9Py+hY2FyuApcdrtftGo1Gh9f8AR7UVjvEDt9B+ZXzTq0O+X+H9fAueWOllERFlRERAREQEREBbi8jn+1df/BXv3GLTq3B5HjwNqq5cQB0K9xJAHuGekqK7mRUelR++R+Nv0p0qP3yPxt+lRVZRblK2Co5qvWrZFsroql6HIQ8zIYnCzAyaOMucB5zNJ3+b8SkfSo/fI/G36U6VH75H42/SgxW3eylPLY+zjMjCJ6lpgbIzUtc0tcHxyRvHFkjHta4OHpb+ZRy7yS4yXG4jFTG5LUwdutcx+/YcZY5KgkbWjfLprJDGyQsDT2Na0ehTjpUfvkfjb9KdKj98j8bfpQRzlM5P8ZnKXQctVFiEPEkbg50c0EoBAlhmYQ6N2hIPoIOhBHBYTk95IqOLtMuMvZrIWIopIIXZXIz3WwRS7u+yGIhrGcGtGu7roFPulR++R+Nv0p0qP3yPxt+lBH9hthqWLkyctJsrXZbITZO5zkhkDrVhxdI6MEeYzU+5VLZfk+x9G7mb9eOQz56SKXIiZ5likMInDGsjcNGM0sSgj06hSXpUfvkfjb9KdKj98j8bfpQajwnk3bO13yNDMhPQfI6ZmHs37E2IilcNOcbT1HOP7NDK5+m609oBWZwfIxjK+Bt7N8/k7OLtvLjHatmWSvGZGS9HqPDB0euHxg7oHa55JJcSth9Kj98j8bfpTpUfvkfjb9KClhcfHWrV6kO9zNWCGvFvHedzcMbY2bzvvnbrRxWp8r5Nuz012zbDcjWivPMl/G0789XG3XucXuM8EWjg0lz/ADWPa0b50AW3elR++R+Nv0p0qP3yPxt+lBGuTzk9x2HOQ+pkToG5K5JesR72sTZpCdWwRgAQwgHQMHAAAK4z+xVO3k8Vl52ym5hul9Cc2Qtjb02JsM/ORgaSasaNNexZ3pUfvkfjb9KdKj98j8bfpQYvbjZenlcfZxmRhE9S3HuSs13XDRweySNw4slY9rXtcOwtCj03JLh37PM2YlryS4mNu7Gx80nPxls7rLJGWGkOEjZHEg9hGrSC0kGa9Kj98j8bfpTpUfvkfjb9KDT0vk14CSk+pZky1yXdjZXyNy/JYv0GQva+NmPke3mqjBugaNj4jQHXQaSnbvkmxuWxlLGZF96b6nmJ9TIm0/6qRTxR82LJuEEyzuHFxeHBzgHEataROOlR++R+Nv0p0qP3yPxt+lBq/F+T/gIXU5hFbmuU8lWy3T7NqSe9ZuVN3o5t2JNTLCwNAEQ3WcSdNSSs7ys8leLzzK4yMczJ6bzJTu05TXuVXktJMMoBHaxh0cHAFoI0I1Uz6VH75H42/SnSo/fI/G36UGsMHyA4GtPRtsjuS3qN1uQF+zaknuWrLGsZGbk7+M0bGxgNjG60bzyBq4k7VVHpUfvkfjb9KdKj98j8bfpQVkVHpUfvkfjb9KdKj98j8bfpQa+8pr+yea/w8f8AqYFwAu+/KXsMOymaAewno8fAOaT90wegFcCKxKIiKoIiIPiV3BWsJ1aPiVW6/Q8FZ1ZOOnq1+dd5NTTn3VJF4xq8PaqrGqo+ZW6DX1fw/or1o4lfb28NF5H2A+sfwCIxuUGjoT6nH/4q7cP6+QKhlx7j4z/D6Fc7vAfEo3OzzTh2/wBfSvCF96f0V8gKj4I9S8x480/lOGvb6Tr8yqHQAn1L4xX2oH1l/wC1xKgqxg68Tr+wrxrfN+MKo/TR3xHT49NB869h7ACqysyNCqgcqliNWwKNLknh+z5eCvoHa8OPH5/QsY93Z8Y+cK7pv0IPapUq6RfUzN1xHb6QfWCAQfkK+VwdBERAREQEREBfL2AjQgEeogEftX0iCl0aP3tnhb9CdGj97Z4W/QqqIKXRo/e2eFv0J0aP3tnhb9CqogpdGj97Z4W/QnRo/e2eFv0KqiCl0aP3tnhb9CdGj97Z4W/QqqIKXRo/e2eFv0J0aP3tnhb9CqogpdGj97Z4W/QnRo/e2eFv0KqiCl0aP3tnhb9CdGj97Z4W/QqqIKXRo/e2eFv0J0aP3tnhb9CqogpdGj97Z4W/QnRo/e2eFv0KqiCl0aP3tnhb9CdGj97Z4W/QqqIKXRo/e2eFv0J0aP3tnhb9CqogpdGj97Z4W/QnRo/e2eFv0KqiCl0aP3tnhb9CdGj97Z4W/QqqIKbYGA6hjAR6Q0A/LoqiIgIiIC+ou3U9gBcfzDgPl0XyviZ+jT6zoPza6/wCuPdL2WVmTUn41Z0n/ZXD4/k0P8Qq03rVlj3f7Rp62O/Zp9JXZllGM4q5avIwNF6qy8eviuOA+DUfISqhVOL0/AT+3QoLXJjUN+M/MvuMeaOI7F85I8GflgfKHL7b2AI1HgHD+v4r1unZw1+Bea+peg+j+vz+v/sg8sHzD8ITGt0jA+P5yvZvc6dnw9i+6TfMahX1MOHxkD+P8F61vBfUg9z8v8B/FfTgjL5c3ULHTcHceAKyTPlVtdh3gdO35iixaWXaNb+V/AlXVJ6xtlx3Wgjjv6fsKuaz9NFFZ2Qnh6QANPiOpHzn5F8KmJPcHvN3D/ykEfOPkKqLln3ax7CIiyoiIgIiICIiAiIgIiICIiAiIgIiICIiAiIgIiICIiAiIgIiICIiAiIgIiICIiArS4fkV2rLIHTTt1IB+X1reE9UyWUrlZUD/tI/u3/wCuZHDQq1x/3SPhjePmP8F1Rm43KoTp8KotXu8jCuHL4Z7p3w6H+Cpgr1p874wR/H+BQijlPcD4HA/OF608Bx4ej6Uyf2s8PS351ThPmj+viRpVavW9vxr5Hr/r4l6w/1og8mPD9n8e1Vqh81v5IVpaf5pV3XHmt+IfMgqH3fxAft1KOeqQcN4/GRpx9A09HxftX0WD4UTT1rlSkc4H0ftX2x44cB/Xwry12AorE5qch7G/8APwGnrbw+Dt+RfcDvSrTMP1nZ/dj8+r3qvCVn3VmIHasI9I0cPzdv/wCJJ/MrxYzFyaOGvZrx+I8D+xZJvYPTwHH1/CsZrHqIiwoiIgIs/sPs6y/LbhNyOpJXx16/A18Mk7rj6MLp31ImxkFsjoo53b3nECF2jXdgtsDsxkbjOco43IXY+P2WpUs2YgW8COdhjLd4H0a68EGJRXGRozQSmGzBPWnaA50NmKSvM0EkAuimaHAEg8SPQVboCIiAiIgIiICIiAiIgIiaoCIrirQnkZNJFBPLHXYJLEkUUkkdeNx3WyTvY0iFhPAOcQNUFuiIgIiICIiAiIgIiICIiAiIgIiIGmvD18Fjcg/VxPo9HxDsWQkfoNfkWItes/IumDN7rSV/qVtUd/tUXw7w+Vj/AOOiqzHsVtUP+1Q/lj5nfStqkJK80QhetKrOgIHcWn4f2dnzL0qlJ2IPvJD7G/8AN84VrU9yFd3DrET62En49OP7dVZ1uwfP+b0Iulz8XycP69S9aPV/H414zsI9fw/GvBw1/wC5RFvdfqP67FkIewfEsVad6Oz5Pg0WVJ0afRw+fh/FRVKE+n1nX5VXJ1VvGFXaVUU3jRVIyHNLT6fn9C+HO9BXsfbqEGEzDCJIwRpoH/JqNP4/KvGPVbaR3nxn07rvnborGNyy1OzK0n+lZqM8P69PH+KwFR/Zr6Vm6p4f1/XpWc+xFZERc1EREG++SDb3olajlc3Lj7tWgGYLEUq9OlNnqr9GA2GyBrJYqTapka7V7jISwbu84F9ly+7WMdcy1WYZ/G5SlbhrY+tHkA7CmnFJ91tqsZG6sZq27I0N39TJF5wAcFDNha0drCZ+jHUrS5KAU8tUm5kOvuq1ZdzJw15vdAMidHKI28XB0/A8NIiZLN20zeknu3LcsMLHzSvmnsTSFkEDDNM4l7iTGwbx7N0dgRU22K2tfefBg89PLdx9uRtetbsOM97D253ble5UtSayGDnHRtkhe4sLNdANCHQXNUJatizVnAE9SeetM0a6CWvI+KQNJHFu8w6H0jRbR2c5LsiaVxrMLfZtHi8tjpGOsFkdCSlK2Tgwy/YLQjnr7z3NcRuTMIJAc1RDljsMmzN+ePI1MsbBZLJdo13VKkszoWB7YIXSSasaWgb4e/f4u1JJQS7O8lOOx5pOzG0kVOK/SrWoGxY6zasb8rSZucihkIhqxkx6TOOshLwGt3CTjrnI/dZtA7AtsV3htYZB2RdrHWZjN3V96Rm8SwB32PcBPnkDe3Tvit5Td2Ge7iXV5op2t2WxUbnQvZK1sgkvuMZLCQH7r2Hd7dHt9a2lkttqFfaoc7dqx1clsbUxgv8A2GzWqWXvnmhdZDt6Mw7um814Lfske95pJRGn7uwmPmpX7eDzn1WfioBZvVpcfPjpDU3i2S7UdNI4TRM7XMOjmt0JOpa12J5QtjjjYMPMbAsfVbEV8puiLmujmdocYNd93OhoLfP83Xj5oWydoos7VoZB93M7KVIJ6Fqtu4+LDm1lY5o9H06Yp0mylko4b5LN3zXEDTVvztls+3O4jZu1RyeIgZjMJBjMmL91lV9GasyNjnyRuaXOjOkhHYSAwt3g/UFYWryMufnaGEGRG9dwkeY6R0UkRmRs46MIjON/z4ftm83g/wBzw42uO5K4LNuLHUM7Vt3YmzTZhzatmPHYqtXa3n5m5CQht8NlcIxzYbvFwJ3AHEbcrZugNu8PNFfqvps2QhhZaM0TIyR0+RrXuLtI5TEWv3DoQHDgtM+Tzm6kD8ljshYZSr5vCWcX02TzY6k8se7G+Zx4MiIdIC4kAEM10BJAXEnJtQs1bs2AzzcvYxtd1q1Skx9nHzS1ozpLYpGZ7ufa3uAa8W8dXNDvqHkypRYrE5nKZ5lCnk45nc2yhYuWmyxyaRxQRQPJmYYw575SGhhDG6PLxpJuT3BdWXZDL5a/invdirVLH0qFxl2a/YsuhLXMaxoLareabq9w4CTUhu7xjPKlchfszsRDFNFJJXp5dkzGPY98TjYpNaJWNOsZJjfpvaa7rvUiL7PckmPx80X1W2mrVqV1scmLsQUbNmW3BIxjjZngjfu0a7DIwb7nuDuJG7odMe3kcufV+5g5LMEUdCubtrKSNcKseP5tkgtGPe1DjvhvNlw0cyTzt1pevfKKuxTVtmRBNFMY9k8fHIIntkMcm48GN4YTuSag+aePBbU2v2lx0u020OOlyFaCvn9nK2NhyPOMkqwWuYlMTZ5WO3WRubYJJJA81g+/CDXOz/JRjsibjsPtIy3HRpT2Z2zY2zUsh8bdYebinkAlrSODwZAdYyGAtdvgjO1NlsE7YqN783FGx2da9+W+olySaOw6gA7Gcw13PPja0l3Oh3Nkjs1V3yNbIjC28rLlcph47EuByEFatWvxWHSRuMUs1iR2jRFGOYjDA7Rz9+Q7o5sqOcn9VmT2PnwVe3SgykGcZkmV7tiOp0iqaccBdA+Tg9zXl+o9G4NdN5uoYbGcnVOPH1snnM03FVsg6b6mQx0Z79y5BEQDbdBE8GvX4tdx14SR8QXNBm3JPszAyrtrQrZehbqzYXHPblW78NWKKU5B0j7cbtXV5Imte58eriAG+k6Czz2GbtBiMAzH3sbFkMFROJyFC5birP0g5qKO3WfqWT138yXb7SQRI3jq0hW+x1GvjcdttRdlMdckfg6IElOcPgfZc+62WpXkfu9KfG58TS5g01laNAdQAjmW5PKT8Rcy2FzgyzMY+BuRgkx9jHSxMsO3I7ELbDyXxak8CBwjk46tLVrpbP5J70Mezm20ck0Uck9LEthY+RjHzOFi4CImOOshBkZru66b7fWtYICIiAiIgIiICIiAiIgIiICIiD5m0DSe066AafKfmWCuu9fyBZXITkN3fz+o+rT9iws2p/r+K6zsz7reRyo1PumH8sfMUmcvMa7/AGiL8v8AgU91qR6IFU00CoPK2y93l8uC9AX04Io7jE4eoOHyjUKxrH+v4fMrz71w9Y+lWFd3Z+1Fi+9Hp/h+1eH4F6w/18ui8ePnRFjb90PjCy0h80D16fsH/ZYayfOHr1Hz/Ass48R+SD8v/ZZncr4BVUDgqT+1VYStI8KRqo5qpByDEbS+7iPra4f/AJD6VYxngsntO3zInep7mn/mbvD9z9qxTFj3bjJVjwCzNB3DT8/8PkWErOWXxzxqQfVwVs9EZBERcVEREF3hsnPVsQ26kz69qvIJYJ4yA+N4BGo1BBBaXNLXAtc1zmkEEgzKXanCWnc/kMHPVuFwkksYG82lDPLrqX9AtQSx1XE6EmFwBJJ0BUCRBv8A5KeVx4snEUG1sRTtQZF7b+ayNrIzRZHocj6lqa1be2GOIzRRB0DYt0mRxBLj52n9rdo23I6bBjcVRlqtnZNPjKsdMXnSvY5sk8cIDNWBmjd0AfZH6aAhowCIrwBAF6iI8DR6AAhaO3Qar1EHmg9S9REHgaB2AD4k0XqIM1itk8hYrm1XpyywDniHt5sOl5hu9OYInOElrcHujE127oddNFTbsxe6GcgKkvQhG6YzeYPsDZOadYEW9zjqwk80zBu4CCC7gVO+TvabF1W4mSaWOGSqLjLokxrr9x0lmS02OanckJbRpthngLmQBku9DP5shl3lg8lfx0tevM69dZYrYKrhjRqxOhfO+pXbSLjbfrH9TJ4mmV8ThvkyPZu8d5BhMpsdkK0LZrFCaKNz4o+xjnslnaXwRzQRuMleV4B3WSNa52nAFZDKcn9+Cn0izXljmdkqmMhqCNs0k81qC7KWtdDI7dsxuqMjNct39bLNd3gHTobcYqvJanrvhlacthsnVqx4t9ed8GMyJsurXslM581zIGKQfZJXui3oXuD9ZN0YvZrabF4x0LobdnJaZ+DJSA1HwFtP6m5ig92k79JMgx2Qje4cGOLGAPPEtCG2Nick2eGq6hM6ewyeSvHHzc/PNqsc+yInwucySSNrSXMBLm6tBALgDVv7CZWGKSeWhK2GGF1h0ofA9hgjbvyzwmOQ9IiY3i90W8GDXe3VKRtdTgjjqwzV3Rtr555fjsZ9S6rbOQwc2LqBsTtZpJ3PLOckO6xrREBv7pcsZhtpqsbsQXueG0tn85jptIyd21kOsHMNYPvmH6o1dXDgNXa+5RUXtYC3HJajkrSMkoxMmttdu/7PFI6Bkb3nXTdcbNcDQnXnW6arHLY+22R3MFjWSRzQ5LKVqcd9szCx0mOwMlqti592TR+7YbJAd8jzvqU0gkEa64RBERAREQEREBERAREQEREBERBYZEt11dx4dnxcOPyLDWrGvBo0H7flWZzMO84doBY3s4DXdAPH4wsBYljbwHnH4Oz/AKrtOwtnqphxrYjPqJPyAj+KtZZtf+ivtnRq95P3rQPEfoaVJPUqSSj0KjuqtJ6PhC+AFth4F8r6cvkFB56f69Tliq54gLMMb2n1D+BWGrlS3TUZOM/1+ZevOo1/7f12KjGV5IeH9a/OirOx7sfGPnWXb2n8w+QaLCzO4/Bqs8W6E/GkSqcoXxE/0L7kVIKsrtrgvl7V5GVV3UGLz7PsB+B7D+0t/wDksA1yk2db/s0vwNB+R7VFI+Px/Cs1uMjBMFmsYQSC0/Boo7CSODmlZvERjfaW/nB9CQrOIvXdp/ivFxBFDOtc/ch8L/bTrXP3IfC/21F0maKGda5+5D4X+2nWufuQ+F/toaTNFDOtc/ch8L/bTrXP3IfC/wBtDSZooZ1rn7kPhf7ada5+5D4X+2hpM0UM61z9yHwv9tOtc/ch8L/bQ0maKGda5+5D4X+2nWufuQ+F/toaTNFDOtc/ch8L/bTrXP3IfC/20NJmihnWufuQ+F/tp1rn7kPhf7aGkzRQzrXP3IfC/wBtOtc/ch8L/bQ0maKGda5+5D4X+2nWufuQ+F/toaTRxJOpJJ4DUnU6ABoGp9AAA+IBeKGda5+5D4X+2nWufuQ+F/toaTNFDOtc/ch8L/bTrXP3IfC/20NJmihnWufuQ+F/tp1rn7kPhf7aGkzRQzrXP3IfC/2061z9yHwv9tDSZooZ1rn7kPhf7ada5+5D4X+2hpM0UM61z9yHwv8AbTrXP3IfC/20NJmihnWufuQ+F/tp1rn7kPhf7aGkzQlQzrXP3IfC/wBtOtc/ch8L/bQ0kmVk1c4NHA69uoHH8yxM1R26fNG8ezdafl10Vj1rn7kPhf7ada5+5D4X+2t+M0ozwP103JD69GO01+DgsxgK7mxlxaQXOPAgg6DQdhHwH5VjetdjuQ+F/tp1rn7kPhf7aeM0lQHDsTc9OiivWufuQ+F/tp1rn7kPhf7avmJ4Ulew+o/t0XjmeoH5FG+tc/ch8L/bTrXP3IfC/wBtPMPCkkTiGyHQnzCR8YBWJghdp7l3yH6FY9a5+5D4X+2nWux3IfC/21LyLIzETXd0/IV7K06cGnX4lhutc/ch8L/bTrXP3IfC/wBtPGaXNiJ3dce370/QpH2tadDxaD+fQKJ9a5+5D4X+2nWufuQ+F/tpOTRZtJpG/AfkVHcOvYfkKj/WufuQ+F/tp1qn7kPhf7avmJ4UnY0+oqozX+vQop1rn7kPhf7adap+5D4X+2nmHhSm3DvRSNP3zHD19o4cPSooamhIdE/XUjVodpwOnDhoQvrrXP3IfC/20612O5D4X+2peRdLquw6aFjyPQXNOo/YspjXaHsIPwtKwPWufuQ+F/tp1rn7kPhf7aeM0mQK9UM61z9yHwv9tOtc/ch8L/bWNmmAREUUREQEREBERAREQEREBERAREQEREBERAREQEREBERAREQEREBERAREQEREBERAREQEREBERAREQEREBERAREQEREBERAREQEREBERAREQEREBERAREQEREBERAREQEREBERAREQEREBERAREQEREBERAREQEREBERAREQEREBERAREQEREBERAREQEREBERAREQEREBERAREQEREBERAREQEREBERAREQEREBERAREQEREBERAREQEREBERAREQEREBERAREQEREBERAREQEREBERAREQEREBERAREQEREH//Z\n"
              }
            ],
            "_view_module": "@jupyter-widgets/output",
            "_model_module_version": "1.0.0",
            "_view_count": null,
            "_view_module_version": "1.0.0",
            "layout": "IPY_MODEL_8d64edad99994ecdb0c18138b34f9ff6",
            "_model_module": "@jupyter-widgets/output"
          }
        },
        "19e2d268118d4b39bce54f51b7a6d928": {
          "model_module": "@jupyter-widgets/output",
          "model_name": "OutputModel",
          "state": {
            "_view_name": "OutputView",
            "msg_id": "",
            "_dom_classes": [],
            "_model_name": "OutputModel",
            "outputs": [
              {
                "output_type": "stream",
                "metadata": {
                  "tags": []
                },
                "text": "Video available at https://www.bilibili.com/video/av541417171\n",
                "stream": "stdout"
              },
              {
                "output_type": "display_data",
                "metadata": {
                  "tags": []
                },
                "text/html": "\n        <iframe\n            width=\"854\"\n            height=\"480\"\n            src=\"https://player.bilibili.com/player.html?bvid=av541417171&page=1?fs=1\"\n            frameborder=\"0\"\n            allowfullscreen\n        ></iframe>\n        ",
                "text/plain": "<__main__.BiliVideo at 0x7f7d522fedd0>"
              }
            ],
            "_view_module": "@jupyter-widgets/output",
            "_model_module_version": "1.0.0",
            "_view_count": null,
            "_view_module_version": "1.0.0",
            "layout": "IPY_MODEL_228a06d40ce74197a159fc9f22d505fc",
            "_model_module": "@jupyter-widgets/output"
          }
        },
        "8d64edad99994ecdb0c18138b34f9ff6": {
          "model_module": "@jupyter-widgets/base",
          "model_name": "LayoutModel",
          "state": {
            "_view_name": "LayoutView",
            "grid_template_rows": null,
            "right": null,
            "justify_content": null,
            "_view_module": "@jupyter-widgets/base",
            "overflow": null,
            "_model_module_version": "1.2.0",
            "_view_count": null,
            "flex_flow": null,
            "width": null,
            "min_width": null,
            "border": null,
            "align_items": null,
            "bottom": null,
            "_model_module": "@jupyter-widgets/base",
            "top": null,
            "grid_column": null,
            "overflow_y": null,
            "overflow_x": null,
            "grid_auto_flow": null,
            "grid_area": null,
            "grid_template_columns": null,
            "flex": null,
            "_model_name": "LayoutModel",
            "justify_items": null,
            "grid_row": null,
            "max_height": null,
            "align_content": null,
            "visibility": null,
            "align_self": null,
            "height": null,
            "min_height": null,
            "padding": null,
            "grid_auto_rows": null,
            "grid_gap": null,
            "max_width": null,
            "order": null,
            "_view_module_version": "1.2.0",
            "grid_template_areas": null,
            "object_position": null,
            "object_fit": null,
            "grid_auto_columns": null,
            "margin": null,
            "display": null,
            "left": null
          }
        },
        "228a06d40ce74197a159fc9f22d505fc": {
          "model_module": "@jupyter-widgets/base",
          "model_name": "LayoutModel",
          "state": {
            "_view_name": "LayoutView",
            "grid_template_rows": null,
            "right": null,
            "justify_content": null,
            "_view_module": "@jupyter-widgets/base",
            "overflow": null,
            "_model_module_version": "1.2.0",
            "_view_count": null,
            "flex_flow": null,
            "width": null,
            "min_width": null,
            "border": null,
            "align_items": null,
            "bottom": null,
            "_model_module": "@jupyter-widgets/base",
            "top": null,
            "grid_column": null,
            "overflow_y": null,
            "overflow_x": null,
            "grid_auto_flow": null,
            "grid_area": null,
            "grid_template_columns": null,
            "flex": null,
            "_model_name": "LayoutModel",
            "justify_items": null,
            "grid_row": null,
            "max_height": null,
            "align_content": null,
            "visibility": null,
            "align_self": null,
            "height": null,
            "min_height": null,
            "padding": null,
            "grid_auto_rows": null,
            "grid_gap": null,
            "max_width": null,
            "order": null,
            "_view_module_version": "1.2.0",
            "grid_template_areas": null,
            "object_position": null,
            "object_fit": null,
            "grid_auto_columns": null,
            "margin": null,
            "display": null,
            "left": null
          }
        },
        "4828dd7012094d91801446cc4f456370": {
          "model_module": "@jupyter-widgets/controls",
          "model_name": "VBoxModel",
          "state": {
            "_view_name": "VBoxView",
            "_dom_classes": [
              "widget-interact"
            ],
            "_model_name": "VBoxModel",
            "_view_module": "@jupyter-widgets/controls",
            "_model_module_version": "1.5.0",
            "_view_count": null,
            "_view_module_version": "1.5.0",
            "box_style": "",
            "layout": "IPY_MODEL_ec91aee143e64381aa35f3e3ae64191a",
            "_model_module": "@jupyter-widgets/controls",
            "children": [
              "IPY_MODEL_31d0e41ee17444048a7f675f9424952c",
              "IPY_MODEL_96a0911021d8436a98b04c5b89e040cd",
              "IPY_MODEL_6c913a9c081140b2b71b005a111224e5"
            ]
          }
        },
        "ec91aee143e64381aa35f3e3ae64191a": {
          "model_module": "@jupyter-widgets/base",
          "model_name": "LayoutModel",
          "state": {
            "_view_name": "LayoutView",
            "grid_template_rows": null,
            "right": null,
            "justify_content": null,
            "_view_module": "@jupyter-widgets/base",
            "overflow": null,
            "_model_module_version": "1.2.0",
            "_view_count": null,
            "flex_flow": null,
            "width": null,
            "min_width": null,
            "border": null,
            "align_items": null,
            "bottom": null,
            "_model_module": "@jupyter-widgets/base",
            "top": null,
            "grid_column": null,
            "overflow_y": null,
            "overflow_x": null,
            "grid_auto_flow": null,
            "grid_area": null,
            "grid_template_columns": null,
            "flex": null,
            "_model_name": "LayoutModel",
            "justify_items": null,
            "grid_row": null,
            "max_height": null,
            "align_content": null,
            "visibility": null,
            "align_self": null,
            "height": null,
            "min_height": null,
            "padding": null,
            "grid_auto_rows": null,
            "grid_gap": null,
            "max_width": null,
            "order": null,
            "_view_module_version": "1.2.0",
            "grid_template_areas": null,
            "object_position": null,
            "object_fit": null,
            "grid_auto_columns": null,
            "margin": null,
            "display": null,
            "left": null
          }
        },
        "31d0e41ee17444048a7f675f9424952c": {
          "model_module": "@jupyter-widgets/controls",
          "model_name": "FloatSliderModel",
          "state": {
            "_view_name": "FloatSliderView",
            "style": "IPY_MODEL_9730eca6d3a341bbaaddcbdf50011c2a",
            "_dom_classes": [],
            "description": "I_dc",
            "step": 10,
            "_model_name": "FloatSliderModel",
            "orientation": "horizontal",
            "max": 300,
            "_view_module": "@jupyter-widgets/controls",
            "_model_module_version": "1.5.0",
            "value": 210,
            "_view_count": null,
            "disabled": false,
            "_view_module_version": "1.5.0",
            "min": 0,
            "continuous_update": true,
            "readout_format": ".2f",
            "description_tooltip": null,
            "readout": true,
            "_model_module": "@jupyter-widgets/controls",
            "layout": "IPY_MODEL_605d5b878eb34f798174b23c71ed682a"
          }
        },
        "96a0911021d8436a98b04c5b89e040cd": {
          "model_module": "@jupyter-widgets/controls",
          "model_name": "FloatSliderModel",
          "state": {
            "_view_name": "FloatSliderView",
            "style": "IPY_MODEL_8addaf2b7b10411fb399536b6beb82dc",
            "_dom_classes": [],
            "description": "tau_m",
            "step": 2,
            "_model_name": "FloatSliderModel",
            "orientation": "horizontal",
            "max": 20,
            "_view_module": "@jupyter-widgets/controls",
            "_model_module_version": "1.5.0",
            "value": 8,
            "_view_count": null,
            "disabled": false,
            "_view_module_version": "1.5.0",
            "min": 2,
            "continuous_update": true,
            "readout_format": ".2f",
            "description_tooltip": null,
            "readout": true,
            "_model_module": "@jupyter-widgets/controls",
            "layout": "IPY_MODEL_605d5b878eb34f798174b23c71ed682a"
          }
        },
        "6c913a9c081140b2b71b005a111224e5": {
          "model_module": "@jupyter-widgets/output",
          "model_name": "OutputModel",
          "state": {
            "_view_name": "OutputView",
            "msg_id": "",
            "_dom_classes": [],
            "_model_name": "OutputModel",
            "outputs": [
              {
                "output_type": "display_data",
                "metadata": {
                  "tags": [],
                  "image/png": {
                    "width": 552,
                    "height": 414
                  },
                  "needs_background": "light"
                },
                "image/png": "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\n",
                "text/plain": "<Figure size 576x432 with 1 Axes>"
              }
            ],
            "_view_module": "@jupyter-widgets/output",
            "_model_module_version": "1.0.0",
            "_view_count": null,
            "_view_module_version": "1.0.0",
            "layout": "IPY_MODEL_ceb4ed206ef34f6582b19cb31013db4f",
            "_model_module": "@jupyter-widgets/output"
          }
        },
        "9730eca6d3a341bbaaddcbdf50011c2a": {
          "model_module": "@jupyter-widgets/controls",
          "model_name": "SliderStyleModel",
          "state": {
            "_view_name": "StyleView",
            "handle_color": null,
            "_model_name": "SliderStyleModel",
            "description_width": "",
            "_view_module": "@jupyter-widgets/base",
            "_model_module_version": "1.5.0",
            "_view_count": null,
            "_view_module_version": "1.2.0",
            "_model_module": "@jupyter-widgets/controls"
          }
        },
        "605d5b878eb34f798174b23c71ed682a": {
          "model_module": "@jupyter-widgets/base",
          "model_name": "LayoutModel",
          "state": {
            "_view_name": "LayoutView",
            "grid_template_rows": null,
            "right": null,
            "justify_content": null,
            "_view_module": "@jupyter-widgets/base",
            "overflow": null,
            "_model_module_version": "1.2.0",
            "_view_count": null,
            "flex_flow": null,
            "width": "450px",
            "min_width": null,
            "border": null,
            "align_items": null,
            "bottom": null,
            "_model_module": "@jupyter-widgets/base",
            "top": null,
            "grid_column": null,
            "overflow_y": null,
            "overflow_x": null,
            "grid_auto_flow": null,
            "grid_area": null,
            "grid_template_columns": null,
            "flex": null,
            "_model_name": "LayoutModel",
            "justify_items": null,
            "grid_row": null,
            "max_height": null,
            "align_content": null,
            "visibility": null,
            "align_self": null,
            "height": null,
            "min_height": null,
            "padding": null,
            "grid_auto_rows": null,
            "grid_gap": null,
            "max_width": null,
            "order": null,
            "_view_module_version": "1.2.0",
            "grid_template_areas": null,
            "object_position": null,
            "object_fit": null,
            "grid_auto_columns": null,
            "margin": null,
            "display": null,
            "left": null
          }
        },
        "8addaf2b7b10411fb399536b6beb82dc": {
          "model_module": "@jupyter-widgets/controls",
          "model_name": "SliderStyleModel",
          "state": {
            "_view_name": "StyleView",
            "handle_color": null,
            "_model_name": "SliderStyleModel",
            "description_width": "",
            "_view_module": "@jupyter-widgets/base",
            "_model_module_version": "1.5.0",
            "_view_count": null,
            "_view_module_version": "1.2.0",
            "_model_module": "@jupyter-widgets/controls"
          }
        },
        "ceb4ed206ef34f6582b19cb31013db4f": {
          "model_module": "@jupyter-widgets/base",
          "model_name": "LayoutModel",
          "state": {
            "_view_name": "LayoutView",
            "grid_template_rows": null,
            "right": null,
            "justify_content": null,
            "_view_module": "@jupyter-widgets/base",
            "overflow": null,
            "_model_module_version": "1.2.0",
            "_view_count": null,
            "flex_flow": null,
            "width": null,
            "min_width": null,
            "border": null,
            "align_items": null,
            "bottom": null,
            "_model_module": "@jupyter-widgets/base",
            "top": null,
            "grid_column": null,
            "overflow_y": null,
            "overflow_x": null,
            "grid_auto_flow": null,
            "grid_area": null,
            "grid_template_columns": null,
            "flex": null,
            "_model_name": "LayoutModel",
            "justify_items": null,
            "grid_row": null,
            "max_height": null,
            "align_content": null,
            "visibility": null,
            "align_self": null,
            "height": null,
            "min_height": null,
            "padding": null,
            "grid_auto_rows": null,
            "grid_gap": null,
            "max_width": null,
            "order": null,
            "_view_module_version": "1.2.0",
            "grid_template_areas": null,
            "object_position": null,
            "object_fit": null,
            "grid_auto_columns": null,
            "margin": null,
            "display": null,
            "left": null
          }
        },
        "c28acf4ba2fb4b9884406b56dc9afc9e": {
          "model_module": "@jupyter-widgets/controls",
          "model_name": "VBoxModel",
          "state": {
            "_view_name": "VBoxView",
            "_dom_classes": [
              "widget-interact"
            ],
            "_model_name": "VBoxModel",
            "_view_module": "@jupyter-widgets/controls",
            "_model_module_version": "1.5.0",
            "_view_count": null,
            "_view_module_version": "1.5.0",
            "box_style": "",
            "layout": "IPY_MODEL_18014e9cd69c44d3b9b0bd4ea8136bf6",
            "_model_module": "@jupyter-widgets/controls",
            "children": [
              "IPY_MODEL_3b3d96b800094a3eb8032a6ff8c2b40c",
              "IPY_MODEL_ac802c990bf245a3bb9972a6b46cd774",
              "IPY_MODEL_008f937c1ca0464495e8e457be6c483f"
            ]
          }
        },
        "18014e9cd69c44d3b9b0bd4ea8136bf6": {
          "model_module": "@jupyter-widgets/base",
          "model_name": "LayoutModel",
          "state": {
            "_view_name": "LayoutView",
            "grid_template_rows": null,
            "right": null,
            "justify_content": null,
            "_view_module": "@jupyter-widgets/base",
            "overflow": null,
            "_model_module_version": "1.2.0",
            "_view_count": null,
            "flex_flow": null,
            "width": null,
            "min_width": null,
            "border": null,
            "align_items": null,
            "bottom": null,
            "_model_module": "@jupyter-widgets/base",
            "top": null,
            "grid_column": null,
            "overflow_y": null,
            "overflow_x": null,
            "grid_auto_flow": null,
            "grid_area": null,
            "grid_template_columns": null,
            "flex": null,
            "_model_name": "LayoutModel",
            "justify_items": null,
            "grid_row": null,
            "max_height": null,
            "align_content": null,
            "visibility": null,
            "align_self": null,
            "height": null,
            "min_height": null,
            "padding": null,
            "grid_auto_rows": null,
            "grid_gap": null,
            "max_width": null,
            "order": null,
            "_view_module_version": "1.2.0",
            "grid_template_areas": null,
            "object_position": null,
            "object_fit": null,
            "grid_auto_columns": null,
            "margin": null,
            "display": null,
            "left": null
          }
        },
        "3b3d96b800094a3eb8032a6ff8c2b40c": {
          "model_module": "@jupyter-widgets/controls",
          "model_name": "FloatSliderModel",
          "state": {
            "_view_name": "FloatSliderView",
            "style": "IPY_MODEL_a0c794667de54b7cbd28e864284cc627",
            "_dom_classes": [],
            "description": "mu_gwn",
            "step": 5,
            "_model_name": "FloatSliderModel",
            "orientation": "horizontal",
            "max": 300,
            "_view_module": "@jupyter-widgets/controls",
            "_model_module_version": "1.5.0",
            "value": 165,
            "_view_count": null,
            "disabled": false,
            "_view_module_version": "1.5.0",
            "min": 100,
            "continuous_update": true,
            "readout_format": ".2f",
            "description_tooltip": null,
            "readout": true,
            "_model_module": "@jupyter-widgets/controls",
            "layout": "IPY_MODEL_605d5b878eb34f798174b23c71ed682a"
          }
        },
        "ac802c990bf245a3bb9972a6b46cd774": {
          "model_module": "@jupyter-widgets/controls",
          "model_name": "FloatSliderModel",
          "state": {
            "_view_name": "FloatSliderView",
            "style": "IPY_MODEL_08ee5996667d4df89fdd2030f717bd3c",
            "_dom_classes": [],
            "description": "sig_gwn",
            "step": 0.5,
            "_model_name": "FloatSliderModel",
            "orientation": "horizontal",
            "max": 5,
            "_view_module": "@jupyter-widgets/controls",
            "_model_module_version": "1.5.0",
            "value": 3,
            "_view_count": null,
            "disabled": false,
            "_view_module_version": "1.5.0",
            "min": 0,
            "continuous_update": true,
            "readout_format": ".2f",
            "description_tooltip": null,
            "readout": true,
            "_model_module": "@jupyter-widgets/controls",
            "layout": "IPY_MODEL_605d5b878eb34f798174b23c71ed682a"
          }
        },
        "008f937c1ca0464495e8e457be6c483f": {
          "model_module": "@jupyter-widgets/output",
          "model_name": "OutputModel",
          "state": {
            "_view_name": "OutputView",
            "msg_id": "",
            "_dom_classes": [],
            "_model_name": "OutputModel",
            "outputs": [
              {
                "output_type": "display_data",
                "metadata": {
                  "tags": [],
                  "image/png": {
                    "width": 846,
                    "height": 270
                  },
                  "needs_background": "light"
                },
                "image/png": "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\n",
                "text/plain": "<Figure size 864x288 with 2 Axes>"
              }
            ],
            "_view_module": "@jupyter-widgets/output",
            "_model_module_version": "1.0.0",
            "_view_count": null,
            "_view_module_version": "1.0.0",
            "layout": "IPY_MODEL_c9a79aa1f28b48878e83c33a05cccf55",
            "_model_module": "@jupyter-widgets/output"
          }
        },
        "a0c794667de54b7cbd28e864284cc627": {
          "model_module": "@jupyter-widgets/controls",
          "model_name": "SliderStyleModel",
          "state": {
            "_view_name": "StyleView",
            "handle_color": null,
            "_model_name": "SliderStyleModel",
            "description_width": "",
            "_view_module": "@jupyter-widgets/base",
            "_model_module_version": "1.5.0",
            "_view_count": null,
            "_view_module_version": "1.2.0",
            "_model_module": "@jupyter-widgets/controls"
          }
        },
        "08ee5996667d4df89fdd2030f717bd3c": {
          "model_module": "@jupyter-widgets/controls",
          "model_name": "SliderStyleModel",
          "state": {
            "_view_name": "StyleView",
            "handle_color": null,
            "_model_name": "SliderStyleModel",
            "description_width": "",
            "_view_module": "@jupyter-widgets/base",
            "_model_module_version": "1.5.0",
            "_view_count": null,
            "_view_module_version": "1.2.0",
            "_model_module": "@jupyter-widgets/controls"
          }
        },
        "c9a79aa1f28b48878e83c33a05cccf55": {
          "model_module": "@jupyter-widgets/base",
          "model_name": "LayoutModel",
          "state": {
            "_view_name": "LayoutView",
            "grid_template_rows": null,
            "right": null,
            "justify_content": null,
            "_view_module": "@jupyter-widgets/base",
            "overflow": null,
            "_model_module_version": "1.2.0",
            "_view_count": null,
            "flex_flow": null,
            "width": null,
            "min_width": null,
            "border": null,
            "align_items": null,
            "bottom": null,
            "_model_module": "@jupyter-widgets/base",
            "top": null,
            "grid_column": null,
            "overflow_y": null,
            "overflow_x": null,
            "grid_auto_flow": null,
            "grid_area": null,
            "grid_template_columns": null,
            "flex": null,
            "_model_name": "LayoutModel",
            "justify_items": null,
            "grid_row": null,
            "max_height": null,
            "align_content": null,
            "visibility": null,
            "align_self": null,
            "height": null,
            "min_height": null,
            "padding": null,
            "grid_auto_rows": null,
            "grid_gap": null,
            "max_width": null,
            "order": null,
            "_view_module_version": "1.2.0",
            "grid_template_areas": null,
            "object_position": null,
            "object_fit": null,
            "grid_auto_columns": null,
            "margin": null,
            "display": null,
            "left": null
          }
        },
        "0376050265114c9e8811dd3292168ca4": {
          "model_module": "@jupyter-widgets/controls",
          "model_name": "VBoxModel",
          "state": {
            "_view_name": "VBoxView",
            "_dom_classes": [
              "widget-interact"
            ],
            "_model_name": "VBoxModel",
            "_view_module": "@jupyter-widgets/controls",
            "_model_module_version": "1.5.0",
            "_view_count": null,
            "_view_module_version": "1.5.0",
            "box_style": "",
            "layout": "IPY_MODEL_8e5e77b34bc245d8aa7d045861b32279",
            "_model_module": "@jupyter-widgets/controls",
            "children": [
              "IPY_MODEL_8e86854ce5a44401be242719ce7500c2",
              "IPY_MODEL_f4f7fe79255047288287ab132f21e1b5"
            ]
          }
        },
        "8e5e77b34bc245d8aa7d045861b32279": {
          "model_module": "@jupyter-widgets/base",
          "model_name": "LayoutModel",
          "state": {
            "_view_name": "LayoutView",
            "grid_template_rows": null,
            "right": null,
            "justify_content": null,
            "_view_module": "@jupyter-widgets/base",
            "overflow": null,
            "_model_module_version": "1.2.0",
            "_view_count": null,
            "flex_flow": null,
            "width": null,
            "min_width": null,
            "border": null,
            "align_items": null,
            "bottom": null,
            "_model_module": "@jupyter-widgets/base",
            "top": null,
            "grid_column": null,
            "overflow_y": null,
            "overflow_x": null,
            "grid_auto_flow": null,
            "grid_area": null,
            "grid_template_columns": null,
            "flex": null,
            "_model_name": "LayoutModel",
            "justify_items": null,
            "grid_row": null,
            "max_height": null,
            "align_content": null,
            "visibility": null,
            "align_self": null,
            "height": null,
            "min_height": null,
            "padding": null,
            "grid_auto_rows": null,
            "grid_gap": null,
            "max_width": null,
            "order": null,
            "_view_module_version": "1.2.0",
            "grid_template_areas": null,
            "object_position": null,
            "object_fit": null,
            "grid_auto_columns": null,
            "margin": null,
            "display": null,
            "left": null
          }
        },
        "8e86854ce5a44401be242719ce7500c2": {
          "model_module": "@jupyter-widgets/controls",
          "model_name": "FloatSliderModel",
          "state": {
            "_view_name": "FloatSliderView",
            "style": "IPY_MODEL_851b984f7fa9448c8c2e5f46ae77d206",
            "_dom_classes": [],
            "description": "sig_gwn",
            "step": 0.5,
            "_model_name": "FloatSliderModel",
            "orientation": "horizontal",
            "max": 6,
            "_view_module": "@jupyter-widgets/controls",
            "_model_module_version": "1.5.0",
            "value": 6,
            "_view_count": null,
            "disabled": false,
            "_view_module_version": "1.5.0",
            "min": 0,
            "continuous_update": true,
            "readout_format": ".2f",
            "description_tooltip": null,
            "readout": true,
            "_model_module": "@jupyter-widgets/controls",
            "layout": "IPY_MODEL_605d5b878eb34f798174b23c71ed682a"
          }
        },
        "f4f7fe79255047288287ab132f21e1b5": {
          "model_module": "@jupyter-widgets/output",
          "model_name": "OutputModel",
          "state": {
            "_view_name": "OutputView",
            "msg_id": "",
            "_dom_classes": [],
            "_model_name": "OutputModel",
            "outputs": [
              {
                "output_type": "display_data",
                "metadata": {
                  "tags": [],
                  "image/png": {
                    "width": 557,
                    "height": 413
                  },
                  "needs_background": "light"
                },
                "image/png": "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\n",
                "text/plain": "<Figure size 576x432 with 1 Axes>"
              }
            ],
            "_view_module": "@jupyter-widgets/output",
            "_model_module_version": "1.0.0",
            "_view_count": null,
            "_view_module_version": "1.0.0",
            "layout": "IPY_MODEL_948d526cb1444bb799c2a85d1101d6e5",
            "_model_module": "@jupyter-widgets/output"
          }
        },
        "851b984f7fa9448c8c2e5f46ae77d206": {
          "model_module": "@jupyter-widgets/controls",
          "model_name": "SliderStyleModel",
          "state": {
            "_view_name": "StyleView",
            "handle_color": null,
            "_model_name": "SliderStyleModel",
            "description_width": "",
            "_view_module": "@jupyter-widgets/base",
            "_model_module_version": "1.5.0",
            "_view_count": null,
            "_view_module_version": "1.2.0",
            "_model_module": "@jupyter-widgets/controls"
          }
        },
        "948d526cb1444bb799c2a85d1101d6e5": {
          "model_module": "@jupyter-widgets/base",
          "model_name": "LayoutModel",
          "state": {
            "_view_name": "LayoutView",
            "grid_template_rows": null,
            "right": null,
            "justify_content": null,
            "_view_module": "@jupyter-widgets/base",
            "overflow": null,
            "_model_module_version": "1.2.0",
            "_view_count": null,
            "flex_flow": null,
            "width": null,
            "min_width": null,
            "border": null,
            "align_items": null,
            "bottom": null,
            "_model_module": "@jupyter-widgets/base",
            "top": null,
            "grid_column": null,
            "overflow_y": null,
            "overflow_x": null,
            "grid_auto_flow": null,
            "grid_area": null,
            "grid_template_columns": null,
            "flex": null,
            "_model_name": "LayoutModel",
            "justify_items": null,
            "grid_row": null,
            "max_height": null,
            "align_content": null,
            "visibility": null,
            "align_self": null,
            "height": null,
            "min_height": null,
            "padding": null,
            "grid_auto_rows": null,
            "grid_gap": null,
            "max_width": null,
            "order": null,
            "_view_module_version": "1.2.0",
            "grid_template_areas": null,
            "object_position": null,
            "object_fit": null,
            "grid_auto_columns": null,
            "margin": null,
            "display": null,
            "left": null
          }
        },
        "bd2f286b3402461da123e44243292177": {
          "model_module": "@jupyter-widgets/controls",
          "model_name": "VBoxModel",
          "state": {
            "_view_name": "VBoxView",
            "_dom_classes": [
              "widget-interact"
            ],
            "_model_name": "VBoxModel",
            "_view_module": "@jupyter-widgets/controls",
            "_model_module_version": "1.5.0",
            "_view_count": null,
            "_view_module_version": "1.5.0",
            "box_style": "",
            "layout": "IPY_MODEL_c327c166094f4263938873c3081e9579",
            "_model_module": "@jupyter-widgets/controls",
            "children": [
              "IPY_MODEL_90dc0420fad24f9490fdd6262a5e1e4a",
              "IPY_MODEL_25cadb71b88a4e94a31a25a0c1ada69f"
            ]
          }
        },
        "c327c166094f4263938873c3081e9579": {
          "model_module": "@jupyter-widgets/base",
          "model_name": "LayoutModel",
          "state": {
            "_view_name": "LayoutView",
            "grid_template_rows": null,
            "right": null,
            "justify_content": null,
            "_view_module": "@jupyter-widgets/base",
            "overflow": null,
            "_model_module_version": "1.2.0",
            "_view_count": null,
            "flex_flow": null,
            "width": null,
            "min_width": null,
            "border": null,
            "align_items": null,
            "bottom": null,
            "_model_module": "@jupyter-widgets/base",
            "top": null,
            "grid_column": null,
            "overflow_y": null,
            "overflow_x": null,
            "grid_auto_flow": null,
            "grid_area": null,
            "grid_template_columns": null,
            "flex": null,
            "_model_name": "LayoutModel",
            "justify_items": null,
            "grid_row": null,
            "max_height": null,
            "align_content": null,
            "visibility": null,
            "align_self": null,
            "height": null,
            "min_height": null,
            "padding": null,
            "grid_auto_rows": null,
            "grid_gap": null,
            "max_width": null,
            "order": null,
            "_view_module_version": "1.2.0",
            "grid_template_areas": null,
            "object_position": null,
            "object_fit": null,
            "grid_auto_columns": null,
            "margin": null,
            "display": null,
            "left": null
          }
        },
        "90dc0420fad24f9490fdd6262a5e1e4a": {
          "model_module": "@jupyter-widgets/controls",
          "model_name": "FloatSliderModel",
          "state": {
            "_view_name": "FloatSliderView",
            "style": "IPY_MODEL_5cda0b0a71024e62a4a369954b3d127a",
            "_dom_classes": [],
            "description": "sig_gwn",
            "step": 0.5,
            "_model_name": "FloatSliderModel",
            "orientation": "horizontal",
            "max": 10,
            "_view_module": "@jupyter-widgets/controls",
            "_model_module_version": "1.5.0",
            "value": 7.5,
            "_view_count": null,
            "disabled": false,
            "_view_module_version": "1.5.0",
            "min": 0,
            "continuous_update": true,
            "readout_format": ".2f",
            "description_tooltip": null,
            "readout": true,
            "_model_module": "@jupyter-widgets/controls",
            "layout": "IPY_MODEL_605d5b878eb34f798174b23c71ed682a"
          }
        },
        "25cadb71b88a4e94a31a25a0c1ada69f": {
          "model_module": "@jupyter-widgets/output",
          "model_name": "OutputModel",
          "state": {
            "_view_name": "OutputView",
            "msg_id": "",
            "_dom_classes": [],
            "_model_name": "OutputModel",
            "outputs": [
              {
                "output_type": "display_data",
                "metadata": {
                  "tags": [],
                  "image/png": {
                    "width": 558,
                    "height": 413
                  },
                  "needs_background": "light"
                },
                "image/png": "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\n",
                "text/plain": "<Figure size 576x432 with 1 Axes>"
              }
            ],
            "_view_module": "@jupyter-widgets/output",
            "_model_module_version": "1.0.0",
            "_view_count": null,
            "_view_module_version": "1.0.0",
            "layout": "IPY_MODEL_65e5322dd61241cfb5715c2bac180101",
            "_model_module": "@jupyter-widgets/output"
          }
        },
        "5cda0b0a71024e62a4a369954b3d127a": {
          "model_module": "@jupyter-widgets/controls",
          "model_name": "SliderStyleModel",
          "state": {
            "_view_name": "StyleView",
            "handle_color": null,
            "_model_name": "SliderStyleModel",
            "description_width": "",
            "_view_module": "@jupyter-widgets/base",
            "_model_module_version": "1.5.0",
            "_view_count": null,
            "_view_module_version": "1.2.0",
            "_model_module": "@jupyter-widgets/controls"
          }
        },
        "65e5322dd61241cfb5715c2bac180101": {
          "model_module": "@jupyter-widgets/base",
          "model_name": "LayoutModel",
          "state": {
            "_view_name": "LayoutView",
            "grid_template_rows": null,
            "right": null,
            "justify_content": null,
            "_view_module": "@jupyter-widgets/base",
            "overflow": null,
            "_model_module_version": "1.2.0",
            "_view_count": null,
            "flex_flow": null,
            "width": null,
            "min_width": null,
            "border": null,
            "align_items": null,
            "bottom": null,
            "_model_module": "@jupyter-widgets/base",
            "top": null,
            "grid_column": null,
            "overflow_y": null,
            "overflow_x": null,
            "grid_auto_flow": null,
            "grid_area": null,
            "grid_template_columns": null,
            "flex": null,
            "_model_name": "LayoutModel",
            "justify_items": null,
            "grid_row": null,
            "max_height": null,
            "align_content": null,
            "visibility": null,
            "align_self": null,
            "height": null,
            "min_height": null,
            "padding": null,
            "grid_auto_rows": null,
            "grid_gap": null,
            "max_width": null,
            "order": null,
            "_view_module_version": "1.2.0",
            "grid_template_areas": null,
            "object_position": null,
            "object_fit": null,
            "grid_auto_columns": null,
            "margin": null,
            "display": null,
            "left": null
          }
        },
        "0f2a3745ecc74bdabe96fb2bbba06ce7": {
          "model_module": "@jupyter-widgets/controls",
          "model_name": "VBoxModel",
          "state": {
            "_view_name": "VBoxView",
            "_dom_classes": [
              "widget-interact"
            ],
            "_model_name": "VBoxModel",
            "_view_module": "@jupyter-widgets/controls",
            "_model_module_version": "1.5.0",
            "_view_count": null,
            "_view_module_version": "1.5.0",
            "box_style": "",
            "layout": "IPY_MODEL_8727bae746724eaabbf430f6db0f4b72",
            "_model_module": "@jupyter-widgets/controls",
            "children": [
              "IPY_MODEL_367d3b2682ee4cda9c96067447e35f8b",
              "IPY_MODEL_c402d5210d454f0fb409b324dbfeee35",
              "IPY_MODEL_a18660cf33b1410f9761fbf0fb496215",
              "IPY_MODEL_0bef616f40184f159d12946dbf6a1cdc"
            ]
          }
        },
        "8727bae746724eaabbf430f6db0f4b72": {
          "model_module": "@jupyter-widgets/base",
          "model_name": "LayoutModel",
          "state": {
            "_view_name": "LayoutView",
            "grid_template_rows": null,
            "right": null,
            "justify_content": null,
            "_view_module": "@jupyter-widgets/base",
            "overflow": null,
            "_model_module_version": "1.2.0",
            "_view_count": null,
            "flex_flow": null,
            "width": null,
            "min_width": null,
            "border": null,
            "align_items": null,
            "bottom": null,
            "_model_module": "@jupyter-widgets/base",
            "top": null,
            "grid_column": null,
            "overflow_y": null,
            "overflow_x": null,
            "grid_auto_flow": null,
            "grid_area": null,
            "grid_template_columns": null,
            "flex": null,
            "_model_name": "LayoutModel",
            "justify_items": null,
            "grid_row": null,
            "max_height": null,
            "align_content": null,
            "visibility": null,
            "align_self": null,
            "height": null,
            "min_height": null,
            "padding": null,
            "grid_auto_rows": null,
            "grid_gap": null,
            "max_width": null,
            "order": null,
            "_view_module_version": "1.2.0",
            "grid_template_areas": null,
            "object_position": null,
            "object_fit": null,
            "grid_auto_columns": null,
            "margin": null,
            "display": null,
            "left": null
          }
        },
        "367d3b2682ee4cda9c96067447e35f8b": {
          "model_module": "@jupyter-widgets/controls",
          "model_name": "FloatSliderModel",
          "state": {
            "_view_name": "FloatSliderView",
            "style": "IPY_MODEL_7984a6f0ae7c41499e162ca0e19656de",
            "_dom_classes": [],
            "description": "tau_ou",
            "step": 2.5,
            "_model_name": "FloatSliderModel",
            "orientation": "horizontal",
            "max": 20,
            "_view_module": "@jupyter-widgets/controls",
            "_model_module_version": "1.5.0",
            "value": 10,
            "_view_count": null,
            "disabled": false,
            "_view_module_version": "1.5.0",
            "min": 5,
            "continuous_update": true,
            "readout_format": ".2f",
            "description_tooltip": null,
            "readout": true,
            "_model_module": "@jupyter-widgets/controls",
            "layout": "IPY_MODEL_605d5b878eb34f798174b23c71ed682a"
          }
        },
        "c402d5210d454f0fb409b324dbfeee35": {
          "model_module": "@jupyter-widgets/controls",
          "model_name": "FloatSliderModel",
          "state": {
            "_view_name": "FloatSliderView",
            "style": "IPY_MODEL_17af276cfeea45faa513a2cca0067540",
            "_dom_classes": [],
            "description": "sig_ou",
            "step": 2.5,
            "_model_name": "FloatSliderModel",
            "orientation": "horizontal",
            "max": 40,
            "_view_module": "@jupyter-widgets/controls",
            "_model_module_version": "1.5.0",
            "value": 10,
            "_view_count": null,
            "disabled": false,
            "_view_module_version": "1.5.0",
            "min": 5,
            "continuous_update": true,
            "readout_format": ".2f",
            "description_tooltip": null,
            "readout": true,
            "_model_module": "@jupyter-widgets/controls",
            "layout": "IPY_MODEL_605d5b878eb34f798174b23c71ed682a"
          }
        },
        "a18660cf33b1410f9761fbf0fb496215": {
          "model_module": "@jupyter-widgets/controls",
          "model_name": "FloatSliderModel",
          "state": {
            "_view_name": "FloatSliderView",
            "style": "IPY_MODEL_0529237700574afa9f0ab0c10a304581",
            "_dom_classes": [],
            "description": "mu_ou",
            "step": 2.5,
            "_model_name": "FloatSliderModel",
            "orientation": "horizontal",
            "max": 220,
            "_view_module": "@jupyter-widgets/controls",
            "_model_module_version": "1.5.0",
            "value": 190,
            "_view_count": null,
            "disabled": false,
            "_view_module_version": "1.5.0",
            "min": 180,
            "continuous_update": true,
            "readout_format": ".2f",
            "description_tooltip": null,
            "readout": true,
            "_model_module": "@jupyter-widgets/controls",
            "layout": "IPY_MODEL_605d5b878eb34f798174b23c71ed682a"
          }
        },
        "0bef616f40184f159d12946dbf6a1cdc": {
          "model_module": "@jupyter-widgets/output",
          "model_name": "OutputModel",
          "state": {
            "_view_name": "OutputView",
            "msg_id": "",
            "_dom_classes": [],
            "_model_name": "OutputModel",
            "outputs": [
              {
                "output_type": "display_data",
                "metadata": {
                  "tags": [],
                  "image/png": {
                    "width": 846,
                    "height": 270
                  },
                  "needs_background": "light"
                },
                "image/png": "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\n",
                "text/plain": "<Figure size 864x288 with 2 Axes>"
              }
            ],
            "_view_module": "@jupyter-widgets/output",
            "_model_module_version": "1.0.0",
            "_view_count": null,
            "_view_module_version": "1.0.0",
            "layout": "IPY_MODEL_80c4e918df3e4afe8d34cb58489e4b78",
            "_model_module": "@jupyter-widgets/output"
          }
        },
        "7984a6f0ae7c41499e162ca0e19656de": {
          "model_module": "@jupyter-widgets/controls",
          "model_name": "SliderStyleModel",
          "state": {
            "_view_name": "StyleView",
            "handle_color": null,
            "_model_name": "SliderStyleModel",
            "description_width": "",
            "_view_module": "@jupyter-widgets/base",
            "_model_module_version": "1.5.0",
            "_view_count": null,
            "_view_module_version": "1.2.0",
            "_model_module": "@jupyter-widgets/controls"
          }
        },
        "17af276cfeea45faa513a2cca0067540": {
          "model_module": "@jupyter-widgets/controls",
          "model_name": "SliderStyleModel",
          "state": {
            "_view_name": "StyleView",
            "handle_color": null,
            "_model_name": "SliderStyleModel",
            "description_width": "",
            "_view_module": "@jupyter-widgets/base",
            "_model_module_version": "1.5.0",
            "_view_count": null,
            "_view_module_version": "1.2.0",
            "_model_module": "@jupyter-widgets/controls"
          }
        },
        "0529237700574afa9f0ab0c10a304581": {
          "model_module": "@jupyter-widgets/controls",
          "model_name": "SliderStyleModel",
          "state": {
            "_view_name": "StyleView",
            "handle_color": null,
            "_model_name": "SliderStyleModel",
            "description_width": "",
            "_view_module": "@jupyter-widgets/base",
            "_model_module_version": "1.5.0",
            "_view_count": null,
            "_view_module_version": "1.2.0",
            "_model_module": "@jupyter-widgets/controls"
          }
        },
        "80c4e918df3e4afe8d34cb58489e4b78": {
          "model_module": "@jupyter-widgets/base",
          "model_name": "LayoutModel",
          "state": {
            "_view_name": "LayoutView",
            "grid_template_rows": null,
            "right": null,
            "justify_content": null,
            "_view_module": "@jupyter-widgets/base",
            "overflow": null,
            "_model_module_version": "1.2.0",
            "_view_count": null,
            "flex_flow": null,
            "width": null,
            "min_width": null,
            "border": null,
            "align_items": null,
            "bottom": null,
            "_model_module": "@jupyter-widgets/base",
            "top": null,
            "grid_column": null,
            "overflow_y": null,
            "overflow_x": null,
            "grid_auto_flow": null,
            "grid_area": null,
            "grid_template_columns": null,
            "flex": null,
            "_model_name": "LayoutModel",
            "justify_items": null,
            "grid_row": null,
            "max_height": null,
            "align_content": null,
            "visibility": null,
            "align_self": null,
            "height": null,
            "min_height": null,
            "padding": null,
            "grid_auto_rows": null,
            "grid_gap": null,
            "max_width": null,
            "order": null,
            "_view_module_version": "1.2.0",
            "grid_template_areas": null,
            "object_position": null,
            "object_fit": null,
            "grid_auto_columns": null,
            "margin": null,
            "display": null,
            "left": null
          }
        },
        "5f0fd0375e92403faf8ea19bc7f0cd06": {
          "model_module": "@jupyter-widgets/controls",
          "model_name": "TabModel",
          "state": {
            "_view_name": "TabView",
            "_dom_classes": [],
            "_titles": {
              "0": "Youtube",
              "1": "Bilibili"
            },
            "_model_name": "TabModel",
            "_view_module": "@jupyter-widgets/controls",
            "selected_index": 0,
            "_model_module_version": "1.5.0",
            "_view_count": null,
            "_view_module_version": "1.5.0",
            "box_style": "",
            "layout": "IPY_MODEL_5371e79646b94ecf953aaac9aacc4da7",
            "_model_module": "@jupyter-widgets/controls",
            "children": [
              "IPY_MODEL_af725b7d42304fd9a72598674da5fce9",
              "IPY_MODEL_606b4d9330074189aaeaa0c15ec4e8f4"
            ]
          }
        },
        "5371e79646b94ecf953aaac9aacc4da7": {
          "model_module": "@jupyter-widgets/base",
          "model_name": "LayoutModel",
          "state": {
            "_view_name": "LayoutView",
            "grid_template_rows": null,
            "right": null,
            "justify_content": null,
            "_view_module": "@jupyter-widgets/base",
            "overflow": null,
            "_model_module_version": "1.2.0",
            "_view_count": null,
            "flex_flow": null,
            "width": null,
            "min_width": null,
            "border": null,
            "align_items": null,
            "bottom": null,
            "_model_module": "@jupyter-widgets/base",
            "top": null,
            "grid_column": null,
            "overflow_y": null,
            "overflow_x": null,
            "grid_auto_flow": null,
            "grid_area": null,
            "grid_template_columns": null,
            "flex": null,
            "_model_name": "LayoutModel",
            "justify_items": null,
            "grid_row": null,
            "max_height": null,
            "align_content": null,
            "visibility": null,
            "align_self": null,
            "height": null,
            "min_height": null,
            "padding": null,
            "grid_auto_rows": null,
            "grid_gap": null,
            "max_width": null,
            "order": null,
            "_view_module_version": "1.2.0",
            "grid_template_areas": null,
            "object_position": null,
            "object_fit": null,
            "grid_auto_columns": null,
            "margin": null,
            "display": null,
            "left": null
          }
        },
        "af725b7d42304fd9a72598674da5fce9": {
          "model_module": "@jupyter-widgets/output",
          "model_name": "OutputModel",
          "state": {
            "_view_name": "OutputView",
            "msg_id": "",
            "_dom_classes": [],
            "_model_name": "OutputModel",
            "outputs": [
              {
                "output_type": "stream",
                "metadata": {
                  "tags": []
                },
                "text": "Video available at https://youtube.com/watch?v=G0b6wLhuQxE\n",
                "stream": "stdout"
              },
              {
                "output_type": "display_data",
                "metadata": {
                  "tags": []
                },
                "text/html": "\n        <iframe\n            width=\"854\"\n            height=\"480\"\n            src=\"https://www.youtube.com/embed/G0b6wLhuQxE?fs=1&rel=0\"\n            frameborder=\"0\"\n            allowfullscreen\n        ></iframe>\n        ",
                "text/plain": "<IPython.lib.display.YouTubeVideo at 0x7f7d4a15d550>",
                "image/jpeg": "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\n"
              }
            ],
            "_view_module": "@jupyter-widgets/output",
            "_model_module_version": "1.0.0",
            "_view_count": null,
            "_view_module_version": "1.0.0",
            "layout": "IPY_MODEL_265fcc4f3850470485d5a49345dd1400",
            "_model_module": "@jupyter-widgets/output"
          }
        },
        "606b4d9330074189aaeaa0c15ec4e8f4": {
          "model_module": "@jupyter-widgets/output",
          "model_name": "OutputModel",
          "state": {
            "_view_name": "OutputView",
            "msg_id": "",
            "_dom_classes": [],
            "_model_name": "OutputModel",
            "outputs": [
              {
                "output_type": "stream",
                "metadata": {
                  "tags": []
                },
                "text": "Video available at https://www.bilibili.com/video/\n",
                "stream": "stdout"
              },
              {
                "output_type": "display_data",
                "metadata": {
                  "tags": []
                },
                "text/html": "\n        <iframe\n            width=\"854\"\n            height=\"480\"\n            src=\"https://player.bilibili.com/player.html?bvid=&page=1?fs=1\"\n            frameborder=\"0\"\n            allowfullscreen\n        ></iframe>\n        ",
                "text/plain": "<__main__.BiliVideo at 0x7f7d49c9f810>"
              }
            ],
            "_view_module": "@jupyter-widgets/output",
            "_model_module_version": "1.0.0",
            "_view_count": null,
            "_view_module_version": "1.0.0",
            "layout": "IPY_MODEL_e11635d5356940c8a804b111dbac4c2f",
            "_model_module": "@jupyter-widgets/output"
          }
        },
        "265fcc4f3850470485d5a49345dd1400": {
          "model_module": "@jupyter-widgets/base",
          "model_name": "LayoutModel",
          "state": {
            "_view_name": "LayoutView",
            "grid_template_rows": null,
            "right": null,
            "justify_content": null,
            "_view_module": "@jupyter-widgets/base",
            "overflow": null,
            "_model_module_version": "1.2.0",
            "_view_count": null,
            "flex_flow": null,
            "width": null,
            "min_width": null,
            "border": null,
            "align_items": null,
            "bottom": null,
            "_model_module": "@jupyter-widgets/base",
            "top": null,
            "grid_column": null,
            "overflow_y": null,
            "overflow_x": null,
            "grid_auto_flow": null,
            "grid_area": null,
            "grid_template_columns": null,
            "flex": null,
            "_model_name": "LayoutModel",
            "justify_items": null,
            "grid_row": null,
            "max_height": null,
            "align_content": null,
            "visibility": null,
            "align_self": null,
            "height": null,
            "min_height": null,
            "padding": null,
            "grid_auto_rows": null,
            "grid_gap": null,
            "max_width": null,
            "order": null,
            "_view_module_version": "1.2.0",
            "grid_template_areas": null,
            "object_position": null,
            "object_fit": null,
            "grid_auto_columns": null,
            "margin": null,
            "display": null,
            "left": null
          }
        },
        "e11635d5356940c8a804b111dbac4c2f": {
          "model_module": "@jupyter-widgets/base",
          "model_name": "LayoutModel",
          "state": {
            "_view_name": "LayoutView",
            "grid_template_rows": null,
            "right": null,
            "justify_content": null,
            "_view_module": "@jupyter-widgets/base",
            "overflow": null,
            "_model_module_version": "1.2.0",
            "_view_count": null,
            "flex_flow": null,
            "width": null,
            "min_width": null,
            "border": null,
            "align_items": null,
            "bottom": null,
            "_model_module": "@jupyter-widgets/base",
            "top": null,
            "grid_column": null,
            "overflow_y": null,
            "overflow_x": null,
            "grid_auto_flow": null,
            "grid_area": null,
            "grid_template_columns": null,
            "flex": null,
            "_model_name": "LayoutModel",
            "justify_items": null,
            "grid_row": null,
            "max_height": null,
            "align_content": null,
            "visibility": null,
            "align_self": null,
            "height": null,
            "min_height": null,
            "padding": null,
            "grid_auto_rows": null,
            "grid_gap": null,
            "max_width": null,
            "order": null,
            "_view_module_version": "1.2.0",
            "grid_template_areas": null,
            "object_position": null,
            "object_fit": null,
            "grid_auto_columns": null,
            "margin": null,
            "display": null,
            "left": null
          }
        }
      }
    }
  },
  "cells": [
    {
      "cell_type": "markdown",
      "metadata": {
        "id": "view-in-github",
        "colab_type": "text"
      },
      "source": [
        "<a href=\"https://colab.research.google.com/github/Leehong-DENG/CBIG/blob/master/tutorials/W2D3_BiologicalNeuronModels/student/W2D3_Tutorial1.ipynb\" target=\"_parent\"><img src=\"https://colab.research.google.com/assets/colab-badge.svg\" alt=\"Open In Colab\"/></a>"
      ]
    },
    {
      "cell_type": "markdown",
      "metadata": {
        "execution": {},
        "id": "6Pr_uVZYjfK6"
      },
      "source": [
        "# Tutorial 1: The Leaky Integrate-and-Fire (LIF) Neuron Model\n",
        "**Week 2, Day 3: Biological Neuron Models**\n",
        "\n",
        "**By Neuromatch Academy**\n",
        "\n",
        "__Content creators:__ Qinglong Gu, Songtin Li, John Murray, Richard Naud, Arvind Kumar\n",
        "\n",
        "__Content reviewers:__  Maryam Vaziri-Pashkam, Ella Batty, Lorenzo Fontolan, Richard Gao, Matthew Krause, Spiros Chavlis, Michael Waskom, Ethan Cheng"
      ]
    },
    {
      "cell_type": "markdown",
      "metadata": {
        "execution": {},
        "id": "zllezOWfjfK_"
      },
      "source": [
        "**Our 2021 Sponsors, including Presenting Sponsor Facebook Reality Labs**\n",
        "\n",
        "<p align='center'><img src='https://github.com/NeuromatchAcademy/widgets/blob/master/sponsors.png?raw=True'/></p>"
      ]
    },
    {
      "cell_type": "markdown",
      "metadata": {
        "execution": {},
        "id": "sWZG576rjfLB"
      },
      "source": [
        "---\n",
        "# Tutorial Objectives\n",
        "\n",
        "*Estimated timing of tutorial: 1 hour, 10 min*\n",
        "\n",
        "This is Tutorial 1 of a series on implementing realistic neuron models. In this tutorial, we will build up a leaky integrate-and-fire (LIF) neuron model and study its dynamics in response to various types of inputs. In particular, we are going to write a few lines of code to:  \n",
        "\n",
        "- simulate the LIF neuron model\n",
        "\n",
        "- drive the LIF neuron with external inputs, such as direct currents, Gaussian white noise, and Poisson spike trains, etc.\n",
        "\n",
        "- study how different inputs affect the  LIF neuron's output (firing rate and spike time irregularity)\n",
        "\n",
        "Here, we will especially emphasize identifying conditions (input statistics) under which a neuron can spike at low firing rates and in an irregular manner. The reason for focusing on this is that in most cases, neocortical neurons spike in an irregular manner."
      ]
    },
    {
      "cell_type": "code",
      "metadata": {
        "cellView": "form",
        "execution": {},
        "id": "EQf2Q1rujfLD",
        "outputId": "c3914eb1-2dca-4c10-8b66-4688e8e04c41",
        "colab": {
          "base_uri": "https://localhost:8080/",
          "height": 500
        }
      },
      "source": [
        "# @title Tutorial slides\n",
        "\n",
        "# @markdown These are the slides for the videos in all tutorials today\n",
        "from IPython.display import IFrame\n",
        "IFrame(src=f\"https://mfr.ca-1.osf.io/render?url=https://osf.io/8djsm/?direct%26mode=render%26action=download%26mode=render\", width=854, height=480)"
      ],
      "execution_count": 1,
      "outputs": [
        {
          "output_type": "execute_result",
          "data": {
            "text/html": [
              "\n",
              "        <iframe\n",
              "            width=\"854\"\n",
              "            height=\"480\"\n",
              "            src=\"https://mfr.ca-1.osf.io/render?url=https://osf.io/8djsm/?direct%26mode=render%26action=download%26mode=render\"\n",
              "            frameborder=\"0\"\n",
              "            allowfullscreen\n",
              "        ></iframe>\n",
              "        "
            ],
            "text/plain": [
              "<IPython.lib.display.IFrame at 0x7f7d5277c150>"
            ]
          },
          "metadata": {
            "tags": []
          },
          "execution_count": 1
        }
      ]
    },
    {
      "cell_type": "markdown",
      "metadata": {
        "execution": {},
        "id": "jpysLiiGjfLG"
      },
      "source": [
        "---\n",
        "# Setup"
      ]
    },
    {
      "cell_type": "code",
      "metadata": {
        "cellView": "both",
        "execution": {},
        "id": "9e6-GA_CjfLH"
      },
      "source": [
        "# Imports\n",
        "\n",
        "import numpy as np\n",
        "import matplotlib.pyplot as plt"
      ],
      "execution_count": 2,
      "outputs": []
    },
    {
      "cell_type": "code",
      "metadata": {
        "cellView": "form",
        "execution": {},
        "id": "nYZmBZ5RjfLI"
      },
      "source": [
        "# @title Figure Settings\n",
        "import ipywidgets as widgets  # interactive display\n",
        "%config InlineBackend.figure_format = 'retina'\n",
        "# use NMA plot style\n",
        "plt.style.use(\"https://raw.githubusercontent.com/NeuromatchAcademy/course-content/master/nma.mplstyle\")\n",
        "my_layout = widgets.Layout()"
      ],
      "execution_count": 5,
      "outputs": []
    },
    {
      "cell_type": "code",
      "metadata": {
        "cellView": "form",
        "execution": {},
        "id": "TO0hn1QUjfLJ"
      },
      "source": [
        "# @title Plotting Functions\n",
        "\n",
        "def plot_volt_trace(pars, v, sp):\n",
        "  \"\"\"\n",
        "  Plot trajetory of membrane potential for a single neuron\n",
        "\n",
        "  Expects:\n",
        "  pars   : parameter dictionary\n",
        "  v      : volt trajetory\n",
        "  sp     : spike train\n",
        "\n",
        "  Returns:\n",
        "  figure of the membrane potential trajetory for a single neuron\n",
        "  \"\"\"\n",
        "\n",
        "  V_th = pars['V_th']\n",
        "  dt, range_t = pars['dt'], pars['range_t']\n",
        "  if sp.size:\n",
        "    sp_num = (sp / dt).astype(int) - 1\n",
        "    v[sp_num] += 20  # draw nicer spikes\n",
        "\n",
        "  plt.plot(pars['range_t'], v, 'b')\n",
        "  plt.axhline(V_th, 0, 1, color='k', ls='--')\n",
        "  plt.xlabel('Time (ms)')\n",
        "  plt.ylabel('V (mV)')\n",
        "  plt.legend(['Membrane\\npotential', r'Threshold V$_{\\mathrm{th}}$'],\n",
        "             loc=[1.05, 0.75])\n",
        "  plt.ylim([-80, -40])\n",
        "\n",
        "\n",
        "def plot_GWN(pars, I_GWN):\n",
        "  \"\"\"\n",
        "  Args:\n",
        "    pars  : parameter dictionary\n",
        "    I_GWN : Gaussian white noise input\n",
        "\n",
        "  Returns:\n",
        "    figure of the gaussian white noise input\n",
        "  \"\"\"\n",
        "\n",
        "  plt.figure(figsize=(12, 4))\n",
        "  plt.subplot(121)\n",
        "  plt.plot(pars['range_t'][::3], I_GWN[::3], 'b')\n",
        "  plt.xlabel('Time (ms)')\n",
        "  plt.ylabel(r'$I_{GWN}$ (pA)')\n",
        "  plt.subplot(122)\n",
        "  plot_volt_trace(pars, v, sp)\n",
        "  plt.tight_layout()\n",
        "\n",
        "\n",
        "def my_hists(isi1, isi2, cv1, cv2, sigma1, sigma2):\n",
        "  \"\"\"\n",
        "  Args:\n",
        "    isi1 : vector with inter-spike intervals\n",
        "    isi2 : vector with inter-spike intervals\n",
        "    cv1  : coefficient of variation for isi1\n",
        "    cv2  : coefficient of variation for isi2\n",
        "\n",
        "  Returns:\n",
        "    figure with two histograms, isi1, isi2\n",
        "\n",
        "  \"\"\"\n",
        "  plt.figure(figsize=(11, 4))\n",
        "  my_bins = np.linspace(10, 30, 20)\n",
        "  plt.subplot(121)\n",
        "  plt.hist(isi1, bins=my_bins, color='b', alpha=0.5)\n",
        "  plt.xlabel('ISI (ms)')\n",
        "  plt.ylabel('count')\n",
        "  plt.title(r'$\\sigma_{GWN}=$%.1f, CV$_{\\mathrm{isi}}$=%.3f' % (sigma1, cv1))\n",
        "\n",
        "  plt.subplot(122)\n",
        "  plt.hist(isi2, bins=my_bins, color='b', alpha=0.5)\n",
        "  plt.xlabel('ISI (ms)')\n",
        "  plt.ylabel('count')\n",
        "  plt.title(r'$\\sigma_{GWN}=$%.1f, CV$_{\\mathrm{isi}}$=%.3f' % (sigma2, cv2))\n",
        "  plt.tight_layout()\n",
        "  plt.show()"
      ],
      "execution_count": 7,
      "outputs": []
    },
    {
      "cell_type": "markdown",
      "metadata": {
        "execution": {},
        "id": "61yu15atjfLL"
      },
      "source": [
        "---\n",
        "# Section 1: The Leaky Integrate-and-Fire (LIF) model"
      ]
    },
    {
      "cell_type": "code",
      "metadata": {
        "cellView": "form",
        "execution": {},
        "id": "AhnBgWi5jfLM",
        "outputId": "e63d73e1-79ed-4b78-82c4-7317b5f2d152",
        "colab": {
          "base_uri": "https://localhost:8080/",
          "height": 580,
          "referenced_widgets": [
            "b41c8752ac0e4487bb748d66b736e415",
            "5c5c30f56d914c12ad1a48f85d82ffc5",
            "e576e7fc19fd4559834cab551f6c6e92",
            "b7bf09cfd89d4f4ca498c27f6bf38f6e",
            "a47ce51f19fc43d5b15c0f956b178b78",
            "f8b7829207af4abfbfa5aad86918ffd5"
          ]
        }
      },
      "source": [
        "# @title Video 1: Reduced Neuron Models\n",
        "from ipywidgets import widgets\n",
        "\n",
        "out2 = widgets.Output()\n",
        "with out2:\n",
        "  from IPython.display import IFrame\n",
        "  class BiliVideo(IFrame):\n",
        "      def __init__(self, id, page=1, width=400, height=300, **kwargs):\n",
        "          self.id=id\n",
        "          src = 'https://player.bilibili.com/player.html?bvid={0}&page={1}'.format(id, page)\n",
        "          super(BiliVideo, self).__init__(src, width, height, **kwargs)\n",
        "\n",
        "  video = BiliVideo(id=\"av456396195\", width=854, height=480, fs=1)\n",
        "  print('Video available at https://www.bilibili.com/video/{0}'.format(video.id))\n",
        "  display(video)\n",
        "\n",
        "out1 = widgets.Output()\n",
        "with out1:\n",
        "  from IPython.display import YouTubeVideo\n",
        "  video = YouTubeVideo(id=\"rSExvwCVRYg\", width=854, height=480, fs=1, rel=0)\n",
        "  print('Video available at https://youtube.com/watch?v=' + video.id)\n",
        "  display(video)\n",
        "\n",
        "out = widgets.Tab([out1, out2])\n",
        "out.set_title(0, 'Youtube')\n",
        "out.set_title(1, 'Bilibili')\n",
        "\n",
        "display(out)"
      ],
      "execution_count": 3,
      "outputs": [
        {
          "output_type": "display_data",
          "data": {
            "application/vnd.jupyter.widget-view+json": {
              "model_id": "b41c8752ac0e4487bb748d66b736e415",
              "version_minor": 0,
              "version_major": 2
            },
            "text/plain": [
              "Tab(children=(Output(), Output()), _titles={'0': 'Youtube', '1': 'Bilibili'})"
            ]
          },
          "metadata": {
            "tags": []
          }
        }
      ]
    },
    {
      "cell_type": "markdown",
      "metadata": {
        "execution": {},
        "id": "fUWuOiV6jfLN"
      },
      "source": [
        "This video introduces the reduction of a biological neuron to a simple leaky-integrate-fire (LIF) neuron model.\n",
        "\n",
        "<details>\n",
        "<summary> <font color='blue'>Click here for text recap of video </font></summary>\n",
        "\n",
        "Now, it's your turn to implement one of the simplest mathematical model of a neuron: the leaky integrate-and-fire (LIF) model. The basic idea of LIF neuron was proposed in 1907 by Louis Édouard Lapicque, long before we understood the electrophysiology of a neuron (see a translation of [Lapicque's paper](https://pubmed.ncbi.nlm.nih.gov/17968583/) ). More details of the model can be found in the book [**Theoretical neuroscience**](http://www.gatsby.ucl.ac.uk/~dayan/book/) by Peter Dayan and Laurence F. Abbott.\n",
        "\n",
        "The subthreshold membrane potential dynamics of a LIF neuron is described by\n",
        "\n",
        "\\begin{eqnarray}\n",
        "C_m\\frac{dV}{dt} = -g_L(V-E_L) + I,\\quad (1)\n",
        "\\end{eqnarray}\n",
        "\n",
        "where $C_m$ is the membrane capacitance, $V$ is the membrane potential, $g_L$ is the leak conductance ($g_L = 1/R$, the inverse of the leak resistance $R$ mentioned in previous tutorials), $E_L$ is the resting potential, and $I$ is the external input current. \n",
        "\n",
        "Dividing both sides of the above equation by $g_L$ gives\n",
        "\n",
        "\\begin{align}\n",
        "\\tau_m\\frac{dV}{dt} = -(V-E_L) + \\frac{I}{g_L}\\,,\\quad (2)\n",
        "\\end{align}\n",
        "\n",
        "where the $\\tau_m$ is membrane time constant and is defined as $\\tau_m=C_m/g_L$. \n",
        "\n",
        "Note that dividing capacitance by conductance gives units of time! \n",
        "\n",
        "Below, we will use Eqn.(2) to simulate LIF neuron dynamics. \n",
        "\n",
        "If $I$ is sufficiently strong such that $V$ reaches a certain threshold value $V_{\\rm th}$, $V$ is reset to a reset potential $V_{\\rm reset}< V_{\\rm th}$, and voltage is clamped to $V_{\\rm reset}$ for $\\tau_{\\rm ref}$ ms, mimicking the refractoriness of the neuron during an action potential:\n",
        "\n",
        "\\begin{eqnarray}\n",
        "\\mathrm{if}\\quad V(t_{\\text{sp}})\\geq V_{\\rm th}&:& V(t)=V_{\\rm reset} \\text{  for } t\\in(t_{\\text{sp}}, t_{\\text{sp}} + \\tau_{\\text{ref}}]\n",
        "\\end{eqnarray}\n",
        "where $t_{\\rm sp}$ is the spike time when $V(t)$ just exceeded $V_{\\rm th}$.\n",
        "\n",
        "(__Note__: in the lecture slides, $\\theta$ corresponds to the threshold voltage $V_{th}$, and $\\Delta$ corresponds to the refractory time $\\tau_{\\rm ref}$.)\n",
        "\n",
        "</details>\n",
        "\n",
        "Note that you have seen the LIF model before if you looked at the pre-reqs Python or Calculus days!\n",
        "\n",
        "The LIF model captures the facts that a neuron:\n",
        "- performs spatial and temporal integration of synaptic inputs \n",
        "- generates a spike when the voltage reaches a certain threshold\n",
        "- goes refractory during the action potential\n",
        "- has a leaky membrane \n",
        "\n",
        "The LIF model assumes that the spatial and temporal integration of inputs is linear. Also, membrane potential dynamics close to the spike threshold are much slower in LIF neurons than in real neurons. \n"
      ]
    },
    {
      "cell_type": "markdown",
      "metadata": {
        "execution": {},
        "id": "ieplzYEMjfLO"
      },
      "source": [
        "## Coding Exercise 1: Python code to simulate the LIF neuron\n",
        "\n",
        "We now write Python code to calculate our equation for the LIF neuron and simulate the LIF neuron dynamics. We will use the Euler method, which you saw in the linear systems case yesterday  to numerically integrate this equation:\n",
        "\n",
        "\\begin{align*}\n",
        "\\tau_m\\frac{dV}{dt} = -(V-E_L) + \\frac{I}{g_L}\\,\n",
        "\\end{align*}\n",
        "\n",
        "where $V$ is the membrane potential, $g_L$ is the leak conductance, $E_L$ is the resting potential, $I$ is the external input current, and $\\tau_m$ is membrane time constant.\n",
        "\n",
        "The cell below initializes a dictionary that stores parameters of the LIF neuron model and the simulation scheme. You can use `pars=default_pars(T=simulation_time, dt=time_step)` to get the parameters. Note that, `simulation_time` and `time_step` have the unit `ms`. In addition, you can add the value to a new parameter by `pars['New_param'] = value`."
      ]
    },
    {
      "cell_type": "code",
      "metadata": {
        "cellView": "form",
        "execution": {},
        "id": "2IfBQY8BjfLP",
        "outputId": "29649a4d-ed8e-48df-d7c8-bf52eddf820a",
        "colab": {
          "base_uri": "https://localhost:8080/"
        }
      },
      "source": [
        "# @markdown Execute this code to initialize the default parameters\n",
        "\n",
        "\n",
        "def default_pars(**kwargs):\n",
        "  pars = {}\n",
        "\n",
        "  # typical neuron parameters#\n",
        "  pars['V_th'] = -55.     # spike threshold [mV]\n",
        "  pars['V_reset'] = -75.  # reset potential [mV]\n",
        "  pars['tau_m'] = 10.     # membrane time constant [ms]\n",
        "  pars['g_L'] = 10.       # leak conductance [nS]\n",
        "  pars['V_init'] = -75.   # initial potential [mV]\n",
        "  pars['E_L'] = -75.      # leak reversal potential [mV]\n",
        "  pars['tref'] = 2.       # refractory time (ms)\n",
        "\n",
        "  # simulation parameters #\n",
        "  pars['T'] = 400.  # Total duration of simulation [ms]\n",
        "  pars['dt'] = .1   # Simulation time step [ms]\n",
        "\n",
        "  # external parameters if any #\n",
        "  for k in kwargs:\n",
        "    pars[k] = kwargs[k]\n",
        "\n",
        "  pars['range_t'] = np.arange(0, pars['T'], pars['dt'])  # Vector of discretized time points [ms]\n",
        "\n",
        "  return pars\n",
        "\n",
        "\n",
        "pars = default_pars()\n",
        "print(pars)"
      ],
      "execution_count": 9,
      "outputs": [
        {
          "output_type": "stream",
          "text": [
            "{'V_th': -55.0, 'V_reset': -75.0, 'tau_m': 10.0, 'g_L': 10.0, 'V_init': -75.0, 'E_L': -75.0, 'tref': 2.0, 'T': 400.0, 'dt': 0.1, 'range_t': array([0.000e+00, 1.000e-01, 2.000e-01, ..., 3.997e+02, 3.998e+02,\n",
            "       3.999e+02])}\n"
          ],
          "name": "stdout"
        }
      ]
    },
    {
      "cell_type": "markdown",
      "metadata": {
        "execution": {},
        "id": "3DAveTcLjfLQ"
      },
      "source": [
        "Complete the function below to simulate the LIF neuron when receiving external current inputs. You can use `v, sp = run_LIF(pars, Iinj)` to get the membrane potential (`v`) and spike train (`sp`) given the dictionary `pars` and input current `Iinj`. "
      ]
    },
    {
      "cell_type": "code",
      "metadata": {
        "cellView": "both",
        "execution": {},
        "id": "nVLN1XQKjfLR",
        "outputId": "a4e7007a-6c00-4ebc-b81c-aec1fbc40e6a",
        "colab": {
          "base_uri": "https://localhost:8080/",
          "height": 431
        }
      },
      "source": [
        "def run_LIF(pars, Iinj, stop=False):\n",
        "  \"\"\"\n",
        "  Simulate the LIF dynamics with external input current\n",
        "\n",
        "  Args:\n",
        "    pars       : parameter dictionary\n",
        "    Iinj       : input current [pA]. The injected current here can be a value\n",
        "                 or an array\n",
        "    stop       : boolean. If True, use a current pulse\n",
        "\n",
        "  Returns:\n",
        "    rec_v      : membrane potential\n",
        "    rec_sp     : spike times\n",
        "  \"\"\"\n",
        "\n",
        "  # Set parameters\n",
        "  V_th, V_reset = pars['V_th'], pars['V_reset']\n",
        "  tau_m, g_L = pars['tau_m'], pars['g_L']\n",
        "  V_init, E_L = pars['V_init'], pars['E_L']\n",
        "  dt, range_t = pars['dt'], pars['range_t']\n",
        "  Lt = range_t.size\n",
        "  tref = pars['tref']\n",
        "\n",
        "  # Initialize voltage\n",
        "  v = np.zeros(Lt)\n",
        "  v[0] = V_init\n",
        "\n",
        "  # Set current time course\n",
        "  Iinj = Iinj * np.ones(Lt)\n",
        "\n",
        "  # If current pulse, set beginning and end to 0\n",
        "  if stop:\n",
        "    Iinj[:int(len(Iinj) / 2) - 1000] = 0\n",
        "    Iinj[int(len(Iinj) / 2) + 1000:] = 0\n",
        "\n",
        "  # Loop over time\n",
        "  rec_spikes = []  # record spike times\n",
        "  tr = 0.  # the count for refractory duration\n",
        "\n",
        "  for it in range(Lt - 1):\n",
        "\n",
        "    if tr > 0:  # check if in refractory period\n",
        "      v[it] = V_reset  # set voltage to reset\n",
        "      tr = tr - 1 # reduce running counter of refractory period\n",
        "\n",
        "    elif v[it] >= V_th:  # if voltage over threshold\n",
        "      rec_spikes.append(it)  # record spike event\n",
        "      v[it] = V_reset  # reset voltage\n",
        "      tr = tref / dt  # set refractory time\n",
        "\n",
        "    ########################################################################\n",
        "    ## TODO for students: compute the membrane potential v, spike train sp #\n",
        "    # Fill out function and remove\n",
        "    ## raise NotImplementedError('Student Exercise: calculate the dv/dt and the update step!')\n",
        "    ########################################################################\n",
        "\n",
        "    # Calculate the increment of the membrane potential\n",
        "    dv = (-(v[it] - E_L) + Iinj[it] / g_L) * (dt / tau_m)\n",
        "\n",
        "    # Update the membrane potential\n",
        "    v[it + 1] = v[it] + dv\n",
        "\n",
        "  # Get spike times in ms\n",
        "  rec_spikes = np.array(rec_spikes) * dt\n",
        "\n",
        "  return v, rec_spikes\n",
        "\n",
        "\n",
        "# Get parameters\n",
        "pars = default_pars(T=500)\n",
        "\n",
        "# Simulate LIF model\n",
        "v, sp = run_LIF(pars, Iinj=100, stop=True)\n",
        "\n",
        "# Visualize\n",
        "plot_volt_trace(pars, v, sp)"
      ],
      "execution_count": 10,
      "outputs": [
        {
          "output_type": "display_data",
          "data": {
            "image/png": "[encoded data removed]",
            "text/plain": [
              "<Figure size 576x432 with 1 Axes>"
            ]
          },
          "metadata": {
            "tags": [],
            "image/png": {
              "width": 558,
              "height": 414
            },
            "needs_background": "light"
          }
        }
      ]
    },
    {
      "cell_type": "markdown",
      "metadata": {
        "execution": {},
        "id": "c1UPaCpzjfLR"
      },
      "source": [
        "[*Click for solution*](https://github.com/NeuromatchAcademy/course-content/tree/master//tutorials/W2D3_BiologicalNeuronModels/solutions/W2D3_Tutorial1_Solution_60a1e954.py)\n",
        "\n",
        "*Example output:*\n",
        "\n",
        "<img alt='Solution hint' align='left' width=1106.0 height=828.0 src=https://raw.githubusercontent.com/NeuromatchAcademy/course-content/master/tutorials/W2D3_BiologicalNeuronModels/static/W2D3_Tutorial1_Solution_60a1e954_0.png>\n",
        "\n"
      ]
    },
    {
      "cell_type": "markdown",
      "metadata": {
        "execution": {},
        "id": "6PlRlNVmjfLS"
      },
      "source": [
        "---\n",
        "# Section 2: Response of an LIF model to different types of input currents\n",
        "\n",
        "*Estimated timing to here from start of tutorial: 20 min*\n",
        "\n",
        "In the following section, we will learn how to inject direct current and white noise to study the response of an LIF neuron."
      ]
    },
    {
      "cell_type": "code",
      "metadata": {
        "cellView": "form",
        "execution": {},
        "id": "jORZOGOLjfLS",
        "outputId": "b70810b6-b53c-418c-fcd9-a3dfadce7eff",
        "colab": {
          "base_uri": "https://localhost:8080/",
          "height": 580,
          "referenced_widgets": [
            "e1a54f3fcfcb4880a476bbc919a5130b",
            "d231775d65814fae99a52037b6218784",
            "f93d64d3d1c64b409217a2004814de1f",
            "19e2d268118d4b39bce54f51b7a6d928",
            "8d64edad99994ecdb0c18138b34f9ff6",
            "228a06d40ce74197a159fc9f22d505fc"
          ]
        }
      },
      "source": [
        "# @title Video 2: Response of the LIF neuron to different inputs\n",
        "from ipywidgets import widgets\n",
        "\n",
        "out2 = widgets.Output()\n",
        "with out2:\n",
        "  from IPython.display import IFrame\n",
        "  class BiliVideo(IFrame):\n",
        "      def __init__(self, id, page=1, width=400, height=300, **kwargs):\n",
        "          self.id=id\n",
        "          src = 'https://player.bilibili.com/player.html?bvid={0}&page={1}'.format(id, page)\n",
        "          super(BiliVideo, self).__init__(src, width, height, **kwargs)\n",
        "\n",
        "  video = BiliVideo(id=\"av541417171\", width=854, height=480, fs=1)\n",
        "  print('Video available at https://www.bilibili.com/video/{0}'.format(video.id))\n",
        "  display(video)\n",
        "\n",
        "out1 = widgets.Output()\n",
        "with out1:\n",
        "  from IPython.display import YouTubeVideo\n",
        "  video = YouTubeVideo(id=\"preNGdab7Kk\", width=854, height=480, fs=1, rel=0)\n",
        "  print('Video available at https://youtube.com/watch?v=' + video.id)\n",
        "  display(video)\n",
        "\n",
        "out = widgets.Tab([out1, out2])\n",
        "out.set_title(0, 'Youtube')\n",
        "out.set_title(1, 'Bilibili')\n",
        "\n",
        "display(out)"
      ],
      "execution_count": 11,
      "outputs": [
        {
          "output_type": "display_data",
          "data": {
            "application/vnd.jupyter.widget-view+json": {
              "model_id": "e1a54f3fcfcb4880a476bbc919a5130b",
              "version_minor": 0,
              "version_major": 2
            },
            "text/plain": [
              "Tab(children=(Output(), Output()), _titles={'0': 'Youtube', '1': 'Bilibili'})"
            ]
          },
          "metadata": {
            "tags": []
          }
        }
      ]
    },
    {
      "cell_type": "markdown",
      "metadata": {
        "execution": {},
        "id": "fFuNZnP8jfLT"
      },
      "source": [
        "## Section 2.1: Direct current (DC)\n",
        "\n",
        "*Estimated timing to here from start of tutorial: 30 min*\n"
      ]
    },
    {
      "cell_type": "markdown",
      "metadata": {
        "execution": {},
        "id": "RDe3IjcdjfLT"
      },
      "source": [
        "### Interactive Demo 2.1: Parameter exploration of DC input amplitude \n",
        "Here's an interactive demo that shows how the LIF neuron behavior changes for DC input (constant current) with different amplitudes. We plot the membrane potential of an LIF neuron. You may notice that the neuron generates a spike. But this is just a cosmetic spike only for illustration purposes. In an LIF neuron, we only need to keep track of times when the neuron hit the threshold so the postsynaptic neurons can be informed of the spike. \n",
        "\n",
        "How much DC is needed to reach the threshold (rheobase current)? How does the membrane time constant affect the frequency of the neuron?"
      ]
    },
    {
      "cell_type": "code",
      "metadata": {
        "cellView": "form",
        "execution": {},
        "id": "gK8UM5RXjfLU",
        "outputId": "17f31e1b-2c54-492c-ccd9-62453ead2ddf",
        "colab": {
          "base_uri": "https://localhost:8080/",
          "height": 495,
          "referenced_widgets": [
            "4828dd7012094d91801446cc4f456370",
            "ec91aee143e64381aa35f3e3ae64191a",
            "31d0e41ee17444048a7f675f9424952c",
            "96a0911021d8436a98b04c5b89e040cd",
            "6c913a9c081140b2b71b005a111224e5",
            "9730eca6d3a341bbaaddcbdf50011c2a",
            "605d5b878eb34f798174b23c71ed682a",
            "8addaf2b7b10411fb399536b6beb82dc",
            "ceb4ed206ef34f6582b19cb31013db4f"
          ]
        }
      },
      "source": [
        "# @title\n",
        "# @markdown Make sure you execute this cell to enable the widget!\n",
        "my_layout.width = '450px'\n",
        "@widgets.interact(\n",
        "    I_dc=widgets.FloatSlider(50., min=0., max=300., step=10.,\n",
        "                               layout=my_layout),\n",
        "    tau_m=widgets.FloatSlider(10., min=2., max=20., step=2.,\n",
        "                                layout=my_layout)\n",
        ")\n",
        "\n",
        "def diff_DC(I_dc=200., tau_m=10.):\n",
        "  pars = default_pars(T=100.)\n",
        "  pars['tau_m'] = tau_m\n",
        "  v, sp = run_LIF(pars, Iinj=I_dc)\n",
        "  plot_volt_trace(pars, v, sp)\n",
        "  plt.show()"
      ],
      "execution_count": 12,
      "outputs": [
        {
          "output_type": "display_data",
          "data": {
            "application/vnd.jupyter.widget-view+json": {
              "model_id": "4828dd7012094d91801446cc4f456370",
              "version_minor": 0,
              "version_major": 2
            },
            "text/plain": [
              "interactive(children=(FloatSlider(value=50.0, description='I_dc', layout=Layout(width='450px'), max=300.0, ste…"
            ]
          },
          "metadata": {
            "tags": []
          }
        }
      ]
    },
    {
      "cell_type": "markdown",
      "metadata": {
        "execution": {},
        "id": "D6_au6oyjfLU"
      },
      "source": [
        "[*Click for solution*](https://github.com/NeuromatchAcademy/course-content/tree/master//tutorials/W2D3_BiologicalNeuronModels/solutions/W2D3_Tutorial1_Solution_1058324c.py)\n",
        "\n"
      ]
    },
    {
      "cell_type": "markdown",
      "metadata": {
        "execution": {},
        "id": "8IHLjTmtjfLU"
      },
      "source": [
        "## Section 2.2: Gaussian white noise (GWN) current \n",
        "\n",
        "*Estimated timing to here from start of tutorial: 38 min*\n",
        "\n",
        "Given the noisy nature of neuronal activity _in vivo_, neurons usually receive complex, time-varying inputs.\n",
        "\n",
        "To mimic this, we will now investigate the neuronal response when the LIF neuron receives Gaussian white noise $\\xi(t)$ with mean 0 ($\\mu = 0$) and some standard deviation $\\sigma$.\n",
        "\n",
        "Note that the GWN has zero mean, that is, it describes only the fluctuations of the input received by a neuron. We can thus modify our definition of GWN to have a nonzero mean value $\\mu$ that equals the DC input, since this is the average input into the cell. The cell below defines the modified gaussian white noise currents with nonzero mean $\\mu$."
      ]
    },
    {
      "cell_type": "markdown",
      "metadata": {
        "execution": {},
        "id": "FuniNl7BjfLV"
      },
      "source": [
        "### Interactive Demo 2.2: LIF neuron Explorer for noisy input\n",
        "\n",
        "\n",
        "The mean of the Gaussian white noise (GWN) is the amplitude of DC. Indeed, when $\\sigma = 0$, GWN is just a DC.\n",
        "\n",
        "So the question arises how does $\\sigma$ of the GWN affect the spiking behavior of the neuron. For instance we may want to know\n",
        "1.  how does the minimum input (i.e. $\\mu$) needed to make a neuron spike change with increase in $\\sigma$\n",
        "2.  how does the spike regularity change with increase in $\\sigma$\n",
        "\n",
        "To get an intuition about these questions you can use the following interactive demo that shows how the LIF neuron behavior changes for noisy input with different amplitudes (the mean $\\mu$) and fluctuation sizes ($\\sigma$). We use a helper function to generate this noisy input current: `my_GWN(pars, mu, sig, myseed=False)`.  Note that fixing the value of the random seed (e.g., `myseed=2020`) will allow you to obtain the same result every time you run this. We then use our `run_LIF` function to simulate the LIF model.\n"
      ]
    },
    {
      "cell_type": "code",
      "metadata": {
        "cellView": "form",
        "execution": {},
        "id": "ClwZp_kgjfLV",
        "outputId": "bd613750-a68f-4843-adbd-632370ce292b",
        "colab": {
          "base_uri": "https://localhost:8080/"
        }
      },
      "source": [
        "# @markdown Execute to enable helper function `my_GWN`\n",
        "\n",
        "def my_GWN(pars, mu, sig, myseed=False):\n",
        "  \"\"\"\n",
        "  Function that generates Gaussian white noise input\n",
        "\n",
        "  Args:\n",
        "    pars       : parameter dictionary\n",
        "    mu         : noise baseline (mean)\n",
        "    sig        : noise amplitute (standard deviation)\n",
        "    myseed     : random seed. int or boolean\n",
        "                 the same seed will give the same\n",
        "                 random number sequence\n",
        "\n",
        "  Returns:\n",
        "    I          : Gaussian white noise input\n",
        "  \"\"\"\n",
        "\n",
        "  # Retrieve simulation parameters\n",
        "  dt, range_t = pars['dt'], pars['range_t']\n",
        "  Lt = range_t.size\n",
        "\n",
        "  # Set random seed\n",
        "  if myseed:\n",
        "      np.random.seed(seed=myseed)\n",
        "  else:\n",
        "      np.random.seed()\n",
        "\n",
        "  # Generate GWN\n",
        "  # we divide here by 1000 to convert units to sec.\n",
        "  I_gwn = mu + sig * np.random.randn(Lt) / np.sqrt(dt / 1000.)\n",
        "\n",
        "  return I_gwn\n",
        "\n",
        "help(my_GWN)"
      ],
      "execution_count": 13,
      "outputs": [
        {
          "output_type": "stream",
          "text": [
            "Help on function my_GWN in module __main__:\n",
            "\n",
            "my_GWN(pars, mu, sig, myseed=False)\n",
            "    Function that generates Gaussian white noise input\n",
            "    \n",
            "    Args:\n",
            "      pars       : parameter dictionary\n",
            "      mu         : noise baseline (mean)\n",
            "      sig        : noise amplitute (standard deviation)\n",
            "      myseed     : random seed. int or boolean\n",
            "                   the same seed will give the same\n",
            "                   random number sequence\n",
            "    \n",
            "    Returns:\n",
            "      I          : Gaussian white noise input\n",
            "\n"
          ],
          "name": "stdout"
        }
      ]
    },
    {
      "cell_type": "code",
      "metadata": {
        "execution": {},
        "id": "qegh7gJAjfLW",
        "outputId": "ce9e4f65-8e61-4377-cddd-2e0260645d33",
        "colab": {
          "base_uri": "https://localhost:8080/",
          "height": 351,
          "referenced_widgets": [
            "c28acf4ba2fb4b9884406b56dc9afc9e",
            "18014e9cd69c44d3b9b0bd4ea8136bf6",
            "3b3d96b800094a3eb8032a6ff8c2b40c",
            "ac802c990bf245a3bb9972a6b46cd774",
            "008f937c1ca0464495e8e457be6c483f",
            "a0c794667de54b7cbd28e864284cc627",
            "605d5b878eb34f798174b23c71ed682a",
            "08ee5996667d4df89fdd2030f717bd3c",
            "c9a79aa1f28b48878e83c33a05cccf55"
          ]
        }
      },
      "source": [
        "# @title\n",
        "\n",
        "# @markdown Make sure you execute this cell to enable the widget!\n",
        "\n",
        "my_layout.width = '450px'\n",
        "@widgets.interact(\n",
        "    mu_gwn=widgets.FloatSlider(200., min=100., max=300., step=5.,\n",
        "                               layout=my_layout),\n",
        "    sig_gwn=widgets.FloatSlider(2.5, min=0., max=5., step=.5,\n",
        "                                layout=my_layout)\n",
        ")\n",
        "\n",
        "\n",
        "def diff_GWN_to_LIF(mu_gwn, sig_gwn):\n",
        "  pars = default_pars(T=100.)\n",
        "  I_GWN = my_GWN(pars, mu=mu_gwn, sig=sig_gwn)\n",
        "  v, sp = run_LIF(pars, Iinj=I_GWN)\n",
        "  plt.figure(figsize=(12, 4))\n",
        "  plt.subplot(121)\n",
        "  plt.plot(pars['range_t'][::3], I_GWN[::3], 'b')\n",
        "  plt.xlabel('Time (ms)')\n",
        "  plt.ylabel(r'$I_{GWN}$ (pA)')\n",
        "  plt.subplot(122)\n",
        "  plot_volt_trace(pars, v, sp)\n",
        "  plt.tight_layout()\n",
        "  plt.show()"
      ],
      "execution_count": 14,
      "outputs": [
        {
          "output_type": "display_data",
          "data": {
            "application/vnd.jupyter.widget-view+json": {
              "model_id": "c28acf4ba2fb4b9884406b56dc9afc9e",
              "version_minor": 0,
              "version_major": 2
            },
            "text/plain": [
              "interactive(children=(FloatSlider(value=200.0, description='mu_gwn', layout=Layout(width='450px'), max=300.0, …"
            ]
          },
          "metadata": {
            "tags": []
          }
        }
      ]
    },
    {
      "cell_type": "markdown",
      "metadata": {
        "execution": {},
        "id": "Qh0cUvQwjfLW"
      },
      "source": [
        "[*Click for solution*](https://github.com/NeuromatchAcademy/course-content/tree/master//tutorials/W2D3_BiologicalNeuronModels/solutions/W2D3_Tutorial1_Solution_2de5d8a9.py)\n",
        "\n"
      ]
    },
    {
      "cell_type": "markdown",
      "metadata": {
        "execution": {},
        "id": "IxClnVENjfLW"
      },
      "source": [
        "### Think! 2.2: Analyzing GWN Effects on Spiking\n",
        "- As we increase the input average ($\\mu$) or the input fluctuation ($\\sigma$), the spike count changes. How much can we increase the spike count, and what might be the relationship between GWN mean/std or DC value and spike count? \n",
        "\n",
        "- We have seen above that when we inject DC, the neuron spikes in a regular manner (clock like), and this regularity is reduced when GWN is injected. The question is, how irregular can we make the neurons spiking by changing the parameters of the GWN? \n",
        "\n",
        "We will see the answers to these questions in the next section but discuss first!\n"
      ]
    },
    {
      "cell_type": "markdown",
      "metadata": {
        "execution": {},
        "id": "vPQ3DyvpjfLX"
      },
      "source": [
        "---\n",
        "# Section 3: Firing rate and spike time irregularity\n",
        "\n",
        "*Estimated timing to here from start of tutorial: 48 min*\n",
        "\n",
        "When we plot the output firing rate as a function of GWN mean or DC value, it is called the input-output transfer function of the neuron (so simply F-I curve).\n",
        "\n",
        "Spike regularity can be quantified as the **coefficient of variation (CV) of the inter-spike-interval (ISI)**:\n",
        "\\begin{align}\n",
        "\\text{CV}_{\\text{ISI}} = \\frac{std(\\text{ISI})}{mean(\\text{ISI})}\n",
        "\\end{align}\n",
        "\n",
        "A Poisson train is an example of high irregularity, in which $\\textbf{CV}_{\\textbf{ISI}} \\textbf{= 1}$. And for a clocklike (regular) process we have $\\textbf{CV}_{\\textbf{ISI}} \\textbf{= 0}$ because of **std(ISI)=0**."
      ]
    },
    {
      "cell_type": "markdown",
      "metadata": {
        "execution": {},
        "id": "9lpjqJUqjfLX"
      },
      "source": [
        "## Interactive Demo 3A: F-I Explorer for different `sig_gwn`\n",
        "\n",
        "How does the F-I curve of the LIF neuron change as we increase the $\\sigma$ of the GWN? We can already expect that the F-I curve will be stochastic and the results will vary from one trial to another. But will there be any other change compared to the F-I curved measured using DC?\n",
        "\n",
        "Here's an interactive demo that shows how the F-I curve of a LIF neuron changes for different levels of fluctuation $\\sigma$.\n"
      ]
    },
    {
      "cell_type": "code",
      "metadata": {
        "execution": {},
        "id": "AG62Y2ZqjfLX",
        "outputId": "96b4b315-cc7b-4c9b-a348-67aa9743ac84",
        "colab": {
          "base_uri": "https://localhost:8080/",
          "height": 462,
          "referenced_widgets": [
            "0376050265114c9e8811dd3292168ca4",
            "8e5e77b34bc245d8aa7d045861b32279",
            "8e86854ce5a44401be242719ce7500c2",
            "f4f7fe79255047288287ab132f21e1b5",
            "851b984f7fa9448c8c2e5f46ae77d206",
            "605d5b878eb34f798174b23c71ed682a",
            "948d526cb1444bb799c2a85d1101d6e5"
          ]
        }
      },
      "source": [
        "# @title\n",
        "\n",
        "# @markdown Make sure you execute this cell to enable the widget!\n",
        "\n",
        "\n",
        "my_layout.width = '450px'\n",
        "@widgets.interact(\n",
        "    sig_gwn=widgets.FloatSlider(3.0, min=0., max=6., step=0.5,\n",
        "                                layout=my_layout)\n",
        ")\n",
        "\n",
        "\n",
        "def diff_std_affect_fI(sig_gwn):\n",
        "  pars = default_pars(T=1000.)\n",
        "  I_mean = np.arange(100., 400., 10.)\n",
        "  spk_count = np.zeros(len(I_mean))\n",
        "  spk_count_dc = np.zeros(len(I_mean))\n",
        "\n",
        "  for idx in range(len(I_mean)):\n",
        "      I_GWN = my_GWN(pars, mu=I_mean[idx], sig=sig_gwn, myseed=2020)\n",
        "      v, rec_spikes = run_LIF(pars, Iinj=I_GWN)\n",
        "      v_dc, rec_sp_dc = run_LIF(pars, Iinj=I_mean[idx])\n",
        "      spk_count[idx] = len(rec_spikes)\n",
        "      spk_count_dc[idx] = len(rec_sp_dc)\n",
        "\n",
        "  # Plot the F-I curve i.e. Output firing rate as a function of input mean.\n",
        "  plt.figure()\n",
        "  plt.plot(I_mean, spk_count, 'k',\n",
        "           label=r'$\\sigma_{\\mathrm{GWN}}=%.2f$' % sig_gwn)\n",
        "  plt.plot(I_mean, spk_count_dc, 'k--', alpha=0.5, lw=4, dashes=(2, 2),\n",
        "           label='DC input')\n",
        "  plt.ylabel('Spike count')\n",
        "  plt.xlabel('Average injected current (pA)')\n",
        "  plt.legend(loc='best')\n",
        "  plt.show()"
      ],
      "execution_count": 15,
      "outputs": [
        {
          "output_type": "display_data",
          "data": {
            "application/vnd.jupyter.widget-view+json": {
              "model_id": "0376050265114c9e8811dd3292168ca4",
              "version_minor": 0,
              "version_major": 2
            },
            "text/plain": [
              "interactive(children=(FloatSlider(value=3.0, description='sig_gwn', layout=Layout(width='450px'), max=6.0, ste…"
            ]
          },
          "metadata": {
            "tags": []
          }
        }
      ]
    },
    {
      "cell_type": "markdown",
      "metadata": {
        "execution": {},
        "id": "x2iQT3KMjfLY"
      },
      "source": [
        "[*Click for solution*](https://github.com/NeuromatchAcademy/course-content/tree/master//tutorials/W2D3_BiologicalNeuronModels/solutions/W2D3_Tutorial1_Solution_eba2370f.py)\n",
        "\n"
      ]
    },
    {
      "cell_type": "markdown",
      "metadata": {
        "execution": {},
        "id": "FN8_fizWjfLZ"
      },
      "source": [
        "## Coding Exercise 3: Compute $CV_{ISI}$ values\n",
        "\n",
        "As shown above, the F-I curve becomes smoother while increasing the amplitude of the fluctuation ($\\sigma$). In addition, the fluctuation can also change the irregularity of the spikes. Let's investigate the effect of $\\mu=250$ with $\\sigma=0.5$ vs $\\sigma=3$. \n",
        "\n",
        "Fill in the code below to compute ISI, then plot the histogram of the ISI and compute the $CV_{ISI}$. Note that, you can use `np.diff` to calculate ISI."
      ]
    },
    {
      "cell_type": "code",
      "metadata": {
        "execution": {},
        "id": "1S7GlZgUjfLZ",
        "outputId": "9c5c0d5c-782d-4e32-9074-4b75f93892d2",
        "colab": {
          "base_uri": "https://localhost:8080/",
          "height": 286
        }
      },
      "source": [
        "def isi_cv_LIF(spike_times):\n",
        "  \"\"\"\n",
        "  Calculates the inter-spike intervals (isi) and\n",
        "  the coefficient of variation (cv) for a given spike_train\n",
        "\n",
        "  Args:\n",
        "    spike_times : (n, ) vector with the spike times (ndarray)\n",
        "\n",
        "  Returns:\n",
        "    isi         : (n-1,) vector with the inter-spike intervals (ms)\n",
        "    cv          : coefficient of variation of isi (float)\n",
        "\n",
        "  \"\"\"\n",
        "  ########################################################################\n",
        "  ## TODO for students: compute the membrane potential v, spike train sp #\n",
        "  # Fill out function and remove\n",
        "  ## raise NotImplementedError('Student Exercise: calculate the isi and the cv!')\n",
        "  ########################################################################\n",
        "  if len(spike_times) >= 2:\n",
        "    # Compute isi\n",
        "    isi = np.diff(spike_times)\n",
        "    # Compute cv\n",
        "    cv = isi.std()/isi.mean()\n",
        "  else:\n",
        "    isi = np.nan\n",
        "    cv = np.nan\n",
        "\n",
        "  return isi, cv\n",
        "\n",
        "\n",
        "# Set parameters\n",
        "pars = default_pars(T=1000.)\n",
        "mu_gwn = 250\n",
        "sig_gwn1 = 0.5\n",
        "sig_gwn2 = 100.0\n",
        "\n",
        "# Run LIF model for sigma = 0.5\n",
        "I_GWN1 = my_GWN(pars, mu=mu_gwn, sig=sig_gwn1, myseed=2020)\n",
        "_, sp1 = run_LIF(pars, Iinj=I_GWN1)\n",
        "\n",
        "# Run LIF model for sigma = 3\n",
        "I_GWN2 = my_GWN(pars, mu=mu_gwn, sig=sig_gwn2, myseed=2020)\n",
        "_, sp2 = run_LIF(pars, Iinj=I_GWN2)\n",
        "\n",
        "# Compute ISIs/CV\n",
        "isi1, cv1 = isi_cv_LIF(sp1)\n",
        "isi2, cv2 = isi_cv_LIF(sp2)\n",
        "\n",
        "# Visualize\n",
        "my_hists(isi1, isi2, cv1, cv2, sig_gwn1, sig_gwn2)"
      ],
      "execution_count": 22,
      "outputs": [
        {
          "output_type": "display_data",
          "data": {
            "image/png": "[encoded data removed]",
            "text/plain": [
              "<Figure size 792x288 with 2 Axes>"
            ]
          },
          "metadata": {
            "tags": [],
            "image/png": {
              "width": 773,
              "height": 269
            },
            "needs_background": "light"
          }
        }
      ]
    },
    {
      "cell_type": "markdown",
      "metadata": {
        "execution": {},
        "id": "hMugNUmwjfLa"
      },
      "source": [
        "[*Click for solution*](https://github.com/NeuromatchAcademy/course-content/tree/master//tutorials/W2D3_BiologicalNeuronModels/solutions/W2D3_Tutorial1_Solution_27d69c89.py)\n",
        "\n",
        "*Example output:*\n",
        "\n",
        "<img alt='Solution hint' align='left' width=1552.0 height=544.0 src=https://raw.githubusercontent.com/NeuromatchAcademy/course-content/master/tutorials/W2D3_BiologicalNeuronModels/static/W2D3_Tutorial1_Solution_27d69c89_0.png>\n",
        "\n"
      ]
    },
    {
      "cell_type": "markdown",
      "metadata": {
        "execution": {},
        "id": "kkHzI0ndjfLa"
      },
      "source": [
        "## Interactive Demo 3B: Spike irregularity explorer for different `sig_gwn`\n",
        "\n",
        "In the above illustration, we see that the CV of inter-spike-interval (ISI) distribution depends on $\\sigma$ of GWN. What about the mean of GWN, should that also affect the CV$_{\\rm ISI}$? If yes, how? Does the efficacy of $\\sigma$ in increasing the CV$_{\\rm ISI}$ depend on $\\mu$?\n",
        "\n",
        "In the following interactive demo, you will examine how different levels of fluctuation $\\sigma$ affect the CVs for different average injected currents ($\\mu$).\n",
        "\n",
        "1. Does the standard deviation of the injected current affect the F-I curve in any qualitative manner?\n",
        "2. Why does increasing the mean of GWN reduce the $CV_{ISI}$?\n",
        "3.  If you plot spike count (or rate) vs. $CV_{ISI}$, should there be a relationship between the two? Try out yourself."
      ]
    },
    {
      "cell_type": "code",
      "metadata": {
        "execution": {},
        "id": "6TeKK7QYjfLb",
        "outputId": "5c0d6479-8c78-4ff4-bc76-574fd2bba20c",
        "colab": {
          "base_uri": "https://localhost:8080/",
          "height": 462,
          "referenced_widgets": [
            "bd2f286b3402461da123e44243292177",
            "c327c166094f4263938873c3081e9579",
            "90dc0420fad24f9490fdd6262a5e1e4a",
            "25cadb71b88a4e94a31a25a0c1ada69f",
            "5cda0b0a71024e62a4a369954b3d127a",
            "605d5b878eb34f798174b23c71ed682a",
            "65e5322dd61241cfb5715c2bac180101"
          ]
        }
      },
      "source": [
        "#@title\n",
        "\n",
        "#@markdown Make sure you execute this cell to enable the widget!\n",
        "\n",
        "my_layout.width = '450px'\n",
        "@widgets.interact(\n",
        "    sig_gwn=widgets.FloatSlider(0.0, min=0., max=10.,\n",
        "                                step=0.5, layout=my_layout)\n",
        ")\n",
        "\n",
        "\n",
        "def diff_std_affect_fI(sig_gwn):\n",
        "  pars = default_pars(T=1000.)\n",
        "  I_mean = np.arange(100., 400., 20)\n",
        "  spk_count = np.zeros(len(I_mean))\n",
        "  cv_isi = np.empty(len(I_mean))\n",
        "\n",
        "  for idx in range(len(I_mean)):\n",
        "    I_GWN = my_GWN(pars, mu=I_mean[idx], sig=sig_gwn)\n",
        "    v, rec_spikes = run_LIF(pars, Iinj=I_GWN)\n",
        "    spk_count[idx] = len(rec_spikes)\n",
        "    if len(rec_spikes) > 3:\n",
        "      isi = np.diff(rec_spikes)\n",
        "      cv_isi[idx] = np.std(isi) / np.mean(isi)\n",
        "\n",
        "  # Plot the F-I curve i.e. Output firing rate as a function of input mean.\n",
        "  plt.figure()\n",
        "  plt.plot(spk_count[spk_count > 5], cv_isi[spk_count > 5], 'bo', alpha=0.5)\n",
        "  plt.xlabel('spike count')\n",
        "  plt.ylabel(r'CV ($\\mathrm{CV}_\\mathrm{ISI}$)')\n",
        "  plt.ylim(-0.1, 1.5)\n",
        "  plt.grid(True)\n",
        "  plt.show()"
      ],
      "execution_count": 23,
      "outputs": [
        {
          "output_type": "display_data",
          "data": {
            "application/vnd.jupyter.widget-view+json": {
              "model_id": "bd2f286b3402461da123e44243292177",
              "version_minor": 0,
              "version_major": 2
            },
            "text/plain": [
              "interactive(children=(FloatSlider(value=0.0, description='sig_gwn', layout=Layout(width='450px'), max=10.0, st…"
            ]
          },
          "metadata": {
            "tags": []
          }
        }
      ]
    },
    {
      "cell_type": "markdown",
      "metadata": {
        "execution": {},
        "id": "gQHYbAQgjfLb"
      },
      "source": [
        "[*Click for solution*](https://github.com/NeuromatchAcademy/course-content/tree/master//tutorials/W2D3_BiologicalNeuronModels/solutions/W2D3_Tutorial1_Solution_c6f1c4a2.py)\n",
        "\n"
      ]
    },
    {
      "cell_type": "markdown",
      "metadata": {
        "execution": {},
        "id": "mxzq-NppjfLc"
      },
      "source": [
        "---\n",
        "# Summary\n",
        "\n",
        "*Estimated timing of tutorial: 1 hour, 10 min*\n",
        "\n",
        "Congratulations! You've just built a leaky integrate-and-fire (LIF) neuron model from scratch, and studied its dynamics in response to various types of inputs, having:\n",
        "\n",
        "- simulated the LIF neuron model\n",
        "\n",
        "- driven the LIF neuron with external inputs, such as direct current and Gaussian white noise\n",
        "\n",
        "- studied how different inputs affect the  LIF neuron's output (firing rate and spike time irregularity),\n",
        "\n",
        "with a special focus on low rate and irregular firing regime to mimc real cortical neurons. The next tutorial will look at how spiking statistics may be influenced by a neuron's input statistics.\n",
        "\n",
        "If you have extra time, look at the bonus sections below to explore a different type of noise input and learn about extensions to integrate-and-fire models.\n"
      ]
    },
    {
      "cell_type": "markdown",
      "metadata": {
        "execution": {},
        "id": "rhxwmlAFjfLc"
      },
      "source": [
        "---\n",
        "# Bonus"
      ]
    },
    {
      "cell_type": "markdown",
      "metadata": {
        "execution": {},
        "id": "LgO2W80ljfLc"
      },
      "source": [
        "---\n",
        "## Bonus Section 1: Orenstein-Uhlenbeck Process\n",
        "\n",
        "When a neuron receives spiking input, the synaptic current is Shot Noise -- which is a kind of colored noise and the spectrum of the noise determined by the synaptic kernel time constant. That is, a neuron is driven by **colored noise** and not GWN.\n",
        "\n",
        "We can model colored noise using the Ohrenstein-Uhlenbeck process - filtered white noise. "
      ]
    },
    {
      "cell_type": "markdown",
      "metadata": {
        "execution": {},
        "id": "QQb7JPgtjfLs"
      },
      "source": [
        "We next study if the input current is temporally correlated and is modeled as an Ornstein-Uhlenbeck process $\\eta(t)$, i.e., low-pass filtered GWN with a time constant $\\tau_{\\eta}$: \n",
        "\n",
        "$$\\tau_\\eta \\frac{d}{dt}\\eta(t) = \\mu-\\eta(t) + \\sigma_\\eta\\sqrt{2\\tau_\\eta}\\xi(t).$$\n",
        "\n",
        "**Hint:** An OU process as defined above has\n",
        "\n",
        "$$E[\\eta(t)]=\\mu$$ \n",
        "\n",
        "and autocovariance \n",
        "\n",
        "$$[\\eta(t)\\eta(t+\\tau)]=\\sigma_\\eta^2e^{-|t-\\tau|/\\tau_\\eta},$$\n",
        "\n",
        "which can be used to check your code. "
      ]
    },
    {
      "cell_type": "code",
      "metadata": {
        "cellView": "form",
        "execution": {},
        "id": "znnsNurfjfLu",
        "outputId": "9a530ef5-7b1b-43fd-e5c4-7c115f76e53d",
        "colab": {
          "base_uri": "https://localhost:8080/"
        }
      },
      "source": [
        "# @markdown Execute this cell to get helper function `my_OU`\n",
        "\n",
        "\n",
        "def my_OU(pars, mu, sig, myseed=False):\n",
        "  \"\"\"\n",
        "  Function that produces Ornstein-Uhlenbeck input\n",
        "\n",
        "  Args:\n",
        "    pars       : parameter dictionary\n",
        "    sig        : noise amplitute\n",
        "    myseed     : random seed. int or boolean\n",
        "\n",
        "  Returns:\n",
        "    I_ou       : Ornstein-Uhlenbeck input current\n",
        "  \"\"\"\n",
        "\n",
        "  # Retrieve simulation parameters\n",
        "  dt, range_t = pars['dt'], pars['range_t']\n",
        "  Lt = range_t.size\n",
        "  tau_ou = pars['tau_ou']  # [ms]\n",
        "\n",
        "  # set random seed\n",
        "  if myseed:\n",
        "    np.random.seed(seed=myseed)\n",
        "  else:\n",
        "    np.random.seed()\n",
        "\n",
        "  # Initialize\n",
        "  noise = np.random.randn(Lt)\n",
        "  I_ou = np.zeros(Lt)\n",
        "  I_ou[0] = noise[0] * sig\n",
        "\n",
        "  # generate OU\n",
        "  for it in range(Lt-1):\n",
        "    I_ou[it+1] = I_ou[it] + (dt / tau_ou) * (mu - I_ou[it]) + np.sqrt(2 * dt / tau_ou) * sig * noise[it + 1]\n",
        "\n",
        "  return I_ou\n",
        "\n",
        "\n",
        "help(my_OU)"
      ],
      "execution_count": 17,
      "outputs": [
        {
          "output_type": "stream",
          "text": [
            "Help on function my_OU in module __main__:\n",
            "\n",
            "my_OU(pars, mu, sig, myseed=False)\n",
            "    Function that produces Ornstein-Uhlenbeck input\n",
            "    \n",
            "    Args:\n",
            "      pars       : parameter dictionary\n",
            "      sig        : noise amplitute\n",
            "      myseed     : random seed. int or boolean\n",
            "    \n",
            "    Returns:\n",
            "      I_ou       : Ornstein-Uhlenbeck input current\n",
            "\n"
          ],
          "name": "stdout"
        }
      ]
    },
    {
      "cell_type": "markdown",
      "metadata": {
        "execution": {},
        "id": "Um2UHHISjfLw"
      },
      "source": [
        "### Bonus Interactive Demo 1: LIF Explorer with OU input\n",
        "In the following, we will check how a neuron responds to a noisy current that follows the statistics of an OU process.\n",
        "\n",
        "-  How does the OU type input change neuron responsiveness? \n",
        "-  What do you think will happen to the spike pattern and rate if you increased or decreased the time constant of the OU process?"
      ]
    },
    {
      "cell_type": "code",
      "metadata": {
        "cellView": "form",
        "execution": {},
        "id": "reQ3YPwqjfLx",
        "outputId": "ce895b23-bebd-4a37-bf69-dcb5faf69d7b",
        "colab": {
          "base_uri": "https://localhost:8080/",
          "height": 383,
          "referenced_widgets": [
            "0f2a3745ecc74bdabe96fb2bbba06ce7",
            "8727bae746724eaabbf430f6db0f4b72",
            "367d3b2682ee4cda9c96067447e35f8b",
            "c402d5210d454f0fb409b324dbfeee35",
            "a18660cf33b1410f9761fbf0fb496215",
            "0bef616f40184f159d12946dbf6a1cdc",
            "7984a6f0ae7c41499e162ca0e19656de",
            "605d5b878eb34f798174b23c71ed682a",
            "17af276cfeea45faa513a2cca0067540",
            "0529237700574afa9f0ab0c10a304581",
            "80c4e918df3e4afe8d34cb58489e4b78"
          ]
        }
      },
      "source": [
        "# @title\n",
        "\n",
        "# @markdown Remember to enable the widget by running the cell!\n",
        "\n",
        "my_layout.width = '450px'\n",
        "@widgets.interact(\n",
        "  tau_ou=widgets.FloatSlider(10.0, min=5., max=20.,\n",
        "                             step=2.5, layout=my_layout),\n",
        "  sig_ou=widgets.FloatSlider(10.0, min=5., max=40.,\n",
        "                             step=2.5, layout=my_layout),\n",
        "  mu_ou=widgets.FloatSlider(190.0, min=180., max=220.,\n",
        "                            step=2.5, layout=my_layout)\n",
        ")\n",
        "\n",
        "\n",
        "def LIF_with_OU(tau_ou=10., sig_ou=40., mu_ou=200.):\n",
        "  pars = default_pars(T=1000.)\n",
        "  pars['tau_ou'] = tau_ou  # [ms]\n",
        "\n",
        "  I_ou = my_OU(pars, mu_ou, sig_ou)\n",
        "\n",
        "  v, sp = run_LIF(pars, Iinj=I_ou)\n",
        "\n",
        "  plt.figure(figsize=(12, 4))\n",
        "  plt.subplot(121)\n",
        "  plt.plot(pars['range_t'], I_ou, 'b', lw=1.0)\n",
        "  plt.xlabel('Time (ms)')\n",
        "  plt.ylabel(r'$I_{\\mathrm{OU}}$ (pA)')\n",
        "  plt.subplot(122)\n",
        "  plot_volt_trace(pars, v, sp)\n",
        "  plt.tight_layout()\n",
        "  plt.show()"
      ],
      "execution_count": 18,
      "outputs": [
        {
          "output_type": "display_data",
          "data": {
            "application/vnd.jupyter.widget-view+json": {
              "model_id": "0f2a3745ecc74bdabe96fb2bbba06ce7",
              "version_minor": 0,
              "version_major": 2
            },
            "text/plain": [
              "interactive(children=(FloatSlider(value=10.0, description='tau_ou', layout=Layout(width='450px'), max=20.0, mi…"
            ]
          },
          "metadata": {
            "tags": []
          }
        }
      ]
    },
    {
      "cell_type": "markdown",
      "metadata": {
        "execution": {},
        "id": "RsRmxqhTjfLx"
      },
      "source": [
        "[*Click for solution*](https://github.com/NeuromatchAcademy/course-content/tree/master//tutorials/W2D3_BiologicalNeuronModels/solutions/W2D3_Tutorial1_Solution_cf5b6a80.py)\n",
        "\n"
      ]
    },
    {
      "cell_type": "markdown",
      "metadata": {
        "execution": {},
        "id": "oAiC0zOrjfLy"
      },
      "source": [
        "---\n",
        "## Bonus Section 2: Generalized Integrate-and-Fire models\n",
        "\n",
        "LIF model is not the only abstraction of real neurons. If you want to learn about more realistic types of neuronal models, watch the Bonus Video!"
      ]
    },
    {
      "cell_type": "code",
      "metadata": {
        "cellView": "form",
        "execution": {},
        "id": "Katf0ZVLjfLy",
        "outputId": "e1c609d9-6438-4747-ccca-12a2d9127f86",
        "colab": {
          "base_uri": "https://localhost:8080/",
          "height": 580,
          "referenced_widgets": [
            "5f0fd0375e92403faf8ea19bc7f0cd06",
            "5371e79646b94ecf953aaac9aacc4da7",
            "af725b7d42304fd9a72598674da5fce9",
            "606b4d9330074189aaeaa0c15ec4e8f4",
            "265fcc4f3850470485d5a49345dd1400",
            "e11635d5356940c8a804b111dbac4c2f"
          ]
        }
      },
      "source": [
        "# @title Video 3 (Bonus): Extensions to Integrate-and-Fire models\n",
        "from ipywidgets import widgets\n",
        "\n",
        "out2 = widgets.Output()\n",
        "with out2:\n",
        "  from IPython.display import IFrame\n",
        "  class BiliVideo(IFrame):\n",
        "      def __init__(self, id, page=1, width=400, height=300, **kwargs):\n",
        "          self.id=id\n",
        "          src = 'https://player.bilibili.com/player.html?bvid={0}&page={1}'.format(id, page)\n",
        "          super(BiliVideo, self).__init__(src, width, height, **kwargs)\n",
        "\n",
        "  video = BiliVideo(id=\"\", width=854, height=480, fs=1)\n",
        "  print('Video available at https://www.bilibili.com/video/{0}'.format(video.id))\n",
        "  display(video)\n",
        "\n",
        "out1 = widgets.Output()\n",
        "with out1:\n",
        "  from IPython.display import YouTubeVideo\n",
        "  video = YouTubeVideo(id=\"G0b6wLhuQxE\", width=854, height=480, fs=1, rel=0)\n",
        "  print('Video available at https://youtube.com/watch?v=' + video.id)\n",
        "  display(video)\n",
        "\n",
        "out = widgets.Tab([out1, out2])\n",
        "out.set_title(0, 'Youtube')\n",
        "out.set_title(1, 'Bilibili')\n",
        "\n",
        "display(out)"
      ],
      "execution_count": 19,
      "outputs": [
        {
          "output_type": "display_data",
          "data": {
            "application/vnd.jupyter.widget-view+json": {
              "model_id": "5f0fd0375e92403faf8ea19bc7f0cd06",
              "version_minor": 0,
              "version_major": 2
            },
            "text/plain": [
              "Tab(children=(Output(), Output()), _titles={'0': 'Youtube', '1': 'Bilibili'})"
            ]
          },
          "metadata": {
            "tags": []
          }
        }
      ]
    }
  ]
}