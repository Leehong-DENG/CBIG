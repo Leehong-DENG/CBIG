{
  "nbformat": 4,
  "nbformat_minor": 0,
  "metadata": {
    "colab": {
      "name": "W2D2_Tutorial2",
      "provenance": [],
      "collapsed_sections": [],
      "include_colab_link": true
    },
    "kernel": {
      "display_name": "Python 3",
      "language": "python",
      "name": "python3"
    },
    "kernelspec": {
      "display_name": "Python 3",
      "name": "python3"
    },
    "language_info": {
      "codemirror_mode": {
        "name": "ipython",
        "version": 3
      },
      "file_extension": ".py",
      "mimetype": "text/x-python",
      "name": "python",
      "nbconvert_exporter": "python",
      "pygments_lexer": "ipython3",
      "version": "3.7.10"
    },
    "widgets": {
      "application/vnd.jupyter.widget-state+json": {
        "c56b1f8cb053415dac8fc42cd75e627c": {
          "model_module": "@jupyter-widgets/controls",
          "model_name": "TabModel",
          "state": {
            "_view_name": "TabView",
            "_dom_classes": [],
            "_titles": {
              "0": "Youtube",
              "1": "Bilibili"
            },
            "_model_name": "TabModel",
            "_view_module": "@jupyter-widgets/controls",
            "selected_index": 0,
            "_model_module_version": "1.5.0",
            "_view_count": null,
            "_view_module_version": "1.5.0",
            "box_style": "",
            "layout": "IPY_MODEL_d0fd69881a9d4a0d88d28faab08c46dd",
            "_model_module": "@jupyter-widgets/controls",
            "children": [
              "IPY_MODEL_b08e587462a14c72b10a88f9956483ce",
              "IPY_MODEL_cd8c7939862946a9bd0e60ebb1ebd57f"
            ]
          }
        },
        "d0fd69881a9d4a0d88d28faab08c46dd": {
          "model_module": "@jupyter-widgets/base",
          "model_name": "LayoutModel",
          "state": {
            "_view_name": "LayoutView",
            "grid_template_rows": null,
            "right": null,
            "justify_content": null,
            "_view_module": "@jupyter-widgets/base",
            "overflow": null,
            "_model_module_version": "1.2.0",
            "_view_count": null,
            "flex_flow": null,
            "width": null,
            "min_width": null,
            "border": null,
            "align_items": null,
            "bottom": null,
            "_model_module": "@jupyter-widgets/base",
            "top": null,
            "grid_column": null,
            "overflow_y": null,
            "overflow_x": null,
            "grid_auto_flow": null,
            "grid_area": null,
            "grid_template_columns": null,
            "flex": null,
            "_model_name": "LayoutModel",
            "justify_items": null,
            "grid_row": null,
            "max_height": null,
            "align_content": null,
            "visibility": null,
            "align_self": null,
            "height": null,
            "min_height": null,
            "padding": null,
            "grid_auto_rows": null,
            "grid_gap": null,
            "max_width": null,
            "order": null,
            "_view_module_version": "1.2.0",
            "grid_template_areas": null,
            "object_position": null,
            "object_fit": null,
            "grid_auto_columns": null,
            "margin": null,
            "display": null,
            "left": null
          }
        },
        "b08e587462a14c72b10a88f9956483ce": {
          "model_module": "@jupyter-widgets/output",
          "model_name": "OutputModel",
          "state": {
            "_view_name": "OutputView",
            "msg_id": "",
            "_dom_classes": [],
            "_model_name": "OutputModel",
            "outputs": [
              {
                "output_type": "stream",
                "metadata": {
                  "tags": []
                },
                "text": "Video available at https://youtube.com/watch?v=xZO6GbU48ns\n",
                "stream": "stdout"
              },
              {
                "output_type": "display_data",
                "metadata": {
                  "tags": []
                },
                "text/html": "\n        <iframe\n            width=\"854\"\n            height=\"480\"\n            src=\"https://www.youtube.com/embed/xZO6GbU48ns?fs=1&rel=0\"\n            frameborder=\"0\"\n            allowfullscreen\n        ></iframe>\n        ",
                "text/plain": "<IPython.lib.display.YouTubeVideo at 0x7f1160fc0790>",
                "image/jpeg": "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\n"
              }
            ],
            "_view_module": "@jupyter-widgets/output",
            "_model_module_version": "1.0.0",
            "_view_count": null,
            "_view_module_version": "1.0.0",
            "layout": "IPY_MODEL_75e42f1454964d7a9f680bb6c5818a99",
            "_model_module": "@jupyter-widgets/output"
          }
        },
        "cd8c7939862946a9bd0e60ebb1ebd57f": {
          "model_module": "@jupyter-widgets/output",
          "model_name": "OutputModel",
          "state": {
            "_view_name": "OutputView",
            "msg_id": "",
            "_dom_classes": [],
            "_model_name": "OutputModel",
            "outputs": [
              {
                "output_type": "stream",
                "metadata": {
                  "tags": []
                },
                "text": "Video available at https://www.bilibili.com/video/BV11C4y1h7Eu\n",
                "stream": "stdout"
              },
              {
                "output_type": "display_data",
                "metadata": {
                  "tags": []
                },
                "text/html": "\n        <iframe\n            width=\"854\"\n            height=\"480\"\n            src=\"https://player.bilibili.com/player.html?bvid=BV11C4y1h7Eu&page=1?fs=1\"\n            frameborder=\"0\"\n            allowfullscreen\n        ></iframe>\n        ",
                "text/plain": "<__main__.BiliVideo at 0x7f11630ae6d0>"
              }
            ],
            "_view_module": "@jupyter-widgets/output",
            "_model_module_version": "1.0.0",
            "_view_count": null,
            "_view_module_version": "1.0.0",
            "layout": "IPY_MODEL_b292565a9f614565915cb8bab04b62be",
            "_model_module": "@jupyter-widgets/output"
          }
        },
        "75e42f1454964d7a9f680bb6c5818a99": {
          "model_module": "@jupyter-widgets/base",
          "model_name": "LayoutModel",
          "state": {
            "_view_name": "LayoutView",
            "grid_template_rows": null,
            "right": null,
            "justify_content": null,
            "_view_module": "@jupyter-widgets/base",
            "overflow": null,
            "_model_module_version": "1.2.0",
            "_view_count": null,
            "flex_flow": null,
            "width": null,
            "min_width": null,
            "border": null,
            "align_items": null,
            "bottom": null,
            "_model_module": "@jupyter-widgets/base",
            "top": null,
            "grid_column": null,
            "overflow_y": null,
            "overflow_x": null,
            "grid_auto_flow": null,
            "grid_area": null,
            "grid_template_columns": null,
            "flex": null,
            "_model_name": "LayoutModel",
            "justify_items": null,
            "grid_row": null,
            "max_height": null,
            "align_content": null,
            "visibility": null,
            "align_self": null,
            "height": null,
            "min_height": null,
            "padding": null,
            "grid_auto_rows": null,
            "grid_gap": null,
            "max_width": null,
            "order": null,
            "_view_module_version": "1.2.0",
            "grid_template_areas": null,
            "object_position": null,
            "object_fit": null,
            "grid_auto_columns": null,
            "margin": null,
            "display": null,
            "left": null
          }
        },
        "b292565a9f614565915cb8bab04b62be": {
          "model_module": "@jupyter-widgets/base",
          "model_name": "LayoutModel",
          "state": {
            "_view_name": "LayoutView",
            "grid_template_rows": null,
            "right": null,
            "justify_content": null,
            "_view_module": "@jupyter-widgets/base",
            "overflow": null,
            "_model_module_version": "1.2.0",
            "_view_count": null,
            "flex_flow": null,
            "width": null,
            "min_width": null,
            "border": null,
            "align_items": null,
            "bottom": null,
            "_model_module": "@jupyter-widgets/base",
            "top": null,
            "grid_column": null,
            "overflow_y": null,
            "overflow_x": null,
            "grid_auto_flow": null,
            "grid_area": null,
            "grid_template_columns": null,
            "flex": null,
            "_model_name": "LayoutModel",
            "justify_items": null,
            "grid_row": null,
            "max_height": null,
            "align_content": null,
            "visibility": null,
            "align_self": null,
            "height": null,
            "min_height": null,
            "padding": null,
            "grid_auto_rows": null,
            "grid_gap": null,
            "max_width": null,
            "order": null,
            "_view_module_version": "1.2.0",
            "grid_template_areas": null,
            "object_position": null,
            "object_fit": null,
            "grid_auto_columns": null,
            "margin": null,
            "display": null,
            "left": null
          }
        },
        "2b11eb3d853044eba23ba054d555c77c": {
          "model_module": "@jupyter-widgets/controls",
          "model_name": "VBoxModel",
          "state": {
            "_view_name": "VBoxView",
            "_dom_classes": [
              "widget-interact"
            ],
            "_model_name": "VBoxModel",
            "_view_module": "@jupyter-widgets/controls",
            "_model_module_version": "1.5.0",
            "_view_count": null,
            "_view_module_version": "1.5.0",
            "box_style": "",
            "layout": "IPY_MODEL_e5dc12822dd6424cad4e86db641b1525",
            "_model_module": "@jupyter-widgets/controls",
            "children": [
              "IPY_MODEL_83c23b947e8e4b2c91eb23c486cce10b",
              "IPY_MODEL_87adc59493b445b491d7c692194405bf",
              "IPY_MODEL_889dd83754e44b99a0b9855f72ca53e8",
              "IPY_MODEL_bf84dca8c57e4c5c9d2c3c4f77d1676e"
            ]
          }
        },
        "e5dc12822dd6424cad4e86db641b1525": {
          "model_module": "@jupyter-widgets/base",
          "model_name": "LayoutModel",
          "state": {
            "_view_name": "LayoutView",
            "grid_template_rows": null,
            "right": null,
            "justify_content": null,
            "_view_module": "@jupyter-widgets/base",
            "overflow": null,
            "_model_module_version": "1.2.0",
            "_view_count": null,
            "flex_flow": null,
            "width": null,
            "min_width": null,
            "border": null,
            "align_items": null,
            "bottom": null,
            "_model_module": "@jupyter-widgets/base",
            "top": null,
            "grid_column": null,
            "overflow_y": null,
            "overflow_x": null,
            "grid_auto_flow": null,
            "grid_area": null,
            "grid_template_columns": null,
            "flex": null,
            "_model_name": "LayoutModel",
            "justify_items": null,
            "grid_row": null,
            "max_height": null,
            "align_content": null,
            "visibility": null,
            "align_self": null,
            "height": null,
            "min_height": null,
            "padding": null,
            "grid_auto_rows": null,
            "grid_gap": null,
            "max_width": null,
            "order": null,
            "_view_module_version": "1.2.0",
            "grid_template_areas": null,
            "object_position": null,
            "object_fit": null,
            "grid_auto_columns": null,
            "margin": null,
            "display": null,
            "left": null
          }
        },
        "83c23b947e8e4b2c91eb23c486cce10b": {
          "model_module": "@jupyter-widgets/controls",
          "model_name": "FloatSliderModel",
          "state": {
            "_view_name": "FloatSliderView",
            "style": "IPY_MODEL_f2c6de02f3054e589c2bd6fcc3252b4f",
            "_dom_classes": [],
            "description": "c2o",
            "step": 0.01,
            "_model_name": "FloatSliderModel",
            "orientation": "horizontal",
            "max": 1,
            "_view_module": "@jupyter-widgets/controls",
            "_model_module_version": "1.5.0",
            "value": 0.11,
            "_view_count": null,
            "disabled": false,
            "_view_module_version": "1.5.0",
            "min": 0,
            "continuous_update": true,
            "readout_format": ".2f",
            "description_tooltip": null,
            "readout": true,
            "_model_module": "@jupyter-widgets/controls",
            "layout": "IPY_MODEL_56aa4cd607d44ce698727fb38005b56e"
          }
        },
        "87adc59493b445b491d7c692194405bf": {
          "model_module": "@jupyter-widgets/controls",
          "model_name": "FloatSliderModel",
          "state": {
            "_view_name": "FloatSliderView",
            "style": "IPY_MODEL_b14ac498a9be45358fb3a9c242891835",
            "_dom_classes": [],
            "description": "o2c",
            "step": 0.01,
            "_model_name": "FloatSliderModel",
            "orientation": "horizontal",
            "max": 1,
            "_view_module": "@jupyter-widgets/controls",
            "_model_module_version": "1.5.0",
            "value": 0.67,
            "_view_count": null,
            "disabled": false,
            "_view_module_version": "1.5.0",
            "min": 0,
            "continuous_update": true,
            "readout_format": ".2f",
            "description_tooltip": null,
            "readout": true,
            "_model_module": "@jupyter-widgets/controls",
            "layout": "IPY_MODEL_2e66e0deae4e4f2983fee509132461f5"
          }
        },
        "889dd83754e44b99a0b9855f72ca53e8": {
          "model_module": "@jupyter-widgets/controls",
          "model_name": "IntSliderModel",
          "state": {
            "_view_name": "IntSliderView",
            "style": "IPY_MODEL_65202a5c115845b69666e2c1c28fd975",
            "_dom_classes": [],
            "description": "T",
            "step": 1000,
            "_model_name": "IntSliderModel",
            "orientation": "horizontal",
            "max": 10000,
            "_view_module": "@jupyter-widgets/controls",
            "_model_module_version": "1.5.0",
            "value": 9000,
            "_view_count": null,
            "disabled": false,
            "_view_module_version": "1.5.0",
            "min": 1000,
            "continuous_update": true,
            "readout_format": "d",
            "description_tooltip": null,
            "readout": true,
            "_model_module": "@jupyter-widgets/controls",
            "layout": "IPY_MODEL_5069cb01d46048ed843b18d6d72047c8"
          }
        },
        "bf84dca8c57e4c5c9d2c3c4f77d1676e": {
          "model_module": "@jupyter-widgets/output",
          "model_name": "OutputModel",
          "state": {
            "_view_name": "OutputView",
            "msg_id": "",
            "_dom_classes": [],
            "_model_name": "OutputModel",
            "outputs": [
              {
                "output_type": "display_data",
                "metadata": {
                  "tags": [],
                  "image/png": {
                    "width": 558,
                    "height": 413
                  },
                  "needs_background": "light"
                },
                "image/png": "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\n",
                "text/plain": "<Figure size 576x432 with 1 Axes>"
              }
            ],
            "_view_module": "@jupyter-widgets/output",
            "_model_module_version": "1.0.0",
            "_view_count": null,
            "_view_module_version": "1.0.0",
            "layout": "IPY_MODEL_b40dde176edc4b5e80cf9f6d1db03cdd",
            "_model_module": "@jupyter-widgets/output"
          }
        },
        "f2c6de02f3054e589c2bd6fcc3252b4f": {
          "model_module": "@jupyter-widgets/controls",
          "model_name": "SliderStyleModel",
          "state": {
            "_view_name": "StyleView",
            "handle_color": null,
            "_model_name": "SliderStyleModel",
            "description_width": "",
            "_view_module": "@jupyter-widgets/base",
            "_model_module_version": "1.5.0",
            "_view_count": null,
            "_view_module_version": "1.2.0",
            "_model_module": "@jupyter-widgets/controls"
          }
        },
        "56aa4cd607d44ce698727fb38005b56e": {
          "model_module": "@jupyter-widgets/base",
          "model_name": "LayoutModel",
          "state": {
            "_view_name": "LayoutView",
            "grid_template_rows": null,
            "right": null,
            "justify_content": null,
            "_view_module": "@jupyter-widgets/base",
            "overflow": null,
            "_model_module_version": "1.2.0",
            "_view_count": null,
            "flex_flow": null,
            "width": null,
            "min_width": null,
            "border": null,
            "align_items": null,
            "bottom": null,
            "_model_module": "@jupyter-widgets/base",
            "top": null,
            "grid_column": null,
            "overflow_y": null,
            "overflow_x": null,
            "grid_auto_flow": null,
            "grid_area": null,
            "grid_template_columns": null,
            "flex": null,
            "_model_name": "LayoutModel",
            "justify_items": null,
            "grid_row": null,
            "max_height": null,
            "align_content": null,
            "visibility": null,
            "align_self": null,
            "height": null,
            "min_height": null,
            "padding": null,
            "grid_auto_rows": null,
            "grid_gap": null,
            "max_width": null,
            "order": null,
            "_view_module_version": "1.2.0",
            "grid_template_areas": null,
            "object_position": null,
            "object_fit": null,
            "grid_auto_columns": null,
            "margin": null,
            "display": null,
            "left": null
          }
        },
        "b14ac498a9be45358fb3a9c242891835": {
          "model_module": "@jupyter-widgets/controls",
          "model_name": "SliderStyleModel",
          "state": {
            "_view_name": "StyleView",
            "handle_color": null,
            "_model_name": "SliderStyleModel",
            "description_width": "",
            "_view_module": "@jupyter-widgets/base",
            "_model_module_version": "1.5.0",
            "_view_count": null,
            "_view_module_version": "1.2.0",
            "_model_module": "@jupyter-widgets/controls"
          }
        },
        "2e66e0deae4e4f2983fee509132461f5": {
          "model_module": "@jupyter-widgets/base",
          "model_name": "LayoutModel",
          "state": {
            "_view_name": "LayoutView",
            "grid_template_rows": null,
            "right": null,
            "justify_content": null,
            "_view_module": "@jupyter-widgets/base",
            "overflow": null,
            "_model_module_version": "1.2.0",
            "_view_count": null,
            "flex_flow": null,
            "width": null,
            "min_width": null,
            "border": null,
            "align_items": null,
            "bottom": null,
            "_model_module": "@jupyter-widgets/base",
            "top": null,
            "grid_column": null,
            "overflow_y": null,
            "overflow_x": null,
            "grid_auto_flow": null,
            "grid_area": null,
            "grid_template_columns": null,
            "flex": null,
            "_model_name": "LayoutModel",
            "justify_items": null,
            "grid_row": null,
            "max_height": null,
            "align_content": null,
            "visibility": null,
            "align_self": null,
            "height": null,
            "min_height": null,
            "padding": null,
            "grid_auto_rows": null,
            "grid_gap": null,
            "max_width": null,
            "order": null,
            "_view_module_version": "1.2.0",
            "grid_template_areas": null,
            "object_position": null,
            "object_fit": null,
            "grid_auto_columns": null,
            "margin": null,
            "display": null,
            "left": null
          }
        },
        "65202a5c115845b69666e2c1c28fd975": {
          "model_module": "@jupyter-widgets/controls",
          "model_name": "SliderStyleModel",
          "state": {
            "_view_name": "StyleView",
            "handle_color": null,
            "_model_name": "SliderStyleModel",
            "description_width": "",
            "_view_module": "@jupyter-widgets/base",
            "_model_module_version": "1.5.0",
            "_view_count": null,
            "_view_module_version": "1.2.0",
            "_model_module": "@jupyter-widgets/controls"
          }
        },
        "5069cb01d46048ed843b18d6d72047c8": {
          "model_module": "@jupyter-widgets/base",
          "model_name": "LayoutModel",
          "state": {
            "_view_name": "LayoutView",
            "grid_template_rows": null,
            "right": null,
            "justify_content": null,
            "_view_module": "@jupyter-widgets/base",
            "overflow": null,
            "_model_module_version": "1.2.0",
            "_view_count": null,
            "flex_flow": null,
            "width": null,
            "min_width": null,
            "border": null,
            "align_items": null,
            "bottom": null,
            "_model_module": "@jupyter-widgets/base",
            "top": null,
            "grid_column": null,
            "overflow_y": null,
            "overflow_x": null,
            "grid_auto_flow": null,
            "grid_area": null,
            "grid_template_columns": null,
            "flex": null,
            "_model_name": "LayoutModel",
            "justify_items": null,
            "grid_row": null,
            "max_height": null,
            "align_content": null,
            "visibility": null,
            "align_self": null,
            "height": null,
            "min_height": null,
            "padding": null,
            "grid_auto_rows": null,
            "grid_gap": null,
            "max_width": null,
            "order": null,
            "_view_module_version": "1.2.0",
            "grid_template_areas": null,
            "object_position": null,
            "object_fit": null,
            "grid_auto_columns": null,
            "margin": null,
            "display": null,
            "left": null
          }
        },
        "b40dde176edc4b5e80cf9f6d1db03cdd": {
          "model_module": "@jupyter-widgets/base",
          "model_name": "LayoutModel",
          "state": {
            "_view_name": "LayoutView",
            "grid_template_rows": null,
            "right": null,
            "justify_content": null,
            "_view_module": "@jupyter-widgets/base",
            "overflow": null,
            "_model_module_version": "1.2.0",
            "_view_count": null,
            "flex_flow": null,
            "width": null,
            "min_width": null,
            "border": null,
            "align_items": null,
            "bottom": null,
            "_model_module": "@jupyter-widgets/base",
            "top": null,
            "grid_column": null,
            "overflow_y": null,
            "overflow_x": null,
            "grid_auto_flow": null,
            "grid_area": null,
            "grid_template_columns": null,
            "flex": null,
            "_model_name": "LayoutModel",
            "justify_items": null,
            "grid_row": null,
            "max_height": null,
            "align_content": null,
            "visibility": null,
            "align_self": null,
            "height": null,
            "min_height": null,
            "padding": null,
            "grid_auto_rows": null,
            "grid_gap": null,
            "max_width": null,
            "order": null,
            "_view_module_version": "1.2.0",
            "grid_template_areas": null,
            "object_position": null,
            "object_fit": null,
            "grid_auto_columns": null,
            "margin": null,
            "display": null,
            "left": null
          }
        },
        "7e8c59b3010f4200b42a88c0ccb3de59": {
          "model_module": "@jupyter-widgets/controls",
          "model_name": "TabModel",
          "state": {
            "_view_name": "TabView",
            "_dom_classes": [],
            "_titles": {
              "0": "Youtube",
              "1": "Bilibili"
            },
            "_model_name": "TabModel",
            "_view_module": "@jupyter-widgets/controls",
            "selected_index": 0,
            "_model_module_version": "1.5.0",
            "_view_count": null,
            "_view_module_version": "1.5.0",
            "box_style": "",
            "layout": "IPY_MODEL_0b292aee9d234062ac837a7df4044257",
            "_model_module": "@jupyter-widgets/controls",
            "children": [
              "IPY_MODEL_316ea9d2b7474948aab9f6b51485d5c5",
              "IPY_MODEL_9531371f7ecf42d59fa63f8b0bd8912d"
            ]
          }
        },
        "0b292aee9d234062ac837a7df4044257": {
          "model_module": "@jupyter-widgets/base",
          "model_name": "LayoutModel",
          "state": {
            "_view_name": "LayoutView",
            "grid_template_rows": null,
            "right": null,
            "justify_content": null,
            "_view_module": "@jupyter-widgets/base",
            "overflow": null,
            "_model_module_version": "1.2.0",
            "_view_count": null,
            "flex_flow": null,
            "width": null,
            "min_width": null,
            "border": null,
            "align_items": null,
            "bottom": null,
            "_model_module": "@jupyter-widgets/base",
            "top": null,
            "grid_column": null,
            "overflow_y": null,
            "overflow_x": null,
            "grid_auto_flow": null,
            "grid_area": null,
            "grid_template_columns": null,
            "flex": null,
            "_model_name": "LayoutModel",
            "justify_items": null,
            "grid_row": null,
            "max_height": null,
            "align_content": null,
            "visibility": null,
            "align_self": null,
            "height": null,
            "min_height": null,
            "padding": null,
            "grid_auto_rows": null,
            "grid_gap": null,
            "max_width": null,
            "order": null,
            "_view_module_version": "1.2.0",
            "grid_template_areas": null,
            "object_position": null,
            "object_fit": null,
            "grid_auto_columns": null,
            "margin": null,
            "display": null,
            "left": null
          }
        },
        "316ea9d2b7474948aab9f6b51485d5c5": {
          "model_module": "@jupyter-widgets/output",
          "model_name": "OutputModel",
          "state": {
            "_view_name": "OutputView",
            "msg_id": "",
            "_dom_classes": [],
            "_model_name": "OutputModel",
            "outputs": [
              {
                "output_type": "stream",
                "metadata": {
                  "tags": []
                },
                "text": "Video available at https://youtube.com/watch?v=U6YRhLuRhHg\n",
                "stream": "stdout"
              },
              {
                "output_type": "display_data",
                "metadata": {
                  "tags": []
                },
                "text/html": "\n        <iframe\n            width=\"854\"\n            height=\"480\"\n            src=\"https://www.youtube.com/embed/U6YRhLuRhHg?fs=1&rel=0\"\n            frameborder=\"0\"\n            allowfullscreen\n        ></iframe>\n        ",
                "text/plain": "<IPython.lib.display.YouTubeVideo at 0x7f115488d090>",
                "image/jpeg": "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\n"
              }
            ],
            "_view_module": "@jupyter-widgets/output",
            "_model_module_version": "1.0.0",
            "_view_count": null,
            "_view_module_version": "1.0.0",
            "layout": "IPY_MODEL_eace94cada604e3c863f1f6d37ee0428",
            "_model_module": "@jupyter-widgets/output"
          }
        },
        "9531371f7ecf42d59fa63f8b0bd8912d": {
          "model_module": "@jupyter-widgets/output",
          "model_name": "OutputModel",
          "state": {
            "_view_name": "OutputView",
            "msg_id": "",
            "_dom_classes": [],
            "_model_name": "OutputModel",
            "outputs": [
              {
                "output_type": "stream",
                "metadata": {
                  "tags": []
                },
                "text": "Video available at https://www.bilibili.com/video/BV1uk4y1B7ru\n",
                "stream": "stdout"
              },
              {
                "output_type": "display_data",
                "metadata": {
                  "tags": []
                },
                "text/html": "\n        <iframe\n            width=\"854\"\n            height=\"480\"\n            src=\"https://player.bilibili.com/player.html?bvid=BV1uk4y1B7ru&page=1?fs=1\"\n            frameborder=\"0\"\n            allowfullscreen\n        ></iframe>\n        ",
                "text/plain": "<__main__.BiliVideo at 0x7f11545e4b10>"
              }
            ],
            "_view_module": "@jupyter-widgets/output",
            "_model_module_version": "1.0.0",
            "_view_count": null,
            "_view_module_version": "1.0.0",
            "layout": "IPY_MODEL_a69951aeade54701b15c63c6ade718e9",
            "_model_module": "@jupyter-widgets/output"
          }
        },
        "eace94cada604e3c863f1f6d37ee0428": {
          "model_module": "@jupyter-widgets/base",
          "model_name": "LayoutModel",
          "state": {
            "_view_name": "LayoutView",
            "grid_template_rows": null,
            "right": null,
            "justify_content": null,
            "_view_module": "@jupyter-widgets/base",
            "overflow": null,
            "_model_module_version": "1.2.0",
            "_view_count": null,
            "flex_flow": null,
            "width": null,
            "min_width": null,
            "border": null,
            "align_items": null,
            "bottom": null,
            "_model_module": "@jupyter-widgets/base",
            "top": null,
            "grid_column": null,
            "overflow_y": null,
            "overflow_x": null,
            "grid_auto_flow": null,
            "grid_area": null,
            "grid_template_columns": null,
            "flex": null,
            "_model_name": "LayoutModel",
            "justify_items": null,
            "grid_row": null,
            "max_height": null,
            "align_content": null,
            "visibility": null,
            "align_self": null,
            "height": null,
            "min_height": null,
            "padding": null,
            "grid_auto_rows": null,
            "grid_gap": null,
            "max_width": null,
            "order": null,
            "_view_module_version": "1.2.0",
            "grid_template_areas": null,
            "object_position": null,
            "object_fit": null,
            "grid_auto_columns": null,
            "margin": null,
            "display": null,
            "left": null
          }
        },
        "a69951aeade54701b15c63c6ade718e9": {
          "model_module": "@jupyter-widgets/base",
          "model_name": "LayoutModel",
          "state": {
            "_view_name": "LayoutView",
            "grid_template_rows": null,
            "right": null,
            "justify_content": null,
            "_view_module": "@jupyter-widgets/base",
            "overflow": null,
            "_model_module_version": "1.2.0",
            "_view_count": null,
            "flex_flow": null,
            "width": null,
            "min_width": null,
            "border": null,
            "align_items": null,
            "bottom": null,
            "_model_module": "@jupyter-widgets/base",
            "top": null,
            "grid_column": null,
            "overflow_y": null,
            "overflow_x": null,
            "grid_auto_flow": null,
            "grid_area": null,
            "grid_template_columns": null,
            "flex": null,
            "_model_name": "LayoutModel",
            "justify_items": null,
            "grid_row": null,
            "max_height": null,
            "align_content": null,
            "visibility": null,
            "align_self": null,
            "height": null,
            "min_height": null,
            "padding": null,
            "grid_auto_rows": null,
            "grid_gap": null,
            "max_width": null,
            "order": null,
            "_view_module_version": "1.2.0",
            "grid_template_areas": null,
            "object_position": null,
            "object_fit": null,
            "grid_auto_columns": null,
            "margin": null,
            "display": null,
            "left": null
          }
        },
        "c5af5f5486b84e07b1afbfdb8534f162": {
          "model_module": "@jupyter-widgets/controls",
          "model_name": "TabModel",
          "state": {
            "_view_name": "TabView",
            "_dom_classes": [],
            "_titles": {
              "0": "Youtube",
              "1": "Bilibili"
            },
            "_model_name": "TabModel",
            "_view_module": "@jupyter-widgets/controls",
            "selected_index": 0,
            "_model_module_version": "1.5.0",
            "_view_count": null,
            "_view_module_version": "1.5.0",
            "box_style": "",
            "layout": "IPY_MODEL_d14714b944a847059840aa7bc603991d",
            "_model_module": "@jupyter-widgets/controls",
            "children": [
              "IPY_MODEL_c32ee182e6b04b60b5aeabcd270c78b4",
              "IPY_MODEL_8bfe074e43684a14b6ea339b025a3aea"
            ]
          }
        },
        "d14714b944a847059840aa7bc603991d": {
          "model_module": "@jupyter-widgets/base",
          "model_name": "LayoutModel",
          "state": {
            "_view_name": "LayoutView",
            "grid_template_rows": null,
            "right": null,
            "justify_content": null,
            "_view_module": "@jupyter-widgets/base",
            "overflow": null,
            "_model_module_version": "1.2.0",
            "_view_count": null,
            "flex_flow": null,
            "width": null,
            "min_width": null,
            "border": null,
            "align_items": null,
            "bottom": null,
            "_model_module": "@jupyter-widgets/base",
            "top": null,
            "grid_column": null,
            "overflow_y": null,
            "overflow_x": null,
            "grid_auto_flow": null,
            "grid_area": null,
            "grid_template_columns": null,
            "flex": null,
            "_model_name": "LayoutModel",
            "justify_items": null,
            "grid_row": null,
            "max_height": null,
            "align_content": null,
            "visibility": null,
            "align_self": null,
            "height": null,
            "min_height": null,
            "padding": null,
            "grid_auto_rows": null,
            "grid_gap": null,
            "max_width": null,
            "order": null,
            "_view_module_version": "1.2.0",
            "grid_template_areas": null,
            "object_position": null,
            "object_fit": null,
            "grid_auto_columns": null,
            "margin": null,
            "display": null,
            "left": null
          }
        },
        "c32ee182e6b04b60b5aeabcd270c78b4": {
          "model_module": "@jupyter-widgets/output",
          "model_name": "OutputModel",
          "state": {
            "_view_name": "OutputView",
            "msg_id": "",
            "_dom_classes": [],
            "_model_name": "OutputModel",
            "outputs": [
              {
                "output_type": "stream",
                "metadata": {
                  "tags": []
                },
                "text": "Video available at https://youtube.com/watch?v=csetTTauIh8\n",
                "stream": "stdout"
              },
              {
                "output_type": "display_data",
                "metadata": {
                  "tags": []
                },
                "text/html": "\n        <iframe\n            width=\"854\"\n            height=\"480\"\n            src=\"https://www.youtube.com/embed/csetTTauIh8?fs=1&rel=0\"\n            frameborder=\"0\"\n            allowfullscreen\n        ></iframe>\n        ",
                "text/plain": "<IPython.lib.display.YouTubeVideo at 0x7f115d013f50>",
                "image/jpeg": "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\n"
              }
            ],
            "_view_module": "@jupyter-widgets/output",
            "_model_module_version": "1.0.0",
            "_view_count": null,
            "_view_module_version": "1.0.0",
            "layout": "IPY_MODEL_6770b3facf6e42e5b6db49017ae9c7b5",
            "_model_module": "@jupyter-widgets/output"
          }
        },
        "8bfe074e43684a14b6ea339b025a3aea": {
          "model_module": "@jupyter-widgets/output",
          "model_name": "OutputModel",
          "state": {
            "_view_name": "OutputView",
            "msg_id": "",
            "_dom_classes": [],
            "_model_name": "OutputModel",
            "outputs": [
              {
                "output_type": "stream",
                "metadata": {
                  "tags": []
                },
                "text": "Video available at https://www.bilibili.com/video/BV1di4y1g7Yc\n",
                "stream": "stdout"
              },
              {
                "output_type": "display_data",
                "metadata": {
                  "tags": []
                },
                "text/html": "\n        <iframe\n            width=\"854\"\n            height=\"480\"\n            src=\"https://player.bilibili.com/player.html?bvid=BV1di4y1g7Yc&page=1?fs=1\"\n            frameborder=\"0\"\n            allowfullscreen\n        ></iframe>\n        ",
                "text/plain": "<__main__.BiliVideo at 0x7f1150d93810>"
              }
            ],
            "_view_module": "@jupyter-widgets/output",
            "_model_module_version": "1.0.0",
            "_view_count": null,
            "_view_module_version": "1.0.0",
            "layout": "IPY_MODEL_2af84e95b0e24694b618df4c14aaae50",
            "_model_module": "@jupyter-widgets/output"
          }
        },
        "6770b3facf6e42e5b6db49017ae9c7b5": {
          "model_module": "@jupyter-widgets/base",
          "model_name": "LayoutModel",
          "state": {
            "_view_name": "LayoutView",
            "grid_template_rows": null,
            "right": null,
            "justify_content": null,
            "_view_module": "@jupyter-widgets/base",
            "overflow": null,
            "_model_module_version": "1.2.0",
            "_view_count": null,
            "flex_flow": null,
            "width": null,
            "min_width": null,
            "border": null,
            "align_items": null,
            "bottom": null,
            "_model_module": "@jupyter-widgets/base",
            "top": null,
            "grid_column": null,
            "overflow_y": null,
            "overflow_x": null,
            "grid_auto_flow": null,
            "grid_area": null,
            "grid_template_columns": null,
            "flex": null,
            "_model_name": "LayoutModel",
            "justify_items": null,
            "grid_row": null,
            "max_height": null,
            "align_content": null,
            "visibility": null,
            "align_self": null,
            "height": null,
            "min_height": null,
            "padding": null,
            "grid_auto_rows": null,
            "grid_gap": null,
            "max_width": null,
            "order": null,
            "_view_module_version": "1.2.0",
            "grid_template_areas": null,
            "object_position": null,
            "object_fit": null,
            "grid_auto_columns": null,
            "margin": null,
            "display": null,
            "left": null
          }
        },
        "2af84e95b0e24694b618df4c14aaae50": {
          "model_module": "@jupyter-widgets/base",
          "model_name": "LayoutModel",
          "state": {
            "_view_name": "LayoutView",
            "grid_template_rows": null,
            "right": null,
            "justify_content": null,
            "_view_module": "@jupyter-widgets/base",
            "overflow": null,
            "_model_module_version": "1.2.0",
            "_view_count": null,
            "flex_flow": null,
            "width": null,
            "min_width": null,
            "border": null,
            "align_items": null,
            "bottom": null,
            "_model_module": "@jupyter-widgets/base",
            "top": null,
            "grid_column": null,
            "overflow_y": null,
            "overflow_x": null,
            "grid_auto_flow": null,
            "grid_area": null,
            "grid_template_columns": null,
            "flex": null,
            "_model_name": "LayoutModel",
            "justify_items": null,
            "grid_row": null,
            "max_height": null,
            "align_content": null,
            "visibility": null,
            "align_self": null,
            "height": null,
            "min_height": null,
            "padding": null,
            "grid_auto_rows": null,
            "grid_gap": null,
            "max_width": null,
            "order": null,
            "_view_module_version": "1.2.0",
            "grid_template_areas": null,
            "object_position": null,
            "object_fit": null,
            "grid_auto_columns": null,
            "margin": null,
            "display": null,
            "left": null
          }
        }
      }
    }
  },
  "cells": [
    {
      "cell_type": "markdown",
      "metadata": {
        "id": "view-in-github",
        "colab_type": "text"
      },
      "source": [
        "<a href=\"https://colab.research.google.com/github/Leehong-DENG/CBIG/blob/master/tutorials/W2D2_LinearSystems/student/W2D2_Tutorial2.ipynb\" target=\"_parent\"><img src=\"https://colab.research.google.com/assets/colab-badge.svg\" alt=\"Open In Colab\"/></a>"
      ]
    },
    {
      "cell_type": "markdown",
      "metadata": {
        "execution": {},
        "id": "LArM81l_wOBA"
      },
      "source": [
        "# Tutorial 2: Markov Processes\n",
        "**Week 2, Day 2: Linear Systems**\n",
        "\n",
        "**By Neuromatch Academy**\n",
        "\n",
        "**Content Creators**: Bing Wen Brunton, Ellie Stradquist\n",
        "\n",
        "**Content Reviewers**: Norma Kuhn, Karolina Stosio, John Butler, Matthew Krause, Ella Batty, Richard Gao, Michael Waskom, Ethan Cheng"
      ]
    },
    {
      "cell_type": "markdown",
      "metadata": {
        "execution": {},
        "id": "UHsMOAYfwOBG"
      },
      "source": [
        "**Our 2021 Sponsors, including Presenting Sponsor Facebook Reality Labs**\n",
        "\n",
        "<p align='center'><img src='https://github.com/NeuromatchAcademy/widgets/blob/master/sponsors.png?raw=True'/></p>"
      ]
    },
    {
      "cell_type": "markdown",
      "metadata": {
        "execution": {},
        "id": "VkhU55JrwOBH"
      },
      "source": [
        "---\n",
        "# Tutorial Objectives\n",
        "\n",
        "*Estimated timing of tutorial: 45 minutes*\n",
        "\n",
        "In this tutorial, we will look at the dynamical systems introduced in the first tutorial through a different lens. \n",
        "\n",
        "In Tutorial 1, we studied dynamical systems as a deterministic process. For Tutorial 2, we will look at **probabilistic** dynamical systems. You may sometimes hear these systems called _stochastic_. In a probabilistic process, elements of randomness are involved. Every time you observe some probabilistic dynamical system, started from the same initial conditions, the outcome will likely be different. Put another way, dynamical systems that involve probability will incorporate random variations in their behavior. \n",
        "\n",
        "For some probabilistic dynamical systems, the differential equations express a relationship between $\\dot{x}$ and $x$ at every time $t$, so that the direction of $x$ at _every_ time depends entirely on the value of $x$. Said a different way, knowledge of the value of the state variables $x$ at time t is _all_ the information needed to determine $\\dot{x}$ and therefore $x$ at the next time.\n",
        "\n",
        "This property --- that the present state entirely determines the transition to the next state --- is what defines a **Markov process** and systems obeying this property can be described as **Markovian**.\n",
        "\n",
        "The goal of Tutorial 2 is to consider this type of Markov process in a simple example where the state transitions are probabilistic. In particular, we will:\n",
        "\n",
        "* Understand Markov processes and history dependence.\n",
        "* Explore the behavior of a two-state telegraph process and understand how its equilibrium distribution is dependent on its parameters.\n",
        "\n"
      ]
    },
    {
      "cell_type": "code",
      "metadata": {
        "cellView": "form",
        "execution": {},
        "colab": {
          "base_uri": "https://localhost:8080/",
          "height": 500
        },
        "id": "HjEAnJf4wOBL",
        "outputId": "a648f548-61e9-4e1b-c38e-0e0733b95f06"
      },
      "source": [
        "# @title Tutorial slides\n",
        "\n",
        "# @markdown These are the slides for the videos in all tutorials today\n",
        "from IPython.display import IFrame\n",
        "IFrame(src=f\"https://mfr.ca-1.osf.io/render?url=https://osf.io/snv4m/?direct%26mode=render%26action=download%26mode=render\", width=854, height=480)"
      ],
      "execution_count": 1,
      "outputs": [
        {
          "output_type": "execute_result",
          "data": {
            "text/html": [
              "\n",
              "        <iframe\n",
              "            width=\"854\"\n",
              "            height=\"480\"\n",
              "            src=\"https://mfr.ca-1.osf.io/render?url=https://osf.io/snv4m/?direct%26mode=render%26action=download%26mode=render\"\n",
              "            frameborder=\"0\"\n",
              "            allowfullscreen\n",
              "        ></iframe>\n",
              "        "
            ],
            "text/plain": [
              "<IPython.lib.display.IFrame at 0x7f1161e2cf50>"
            ]
          },
          "metadata": {
            "tags": []
          },
          "execution_count": 1
        }
      ]
    },
    {
      "cell_type": "markdown",
      "metadata": {
        "execution": {},
        "id": "F6cbaOfLwOBN"
      },
      "source": [
        "---\n",
        "# Setup"
      ]
    },
    {
      "cell_type": "code",
      "metadata": {
        "execution": {},
        "id": "TUD-U-F-wOBO"
      },
      "source": [
        "# Imports\n",
        "\n",
        "import numpy as np\n",
        "import matplotlib.pyplot as plt"
      ],
      "execution_count": 2,
      "outputs": []
    },
    {
      "cell_type": "code",
      "metadata": {
        "cellView": "form",
        "execution": {},
        "id": "okxAcwW7wOBP"
      },
      "source": [
        "#@title Figure Settings\n",
        "import ipywidgets as widgets       # interactive display\n",
        "%config InlineBackend.figure_format = 'retina'\n",
        "plt.style.use(\"https://raw.githubusercontent.com/NeuromatchAcademy/course-content/master/nma.mplstyle\")"
      ],
      "execution_count": 4,
      "outputs": []
    },
    {
      "cell_type": "code",
      "metadata": {
        "cellView": "form",
        "execution": {},
        "id": "FGB1l5eVwOBQ"
      },
      "source": [
        "# @title Plotting Functions\n",
        "\n",
        "def plot_switch_simulation(t, x):\n",
        "  fig = plt.figure()\n",
        "  plt.plot(t, x)\n",
        "  plt.title('State-switch simulation')\n",
        "  plt.xlabel('Time')\n",
        "  plt.xlim((0, 300)) # zoom in time\n",
        "  plt.ylabel('State of ion channel 0/1', labelpad=-60)\n",
        "  plt.yticks([0, 1], ['Closed (0)', 'Open (1)'])\n",
        "  plt.show()\n",
        "  return\n",
        "\n",
        "def plot_interswitch_interval_histogram(inter_switch_intervals):\n",
        "  fig = plt.figure()\n",
        "  plt.hist(inter_switch_intervals)\n",
        "  plt.title('Inter-switch Intervals Distribution')\n",
        "  plt.ylabel('Interval Count')\n",
        "  plt.xlabel('time')\n",
        "  plt.show()\n",
        "\n",
        "def plot_state_probabilities(time, states):\n",
        "  fig = plt.figure()\n",
        "  plt.plot(time, states[:,0], label='Closed to open')\n",
        "  plt.plot(time, states[:,1], label='Open to closed')\n",
        "  plt.legend()\n",
        "  plt.xlabel('time')\n",
        "  plt.ylabel('prob(open OR closed)')"
      ],
      "execution_count": 5,
      "outputs": []
    },
    {
      "cell_type": "markdown",
      "metadata": {
        "execution": {},
        "id": "on6A5aGOwOBS"
      },
      "source": [
        "---\n",
        "# Section 1:  Telegraph Process"
      ]
    },
    {
      "cell_type": "code",
      "metadata": {
        "cellView": "form",
        "execution": {},
        "colab": {
          "base_uri": "https://localhost:8080/",
          "height": 580,
          "referenced_widgets": [
            "c56b1f8cb053415dac8fc42cd75e627c",
            "d0fd69881a9d4a0d88d28faab08c46dd",
            "b08e587462a14c72b10a88f9956483ce",
            "cd8c7939862946a9bd0e60ebb1ebd57f",
            "75e42f1454964d7a9f680bb6c5818a99",
            "b292565a9f614565915cb8bab04b62be"
          ]
        },
        "id": "RZ5rH_8UwOBU",
        "outputId": "4e88a9ee-23f2-4673-c159-cbba937864e8"
      },
      "source": [
        "# @title Video 1: Markov Process\n",
        "from ipywidgets import widgets\n",
        "\n",
        "out2 = widgets.Output()\n",
        "with out2:\n",
        "  from IPython.display import IFrame\n",
        "  class BiliVideo(IFrame):\n",
        "      def __init__(self, id, page=1, width=400, height=300, **kwargs):\n",
        "          self.id=id\n",
        "          src = 'https://player.bilibili.com/player.html?bvid={0}&page={1}'.format(id, page)\n",
        "          super(BiliVideo, self).__init__(src, width, height, **kwargs)\n",
        "\n",
        "  video = BiliVideo(id=\"BV11C4y1h7Eu\", width=854, height=480, fs=1)\n",
        "  print('Video available at https://www.bilibili.com/video/{0}'.format(video.id))\n",
        "  display(video)\n",
        "\n",
        "out1 = widgets.Output()\n",
        "with out1:\n",
        "  from IPython.display import YouTubeVideo\n",
        "  video = YouTubeVideo(id=\"xZO6GbU48ns\", width=854, height=480, fs=1, rel=0)\n",
        "  print('Video available at https://youtube.com/watch?v=' + video.id)\n",
        "  display(video)\n",
        "\n",
        "out = widgets.Tab([out1, out2])\n",
        "out.set_title(0, 'Youtube')\n",
        "out.set_title(1, 'Bilibili')\n",
        "\n",
        "display(out)"
      ],
      "execution_count": 3,
      "outputs": [
        {
          "output_type": "display_data",
          "data": {
            "application/vnd.jupyter.widget-view+json": {
              "model_id": "c56b1f8cb053415dac8fc42cd75e627c",
              "version_minor": 0,
              "version_major": 2
            },
            "text/plain": [
              "Tab(children=(Output(), Output()), _titles={'0': 'Youtube', '1': 'Bilibili'})"
            ]
          },
          "metadata": {
            "tags": []
          }
        }
      ]
    },
    {
      "cell_type": "markdown",
      "metadata": {
        "execution": {},
        "id": "lEP1bqUuwOBV"
      },
      "source": [
        "This video covers a definition of Markov processes and an introduction to ion channels opening/closing as an example of a telegraph process.\n",
        "\n",
        "Let's consider a Markov process with two states, where switches between each two states are probabilistic (known as a telegraph process). To be concrete, let's say we are modeling an **ion channel in a neuron that can be in one of two states: Closed (0) or Open (1)**. \n",
        "\n",
        "If the ion channel is Closed, it may transition to the Open state with probability $P(0 \\rightarrow 1 | x = 0) = \\mu_{c2o}$. Likewise, If the ion channel is Open, it transitions to Closed with probability $P(1 \\rightarrow 0 | x=1) = \\mu_{o2c}$.\n",
        "\n",
        "We simulate the process of changing states as a **Poisson process**. You have seen the Poisson process in the [pre-reqs statistics day](https://compneuro.neuromatch.io/tutorials/W0D5_Statistics/student/W0D5_Tutorial1.html). The Poisson process is a way to model discrete events where the average time between event occurrences is known but the exact time of some event is not known. Importantly, the Poisson process dictates the following points: \n",
        "1. The probability of some event occurring is _independent from all other events_.\n",
        "2. The average rate of events within a given time period is constant.\n",
        "3. Two events cannot occur at the same moment. Our ion channel can either be in an open or closed state, but not both simultaneously. \n",
        "\n",
        "In the simulation below, we will use the Poisson process to model the state of our ion channel at all points $t$ within the total simulation time $T$. \n",
        "\n",
        "As we simulate the state change process, we also track at which times thoughout the simulation the state makes a switch. We can use those times to measure the distribution of the time _intervals_ between state switches.\n",
        "\n",
        "You briefly saw a Markov process in the [pre-reqs statistics day](https://compneuro.neuromatch.io/tutorials/W0D5_Statistics/student/W0D5_Tutorial2.html#section-1-2-markov-chains).\n",
        "\n"
      ]
    },
    {
      "cell_type": "markdown",
      "metadata": {
        "execution": {},
        "id": "n84Wd7fjwOBX"
      },
      "source": [
        "Run the cell below to show the state-change simulation process. Note that a random seed was set in the code block, so re-running the code will produce the same plot. Commenting out that line will produce a different simulation each run."
      ]
    },
    {
      "cell_type": "code",
      "metadata": {
        "execution": {},
        "colab": {
          "base_uri": "https://localhost:8080/",
          "height": 430
        },
        "id": "H4DLd6b8wOBY",
        "outputId": "c050dde4-8493-4c65-9009-0f55e0fe386f"
      },
      "source": [
        "# @markdown Execute to simulate state changes\n",
        "\n",
        "# parameters\n",
        "T = 5000     # total Time duration\n",
        "dt = 0.001   # timestep of our simulation\n",
        "\n",
        "# simulate state of our ion channel in time\n",
        "# the two parameters that govern transitions are\n",
        "# c2o: closed to open rate\n",
        "# o2c: open to closed rate\n",
        "def ion_channel_opening(c2o, o2c, T, dt):\n",
        "    # initialize variables\n",
        "    t = np.arange(0, T, dt)\n",
        "    x = np.zeros_like(t)\n",
        "    switch_times = []\n",
        "\n",
        "    # assume we always start in Closed state\n",
        "    x[0] = 0\n",
        "\n",
        "    # generate a bunch of random uniformly distributed numbers\n",
        "    # between zero and unity: [0, 1),\n",
        "    # one for each dt in our simulation.\n",
        "    # we will use these random numbers to model the\n",
        "    # closed/open transitions\n",
        "    myrand = np.random.random_sample(size=len(t))\n",
        "\n",
        "\n",
        "    # walk through time steps of the simulation\n",
        "    for k in range(len(t)-1):\n",
        "        # switching between closed/open states are\n",
        "        # Poisson processes\n",
        "        if x[k] == 0 and myrand[k] < c2o*dt: # remember to scale by dt!\n",
        "            x[k+1:] = 1\n",
        "            switch_times.append(k*dt)\n",
        "        elif x[k] == 1 and myrand[k] < o2c*dt:\n",
        "            x[k+1:] = 0\n",
        "            switch_times.append(k*dt)\n",
        "\n",
        "    return t, x, switch_times\n",
        "\n",
        "\n",
        "c2o = 0.02\n",
        "o2c = 0.1\n",
        "## np.random.seed(1) # set random seed\n",
        "t, x, switch_times = ion_channel_opening(c2o, o2c, T, .1)\n",
        "plot_switch_simulation(t,x)"
      ],
      "execution_count": 13,
      "outputs": [
        {
          "output_type": "display_data",
          "data": {
            "image/png": "[encoded data removed]",
            "text/plain": [
              "<Figure size 576x432 with 1 Axes>"
            ]
          },
          "metadata": {
            "tags": [],
            "image/png": {
              "width": 558,
              "height": 413
            },
            "needs_background": "light"
          }
        }
      ]
    },
    {
      "cell_type": "markdown",
      "metadata": {
        "execution": {},
        "id": "aooccRTwwOBZ"
      },
      "source": [
        "## Coding Exercise 1: Computing intervals between switches\n",
        "\n",
        "*Referred to in video as exercise 2A*\n",
        "\n",
        "We now have `switch_times`, which is a list consisting of times when the state switched. Using this, calculate the time intervals between each state switch and store these in a list called `inter_switch_intervals`.\n",
        "\n",
        "We will then plot the distribution of these intervals. How would you describe the shape of the distribution?\n"
      ]
    },
    {
      "cell_type": "code",
      "metadata": {
        "execution": {},
        "colab": {
          "base_uri": "https://localhost:8080/",
          "height": 430
        },
        "id": "d5WUcSOJwOBa",
        "outputId": "5c6126e4-97f1-4e3c-e478-109b649f3f8d"
      },
      "source": [
        "##############################################################################\n",
        "## TODO: Insert your code here to calculate between-state-switch intervals\n",
        "##raise NotImplementedError(\"Student exercise: need to calculate switch intervals\")\n",
        "##############################################################################\n",
        "\n",
        "# hint: see np.diff()\n",
        "inter_switch_intervals = np.diff(switch_times)##\n",
        "\n",
        "# plot inter-switch intervals\n",
        "plot_interswitch_interval_histogram(inter_switch_intervals)"
      ],
      "execution_count": 15,
      "outputs": [
        {
          "output_type": "display_data",
          "data": {
            "image/png": "[encoded data removed]",
            "text/plain": [
              "<Figure size 576x432 with 1 Axes>"
            ]
          },
          "metadata": {
            "tags": [],
            "image/png": {
              "width": 557,
              "height": 413
            },
            "needs_background": "light"
          }
        }
      ]
    },
    {
      "cell_type": "markdown",
      "metadata": {
        "execution": {},
        "id": "lblsWP59wOBa"
      },
      "source": [
        "[*Click for solution*](https://github.com/NeuromatchAcademy/course-content/tree/master//tutorials/W2D2_LinearSystems/solutions/W2D2_Tutorial2_Solution_30701e58.py)\n",
        "\n",
        "*Example output:*\n",
        "\n",
        "<img alt='Solution hint' align='left' width=1120.0 height=832.0 src=https://raw.githubusercontent.com/NeuromatchAcademy/course-content/master/tutorials/W2D2_LinearSystems/static/W2D2_Tutorial2_Solution_30701e58_0.png>\n",
        "\n"
      ]
    },
    {
      "cell_type": "markdown",
      "metadata": {
        "execution": {},
        "id": "L3tm5cuRwOBb"
      },
      "source": [
        "In the next cell, we generate a bar graph to visualize the distribution of the number of time-steps spent in each of the two possible system states during the simulation.\n",
        "\n"
      ]
    },
    {
      "cell_type": "code",
      "metadata": {
        "cellView": "form",
        "execution": {},
        "colab": {
          "base_uri": "https://localhost:8080/",
          "height": 430
        },
        "id": "AqTUOnaIwOBb",
        "outputId": "2da11dfc-a175-4677-b7ff-5b2a5329c2b7"
      },
      "source": [
        "# @markdown Execute cell to visualize distribution of time spent in each state.\n",
        "\n",
        "states = ['Closed', 'Open']\n",
        "(unique, counts) = np.unique(x, return_counts=True)\n",
        "plt.bar(states, counts)\n",
        "plt.ylabel('Number of time steps')\n",
        "plt.xlabel('State of ion channel');"
      ],
      "execution_count": 16,
      "outputs": [
        {
          "output_type": "display_data",
          "data": {
            "image/png": "[encoded data removed]",
            "text/plain": [
              "<Figure size 576x432 with 1 Axes>"
            ]
          },
          "metadata": {
            "tags": [],
            "image/png": {
              "width": 557,
              "height": 413
            },
            "needs_background": "light"
          }
        }
      ]
    },
    {
      "cell_type": "markdown",
      "metadata": {
        "execution": {},
        "id": "0e14B1vswOBc"
      },
      "source": [
        "<!-- Though the system started initially in the Closed ($x=0$) state, over time, it settles into a equilibrium distribution where we can predict on what fraction of time it is Open as a function of the $\\mu$ parameters. \n",
        "\n",
        "Before we continue exploring these distributions further, let's first take a look at the this fraction of Open states as a cumulative mean of the state $x$: -->\n",
        "\n",
        "Even though the state is _discrete_--the ion channel can only be either Closed or Open--we can still look at the **mean state** of the system, averaged over some window of time. \n",
        "\n",
        "Since we've coded Closed as $x=0$ and Open as $x=1$, conveniently, the mean of $x$ over some window of time has the interpretation of **fraction of time channel is Open**.\n",
        "\n",
        "Let's also take a look at the fraction of Open states as a cumulative mean of the state $x$. The cumulative mean tells us the average number of state-changes that the system will have undergone after a certain amount of time. "
      ]
    },
    {
      "cell_type": "code",
      "metadata": {
        "cellView": "form",
        "execution": {},
        "colab": {
          "base_uri": "https://localhost:8080/",
          "height": 430
        },
        "id": "nlvBTKtHwOBc",
        "outputId": "d54e1189-237e-4bb7-8a15-2735573c8e85"
      },
      "source": [
        "# @markdown Execute to visualize cumulative mean of state\n",
        "plt.plot(t, np.cumsum(x) / np.arange(1, len(t)+1))\n",
        "plt.xlabel('time')\n",
        "plt.ylabel('Cumulative mean of state');"
      ],
      "execution_count": 17,
      "outputs": [
        {
          "output_type": "display_data",
          "data": {
            "image/png": "[encoded data removed]",
            "text/plain": [
              "<Figure size 576x432 with 1 Axes>"
            ]
          },
          "metadata": {
            "tags": [],
            "image/png": {
              "width": 558,
              "height": 413
            },
            "needs_background": "light"
          }
        }
      ]
    },
    {
      "cell_type": "markdown",
      "metadata": {
        "execution": {},
        "id": "0lR5ayUgwOBe"
      },
      "source": [
        "Notice in the plot above that, although the channel started in the Closed ($x=0$) state, gradually adopted some mean value after some time. This mean value is related to the transition probabilities $\\mu_{c2o}$\n",
        "and $\\mu_{o2c}$."
      ]
    },
    {
      "cell_type": "markdown",
      "metadata": {
        "execution": {},
        "id": "ND-r8B_ywOBe"
      },
      "source": [
        "## Interactive Demo 1: Varying transition probability values & T\n",
        "\n",
        "Using the interactive demo below, explore the state-switch simulation for different transition probability values of states $\\mu_{c2o}$ and $\\mu_{o2c}$. Also, try different values for total simulation time length *T*. \n",
        "\n",
        "1.  Does the general shape of the inter-switch interval distribution change or does it stay relatively the same? \n",
        "2.  How does the bar graph of system states change based on these values?"
      ]
    },
    {
      "cell_type": "code",
      "metadata": {
        "execution": {},
        "colab": {
          "base_uri": "https://localhost:8080/",
          "height": 526,
          "referenced_widgets": [
            "2b11eb3d853044eba23ba054d555c77c",
            "e5dc12822dd6424cad4e86db641b1525",
            "83c23b947e8e4b2c91eb23c486cce10b",
            "87adc59493b445b491d7c692194405bf",
            "889dd83754e44b99a0b9855f72ca53e8",
            "bf84dca8c57e4c5c9d2c3c4f77d1676e",
            "f2c6de02f3054e589c2bd6fcc3252b4f",
            "56aa4cd607d44ce698727fb38005b56e",
            "b14ac498a9be45358fb3a9c242891835",
            "2e66e0deae4e4f2983fee509132461f5",
            "65202a5c115845b69666e2c1c28fd975",
            "5069cb01d46048ed843b18d6d72047c8",
            "b40dde176edc4b5e80cf9f6d1db03cdd"
          ]
        },
        "id": "Jw4ERHAywOBf",
        "outputId": "0985dcf9-fc8d-499a-a0de-8e08646ff43e"
      },
      "source": [
        "#@title\n",
        "\n",
        "#@markdown Make sure you execute this cell to enable the widget!\n",
        "\n",
        "@widgets.interact\n",
        "def plot_inter_switch_intervals(c2o = (0,1, .01), o2c = (0, 1, .01), T=(1000,10000, 1000)):\n",
        "\n",
        "  t, x, switch_times = ion_channel_opening(c2o, o2c, T, .1)\n",
        "\n",
        "  inter_switch_intervals = np.diff(switch_times)\n",
        "\n",
        "  #plot inter-switch intervals\n",
        "  plt.hist(inter_switch_intervals)\n",
        "  plt.title('Inter-switch Intervals Distribution')\n",
        "  plt.ylabel('Interval Count')\n",
        "  plt.xlabel('time')\n",
        "  plt.show()\n",
        "  plt.close()"
      ],
      "execution_count": 18,
      "outputs": [
        {
          "output_type": "display_data",
          "data": {
            "application/vnd.jupyter.widget-view+json": {
              "model_id": "2b11eb3d853044eba23ba054d555c77c",
              "version_minor": 0,
              "version_major": 2
            },
            "text/plain": [
              "interactive(children=(FloatSlider(value=0.0, description='c2o', max=1.0, step=0.01), FloatSlider(value=0.0, de…"
            ]
          },
          "metadata": {
            "tags": []
          }
        }
      ]
    },
    {
      "cell_type": "markdown",
      "metadata": {
        "execution": {},
        "id": "O6af2aJlwOBg"
      },
      "source": [
        "[*Click for solution*](https://github.com/NeuromatchAcademy/course-content/tree/master//tutorials/W2D2_LinearSystems/solutions/W2D2_Tutorial2_Solution_e12a1ce6.py)\n",
        "\n"
      ]
    },
    {
      "cell_type": "markdown",
      "metadata": {
        "execution": {},
        "id": "f1zbsdezwOBg"
      },
      "source": [
        "---\n",
        "# Section 2: Distributional Perspective\n",
        "\n",
        "*Estimated timing to here from start of tutorial: 18 min*\n",
        "\n"
      ]
    },
    {
      "cell_type": "code",
      "metadata": {
        "cellView": "form",
        "execution": {},
        "colab": {
          "base_uri": "https://localhost:8080/",
          "height": 580,
          "referenced_widgets": [
            "7e8c59b3010f4200b42a88c0ccb3de59",
            "0b292aee9d234062ac837a7df4044257",
            "316ea9d2b7474948aab9f6b51485d5c5",
            "9531371f7ecf42d59fa63f8b0bd8912d",
            "eace94cada604e3c863f1f6d37ee0428",
            "a69951aeade54701b15c63c6ade718e9"
          ]
        },
        "id": "WG1BhStWwOBh",
        "outputId": "2c8dbcc4-f493-421e-f3bc-462f82b58419"
      },
      "source": [
        "# @title Video 2: State Transitions\n",
        "from ipywidgets import widgets\n",
        "\n",
        "out2 = widgets.Output()\n",
        "with out2:\n",
        "  from IPython.display import IFrame\n",
        "  class BiliVideo(IFrame):\n",
        "      def __init__(self, id, page=1, width=400, height=300, **kwargs):\n",
        "          self.id=id\n",
        "          src = 'https://player.bilibili.com/player.html?bvid={0}&page={1}'.format(id, page)\n",
        "          super(BiliVideo, self).__init__(src, width, height, **kwargs)\n",
        "\n",
        "  video = BiliVideo(id=\"BV1uk4y1B7ru\", width=854, height=480, fs=1)\n",
        "  print('Video available at https://www.bilibili.com/video/{0}'.format(video.id))\n",
        "  display(video)\n",
        "\n",
        "out1 = widgets.Output()\n",
        "with out1:\n",
        "  from IPython.display import YouTubeVideo\n",
        "  video = YouTubeVideo(id=\"U6YRhLuRhHg\", width=854, height=480, fs=1, rel=0)\n",
        "  print('Video available at https://youtube.com/watch?v=' + video.id)\n",
        "  display(video)\n",
        "\n",
        "out = widgets.Tab([out1, out2])\n",
        "out.set_title(0, 'Youtube')\n",
        "out.set_title(1, 'Bilibili')\n",
        "\n",
        "display(out)"
      ],
      "execution_count": 19,
      "outputs": [
        {
          "output_type": "display_data",
          "data": {
            "application/vnd.jupyter.widget-view+json": {
              "model_id": "7e8c59b3010f4200b42a88c0ccb3de59",
              "version_minor": 0,
              "version_major": 2
            },
            "text/plain": [
              "Tab(children=(Output(), Output()), _titles={'0': 'Youtube', '1': 'Bilibili'})"
            ]
          },
          "metadata": {
            "tags": []
          }
        }
      ]
    },
    {
      "cell_type": "markdown",
      "metadata": {
        "execution": {},
        "id": "OPnXDhpZwOBh"
      },
      "source": [
        "This video serves as an introduction to the telegraph process of ion channels opening/closing with an alternative formulation as a matrix/vector representation of probabilistic state transitions.\n",
        "\n",
        "<details>\n",
        "<summary> <font color='blue'>Click here for text recap of video </font></summary>\n",
        "\n",
        "We can run this simulation many times and gather empirical distributions of open/closed states. Alternatively, we can formulate the exact same system probabilistically, keeping track of the probability of being in each state.\n",
        "\n",
        "<!-- Although the system started initially in the Closed ($x=0$) state, over time, it settles into a equilibrium distribution where we can predict on what fraction of time it is Open as a function of the $\\mu$ parameters.  -->\n",
        "\n",
        "(see diagram in lecture)\n",
        "\n",
        "The same system of transitions can then be formulated using a vector of 2 elements as the state vector and a dynamics matrix $\\mathbf{A}$. The result of this formulation is a *state transition matrix*:\n",
        "\n",
        "$\\left[ \\begin{array}{c} C \\\\ O \\end{array} \\right]_{k+1} = \\mathbf{A} \\left[ \\begin{array}{c} C \\\\ O \\end{array} \\right]_k = \\left[ \\begin{array} & 1-\\mu_{\\text{c2o}} & \\mu_{\\text{o2c}} \\\\ \\mu_{\\text{c2o}} & 1-\\mu_{\\text{o2c}} \\end{array} \\right] \\left[ \\begin{array}{c} C \\\\ O \\end{array} \\right]_k$.\n",
        "\n",
        "\n",
        "Each transition probability shown in the matrix is as follows:\n",
        "1. $1-\\mu_{\\text{c2o}}$, the probability that the closed state remains closed. \n",
        "2. $\\mu_{\\text{c2o}}$, the probability that the closed state transitions to the open state.\n",
        "3.  $\\mu_{\\text{o2c}}$, the probability that the open state transitions to the closed state. \n",
        "4. $1-\\mu_{\\text{o2c}}$, the probability that the open state remains open. \n",
        "\n",
        "</details>\n",
        "\n",
        "_Notice_ that this system is written as a discrete step in time, and $\\mathbf{A}$ describes the transition, mapping the state from step $k$ to step $k+1$. This is different from what we did in the exercises above where $\\mathbf{A}$ had described the function from the state to the time derivative of the state.\n"
      ]
    },
    {
      "cell_type": "markdown",
      "metadata": {
        "execution": {},
        "id": "2XkOcJBVwOBh"
      },
      "source": [
        "## Coding Exercise 2: Probability Propagation\n",
        "\n",
        "*Referred to in video as exercise 2B*\n",
        "\n",
        "Complete the code below to simulate the propagation of probabilities of closed/open of the ion channel through time. A variable called `x_kp1` (short for, $x$ at timestep $k$ plus 1) should be calculated per each step *k* in the loop. However, you should plot $x$."
      ]
    },
    {
      "cell_type": "code",
      "metadata": {
        "execution": {},
        "colab": {
          "base_uri": "https://localhost:8080/",
          "height": 431
        },
        "id": "O3OsRCjOwOBi",
        "outputId": "7b6d7584-ddb5-41d8-ea0f-1e83a367c093"
      },
      "source": [
        "def simulate_prob_prop(A, x0, dt, T):\n",
        "  \"\"\" Simulate the propagation of probabilities given the transition matrix A,\n",
        "  with initial state x0, for a duration of T at timestep dt.\n",
        "\n",
        "  Args:\n",
        "    A (ndarray): state transition matrix\n",
        "    x0 (ndarray): state probabilities at time 0\n",
        "    dt (scalar): timestep of the simulation\n",
        "    T (scalar): total duration of the simulation\n",
        "\n",
        "  Returns:\n",
        "    ndarray, ndarray: `x` for all simulation steps and the time `t` at each step\n",
        "  \"\"\"\n",
        "\n",
        "  # Initialize variables\n",
        "  t = np.arange(0, T, dt)\n",
        "  x = x0 # x at time t_0\n",
        "\n",
        "  # Step through the system in time\n",
        "  for k in range(len(t)-1):\n",
        "      ###################################################################\n",
        "      ## TODO: Insert your code here to compute x_kp1 (x at k plus 1)\n",
        "      ## raise NotImplementedError(\"Student exercise: need to implement simulation\")\n",
        "      ## hint: use np.dot(a, b) function to compute the dot product\n",
        "      ##       of the transition matrix A and the last state in x\n",
        "      ## hint 2: use np.vstack to append the latest state to x\n",
        "      ###################################################################\n",
        "\n",
        "      # Compute the state of x at time k+1\n",
        "      x_kp1 = np.dot(A, x[-1,:])  # can use A @ x[k-1,:] -1代表最后一行  \n",
        "\n",
        "      # Stack (append) this new state onto x to keep track of x through time steps\n",
        "      x = np.vstack((x, x_kp1))\n",
        "\n",
        "  return x, t\n",
        "\n",
        "\n",
        "# Set parameters\n",
        "T = 500     # total Time duration\n",
        "dt = 0.1   # timestep of our simulation\n",
        "\n",
        "# same parameters as above\n",
        "# c2o: closed to open rate\n",
        "# o2c: open to closed rate\n",
        "c2o = 0.02\n",
        "o2c = 0.1\n",
        "A = np.array([[1 - c2o*dt, o2c*dt],\n",
        "              [c2o*dt,     1 - o2c*dt]])\n",
        "\n",
        "# Initial condition: start as Closed\n",
        "x0 = np.array([[1, 0]])\n",
        "\n",
        "# Simulate probabilities propagation\n",
        "x, t = simulate_prob_prop(A, x0, dt, T)\n",
        "\n",
        "# Visualize\n",
        "plot_state_probabilities(t,x)"
      ],
      "execution_count": 20,
      "outputs": [
        {
          "output_type": "display_data",
          "data": {
            "image/png": "[encoded data removed]",
            "text/plain": [
              "<Figure size 576x432 with 1 Axes>"
            ]
          },
          "metadata": {
            "tags": [],
            "image/png": {
              "width": 558,
              "height": 414
            },
            "needs_background": "light"
          }
        }
      ]
    },
    {
      "cell_type": "markdown",
      "metadata": {
        "execution": {},
        "id": "Cj285Ni0wOBi"
      },
      "source": [
        "[*Click for solution*](https://github.com/NeuromatchAcademy/course-content/tree/master//tutorials/W2D2_LinearSystems/solutions/W2D2_Tutorial2_Solution_ff104934.py)\n",
        "\n",
        "*Example output:*\n",
        "\n",
        "<img alt='Solution hint' align='left' width=1116.0 height=828.0 src=https://raw.githubusercontent.com/NeuromatchAcademy/course-content/master/tutorials/W2D2_LinearSystems/static/W2D2_Tutorial2_Solution_ff104934_0.png>\n",
        "\n"
      ]
    },
    {
      "cell_type": "markdown",
      "metadata": {
        "execution": {},
        "id": "Mh3kbUq7wOBj"
      },
      "source": [
        "Here, we simulated the propagation of probabilities of the ion channel's state changing through time. Using this method is useful in that we can **run the simulation once** and see **how the probabilities propagate throughout time**, rather than re-running and empirically observing the telegraph simulation over and over again. \n",
        "\n",
        "Although the system started initially in the Closed ($x=0$) state, over time, it settles into a equilibrium distribution where we can predict what fraction of time it is Open as a function of the $\\mu$ parameters. We can say that the plot above show this _relaxation towards equilibrium_.\n",
        "\n",
        "Re-calculating our value of the probability of $c2o$ again with this method, we see that this matches the simulation output from the telegraph process! \n",
        "\n"
      ]
    },
    {
      "cell_type": "code",
      "metadata": {
        "execution": {},
        "colab": {
          "base_uri": "https://localhost:8080/"
        },
        "id": "lwXdxrVWwOBj",
        "outputId": "eb2f90a5-bd76-4597-d80f-3738dfec4e6f"
      },
      "source": [
        "print(\"Probability of state c2o: %.3f\"%(c2o / (c2o + o2c)))\n",
        "x[-1,:]"
      ],
      "execution_count": 21,
      "outputs": [
        {
          "output_type": "stream",
          "text": [
            "Probability of state c2o: 0.167\n"
          ],
          "name": "stdout"
        },
        {
          "output_type": "execute_result",
          "data": {
            "text/plain": [
              "array([0.83333333, 0.16666667])"
            ]
          },
          "metadata": {
            "tags": []
          },
          "execution_count": 21
        }
      ]
    },
    {
      "cell_type": "markdown",
      "metadata": {
        "execution": {},
        "id": "xrwsSuN8wOBj"
      },
      "source": [
        "---\n",
        "# Section 3: Equilibrium of the telegraph process\n",
        "\n",
        "*Estimated timing to here from start of tutorial: 30 min*"
      ]
    },
    {
      "cell_type": "code",
      "metadata": {
        "cellView": "form",
        "execution": {},
        "colab": {
          "base_uri": "https://localhost:8080/",
          "height": 580,
          "referenced_widgets": [
            "c5af5f5486b84e07b1afbfdb8534f162",
            "d14714b944a847059840aa7bc603991d",
            "c32ee182e6b04b60b5aeabcd270c78b4",
            "8bfe074e43684a14b6ea339b025a3aea",
            "6770b3facf6e42e5b6db49017ae9c7b5",
            "2af84e95b0e24694b618df4c14aaae50"
          ]
        },
        "id": "WNC4ZJcrwOBk",
        "outputId": "3d96ff65-a96d-4f69-8e4d-d32722732a7c"
      },
      "source": [
        "# @title Video 3: Continous vs. Discrete Time Formulation\n",
        "from ipywidgets import widgets\n",
        "\n",
        "out2 = widgets.Output()\n",
        "with out2:\n",
        "  from IPython.display import IFrame\n",
        "  class BiliVideo(IFrame):\n",
        "      def __init__(self, id, page=1, width=400, height=300, **kwargs):\n",
        "          self.id=id\n",
        "          src = 'https://player.bilibili.com/player.html?bvid={0}&page={1}'.format(id, page)\n",
        "          super(BiliVideo, self).__init__(src, width, height, **kwargs)\n",
        "\n",
        "  video = BiliVideo(id=\"BV1di4y1g7Yc\", width=854, height=480, fs=1)\n",
        "  print('Video available at https://www.bilibili.com/video/{0}'.format(video.id))\n",
        "  display(video)\n",
        "\n",
        "out1 = widgets.Output()\n",
        "with out1:\n",
        "  from IPython.display import YouTubeVideo\n",
        "  video = YouTubeVideo(id=\"csetTTauIh8\", width=854, height=480, fs=1, rel=0)\n",
        "  print('Video available at https://youtube.com/watch?v=' + video.id)\n",
        "  display(video)\n",
        "\n",
        "out = widgets.Tab([out1, out2])\n",
        "out.set_title(0, 'Youtube')\n",
        "out.set_title(1, 'Bilibili')\n",
        "\n",
        "display(out)"
      ],
      "execution_count": 22,
      "outputs": [
        {
          "output_type": "display_data",
          "data": {
            "application/vnd.jupyter.widget-view+json": {
              "model_id": "c5af5f5486b84e07b1afbfdb8534f162",
              "version_minor": 0,
              "version_major": 2
            },
            "text/plain": [
              "Tab(children=(Output(), Output()), _titles={'0': 'Youtube', '1': 'Bilibili'})"
            ]
          },
          "metadata": {
            "tags": []
          }
        }
      ]
    },
    {
      "cell_type": "markdown",
      "metadata": {
        "execution": {},
        "id": "TQBnN--UwOBk"
      },
      "source": [
        "Since we have now modeled the propagation of probabilities by the transition matrix $\\mathbf{A}$ in Section 2, let's connect the behavior of the system at equilibrium with the eigendecomposition of $\\mathbf{A}$.\n",
        "\n",
        "As introduced in the lecture video, the eigenvalues of $\\mathbf{A}$ tell us about the stability of the system, specifically in the directions of the corresponding eigenvectors."
      ]
    },
    {
      "cell_type": "code",
      "metadata": {
        "execution": {},
        "colab": {
          "base_uri": "https://localhost:8080/"
        },
        "id": "yNl_BBcYwOBk",
        "outputId": "aa73416a-2d15-4913-8fec-793c0209b5f9"
      },
      "source": [
        "# compute the eigendecomposition of A\n",
        "lam, v = np.linalg.eig(A)\n",
        "\n",
        "# print the 2 eigenvalues\n",
        "print(\"Eigenvalues:\",lam)\n",
        "\n",
        "# print the 2 eigenvectors\n",
        "eigenvector1 = v[:,0]\n",
        "eigenvector2 = v[:,1]\n",
        "print(\"Eigenvector 1:\", eigenvector1)\n",
        "print(\"Eigenvector 2:\", eigenvector2)"
      ],
      "execution_count": 23,
      "outputs": [
        {
          "output_type": "stream",
          "text": [
            "Eigenvalues: [1.    0.988]\n",
            "Eigenvector 1: [0.98058068 0.19611614]\n",
            "Eigenvector 2: [-0.70710678  0.70710678]\n"
          ],
          "name": "stdout"
        }
      ]
    },
    {
      "cell_type": "markdown",
      "metadata": {
        "execution": {},
        "id": "t06qG8lowOBl"
      },
      "source": [
        "## Think! 3: Finding a stable state\n",
        "\n",
        "1.  Which of these eigenvalues corresponds to the **stable** (equilibrium) solution? \n",
        "2.  What is the eigenvector of this eigenvalue? \n",
        "3.  How does that explain the equilibrium solutions in simulation in Section 2 of this tutorial?\n",
        "\n",
        "_hint_: our simulation is written in terms of probabilities, so they must sum to 1. Therefore, you may also want to rescale the elements of the eigenvector such that they also sum to 1. These can then be directly compared with the probabilities of the states in the simulation. "
      ]
    },
    {
      "cell_type": "markdown",
      "metadata": {
        "execution": {},
        "id": "2ixNf9LtwOBl"
      },
      "source": [
        "[*Click for solution*](https://github.com/NeuromatchAcademy/course-content/tree/master//tutorials/W2D2_LinearSystems/solutions/W2D2_Tutorial2_Solution_9a467471.py)\n",
        "\n"
      ]
    },
    {
      "cell_type": "markdown",
      "metadata": {
        "execution": {},
        "id": "nQGuKG3SwOBl"
      },
      "source": [
        "---\n",
        "# Summary\n",
        "\n",
        "*Estimated timing of tutorial: 45 minutes*\n",
        "\n",
        "\n",
        "In this tutorial, we learned:\n",
        "\n",
        "* The definition of a Markov process with history dependence.\n",
        "* The behavior of a simple 2-state Markov proces--the telegraph process--can be simulated either as a state-change simulation or as a propagation of probability distributions.\n",
        "* The relationship between the stability analysis of a dynamical system expressed either in continuous or discrete time.\n",
        "* The equilibrium behavior of a telegraph process is predictable and can be understood using the same strategy as for deterministic systems in Tutorial 1: by taking the eigendecomposition of the A matrix."
      ]
    }
  ]
}