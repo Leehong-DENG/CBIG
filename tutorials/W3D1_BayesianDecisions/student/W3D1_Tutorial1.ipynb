{
  "nbformat": 4,
  "nbformat_minor": 0,
  "metadata": {
    "colab": {
      "name": "W3D1_Tutorial1",
      "provenance": [],
      "collapsed_sections": [
        "jWmfLbhzBpfz"
      ],
      "include_colab_link": true
    },
    "interpreter": {
      "hash": "3e19903e646247cead5404f55ff575624523d45cf244c3f93aaf5fa10367032a"
    },
    "kernel": {
      "display_name": "Python 3",
      "language": "python",
      "name": "python3"
    },
    "kernelspec": {
      "display_name": "Python 3.7.10 64-bit ('nma': conda)",
      "name": "python3"
    },
    "language_info": {
      "codemirror_mode": {
        "name": "ipython",
        "version": 3
      },
      "file_extension": ".py",
      "mimetype": "text/x-python",
      "name": "python",
      "nbconvert_exporter": "python",
      "pygments_lexer": "ipython3",
      "version": "3.7.11"
    },
    "widgets": {
      "application/vnd.jupyter.widget-state+json": {
        "0b205e2530794e9c85f6f1d8473187dc": {
          "model_module": "@jupyter-widgets/controls",
          "model_name": "TabModel",
          "state": {
            "_view_name": "TabView",
            "_dom_classes": [],
            "_titles": {
              "0": "Youtube",
              "1": "Bilibili"
            },
            "_model_name": "TabModel",
            "_view_module": "@jupyter-widgets/controls",
            "selected_index": 0,
            "_model_module_version": "1.5.0",
            "_view_count": null,
            "_view_module_version": "1.5.0",
            "box_style": "",
            "layout": "IPY_MODEL_b203cc0289ed4784b45f55a52048e47d",
            "_model_module": "@jupyter-widgets/controls",
            "children": [
              "IPY_MODEL_e3b142a543874e669b87fee9b686d4a6",
              "IPY_MODEL_4dd775e579f343d480e4ea5a4c0a6018"
            ]
          }
        },
        "b203cc0289ed4784b45f55a52048e47d": {
          "model_module": "@jupyter-widgets/base",
          "model_name": "LayoutModel",
          "state": {
            "_view_name": "LayoutView",
            "grid_template_rows": null,
            "right": null,
            "justify_content": null,
            "_view_module": "@jupyter-widgets/base",
            "overflow": null,
            "_model_module_version": "1.2.0",
            "_view_count": null,
            "flex_flow": null,
            "width": null,
            "min_width": null,
            "border": null,
            "align_items": null,
            "bottom": null,
            "_model_module": "@jupyter-widgets/base",
            "top": null,
            "grid_column": null,
            "overflow_y": null,
            "overflow_x": null,
            "grid_auto_flow": null,
            "grid_area": null,
            "grid_template_columns": null,
            "flex": null,
            "_model_name": "LayoutModel",
            "justify_items": null,
            "grid_row": null,
            "max_height": null,
            "align_content": null,
            "visibility": null,
            "align_self": null,
            "height": null,
            "min_height": null,
            "padding": null,
            "grid_auto_rows": null,
            "grid_gap": null,
            "max_width": null,
            "order": null,
            "_view_module_version": "1.2.0",
            "grid_template_areas": null,
            "object_position": null,
            "object_fit": null,
            "grid_auto_columns": null,
            "margin": null,
            "display": null,
            "left": null
          }
        },
        "e3b142a543874e669b87fee9b686d4a6": {
          "model_module": "@jupyter-widgets/output",
          "model_name": "OutputModel",
          "state": {
            "_view_name": "OutputView",
            "msg_id": "",
            "_dom_classes": [],
            "_model_name": "OutputModel",
            "outputs": [
              {
                "output_type": "stream",
                "metadata": {
                  "tags": []
                },
                "text": "Video available at https://youtube.com/watch?v=Hcx2_JTpf2M\n",
                "stream": "stdout"
              },
              {
                "output_type": "display_data",
                "metadata": {
                  "tags": []
                },
                "text/html": "\n        <iframe\n            width=\"854\"\n            height=\"480\"\n            src=\"https://www.youtube.com/embed/Hcx2_JTpf2M?fs=1&rel=0\"\n            frameborder=\"0\"\n            allowfullscreen\n        ></iframe>\n        ",
                "text/plain": "<IPython.lib.display.YouTubeVideo at 0x7f477fe7f950>",
                "image/jpeg": "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\n"
              }
            ],
            "_view_module": "@jupyter-widgets/output",
            "_model_module_version": "1.0.0",
            "_view_count": null,
            "_view_module_version": "1.0.0",
            "layout": "IPY_MODEL_448a227c01554cb89a2811844eb87abc",
            "_model_module": "@jupyter-widgets/output"
          }
        },
        "4dd775e579f343d480e4ea5a4c0a6018": {
          "model_module": "@jupyter-widgets/output",
          "model_name": "OutputModel",
          "state": {
            "_view_name": "OutputView",
            "msg_id": "",
            "_dom_classes": [],
            "_model_name": "OutputModel",
            "outputs": [
              {
                "output_type": "stream",
                "metadata": {
                  "tags": []
                },
                "text": "Video available at https://www.bilibili.com/video/BV1Ch41167jN\n",
                "stream": "stdout"
              },
              {
                "output_type": "display_data",
                "metadata": {
                  "tags": []
                },
                "text/html": "\n        <iframe\n            width=\"854\"\n            height=\"480\"\n            src=\"https://player.bilibili.com/player.html?bvid=BV1Ch41167jN&page=1?fs=1\"\n            frameborder=\"0\"\n            allowfullscreen\n        ></iframe>\n        ",
                "text/plain": "<__main__.BiliVideo at 0x7f4782670b90>"
              }
            ],
            "_view_module": "@jupyter-widgets/output",
            "_model_module_version": "1.0.0",
            "_view_count": null,
            "_view_module_version": "1.0.0",
            "layout": "IPY_MODEL_73525890bda3417fb950eb28855daaf5",
            "_model_module": "@jupyter-widgets/output"
          }
        },
        "448a227c01554cb89a2811844eb87abc": {
          "model_module": "@jupyter-widgets/base",
          "model_name": "LayoutModel",
          "state": {
            "_view_name": "LayoutView",
            "grid_template_rows": null,
            "right": null,
            "justify_content": null,
            "_view_module": "@jupyter-widgets/base",
            "overflow": null,
            "_model_module_version": "1.2.0",
            "_view_count": null,
            "flex_flow": null,
            "width": null,
            "min_width": null,
            "border": null,
            "align_items": null,
            "bottom": null,
            "_model_module": "@jupyter-widgets/base",
            "top": null,
            "grid_column": null,
            "overflow_y": null,
            "overflow_x": null,
            "grid_auto_flow": null,
            "grid_area": null,
            "grid_template_columns": null,
            "flex": null,
            "_model_name": "LayoutModel",
            "justify_items": null,
            "grid_row": null,
            "max_height": null,
            "align_content": null,
            "visibility": null,
            "align_self": null,
            "height": null,
            "min_height": null,
            "padding": null,
            "grid_auto_rows": null,
            "grid_gap": null,
            "max_width": null,
            "order": null,
            "_view_module_version": "1.2.0",
            "grid_template_areas": null,
            "object_position": null,
            "object_fit": null,
            "grid_auto_columns": null,
            "margin": null,
            "display": null,
            "left": null
          }
        },
        "73525890bda3417fb950eb28855daaf5": {
          "model_module": "@jupyter-widgets/base",
          "model_name": "LayoutModel",
          "state": {
            "_view_name": "LayoutView",
            "grid_template_rows": null,
            "right": null,
            "justify_content": null,
            "_view_module": "@jupyter-widgets/base",
            "overflow": null,
            "_model_module_version": "1.2.0",
            "_view_count": null,
            "flex_flow": null,
            "width": null,
            "min_width": null,
            "border": null,
            "align_items": null,
            "bottom": null,
            "_model_module": "@jupyter-widgets/base",
            "top": null,
            "grid_column": null,
            "overflow_y": null,
            "overflow_x": null,
            "grid_auto_flow": null,
            "grid_area": null,
            "grid_template_columns": null,
            "flex": null,
            "_model_name": "LayoutModel",
            "justify_items": null,
            "grid_row": null,
            "max_height": null,
            "align_content": null,
            "visibility": null,
            "align_self": null,
            "height": null,
            "min_height": null,
            "padding": null,
            "grid_auto_rows": null,
            "grid_gap": null,
            "max_width": null,
            "order": null,
            "_view_module_version": "1.2.0",
            "grid_template_areas": null,
            "object_position": null,
            "object_fit": null,
            "grid_auto_columns": null,
            "margin": null,
            "display": null,
            "left": null
          }
        },
        "39e5e4bc8fb549dd8804ea906526f562": {
          "model_module": "@jupyter-widgets/controls",
          "model_name": "TabModel",
          "state": {
            "_view_name": "TabView",
            "_dom_classes": [],
            "_titles": {
              "0": "Youtube",
              "1": "Bilibili"
            },
            "_model_name": "TabModel",
            "_view_module": "@jupyter-widgets/controls",
            "selected_index": 0,
            "_model_module_version": "1.5.0",
            "_view_count": null,
            "_view_module_version": "1.5.0",
            "box_style": "",
            "layout": "IPY_MODEL_01cc9a19354e401a867d135a37e7f294",
            "_model_module": "@jupyter-widgets/controls",
            "children": [
              "IPY_MODEL_0712d538a1324186a65658f00f507bdb",
              "IPY_MODEL_a2d83b18e37a4eb89636187889e446d7"
            ]
          }
        },
        "01cc9a19354e401a867d135a37e7f294": {
          "model_module": "@jupyter-widgets/base",
          "model_name": "LayoutModel",
          "state": {
            "_view_name": "LayoutView",
            "grid_template_rows": null,
            "right": null,
            "justify_content": null,
            "_view_module": "@jupyter-widgets/base",
            "overflow": null,
            "_model_module_version": "1.2.0",
            "_view_count": null,
            "flex_flow": null,
            "width": null,
            "min_width": null,
            "border": null,
            "align_items": null,
            "bottom": null,
            "_model_module": "@jupyter-widgets/base",
            "top": null,
            "grid_column": null,
            "overflow_y": null,
            "overflow_x": null,
            "grid_auto_flow": null,
            "grid_area": null,
            "grid_template_columns": null,
            "flex": null,
            "_model_name": "LayoutModel",
            "justify_items": null,
            "grid_row": null,
            "max_height": null,
            "align_content": null,
            "visibility": null,
            "align_self": null,
            "height": null,
            "min_height": null,
            "padding": null,
            "grid_auto_rows": null,
            "grid_gap": null,
            "max_width": null,
            "order": null,
            "_view_module_version": "1.2.0",
            "grid_template_areas": null,
            "object_position": null,
            "object_fit": null,
            "grid_auto_columns": null,
            "margin": null,
            "display": null,
            "left": null
          }
        },
        "0712d538a1324186a65658f00f507bdb": {
          "model_module": "@jupyter-widgets/output",
          "model_name": "OutputModel",
          "state": {
            "_view_name": "OutputView",
            "msg_id": "",
            "_dom_classes": [],
            "_model_name": "OutputModel",
            "outputs": [
              {
                "output_type": "stream",
                "metadata": {
                  "tags": []
                },
                "text": "Video available at https://youtube.com/watch?v=kAdBjWOI_yE\n",
                "stream": "stdout"
              },
              {
                "output_type": "display_data",
                "metadata": {
                  "tags": []
                },
                "text/html": "\n        <iframe\n            width=\"854\"\n            height=\"480\"\n            src=\"https://www.youtube.com/embed/kAdBjWOI_yE?fs=1&rel=0\"\n            frameborder=\"0\"\n            allowfullscreen\n        ></iframe>\n        ",
                "text/plain": "<IPython.lib.display.YouTubeVideo at 0x7f477fe7f950>",
                "image/jpeg": "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\n"
              }
            ],
            "_view_module": "@jupyter-widgets/output",
            "_model_module_version": "1.0.0",
            "_view_count": null,
            "_view_module_version": "1.0.0",
            "layout": "IPY_MODEL_23c46bba18ac4bcfa01fc783b48ab2e4",
            "_model_module": "@jupyter-widgets/output"
          }
        },
        "a2d83b18e37a4eb89636187889e446d7": {
          "model_module": "@jupyter-widgets/output",
          "model_name": "OutputModel",
          "state": {
            "_view_name": "OutputView",
            "msg_id": "",
            "_dom_classes": [],
            "_model_name": "OutputModel",
            "outputs": [
              {
                "output_type": "stream",
                "metadata": {
                  "tags": []
                },
                "text": "Video available at https://www.bilibili.com/video/BV1TP4y147pJ\n",
                "stream": "stdout"
              },
              {
                "output_type": "display_data",
                "metadata": {
                  "tags": []
                },
                "text/html": "\n        <iframe\n            width=\"854\"\n            height=\"480\"\n            src=\"https://player.bilibili.com/player.html?bvid=BV1TP4y147pJ&page=1?fs=1\"\n            frameborder=\"0\"\n            allowfullscreen\n        ></iframe>\n        ",
                "text/plain": "<__main__.BiliVideo at 0x7f4770bafe10>"
              }
            ],
            "_view_module": "@jupyter-widgets/output",
            "_model_module_version": "1.0.0",
            "_view_count": null,
            "_view_module_version": "1.0.0",
            "layout": "IPY_MODEL_8a3d9714d00540c7b5676bef41baaa3b",
            "_model_module": "@jupyter-widgets/output"
          }
        },
        "23c46bba18ac4bcfa01fc783b48ab2e4": {
          "model_module": "@jupyter-widgets/base",
          "model_name": "LayoutModel",
          "state": {
            "_view_name": "LayoutView",
            "grid_template_rows": null,
            "right": null,
            "justify_content": null,
            "_view_module": "@jupyter-widgets/base",
            "overflow": null,
            "_model_module_version": "1.2.0",
            "_view_count": null,
            "flex_flow": null,
            "width": null,
            "min_width": null,
            "border": null,
            "align_items": null,
            "bottom": null,
            "_model_module": "@jupyter-widgets/base",
            "top": null,
            "grid_column": null,
            "overflow_y": null,
            "overflow_x": null,
            "grid_auto_flow": null,
            "grid_area": null,
            "grid_template_columns": null,
            "flex": null,
            "_model_name": "LayoutModel",
            "justify_items": null,
            "grid_row": null,
            "max_height": null,
            "align_content": null,
            "visibility": null,
            "align_self": null,
            "height": null,
            "min_height": null,
            "padding": null,
            "grid_auto_rows": null,
            "grid_gap": null,
            "max_width": null,
            "order": null,
            "_view_module_version": "1.2.0",
            "grid_template_areas": null,
            "object_position": null,
            "object_fit": null,
            "grid_auto_columns": null,
            "margin": null,
            "display": null,
            "left": null
          }
        },
        "8a3d9714d00540c7b5676bef41baaa3b": {
          "model_module": "@jupyter-widgets/base",
          "model_name": "LayoutModel",
          "state": {
            "_view_name": "LayoutView",
            "grid_template_rows": null,
            "right": null,
            "justify_content": null,
            "_view_module": "@jupyter-widgets/base",
            "overflow": null,
            "_model_module_version": "1.2.0",
            "_view_count": null,
            "flex_flow": null,
            "width": null,
            "min_width": null,
            "border": null,
            "align_items": null,
            "bottom": null,
            "_model_module": "@jupyter-widgets/base",
            "top": null,
            "grid_column": null,
            "overflow_y": null,
            "overflow_x": null,
            "grid_auto_flow": null,
            "grid_area": null,
            "grid_template_columns": null,
            "flex": null,
            "_model_name": "LayoutModel",
            "justify_items": null,
            "grid_row": null,
            "max_height": null,
            "align_content": null,
            "visibility": null,
            "align_self": null,
            "height": null,
            "min_height": null,
            "padding": null,
            "grid_auto_rows": null,
            "grid_gap": null,
            "max_width": null,
            "order": null,
            "_view_module_version": "1.2.0",
            "grid_template_areas": null,
            "object_position": null,
            "object_fit": null,
            "grid_auto_columns": null,
            "margin": null,
            "display": null,
            "left": null
          }
        },
        "cbb5567b35d5405b92d371352121c0b8": {
          "model_module": "@jupyter-widgets/controls",
          "model_name": "TabModel",
          "state": {
            "_view_name": "TabView",
            "_dom_classes": [],
            "_titles": {
              "0": "Youtube",
              "1": "Bilibili"
            },
            "_model_name": "TabModel",
            "_view_module": "@jupyter-widgets/controls",
            "selected_index": 0,
            "_model_module_version": "1.5.0",
            "_view_count": null,
            "_view_module_version": "1.5.0",
            "box_style": "",
            "layout": "IPY_MODEL_037bc6493ea14fa89958228bfd0e79a7",
            "_model_module": "@jupyter-widgets/controls",
            "children": [
              "IPY_MODEL_36ce2f57932c42a9b66137a53b1b38e8",
              "IPY_MODEL_1e4f86092c60426d8ce9f39a0078ea76"
            ]
          }
        },
        "037bc6493ea14fa89958228bfd0e79a7": {
          "model_module": "@jupyter-widgets/base",
          "model_name": "LayoutModel",
          "state": {
            "_view_name": "LayoutView",
            "grid_template_rows": null,
            "right": null,
            "justify_content": null,
            "_view_module": "@jupyter-widgets/base",
            "overflow": null,
            "_model_module_version": "1.2.0",
            "_view_count": null,
            "flex_flow": null,
            "width": null,
            "min_width": null,
            "border": null,
            "align_items": null,
            "bottom": null,
            "_model_module": "@jupyter-widgets/base",
            "top": null,
            "grid_column": null,
            "overflow_y": null,
            "overflow_x": null,
            "grid_auto_flow": null,
            "grid_area": null,
            "grid_template_columns": null,
            "flex": null,
            "_model_name": "LayoutModel",
            "justify_items": null,
            "grid_row": null,
            "max_height": null,
            "align_content": null,
            "visibility": null,
            "align_self": null,
            "height": null,
            "min_height": null,
            "padding": null,
            "grid_auto_rows": null,
            "grid_gap": null,
            "max_width": null,
            "order": null,
            "_view_module_version": "1.2.0",
            "grid_template_areas": null,
            "object_position": null,
            "object_fit": null,
            "grid_auto_columns": null,
            "margin": null,
            "display": null,
            "left": null
          }
        },
        "36ce2f57932c42a9b66137a53b1b38e8": {
          "model_module": "@jupyter-widgets/output",
          "model_name": "OutputModel",
          "state": {
            "_view_name": "OutputView",
            "msg_id": "",
            "_dom_classes": [],
            "_model_name": "OutputModel",
            "outputs": [
              {
                "output_type": "stream",
                "metadata": {
                  "tags": []
                },
                "text": "Video available at https://youtube.com/watch?v=8-5RM0k3IKE\n",
                "stream": "stdout"
              },
              {
                "output_type": "display_data",
                "metadata": {
                  "tags": []
                },
                "text/html": "\n        <iframe\n            width=\"854\"\n            height=\"480\"\n            src=\"https://www.youtube.com/embed/8-5RM0k3IKE?fs=1&rel=0\"\n            frameborder=\"0\"\n            allowfullscreen\n        ></iframe>\n        ",
                "text/plain": "<IPython.lib.display.YouTubeVideo at 0x7f477c381d10>",
                "image/jpeg": "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\n"
              }
            ],
            "_view_module": "@jupyter-widgets/output",
            "_model_module_version": "1.0.0",
            "_view_count": null,
            "_view_module_version": "1.0.0",
            "layout": "IPY_MODEL_f96abdf2b21b492d988fd3af91e77c2e",
            "_model_module": "@jupyter-widgets/output"
          }
        },
        "1e4f86092c60426d8ce9f39a0078ea76": {
          "model_module": "@jupyter-widgets/output",
          "model_name": "OutputModel",
          "state": {
            "_view_name": "OutputView",
            "msg_id": "",
            "_dom_classes": [],
            "_model_name": "OutputModel",
            "outputs": [
              {
                "output_type": "stream",
                "metadata": {
                  "tags": []
                },
                "text": "Video available at https://www.bilibili.com/video/BV1uL411H7ZE\n",
                "stream": "stdout"
              },
              {
                "output_type": "display_data",
                "metadata": {
                  "tags": []
                },
                "text/html": "\n        <iframe\n            width=\"854\"\n            height=\"480\"\n            src=\"https://player.bilibili.com/player.html?bvid=BV1uL411H7ZE&page=1?fs=1\"\n            frameborder=\"0\"\n            allowfullscreen\n        ></iframe>\n        ",
                "text/plain": "<__main__.BiliVideo at 0x7f4770bb4e50>"
              }
            ],
            "_view_module": "@jupyter-widgets/output",
            "_model_module_version": "1.0.0",
            "_view_count": null,
            "_view_module_version": "1.0.0",
            "layout": "IPY_MODEL_264817c8169643f3b27c29cdc5a85724",
            "_model_module": "@jupyter-widgets/output"
          }
        },
        "f96abdf2b21b492d988fd3af91e77c2e": {
          "model_module": "@jupyter-widgets/base",
          "model_name": "LayoutModel",
          "state": {
            "_view_name": "LayoutView",
            "grid_template_rows": null,
            "right": null,
            "justify_content": null,
            "_view_module": "@jupyter-widgets/base",
            "overflow": null,
            "_model_module_version": "1.2.0",
            "_view_count": null,
            "flex_flow": null,
            "width": null,
            "min_width": null,
            "border": null,
            "align_items": null,
            "bottom": null,
            "_model_module": "@jupyter-widgets/base",
            "top": null,
            "grid_column": null,
            "overflow_y": null,
            "overflow_x": null,
            "grid_auto_flow": null,
            "grid_area": null,
            "grid_template_columns": null,
            "flex": null,
            "_model_name": "LayoutModel",
            "justify_items": null,
            "grid_row": null,
            "max_height": null,
            "align_content": null,
            "visibility": null,
            "align_self": null,
            "height": null,
            "min_height": null,
            "padding": null,
            "grid_auto_rows": null,
            "grid_gap": null,
            "max_width": null,
            "order": null,
            "_view_module_version": "1.2.0",
            "grid_template_areas": null,
            "object_position": null,
            "object_fit": null,
            "grid_auto_columns": null,
            "margin": null,
            "display": null,
            "left": null
          }
        },
        "264817c8169643f3b27c29cdc5a85724": {
          "model_module": "@jupyter-widgets/base",
          "model_name": "LayoutModel",
          "state": {
            "_view_name": "LayoutView",
            "grid_template_rows": null,
            "right": null,
            "justify_content": null,
            "_view_module": "@jupyter-widgets/base",
            "overflow": null,
            "_model_module_version": "1.2.0",
            "_view_count": null,
            "flex_flow": null,
            "width": null,
            "min_width": null,
            "border": null,
            "align_items": null,
            "bottom": null,
            "_model_module": "@jupyter-widgets/base",
            "top": null,
            "grid_column": null,
            "overflow_y": null,
            "overflow_x": null,
            "grid_auto_flow": null,
            "grid_area": null,
            "grid_template_columns": null,
            "flex": null,
            "_model_name": "LayoutModel",
            "justify_items": null,
            "grid_row": null,
            "max_height": null,
            "align_content": null,
            "visibility": null,
            "align_self": null,
            "height": null,
            "min_height": null,
            "padding": null,
            "grid_auto_rows": null,
            "grid_gap": null,
            "max_width": null,
            "order": null,
            "_view_module_version": "1.2.0",
            "grid_template_areas": null,
            "object_position": null,
            "object_fit": null,
            "grid_auto_columns": null,
            "margin": null,
            "display": null,
            "left": null
          }
        },
        "42a7d6f65ba247149d13ad0206997b19": {
          "model_module": "@jupyter-widgets/controls",
          "model_name": "VBoxModel",
          "state": {
            "_view_name": "VBoxView",
            "_dom_classes": [
              "widget-interact"
            ],
            "_model_name": "VBoxModel",
            "_view_module": "@jupyter-widgets/controls",
            "_model_module_version": "1.5.0",
            "_view_count": null,
            "_view_module_version": "1.5.0",
            "box_style": "",
            "layout": "IPY_MODEL_e5a24e2ddc794581b96315f4e26c291d",
            "_model_module": "@jupyter-widgets/controls",
            "children": [
              "IPY_MODEL_09ab3a1fadf34d68acaebf09f1e8c61e",
              "IPY_MODEL_92e5fed908ad42859f86f03571b0a5c0"
            ]
          }
        },
        "e5a24e2ddc794581b96315f4e26c291d": {
          "model_module": "@jupyter-widgets/base",
          "model_name": "LayoutModel",
          "state": {
            "_view_name": "LayoutView",
            "grid_template_rows": null,
            "right": null,
            "justify_content": null,
            "_view_module": "@jupyter-widgets/base",
            "overflow": null,
            "_model_module_version": "1.2.0",
            "_view_count": null,
            "flex_flow": null,
            "width": null,
            "min_width": null,
            "border": null,
            "align_items": null,
            "bottom": null,
            "_model_module": "@jupyter-widgets/base",
            "top": null,
            "grid_column": null,
            "overflow_y": null,
            "overflow_x": null,
            "grid_auto_flow": null,
            "grid_area": null,
            "grid_template_columns": null,
            "flex": null,
            "_model_name": "LayoutModel",
            "justify_items": null,
            "grid_row": null,
            "max_height": null,
            "align_content": null,
            "visibility": null,
            "align_self": null,
            "height": null,
            "min_height": null,
            "padding": null,
            "grid_auto_rows": null,
            "grid_gap": null,
            "max_width": null,
            "order": null,
            "_view_module_version": "1.2.0",
            "grid_template_areas": null,
            "object_position": null,
            "object_fit": null,
            "grid_auto_columns": null,
            "margin": null,
            "display": null,
            "left": null
          }
        },
        "09ab3a1fadf34d68acaebf09f1e8c61e": {
          "model_module": "@jupyter-widgets/controls",
          "model_name": "FloatSliderModel",
          "state": {
            "_view_name": "FloatSliderView",
            "style": "IPY_MODEL_a7ce880529af4fd487efea595f7c716f",
            "_dom_classes": [],
            "description": "p(s = left)",
            "step": 0.01,
            "_model_name": "FloatSliderModel",
            "orientation": "horizontal",
            "max": 1,
            "_view_module": "@jupyter-widgets/controls",
            "_model_module_version": "1.5.0",
            "value": 0.38,
            "_view_count": null,
            "disabled": false,
            "_view_module_version": "1.5.0",
            "min": 0,
            "continuous_update": true,
            "readout_format": ".2f",
            "description_tooltip": null,
            "readout": true,
            "_model_module": "@jupyter-widgets/controls",
            "layout": "IPY_MODEL_e874f9c48a6c4cf882f94eb72776d7f9"
          }
        },
        "92e5fed908ad42859f86f03571b0a5c0": {
          "model_module": "@jupyter-widgets/output",
          "model_name": "OutputModel",
          "state": {
            "_view_name": "OutputView",
            "msg_id": "",
            "_dom_classes": [],
            "_model_name": "OutputModel",
            "outputs": [
              {
                "output_type": "display_data",
                "metadata": {
                  "tags": [],
                  "image/png": {
                    "width": 674,
                    "height": 277
                  },
                  "needs_background": "light"
                },
                "image/png": "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\n",
                "text/plain": "<Figure size 1224x216 with 3 Axes>"
              }
            ],
            "_view_module": "@jupyter-widgets/output",
            "_model_module_version": "1.0.0",
            "_view_count": null,
            "_view_module_version": "1.0.0",
            "layout": "IPY_MODEL_3395bd7e08544b749a549ca7a1529cf1",
            "_model_module": "@jupyter-widgets/output"
          }
        },
        "a7ce880529af4fd487efea595f7c716f": {
          "model_module": "@jupyter-widgets/controls",
          "model_name": "SliderStyleModel",
          "state": {
            "_view_name": "StyleView",
            "handle_color": null,
            "_model_name": "SliderStyleModel",
            "description_width": "",
            "_view_module": "@jupyter-widgets/base",
            "_model_module_version": "1.5.0",
            "_view_count": null,
            "_view_module_version": "1.2.0",
            "_model_module": "@jupyter-widgets/controls"
          }
        },
        "e874f9c48a6c4cf882f94eb72776d7f9": {
          "model_module": "@jupyter-widgets/base",
          "model_name": "LayoutModel",
          "state": {
            "_view_name": "LayoutView",
            "grid_template_rows": null,
            "right": null,
            "justify_content": null,
            "_view_module": "@jupyter-widgets/base",
            "overflow": null,
            "_model_module_version": "1.2.0",
            "_view_count": null,
            "flex_flow": null,
            "width": null,
            "min_width": null,
            "border": null,
            "align_items": null,
            "bottom": null,
            "_model_module": "@jupyter-widgets/base",
            "top": null,
            "grid_column": null,
            "overflow_y": null,
            "overflow_x": null,
            "grid_auto_flow": null,
            "grid_area": null,
            "grid_template_columns": null,
            "flex": null,
            "_model_name": "LayoutModel",
            "justify_items": null,
            "grid_row": null,
            "max_height": null,
            "align_content": null,
            "visibility": null,
            "align_self": null,
            "height": null,
            "min_height": null,
            "padding": null,
            "grid_auto_rows": null,
            "grid_gap": null,
            "max_width": null,
            "order": null,
            "_view_module_version": "1.2.0",
            "grid_template_areas": null,
            "object_position": null,
            "object_fit": null,
            "grid_auto_columns": null,
            "margin": null,
            "display": null,
            "left": null
          }
        },
        "3395bd7e08544b749a549ca7a1529cf1": {
          "model_module": "@jupyter-widgets/base",
          "model_name": "LayoutModel",
          "state": {
            "_view_name": "LayoutView",
            "grid_template_rows": null,
            "right": null,
            "justify_content": null,
            "_view_module": "@jupyter-widgets/base",
            "overflow": null,
            "_model_module_version": "1.2.0",
            "_view_count": null,
            "flex_flow": null,
            "width": null,
            "min_width": null,
            "border": null,
            "align_items": null,
            "bottom": null,
            "_model_module": "@jupyter-widgets/base",
            "top": null,
            "grid_column": null,
            "overflow_y": null,
            "overflow_x": null,
            "grid_auto_flow": null,
            "grid_area": null,
            "grid_template_columns": null,
            "flex": null,
            "_model_name": "LayoutModel",
            "justify_items": null,
            "grid_row": null,
            "max_height": null,
            "align_content": null,
            "visibility": null,
            "align_self": null,
            "height": null,
            "min_height": null,
            "padding": null,
            "grid_auto_rows": null,
            "grid_gap": null,
            "max_width": null,
            "order": null,
            "_view_module_version": "1.2.0",
            "grid_template_areas": null,
            "object_position": null,
            "object_fit": null,
            "grid_auto_columns": null,
            "margin": null,
            "display": null,
            "left": null
          }
        },
        "bb2a7611bff24b8aa5e2918d030d1304": {
          "model_module": "@jupyter-widgets/controls",
          "model_name": "TabModel",
          "state": {
            "_view_name": "TabView",
            "_dom_classes": [],
            "_titles": {
              "0": "Youtube",
              "1": "Bilibili"
            },
            "_model_name": "TabModel",
            "_view_module": "@jupyter-widgets/controls",
            "selected_index": 0,
            "_model_module_version": "1.5.0",
            "_view_count": null,
            "_view_module_version": "1.5.0",
            "box_style": "",
            "layout": "IPY_MODEL_e081a06761194d42834b917b1b98e0db",
            "_model_module": "@jupyter-widgets/controls",
            "children": [
              "IPY_MODEL_d8768b1b834d4953b5160ae2536be15a",
              "IPY_MODEL_59fa02d48c73497da12026f8811a0a80"
            ]
          }
        },
        "e081a06761194d42834b917b1b98e0db": {
          "model_module": "@jupyter-widgets/base",
          "model_name": "LayoutModel",
          "state": {
            "_view_name": "LayoutView",
            "grid_template_rows": null,
            "right": null,
            "justify_content": null,
            "_view_module": "@jupyter-widgets/base",
            "overflow": null,
            "_model_module_version": "1.2.0",
            "_view_count": null,
            "flex_flow": null,
            "width": null,
            "min_width": null,
            "border": null,
            "align_items": null,
            "bottom": null,
            "_model_module": "@jupyter-widgets/base",
            "top": null,
            "grid_column": null,
            "overflow_y": null,
            "overflow_x": null,
            "grid_auto_flow": null,
            "grid_area": null,
            "grid_template_columns": null,
            "flex": null,
            "_model_name": "LayoutModel",
            "justify_items": null,
            "grid_row": null,
            "max_height": null,
            "align_content": null,
            "visibility": null,
            "align_self": null,
            "height": null,
            "min_height": null,
            "padding": null,
            "grid_auto_rows": null,
            "grid_gap": null,
            "max_width": null,
            "order": null,
            "_view_module_version": "1.2.0",
            "grid_template_areas": null,
            "object_position": null,
            "object_fit": null,
            "grid_auto_columns": null,
            "margin": null,
            "display": null,
            "left": null
          }
        },
        "d8768b1b834d4953b5160ae2536be15a": {
          "model_module": "@jupyter-widgets/output",
          "model_name": "OutputModel",
          "state": {
            "_view_name": "OutputView",
            "msg_id": "",
            "_dom_classes": [],
            "_model_name": "OutputModel",
            "outputs": [
              {
                "output_type": "stream",
                "metadata": {
                  "tags": []
                },
                "text": "Video available at https://youtube.com/watch?v=GHQbmsEyQjE\n",
                "stream": "stdout"
              },
              {
                "output_type": "display_data",
                "metadata": {
                  "tags": []
                },
                "text/html": "\n        <iframe\n            width=\"854\"\n            height=\"480\"\n            src=\"https://www.youtube.com/embed/GHQbmsEyQjE?fs=1&rel=0\"\n            frameborder=\"0\"\n            allowfullscreen\n        ></iframe>\n        ",
                "text/plain": "<IPython.lib.display.YouTubeVideo at 0x7f477c381d10>",
                "image/jpeg": "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\n"
              }
            ],
            "_view_module": "@jupyter-widgets/output",
            "_model_module_version": "1.0.0",
            "_view_count": null,
            "_view_module_version": "1.0.0",
            "layout": "IPY_MODEL_bfbe93c6570843bd87913c8ce2020955",
            "_model_module": "@jupyter-widgets/output"
          }
        },
        "59fa02d48c73497da12026f8811a0a80": {
          "model_module": "@jupyter-widgets/output",
          "model_name": "OutputModel",
          "state": {
            "_view_name": "OutputView",
            "msg_id": "",
            "_dom_classes": [],
            "_model_name": "OutputModel",
            "outputs": [
              {
                "output_type": "stream",
                "metadata": {
                  "tags": []
                },
                "text": "Video available at https://www.bilibili.com/video/BV1po4y1D7Fu\n",
                "stream": "stdout"
              },
              {
                "output_type": "display_data",
                "metadata": {
                  "tags": []
                },
                "text/html": "\n        <iframe\n            width=\"854\"\n            height=\"480\"\n            src=\"https://player.bilibili.com/player.html?bvid=BV1po4y1D7Fu&page=1?fs=1\"\n            frameborder=\"0\"\n            allowfullscreen\n        ></iframe>\n        ",
                "text/plain": "<__main__.BiliVideo at 0x7f4770afaa50>"
              }
            ],
            "_view_module": "@jupyter-widgets/output",
            "_model_module_version": "1.0.0",
            "_view_count": null,
            "_view_module_version": "1.0.0",
            "layout": "IPY_MODEL_8f64ae8d4a54426ba9b3fe2723c4faa0",
            "_model_module": "@jupyter-widgets/output"
          }
        },
        "bfbe93c6570843bd87913c8ce2020955": {
          "model_module": "@jupyter-widgets/base",
          "model_name": "LayoutModel",
          "state": {
            "_view_name": "LayoutView",
            "grid_template_rows": null,
            "right": null,
            "justify_content": null,
            "_view_module": "@jupyter-widgets/base",
            "overflow": null,
            "_model_module_version": "1.2.0",
            "_view_count": null,
            "flex_flow": null,
            "width": null,
            "min_width": null,
            "border": null,
            "align_items": null,
            "bottom": null,
            "_model_module": "@jupyter-widgets/base",
            "top": null,
            "grid_column": null,
            "overflow_y": null,
            "overflow_x": null,
            "grid_auto_flow": null,
            "grid_area": null,
            "grid_template_columns": null,
            "flex": null,
            "_model_name": "LayoutModel",
            "justify_items": null,
            "grid_row": null,
            "max_height": null,
            "align_content": null,
            "visibility": null,
            "align_self": null,
            "height": null,
            "min_height": null,
            "padding": null,
            "grid_auto_rows": null,
            "grid_gap": null,
            "max_width": null,
            "order": null,
            "_view_module_version": "1.2.0",
            "grid_template_areas": null,
            "object_position": null,
            "object_fit": null,
            "grid_auto_columns": null,
            "margin": null,
            "display": null,
            "left": null
          }
        },
        "8f64ae8d4a54426ba9b3fe2723c4faa0": {
          "model_module": "@jupyter-widgets/base",
          "model_name": "LayoutModel",
          "state": {
            "_view_name": "LayoutView",
            "grid_template_rows": null,
            "right": null,
            "justify_content": null,
            "_view_module": "@jupyter-widgets/base",
            "overflow": null,
            "_model_module_version": "1.2.0",
            "_view_count": null,
            "flex_flow": null,
            "width": null,
            "min_width": null,
            "border": null,
            "align_items": null,
            "bottom": null,
            "_model_module": "@jupyter-widgets/base",
            "top": null,
            "grid_column": null,
            "overflow_y": null,
            "overflow_x": null,
            "grid_auto_flow": null,
            "grid_area": null,
            "grid_template_columns": null,
            "flex": null,
            "_model_name": "LayoutModel",
            "justify_items": null,
            "grid_row": null,
            "max_height": null,
            "align_content": null,
            "visibility": null,
            "align_self": null,
            "height": null,
            "min_height": null,
            "padding": null,
            "grid_auto_rows": null,
            "grid_gap": null,
            "max_width": null,
            "order": null,
            "_view_module_version": "1.2.0",
            "grid_template_areas": null,
            "object_position": null,
            "object_fit": null,
            "grid_auto_columns": null,
            "margin": null,
            "display": null,
            "left": null
          }
        },
        "36be1ad930104fa39687d0baf993e5b8": {
          "model_module": "@jupyter-widgets/controls",
          "model_name": "TabModel",
          "state": {
            "_view_name": "TabView",
            "_dom_classes": [],
            "_titles": {
              "0": "Youtube",
              "1": "Bilibili"
            },
            "_model_name": "TabModel",
            "_view_module": "@jupyter-widgets/controls",
            "selected_index": 0,
            "_model_module_version": "1.5.0",
            "_view_count": null,
            "_view_module_version": "1.5.0",
            "box_style": "",
            "layout": "IPY_MODEL_848a7ca8d52e4c17bfb794093d1951d7",
            "_model_module": "@jupyter-widgets/controls",
            "children": [
              "IPY_MODEL_d7f4f658abf94eea88b337cdde3e6ffd",
              "IPY_MODEL_24948c4fd8e340f18a83b16dbe8b0453"
            ]
          }
        },
        "848a7ca8d52e4c17bfb794093d1951d7": {
          "model_module": "@jupyter-widgets/base",
          "model_name": "LayoutModel",
          "state": {
            "_view_name": "LayoutView",
            "grid_template_rows": null,
            "right": null,
            "justify_content": null,
            "_view_module": "@jupyter-widgets/base",
            "overflow": null,
            "_model_module_version": "1.2.0",
            "_view_count": null,
            "flex_flow": null,
            "width": null,
            "min_width": null,
            "border": null,
            "align_items": null,
            "bottom": null,
            "_model_module": "@jupyter-widgets/base",
            "top": null,
            "grid_column": null,
            "overflow_y": null,
            "overflow_x": null,
            "grid_auto_flow": null,
            "grid_area": null,
            "grid_template_columns": null,
            "flex": null,
            "_model_name": "LayoutModel",
            "justify_items": null,
            "grid_row": null,
            "max_height": null,
            "align_content": null,
            "visibility": null,
            "align_self": null,
            "height": null,
            "min_height": null,
            "padding": null,
            "grid_auto_rows": null,
            "grid_gap": null,
            "max_width": null,
            "order": null,
            "_view_module_version": "1.2.0",
            "grid_template_areas": null,
            "object_position": null,
            "object_fit": null,
            "grid_auto_columns": null,
            "margin": null,
            "display": null,
            "left": null
          }
        },
        "d7f4f658abf94eea88b337cdde3e6ffd": {
          "model_module": "@jupyter-widgets/output",
          "model_name": "OutputModel",
          "state": {
            "_view_name": "OutputView",
            "msg_id": "",
            "_dom_classes": [],
            "_model_name": "OutputModel",
            "outputs": [
              {
                "output_type": "stream",
                "metadata": {
                  "tags": []
                },
                "text": "Video available at https://youtube.com/watch?v=Yv8MDjdm1l4\n",
                "stream": "stdout"
              },
              {
                "output_type": "display_data",
                "metadata": {
                  "tags": []
                },
                "text/html": "\n        <iframe\n            width=\"854\"\n            height=\"480\"\n            src=\"https://www.youtube.com/embed/Yv8MDjdm1l4?fs=1&rel=0\"\n            frameborder=\"0\"\n            allowfullscreen\n        ></iframe>\n        ",
                "text/plain": "<IPython.lib.display.YouTubeVideo at 0x7f477c381d10>",
                "image/jpeg": "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\n"
              }
            ],
            "_view_module": "@jupyter-widgets/output",
            "_model_module_version": "1.0.0",
            "_view_count": null,
            "_view_module_version": "1.0.0",
            "layout": "IPY_MODEL_07b68d72a98e40ffa0831d7c77c3aa1b",
            "_model_module": "@jupyter-widgets/output"
          }
        },
        "24948c4fd8e340f18a83b16dbe8b0453": {
          "model_module": "@jupyter-widgets/output",
          "model_name": "OutputModel",
          "state": {
            "_view_name": "OutputView",
            "msg_id": "",
            "_dom_classes": [],
            "_model_name": "OutputModel",
            "outputs": [
              {
                "output_type": "stream",
                "metadata": {
                  "tags": []
                },
                "text": "Video available at https://www.bilibili.com/video/BV1EK4y1u7AV\n",
                "stream": "stdout"
              },
              {
                "output_type": "display_data",
                "metadata": {
                  "tags": []
                },
                "text/html": "\n        <iframe\n            width=\"854\"\n            height=\"480\"\n            src=\"https://player.bilibili.com/player.html?bvid=BV1EK4y1u7AV&page=1?fs=1\"\n            frameborder=\"0\"\n            allowfullscreen\n        ></iframe>\n        ",
                "text/plain": "<__main__.BiliVideo at 0x7f47705c6850>"
              }
            ],
            "_view_module": "@jupyter-widgets/output",
            "_model_module_version": "1.0.0",
            "_view_count": null,
            "_view_module_version": "1.0.0",
            "layout": "IPY_MODEL_8ee3c5dab6ff47d68eb04da92b826008",
            "_model_module": "@jupyter-widgets/output"
          }
        },
        "07b68d72a98e40ffa0831d7c77c3aa1b": {
          "model_module": "@jupyter-widgets/base",
          "model_name": "LayoutModel",
          "state": {
            "_view_name": "LayoutView",
            "grid_template_rows": null,
            "right": null,
            "justify_content": null,
            "_view_module": "@jupyter-widgets/base",
            "overflow": null,
            "_model_module_version": "1.2.0",
            "_view_count": null,
            "flex_flow": null,
            "width": null,
            "min_width": null,
            "border": null,
            "align_items": null,
            "bottom": null,
            "_model_module": "@jupyter-widgets/base",
            "top": null,
            "grid_column": null,
            "overflow_y": null,
            "overflow_x": null,
            "grid_auto_flow": null,
            "grid_area": null,
            "grid_template_columns": null,
            "flex": null,
            "_model_name": "LayoutModel",
            "justify_items": null,
            "grid_row": null,
            "max_height": null,
            "align_content": null,
            "visibility": null,
            "align_self": null,
            "height": null,
            "min_height": null,
            "padding": null,
            "grid_auto_rows": null,
            "grid_gap": null,
            "max_width": null,
            "order": null,
            "_view_module_version": "1.2.0",
            "grid_template_areas": null,
            "object_position": null,
            "object_fit": null,
            "grid_auto_columns": null,
            "margin": null,
            "display": null,
            "left": null
          }
        },
        "8ee3c5dab6ff47d68eb04da92b826008": {
          "model_module": "@jupyter-widgets/base",
          "model_name": "LayoutModel",
          "state": {
            "_view_name": "LayoutView",
            "grid_template_rows": null,
            "right": null,
            "justify_content": null,
            "_view_module": "@jupyter-widgets/base",
            "overflow": null,
            "_model_module_version": "1.2.0",
            "_view_count": null,
            "flex_flow": null,
            "width": null,
            "min_width": null,
            "border": null,
            "align_items": null,
            "bottom": null,
            "_model_module": "@jupyter-widgets/base",
            "top": null,
            "grid_column": null,
            "overflow_y": null,
            "overflow_x": null,
            "grid_auto_flow": null,
            "grid_area": null,
            "grid_template_columns": null,
            "flex": null,
            "_model_name": "LayoutModel",
            "justify_items": null,
            "grid_row": null,
            "max_height": null,
            "align_content": null,
            "visibility": null,
            "align_self": null,
            "height": null,
            "min_height": null,
            "padding": null,
            "grid_auto_rows": null,
            "grid_gap": null,
            "max_width": null,
            "order": null,
            "_view_module_version": "1.2.0",
            "grid_template_areas": null,
            "object_position": null,
            "object_fit": null,
            "grid_auto_columns": null,
            "margin": null,
            "display": null,
            "left": null
          }
        },
        "142b8fe8f65c4947a944c1000f865f5c": {
          "model_module": "@jupyter-widgets/controls",
          "model_name": "TabModel",
          "state": {
            "_view_name": "TabView",
            "_dom_classes": [],
            "_titles": {
              "0": "Youtube",
              "1": "Bilibili"
            },
            "_model_name": "TabModel",
            "_view_module": "@jupyter-widgets/controls",
            "selected_index": 0,
            "_model_module_version": "1.5.0",
            "_view_count": null,
            "_view_module_version": "1.5.0",
            "box_style": "",
            "layout": "IPY_MODEL_751d5b1299ba4a19bec24d0c190d94aa",
            "_model_module": "@jupyter-widgets/controls",
            "children": [
              "IPY_MODEL_b7628f3c2f224c76b5c73416bdd84c9a",
              "IPY_MODEL_666472e96b7f406e97437c4f106e39b6"
            ]
          }
        },
        "751d5b1299ba4a19bec24d0c190d94aa": {
          "model_module": "@jupyter-widgets/base",
          "model_name": "LayoutModel",
          "state": {
            "_view_name": "LayoutView",
            "grid_template_rows": null,
            "right": null,
            "justify_content": null,
            "_view_module": "@jupyter-widgets/base",
            "overflow": null,
            "_model_module_version": "1.2.0",
            "_view_count": null,
            "flex_flow": null,
            "width": null,
            "min_width": null,
            "border": null,
            "align_items": null,
            "bottom": null,
            "_model_module": "@jupyter-widgets/base",
            "top": null,
            "grid_column": null,
            "overflow_y": null,
            "overflow_x": null,
            "grid_auto_flow": null,
            "grid_area": null,
            "grid_template_columns": null,
            "flex": null,
            "_model_name": "LayoutModel",
            "justify_items": null,
            "grid_row": null,
            "max_height": null,
            "align_content": null,
            "visibility": null,
            "align_self": null,
            "height": null,
            "min_height": null,
            "padding": null,
            "grid_auto_rows": null,
            "grid_gap": null,
            "max_width": null,
            "order": null,
            "_view_module_version": "1.2.0",
            "grid_template_areas": null,
            "object_position": null,
            "object_fit": null,
            "grid_auto_columns": null,
            "margin": null,
            "display": null,
            "left": null
          }
        },
        "b7628f3c2f224c76b5c73416bdd84c9a": {
          "model_module": "@jupyter-widgets/output",
          "model_name": "OutputModel",
          "state": {
            "_view_name": "OutputView",
            "msg_id": "",
            "_dom_classes": [],
            "_model_name": "OutputModel",
            "outputs": [
              {
                "output_type": "stream",
                "metadata": {
                  "tags": []
                },
                "text": "Video available at https://youtube.com/watch?v=iprFMHch2_g\n",
                "stream": "stdout"
              },
              {
                "output_type": "display_data",
                "metadata": {
                  "tags": []
                },
                "text/html": "\n        <iframe\n            width=\"854\"\n            height=\"480\"\n            src=\"https://www.youtube.com/embed/iprFMHch2_g?fs=1&rel=0\"\n            frameborder=\"0\"\n            allowfullscreen\n        ></iframe>\n        ",
                "text/plain": "<IPython.lib.display.YouTubeVideo at 0x7f47705c6910>",
                "image/jpeg": "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\n"
              }
            ],
            "_view_module": "@jupyter-widgets/output",
            "_model_module_version": "1.0.0",
            "_view_count": null,
            "_view_module_version": "1.0.0",
            "layout": "IPY_MODEL_ee9c1b3997984b29aa21572d44f30b6b",
            "_model_module": "@jupyter-widgets/output"
          }
        },
        "666472e96b7f406e97437c4f106e39b6": {
          "model_module": "@jupyter-widgets/output",
          "model_name": "OutputModel",
          "state": {
            "_view_name": "OutputView",
            "msg_id": "",
            "_dom_classes": [],
            "_model_name": "OutputModel",
            "outputs": [
              {
                "output_type": "stream",
                "metadata": {
                  "tags": []
                },
                "text": "Video available at https://www.bilibili.com/video/BV1Zq4y1p7N6\n",
                "stream": "stdout"
              },
              {
                "output_type": "display_data",
                "metadata": {
                  "tags": []
                },
                "text/html": "\n        <iframe\n            width=\"854\"\n            height=\"480\"\n            src=\"https://player.bilibili.com/player.html?bvid=BV1Zq4y1p7N6&page=1?fs=1\"\n            frameborder=\"0\"\n            allowfullscreen\n        ></iframe>\n        ",
                "text/plain": "<__main__.BiliVideo at 0x7f4770af66d0>"
              }
            ],
            "_view_module": "@jupyter-widgets/output",
            "_model_module_version": "1.0.0",
            "_view_count": null,
            "_view_module_version": "1.0.0",
            "layout": "IPY_MODEL_e3c2992beff24ea58485947730fcb62e",
            "_model_module": "@jupyter-widgets/output"
          }
        },
        "ee9c1b3997984b29aa21572d44f30b6b": {
          "model_module": "@jupyter-widgets/base",
          "model_name": "LayoutModel",
          "state": {
            "_view_name": "LayoutView",
            "grid_template_rows": null,
            "right": null,
            "justify_content": null,
            "_view_module": "@jupyter-widgets/base",
            "overflow": null,
            "_model_module_version": "1.2.0",
            "_view_count": null,
            "flex_flow": null,
            "width": null,
            "min_width": null,
            "border": null,
            "align_items": null,
            "bottom": null,
            "_model_module": "@jupyter-widgets/base",
            "top": null,
            "grid_column": null,
            "overflow_y": null,
            "overflow_x": null,
            "grid_auto_flow": null,
            "grid_area": null,
            "grid_template_columns": null,
            "flex": null,
            "_model_name": "LayoutModel",
            "justify_items": null,
            "grid_row": null,
            "max_height": null,
            "align_content": null,
            "visibility": null,
            "align_self": null,
            "height": null,
            "min_height": null,
            "padding": null,
            "grid_auto_rows": null,
            "grid_gap": null,
            "max_width": null,
            "order": null,
            "_view_module_version": "1.2.0",
            "grid_template_areas": null,
            "object_position": null,
            "object_fit": null,
            "grid_auto_columns": null,
            "margin": null,
            "display": null,
            "left": null
          }
        },
        "e3c2992beff24ea58485947730fcb62e": {
          "model_module": "@jupyter-widgets/base",
          "model_name": "LayoutModel",
          "state": {
            "_view_name": "LayoutView",
            "grid_template_rows": null,
            "right": null,
            "justify_content": null,
            "_view_module": "@jupyter-widgets/base",
            "overflow": null,
            "_model_module_version": "1.2.0",
            "_view_count": null,
            "flex_flow": null,
            "width": null,
            "min_width": null,
            "border": null,
            "align_items": null,
            "bottom": null,
            "_model_module": "@jupyter-widgets/base",
            "top": null,
            "grid_column": null,
            "overflow_y": null,
            "overflow_x": null,
            "grid_auto_flow": null,
            "grid_area": null,
            "grid_template_columns": null,
            "flex": null,
            "_model_name": "LayoutModel",
            "justify_items": null,
            "grid_row": null,
            "max_height": null,
            "align_content": null,
            "visibility": null,
            "align_self": null,
            "height": null,
            "min_height": null,
            "padding": null,
            "grid_auto_rows": null,
            "grid_gap": null,
            "max_width": null,
            "order": null,
            "_view_module_version": "1.2.0",
            "grid_template_areas": null,
            "object_position": null,
            "object_fit": null,
            "grid_auto_columns": null,
            "margin": null,
            "display": null,
            "left": null
          }
        },
        "02d993d9b29b4dd7bea81884d08b87fd": {
          "model_module": "@jupyter-widgets/controls",
          "model_name": "VBoxModel",
          "state": {
            "_view_name": "VBoxView",
            "_dom_classes": [
              "widget-interact"
            ],
            "_model_name": "VBoxModel",
            "_view_module": "@jupyter-widgets/controls",
            "_model_module_version": "1.5.0",
            "_view_count": null,
            "_view_module_version": "1.5.0",
            "box_style": "",
            "layout": "IPY_MODEL_ed2257bb5d2345a68a237debbbed68a2",
            "_model_module": "@jupyter-widgets/controls",
            "children": [
              "IPY_MODEL_40f1b41cab724cff8a7b5c81ec32beda",
              "IPY_MODEL_aabc52dbddc1406caca8444ddf34548e",
              "IPY_MODEL_eedfe55057a34625adad7c7877fedef5",
              "IPY_MODEL_36e4539976274ad8a90d34f22e01cbbb"
            ]
          }
        },
        "ed2257bb5d2345a68a237debbbed68a2": {
          "model_module": "@jupyter-widgets/base",
          "model_name": "LayoutModel",
          "state": {
            "_view_name": "LayoutView",
            "grid_template_rows": null,
            "right": null,
            "justify_content": null,
            "_view_module": "@jupyter-widgets/base",
            "overflow": null,
            "_model_module_version": "1.2.0",
            "_view_count": null,
            "flex_flow": null,
            "width": null,
            "min_width": null,
            "border": null,
            "align_items": null,
            "bottom": null,
            "_model_module": "@jupyter-widgets/base",
            "top": null,
            "grid_column": null,
            "overflow_y": null,
            "overflow_x": null,
            "grid_auto_flow": null,
            "grid_area": null,
            "grid_template_columns": null,
            "flex": null,
            "_model_name": "LayoutModel",
            "justify_items": null,
            "grid_row": null,
            "max_height": null,
            "align_content": null,
            "visibility": null,
            "align_self": null,
            "height": null,
            "min_height": null,
            "padding": null,
            "grid_auto_rows": null,
            "grid_gap": null,
            "max_width": null,
            "order": null,
            "_view_module_version": "1.2.0",
            "grid_template_areas": null,
            "object_position": null,
            "object_fit": null,
            "grid_auto_columns": null,
            "margin": null,
            "display": null,
            "left": null
          }
        },
        "40f1b41cab724cff8a7b5c81ec32beda": {
          "model_module": "@jupyter-widgets/controls",
          "model_name": "FloatSliderModel",
          "state": {
            "_view_name": "FloatSliderView",
            "style": "IPY_MODEL_e960efc7e5894482bafe26f028846499",
            "_dom_classes": [],
            "description": "p(color=golden)",
            "step": 0.01,
            "_model_name": "FloatSliderModel",
            "orientation": "horizontal",
            "max": 0.99,
            "_view_module": "@jupyter-widgets/controls",
            "_model_module_version": "1.5.0",
            "value": 0.65,
            "_view_count": null,
            "disabled": false,
            "_view_module_version": "1.5.0",
            "min": 0.01,
            "continuous_update": true,
            "readout_format": ".2f",
            "description_tooltip": null,
            "readout": true,
            "_model_module": "@jupyter-widgets/controls",
            "layout": "IPY_MODEL_ca442ddd23d6418f8474699f48d17e42"
          }
        },
        "aabc52dbddc1406caca8444ddf34548e": {
          "model_module": "@jupyter-widgets/controls",
          "model_name": "FloatSliderModel",
          "state": {
            "_view_name": "FloatSliderView",
            "style": "IPY_MODEL_bef859ddbf4245bb92071cc5e2c53293",
            "_dom_classes": [],
            "description": "p(size=large)",
            "step": 0.01,
            "_model_name": "FloatSliderModel",
            "orientation": "horizontal",
            "max": 0.99,
            "_view_module": "@jupyter-widgets/controls",
            "_model_module_version": "1.5.0",
            "value": 0.67,
            "_view_count": null,
            "disabled": false,
            "_view_module_version": "1.5.0",
            "min": 0.01,
            "continuous_update": true,
            "readout_format": ".2f",
            "description_tooltip": null,
            "readout": true,
            "_model_module": "@jupyter-widgets/controls",
            "layout": "IPY_MODEL_e2faf18134dd4781ae83133815bc1ba4"
          }
        },
        "eedfe55057a34625adad7c7877fedef5": {
          "model_module": "@jupyter-widgets/controls",
          "model_name": "FloatSliderModel",
          "state": {
            "_view_name": "FloatSliderView",
            "style": "IPY_MODEL_99c921344711479ebbe36a938333a72c",
            "_dom_classes": [],
            "description": "ρ",
            "step": 0.01,
            "_model_name": "FloatSliderModel",
            "orientation": "horizontal",
            "max": 0.9464058518840855,
            "_view_module": "@jupyter-widgets/controls",
            "_model_module_version": "1.5.0",
            "value": 0.09050378152592235,
            "_view_count": null,
            "disabled": false,
            "_view_module_version": "1.5.0",
            "min": -0.5049877663991231,
            "continuous_update": true,
            "readout_format": ".2f",
            "description_tooltip": null,
            "readout": true,
            "_model_module": "@jupyter-widgets/controls",
            "layout": "IPY_MODEL_f8c9e43e10c54b099da59580d9e48ebc"
          }
        },
        "36e4539976274ad8a90d34f22e01cbbb": {
          "model_module": "@jupyter-widgets/output",
          "model_name": "OutputModel",
          "state": {
            "_view_name": "OutputView",
            "msg_id": "",
            "_dom_classes": [],
            "_model_name": "OutputModel",
            "outputs": [
              {
                "output_type": "display_data",
                "metadata": {
                  "tags": [],
                  "image/png": {
                    "width": 391,
                    "height": 361
                  },
                  "needs_background": "light"
                },
                "image/png": "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\n",
                "text/plain": "<Figure size 360x360 with 3 Axes>"
              }
            ],
            "_view_module": "@jupyter-widgets/output",
            "_model_module_version": "1.0.0",
            "_view_count": null,
            "_view_module_version": "1.0.0",
            "layout": "IPY_MODEL_bb4136b19b3e4c02bdbeda25d4888275",
            "_model_module": "@jupyter-widgets/output"
          }
        },
        "e960efc7e5894482bafe26f028846499": {
          "model_module": "@jupyter-widgets/controls",
          "model_name": "SliderStyleModel",
          "state": {
            "_view_name": "StyleView",
            "handle_color": null,
            "_model_name": "SliderStyleModel",
            "description_width": "initial",
            "_view_module": "@jupyter-widgets/base",
            "_model_module_version": "1.5.0",
            "_view_count": null,
            "_view_module_version": "1.2.0",
            "_model_module": "@jupyter-widgets/controls"
          }
        },
        "ca442ddd23d6418f8474699f48d17e42": {
          "model_module": "@jupyter-widgets/base",
          "model_name": "LayoutModel",
          "state": {
            "_view_name": "LayoutView",
            "grid_template_rows": null,
            "right": null,
            "justify_content": null,
            "_view_module": "@jupyter-widgets/base",
            "overflow": null,
            "_model_module_version": "1.2.0",
            "_view_count": null,
            "flex_flow": null,
            "width": null,
            "min_width": null,
            "border": null,
            "align_items": null,
            "bottom": null,
            "_model_module": "@jupyter-widgets/base",
            "top": null,
            "grid_column": null,
            "overflow_y": null,
            "overflow_x": null,
            "grid_auto_flow": null,
            "grid_area": "widget002",
            "grid_template_columns": null,
            "flex": null,
            "_model_name": "LayoutModel",
            "justify_items": null,
            "grid_row": null,
            "max_height": null,
            "align_content": null,
            "visibility": null,
            "align_self": null,
            "height": null,
            "min_height": null,
            "padding": null,
            "grid_auto_rows": null,
            "grid_gap": null,
            "max_width": null,
            "order": null,
            "_view_module_version": "1.2.0",
            "grid_template_areas": null,
            "object_position": null,
            "object_fit": null,
            "grid_auto_columns": null,
            "margin": null,
            "display": null,
            "left": null
          }
        },
        "bef859ddbf4245bb92071cc5e2c53293": {
          "model_module": "@jupyter-widgets/controls",
          "model_name": "SliderStyleModel",
          "state": {
            "_view_name": "StyleView",
            "handle_color": null,
            "_model_name": "SliderStyleModel",
            "description_width": "initial",
            "_view_module": "@jupyter-widgets/base",
            "_model_module_version": "1.5.0",
            "_view_count": null,
            "_view_module_version": "1.2.0",
            "_model_module": "@jupyter-widgets/controls"
          }
        },
        "e2faf18134dd4781ae83133815bc1ba4": {
          "model_module": "@jupyter-widgets/base",
          "model_name": "LayoutModel",
          "state": {
            "_view_name": "LayoutView",
            "grid_template_rows": null,
            "right": null,
            "justify_content": null,
            "_view_module": "@jupyter-widgets/base",
            "overflow": null,
            "_model_module_version": "1.2.0",
            "_view_count": null,
            "flex_flow": null,
            "width": null,
            "min_width": null,
            "border": null,
            "align_items": null,
            "bottom": null,
            "_model_module": "@jupyter-widgets/base",
            "top": null,
            "grid_column": null,
            "overflow_y": null,
            "overflow_x": null,
            "grid_auto_flow": null,
            "grid_area": "widget003",
            "grid_template_columns": null,
            "flex": null,
            "_model_name": "LayoutModel",
            "justify_items": null,
            "grid_row": null,
            "max_height": null,
            "align_content": null,
            "visibility": null,
            "align_self": null,
            "height": null,
            "min_height": null,
            "padding": null,
            "grid_auto_rows": null,
            "grid_gap": null,
            "max_width": null,
            "order": null,
            "_view_module_version": "1.2.0",
            "grid_template_areas": null,
            "object_position": null,
            "object_fit": null,
            "grid_auto_columns": null,
            "margin": null,
            "display": null,
            "left": null
          }
        },
        "99c921344711479ebbe36a938333a72c": {
          "model_module": "@jupyter-widgets/controls",
          "model_name": "SliderStyleModel",
          "state": {
            "_view_name": "StyleView",
            "handle_color": null,
            "_model_name": "SliderStyleModel",
            "description_width": "",
            "_view_module": "@jupyter-widgets/base",
            "_model_module_version": "1.5.0",
            "_view_count": null,
            "_view_module_version": "1.2.0",
            "_model_module": "@jupyter-widgets/controls"
          }
        },
        "f8c9e43e10c54b099da59580d9e48ebc": {
          "model_module": "@jupyter-widgets/base",
          "model_name": "LayoutModel",
          "state": {
            "_view_name": "LayoutView",
            "grid_template_rows": null,
            "right": null,
            "justify_content": null,
            "_view_module": "@jupyter-widgets/base",
            "overflow": null,
            "_model_module_version": "1.2.0",
            "_view_count": null,
            "flex_flow": null,
            "width": null,
            "min_width": null,
            "border": null,
            "align_items": null,
            "bottom": null,
            "_model_module": "@jupyter-widgets/base",
            "top": null,
            "grid_column": null,
            "overflow_y": null,
            "overflow_x": null,
            "grid_auto_flow": null,
            "grid_area": "widget001",
            "grid_template_columns": null,
            "flex": null,
            "_model_name": "LayoutModel",
            "justify_items": null,
            "grid_row": null,
            "max_height": null,
            "align_content": null,
            "visibility": null,
            "align_self": null,
            "height": null,
            "min_height": null,
            "padding": null,
            "grid_auto_rows": null,
            "grid_gap": null,
            "max_width": null,
            "order": null,
            "_view_module_version": "1.2.0",
            "grid_template_areas": null,
            "object_position": null,
            "object_fit": null,
            "grid_auto_columns": null,
            "margin": null,
            "display": null,
            "left": null
          }
        },
        "bb4136b19b3e4c02bdbeda25d4888275": {
          "model_module": "@jupyter-widgets/base",
          "model_name": "LayoutModel",
          "state": {
            "_view_name": "LayoutView",
            "grid_template_rows": null,
            "right": null,
            "justify_content": null,
            "_view_module": "@jupyter-widgets/base",
            "overflow": null,
            "_model_module_version": "1.2.0",
            "_view_count": null,
            "flex_flow": null,
            "width": null,
            "min_width": null,
            "border": null,
            "align_items": null,
            "bottom": null,
            "_model_module": "@jupyter-widgets/base",
            "top": null,
            "grid_column": null,
            "overflow_y": null,
            "overflow_x": null,
            "grid_auto_flow": null,
            "grid_area": null,
            "grid_template_columns": null,
            "flex": null,
            "_model_name": "LayoutModel",
            "justify_items": null,
            "grid_row": null,
            "max_height": null,
            "align_content": null,
            "visibility": null,
            "align_self": null,
            "height": null,
            "min_height": null,
            "padding": null,
            "grid_auto_rows": null,
            "grid_gap": null,
            "max_width": null,
            "order": null,
            "_view_module_version": "1.2.0",
            "grid_template_areas": null,
            "object_position": null,
            "object_fit": null,
            "grid_auto_columns": null,
            "margin": null,
            "display": null,
            "left": null
          }
        },
        "e743aeeb588841e0b3ac7bfa73a20b7b": {
          "model_module": "@jupyter-widgets/controls",
          "model_name": "TabModel",
          "state": {
            "_view_name": "TabView",
            "_dom_classes": [],
            "_titles": {
              "0": "Youtube",
              "1": "Bilibili"
            },
            "_model_name": "TabModel",
            "_view_module": "@jupyter-widgets/controls",
            "selected_index": 0,
            "_model_module_version": "1.5.0",
            "_view_count": null,
            "_view_module_version": "1.5.0",
            "box_style": "",
            "layout": "IPY_MODEL_f19d727e3d7f4dab9a3f5210c51416f3",
            "_model_module": "@jupyter-widgets/controls",
            "children": [
              "IPY_MODEL_72621323f5e647338fe63bc5228cca59",
              "IPY_MODEL_7798204ca882428997c41a8dbc6bc493"
            ]
          }
        },
        "f19d727e3d7f4dab9a3f5210c51416f3": {
          "model_module": "@jupyter-widgets/base",
          "model_name": "LayoutModel",
          "state": {
            "_view_name": "LayoutView",
            "grid_template_rows": null,
            "right": null,
            "justify_content": null,
            "_view_module": "@jupyter-widgets/base",
            "overflow": null,
            "_model_module_version": "1.2.0",
            "_view_count": null,
            "flex_flow": null,
            "width": null,
            "min_width": null,
            "border": null,
            "align_items": null,
            "bottom": null,
            "_model_module": "@jupyter-widgets/base",
            "top": null,
            "grid_column": null,
            "overflow_y": null,
            "overflow_x": null,
            "grid_auto_flow": null,
            "grid_area": null,
            "grid_template_columns": null,
            "flex": null,
            "_model_name": "LayoutModel",
            "justify_items": null,
            "grid_row": null,
            "max_height": null,
            "align_content": null,
            "visibility": null,
            "align_self": null,
            "height": null,
            "min_height": null,
            "padding": null,
            "grid_auto_rows": null,
            "grid_gap": null,
            "max_width": null,
            "order": null,
            "_view_module_version": "1.2.0",
            "grid_template_areas": null,
            "object_position": null,
            "object_fit": null,
            "grid_auto_columns": null,
            "margin": null,
            "display": null,
            "left": null
          }
        },
        "72621323f5e647338fe63bc5228cca59": {
          "model_module": "@jupyter-widgets/output",
          "model_name": "OutputModel",
          "state": {
            "_view_name": "OutputView",
            "msg_id": "",
            "_dom_classes": [],
            "_model_name": "OutputModel",
            "outputs": [
              {
                "output_type": "stream",
                "metadata": {
                  "tags": []
                },
                "text": "Video available at https://youtube.com/watch?v=cOAJQ4utwD0\n",
                "stream": "stdout"
              },
              {
                "output_type": "display_data",
                "metadata": {
                  "tags": []
                },
                "text/html": "\n        <iframe\n            width=\"854\"\n            height=\"480\"\n            src=\"https://www.youtube.com/embed/cOAJQ4utwD0?fs=1&rel=0\"\n            frameborder=\"0\"\n            allowfullscreen\n        ></iframe>\n        ",
                "text/plain": "<IPython.lib.display.YouTubeVideo at 0x7f47705e7b90>",
                "image/jpeg": "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\n"
              }
            ],
            "_view_module": "@jupyter-widgets/output",
            "_model_module_version": "1.0.0",
            "_view_count": null,
            "_view_module_version": "1.0.0",
            "layout": "IPY_MODEL_dadce6f948774590b6ac9c56b720f3d1",
            "_model_module": "@jupyter-widgets/output"
          }
        },
        "7798204ca882428997c41a8dbc6bc493": {
          "model_module": "@jupyter-widgets/output",
          "model_name": "OutputModel",
          "state": {
            "_view_name": "OutputView",
            "msg_id": "",
            "_dom_classes": [],
            "_model_name": "OutputModel",
            "outputs": [
              {
                "output_type": "stream",
                "metadata": {
                  "tags": []
                },
                "text": "Video available at https://www.bilibili.com/video/BV1fK4y1M7EC\n",
                "stream": "stdout"
              },
              {
                "output_type": "display_data",
                "metadata": {
                  "tags": []
                },
                "text/html": "\n        <iframe\n            width=\"854\"\n            height=\"480\"\n            src=\"https://player.bilibili.com/player.html?bvid=BV1fK4y1M7EC&page=1?fs=1\"\n            frameborder=\"0\"\n            allowfullscreen\n        ></iframe>\n        ",
                "text/plain": "<__main__.BiliVideo at 0x7f4770ab5fd0>"
              }
            ],
            "_view_module": "@jupyter-widgets/output",
            "_model_module_version": "1.0.0",
            "_view_count": null,
            "_view_module_version": "1.0.0",
            "layout": "IPY_MODEL_5cb8b3a3ae54471a8882acdffc2c22b7",
            "_model_module": "@jupyter-widgets/output"
          }
        },
        "dadce6f948774590b6ac9c56b720f3d1": {
          "model_module": "@jupyter-widgets/base",
          "model_name": "LayoutModel",
          "state": {
            "_view_name": "LayoutView",
            "grid_template_rows": null,
            "right": null,
            "justify_content": null,
            "_view_module": "@jupyter-widgets/base",
            "overflow": null,
            "_model_module_version": "1.2.0",
            "_view_count": null,
            "flex_flow": null,
            "width": null,
            "min_width": null,
            "border": null,
            "align_items": null,
            "bottom": null,
            "_model_module": "@jupyter-widgets/base",
            "top": null,
            "grid_column": null,
            "overflow_y": null,
            "overflow_x": null,
            "grid_auto_flow": null,
            "grid_area": null,
            "grid_template_columns": null,
            "flex": null,
            "_model_name": "LayoutModel",
            "justify_items": null,
            "grid_row": null,
            "max_height": null,
            "align_content": null,
            "visibility": null,
            "align_self": null,
            "height": null,
            "min_height": null,
            "padding": null,
            "grid_auto_rows": null,
            "grid_gap": null,
            "max_width": null,
            "order": null,
            "_view_module_version": "1.2.0",
            "grid_template_areas": null,
            "object_position": null,
            "object_fit": null,
            "grid_auto_columns": null,
            "margin": null,
            "display": null,
            "left": null
          }
        },
        "5cb8b3a3ae54471a8882acdffc2c22b7": {
          "model_module": "@jupyter-widgets/base",
          "model_name": "LayoutModel",
          "state": {
            "_view_name": "LayoutView",
            "grid_template_rows": null,
            "right": null,
            "justify_content": null,
            "_view_module": "@jupyter-widgets/base",
            "overflow": null,
            "_model_module_version": "1.2.0",
            "_view_count": null,
            "flex_flow": null,
            "width": null,
            "min_width": null,
            "border": null,
            "align_items": null,
            "bottom": null,
            "_model_module": "@jupyter-widgets/base",
            "top": null,
            "grid_column": null,
            "overflow_y": null,
            "overflow_x": null,
            "grid_auto_flow": null,
            "grid_area": null,
            "grid_template_columns": null,
            "flex": null,
            "_model_name": "LayoutModel",
            "justify_items": null,
            "grid_row": null,
            "max_height": null,
            "align_content": null,
            "visibility": null,
            "align_self": null,
            "height": null,
            "min_height": null,
            "padding": null,
            "grid_auto_rows": null,
            "grid_gap": null,
            "max_width": null,
            "order": null,
            "_view_module_version": "1.2.0",
            "grid_template_areas": null,
            "object_position": null,
            "object_fit": null,
            "grid_auto_columns": null,
            "margin": null,
            "display": null,
            "left": null
          }
        },
        "af2d84c9d04e4df4b5dca37be483316c": {
          "model_module": "@jupyter-widgets/controls",
          "model_name": "VBoxModel",
          "state": {
            "_view_name": "VBoxView",
            "_dom_classes": [],
            "_model_name": "VBoxModel",
            "_view_module": "@jupyter-widgets/controls",
            "_model_module_version": "1.5.0",
            "_view_count": null,
            "_view_module_version": "1.5.0",
            "box_style": "",
            "layout": "IPY_MODEL_7d1dd767e2b74e82b9d91ad5c431eb92",
            "_model_module": "@jupyter-widgets/controls",
            "children": [
              "IPY_MODEL_d1de7ec97ea44b43b671949e7bc44736",
              "IPY_MODEL_f25008c7414a463db6a2dc519f3204e1",
              "IPY_MODEL_f168407161a040259df61ca7f97f49e8"
            ]
          }
        },
        "7d1dd767e2b74e82b9d91ad5c431eb92": {
          "model_module": "@jupyter-widgets/base",
          "model_name": "LayoutModel",
          "state": {
            "_view_name": "LayoutView",
            "grid_template_rows": null,
            "right": null,
            "justify_content": null,
            "_view_module": "@jupyter-widgets/base",
            "overflow": null,
            "_model_module_version": "1.2.0",
            "_view_count": null,
            "flex_flow": null,
            "width": null,
            "min_width": null,
            "border": null,
            "align_items": null,
            "bottom": null,
            "_model_module": "@jupyter-widgets/base",
            "top": null,
            "grid_column": null,
            "overflow_y": null,
            "overflow_x": null,
            "grid_auto_flow": null,
            "grid_area": null,
            "grid_template_columns": null,
            "flex": null,
            "_model_name": "LayoutModel",
            "justify_items": null,
            "grid_row": null,
            "max_height": null,
            "align_content": null,
            "visibility": null,
            "align_self": null,
            "height": null,
            "min_height": null,
            "padding": null,
            "grid_auto_rows": null,
            "grid_gap": null,
            "max_width": null,
            "order": null,
            "_view_module_version": "1.2.0",
            "grid_template_areas": null,
            "object_position": null,
            "object_fit": null,
            "grid_auto_columns": null,
            "margin": null,
            "display": null,
            "left": null
          }
        },
        "d1de7ec97ea44b43b671949e7bc44736": {
          "model_module": "@jupyter-widgets/controls",
          "model_name": "FloatSliderModel",
          "state": {
            "_view_name": "FloatSliderView",
            "style": "IPY_MODEL_368860e7b6c3474aa8029e681a10bd68",
            "_dom_classes": [],
            "description": "p(s = left)",
            "step": 0.01,
            "_model_name": "FloatSliderModel",
            "orientation": "horizontal",
            "max": 0.99,
            "_view_module": "@jupyter-widgets/controls",
            "_model_module_version": "1.5.0",
            "value": 0.3,
            "_view_count": null,
            "disabled": false,
            "_view_module_version": "1.5.0",
            "min": 0.01,
            "continuous_update": true,
            "readout_format": ".2f",
            "description_tooltip": null,
            "readout": true,
            "_model_module": "@jupyter-widgets/controls",
            "layout": "IPY_MODEL_1b2eebed2c47468681953fdf4e32cf1c"
          }
        },
        "f25008c7414a463db6a2dc519f3204e1": {
          "model_module": "@jupyter-widgets/controls",
          "model_name": "HBoxModel",
          "state": {
            "_view_name": "HBoxView",
            "_dom_classes": [],
            "_model_name": "HBoxModel",
            "_view_module": "@jupyter-widgets/controls",
            "_model_module_version": "1.5.0",
            "_view_count": null,
            "_view_module_version": "1.5.0",
            "box_style": "",
            "layout": "IPY_MODEL_52203517da3b4e4498ce50e6f9c4d52d",
            "_model_module": "@jupyter-widgets/controls",
            "children": [
              "IPY_MODEL_31d614addd83485693c5c340642b4fcb",
              "IPY_MODEL_ecfd9c07c1244f8a97bb6179af22015c"
            ]
          }
        },
        "f168407161a040259df61ca7f97f49e8": {
          "model_module": "@jupyter-widgets/controls",
          "model_name": "ToggleButtonsModel",
          "state": {
            "_options_labels": [
              "Fish",
              "No Fish"
            ],
            "_view_name": "ToggleButtonsView",
            "style": "IPY_MODEL_d6683099e0d3492ab56c48fc651ecbd8",
            "_dom_classes": [],
            "description": "Observation (m) on the left:",
            "_model_name": "ToggleButtonsModel",
            "tooltips": [],
            "index": 0,
            "button_style": "",
            "_view_module": "@jupyter-widgets/controls",
            "_model_module_version": "1.5.0",
            "_view_count": null,
            "disabled": false,
            "_view_module_version": "1.5.0",
            "icons": [],
            "description_tooltip": null,
            "_model_module": "@jupyter-widgets/controls",
            "layout": "IPY_MODEL_77f48aaef49648b49193dee2d4fb8b47"
          }
        },
        "368860e7b6c3474aa8029e681a10bd68": {
          "model_module": "@jupyter-widgets/controls",
          "model_name": "SliderStyleModel",
          "state": {
            "_view_name": "StyleView",
            "handle_color": null,
            "_model_name": "SliderStyleModel",
            "description_width": "",
            "_view_module": "@jupyter-widgets/base",
            "_model_module_version": "1.5.0",
            "_view_count": null,
            "_view_module_version": "1.2.0",
            "_model_module": "@jupyter-widgets/controls"
          }
        },
        "1b2eebed2c47468681953fdf4e32cf1c": {
          "model_module": "@jupyter-widgets/base",
          "model_name": "LayoutModel",
          "state": {
            "_view_name": "LayoutView",
            "grid_template_rows": null,
            "right": null,
            "justify_content": null,
            "_view_module": "@jupyter-widgets/base",
            "overflow": null,
            "_model_module_version": "1.2.0",
            "_view_count": null,
            "flex_flow": null,
            "width": null,
            "min_width": null,
            "border": null,
            "align_items": null,
            "bottom": null,
            "_model_module": "@jupyter-widgets/base",
            "top": null,
            "grid_column": null,
            "overflow_y": null,
            "overflow_x": null,
            "grid_auto_flow": null,
            "grid_area": null,
            "grid_template_columns": null,
            "flex": null,
            "_model_name": "LayoutModel",
            "justify_items": null,
            "grid_row": null,
            "max_height": null,
            "align_content": null,
            "visibility": null,
            "align_self": null,
            "height": null,
            "min_height": null,
            "padding": null,
            "grid_auto_rows": null,
            "grid_gap": null,
            "max_width": null,
            "order": null,
            "_view_module_version": "1.2.0",
            "grid_template_areas": null,
            "object_position": null,
            "object_fit": null,
            "grid_auto_columns": null,
            "margin": null,
            "display": null,
            "left": null
          }
        },
        "52203517da3b4e4498ce50e6f9c4d52d": {
          "model_module": "@jupyter-widgets/base",
          "model_name": "LayoutModel",
          "state": {
            "_view_name": "LayoutView",
            "grid_template_rows": null,
            "right": null,
            "justify_content": null,
            "_view_module": "@jupyter-widgets/base",
            "overflow": null,
            "_model_module_version": "1.2.0",
            "_view_count": null,
            "flex_flow": null,
            "width": null,
            "min_width": null,
            "border": null,
            "align_items": null,
            "bottom": null,
            "_model_module": "@jupyter-widgets/base",
            "top": null,
            "grid_column": null,
            "overflow_y": null,
            "overflow_x": null,
            "grid_auto_flow": null,
            "grid_area": null,
            "grid_template_columns": null,
            "flex": null,
            "_model_name": "LayoutModel",
            "justify_items": null,
            "grid_row": null,
            "max_height": null,
            "align_content": null,
            "visibility": null,
            "align_self": null,
            "height": null,
            "min_height": null,
            "padding": null,
            "grid_auto_rows": null,
            "grid_gap": null,
            "max_width": null,
            "order": null,
            "_view_module_version": "1.2.0",
            "grid_template_areas": null,
            "object_position": null,
            "object_fit": null,
            "grid_auto_columns": null,
            "margin": null,
            "display": null,
            "left": null
          }
        },
        "31d614addd83485693c5c340642b4fcb": {
          "model_module": "@jupyter-widgets/controls",
          "model_name": "FloatSliderModel",
          "state": {
            "_view_name": "FloatSliderView",
            "style": "IPY_MODEL_fc1371be45c84fb1810d6d921cddc370",
            "_dom_classes": [],
            "description": "p(fish on left | state = left)",
            "step": 0.01,
            "_model_name": "FloatSliderModel",
            "orientation": "horizontal",
            "max": 0.99,
            "_view_module": "@jupyter-widgets/controls",
            "_model_module_version": "1.5.0",
            "value": 0.5,
            "_view_count": null,
            "disabled": false,
            "_view_module_version": "1.5.0",
            "min": 0.01,
            "continuous_update": true,
            "readout_format": ".2f",
            "description_tooltip": null,
            "readout": true,
            "_model_module": "@jupyter-widgets/controls",
            "layout": "IPY_MODEL_d12f09aa62f8458380b447abf1e4e706"
          }
        },
        "ecfd9c07c1244f8a97bb6179af22015c": {
          "model_module": "@jupyter-widgets/controls",
          "model_name": "FloatSliderModel",
          "state": {
            "_view_name": "FloatSliderView",
            "style": "IPY_MODEL_4d4a6dee87714202ab24543e205a5558",
            "_dom_classes": [],
            "description": "p(fish on left | state = right)",
            "step": 0.01,
            "_model_name": "FloatSliderModel",
            "orientation": "horizontal",
            "max": 0.99,
            "_view_module": "@jupyter-widgets/controls",
            "_model_module_version": "1.5.0",
            "value": 0.1,
            "_view_count": null,
            "disabled": false,
            "_view_module_version": "1.5.0",
            "min": 0.01,
            "continuous_update": true,
            "readout_format": ".2f",
            "description_tooltip": null,
            "readout": true,
            "_model_module": "@jupyter-widgets/controls",
            "layout": "IPY_MODEL_608410230c614b5b84cd42f88820e48a"
          }
        },
        "d6683099e0d3492ab56c48fc651ecbd8": {
          "model_module": "@jupyter-widgets/controls",
          "model_name": "ToggleButtonsStyleModel",
          "state": {
            "_view_name": "StyleView",
            "button_width": "",
            "_model_name": "ToggleButtonsStyleModel",
            "description_width": "initial",
            "_view_module": "@jupyter-widgets/base",
            "_model_module_version": "1.5.0",
            "_view_count": null,
            "font_weight": "",
            "_view_module_version": "1.2.0",
            "_model_module": "@jupyter-widgets/controls"
          }
        },
        "77f48aaef49648b49193dee2d4fb8b47": {
          "model_module": "@jupyter-widgets/base",
          "model_name": "LayoutModel",
          "state": {
            "_view_name": "LayoutView",
            "grid_template_rows": null,
            "right": null,
            "justify_content": null,
            "_view_module": "@jupyter-widgets/base",
            "overflow": null,
            "_model_module_version": "1.2.0",
            "_view_count": null,
            "flex_flow": null,
            "width": "auto",
            "min_width": null,
            "border": null,
            "align_items": null,
            "bottom": null,
            "_model_module": "@jupyter-widgets/base",
            "top": null,
            "grid_column": null,
            "overflow_y": null,
            "overflow_x": null,
            "grid_auto_flow": null,
            "grid_area": null,
            "grid_template_columns": null,
            "flex": null,
            "_model_name": "LayoutModel",
            "justify_items": null,
            "grid_row": null,
            "max_height": null,
            "align_content": null,
            "visibility": null,
            "align_self": null,
            "height": null,
            "min_height": null,
            "padding": null,
            "grid_auto_rows": null,
            "grid_gap": null,
            "max_width": null,
            "order": null,
            "_view_module_version": "1.2.0",
            "grid_template_areas": null,
            "object_position": null,
            "object_fit": null,
            "grid_auto_columns": null,
            "margin": null,
            "display": "flex",
            "left": null
          }
        },
        "fc1371be45c84fb1810d6d921cddc370": {
          "model_module": "@jupyter-widgets/controls",
          "model_name": "SliderStyleModel",
          "state": {
            "_view_name": "StyleView",
            "handle_color": null,
            "_model_name": "SliderStyleModel",
            "description_width": "initial",
            "_view_module": "@jupyter-widgets/base",
            "_model_module_version": "1.5.0",
            "_view_count": null,
            "_view_module_version": "1.2.0",
            "_model_module": "@jupyter-widgets/controls"
          }
        },
        "d12f09aa62f8458380b447abf1e4e706": {
          "model_module": "@jupyter-widgets/base",
          "model_name": "LayoutModel",
          "state": {
            "_view_name": "LayoutView",
            "grid_template_rows": null,
            "right": null,
            "justify_content": null,
            "_view_module": "@jupyter-widgets/base",
            "overflow": null,
            "_model_module_version": "1.2.0",
            "_view_count": null,
            "flex_flow": null,
            "width": "370px",
            "min_width": null,
            "border": null,
            "align_items": null,
            "bottom": null,
            "_model_module": "@jupyter-widgets/base",
            "top": null,
            "grid_column": null,
            "overflow_y": null,
            "overflow_x": null,
            "grid_auto_flow": null,
            "grid_area": null,
            "grid_template_columns": null,
            "flex": null,
            "_model_name": "LayoutModel",
            "justify_items": null,
            "grid_row": null,
            "max_height": null,
            "align_content": null,
            "visibility": null,
            "align_self": null,
            "height": null,
            "min_height": null,
            "padding": null,
            "grid_auto_rows": null,
            "grid_gap": null,
            "max_width": null,
            "order": null,
            "_view_module_version": "1.2.0",
            "grid_template_areas": null,
            "object_position": null,
            "object_fit": null,
            "grid_auto_columns": null,
            "margin": null,
            "display": null,
            "left": null
          }
        },
        "4d4a6dee87714202ab24543e205a5558": {
          "model_module": "@jupyter-widgets/controls",
          "model_name": "SliderStyleModel",
          "state": {
            "_view_name": "StyleView",
            "handle_color": null,
            "_model_name": "SliderStyleModel",
            "description_width": "initial",
            "_view_module": "@jupyter-widgets/base",
            "_model_module_version": "1.5.0",
            "_view_count": null,
            "_view_module_version": "1.2.0",
            "_model_module": "@jupyter-widgets/controls"
          }
        },
        "608410230c614b5b84cd42f88820e48a": {
          "model_module": "@jupyter-widgets/base",
          "model_name": "LayoutModel",
          "state": {
            "_view_name": "LayoutView",
            "grid_template_rows": null,
            "right": null,
            "justify_content": null,
            "_view_module": "@jupyter-widgets/base",
            "overflow": null,
            "_model_module_version": "1.2.0",
            "_view_count": null,
            "flex_flow": null,
            "width": "370px",
            "min_width": null,
            "border": null,
            "align_items": null,
            "bottom": null,
            "_model_module": "@jupyter-widgets/base",
            "top": null,
            "grid_column": null,
            "overflow_y": null,
            "overflow_x": null,
            "grid_auto_flow": null,
            "grid_area": null,
            "grid_template_columns": null,
            "flex": null,
            "_model_name": "LayoutModel",
            "justify_items": null,
            "grid_row": null,
            "max_height": null,
            "align_content": null,
            "visibility": null,
            "align_self": null,
            "height": null,
            "min_height": null,
            "padding": null,
            "grid_auto_rows": null,
            "grid_gap": null,
            "max_width": null,
            "order": null,
            "_view_module_version": "1.2.0",
            "grid_template_areas": null,
            "object_position": null,
            "object_fit": null,
            "grid_auto_columns": null,
            "margin": null,
            "display": null,
            "left": null
          }
        },
        "6fbc0010a0534fe2aefe529d5f33d529": {
          "model_module": "@jupyter-widgets/output",
          "model_name": "OutputModel",
          "state": {
            "_view_name": "OutputView",
            "msg_id": "",
            "_dom_classes": [],
            "_model_name": "OutputModel",
            "outputs": [
              {
                "output_type": "display_data",
                "metadata": {
                  "tags": [],
                  "image/png": {
                    "width": 766,
                    "height": 345
                  },
                  "needs_background": "light"
                },
                "image/png": "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\n",
                "text/plain": "<Figure size 864x288 with 3 Axes>"
              }
            ],
            "_view_module": "@jupyter-widgets/output",
            "_model_module_version": "1.0.0",
            "_view_count": null,
            "_view_module_version": "1.0.0",
            "layout": "IPY_MODEL_494c8105414f42699ab02b0c25ed2c74",
            "_model_module": "@jupyter-widgets/output"
          }
        },
        "494c8105414f42699ab02b0c25ed2c74": {
          "model_module": "@jupyter-widgets/base",
          "model_name": "LayoutModel",
          "state": {
            "_view_name": "LayoutView",
            "grid_template_rows": null,
            "right": null,
            "justify_content": null,
            "_view_module": "@jupyter-widgets/base",
            "overflow": null,
            "_model_module_version": "1.2.0",
            "_view_count": null,
            "flex_flow": null,
            "width": null,
            "min_width": null,
            "border": null,
            "align_items": null,
            "bottom": null,
            "_model_module": "@jupyter-widgets/base",
            "top": null,
            "grid_column": null,
            "overflow_y": null,
            "overflow_x": null,
            "grid_auto_flow": null,
            "grid_area": null,
            "grid_template_columns": null,
            "flex": null,
            "_model_name": "LayoutModel",
            "justify_items": null,
            "grid_row": null,
            "max_height": null,
            "align_content": null,
            "visibility": null,
            "align_self": null,
            "height": null,
            "min_height": null,
            "padding": null,
            "grid_auto_rows": null,
            "grid_gap": null,
            "max_width": null,
            "order": null,
            "_view_module_version": "1.2.0",
            "grid_template_areas": null,
            "object_position": null,
            "object_fit": null,
            "grid_auto_columns": null,
            "margin": null,
            "display": null,
            "left": null
          }
        },
        "e9543d2043f7412cb7dffd540bec694b": {
          "model_module": "@jupyter-widgets/controls",
          "model_name": "TabModel",
          "state": {
            "_view_name": "TabView",
            "_dom_classes": [],
            "_titles": {
              "0": "Youtube",
              "1": "Bilibili"
            },
            "_model_name": "TabModel",
            "_view_module": "@jupyter-widgets/controls",
            "selected_index": 0,
            "_model_module_version": "1.5.0",
            "_view_count": null,
            "_view_module_version": "1.5.0",
            "box_style": "",
            "layout": "IPY_MODEL_e80022cfbb144ff3ab89a9253ab07c9a",
            "_model_module": "@jupyter-widgets/controls",
            "children": [
              "IPY_MODEL_8dbf92957f6548bc83ff3a3e34f2845f",
              "IPY_MODEL_eaca59ad19ef480ca6dceec4b665f203"
            ]
          }
        },
        "e80022cfbb144ff3ab89a9253ab07c9a": {
          "model_module": "@jupyter-widgets/base",
          "model_name": "LayoutModel",
          "state": {
            "_view_name": "LayoutView",
            "grid_template_rows": null,
            "right": null,
            "justify_content": null,
            "_view_module": "@jupyter-widgets/base",
            "overflow": null,
            "_model_module_version": "1.2.0",
            "_view_count": null,
            "flex_flow": null,
            "width": null,
            "min_width": null,
            "border": null,
            "align_items": null,
            "bottom": null,
            "_model_module": "@jupyter-widgets/base",
            "top": null,
            "grid_column": null,
            "overflow_y": null,
            "overflow_x": null,
            "grid_auto_flow": null,
            "grid_area": null,
            "grid_template_columns": null,
            "flex": null,
            "_model_name": "LayoutModel",
            "justify_items": null,
            "grid_row": null,
            "max_height": null,
            "align_content": null,
            "visibility": null,
            "align_self": null,
            "height": null,
            "min_height": null,
            "padding": null,
            "grid_auto_rows": null,
            "grid_gap": null,
            "max_width": null,
            "order": null,
            "_view_module_version": "1.2.0",
            "grid_template_areas": null,
            "object_position": null,
            "object_fit": null,
            "grid_auto_columns": null,
            "margin": null,
            "display": null,
            "left": null
          }
        },
        "8dbf92957f6548bc83ff3a3e34f2845f": {
          "model_module": "@jupyter-widgets/output",
          "model_name": "OutputModel",
          "state": {
            "_view_name": "OutputView",
            "msg_id": "",
            "_dom_classes": [],
            "_model_name": "OutputModel",
            "outputs": [
              {
                "output_type": "stream",
                "metadata": {
                  "tags": []
                },
                "text": "Video available at https://youtube.com/watch?v=YPQgLVolvBs\n",
                "stream": "stdout"
              },
              {
                "output_type": "display_data",
                "metadata": {
                  "tags": []
                },
                "text/html": "\n        <iframe\n            width=\"854\"\n            height=\"480\"\n            src=\"https://www.youtube.com/embed/YPQgLVolvBs?fs=1&rel=0\"\n            frameborder=\"0\"\n            allowfullscreen\n        ></iframe>\n        ",
                "text/plain": "<IPython.lib.display.YouTubeVideo at 0x7f47705c6710>",
                "image/jpeg": "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\n"
              }
            ],
            "_view_module": "@jupyter-widgets/output",
            "_model_module_version": "1.0.0",
            "_view_count": null,
            "_view_module_version": "1.0.0",
            "layout": "IPY_MODEL_fac050e128334e769deb7cc1c85e1bcd",
            "_model_module": "@jupyter-widgets/output"
          }
        },
        "eaca59ad19ef480ca6dceec4b665f203": {
          "model_module": "@jupyter-widgets/output",
          "model_name": "OutputModel",
          "state": {
            "_view_name": "OutputView",
            "msg_id": "",
            "_dom_classes": [],
            "_model_name": "OutputModel",
            "outputs": [
              {
                "output_type": "stream",
                "metadata": {
                  "tags": []
                },
                "text": "Video available at https://www.bilibili.com/video/BV1TU4y1G7SM\n",
                "stream": "stdout"
              },
              {
                "output_type": "display_data",
                "metadata": {
                  "tags": []
                },
                "text/html": "\n        <iframe\n            width=\"854\"\n            height=\"480\"\n            src=\"https://player.bilibili.com/player.html?bvid=BV1TU4y1G7SM&page=1?fs=1\"\n            frameborder=\"0\"\n            allowfullscreen\n        ></iframe>\n        ",
                "text/plain": "<__main__.BiliVideo at 0x7f4770afa150>"
              }
            ],
            "_view_module": "@jupyter-widgets/output",
            "_model_module_version": "1.0.0",
            "_view_count": null,
            "_view_module_version": "1.0.0",
            "layout": "IPY_MODEL_74c42c781e644091a21644d13e19af0b",
            "_model_module": "@jupyter-widgets/output"
          }
        },
        "fac050e128334e769deb7cc1c85e1bcd": {
          "model_module": "@jupyter-widgets/base",
          "model_name": "LayoutModel",
          "state": {
            "_view_name": "LayoutView",
            "grid_template_rows": null,
            "right": null,
            "justify_content": null,
            "_view_module": "@jupyter-widgets/base",
            "overflow": null,
            "_model_module_version": "1.2.0",
            "_view_count": null,
            "flex_flow": null,
            "width": null,
            "min_width": null,
            "border": null,
            "align_items": null,
            "bottom": null,
            "_model_module": "@jupyter-widgets/base",
            "top": null,
            "grid_column": null,
            "overflow_y": null,
            "overflow_x": null,
            "grid_auto_flow": null,
            "grid_area": null,
            "grid_template_columns": null,
            "flex": null,
            "_model_name": "LayoutModel",
            "justify_items": null,
            "grid_row": null,
            "max_height": null,
            "align_content": null,
            "visibility": null,
            "align_self": null,
            "height": null,
            "min_height": null,
            "padding": null,
            "grid_auto_rows": null,
            "grid_gap": null,
            "max_width": null,
            "order": null,
            "_view_module_version": "1.2.0",
            "grid_template_areas": null,
            "object_position": null,
            "object_fit": null,
            "grid_auto_columns": null,
            "margin": null,
            "display": null,
            "left": null
          }
        },
        "74c42c781e644091a21644d13e19af0b": {
          "model_module": "@jupyter-widgets/base",
          "model_name": "LayoutModel",
          "state": {
            "_view_name": "LayoutView",
            "grid_template_rows": null,
            "right": null,
            "justify_content": null,
            "_view_module": "@jupyter-widgets/base",
            "overflow": null,
            "_model_module_version": "1.2.0",
            "_view_count": null,
            "flex_flow": null,
            "width": null,
            "min_width": null,
            "border": null,
            "align_items": null,
            "bottom": null,
            "_model_module": "@jupyter-widgets/base",
            "top": null,
            "grid_column": null,
            "overflow_y": null,
            "overflow_x": null,
            "grid_auto_flow": null,
            "grid_area": null,
            "grid_template_columns": null,
            "flex": null,
            "_model_name": "LayoutModel",
            "justify_items": null,
            "grid_row": null,
            "max_height": null,
            "align_content": null,
            "visibility": null,
            "align_self": null,
            "height": null,
            "min_height": null,
            "padding": null,
            "grid_auto_rows": null,
            "grid_gap": null,
            "max_width": null,
            "order": null,
            "_view_module_version": "1.2.0",
            "grid_template_areas": null,
            "object_position": null,
            "object_fit": null,
            "grid_auto_columns": null,
            "margin": null,
            "display": null,
            "left": null
          }
        },
        "d70976d7986e467dba1dfd2707c16477": {
          "model_module": "@jupyter-widgets/controls",
          "model_name": "TabModel",
          "state": {
            "_view_name": "TabView",
            "_dom_classes": [],
            "_titles": {
              "0": "Youtube",
              "1": "Bilibili"
            },
            "_model_name": "TabModel",
            "_view_module": "@jupyter-widgets/controls",
            "selected_index": 0,
            "_model_module_version": "1.5.0",
            "_view_count": null,
            "_view_module_version": "1.5.0",
            "box_style": "",
            "layout": "IPY_MODEL_63bbb99d99304f77aa1805b821de0e34",
            "_model_module": "@jupyter-widgets/controls",
            "children": [
              "IPY_MODEL_9b00bfce259147348e522b5c5b2bb666",
              "IPY_MODEL_41395a89bed04c5f9c2f434de60bccac"
            ]
          }
        },
        "63bbb99d99304f77aa1805b821de0e34": {
          "model_module": "@jupyter-widgets/base",
          "model_name": "LayoutModel",
          "state": {
            "_view_name": "LayoutView",
            "grid_template_rows": null,
            "right": null,
            "justify_content": null,
            "_view_module": "@jupyter-widgets/base",
            "overflow": null,
            "_model_module_version": "1.2.0",
            "_view_count": null,
            "flex_flow": null,
            "width": null,
            "min_width": null,
            "border": null,
            "align_items": null,
            "bottom": null,
            "_model_module": "@jupyter-widgets/base",
            "top": null,
            "grid_column": null,
            "overflow_y": null,
            "overflow_x": null,
            "grid_auto_flow": null,
            "grid_area": null,
            "grid_template_columns": null,
            "flex": null,
            "_model_name": "LayoutModel",
            "justify_items": null,
            "grid_row": null,
            "max_height": null,
            "align_content": null,
            "visibility": null,
            "align_self": null,
            "height": null,
            "min_height": null,
            "padding": null,
            "grid_auto_rows": null,
            "grid_gap": null,
            "max_width": null,
            "order": null,
            "_view_module_version": "1.2.0",
            "grid_template_areas": null,
            "object_position": null,
            "object_fit": null,
            "grid_auto_columns": null,
            "margin": null,
            "display": null,
            "left": null
          }
        },
        "9b00bfce259147348e522b5c5b2bb666": {
          "model_module": "@jupyter-widgets/output",
          "model_name": "OutputModel",
          "state": {
            "_view_name": "OutputView",
            "msg_id": "",
            "_dom_classes": [],
            "_model_name": "OutputModel",
            "outputs": [
              {
                "output_type": "stream",
                "metadata": {
                  "tags": []
                },
                "text": "Video available at https://youtube.com/watch?v=tz9zsmTHR68\n",
                "stream": "stdout"
              },
              {
                "output_type": "display_data",
                "metadata": {
                  "tags": []
                },
                "text/html": "\n        <iframe\n            width=\"854\"\n            height=\"480\"\n            src=\"https://www.youtube.com/embed/tz9zsmTHR68?fs=1&rel=0\"\n            frameborder=\"0\"\n            allowfullscreen\n        ></iframe>\n        ",
                "text/plain": "<IPython.lib.display.YouTubeVideo at 0x7f47705c6710>",
                "image/jpeg": "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\n"
              }
            ],
            "_view_module": "@jupyter-widgets/output",
            "_model_module_version": "1.0.0",
            "_view_count": null,
            "_view_module_version": "1.0.0",
            "layout": "IPY_MODEL_d8696ad64c2c4edc858086afd1bac90f",
            "_model_module": "@jupyter-widgets/output"
          }
        },
        "41395a89bed04c5f9c2f434de60bccac": {
          "model_module": "@jupyter-widgets/output",
          "model_name": "OutputModel",
          "state": {
            "_view_name": "OutputView",
            "msg_id": "",
            "_dom_classes": [],
            "_model_name": "OutputModel",
            "outputs": [
              {
                "output_type": "stream",
                "metadata": {
                  "tags": []
                },
                "text": "Video available at https://www.bilibili.com/video/BV1954y1n7uH\n",
                "stream": "stdout"
              },
              {
                "output_type": "display_data",
                "metadata": {
                  "tags": []
                },
                "text/html": "\n        <iframe\n            width=\"854\"\n            height=\"480\"\n            src=\"https://player.bilibili.com/player.html?bvid=BV1954y1n7uH&page=1?fs=1\"\n            frameborder=\"0\"\n            allowfullscreen\n        ></iframe>\n        ",
                "text/plain": "<__main__.BiliVideo at 0x7f47703dccd0>"
              }
            ],
            "_view_module": "@jupyter-widgets/output",
            "_model_module_version": "1.0.0",
            "_view_count": null,
            "_view_module_version": "1.0.0",
            "layout": "IPY_MODEL_4c58b6324fae4718926e6019889e8452",
            "_model_module": "@jupyter-widgets/output"
          }
        },
        "d8696ad64c2c4edc858086afd1bac90f": {
          "model_module": "@jupyter-widgets/base",
          "model_name": "LayoutModel",
          "state": {
            "_view_name": "LayoutView",
            "grid_template_rows": null,
            "right": null,
            "justify_content": null,
            "_view_module": "@jupyter-widgets/base",
            "overflow": null,
            "_model_module_version": "1.2.0",
            "_view_count": null,
            "flex_flow": null,
            "width": null,
            "min_width": null,
            "border": null,
            "align_items": null,
            "bottom": null,
            "_model_module": "@jupyter-widgets/base",
            "top": null,
            "grid_column": null,
            "overflow_y": null,
            "overflow_x": null,
            "grid_auto_flow": null,
            "grid_area": null,
            "grid_template_columns": null,
            "flex": null,
            "_model_name": "LayoutModel",
            "justify_items": null,
            "grid_row": null,
            "max_height": null,
            "align_content": null,
            "visibility": null,
            "align_self": null,
            "height": null,
            "min_height": null,
            "padding": null,
            "grid_auto_rows": null,
            "grid_gap": null,
            "max_width": null,
            "order": null,
            "_view_module_version": "1.2.0",
            "grid_template_areas": null,
            "object_position": null,
            "object_fit": null,
            "grid_auto_columns": null,
            "margin": null,
            "display": null,
            "left": null
          }
        },
        "4c58b6324fae4718926e6019889e8452": {
          "model_module": "@jupyter-widgets/base",
          "model_name": "LayoutModel",
          "state": {
            "_view_name": "LayoutView",
            "grid_template_rows": null,
            "right": null,
            "justify_content": null,
            "_view_module": "@jupyter-widgets/base",
            "overflow": null,
            "_model_module_version": "1.2.0",
            "_view_count": null,
            "flex_flow": null,
            "width": null,
            "min_width": null,
            "border": null,
            "align_items": null,
            "bottom": null,
            "_model_module": "@jupyter-widgets/base",
            "top": null,
            "grid_column": null,
            "overflow_y": null,
            "overflow_x": null,
            "grid_auto_flow": null,
            "grid_area": null,
            "grid_template_columns": null,
            "flex": null,
            "_model_name": "LayoutModel",
            "justify_items": null,
            "grid_row": null,
            "max_height": null,
            "align_content": null,
            "visibility": null,
            "align_self": null,
            "height": null,
            "min_height": null,
            "padding": null,
            "grid_auto_rows": null,
            "grid_gap": null,
            "max_width": null,
            "order": null,
            "_view_module_version": "1.2.0",
            "grid_template_areas": null,
            "object_position": null,
            "object_fit": null,
            "grid_auto_columns": null,
            "margin": null,
            "display": null,
            "left": null
          }
        },
        "945965f312ee468ab2f6831adcdd09dd": {
          "model_module": "@jupyter-widgets/controls",
          "model_name": "VBoxModel",
          "state": {
            "_view_name": "VBoxView",
            "_dom_classes": [],
            "_model_name": "VBoxModel",
            "_view_module": "@jupyter-widgets/controls",
            "_model_module_version": "1.5.0",
            "_view_count": null,
            "_view_module_version": "1.5.0",
            "box_style": "",
            "layout": "IPY_MODEL_24487081beb94f18bf67a3f46eb45920",
            "_model_module": "@jupyter-widgets/controls",
            "children": [
              "IPY_MODEL_46757e17d0314475baec1869fc3595b4",
              "IPY_MODEL_6fadd2a6772d4285a70a5fde509aa144",
              "IPY_MODEL_b9073f2bcd9641c4963d2ff5a052488c"
            ]
          }
        },
        "24487081beb94f18bf67a3f46eb45920": {
          "model_module": "@jupyter-widgets/base",
          "model_name": "LayoutModel",
          "state": {
            "_view_name": "LayoutView",
            "grid_template_rows": null,
            "right": null,
            "justify_content": null,
            "_view_module": "@jupyter-widgets/base",
            "overflow": null,
            "_model_module_version": "1.2.0",
            "_view_count": null,
            "flex_flow": null,
            "width": null,
            "min_width": null,
            "border": null,
            "align_items": null,
            "bottom": null,
            "_model_module": "@jupyter-widgets/base",
            "top": null,
            "grid_column": null,
            "overflow_y": null,
            "overflow_x": null,
            "grid_auto_flow": null,
            "grid_area": null,
            "grid_template_columns": null,
            "flex": null,
            "_model_name": "LayoutModel",
            "justify_items": null,
            "grid_row": null,
            "max_height": null,
            "align_content": null,
            "visibility": null,
            "align_self": null,
            "height": null,
            "min_height": null,
            "padding": null,
            "grid_auto_rows": null,
            "grid_gap": null,
            "max_width": null,
            "order": null,
            "_view_module_version": "1.2.0",
            "grid_template_areas": null,
            "object_position": null,
            "object_fit": null,
            "grid_auto_columns": null,
            "margin": null,
            "display": null,
            "left": null
          }
        },
        "46757e17d0314475baec1869fc3595b4": {
          "model_module": "@jupyter-widgets/controls",
          "model_name": "FloatSliderModel",
          "state": {
            "_view_name": "FloatSliderView",
            "style": "IPY_MODEL_03940a7d813f409ab7e586a152b7c412",
            "_dom_classes": [],
            "description": "p(s = left)",
            "step": 0.01,
            "_model_name": "FloatSliderModel",
            "orientation": "horizontal",
            "max": 0.99,
            "_view_module": "@jupyter-widgets/controls",
            "_model_module_version": "1.5.0",
            "value": 0.3,
            "_view_count": null,
            "disabled": false,
            "_view_module_version": "1.5.0",
            "min": 0.01,
            "continuous_update": true,
            "readout_format": ".2f",
            "description_tooltip": null,
            "readout": true,
            "_model_module": "@jupyter-widgets/controls",
            "layout": "IPY_MODEL_bb05a785ac6e4954be2eac2839ee1abd"
          }
        },
        "6fadd2a6772d4285a70a5fde509aa144": {
          "model_module": "@jupyter-widgets/controls",
          "model_name": "HBoxModel",
          "state": {
            "_view_name": "HBoxView",
            "_dom_classes": [],
            "_model_name": "HBoxModel",
            "_view_module": "@jupyter-widgets/controls",
            "_model_module_version": "1.5.0",
            "_view_count": null,
            "_view_module_version": "1.5.0",
            "box_style": "",
            "layout": "IPY_MODEL_8091cd0bd2634f2588e85a52cfa4ed96",
            "_model_module": "@jupyter-widgets/controls",
            "children": [
              "IPY_MODEL_4241a01fd4674a9d8c4ba63049e40d93",
              "IPY_MODEL_16010449fae849b3ba80663495b9b50d"
            ]
          }
        },
        "b9073f2bcd9641c4963d2ff5a052488c": {
          "model_module": "@jupyter-widgets/controls",
          "model_name": "ToggleButtonsModel",
          "state": {
            "_options_labels": [
              "Fish",
              "No Fish"
            ],
            "_view_name": "ToggleButtonsView",
            "style": "IPY_MODEL_65a62fcf145a4fe68272cf7eea2e5790",
            "_dom_classes": [],
            "description": "Observation (m) on the left:",
            "_model_name": "ToggleButtonsModel",
            "tooltips": [],
            "index": 0,
            "button_style": "",
            "_view_module": "@jupyter-widgets/controls",
            "_model_module_version": "1.5.0",
            "_view_count": null,
            "disabled": false,
            "_view_module_version": "1.5.0",
            "icons": [],
            "description_tooltip": null,
            "_model_module": "@jupyter-widgets/controls",
            "layout": "IPY_MODEL_eb85db2a968e4d4599068e1712bae845"
          }
        },
        "03940a7d813f409ab7e586a152b7c412": {
          "model_module": "@jupyter-widgets/controls",
          "model_name": "SliderStyleModel",
          "state": {
            "_view_name": "StyleView",
            "handle_color": null,
            "_model_name": "SliderStyleModel",
            "description_width": "",
            "_view_module": "@jupyter-widgets/base",
            "_model_module_version": "1.5.0",
            "_view_count": null,
            "_view_module_version": "1.2.0",
            "_model_module": "@jupyter-widgets/controls"
          }
        },
        "bb05a785ac6e4954be2eac2839ee1abd": {
          "model_module": "@jupyter-widgets/base",
          "model_name": "LayoutModel",
          "state": {
            "_view_name": "LayoutView",
            "grid_template_rows": null,
            "right": null,
            "justify_content": null,
            "_view_module": "@jupyter-widgets/base",
            "overflow": null,
            "_model_module_version": "1.2.0",
            "_view_count": null,
            "flex_flow": null,
            "width": "300px",
            "min_width": null,
            "border": null,
            "align_items": null,
            "bottom": null,
            "_model_module": "@jupyter-widgets/base",
            "top": null,
            "grid_column": null,
            "overflow_y": null,
            "overflow_x": null,
            "grid_auto_flow": null,
            "grid_area": null,
            "grid_template_columns": null,
            "flex": null,
            "_model_name": "LayoutModel",
            "justify_items": null,
            "grid_row": null,
            "max_height": null,
            "align_content": null,
            "visibility": null,
            "align_self": null,
            "height": null,
            "min_height": null,
            "padding": null,
            "grid_auto_rows": null,
            "grid_gap": null,
            "max_width": null,
            "order": null,
            "_view_module_version": "1.2.0",
            "grid_template_areas": null,
            "object_position": null,
            "object_fit": null,
            "grid_auto_columns": null,
            "margin": null,
            "display": null,
            "left": null
          }
        },
        "8091cd0bd2634f2588e85a52cfa4ed96": {
          "model_module": "@jupyter-widgets/base",
          "model_name": "LayoutModel",
          "state": {
            "_view_name": "LayoutView",
            "grid_template_rows": null,
            "right": null,
            "justify_content": null,
            "_view_module": "@jupyter-widgets/base",
            "overflow": null,
            "_model_module_version": "1.2.0",
            "_view_count": null,
            "flex_flow": null,
            "width": null,
            "min_width": null,
            "border": null,
            "align_items": null,
            "bottom": null,
            "_model_module": "@jupyter-widgets/base",
            "top": null,
            "grid_column": null,
            "overflow_y": null,
            "overflow_x": null,
            "grid_auto_flow": null,
            "grid_area": null,
            "grid_template_columns": null,
            "flex": null,
            "_model_name": "LayoutModel",
            "justify_items": null,
            "grid_row": null,
            "max_height": null,
            "align_content": null,
            "visibility": null,
            "align_self": null,
            "height": null,
            "min_height": null,
            "padding": null,
            "grid_auto_rows": null,
            "grid_gap": null,
            "max_width": null,
            "order": null,
            "_view_module_version": "1.2.0",
            "grid_template_areas": null,
            "object_position": null,
            "object_fit": null,
            "grid_auto_columns": null,
            "margin": null,
            "display": null,
            "left": null
          }
        },
        "4241a01fd4674a9d8c4ba63049e40d93": {
          "model_module": "@jupyter-widgets/controls",
          "model_name": "FloatSliderModel",
          "state": {
            "_view_name": "FloatSliderView",
            "style": "IPY_MODEL_5fe144056467410293d87574b633ea37",
            "_dom_classes": [],
            "description": "p(fish on left | state = left)",
            "step": 0.01,
            "_model_name": "FloatSliderModel",
            "orientation": "horizontal",
            "max": 0.99,
            "_view_module": "@jupyter-widgets/controls",
            "_model_module_version": "1.5.0",
            "value": 0.5,
            "_view_count": null,
            "disabled": false,
            "_view_module_version": "1.5.0",
            "min": 0.01,
            "continuous_update": true,
            "readout_format": ".2f",
            "description_tooltip": null,
            "readout": true,
            "_model_module": "@jupyter-widgets/controls",
            "layout": "IPY_MODEL_65019a0f36fa4d669db273a73818758c"
          }
        },
        "16010449fae849b3ba80663495b9b50d": {
          "model_module": "@jupyter-widgets/controls",
          "model_name": "FloatSliderModel",
          "state": {
            "_view_name": "FloatSliderView",
            "style": "IPY_MODEL_a5a12988a5f9420894657d8f8348ccdf",
            "_dom_classes": [],
            "description": "p(fish on left | state = right)",
            "step": 0.01,
            "_model_name": "FloatSliderModel",
            "orientation": "horizontal",
            "max": 0.99,
            "_view_module": "@jupyter-widgets/controls",
            "_model_module_version": "1.5.0",
            "value": 0.1,
            "_view_count": null,
            "disabled": false,
            "_view_module_version": "1.5.0",
            "min": 0.01,
            "continuous_update": true,
            "readout_format": ".2f",
            "description_tooltip": null,
            "readout": true,
            "_model_module": "@jupyter-widgets/controls",
            "layout": "IPY_MODEL_89df20afeabf44c785ef208c42495589"
          }
        },
        "65a62fcf145a4fe68272cf7eea2e5790": {
          "model_module": "@jupyter-widgets/controls",
          "model_name": "ToggleButtonsStyleModel",
          "state": {
            "_view_name": "StyleView",
            "button_width": "",
            "_model_name": "ToggleButtonsStyleModel",
            "description_width": "initial",
            "_view_module": "@jupyter-widgets/base",
            "_model_module_version": "1.5.0",
            "_view_count": null,
            "font_weight": "",
            "_view_module_version": "1.2.0",
            "_model_module": "@jupyter-widgets/controls"
          }
        },
        "eb85db2a968e4d4599068e1712bae845": {
          "model_module": "@jupyter-widgets/base",
          "model_name": "LayoutModel",
          "state": {
            "_view_name": "LayoutView",
            "grid_template_rows": null,
            "right": null,
            "justify_content": null,
            "_view_module": "@jupyter-widgets/base",
            "overflow": null,
            "_model_module_version": "1.2.0",
            "_view_count": null,
            "flex_flow": null,
            "width": "auto",
            "min_width": null,
            "border": null,
            "align_items": null,
            "bottom": null,
            "_model_module": "@jupyter-widgets/base",
            "top": null,
            "grid_column": null,
            "overflow_y": null,
            "overflow_x": null,
            "grid_auto_flow": null,
            "grid_area": null,
            "grid_template_columns": null,
            "flex": null,
            "_model_name": "LayoutModel",
            "justify_items": null,
            "grid_row": null,
            "max_height": null,
            "align_content": null,
            "visibility": null,
            "align_self": null,
            "height": null,
            "min_height": null,
            "padding": null,
            "grid_auto_rows": null,
            "grid_gap": null,
            "max_width": null,
            "order": null,
            "_view_module_version": "1.2.0",
            "grid_template_areas": null,
            "object_position": null,
            "object_fit": null,
            "grid_auto_columns": null,
            "margin": null,
            "display": "flex",
            "left": null
          }
        },
        "5fe144056467410293d87574b633ea37": {
          "model_module": "@jupyter-widgets/controls",
          "model_name": "SliderStyleModel",
          "state": {
            "_view_name": "StyleView",
            "handle_color": null,
            "_model_name": "SliderStyleModel",
            "description_width": "initial",
            "_view_module": "@jupyter-widgets/base",
            "_model_module_version": "1.5.0",
            "_view_count": null,
            "_view_module_version": "1.2.0",
            "_model_module": "@jupyter-widgets/controls"
          }
        },
        "65019a0f36fa4d669db273a73818758c": {
          "model_module": "@jupyter-widgets/base",
          "model_name": "LayoutModel",
          "state": {
            "_view_name": "LayoutView",
            "grid_template_rows": null,
            "right": null,
            "justify_content": null,
            "_view_module": "@jupyter-widgets/base",
            "overflow": null,
            "_model_module_version": "1.2.0",
            "_view_count": null,
            "flex_flow": null,
            "width": "370px",
            "min_width": null,
            "border": null,
            "align_items": null,
            "bottom": null,
            "_model_module": "@jupyter-widgets/base",
            "top": null,
            "grid_column": null,
            "overflow_y": null,
            "overflow_x": null,
            "grid_auto_flow": null,
            "grid_area": null,
            "grid_template_columns": null,
            "flex": null,
            "_model_name": "LayoutModel",
            "justify_items": null,
            "grid_row": null,
            "max_height": null,
            "align_content": null,
            "visibility": null,
            "align_self": null,
            "height": null,
            "min_height": null,
            "padding": null,
            "grid_auto_rows": null,
            "grid_gap": null,
            "max_width": null,
            "order": null,
            "_view_module_version": "1.2.0",
            "grid_template_areas": null,
            "object_position": null,
            "object_fit": null,
            "grid_auto_columns": null,
            "margin": null,
            "display": null,
            "left": null
          }
        },
        "a5a12988a5f9420894657d8f8348ccdf": {
          "model_module": "@jupyter-widgets/controls",
          "model_name": "SliderStyleModel",
          "state": {
            "_view_name": "StyleView",
            "handle_color": null,
            "_model_name": "SliderStyleModel",
            "description_width": "initial",
            "_view_module": "@jupyter-widgets/base",
            "_model_module_version": "1.5.0",
            "_view_count": null,
            "_view_module_version": "1.2.0",
            "_model_module": "@jupyter-widgets/controls"
          }
        },
        "89df20afeabf44c785ef208c42495589": {
          "model_module": "@jupyter-widgets/base",
          "model_name": "LayoutModel",
          "state": {
            "_view_name": "LayoutView",
            "grid_template_rows": null,
            "right": null,
            "justify_content": null,
            "_view_module": "@jupyter-widgets/base",
            "overflow": null,
            "_model_module_version": "1.2.0",
            "_view_count": null,
            "flex_flow": null,
            "width": "370px",
            "min_width": null,
            "border": null,
            "align_items": null,
            "bottom": null,
            "_model_module": "@jupyter-widgets/base",
            "top": null,
            "grid_column": null,
            "overflow_y": null,
            "overflow_x": null,
            "grid_auto_flow": null,
            "grid_area": null,
            "grid_template_columns": null,
            "flex": null,
            "_model_name": "LayoutModel",
            "justify_items": null,
            "grid_row": null,
            "max_height": null,
            "align_content": null,
            "visibility": null,
            "align_self": null,
            "height": null,
            "min_height": null,
            "padding": null,
            "grid_auto_rows": null,
            "grid_gap": null,
            "max_width": null,
            "order": null,
            "_view_module_version": "1.2.0",
            "grid_template_areas": null,
            "object_position": null,
            "object_fit": null,
            "grid_auto_columns": null,
            "margin": null,
            "display": null,
            "left": null
          }
        },
        "5a310e15954943cc82073afab06c21bd": {
          "model_module": "@jupyter-widgets/output",
          "model_name": "OutputModel",
          "state": {
            "_view_name": "OutputView",
            "msg_id": "",
            "_dom_classes": [],
            "_model_name": "OutputModel",
            "outputs": [
              {
                "output_type": "display_data",
                "metadata": {
                  "tags": [],
                  "image/png": {
                    "width": 648,
                    "height": 549
                  },
                  "needs_background": "light"
                },
                "image/png": "iVBORw0KGgoAAAANSUhEUgAABREAAARKCAYAAADYPDefAAAABHNCSVQICAgIfAhkiAAAAAlwSFlzAAAWJQAAFiUBSVIk8AAAADh0RVh0U29mdHdhcmUAbWF0cGxvdGxpYiB2ZXJzaW9uMy4yLjIsIGh0dHA6Ly9tYXRwbG90bGliLm9yZy+WH4yJAAAgAElEQVR4nOzde7xc873/8fcn2YnIXW6CJFKJlFCUUFUl7qHauNWtRVzqWqWqB6fOKS09fvSmWhpFQ3sUKaFuiRL3QwkqRZQgJCRyl/tl73x+f3zX7Fkze2bN2nvP7Nl75/V8PNZjr1nzXd/1nTVr9sz3s74Xc3cBAAAAAAAAQDEdql0AAAAAAAAAAK0bQUQAAAAAAAAAiQgiAgAAAAAAAEhEEBEAAAAAAABAIoKIAAAAAAAAABIRRAQAAAAAAACQiCAiAAAAAAAAgEQEEQEAAAAAAAAkIogIAAAAAAAAIBFBRAAAAAAAAACJCCICAAAAAAAASEQQEQAAAAAAAEAigogAAAAAAAAAEhFEBAAAAAAAAJCIICIAAGiVzGyCmXm0TEhI91Qs3RUtV8LGMbNZsXKOK0M6jy2jK1DkdsvMhuadv6HVLlNjmdluZlYXlf/OapenEvLep1nVLk8hZjbczNZFZXy02uUBAKCSCCICAICyMLMr4oGZapcHaK/MzCT9TuG3/DpJP6puiTZe7j5T0s3RwzFmNraa5QEAoJIIIgIAAABty4mSvhSt/9HdP6hmYaCrJa2N1n9uZjXVLAwAAJVCEBEAAABoI6IA1ZXRwzpJ11axOJDk7nMlTYgeDpd0avVKAwBA5RBEBAAArZK7j3N3i5Zx1S5PS3H3obHXPaHa5UGrc6KkYdH639z9/WoWBvWuj63/p5l1rFpJAACoEIKIAAAAQNtxUWx9fNVKgRzuPkPSc9HDoZKOrF5pAACoDIKIAAAAQBtgZl+RtHP0cJ6kv1exOGjo9tj6uVUrBQAAFUIQEQAAtEpmNiE22/OEMuZ7rpnVxfK+38w2LZK2xsyOM7M7zOxtM1tsZmvN7GMze8LMfmhmfcpVtuiYs2JlG9fIfWvM7Jtm9qCZfWBma8xsoZm9aGaXm1mvJpRnJzO7xsymmdmnZrbOzOab2Stmdq2ZfbGxeVYqXwuONbMHzOyj6PV/YmbPmdmF5X6vChy/wXtnZp3M7Hgzeyj2nnxqZs9GZerWiEOcElu/1903pCiTx5bR0bYuZjbOzB6LztNaM1sUPf5mkXz6RzOwv2xmy6J9PjSzP5nZbo14Da2KmR1sZrea2XQzW2JmtWa2OnqPXjaz283sLDPbPEV29yuMUylJo81sSAWLDgBAi2PmMAAAsNEws6sl/Wds03hJ57l7XYG0h0i6QdK2BbLaMlr2Vxj/7AfuflsFipyamW0t6S+Svpz31CaS+irM5nu+mX3N3aelyK+bpN9KOlkNbzz3j5ZdJV1sZn+WdK67r6hivlspvP6v5j21RbR8RdJ/mNnxkj4qlV85mNlgSfdI2jPvqQHRsrekC8zsW+7+fyXy6iDpqNimR5pYpu2iMn0h76k+kg6SdJCZ/UnSuEyQ0syOkXSrpJ55+wyR9G1JJ0afgV83pUzVEAUF75a0b4GnO0rqovAejVK4Vn8aPS7K3Rea2UsKn0GT9E1JvyhjsQEAqCpaIgIAgHYvaqE3QbkBxB+7+9lFAojnSHpYuQHERZJelPSkpHdj23tLutXMflT2gqc3QNIzygYQP4oevyBpZV66KWY2MCkzM+staaqkccr9vThD0lOS3pTkmeSSTpL0pJltVqV8N4/yjQcQ6yS9HuU7M9q2haTJahhAq4Tukh5XNoA4T9Kzkl5S7nsyVOE9yQ/+5ttTIRgshdf2bBPKtIXC9Zt5/f+OHr8mKd6q8SRFsz6b2bEKwbaekmqjtFOV+xnoIOlXZnZ4E8rU4sxsE0lPKDeAuF7SGwrn40lJ/1Tu+5S23vRkbP1rzSgmAACtDkFEAADQrkUt3x5UtitonaTvuPtPiqQ/VNLvFFojSWGyhH0k9Xf3L7v7/u4+QtIISQ/Fdv2pmR1cideQwu8UWoU9LWlXd9/a3fd1970k9ZN0dSxtH4VWVUl+L2mP2OO/SdrG3Ue6+37uvqNC8OveWJpRkm6uUr63KLwfGRMkDXL3XaJ8t5W0k0JQdVOFVnWV9t9RmWZLOlzSlu6+j7t/SSGYe4mkdVHa7pLuMrMeCfntF1uf4e7Lm1CmGyQNVPg8bOvu20XX866SPicp3hryfDPbV9IfFQK6/0/hM7Crux8QfQa+Kml+bJ9fmZk1oVwt7WxJO0Tr6xXei77u/oXofOzv7l+U1EPSLpKulPRJyrz/EVv/ipl1LlehAQCoNoKIAACg3TKzAQot0cZEm1ZJOtLdbymSvrvC5AiZQMgdkka7+7Pu7vG07v6upG9I+t/M7pJ+WdYXkF4/hcDQge7+WvwJd1/j7pcrN3B2vBUfB/JgScfFNt0p6Qh3/yAv348UumveEdt8jJkVbH1VwXwPUwjSZdzg7qe6+7y8fP8l6QCFQGL/QnmVWX+FANs+7v5w/Ppx91Xufq1Ci7+MIcptKZtv99j69CaWqa/CeR/r7jPjT0Tnfaykz6JNnSU9JqmrpHPc/VJ3X5q3z3PKfQ3D1bA7eWv09dj6de5+baGgrAevu/sVktKO0fl6bL2zshPhAADQ5hFEBAAA7ZKZDVdoWTUq2rRI0gHu/mDCbmcoG2B6T9KZhbo7Z0SBoXMlZYIrO5jZ/s0qeNMsVxjDrjYhzbWx9e4qHhS5ILb+qUIAyQsljLafp9xWWhe2cL7nxdY/lPQfRdLJ3VdLOk2hW25LuMTdZyWU5x7ltro8I6Hl2sjY+swiaUpZquTzvlBhvMSMzpKmuvv4Yhm6+2N55dm7iWVrSYNj66m6hSf9H8jzkULrxowd0xYKAIDWjiAiAABod8xsd4UA4rBo04eS9nb3F0vsOi62/ht3X1vqWO6+TNKk2KYDG1HUcrnL3RcnJXD3dxTG5cvYIT+NmXWVFO+S/Yfo9SXlu0JhgpqM/c0sZwKOCubbTdIhefmuKZHv25L+npSmTBYr20o1yW9i6/1UYKKPqIvw1rFNHzexTHeVOu8K437GlepKnr/PyKKpWo/VsfUmzS5eTBSgjb8/Q8uZPwAA1UQQEQAAtCvRmIZPKtui8HVJX46CR0n79VbuhBuNCTTFuzCOKpqqcp5PmW5ObL13ged3l1QTe5zUajPugdh6B4WZoFsi392UHbtSkh5Nme/DKdM1xxPuvr50Mj2r0JI0I/81SlIvhVaBGYkB4wQvpEgzL+9xmn3mxtYTJ8FpJV6Orf/YzL4TTbZSLkti64kzOgMA0JbUlE4CAADQZhwu6UfK/sZ5UmHcvVKtr6QQQIzfYP2NmaXtwrhVbL0lxtvLlx/4KSY+22zXAs8Pj6270o+995ZCF+HMeR+u3CBspfKNT6biCrM7p/GvlOmaI9Ux3N3N7A1lZ9YeUSBZt7zHqwukSSPNdbKqmfsUuq5am+slnawQmN1EobXlz81sisKs5i9Keq0RXZjzxc9H/nsHAECbRRARAAC0J7vF1tdLOitlAFEKk07ENbVbcq8m7tccJbtdF1BoFt14K7IVpboGZ7j7ejP7TNlzmN8araXyTXseFqVM1xyNOUY8bZqWfE2dAXld6SS53L2x+7T62Znd/Q0zO15h8p7u0eaeChP6fDN6vMzMHo/S/K3YOJJFtPpzAABAU9CdGQAAtCdTlW2l1UnS383scyn3LVeLobb8+yrepbOxwaN4AK9LC+Ub7+LbmHybEnRtrKaWp1C32pV5jwvOrI303H2SQqvP65Q7gU9GT0lHSbpf0qtm1pixHuPvT/57BwBAm9WWf+QCAADke1bSYcpW3LeW9HQ0U3MpS/Me93F3a8IytIyvp6XFz0GPRu4bn/Qk/1xWKt94K9PG5NuzdJJma2p5Pivw/GfKDUr2aVKJkMPd57r7f7j7VgoTDZ0l6c9qGFTcReH/yJCUWcffn/nNLykAAK0DQcR2zswmmJlHy4Rql6e9MLMHonNaa2bbV/hYNWb2TnS8efkzUwIAcrn7U5LGKDtZxWCFAMDnS+yaP/bb5mUuWlsQD3h0NrNBaXYyswHKdgvNz6eS+X6al++WafKVtE3KdM2RtgWslFueT/OfjLrSfhjblOr8IT13f8vdb3b3kxTO717KnYCnn6TLS+UTzaQdvw5nlbOcAJrHzEbH6seNGaYACczsyNh5/Vm1y1OImV0RK+MV1S5PJZjZvrHXeFMljkEQsczyLsxCywYz+8zM3jez+83sB9EPZLQRZnaYpG9ED29z9xmVPJ6710r6z+jh5pKurOTxAKA9cPfnJB2sbKuuLSU9VaJL4nTldj38crGE7dgreY/3SrlffrppVcq30MzGhaRN1xypjmFm/ZQbRMx/TRnxSWPStKxFE3nwgsLvvWdiTx2SYvetFYZSyGiJSXzQgqjvAbnMbFNJv4oeLpR0TRWLs1Fz96eVvQF2ppl9sdzHIIjY8kyhy8rnJI2V9HNJs83sSjNjoptWzsw6SvpF9HC9pJ+2xHHd/a+SXo8eftfMhrXEcQGgLXP3FxUmR1kSbRqoEEjcqUj69ZIej206o7IlbH3c/X1Jc2KbTkq56ymx9U8l/buF8n0vL98TSmUY/d46NuXxm2OPlN/XJyp3Io5niqR7ObZe8BpGebn7BoUxETMGptht59j6OqWfiRztR7ur75nZuFiQdFa1y4NW5yKFGyiS9ItGTGiHyvjv6G8HSb8sd+YEEStvSt7yd4U7zPEBtDsrvNF3Rl0g0HqdLGm7aP3P7j67BY+duaNTI+knLXhcAGiz3H2apP0V7oxLUn9JUxPuzF4XW9/LzM6uZPlaqT/E1g83s/2SEpvZPpKOiO9fZCbbSuU7IbZ+tJntnpSvpPMkpR3brrkSW2OYWS9Jl8U2PRUFRgt5Krb++WhfNEEjf2/Hu9MvTpE+3gL1+SbMbo22h/oeNlpmtpmki6OHn0m6sYrFgSR3f1Xhf5EkjTazg8qZP0HECnP3MXnLwe4+StJmChH7NbHk35R0bpmPPy420Pu4cua9sTGzDpJ+FNv06xYuwkRJH0frx6ecJAAANnru/k9J+yk7nl5fSU8UCja5+/OS7opt+q2ZXVKq9YiZdTKzb5jZk2a2dVLaNuBGSQtijyea2W6FEkbB2L/GNi2SdEML5/tbZSdc6SBpkpltVyihmY1VbqC40o4xs58WChqYWW9JDyi3ddtVCXn9Q9kgVkdJ+5StlBuf6VHLqsQZ2c1sG+X+Nn8yRd7x4PgjTSkc2pZq1/fQOO7+VHwytGqXpx04X1LvaP02WiG2GvFYxX+VM2OCiFXi7qvd/VcKd9jjd9Uvj4JVaH3GSsp0S3rR3Vu0e4q710n6Y/Swg6QLW/L4ANBYZramkcs/KlUWd39D0mhJc6NNm0n6u5ntWSD56ZJejdY7KrQme8/MrjWzY6JBq0eb2RFm9h9mdo9CcOyB6BhtulLi7gsVzkHm90lfSS+a2W3R69/HzI42sz8oBLb6Z3aV9B13LzgbbQXz/VS534lbSXrNzH4bvUf7mNmJZnavQtfUTpLubOx5aYK7Fcp+ucLrPNvM9jOzMWb23wpjHO4bS/8Hd3+iWGbR74D7Ypu+VolCbyR2VPhNNT8as+6y2LWyj5kdb2Y3KgwlkwnyrpP0P0mZRuNbZm5OuMINYGykqO+hvTOzTRRa92fcXK2yoIHHlJ2Q7avFbto2RZsck6E9cfcpZvagshN1DJS0m3LHvUHrEL9reEeVynCHsjMDnmJml7j7yqQdAKCKNqlw+kZx9xlmNlrSVIVAUy9Jj5nZYdFELJl0q8xsX4VuskdHm4dI+mEly9eauPuDZnaCwvdOZ4XfjKdGSyHrJY1z90lVyvd2M9tC2SBPF4WKzXkFkj+i0K3wxKQ8y2Cywnh4V0vaI1qKuV/pWifdruxYnUeY2bnRuH1omq4KN4nHlki3RtK33L3UJClHKNx4kKRn3P3DpMTYOFDfQzt2jKTMpEEvufvb1SwMstx9g5n9WdmelOdJOq0ceXMHpHV4MO9xfEBmmdmE2EC2E2Lbv2pmN5nZG2a2qNBAt8X2TWJmm5jZaWZ2r4VZxVaY2Uoz+8DMJpnZGWbWJWVeT1mBadTN7DAzu8PM3jazpdHzT6XJs8hxCg72a2bbmtk1ZvbP6BytMrN3zewPRVqfFMt/kMKYWpK0QbktAUrtu2PUeuX/zGyBma2LlsVm9i8zu89CV7ntS+Xl7u8qO8FKd0lHpS0HAEBy93cUuoF+FG3qIWlyFFyMp1vh7sdIOlRhLLq6ElnPknSTpL3dfVb5Slw97n63wgQe9ykE8wqpVWiBubO7p2rdV8F8r5E0RnmTr8QsUrgR93WVfj/Lwt1/JulISTMTynSBpKPdvTZFfs8pO1HH5gozkKPxzlMIJi8vkW6NpL9I+oK7p/nt9+3Y+k1NLBvap8T6XpyZ7RTVX6aZ2adRvWG+mb0S1SkaNduqmW1uZj80s8fMbE5UH1pvZsuietEUM7s6amXfIW/fp8zMle0NJUlbW/GZqa8oUZbNzOy7ZvZQgXrmX83sZEsx+YyF3gD1x41t39JCD4Hno9e6PkozutS+KY75FTP7jZlNN7OFZrbWzOaa2QsWJs1JNdRUQr11eJTPy1G+tVGaoWnLWOBY8fdmdLSta1Sff8LMZlvoCfJxdH2cbmadSmQbF5/8LHXLazPrZWbnmNmDZjYrug5qzWx5dC1MNbOfW4gZNKY8VWFmQ/PO9dBoe6/oen8mOsfrzGyehRbwBccpjPK6LrrOVpjZajN7z8x+n/Yai4kPC3OMmXVt2ivM4+4sZVwkXaHQXN3D6U21zyHxfSRdmvf8hNhzEyR1U/hH7gWWWUn7pijLGIWKUKG848tHkr6WIr+nYvtcodA16eEieT7VjPM+Lv8cKPxAXJvwGjYojM9UkyL/C2L7vZSyTDWSfhcdp9T5zCwjU+T7s1j6B6t9zbOwsLBsDItCq8XDJJ2pMBHGpZLOUQgybl3t8rXA6++pEHw7V9J/Rt+x35DUq5Xmu5tCi73LJJ2lEGzr3ALnKf4balzec19SaHF5afQ6D0zzG6TAMU6JHWNSta+NCp/Pofm/78qcf0dJX1BocXyBQouNS6NrZrSk7o3I6/Oxsn4oqWO1zx9LZRZVoL4XpcnU8epK1Bc2KLTmLnl9Rv8HlzeiLnJu3v5PNWJfl3RFQlm+L2lJijzekfSlEq9rdP57oNC6/LMieY5O2rfEsQZI+luKcq+T9AuV+L+uwvXWi1S83jq0GddqzjlQGMrh7RKv43VJ26XIu4/CDb/U9dhov28ojFGd9pq6tkKf3aLXahPyHZr/nkn6ssJ3QdJruzovn+8q3Lwqln6NpG82smyfxPY/uhyvl+7MrUN+dD1pFjeT9L/KdrtYIWmGpFUKXa2aPA6TmZ0s6TZlu2FIYaDyGQoX3ecVxi+SpMGSHjCz77j7H1MeYhOFAGJmrJjFCl8S6yVt09RyF2JmZyoMtC6Ff25vKLyWwcqOa2gKFcB+Zna8J3cHio879GTKYvxeYeynuPclzVF4zT0kfU7ZMZ+kdK2Dn1R2Jsf9zayLu69J2gEA0Dzu/pk24kkSPAyUnt+SpjXn+4rC7Kithrv/Q2Gsx+b6X4VB0odJ+rqZbePu75ch342Oh3Em/xUtzXVBbP1nUd5ARmJ9z8JES1PUcNiDGZI+VagvjFSov5ikkyRtb2YHu/uSQgc0s5Mk/SFv86eS3lOoO3aTtIWkrZWtQ+bXRV5SCFxspRCAUvT46ULHVIFW11HLwlslnZz31IfK9grYVtnxR7eV9KSZfcPdHy9ynPxjHKXwv1EK9dbMeesjqeBEWynzHSLpCUnxFmB1CmPaLlY4L9tG2zspBAO3N7Mj3T0+O3fSMS5SCD5m8n4jyntAc8pewFaS7lG27vmhwo2v7go3UzpH23dSOP/7eOgFV8wYZeMG8939rVIFMLP9JN2r3GH1Fkt6VyHYvalCK/ttlL0W22Lv2R0VJunrphD0f0th7OwBknaIpftPM5vr7r81s4uVnfhtjcJ1sFzhu35ItH0ThRne3/UwaWAaTyo7fMvXFM5/85Qr+spSMLrtKff5oXIjzN/Ke35C7Lll0d+FCncxOuelHZ6w74SEMuys3LsfixXudHeKpamJLsCFsXTrJH0xId+nCpR9lkIQtGNS2Rt53sfFjrNc0upofbyk/nlpd1H4ER8/5xck5F2j8EWbOoIfHSOe/wRJg4ukHaLQAuOfknZMkXevvLxHV/u6Z2FhYWFhYXEpoSVimY/zrdhxbqr2667g6xwae52zql2ehHIOjP32nBn//czS/pYK1ffuynv+AUmfy0szRKF7YjzdxCLHq1Fua69/SNq9SNpeko6V9JDyWiLG0sTrWrMaeb6uySvzbYXqfQozm78VSzdf0hZF8hydl2emnnlz/j4KgcQ+xfZNKHdHSc/nHecPkjbPSzdSDVts/jwh3/i5XKXQuKROYfzczfLSbilp02Zcq/EyZa6HNyR9JS9db0nXKrcH3ctKaFEdnYtM2lS94yS9FtvnHYXhwqxAuq6SDleYBO1/yvG59Yaf3SvKmO/QvHOdiZfcWuB63EG5rUHnSzoougbWSLpYUte8fY6QtDK2zxONKNv3Yvs16rNbNM9ynTiW+jcpfmF6ivSW92FySdvkpZmQ9/wKpQg2Fdh3QkK6/8vLf9eEtDsr+4/aJb2ckPapvLLPkbRVBc77uLzjuBKaPivcFXg57zX3LZI2PyC4bYryXB5L/1wjXkeqri+SPojl/8NqXvMsLCwsLCwsYVHLBRFN2Ruia9WM7m6teVHbCSLeECvnkdUuD0vF3++y1vcUhluIP/e/KhBYieV1e176BkNMSdo79vxy5QWnEspasC6iJgYRJe2p3MDUd0qk76XcQOLviqQbXaDud0XKMuXsm5DuzLz8iwazFFrxPR5Lu0FhLNVS57Ki3xcFjvO2YgHVAun/Iy/9WQlp/xlLd3WKsgzKOz8jmnNNNvF8xD+7qa6XlPkOLXCuk66X7RSCx5m0a6NzcmjK63GDUg6lI2nfvHL1T/u6ii1tsWloe3OlQpAq4xUv3SXlp+7+RrkKYGajFPrsZ/zE3V8tlt7dX1f4AGaMMrOvpDzcD9z948aXstHeVXYmogY8zGh8usIHUApBxVOKJB8ZW9+gEMArZXBs/bmiqRqWK23Xl3hXgR2LpgIAAO2Oh5rBuQq/SzorjJeMKjCzYQpjKErSFC8xkzg2SqXqe/Gu8J9KOif6jDcQbT9PYZyzjAsLJI3XRd70Il2eC+Rf7m74lyrbVfpP7p7fvTr/+J8p+3mSpHFm1iPFcd6U9NOmFbGo78XW/6UwjERB7r5OYczbVdEmy9s/yWR3n9CUAjbB2e6+OOH565Q7a/h5hRKZmSm3q3WxycPi4tfkfA8T3ZVUgWuyJbyj5OvlbeUOkdZZ0h/d/dGEPO9QaPgkhesrbfwl/71pduyAIGILs6CvmY0xs4eVe3FtkHRJiSzqJN1S5mLFZ/hdpXSzyY1X9iKWwsyDpSxUOfrgpzPe3YvN+ChJcvfpyh3P4+giST8XW//UU8yeqNClJaNRM6ilNCe2PrQC+QMAgFbM3V9x947ubu5+Yuk9UAnu/p67d47ehzHVLg+qrzH1vWi21Pgs63/wMFZsUe6+QqEulrG/mfXMSxavi4wws26NehFlYGZ9FCbOyvh5mv3c/VllG210VW5jl2JuKWewycxGKHfsuutL1QHdfbaku2Objkh5uPGlk5TFG+7+VFKCKEj929imL5jZtgWSbqkwPl9GmkZC8WtygJltlWKftuq2FDGDF/Me35yU2MMcCPFxEEcWS5tnnkIMKWNoyv2KIohYYXlTfWeani6U9KjCLI8ZGyR9z92fKJHlW+6+qMzFjP9jftrdl5faIWrJFx/oNs0/9xdSBuDKISmKH/dwbH3XIlPIxyc+SbpzExe/g3Owmf3azPql3DeN+N3EAWXMFwAAAEBKzazv7a7cSSbSTjT1QGy9g8Ls73HTFLouStJmChNilnOSjjS+qmy8YX7UgCOt12Pro1Kkf6YReaeRX7dtyvvSr0gALl+5y15MU+rHUsNrS8qtH0vp6sgzFMb1k0JLuofMbPeE9G3ZCynSzIutr1O6yeDmxtY3S1OQKLgevzHR7NgBszO3Di8pdPNN0+21ErPvxWeber1oqoamK3uHZXhSwkhLzRy4XtK/U6aNz8bXRaGZdX4543fuViudv0r6ibKzTl8g6Vwze0ah6fILkv4RBWObYlVsvcXvLAIAgIbcfWi1ywCgVSpW34vXoVyhfpXGW5Jqla3PD5f09/qM3OeY2V+UnZX1AEkzzOyfUbr/U2jg8WmjXkXj7BRb72Jmkxux7xdi6/kBq0LKXc+Mvy/z3H1+yv3y37/hCsNsFfNZie7F5ZRqFnp3X2RmcxVm7pakEQWS5dc/S9aR3X2tmV0v6T+jTbtIesnM3lGYmfx5hWvyo2J5tCHzSifJqc8vStnYKr5P10aUZ5WyQcdmxw4IIlbelLzHGxQGt12s8E/mGXd/sxH5JTZvb6J4FHtBI/aLp00TCa9E2QtZ2ojm7PmtOku9DivxvKT6f5JfU5jlbFi0uZPCF/gB0eP1ZvaCwmxsdzQyoJiqHAAAAG3YUoXx5DLrQGvUnPpevO6xIuqyWJK7rzezzyT1LZBPxtnR84fEtu2i2PiMZvamQuOHW9x9jsqrb2y9Z145GqNXijTlrmeWo36cn08hLVU/lhrWe0ulzQQR09Tz09ZNfyxpK+XORTAiWs6XJDN7T9IkhWsybcOg1mZdhdNLjYsHlDV2QBCxwiowNsqG0kkaLT6eQWMu4LWx9U5m1rFE8K4SZS+kqa9Byj0XGfHg3qZpM3b3t81sR4XBgU9T7t04KQQV94mWK8zs7EYMxh0vR1NbMwIAALRa7r5UuZP5Aa1OM+t7Ta2HSbn1mC75T0ZDVI0xsyMVJmIarYb1/x2i5VIz+x+FCTzLVWcrV2+pkkOwlbHMGeWoH0sF3pc8LVU/lpr+OkrVj6WUdYKA+gUAACAASURBVOSotd04M7tdoafemAL5D5N0saSLzOz3ki5y9/zzisYpa+yAMREh5d7ZTTP7VUZ8AN/lrWjmpKa+Bkn6rECa+B2lPo0piLuvcffr3X1nhbsuJygMVpt/N3KApL9GrRfTiJcjbfN6AAAAAK1HU+thUm49pmhLXXef5O4HKdQfDpN0taTnFLpDZ2yiELD/n0aWIUm8TNOjyYeasowrY5maUvbm1C1bUwvqpr6OUvVjqfF15Cfd/QiFVo4HSPpvhfkW4i1xOygEv+9oTN7IZWYdlft+Njt2QBARUu6FNKxoqobiaVtTIKtnNBtYGtvkPS70Oj6IrQ8oMvlKSe7+ibvf5e7nu/uOCufvV8regeoQPU5jUGx9VlPKAwAAAKCq4nWPzmY2qGjKGDMbIKl7kXwKcvfl7v6ou1/u7l9VaMRwgXInbLzIzIakKUMK8XHhNi9Tni0lfj6HmFnaHpz5denWVEf+XJpE0WsdHNtUaNzMT5TbWjHVdZvP3Ve7+1R3/2kU6O4n6VRJ8a71x5rZXk3JH5JCt/SOscezmpshQURIuTMBNeYDGk87rUxlKZdCs0iVSveRuxca8yLearCDGgYem8Td33f3i5R7x29bM0vzDz4+2G+qQXIBAAAAtCr5M7KmrYvlp2t0Xczdl7j7byQdG9tco+z47XHxbrdpx1f7v9j65inrOK1F/H3pImnXlPvF35c6Sf8sW4maL239eGfldsNuMGuwu7vCbMsZaSZZLcndV7r7BEkHK0yWmtHU8TTR8L1pduyAICIk6enY+vZmtlupHcxsZ4V/MIXyaA1OKJXAzDpLOia2qdhreFO5M07lj23YXPfmPR6YlNjMeknaOrbp5TKXBwAAAECFufv7ym11dVLKXeMTU3wqqckTULj748rtslqoLtKUMeJfVu5kHmc0smjV9JJyu9amfV9Ojq2/4u4rylekZvuameV3ty7kW7H11Spe14xvL2v92N1nKDdImVg/RqJ4zGaWuy9sboYEESFJdyt3Zqifm1nRO0zRc7+IbVoh6c4Kla2pTowCnUm+r9x/SLcWShQNAPtcbFPJuzhJ56+A7nmPF5dIHz/+Kkn/aMSxAAAAALQef4itH25m+yUlNrN9JB0R3z9qGRZPk7ouYmabKEz4mFGoLjI3tt4/atSQKKpDxYdqutDMvpi2XNUUBf/+Ett0ppltl7SPmZ0kKf76bq5E2Zqhm6T/SkoQtRY9O7bp7oRA6FOx9T1KXXONrB9LuXXkUvVjFBePHTxZjgwJIiLzTzIeFBwtaXyhsf+iMRJuVG4z91+7e6EBV6upo6QHzKxg02ozO0bSVbFNz7p7UmvKR2LriV/skbvM7HIz2yIpkZl1lfST2KaPJb1bIu/48Z909zVFUwIAAABozW5U7kQVE4v1DIuCcH+NbVok6YYCSS8xs5vN7Aspjv8TSV1jjwsFGqYrt3vpRSnylaTfKFu36Srp72kmkjSz3mZ2jpk9lvI4lfD/lG2N2FnSQ2ZWcFgrMztI0vjYpncl/W9li9ckPzCzMws9YWZbSXpI2Zam6yRdm5DXFGW7ufeTtGOJY3/LzO4ysy+XKqSZnavcIcTKEvzaSI2OrT9SLFFjpB0gFO3fzyQdKmnP6PF3JO1tZrco9Jt3STsoNEOP/4N4WblBsNZgjsJkKF+V9Hr0GqYqDBo8WNI3JY2NpV+h0s3r71UItHaQ9EUz29LdP0lIv7nC+CJXmtnzkp5VOI8LFL6M+knaTaErQnzw4p+6+wYlOzS2fk+JtAAAAABaKXdfaGanS3pAYbzBvpJeNLM/KVT650vqL2mMQt0h09DDJX3H3QtN3tFFoT73HTOboTDz7WsKE2KsUGjlNVLS8ZL2iO13l7u/U6CMK8zsAWWHgvpvMztN0lvKHfbpLne/K7bfcjMbK+l5hZl4+yoE416OXu90hTpal+i5HRTqo6Oj1/lh8TNXWe7+bzP7obJB2mGSppvZbZKeUCj3lgqtQo9VdqzIdZK+3QobevxFYciv8VGDmjsV6sw9FOrNZ0rqHUt/ZdStuCB3X2RmUyUdGG36mpLH26uRdJyk48zsQ0mTJb0qabZCr8hNJY2QdGQsTymMrfl4yteIGDPbRWFiFSl87gkionzcvdbMxkj6m6R9os3bK7eFYr7nJX3d3dcnpKmGOoV/kM8o3MH4XrQUslLS1wp9Wca5+2wze1KhBaYp/HP7XYqydFD4p/zVFGmvdffxSQmilpWZbtor1XA8RQAAAABtiLs/aGYnSLpDodVbjcIstacW2WW9pHHuPilF9ttHSylPKASSivm+pFGShkaPB6nhrLwNJhJx9xlmtoek+xWChJK0e7S0au7+26i793UKdcBuks6PlkKWSzrS3V9qoSI2xs0K5TtT0kHRUsxv3f1nKfK8XdmA39GSrklZlq0lnZUi3euSjknRyAaFxed/uNfdV5UjU7ozo17UJfkASedK+igh6RyFf5yj3X1JS5Stsdz9Y4WWfn9SuBvUIImkxyTt4u7PpMz2xth6qcF1r5H0Z0nzShVVIdh5gLtfkqIM346t/8ndVxZNCQAAAKBNcPe7FSaouE+5XYfjahVa8O3s7klj0k+UdL3STbjytsI4eAe7+/KE8s1RaMzwA4WA41zlTj5SlLvPVJjh+OzoeInJFYKRP1Fui7SqcPdfKIwr94RyZ6mOW6MQUBvp7k+0VNkay93PUgjeFetRN1vSt9y9WJA0318VWspK0igzSwpWT1WoI7+u4ucx4yNJl0n6krvPLZEWBURjUJ4Y23RT2fLOG4MVqBdNTLKLpAHRpgWS/unurWmqekmSmY2T9Mfo4YfuPjT2XB+FJvGDFJrKz5X0tLsnBUoLHaODpHcUmrJLIQD5eor9hircdRui0ETcFJpsz5I0zd1LBRoz+XSM9hmk8OW6vbs3eSY2AAAAAK1PNIvuvgpDMfVWmD15tkIdplFj0ZtZX4Xg5DYKXYY7K/Ro+kTSa6V6ZFWCmQ1W6LY8QOH1rVXoHjxT0r/cvVVOpGFm/RV67W2p0A14sUL97JlytfIqJzOLB3v2c/enou2Z3nLbKnSVXyzpDUn/lz9JT4pj/FjSFdHDX7v791Ps00MhzrBNdPxNFSYM/VQhyPhGY8uRsqxXSPpx9PBKd7+i3MdoLczsYIVxK6Xwvn6lbHkTRER7kBRELPNxTpV0W/RwgrsX62JQiWMfqzCTthTGGzmhpY4NAAAAAGg7igURy3yMzRTGVuylEOwe4u7Lyn2cctjIgoiPKDuXwhh3n5KUvjHozgw0zh3Kdgv4VnQXraVcFv2tVfafHwAAAAAALS4a3uy66GEvSedUsThQ/YQqmQDis+UMIEoEEYFGcfc6hXFApDBj2H+1xHHN7GiFJt+SdGM1uh0AAAAAAJDnV8rOpH1x1B0f1fPT6O8GhQmRyoogItBI7v6wwizWknRaiQFkm83MaiRlZseaL+m/K3k8AAAAAADSiMaDzASr+km6tIrF2aiZ2T6SDo8e/sHdXyn3MWrKnSGwMXD3sS14rFpJn2+p4wEAAAAAkJa7T1KYQBRV5O7PqMLvAy0RAQAAAAAAACSiJSLaBXefIGlClYsBAAAAAEDVuTstA1F2BBEBAAAAAADQnj1VZB2NYO5e7TIAAAAAAAAAaMUYExEAAAAAAABAonJ3Z6ZZI4BqYcwPQNL6cw/juxgAIEnqdOMj/D5qeXwPA6iWiv/PpyUiAAAAAAAAgEQEEQEAAAAAAAAkIogIAAAAAAAAIBFBRAAAAAAAAACJCCICAAAAAAAASEQQEQAAAAAAAEAigogAAAAAAAAAEhFEBAAAAAAAAJCIICIAAAAAAACARAQRAQAAAAAAACQiiAgAAAAAAAAgEUFEAAAAAAAAAIkIIgIAAAAAAABIRBARAAAAAAAAQCKCiAAAAAAAAAASEUQEAAAAAAAAkIggIgAAAAAAAIBEBBEBAAAAAAAAJCKICAAAAAAAACBRTbULAGxsJr+5oNpFaJfG7NC/2kUAAADARm7UrUdXuwhAqzHt9HurXQSUGS0RAQAAAAAAACQiiAgAAAAAAAAgEUFEAAAAAAAAAIkIIgIAAAAAAABIRBARAAAAAAAAQCKCiAAAAAAAAAASEUQEAAAAAAAAkIggIgAAAAAAAIBEBBEBAAAAAAAAJCKICAAAAAAAACARQUQAAAAAAAAAiQgiAgAAAAAAAEhEEBEAAAAAAABAIoKIAAAAAAAAABIRRAQAAAAAAACQiCAiAAAAAAAAgEQEEQEAAAAAAAAkIogIAAAAAAAAIBFBRAAAAAAAAACJCCICAAAAAAAASEQQEQAAAAAAAEAigogAAAAAAAAAEhFEBAAAAAAAAJCIICIAAAAAAACARAQRAQAAAAAAACQiiAgAAAAAAAAgEUFEAAAAAAAAAIkIIgIAAAAAAABIRBARAAAAAAAAQCKCiAAAAAAAAAASEUQEAAAAAAAAkIggIgAAAAAAAIBEBBEBAAAAAAAAJCKICAAAAAAAACARQUQAAAAAAAAAiQgiAgAAAAAAAEhEEBEAAAAAAABAIoKIAAAAAAAAABIRRAQAAAAAAACQiCAiAAAAAAAAgEQEEQEAAAAAAAAkIogIAAAAAAAAIBFBRAAAAAAAAACJCCICAAAAAAAASEQQEQAAAAAAAEAigogAAAAAAAAAEhFEBAAAAAAAAJCIICIAAAAAAACARAQRAQAAAAAAACQiiAgAAAAAAAAgEUFEAAAAAAAAAIkIIgIAAAAAAABIRBARAAAAAAAAQCKCiAAAAAAAAAASEUQEAAAAAAAAkIggIgAAAAAAAIBEBBEBAAAAAAAAJCKICAAAAAAAACARQUQAAAAAAAAAiQgiAgAAAAAAAEhEEBEAAAAAAABAIoKIAAAAAAAAABIRRAQAAAAAAACQiCAiAAAAAAAAgEQ11S4AWi931z333KM//elP+uc//6kFCxaoT58+GjlypE444QSNGzdONTXNv4RWrVqlZ555Ri+//LJefvllvf/++1q4cKEWL16sTTbZRAMHDtSuu+6qY445RkcddZQ6duyYKt/169drwoQJuuuuu/TWW29p8eLF6t+/v774xS/q29/+to499liZWbPLDwBovdxdE9+bpzvf+VivL1ymBavXqU+Xztp+s+46bvgWOnm7rVTToTz3VDvf9GjqtCd9fivduv9OJdOtr9ugO/79se6ZOVczlqzQ4jXr1H/Tztq5X0+dOGIrfXPYQL7LkAqfBQDAxqCl4hj56urqdN999+nee+/VtGnTNG/ePHXo0EGbb765hg8frv32209HHnmktt1228R8nnnmGd1+++168cUXNXv2bK1evVo9evTQNttso7333lunnXaadtqp9PdmpZi7lzO/smaG6lmyZImOOeYYTZ06tWiaXXfdVZMmTdKQIUOadazJkyfr0EMPTZV2p5120t13363tttsuMd2sWbN01FFH6bXXXiua5sADD9TEiRPVu3fvRpW3uSa/uaBFj7exGLNDf2oOgKT15x7Gd3Fkydr1On7Ka3ry40VF03yxX09NHLOrhvTYtNnHK3fgZNayVTp2ymv658JlRdMcMKiv/nLwF9V7k06pj42ND5+FjVenGx/h91ELG3Xr0XwPA5Fpp9/bosdryThG3GuvvabTTz89Mf4gSRdccIF+/etfF3xu9erVGjdunO65557EPDp06KDzzz9fv/zlL9Wh4c2/iv/PpyUiGli3bp3Gjh2rZ599VpI0ePBgnXnmmRo+fLjmzJmj2267TTNmzNCrr76qQw89VC+88IJ69uzZ7OOOHDlSe+yxh7bbbjsNGjRIXbp00dKlS/Xqq6/qrrvu0uLFizV9+nTtu+++ev311zVw4MCC+SxdulSHHnqo3n77bUnS9ttvr9NOO02DBg3SzJkzdfPNN2v27Nl6/PHHddRRR+mxxx6ryJ0IAED1rKvboKMffUXPzV0iSRrcvYtOHzlYw3p21ccr12jC23P09pKVem3hMn394Wl69qg91bNzeYIPIzfrriu/NCIxzZDuXRKfX7p2vb7+8DT9e+lKSdJ2m3XTuO0GaatuXfTeslW69a3Zmr1ijZ6Ys0jHTn5Vj3x997K1IkP7wmcBALAxqFYc4/nnn9dhhx2mZcvCja7Ro0frkEMO0ZAhQ9SxY0fNmzdPr7zyih555JHEfE488UTdf//9kqSOHTvquOOO05e+9CUNGDBAn3zyiZ544gk98sgj2rBhg66//np17txZ1157bbPL31i0REQD119/vS688EJJIUr/+OOPa7PNNqt/fs2aNTriiCM0ZcoUSdLFF1+s6667rsnHW7RokdatW6ctttiiaJrFixfrsMMO0z/+8Q9J0tlnn62bbrqpYNrvf//79dH9MWPGaNKkSerSpUtOXgceeGD9XYLf/va3Ou+885pc/saiJWJl0BIRCGiJGNwwfZZ+8PwMSaGF1eRv7KHNYi2U1tTW6ZjJr+qx2QslSRft/Dlds1dyK/dSMq2v9tmyjx4f+6Vm5XXx8zP0m+mzJEmHDO6niWN2VZea7HAei9es05gHX65vmXX9V0fqnB23btYx0T7xWdi40RKx5dESEchqyZaILR3HkKRPP/1UO+ywgxYtWqR+/fpp4sSJGj16dMG0dXV1mj9/fsG4x7PPPqt99tlHktSzZ089/fTT2mWXXRqkmzx5sg4//HDV1dWppqZGc+fOVb9+/eJJKv4/n9t0yFFbW6urr75akmRmuuOOO3I+eJLUpUsX3XHHHerWrZsk6YYbbtCiRcW7x5TSt2/fxACiJPXp0ycnaPjwww8XTDd//nzdeOONkqRu3brp9ttvzwkgZvK644476sfNueqqq1RXV9fk8qN9MrMJZuZmNqECeX/VzB42swVmVhcd5/5yHweF8d62f7UbNuiaV96TFH5J3XbATjlBE0nqUtNRt+2/k7pFwYjfvfGhFq1Z19JFLWj+qrX6/RsfSpK61XTUrfvvlBM0kaQ+XTrrtv13qv+l+D+vvKe6DdRbkYvPAlorvosBlFM14hhS6J68aNEi1dTU6NFHHy0aQJRC68JicY9MYFOSzjrrrIIBRCk0kjriiCMkhdf8wgsvNL3wTUQQETmmTp2qBQtCS7kDDjhAO+ywQ8F0AwYM0PHHHy9JWrt2rR544IGKl23kyJH16/PmzSuY5v7779e6deGH7wknnKABAwYUTLfjjjtq//33r8/r6aefLnNpgcLMbE9JUyUdJqmvpMWSPpW0JHr+imgZWq0yoml4b1uPJz9epAVREGT/QX21Q58eBdMN6LqJjh0efsytrdugBz/4tMXKmORvsz7VuigIcty2W2hA100Kptuxbw/tt1VfSdK8VWv1zCeLW6yMaBv4LGBjw3cxsHGqRhzjww8/1MSJEyVJJ510kkaNGtXkvObPn1+/XmrilREjssOErFy5ssnHbCqCiMjx2GOP1a+PGTMmMW38+cmTJ1esTBnvvfde/Xqx8RBbc/mByIUK49E+L6mfu/d394Hufmr0/I+jZWiVyoem471tJR6fnb2rfPDg/olpDx6S7QIyJerOWW1/j5WjceVnuAzk4rOAjRDfxcBGqBpxgNtvv10bNmyQJH37299ucj6StPnmm9evv/vuu4lp489vv/32zTpuUzCbBHK88cYb9eu77bZbYtp4pD2+XyWsXLlS3/ve9+ofH3XUUQXTtdbyAzFfiP7e5e40lWhfeG9biTcXL69f37V/8oDZu/XvVXC/5nhn6UqNnvSi3l6yQsvX12qzTTppRO9u2m+rvvrODkM0sEhrqmw5VtSvN6b8b8X2AyQ+C9go8V0MbISqEQd45plnJIXu07vvvrs+++wz3XDDDZo4caLef/99SWFyl/3220/nn3++ttuu+HjDY8eO1VVXXSVJGj9+vE488cSiYyJOmjRJUpjAZeedd25y+ZuKICJyvPPOO/XrQ4cOTUw7aNAgdezYUXV1dXr33Xfl7vXjDDbVihUr9Pjjj0uS3F3Lli3T9OnT9Ze//EVz586VJO2yyy664oorGuy7YcOG+taKHTt21KBBgxKPtfXW2UG3468bqLCu0V9qOO0P720r8e7SbNeOrXtsmph2UPcu6mimOnfN/GxVWb7L5q1aq3mr1tY/nr96neavXqfn5i7Rta+9r5/t+Xmdv9PQgvtucNf7y1ZJkjqaaVCJmWuHxF5f/HUDEp8FbJT4LgY2QtWIY0ybNk2S1KtXL82cOVNjx47V7Nmzc9LMmDFDM2bM0Pjx43XVVVfp0ksvLZjXqFGjdOGFF+rXv/61li1bplGjRum4447TnnvumTM7c2ZuiL333lt33313o8tcDgQRkWPp0qX163mz/DRQU1Ojnj17asmSJaqtrdXKlSvVvXv3Zh1/zpw5OvLIIws+16dPH51yyim66qqr1LVr1wbPr1ixQrW1tZKk3r17q6Ym+fLu27dv/Xr8dQNpRGPpXCjpIElbKwwP8ZGkKZJ+4e4f5aXPH+X9j2b2x9jj2yWdEnv8ZN6X2YfuPrQcZUcy3tu2b+m62vr1fpt2Tkxb06GDenau0ZK161W7wbWytk7dOzX959Gwnl114OB++kLfHurTpZNW127QW4uXa9L78/T+stVaW7dBP3h+hhavWa8f79FwzJsV62tVG40B13uTGtV0SB55pm+X7CQZS9etb3K50T7xWUBbxXcxgMZo6TjGmjVr9Nlnn0kKjZkOO+wwzZs3T9tuu61OPfVUDRs2TIsWLdIDDzygKVOmqK6uTpdddpk6d+6siy66qGCev/rVrzR06FBdffXVWrBgge68807deeedOWm22WYbXX311Tr66KPVqVOngvlUGkFE5FixInvTLn9W40I23XRTLVmyRJK0fPnyZgcRk+y1117ad999temmhe+kN6XsGcuXl6fbDjYOZvYtSbdKyvTDWitpg6TPR8upZnaMuz8W2y0zSn1/hR/CyyStjj1fF6XJDIixRFJ8ekwGeGoBvLftw4r12cBJl46lh3/etKaDlkSNpZavq21y4OSJsV/SV7fsU/C5q770ef1k2rv6n2im3KtfmakDB/fVV7bITb9ifV3jyt4xO1Pt8ljACJD4LKBt4rsYQGO1dBwjHrRctmyZli1bprFjx+qee+5R587Zm3bnnHOOfv/73+ucc86RJF166aX65je/qcGDBxfM9zvf+Y66d++uiy++uGBDp/fff1/XXHONunXrpq9//euNKnO5MLEKWpXttttO7i53V21trT799FM9+OCDOuSQQ/TQQw/piCOO0LHHHluVWYgASTKzgyTdIamjpGslfU7SppK6SdpO0kRJPSRNNLMhmf2iQb0HSsq0cb8gsy1aTo+ezzgq7/ndW+DlbdR4b9FcxYImktSxg+nKPUbo9O2zPxqveeW9oumBtozPApqK72IAbUFmQpWMvn376vbbb88JIGacffbZOvrooyVJ69ev10033VQwz2nTpmnEiBE644wzNHToUN13331asGCB1q1bpw8//FC/+93v1L9/f73++us64ogjiuZTaQQRkSMegV+zZk3J9KtXZ2/w9ejRo6xl6dixowYMGKDDDz9ckydP1uWXXy5J+utf/6pTTz21QfrWVHa0PDN7Jc3SzGN0kPQ7hf+d57n7Je4+y7P+7e7HSvqbpJ6SCrdVR6vTFt7blrjG24t466k1dRsSUgara7NpenSubCeN/9p9uDId6J76ZLFW19blPN+9U7Y1Vaqy12X3r3TZ0fbwWUBb0tq/i/keBlqvlo4F5O9z3HHHqVevXkVSS2eeeWb9+hNPPNHg+enTp2ufffbRxx9/rL322ksvvPCCjjzySPXr10+dOnXSkCFDdO655+rFF19U3759tWHDBp1//vl6/fXXG1325iKIiBy9e/euX1+4cGFi2traWi1btkyS1KlTJ3Xr1q2iZbvyyis1YsQISdLEiRP11ltv5TzfvXv3+nEQly5dWj8+YjGLFi2qX4+/biDBPpK2lbRQ0i0J6e6I/h5S8RKhXHhv25HesQDCwtXrElJKtRs2aFnU9bFTB1O3mo6J6Ztry25dtG3v8H25tm6DPogmjsjo3qlGNR1CaGXp2lrVbkgOnixakx37rXfn6oyNg9aLzwLaGL6LATRJS8cx4rEHqfSM0PHnM5PBxl166aX1gc1f/vKXRbtkb7PNNrr44oslSXV1dVVpjchtOuQYMWKEPvjgA0nSrFmzEmc2mjNnjuqiu77Dhw9v9gx+pXTo0EEHHXRQ/cxLTz/9tEaOHJnz/LBhw/Tvf/9bdXV1mjNnTmL5P/zww/r1THASbZe7J//nLo+vRH97Sfok4ZrPtGPfulgCtDqt/r1Ne42vP/ew/MHlNzrb9u6mD5aHH2IfLl+toT0bTsaVMWfFGtV5OGXDenWt+HeZlDsBxGd5Y7d1MNM2PbvqnaUrVeeuOSvWJJb/o+XZO+mZgAyQwWcBbUyr/i5O+z086tajN/rvYaCltXQcw8y07bbbasaMGZKU2Aox//nMhCwZa9eu1eOPPy4ptHDcY489EvM68MADddlll0mSXnrppUaXvbloiYgcO+64Y/36K68kt8bPTGmev18lxZsNFxpotLWXH23eltHfTgoDcxdbNovSFZ4FCK0R7207skOf7HfFqwuWJaZ9ZUH2h1x8v0qKt5jqVaDb5Q59sl1yGlP+kX0qN7kZ2iY+C2hj+C4G0CTViAPstNNO9ev5gcF88efzA44LFy7U+vXh+7BHjx4lg5rx/asxVwRBROQ45JBsr4ApU6Ykpp08eXL9+pgxYypWpriZM2fWrxeaur21lx9tXqZv1z/c3dIsVS0tGoP3th05aHD2++Hvs5Mn3Hzso2yXl0MGN/xeKbe5K9fo3aXhB1/nDqatezSsAx88uH/9+t9nJ3fJyS1//4SU2BjxWUAbw3cxgCapRhzg0EMPrV8vFbiMP5/f3m6yFQAAIABJREFUC7Jnz5716wsXLiw5pmO8R2Xfvn1TlbWcCCIix3777af+/cMPr8cff1xvvvlmwXTz58/XXXfdJSlMoT527NiKl23OnDl65JFH6h/vtddeDdIcccQR9TMi/eUvf9H8+fML5vXGG29o6tSpkqSBAwdq3333rUCJ0Q7Ni/7STbn94b1tR0Zv1Uf9u4TvgifmLNKbi5cXTDd/1VrdM3OuJKlLxw76+uc2r3jZfjptpjL93PbZso+6dWrY+uobnxugztFYcHfP/ETzV60tmNcbi5bryY/D+L4Du26ifRJmxMXGic8C2hi+iwE0STXiGGPHjlXXrmGYjbvvvjuxNeLNN99cv54fuOzRo4eGDAmTza9bt0733Xdf4nEz5ZekUaNGNbrczUUQETlqamr0ox/9SJLk7jr55JO1ZMmSnDRr1qzRKaecUt909rvf/W7RCPi4ceNkZjIzXXHFFQXTXHLJJTnR9ELee+89HX744Vq1Kgy6ve+++2qHHXZokK5///4699xzJUkrVqzQuHHjGkTylyxZopNPPlkejftz+eWXq2PHyg4ejnbj+ejvQDOr1H/sTJ2Ku+sti/e2Hanp0EGX7jZMUjjppz0xXUvWrs9Js6a2TqdPna6V0Yyw5+64tfp26ZyflSTp9KnT1fmmR9X5pkf1k5ffLZjmRy/+O2dMtnx1G1xXvPSObnlrdv22TBnz9d90E529Y6hDr1hfpzOe/JfW5M1cu2Ttep02dXr9RXXZbsPUsQOXFnLxWUAbw3cxgCapRhyjd+/e+sEPfiApTNp6yimnaN26hpOYjR8/Xvfee68kqVu3bjrnnHMapDnhhBPq1y+44AJNnz694DH//Oc/67bbbqt/fNJJJxVMV0lMrIIGzjnnHN1777169tln9eqrr2rnnXfWWWedpeHDh2vOnDm69dZb6wcQHTlypC6//PJmHW/8+PG67rrrtOeee2qvvfbS5z//efXu3Vu1tbX65JNP9Nxzz+mRRx6p/0AOHDhQt9xSfMK2H//4x5o8ebLefvttPfroo9p11111xhlnaKutttLMmTM1fvx4zZ4dfriOHj06Z7p1oIQnJc2UNFzSr8zsAHcvOt2lmfVx98WNPMYyhQHFmTK8ZfHetjNn7TBEk96fp+fmLtFrC5dp1D3P6YyRgzWsVzd9vGKN/vj2bL29JPyI3H6z7rqsSBAjrZvf/Eg/f+19fXngZvrywN4a0bubenau0eraDZqxZIXufW+u3l+WDaxcuusw7bNl8S4ol48arikfLdC/l67U5I8WaI+/Pq/Tth+sLbt10XufrdQtb83W7BXhJtm+W/bRGdsPblb50X7xWUAbwncxgCZr6TiGFGZVfvTRRzVt2jQ98MAD2nHHHXXaaadpm2220ZIlS3T//ffndJ8eP358fYvJuEsuuUT33HOPPvjgAy1cuFB77LGHjjvuOO27777q2bOn5s6dq4ceekiPPfZY/T5nnnmmdt9992a/hsYiiIgGOnfurAceeEDHHHOMpk6dqtmzZxf8gO26666aNGlSyZmI0nB3vfDCC3rhhRcS040ePVq33HKLhg0r/gO3d+/eevTRR3XUUUfptdde04wZM+rvEMQdeOCBmjhxojp16lQgF6Ahd681s7MlTZa0t6RnzOxHkp5x9/WSZGbbSDpY0umSHpB0VSMP84bC7ITfMrMp7r6qbC8ARfHetj+dO3bQvYfupuOnvKYnP16k/8/encdZUd35/3+dXmhA9kVRURE3BJe4J66IUdRocAvRMVGIidFoNM44SWYcR51JMr+ZrCb5Rh2Na2IUYwwajSRIQCPqiKIiKO4LCrI1O72f3x+3urlAd3VD36Xpfj0fj/uoulWnqj7N7abufd9Tpz5cU8V1/7d5z6mDBvXhgZMPpm9F+88FEZi5qJKZiypbbNOzrJQffHofvrF/+tV6/SrKeeRzhzJ+ymxeWrqK1yvX8u2Zr2/W7oShA/ndSQdRXurFJWqefwvaVngultQexcgxevbsyWOPPcb48eOZPn06b775ZtOdk7P16NGDm266ifPPP7/Z/fTv358nnniC8ePHM2vWLKqrq7n77ru5++67m21/+eWX89Of/rTd9W8NQ0Q1q3///kydOpVJkyZxzz33MHv2bJYuXUr//v0ZNWoU5557LhMnTqSsrP2/Qi+99BJTpkxh5syZzJkzhw8++ICVK1dSWlpK37592WOPPTjssMMYP348Rx11VJv2OWzYMJ577jnuvPNO7rvvPubOnUtlZSWDBg3ioIMO4stf/jLjx4/fqtu5q2uLMT4RQvgCcDdwBDAVqA0hrAJ6ARVZzf+4FYe4mcyb27OBz4cQFgN1wIIY49HtKl6pfG07n/4V5Tx++mE88PYi7n3jI15auoql62voX1HOyAG9Gb/njlw4YmfKStofOjx62mHMXFTJs4tW8ObKtSxdX8OyqhpKSwIDK7qx/8DeHD90IBfsszMDWrhUdFPD+vTk6bM+w93zP2LSWwuZt3w1ldW1DOrRjU8N6sM/7L0zX9hjiOcytcq/BW0rPBdLao9C5hiNBg8ezLRp03jggQe49957efHFF/nkk0/o0aMHw4cP5+STT+byyy9np512St3P7rvvzrPPPsvDDz/MpEmTmDVrFosWLWL9+vX07t2b4cOHc/TRR3PRRRdtdGfoQguN48LlSE53JnVGj89Nvzuits7Jowbn9JNDCOFO4ELgrhjjhGbWbw98AzgF2AvoA6wF3gWeBx4FHtv0MpwQwntkBgyfGGO8s4Vjfwn4OrA/0JvM+LXvxxiHtfsHU6d/bWu/carnYkkSAOW/eqxDJqud+Vx86K/P9jwsJWZd9GCxS+hq8v5/viGiVGCGiPmR6xBR2lYZIkqSGnXUELEzM0SUNjBELLi8/5/voCGSJEmSJEmSUhkiSpIkSZIkSUpliChJkiRJkiQplSGiJEmSJEmSpFSGiJIkSZIkSZJSGSJKkiRJkiRJSmWIKEmSJEmSJCmVIaIkSZIkSZKkVIaIkiRJkiRJklIZIkqSJEmSJElKZYgoSZIkSZIkKZUhoiRJkiRJkqRUhoiSJEmSJEmSUhkiSpIkSZIkSUpliChJkiRJkiQplSGiJEmSJEmSpFSGiJIkSZIkSZJSGSJKkiRJkiRJSmWIKEmSJEmSJCmVIaIkSZIkSZKkVIaIkiRJkiRJklIZIkqSJEmSJElKZYgoSZIkSZIkKZUhoiRJkiRJkqRUhoiSJEmSJEmSUhkiSpIkSZIkSUpliChJkiRJkiQpVVmxC5AkdXwhhP7AZ4EjgAOA3YD+QA9gPbAceB94BXgOmBpjXFGcaiVJkiRJuWaIKElqVgihB3Ae8GXgaDbvvR6S6XbAQGAvMkEjQEMI4UngHuD+GOP6/FcsSZIkScoXL2eWJG0khDAghPAD4EPgVuBYoJRMaJj9WA18BKxpZl0pMBr4NfBhCOH7IYQBhf1JJEmSJEm5Yk9ESRIAIYRuwD8nj95s6Gm4BPg78CyZS5VfAypjjHVZ25YBA4B9yVzyfASZ3ouDk+XfBS4LIfwP8KMYY00hfiZJkiRJUm4YIkqSGs0DdicTHq4FJgO/Bf4SY6xP2zAJFBcnjxkAIYRS4ETgS8A4oA/wn8BEMpc+S5IkSZK2EYaIkqRGw4FK4KfAjTHG1e3ZWRI8Pg48HkLoDVwJXJUcR5IkSZK0DXFMRElSo2uBYTHG77U3QNxUjHF1jPF7wDDg33O5b0mSJElS/tkTUZIEQIzx+wU4xmog78eRJEmSJOWWPRElSZIkSZIkpTJElCRJkiRJkpTKy5klSTkRQhgFHEXm3PJyjPHpIpckSZIkScoRQ0RJUqoQwk7A1cnTO2OMrzTT5mbga5ssexI4K8ZYmf8qJUmSJEn55OXMkqTWnAd8i0xI+M6mK0MIVwAXA2GTx7HApMKVKUmSJEnKF0NESVJrjk2mf4sxrsleEUIoA/41eVoN/Ai4HHieTJA4JoRwaqEKlSRJkiTlhyGiJKk1w4EIPNfMujHA9sn6S2KM344x/go4HvgoafMPBalSkiRJkpQ3hoiSpNYMSqbvNbNuTDJdBfy2cWGMcR1wL5neiIfmszhJkiRJUv4ZIkqSWjMgma5rZt1RZHohTosx1m2ybn4y3TlfhUmSJEmSCsMQUZLUmppk2jd7YQihOxt6Gf69me1WJtOKPNUlSZIkSSoQQ0RJUmsaxzY8aJPln2VDQDizme36JdM1zayTJEmSJG1DDBElSa15lszYhl8KIewBEEIoBa5O1q8AZjWz3b7J9IO8VyhJkiRJyitDRElSa+5Ipv2A50MIDwEvA8eSGQ/xNzHG+ma2OyZZP6cgVUqSJEmS8sYQUZKUKsY4A/g1md6I/YDPs6GX4cfAf266TQhhGHBY8vTpvBcpSZIkScorQ0RJUltcDFwFzCVzo5UVwCTg6Bjj0mbaX5Y1PyX/5UmSJEmS8qms2AVIkjq+GGMEbkwebfFj4JfJpo6JKEmSJEnbOENESVLOxRgXFbsGSZIkSVLueDmzJEmSJEmSpFSGiJIkSZIkSZJSGSJKkgAIIdwYQtghz8cYEkJo67iKkiRJkqQOwhBRktTom8A7IYSfhBB2zOWOQwg7hRB+BrwDXJ7LfUuSJEmS8s8QUZLUaDbQA7gSeD+E8OcQwvkhhJ5bs7MQQs9k+8eB98iElN2T40iSJEmStiHenVmS1OhQ4OvAvwNDgJOSx/oQwvPA/wHPAfOB5cDyGGN1CKE7MCB57AMcARye7K9Hsu8ALAKuB24t0M8jSZIkScoRQ0RJEgAxxgjcHEK4C7iMTM/BXYCewLHJYyMhhHqgtIVdhmT6AfAz4OYYY1Wu65YkSZIk5Z+XM0uSNhJjXB9j/BEwHDgT+AOwnkwouOmjrIXl64AHgTOA4THGnxkgSpIkSdK2y56IkqRmxRjrgcnA5BBCN+AoMpcq7wfsRuby5Qqgmszlze8Br5K55HlmjLGmCGVLkiRJkvLAEFGS1KokEPxb8pAkSZIkdTFezixJkiRJkiQplSGiJEmSJEmSpFSGiJIkSZIkSZJSGSJKkiRJkiRJSuWNVaQCO3nU4GKXIEmSJCkPZl30YLFLkKS8sSeiJEmSJEmSpFSGiJIkSZIkSZJSGSJKkiRJkiRJSmWIKEmSJEmSJCmVIaIkSZIkSZKkVIaIkiRJkiRJklIZIkqSJEmSJElKVVbsAiRJ254Qwq7AvkB/oFuM8e4ilyRJkiRJyiNDRElSm4UQLgb+Edhrk1V3b9LuGuA4YEGM8SsFKk+SJEmSlCdezixJalUIoVcI4a/ATWQCxJD1aM6zwGeBC0MIowpTpSRJkiQpXwwRJUlt8TvgBDKh4bvAfwE3p7SfBixK5k/Lb2mSJEmSpHwzRJQkpQohnAp8DojAXcCIGOM1wJSWtokxRuCvZELHowtRpyRJkiQpfwwRJUmtuSCZvgF8NcZY18btXk6m++a+JEmSJElSIRkiSpJa8xkyvRDvjjHWb8F2jZcz75D7kiRJkiRJhWSIKElqzfbJ9K0t3K4mmXbLYS2SJEmSpCIwRJQktaYqmZZv4XaDk2llDmuRJEmSJBWBIaIkqTUfJ9MtHdvwM8n0nRzWIkmSJEkqAkNESVJrZpC5y/IXQwhtOm+EEHYAziYzluLf8libJEmSJKkAQowxl/vL6c4kaQuEYhfQWYUQPg3MJPN//P/EGP8lWT4OeAiIMcbSrPY9gD8BxwN1wIgYo70RCyR+NN9zsbq8W/Y5qtglSB3CJWuW+v6o8DwPSyqWvP+fb09ESVKqGOOzwCQyJ6VvhxAmhRCOYJMxEkMIO4cQJgKzgdFk3kTfZIAoSZIkSdu+smIXIEnaJnwF2A04gsxlymcnyyNACKGOjb/5CsBU4J8KWKMkSZIkKU/siShJalWMcR1wHHAjUEsmJGx8QOZ80vi8FvgxcGqMsa7w1UqSJEmScs2eiJKkNokx1gBXhRD+GxgPHAMMA/oCa4CPyNyE5b4Y44Ji1SlJkiRJyj1DREnSFokxLgJ+njwkSZIkSV2AlzNLkiRJkiRJSmWIKElKFUKYFkJ4IoRw5BZud1jjtvmqTZIkSZJUGF7OLElqzWgyd2EetIXbDcjaVpIkSZK0DbMnoiRJkiRJkqRUhoiSpHypSKY1Ra1CkiRJktRuhoiSpHw5IJkuL2oVkiRJkqR2c0xESVKTEMKuwLAWVu8XQljR2i6A7YCDgW+TGQ/xpZwVKEmSJEkqCkNESVK2icC/N7M8AP+5hfsKZELEu9pblCRJkiSpuAwRJUmbClu4vCW1wI9ijJPaWY8kSZIkqcgMESVJ2aY3s+w6Mj0KJwGvt7J9A7AGeBd4Ksa4LKfVSZIkSZKKwhBRktQkxjgDmJG9LIRwXTL7uxjjw4WvSpIkSZJUbIaIkqTW3JBMW+uFKEmSJEnqpAwRJUmpYow3tN5KkiRJktSZlRS7AEmSJEmSJEkdmz0RtxEHXvdEsUuQOrSXbzih2CVIkiSpi3vk/QeLXUKXcvpuZxe7BKlLMUSUJLVZCOEY4MvAEcBQoA+t92qPMUbPN5IkSZK0DfNDnSSpVSGEXsDdwLjGRUUsR5IkSZJUYIaIkqS2mASMJRMergXmAJ8GIjAPWA/sBgxO2kfghaStJEmSJGkb541VJEmpQginAScnTx8AdowxHpnV5JoY4+Exxh2AQ4DJZMLGHsBFMcbjC1qwJEmSJCnnDBElSa05P5kuBybEGNe01DDGODvGeCbwfWAUMDmE0L0ANUqSJEmS8sgQUZLUmiPIXJ58T4xxfTPrNxsfMcZ4LfASMBK4OL/lSZIkSZLyzRBRktSa7ZPpG5ssj8m0pZ6GvyUTMH4hH0VJkiRJkgrHEFGS1JrGm3At2WR542XNg2neh8l0z5xXJEmSJEkqKENESVJrliXT7TZZ/kkyHdHCdkOSaf+cVyRJkiRJKihDRElSa15PpntssvxlMpcrnxZCaO58clYyXdbMOkmSJEnSNsQQUZLUmmfIhIWHb7J8cjLdBbg1hNAHIISwXQjhp8CxZMZNfKpQhUqSJEmS8sMQUZLUmseT6XGNQWFiEvBWMj8BWBJC+BhYCVyRLG8AflKIIiVJkiRJ+WOIKElKFWP8O3AXmZ6H+2ctrwHOBpaS6alYTmYcxJLkeT3wzRjj/xW6ZkmSJElSbpW13kSS1NXFGCe2sHxOCGEE8E3gBGAHYB3wPPCrGOPLhatSkiRJkpQvhoiSpHaJMVYC/5E8JEmSJEmdkJczS5IkSZIkSUpliChJShVCuD15fGoLt9sv2e7X+apNkiRJklQYhoiSpNZMAC4Edt3C7XZOtp2Q23IkSZIkSYVmiChJkiRJkiQplSGiJClfGm/eVVfUKiRJkiRJ7WaIKEnKl32S6YqiViFJkiRJarey1ptIkrqKEEIfoF8Lq7cPIbQ2LmIAtgMOBv4ZiMCruatQkiRJklQMhoiSpGxXAf/ezPIA3LKF+wpkQsT721uUJEmSJKm4DBElSZsKW7g8zX3Are2oRZIkSZLUARgiSpKyvQTctcmyC8n0KJwOfNDK9g3AGuBd4IkY45xcFyhJkiRJKjxDRElSkxjjZGBy9rIQwoXJ7I0xxocLX5UkSZIkqdgMESVJrbmbTE/E1nohSpIkSZI6KUNESVKqGOOEYtcgSZIkSSouQ0RJUk6EEAKwF5lzy9sxxuoilyRJkiRJypGSYhcgSerYQgg9QwifTx67tNDmPOBj4DVgDrA4hHB9AcuUJEmSJOWRPRElSa05B7gTqAeGb7oyhDAW+E3j02TaG7g2hNA7xvhPhShSkiRJkpQ/9kSUJLXmxGT6XIzxw2bW/5BMeBiAWcDvgZXJ8ytDCAcWpEpJkiRJUt4YIkqSWjOSzN2Zn9x0RQjhYGC/ZP1PYoyHxxjHA4cBa8kEiV8pYK2SJEmSpDwwRJQktWZwMp3fzLqxybQW+H7jwhjjW8AkMiHi0XmtTpIkSZKUd4aIkqTWDEqmq5pZ1xgQzowxVm6y7vlkunteqpIkSZIkFYwhoiSpNY03S+mx0cIQAvAZWrjUGViaTHvlrzRJkiRJUiEYIkqSWrMkme69yfLDgX7J/MxmtuuZTKvyUZQkSZIkqXAMESVJrXmJTG/E80II2b0Rv5ZMa4Gnm9lueDJdmMfaJEmSJEkFUFbsAiRJHd4DwGnAnsD0EMK9wCgyd12OwKMxxrXNbHdEMn2tIFVKkiRJkvLGEFGS1JrfAt8EDs16NKoBrt90gxBCH+B4MiHjs/kvUZIkSZKUT17OLElKFWNsAE4BJieLQvL4GDgnxjinmc0mAN2S+an5rlGSJEmSlF/2RJQktSrGuAw4M4QwmMxYh+uAuUnA2JzXgYmZTeOsApUpSZIkScoTQ0RJUpvFGJew4W7Nae3+UoByJEmSJEkF4uXMkiRJkiRJklIZIkqSJEmSJElKZYgoSZIkSZIkKZUhoiRJkiRJkqRUhoiSJEmSJEmSUhkiSpIkSZIkSUpliChJkiRJkiQplSGiJEmSJEmSpFSGiJIkSZIkSZJSGSJKkiRJkiRJSmWIKEmSJEmSJCmVIaIkSZIkSZKkVIaIkiRJkiRJklIZIkqSJEmSJElKZYgoSZIkSZIkKZUhoiRJkiRJkqRUhoiSJEmSJEmSUhkiSpIkSZIkSUpliChJkiRJkiQplSGiJEmSJEmSpFSGiJIkSZIkSZJSleVyZzFGJk2axD333MNLL73EkiVLGDBgACNHjuS8885jwoQJlJW1/5CjR49mxowZW7zdHXfcwYQJE1pcX6j6JUlSYcQYmfTIn/nNg5N5ae7rLFm+nAH9+jFyrz04d9znmDD+zJyd29etX8/L815n1suv8uKcucx6ZS6vv/UO9fX1AEybdBejjzxii/ZZW1vLnZMe4v6HH2Pem2+zfMUKBg8YwEH77cv5Z32e8aefQgghJ/Wrc4sx8kJ9Dc/VVbOgoZ41sYGeIbBjKOXQsgo+U1ZBaY5/l+bUZY73bkMdq2MDpQT6hRJGlpZzdHkFO5a0/W+vPkaeqatmVl01C2M962KkVyhhl5JSDi+r4JDSbv4tSCqIQuUG69at48knn+T555/n+eef55133mHp0qUsX76ciooKhgwZwsEHH8w555zDWWedRWlpaer+Fi9ezOOPP8706dOZPXs27777LmvXrqVPnz4MHz6cY489lq9+9avsu+++7a5dnVeIMeZmRyH0HzNmzPJp06a12Obggw/moYceYtddd23XsbY2RJwxYwbHHntss+sqKys555xzKET9W+PA654o+DGlbcnLN5zgJwcJiB/Nz82JvROoXLGSL3z9SqY9/WyLbQ7efyR/uO2X7LrzTu0+3qD9jmD5ipUtrt/SEPG9Dxdw9teuYPar81ps89ljjmTSzT+jX98+W1RrZ3fLPkcVu4QOZW1s4Naq1cxvqGuxzS4lpVxS0ZsBJekfQttiVWzg9laOVwp8vrwnJ3Xr0er+ljXUc0v1aj5sqG+xzYiScr7WvRc9gxdaZbtkzVLfHxXYI+8/6Hm4gE7f7eyCHq+QucHjjz/OKaec0qa2BxxwAPfffz8jRoxodv0VV1zBr371q6YvNltSUlLCVVddxX//93+3GkqqQ8r7//k5+eo9hNANmNz4h7TLLrtw8cUXs+eee7JgwQJuv/12XnvtNV588UVOOeUUnnnmGfr02fo3u9/73vdYunRpq+2efvppfvSjHwGwxx57cMwxxzTbrqamhnHjxvHUU08VpH5JkpRfNTU1nHHRZTz13CwAdtlpR752/nj2HLYrCxYu4o77/8Brb77Ni3PmceqXL2bm5Pvo07tXu45Z39Cw0fNdd96JmtpaFi1essX7WrFyFad++WJef+sdAPbdaw8mfvEshu44hLfe+4BbfzuJDz9eyNSnZnL2177JlHt/7dUSalZdjNxctZq3kkCvfyjh6LIKBpeUsiI2MLO2mkWxng8b6vll1Wr+uUcferQjiKuKkV9UrWJBEvj1InBkeQVDS8poiPBOQy3P1FVTCzxUu47SACeUtxwkrosN/LJqNYtiZn9DQilHllfQL5SwpKGev9dVUxkbeL2hlluqVnNF9z4571EpSVC83GDkyJEcfvjhjBgxgqFDh9K9e3dWrFjBiy++yH333cfy5ct55ZVXOO6443j55ZcZMmTIZvuYN29eU4A4atQoxowZw/7770+/fv1YvHgxjz76KH/+859paGjgxz/+MStXruTWW29td+3qfHLSEzGEcCXwM8ik7lOnTqV///5N66uqqjjjjDOYMmUKAFdffTU//OEP233c1px77rncf//9QCZ4vOaaa5ptd+ONN/Ktb30L6Fj1Z7MnopTOnohShj0RM2687W6uuv4HQKa34V9/dwf9+/VtWl9VVc2ZF13GlBl/B+Cfvv4Vfnjtt9t1zAnf+g5777E7h+w/ikMO2I9BA/oz8arvctcDfwS2rCfiVdf/FzfedhcAJ48+hj/c9ku6d69oWr+8cgUnnveVpl6Kv/jetVw24fx21d+Z2BNxg2m163mgZh2Q6W14Zfc+bJcVEtbGyM3Vq5lXXwvAZ8u7c3a37bb6eA/VrOUvtVUA7Jwcr/cmoeSihnp+WrWSVTFSBlzbox/bt9AD8oHqtUyry+xvZGk5l1T0pjwrJFwbG7ixalVTL8UvdtuO0eXdt7r+zsaeiIVnT8TCKmRPxELnBsuWLaOmpoYdd9yxxTbLly/n1FNP5bnnngPgkksu4aabbtqs3dixYxk8eDBXXXUVhxxySLP7+v3vf895551HXV3mS6cnnniCMWPGbHX9Koq8/5/f7hAxhFAGfAwMDiEwZ84cRo0atVm7xYsXM3z4cNauXUtFRQUfffQRAwcObNex01RWVrLjjjtSXV1NSUkJ77//PkOHDt2sXV1dHTvttBNLliyhI9W/KUNEKV2hQ8QQwmjgbwAxxpweO4TVCm/AAAAgAElEQVRwPXAdMCPGODqX++7sfF0MESFzbt/5kGNZsmw5IQRemfowo/bZa7N2i5cuY48jT2TtunVUVHRjwawZDMz6MJALWxMiLl66jF0PH01NTS3b9ezJ2zP/yvaDNn/P8errb3DgieOIMTJk+8F8+Px0Lz1KGCJm1MfId9dVsoZIAP6tR192amYcwlWxgX9fV0k1mcuU/qtnf3ptRW/E+hi5el0lVcnxrunRl51bGPfwhbpqbqteA8Dhpd2Y2L13s3Vds66SOqAC+I+e/enTTF0fNdTx/fUriUCfEPivHv0psTciUPgQ0fOwIWKhFSpE7Mi5wezZszn44IOBTO/IDz74YLM2lZWVGwWeLbn66qv58Y9/DMAFF1zAXXfdldtilW95/z8/F4OGjAEGA5xwwgnN/iEBbL/99px77rkAVFdXM3ny5BwcumX33nsv1dXVAJx44onNBogA06ZNY8mSzGVGHal+SdpaIYQzQgjXhxDOKHYt2sDXpXCmPf0sS5YtB+CEoz/TbIAIsP2ggXzx86cCUF1dw+QpLY9vVEh/fHwqNTWZXmHnjvtcswEiwH4j9mbMUZ8GYNHiJcx49vmC1ahtw/z6WtaQyTP2KSlvNkAE6BNKOKQs09O1Dnilrmarjvd+Qx1VyfF2LiltMUAEOKi0G419a1+ur6GmmY4NL9fV0Diq4qFlFc0GiJljlbF3STkAq2LkjZSxGNV1eR5We3Tk3GDkyJFN84sWLWq2TVsCRIAvfOELTfNz5sxpX2HqlHIRIp7UOHPyySenNsxe//jjj+fg0C27/fbbm+a/8pWvtNjuL3/5S9N8R6pfUoe3DpifPDqaM8h8U98V3yT7uoi/PPl00/zY0Uentj05a/2U6U/lraYt8des+k9upf7sn+/xv3WM+tVxvJZcogwwqqw8te2o0g3r52ZttyUq44ZxQXcI6b1iS0JgUHIJczXwVjPHzK5/ZGkr9Wf9fPPqty4EVU54Hlan1JFzg7fffrtpvrnxELdE794beoWvX7++XftS55SLEbj3a5xp6dr6RoceemjT/KuvvpqDQzfvlVde4cUXXwRgwIABjBs3rsW22XV0lPoldXwxxv8Dmr/9mYrG10UAc19/s2n+kP2b7ynQ6NADm97G8Or8N1NaFk52HYcc0Er9B2yof24HqV8dx8dxw104d03pFQiwW9b6j1PugpwvH8V6Rm6y7OOsHoW7dfD6leF5WJ1VR80N1q5dyxVXXNH0/KyzzmrX/rLr3W233dq1L3VOuQgR926cGTZsWGrDoUOHUlpaSn19PW+++SYxRkIexivJ7oV4/vnnU1FR0WLbN954o2m+o9QvSZK23hvvvtc0P2yXnVPbDt1xyIZz+7vvF/3c3tDQwNvvfwhAaWkpQ3dM71Gw29ANP98b77yXz9K0DfokK0wb2MoYh/1CCSVAA7A41m/V30L25caLY3qQ1xAjS7Pq+2ST4K8hRpYkPRtLkvrSDMg+tiGipBwrdm6wZs0apk6dCkCMkVWrVvHKK6/wu9/9joULFwLwqU99iuuvv75dx/nf//3fpvnPfe5z7dqXOqdcXM7cr3Fm0KBBqQ3LysqabnFeV1fH2rVrc3D4jdXW1vLb3/626XnapcwAK1asaJrvCPVLKr4QwvQQQkzGzSkPIfxTCGFWCGFFsnx08oghhBYHzw4h7B9CuD+EsCiEUBVCeCeE8IsQwvZt2T5rPyeEEB4NISxJ9vNaCOG6EEL3TdqNTvZ3YbLowsZjZD1Gt+sfp4h8XdRWK1aubpofNCB9DKCysjL69OoFJOf2devyWltr1qxd13RXxH59elNWlv5978D+TW/DWLFqVV5r07ZnfdY4g9u1EsKVhkD3ZDz2BjKXGG+p3UrKmnooLGio56OUsQlfqq/Z6BjrNxkTsZpI48XRPQiUtvIBfLus9evaeeNINc/zsLqyYucGCxYs4Mwzz+TMM8/krLPOYsKECfzkJz9h4cKFDBgwgKuuuoqnn36afv36tb6zFtx333088UTmhq477LBDq1mKuqZchIi9Gme6d++e1g6AHj16NM2vXr06peXWefjhh1m6dCkABx10EJ/61KdS269Zs6ZpviPUL6lD6Q5MB34EHEjmc1WbPpmEEM4EXgDGAzsAtcCOwOXAS8CwNu7nn4G/AqeQ6T3ejcxlQtcDj4Ww0aBTNcAnQFXyvCp5nv3oDANF+boo1ZqsILB7ytUIjXp039Bm9ZrifkG4JuuDxhbX7peb2kR11n+N6SMKJm2ycrrqrQjiuoXAYckNWiJwZ/Ua1mSNk9jok4Z6JtVs/Pu6fpP/xquznpa3oQdPt6wbUla37ZSgred5WF1OR84NjjzySI477riNjrml5s2bx8UXX9z0/Be/+AXbbbddLspTJ5OLELFDueOOO5rmTc4ltdNlwAHARKBPjHEAmbvRv5K2UQhhOPAbMp/ZXgQOjTH2BnoCJ5J5o/qTNhz/QOD/Sx7bxxj7k+n9/R/J+uPZ8K06McaZMcYhwP3JovtjjEM2ecxsw3E7Ol8XSeqgxpX3pG8S+i1oqOeGdSv4Y81anq+r5rm6au6rXsMP1q9gZYwMyuod6QBB2xTPw1KBjRgxghgjMUbq6ur45JNPeOSRRxg7dix/+tOfOOOMMxg/fvxW9XpctGgRp59+elPY+Y1vfGOjuzRL2XIxJuIaoD9AVVUVvXr1Sm2cfYef7Dv/5MLChQub7n5UUVHB+eef3+o2vXr1orKyEih+/ZK2Xgjhhba0izGmj4S8sV7A52OMj2Rtvyw5Xtp2/0rmDfFi4MQY4/Jk2whMDSGMBV5uw/H7ATfEGK/POv4q4LoQwn7AWcB5wO3Nb95pdcnXpa2/4w0LXs/lYbdJvXr2pHLlSgCqqqvp1colweurNlxU2btXcb9175X1rX9VdesXlG5Uuz0GtIkKAuuSDmK1QPr9kqE2qy9ZxVaO39W3pIQruvfh5qrVLIkNrCEypbZqs3afKatg55JSfl+T6Tncc5MYsSLraW0bekXWZHWEqzCSzDfPwykefu/3uTysOoiOlBuUlpay/fbbc9ppp3Haaadx7bXX8r3vfY/f//73hBCYNGlSm/e1fPlyTjrpJN555x0AzjnnHH7+85/ntF51Lrnoidg0OEDjZcQtqaurY1UyXk95eXnOu8fefffd1NdnBlI+44wz6N8/fRwkYKMxA4pdv6QOZ272G+S2CJl3z2cnT29qfIOcLcY4H2jL2b2azKVCzZmcTA/Ykvo6CV8XperXd8Ob9aXLK1Pb1tXVsSq5RKm8vJztevbMa22t6bVdz6ZxEFesWt00PmJLllVuGKOpXzL+ktSoR1ags7aZy4qz1cdIVRLElQKtX0zfsp1Kyri2Rz/O7bYd+5SU04tAKdAnBPYvLecbFb25oKLXRmMX9t1kzMYKQtMHlfVE6lsJEtdmre/pjQ/zzfOwupyOnBvccMMN7L135n63DzzwAPPmzWvTditXruSkk05izpw5AJx++unce++9lJa29pWTurJc9ER8A9gd4L333ku9U9GCBQuaQr4999wz53c/3JpLmffee2/effddoPj1S9p6W9jDsK2e3opthrPhhlMzUtpNB77cyr7mxhjXtLDu42Q6oO2ldRpd8nVp6+94/Gh+lx8MbO/dh/HuBwsAeO/Djxi2y9AW2y5YuGjDuX3YrkU/t5eUlLDHbrsw/+13qa+vZ8HCRan1v7/go6b5vYcPK0CF2pbsUFLKsvpMeLgsNjAwpS/iitjQdCOTwaG03X8L5SFwXHl3jitveeywRVl3Ud6tdOOPJSUhMDiU8ElS14rYwMDQcv3Ls0LS7Uv8AJxnnodTPPL+g13+PNwZdeTcoKSkhBNPPLHpDtIzZsxg5MiRqdusXr2asWPH8sILmQ62Y8eO5YEHHqC8vC0j6Kory0VPxFcbZxp/AVsya9aspvn99tsvB4feYObMmcyfPx+AXXfdlc9+9rNt2i67jmLWL6lDWrwV2wzOmv+4xVbwUcq6RmmjMDd2T8rFl0HbGl8XpRo1Yq+m+RfmzE1tO+vlprcx7LfPXiktCye7jhdeaaX+VzbUP6qD1K+OY6es0O2DlDslA7yftX6nAoRwDTHyVkMtkBkPcY+Szf/b3Clr2fsdrP4uzvOwupyOnhtkXzKdfSfp5qxZs4ZTTjmF5557DoAxY8bwxz/+kYo23NBNykWIOKVpZsqUtHZN4xUCnHzyyTk49Aa3375hyIsLL7yQkpK2/Whjx45tmi9m/ZI6pPrWm6Tym+j88HVRqrHHHd00/5cZf09t+/j0DevHjj4mbzVtiZOy6p/SSv1Tsuo/+fiOUb86jpFlG3qUzKurTW07t37D+lGl+e+JMre+llXJJcgjSssZ0EzwNzKrjtfqW6k/6+cbWdotR1WqBZ6H1eV09NzgrbfeapofNGhQi+3WrVvHaaedxtNPZzoUH3vssTzyyCNtuuO0BLkJEf8GLAGYOnUqc+c2/4354sWLue+++4DMLdHHjRuXg0NnrFu3rmnw0BACEydObPO2xx9/PIMHZ74YK1b9kjqVJVnzO6W02znfhWgjvi5dyPFHHsHggZkr2aY+9Qxz57/ZbLvFS5dx/8OPAdC9ooJxY8cUrMY0Z5z8Wbp1y4Qn901+lMVLlzXb7tXX32Da088CMGT7wRz36cMKVqO2DXsn4xECvN5Qy8ct9OZbFRt4oS5zk55y4ICy/IZwNTHyh+SGKgAntnDJ84Fl3Zq6kz1fV82qFsZ1/KihjjeSXo19QmDvZno1qug8D2ub1pFzgwULFvDYY481PT/yyCObbVdVVcW4ceOYMSMzosBRRx3Fo48+Ss8ijwetbUu7Q8QYYx3w/WSeCy64oOmuRY2qqqq48MILm243fvnllzNw4MBm9zdhwgRCCIQQuP7669tUwwMPPNB0O/LRo0ez++67t7n+srIyrrnmmsafpd31S+ry3mHDDadGp7RLW9dejZ+yHLh1A1+XLqSsrIx//eYlQObcfuG3vkPlipUbtamqqmbCt77L2nWZIOOyCeczsIUbsk286ruUDB1BydARXP/jX+S3eGDwwAFcesE/ALBm7TomXvUvVFVtfKfmyhUrufBb3yUmPbmuueISB0LXZkpD4JRuPYBM1687q9dsdoOV2hi5q3oNjb9hx5V3p1do/iPCXdVruHTtMi5du4w/ZYWAm3ozpdfgqtjAr6pWsShmOrN9pqyCfVvoOdg7lHBsWSZgrAburl6z2Z2a18YG7qpe09S17ZTynpQ4bnlH5HlY27Rc5wZtyT2+853v8P7776fW9fbbb3PaaaexLnk/c9xxxzFq1KjN2tXU1HD22WczdepUAI444ggee+yxVu8yLW0qV1/T3UTmblvHvPjiixx44IF8/etfZ88992TBggX8+te/5rXXXgNg5MiR/Nu//VuODpuxNTdUyXbppZfy4IMP8tRTT1GM+iV1HjHGGEL4A/AV4JIQwo0xxo3eYYQQ9gLG57GMVcm0X2qrLsTXpeu59IJz+cOf/8JTz83ixTnz+NRJZ3Dxl77InsN2ZcHCRdx+34O89ubbAIzce0/+7cpL233MaU8/29QzsNHsV19rmr/9vgeZ+vdnNlp/9de/Qr++m99V+bqrLmPK9Kd4/a13+PPfnuSQU87iovPOYechO/DWex/wv7+5nw8/XgjA6M8czsXn5/NXV9uyY8u6M7uuhrca6viwoZ7vr1/JMWUVDC4pZUVs4Ona6qZAb8dQyqnlPdp9zP9XtYreoYT9Sruxc0kpPUNgXYy821DHi3U1TXeB3rukjC92S79r6ee69WBefS2LYj1z62v5wfqVHFVeQb9QwpKGep6qq6YyCUb3LinjmDLH9OqIPA+rMyh0bnDLLbfwwx/+kE9/+tMceeSR7LPPPvTr14+6ujo+/vhj/v73v/PYY49RU1MDwJAhQ7jtttua3deECROaeiv27t2bSy+9lGnTprVawxlnnNGun0GdT05CxBhjTQhh3JgxY5ZPmzaNDz/8sNk/mIMPPpiHHnqIvn375uKwQCZ5f/LJJwHo27cvZ5999hbvo1u3bkyePJlzzjmHQtcvqVP6L+A8YAfgLyGEi2OMs0Pm1mzHA7cB64B8fdJpvNPCMSGEETHG1/N0nG2Nr0sX0q1bN/746//HF75+JdOefpYPP17Itf/zs83aHbz/SP5w2y/p26d3M3vZMk8++zw/+PnNLa7/zR8e3mzZV887p9kQsV/fPjx2z/9y9teuYPar83jtzbe5+j/+e7N2nz3mSCbd/DPvpqgWlYXAJd17c2vVauY31FEZG3i4dv1m7XYpKeWSit70aKEX4pZaGhuYXlfV7LoAHF1WwTndtqNbK70Ge4YSLu/em1uqV/NhQz2LYj0PNtMLckRJOV/r3otSeyF2ZJ6HtU0rRm4QY+SZZ57hmWeeSW03evRobrvtNvbYY49m18+cObNpfvXq1UyYMKHNx5ey5WzAkBhjZYyRSZMmcc899zB79myWLl1K//79GTVqFOeeey4TJ06krCy3Y5TceeedTb/Y5557Lj16bN23p/3792fq1KkFr19S5xNjfCuEcAHwO+BQ4MUQwmqgFOhJ5s6D/wjcAVS3uKOt9yDwAzJ3QnwthLAUWJusOzfG+GyLW3Zivi5dT/9+ffnrfXcw6ZE/85sHJzP71ddYWllJ/759GbX3nnzx86cy8Ytnddhz+7BdhvLsI/dz56SHuP/hx5j7xltUrlzJoP79OWi/ffnS2eMYf/opBEMTtWK7UMKV3fvwQn0Nz9VV82FDHWtjpGcI7BhKObSsgs+UVeQsgLuoojev1dfyTkMtK2IDa2OkgkC/khL2LSnniPIKhm7BuIUDS0r5Tve+PFNXzay6ahbGetbFyHYhsEtJGUeUVXBIaTf/Fjo4z8PqDAqZG7z00ktMmTKFmTNnMmfOHD744ANWrlxJaWkpffv2ZY899uCwww5j/PjxHHXUUTn46aTWhRwny8bUeXLgdU8UuwSpQ3v5hhNy9skhhDAdOA64IcZ4fQttRpO5sRQxxmaPHUI4ELiGzPg+fcm8OX6YzDiyRwN/AD6JMQ7ZZLvrgeuAGTHG0Vtz/BDCiGQfxwDbkxkrH+D4GOP05vbZ0fm6tE38aL7nYnV5t+zjhykJ4JI1S31/tPH6vJ+HH3n/Qc/DBXT6blt+JaLUieX92zRDxG2EIaKULpchYiGEEL4P/CswLcZ4QrHrUUZneF0MESVDRKlRLkPEQugM52FDxMIyRJQ2kvf/83Mz6Ikkqc1CCIOBryZPHy9mLdrA10WSpOLxPCxJHZ8hoiTlQQjhihDCd0MIe4YQypJlFSGEU4EnyVxCswS4vZh1djW+LpIkFY/nYUnatnXMkcQlads3HLiSzJ0I60MIK4E+bPh/dyUwPsa4rEj1dVW+LpIkFY/nYUnahhkiSlJ+3AXUA8cCOwMDgfXAu8AU4MYY40fFK6/L8nWRJKl4PA9L0jbMEFGS8iDGOBuYXew6tDFfF0mSisfzsCRt2xwTUZIkSZIkSVIqQ0RJkiRJkiRJqQwRJUmSJEmSJKUyRJQkSZIkSZKUyhBRkiRJkiRJUipDREmSJEmSJEmpDBElSZIkSZIkpTJElCRJkiRJkpTKEFGSJEmSJElSKkNESZIkSZIkSakMESVJkiRJkiSlMkSUJEmSJEmSlMoQUZIkSZIkSVIqQ0RJkiRJkiRJqQwRJUmSJEmSJKUyRJQkSZIkSZKUyhBRkiRJkiRJUipDREmSJEmSJEmpDBElSZIkSZIkpTJElCRJkiRJkpTKEFGSJEmSJElSKkNESZIkSZIkSakMESVJkiRJkiSlMkSUJEmSJEmSlMoQUZIkSZIkSVIqQ0RJkiRJkiRJqQwRJUmSJEmSJKUyRJQkSZIkSZKUyhBRkiRJkiRJUipDREmSJEmSJEmpDBElSZIkSZIkpTJElCRJkiRJkpTKEFGSJEmSJElSKkNESZIkSZIkSakMESVJkiRJkiSlMkSUJEmSJEmSlMoQUZIkSZIkSVIqQ0RJkiRJkiRJqQwRJUmSJEmSJKUyRJQkSZIkSZKUyhBRkiRJkiRJUipDREmSJEmSJEmpDBElSZIkSZIkpTJElCRJkiRJkpTKEFGSJEmSJElSKkNESZIkSZIkSakMESVJkiRJkiSlMkSUJEmSJEmSlMoQUZIkSZIkSVIqQ0RJkiRJkiRJqQwRJUmSJEmSJKUyRJQkSZIkSZKUyhBRkiRJkiRJUipDREmSJEmSJEmpDBElSZIkSZIkpTJElCRJkiRJkpTKEFGSJEmSJElSKkNESZIkSZIkSakMESVJkiRJkiSlMkSUJEmSJEmSlMoQUZIkSZIkSVIqQ0RJkiRJkiRJqUKMMZf7y+nOJGkLhGIXIHUE8aP5novV5d2yz1HFLkHqEC5Zs9T3R4XneVhSseT9/3x7IkqSJEmSJElKZYgoSZIkSZIkKZUhoiRJkiRJkqRUhoiSJEmSJEmSUhkiSpIkSZIkSUpliChJkiRJkiQplSGiJEmSJEmSpFSGiJIkSZIkSZJSGSJKkiRJkiRJSmWIKEmSJEmSJCmVIaIkSZIkSZKkVIaIkiRJkiRJklIZIkqSJEmSJElKZYgoSZIkSZIkKZUhoiRJkiRJkqRUhoiSJEmSJEmSUhkiSpIkSZIkSUpliChJkiRJkiQpVYgxFrsGSZKkTiGE8AJAjPGQYtciFYt/B5IkdU72RJQkSZIkSZKUyhBRkiRJkiRJUipDREmSJEmSJEmpDBElSZIkSZIkpTJElCRJkiRJkpTKEFGSJEmSJElSKkNESZIkSZIkSakMESVJkiRJkiSlMkSUJEmSJEmSlCrEGItdgyRJkiRJkqQOzJ6IkiRJkiRJklIZIkqSJEmSJElKZYgoSZIkSZIkKZUhoiRJkiRJkqRUhoiSJEmSJEmSUhkiSpIkSZIkSUpliChJkiRJkiQplSGiJEnq8kIIpSGEfwwhzA4hrA0hxORxRghhejJ/fY6OldP9SR1VCGFiCOGZEMKqrL+pbyXr7kye35mjY+V0f5IkaXNlxS5AkiSpA/gZcHkyXwN8ksxXFaccadsWQvgn4EfJ0zpgMRCBtUUrSpIktYs9ESVJUpcWQugNfD15+m2ge4xxSPJ4HPgAmA8sLVaN0jbon5Ppz4GeMcYdkr+pW5PlC8n8XS0sSnWSJGmL2RNRkiR1dSOA8mT+phhjzF4ZY7yg8CVJ264QwmBgh+TprTHG2k3bxBj/BfiXghYmSZLaxZ6IkiSpq+vZOBNjXFPMQqROomfWvH9TkiR1EoaIkiSpSwohTAghRGB61rKY9ZieLGvxRighhLIQwsVJm6UhhNoQwrIQwvwQwv0hhItaqSGEEL4WQnguufnE6uRGFF/K7U+rzib797I9v0chhLNCCH8KIXwSQqhJpn8KIZy5FTWNTv6m3sta/G7W39R7WW1Tb4QSQvhiCOHPST21IYQVIYQ3QwgPhxAuCyF0b6WWc5J/o+UhhHUhhJdCCFeGEPz8I0nSVvJyZkmS1FWtJ3MDlW5A/2TZJ1nrl6dtHEIoBR4DTsxavBLYDhgA7A2MB37dwi5KgYeAcWRuPLEO6A18Gvh0CGGvGON1W/DzqGvaqt+jEEI34G7gi8miBjK/v4OAzwGfCyH8DriwucuRW9B4U6LSZD+QGUu0Pplf0padhBBuByZmLVpDZsiBPZPH6cCjbBxWZm//S+Cy5GdaBfQADiRzA6WDgQvb+PNIkqQsfhMnSZK6pBjj/THGIcBZWcuGZD3OStkc4DwyAWIV8FXg/2fvvuPlqur9/78+9NC7IEgiRQVBQJqNIkVALHSkKBEUxF7uvd5rgSjqV70/ew1ItQAiF/QqxQuIAiJFMIKKijTpCKEEAiHk8/tj7ZOzzzCz55w5LTl5PX3MY/bsvfbaa08xyZtVVsjMlSmBxfOqen/ScP57gJ2AqcCKmbkS8ALgf6vjn4iIjYZ8Y1rU9Po9+hwlQEzgeGC1zFyVEv59ripzcHVsUDLzt9Vvapva7m1qv6ltOp3bJyJeQwkQ5wEfrdq1QmYuV7Vtd+A0SmDZzpuAdwIfBlbJzFWq875XHX9bROw82HuSJEn9DBElSZJ686rq+fTMPKlvPsUsHsjMczPzgIbzVwH2yczTMnN2de5dwAHAPZS/px04iu3XxDDk71FErAN8oHr5+cw8NjMfqc6dmZkfB75cHf9wRKw9BvfRp+93dXFmfjEz5/cIzsyHMvOXmTk1M+/pcP4qwNGZ+ZXMfKx23juB31dlDh611kuSNIEZIkqSJPXmkep5rR7PvzIzf9W6MzOfBi6qXr6sx7q16Ojle7QfZVqjp4DPd6j3M8DTlGHE+49MUwel73e1RjVlwFD9k9JTsZ2fVc/+riRJ6oEhoiRJUm/OpwwFfVO1AMTBEfH8IZx/dcOxvl5Wq/bcOi0qevkebV09X9vXW69VZs4ErmspPxYuoYSbWwKXR8SREfHCIZx/bWZmh2P+riRJGgZDREmSpB5k5hWUOdvmAHsAPwLujoh/RsQpEfHaLlU83nBsbvW85PBbqgmul+/RmtXz3V3qvqul/KjLzH9Q5hidBbySMpfhrRHxQLXi+ZsjIhqq8HclSdIoMUSUJEnqUWb+N/BC4EPAecADwLqURS4ujYizI8LAQhqCzPwhMBl4F3AWZYjyGpS5Hc8Dfh0RK45fCyVJWjQZIkqSJA1DZt6TmV/NzH0y83mU+db6VoLdHzhm/FontfVA9bxul3J9xx9oLDUKMvPhzJyemW/JzPWADSnzNyawPTBtrNskSdKizhBRkiRpBGXmjdVKsFdWu3Ybz/ZIbcyf6zAiVmpXICJWpjZ34pi0qkFm/iMz/4sybQD4u5IkacwZIkqSJPUgIpbuUmR29TxvtNsiDdE5lPkBl6HM69nOx4ClgWeq8mPC35UkSQsuQ0RJkqTenBcRJ57aWF4AACAASURBVEfEnlWvLQAiYtWI+ASwS7XrF+PTPKm9zLwb+Fr18j8j4lN93+GIWDkijgf+vTr+5cy8dwyb982I+HFE7BcR8xd0iYjlI+JdwNuqXf6uJEkaY0uMdwMkSZIWUpOAt1cPIuKxan99wYef0D8/orQg+RjwAspiJccCn4iIR4GV6O9ocAbwyTFu15LAAdWDiJhF6TW5cq3MFcBnx7hdkiQt8gwRJUmSevM+YE9gR2AjYC3K8NB7KHPOnZaZ/zN+zZM6y8w5wEER8WPgSMr8h6sAD1G+vydm5rnj0LTjgd8DrwU2pvyulqcs7jKDEmyenpnPjkPbJElapEVmjncbJEmSJEmSJC3AnBNRkiRJkiRJUiNDREmSJEmSJEmNDBElSZIkSZIkNTJElCRJkiRJktTIEFGSJEmSJElSI0NESZIkSZIkSY0MESVJkiRJkiQ1MkSUJEmSJEmS1MgQUZIkSZIkSVIjQ0RJkiRJkiRJjQwRJUmSJEmSJDUyRJQkSZIkSZLUyBBRkiRJ0pBExFYR8WxEZERsPd7tAYiI11TteSYiXjre7ZEkaaKJzBzvNkiSJEkaIRGxBbB39fK8zPzDKFzjKuAVwP9m5ptGuv5eRcQlwM7ApZm5y3i3R5KkicSeiJIkSdLEsgVwXPXYYqQrj4h9KQEiwLSRrn+YplXPO0fE7uPZEEmSJhpDREmSJElD8anq+cLMvH5cW9IiMy8HrqhefqqprCRJGhpDREmSJEmDUvXu27R6efp4tqVBX7u2i4hXjWtLJEmaQAwRJUmSJA3WMdXz48BPx7MhDX4CPF1tv3s8GyJJ0kRiiChJkhZaEbFTtRprRsS0at+LIuJbEfH3iHgyIu6JiP+NiFe3OX+viPh5RPwzIp6KiDsi4tsRsdYgr79YRBwYEWdFxG3V9R6PiJsj4jsRsdkg6lgvIt4bEWdHxF8jYlZEzImIByLisoj4aESsNMj2vDkifhwRt1ZteSoi7o6IGVX9746I1dqcd1nf+ziIazSWjYhptc9kp2rfLhFxRvUePVUdm9Lm3JdGxJcj4g8R8XBEPF21/2cRcWhEdPy7a0RMqV331GrfOhHxhYj4c/W+PhARl0TEXm3Of03tc3yq+t6cHhEbdntPanXsERGnVt+9x6vP4B/Vvtd0OXdqrf1Tq32bRMT0qo7ZEfFQ1f6DIyI61QGcUtt9Sq3evsftg72nlvpXA15fvTwvM58c4v1sHRGnVe/x7Or3dkZEbNpy7uIRcUhEXBoR91afx98i4vMRsWK3dmbmTOCC6uU+EbF8L/crSZIGWmK8GyBJkjRSImI/ylDGZWu7JwFvAPaKiCMz85SIWBKYDry9pYr1KD2t9omI7TPzloZrbUDp8dRu4YoXV4+jIuKzmXlshzp2Ai4FnhMIAWsAO1aPj0TEvpl5RZtyRMQk4GzgOeEY8Pzq8TJgf2Ap4Kud7muERUR8E3hPl0JLAF8C3stz/yN3X/vfCLwvIvbOzPsGceHtgf8BVq/tXo6ycu/OEfGpzJxWhXGfBj7RUsXawFsp34XdMvN3DddaAzizqrvV+tXj8Ig4CTgmM58ZRPunAt8Flq7tXqav/cDuwNRu9Yyw1wNLVtu/GsqJEfFe4CsM/PfHetVjn4h4c2ZeFBErAGcBe7ZUsRHwUeDNEbFDZj7Y5ZK/oqxQvSywK3DeUNorSZKeyxBRkiRNFFsB/wnMoYRk11ECqT2AgylB3YkRcQXwfkqA+EfgB8AdwPOAoyjzva0FnAq07T1WBYi/oz+gugL4eVXP4lVbpgKrAJ+MiHmZOa1NVctU7foTJfT4C/BQtf8FlBBkK0qg+POI2CIzb29Tz+foDxDvre7pT8AsYHlgQ+CVwA7t7mcU/TslDLqP8n7eRPn757ZUw02rEO/HwD7VOfdSArkZwJPAZOAtlPdhO+CSiNimqRccJZg6F1gB+B5wOfAM5f6PpARhx0XEr4GXUwLEW6s2/g1YmRIgvpry/v0wIjbJzKdpERGrAlcBG1S7ZlDCy1uAeZTv01RgneraS9A9/NuTEvg+CnwLuAHIqv1vr9p/eET8JjNPrp13KeV93Bl4X7XvG9X+uqb3rslute1rhnDeG4B9gQcpn8dNlHB/X8r3dmngrIh4IXAa5f6vpATj91K+A++pnl9CCSMP63LNeui7O4aIkiQNX2b68OHDhw8fPnwslA9gJ0q40ve4BVivTbmP1cr8nhLufBtYrKXcspRgsa/stm3qWqyqI4GngAM6tO159Ic/zwIvbVNmMrBZl3s8uDo/gVPaHF8ceKQ6fjuwZkNdawAvabP/sr57HsR73lgWmNbymVwOrNhQ3wdqZb8PLNumTACfrZX7fJsyU1qu+yCweZtyh9TK3FR9hj8Flm7zvv6yVvbADu0/tzo+D/hAhzLLAxfV6tqjTZmpLe2/od1nSQkJ+8r8ucP16nVNHcHf21+rOh9r/e0M4n6uBlZpU+6EWpnrquf/bFNuTeCe6vhcYO0u11+q+mwTuH6k3gMfPnz48OFjUX44J6IkSZpIDsvMO9vs/xJlIQgoPc9uAt6XmfPqhbL0bvt8bdfuberau6oD4N8z8+x2DcnM+4GDKAHgYpSwrLXMHZl5Y+fbgcw8g9KzEOCgaih23RpA35yJP83MBxrqejAzb2663gh7AjgoMx9rdzAilqEEvADXAodnmx6GWXycEkgCHFOd2+R9mTmjTV0/ovQ2BHgpJYA9LFt6GWbms5RAtM9zvgsR8XLK9wHgK5n5tXYNycxZlN6Uj1a7Ptyl7c8A+7f7LDPzXEovPYCNI+IFXeoaERGxNGVIMcDfW387XcyhhLAz2xz7FCXog9Lb9ILM/Hxroeq9+Gb1cnHKEOWOMnMOpXcpwEub5tOUJEmD4x+mkiRpovh9dpi3rgqIrqvtml6FRO3U5x3cpM3xt1bPjwEnNjUoM/9G/7DP1zWV7eK31fMkytyGdbNr2+3aO57Oycx7Go7vTulhBiWE6xZM9YWpKwKvaCj3AGWIdCdX1ra/n5mPdyh3DSXQg+bvQlKC6o6qAO386uUOVSjXyc8z8x8Nx+vDk8fqM38B/XN3PjzEc/83M+9odyAz76b0oO3zrYZ6uv02W/WFlktR5riUJEnD4JyIkiRpori6y/H7a9tN87nVy63S5vj21fO9wB5tFslt1RdWTo6ISZk5u7VARGxHmePtFZRFOFagfwGLVutShlMDkJmPRsQ1lHkGd42Icynz4F2eg1jAY5Rd3uX49rXtVSJi744li3Vq2xtThla3c12XQHJQ34XMnBsRD1HmyGz6LjwCbDuI78LStef1KXNgttNxEZfK3bXtdu0aDavWtocaIg7mt/nCans4v81WD7WUv7tTQUmS1J0hoiRJmige6nK8Ply1Y9nMfLoWBg0YMhsRywOrVS9fTJkPbyhWodZzMCKWoiw08daOZzzXim32vQe4pDq2d/V4IiKupvTeuhi4cohDUEdCt9BmSm27qQdaO00h0oh8F1rKths+PaXWll6+C538a5BtgvbtGg31npOdem52MlKfx1Dvuz6MftIgykuSpAaGiJIkaaIYSkDWa5i2UvcijZZqef0t+gPEpynDXa+lhG9P0N+Lsb7a7uKtlWbmdRGxBWUOvwMogcly1Xk7A8cCt0fEJzLzh8O8h6F4Tq/LFsN5P1vfy7qx+C7AgtH+sVIP8NoF2U0GfT8jHHTXP59u30VJktSFIaIkSdLgzapt/yYzd+y1ooiYAhxZvbwL2DEzb+1Qdp12++sy8zbg8Ig4Gngl8CrgNcCOlFBxCvCDiJicmZ/rtd2M7Jza9fdz/eoeFiazgJWBOzNz8ng3ZpTVhzCv2rHUgmU4Q7AlSVILF1aRJEkapMx8lP7ga91hVrcz/QtVfL5TgFgZdECVmU9l5q8y87OZuSdl4ZKP0r8C7rERsVrLafN7mVVDrJusPti2DEJ9uPNw38/x0Nf+Ndusmj3R3El/j8KFLUScQ5nDVJIkDYMhoiRJ0tD8pnpePyI2HEY9z6ttN63EC2UV455k5qzM/CJwTrVraWCblmKP1Laf36muiFgFeFGvbWnj17Xt4axePV762r8MsMN4NqRFfUhw19VeBiMz5wB/r15uGBEL9L8jqtWv169e3pSZ2VRekiR1t0D/4S9JkrQAOq22/elh1PNkbXuDToUi4s3Ay4ZxnT6317Zbp7T5c21754Y63k2bORmH4Xz6FxF5d0SsPYJ1j4XTa9vHRcRIvjfDUR8mvtwI1tu3yvIKwCYjWO9o2IL+eSe7rQ4tSZIGwRBRkiRpaH5CWfwE4OCI+GrTEOCImBQRUyPiLS2Hrq1t/1vVy6/13O2Ak5saExFbRsQnI+J5DWVWpyy4AmVY8x9bilxY2/6vDm15PfDJprYMVWY+AXyqerkqcGFEbNR0TkRsFxFfHMl29Cozr6a/h+f2wA8jouOiIxGxRETsGxHvGeWm1eeWfPkI1vt/te1tR7De0bBdbfuicWuFJEkTiAurSJIkDUFmzouI/YCrgHWADwAHRsTZwAzgUWB5YD1ga2AXSm+w1gDuKuD3wFaURU9ujojvAn+lLISyM3BQVfaHwKEdmrQSpUfkcRFxJfBb4G/A45RgbjPgEPrnh/thZt7Zck9XR8TllCBsQ+D6qi23VuftAby5qvdJYMtBvFWDkpnfjIhtgLdRelz+OSJ+Rhk2fi+l5+Ma1X3sAryQMvz7P0aqDcN0BGWI92aUz2v3iPgxcB0wk/JZrkN5z3YDVgFOGuU23Qg8QJkP87CIeBD4Hf0rFM/OzF93OrnB+ZT5BZcCdqJLwD3OXls9PwFcPJ4NkSRpojBElCRJGqLM/GcVfH2fEmytDby/4ZRngfta6siqd+KlwAsogc+xLec9BbyHMsddpxCxb663xSnz8jXNzXcWcFSHY4cDv6Is4jIF+HzL8b8CbwRObKi/V1Mp8+19gjJn477Vo5O7RqENPcnMxyLiNcAJlBBxZcp73Ol9BrhnlNs0NyI+CUwHluS5gesdlM94qPU+HBHnA3sD+0TEspn5ZLfzxlpErAzsWb08t+rxKkmShsnhzJIkST3IzHszc1dKj6zpwJ8oC5Q8CzxGmWfwLOAY4AWZ+b02ddxC6aH2/4C/UELDWZTA7pvAVpnZ2Nur6lG2GfBvlKG1N1d1zKue/0zpMbZjZr4lM2d3qOe2qi2fq86ZXd3HDcB/AVtn5t/bnTtcWXyG0svwWMqCJfdRer09RQkNLwaOB16ZmTuNRjt6lZmPZeZbKEOHv0p5zx4C5lI+g78D5wEfBjbIzNaweDTadAKlB+l5lPfv6eYzBu3b1fPylDBxQXQAJYwG+M54NkSSpIkkXKhMkiRJ0mBFxAzK0PNfZmbPK4ePloj4DWVo/tWZ+Yrxbo8kSROFPRElSZIkDcW06vl1EbHVeDakVTW0fPvq5XHj2RZJkiYaQ0RJkiRJg5aZ51IWBoL+QHFBMa16vjQzXZVZkqQR5HBmSZIkSUMSES8HrqV0StgmM68b5yb19UK8nDIX5RaZ+adxbpIkSROKIaIkSZIkSZKkRg5nliRJkiRJktTIEFGSJEmSJElSI0NESZIkSZIkSY0MESVJkiRJkiQ1MkSUJEmSJEmS1MgQUZIkSZIkSVIjQ0RJkiRJkiRJjQwRJUmSJEmSJDUyRJQkSZIkSZLUyBBRkiRJkiRJUiNDREmSJEmSJEmNDBElSZIkSZIkNTJElCRJkiRJktTIEFGSJEmSJElSI0NESZIkSZIkSY0MESVJkiRJkiQ1MkSUJEmSJEmS1MgQUZIkSZIkSVIjQ0RJkiRJkiRJjQwRJUmSJEmSJDUyRJSkmoiYEhFZe0wZi3KSJEmSJC3IDBEljbmIuL0Wql3Ww/lTW4K5nUa+lZIkSZIkqY8hoqQJKSJ2qgeN492ebuyxKEmSJElakBkiSpIkSZIkSWq0xHg3QJIWJJl5OxALan2SJEmSJI0HeyJKkiRJkiRJamSIKEmSJEmSJKmRIaKkCSUiTq0WUvlVy/7s8Di1pdyILnDSrb6ImFa197aWU2/r0N7LqvPWiog5tf2HDrFdv6qde94wblGSJEmStAgwRJSkhVBm3gfUw7+jB3tuRLwY2Km267sj1CxJkiRJ0gTlwiqSJpobgYuAVYFtavsvaig/nm6htG0SsENt/2+A2W3K/7G2/W3ggGp7+4jYODP/MohrHlXbvo3O740kSZIkSYAhoqQJJjO/BHwpInaiNqQ5M/cYt0Y1yMwfAD+ohjnXhzQfXq3s3HTuZRHxZ2CTatfRwAebzomIpYHDa7tOyMwcYrMlSZIkSYsYhzNL0sLtO7Xtt0XEMl3K7w+sVm0/A5w8Kq2SJEmSJE0ohoiStHA7HZhVba8CHNilfH0o87mZ+cCotEqSJEmSNKEYIkrSQiwzHwN+WNvVcYGViHgJA+dddEEVSZIkSdKgGCJK0sLv27XtV0XEph3K1QPGv2XmrzqUkyRJkiRpAENESVrIZeYfgStru57TG7GaK/FttV3TR7tdkiRJkqSJwxBRkiaGem/Et0bEsi3H9wdWrbafAk4di0ZJkiRJkiYGQ0RJ4+GZ2vbSPZzfugLxnGG0ZaL4CdC3SMpKwEEtx+u9E3+SmQ+PSaskSZIkSROCIaKk8fBIbXv5Hs5foeX1zGG0ZULIzDnASbVd80PDiNgEeE3tmAuqSJIkSZKGxBBR0nj4V217ckTEEM9/YUN9i7LpwLxqe7uI2LzarvdCvCkzr0SSJElqIyJOjYisHqeOd3tGS0RMrd3n7WNVTlqYGSJKGg+/r22vAGw4xPO3qG3flZkPtikzr/6ih6ByrM1reT3k9mbmHcAvaruOrhZUeWttnwuqSJK0kIiIabVQotfHlPG+D0nSxGCIKGk8/Kbl9f6DPTEi1gVeUdt1eYeiT7S8njTYa4yTkWpvfYGVQ4EjgFVq1/h+j/VKkiSpi4i4vRbgTh3v9iwKWsL2y8a7Pd3YY1ELsyXGuwGSFkmXALfRPyz5QxFxQmY+NIhzj2dgL70TOpS7t+X1RsCMIbVybD1CWTW5b9GYjYA/91DPRcA/gA2AFYH/r3bszMx8dDiNlCRJ4+qiHs6ZPeKtkCQtkgwRJY25zHw2Ij4LfK/atQZwYUTsk5l3tTsnIpYAjgWm1nb/JjMv63CNeyLiPmCtatcHI+IdmfnsSNzDSKvekz/Q38vy3RFxUWY+NcR6MiK+C/x3taveo9GhzJIkLcQyc4/xboM0UWTmqcCpC2p90oLIEFHSuMjMkyJiF+DgatfWwN8j4izgMuAu4GlgterYQQycO/FB4JAul/kB8G/V9lTg9RFxIzCrVubSzPx673cyon5Af4j4OuDeKlh8DMhq/02Z+Yku9ZxM6bG5TG3f9Zl57Ug2VpIkSZK06DBElDSeDgceBt5TvV6m2nd4l/P+BOydmXd3KfdpYBdgy+r1mtXrukcG3drRNx14I7B79XplYKeWMit3qyQzH67C2Pr7+N2RaKAkSZIkadHkwiqSxk1mPpOZ7wW2B34OPNPllL9SAsetM/OWQdT/OPBK4GjgAkrvxgV2XqDMnAu8ntLD8lzKvJFP0N8LcShuqG0/Dpwx7AZKkqSFXkRsFxFzags7nDTI886pnTM7Il7WpsxltTLTqn0REXtFxNkRcUtEPBkR/4qIayLiYxGxeo/3sUNEfDUiboiI+6t7eiAiro2Iz0fES3qsd7OI+HREXB4R/6zudXZE3BURF1eLeGzZcs5OffcNTK4dOqXTqtnjcX8RMSUiPhcRMyLikYh4PCJujohTI2KHodY3xGufWrv/Uwd5TuMCJH2L2ADH1Xbv2LBS+dSh1D9Ug2jvZVV7T6ntntzQ3mnVefvV9j0bEesNoU3LR8RjtfM/ONz71KLNnoiSxl1mXgFcERGTgO2A9YFVgaWAmcADwNWd5kvsUvfTlMVXOi3A0lr+dgYu3DIm5Wrl51ECv+GGfvVeiD/IzFkdS0qSpEVGZl4dEZ8AvlDtOiIi/i8zz+x0TkS8G9i3tusjmfnHbteKiFWA04E3tByaRJmyZhvKAntHZubPBtP+iNiQMsKidXQJlHm216BMhfNvEfGtqq1zB1Hv84BvAvvR/u9u61SPXYDjIuJTmTltMG0eilG8v3cBXwKWbTn04upxeER8D3jfMJqv0fFT4B7g+ZSOYO+gzBU/GIcAK1Tbs4HTRrx1WqQYIkpaYGTmbMp8iJeNb0sWbhGxHf1DuMGhzJIkaaD/BnamfwqV6RFxTWbe2lowIjajhE99zs3Mbw/iGotTwo/tq9cPA3+hhCAvAVap9q8OnBMRB2TmeU0VRsQrgf+lBJB9ZgN/Bh6l/EfoTSn/zl0ceD+wUUS8qSloq+7xF8ALWg7dQRnJMhd4HrBRVS8MnGLmYfpXzt6R/nmpbwK6Tb8zFvf3QeArLbvvB/5G+Y/2LwWWp4RTkyj3uzD4NeVz2RDYoNo3E7imQ/lBfxaj5BrgKUoYvWm17ynKfbRzC5TRShFxIv09Lo+MiE8PJjymjMjq8+PMnDn0Zkv9DBElaeL5eG3714PpKSBJkhYdmZkR8TZgBrAWsCJwZkS8OjPnTy8TEcsCZ9Efit0JHDnIyxxN6TU3E/gAcEZf6BERSwJvpQRbK1L+XXp6RGzSaeRJRKwL/Iz+gO2fwEeBczJzTq3cKsB/Av9O6VG4JzANaLswXUSsRgnu6gHiqcDnMvPvLWWXq+o7ktp0M9XftfaoytxO/5DmL1Ur9nY1ive3LQND4Hso0wP9rBoBQzUa6Bjgc8ChlAUMF3iZeThANey3L2D744K6inlm/geUYc/0D2m+f5DtPYHyd/wlKD0S3wB0C923Bl5e22XHAg2bcyJK0gRSDTd6Y23XZ8erLZIkacGVmQ9Qgrx51a5tKCFS3deBjavtZ4FDh9CTaQ1KL7rXZeb3672mqnmxTwb2on9O7BUoPSQ7OZHSaxHgRmCLzDyjHrBVdc/MzI8C76rt/o+IWKdDvV9h4DyGR2bm21sDxKruJzLzJ5m5J/DJhrb2YrTu75v0/7v/YWCnzDyvL0Cs6pydmV8G3kIJR9cY/u1oJGXmPZSevX2O7lS2Q5k/ZubvRrZVWhQZIkrSQiwi3hIR50XELyLiFuBbtcPnZ+b/jVfbJEnSyGpYgKHT46tN9WXmxfTPjQjwkYjo61F3EAN7HX6qmsd6KL6Ymdc1XP8KSlDZZ79qbsIBImILqp5+lNDxwMx8uOnCmXkCcGn1cknahC4R8ULKnHF9vlOFm12N5HzTo3h/21DC4T4fbxeO1uo8D/jREJqusVWfRuB1ETGlU8GIWIESCvexF6JGhCGiJC3cXgK8mbKq8wa1/bdR5rWRJElqcizw22o7gNMi4lUMXJTuMoY+uuFZBoYenXyD/qHBSwJvalNmam3755l58yDbUF9EYtc2xw+if47DZ4DjB1nvSJta2x7J+6svhvM4ZZh2N1/vXkTjITMvBfq+G4sB72wofihlnkuAWcAPRrFpWoQ4J6IkTRxzgNsp8+n8v27/BVuSJC10LupeZIC/dCtQLdpwCPAHymIhawKX09/h5F+UYczzOlTRyfXVkOlu178jIv5E/0IT21GG9tbtWNseyiiLGbXtrSIiMjNr++r1XpGZ9w6h7pE0Wve3XW37ssx8qluFmXlNRPyL/qHVWrB8B/hatX1ERBzXYYGVes/UMzLz8dFvmhYFhoiStBDLzGmUybQlSdIEN1oLRlRB3pHAOdWu+oi1qdV8bEN14xDL9oWIL6ofiIioHQN4R0S8eZD1TqptL0VZxOXR2r6Na9sdh12PplG+v/p7OdTP47VDKK+xcxpl7tLlKIsivZn+3y0wfzGdLWq7HMqsEWOIKEmSJEmLuMz8n4i4DNiptvukzPxFj1U+1GPZVVqOrcTAf7e+nN6txMCQbdXadtdek6NkNO+v/l72+nloAZKZj0bEj+gfynw0LSEicFRt+9rMvH5MGqdFgnMiSpIkSdIiLiJex8BhtQC7RURrqDdYc7oXme/p2vbSLceW6/H67bT++3eZ2nbXob6jZDTvb6nadq+fhxY89blGd42I+fOiR8SKDFxQZfqYtUqLBENESZIkSVqEVSsin05ZWKVuPZ47P+FgrTCEsivWth9tOfZIy+t9MzN6fNzeUtfM2vZKQ2jvSBrN+3ustt3r5zGeFu9eZNGTmX8ArqpeBgMXWDmM/mD6UeCMMWyaFgGGiJIkSZK0iKrm5Ps+8Lxq16OUOdf67BcRRz/nxO5eOISy69e2768fyMwnKKvL9nkeI6e+kMqLR7DeQRvl+6u/l71+HiOl3hNyyUGe02sv2EVBvTfi2yOi7z2tD2X+fmY+OYZt0iLAEFGSJEmSFl3/AexWe31UZn4cOLe27ysR8dIh1rtNRHT992ZELMHAeQB/36bYb2vbrxxiO5pcVdvesQpUh6u+ivVg6xut+6u/l9t1LFUTESsxOoFqvVfkqh1LDbTZIMv18p6Pp5Fo79nAg9X2msA+EbEdsHmtjEOZNeIMESVJkiRpEVSFDp+p7TopM39cbR8J3FltTwLOjIj6HILdrMXARVo6eT0De5z9uk2ZC2rb+0TEYEOobi6sba9XtWW4nqhtT+pYaqDRur/6e/myiNhkEOccxOgswHpHvS3dClfftT0HWXcv7/l4GnZ7M/Np4OTarqOrR58rM/OmXuqWmhgiSpIkSdIipupxdgb9gdHNwPv7jmfmTOBQ4Nlq16bAV4Z4mc9FRMd57aohmPUQ81bgV22KngQ8XG2vAHxriO3o5OfAP2qvv1G9L8NRHyK90SDPGa37+zEDA6svNBWOiOWBT47QtVtdV9t+fkS8pkv5fwPWGGTd9fd8gxHqUTqa6u1dYxjfue/S36vxtcAhLcekEWeIKEmSJEmLnhPonyfvaeAtrfOnZeYVwKdru94VEfsO4RrbASdGxFKtB6qesoYsbwAAIABJREFUZt9n4JDVz2VmtpbNzMeBj9V2vSUizoiIlbs1ICK2iYjTI+KQ1mOZ+SxlOHefFwKXRUTjnIARsW1E7N/hcH0I8UERsW63No7i/T0GfKO26w0R8cV2w8yrVX3PBbq2t0dXA3fVXn+juuZzRMQRwHFDqLv+nq8KvH3ozRtTfwSeqb3+cC+VVAvp9PViDfpXNn8I+EmvjZOaRJv/j5YkSZIkjbOImMbAMOWiHqr5bmae11LvOxi46vL7M/MbtFEFTpcCO1a7ZgJbZOadbcpeVit3HrAHsAzwl+p6N1LCjpdRhl7We+r9MjN3b7qRiPguA4dszgLOAn4D3E1ZvGMlytDkLSlzPU6uyr49M0/tUO+XGBjkzKHMOfd/wD8pvTGfR5m7cS9Kr8yvZeYH29S1GTCD/rnu5gDXU+avmz8XXmbuPRb3V4W11wMb13b/njIU9mbKIifbVNddt2rnDGDXquxpmTm1td5eRMR7GRhq3g58nf7360XAW4AdgLnAmZTVhgHuyMwpDXVfC2xd23UL8HcGLujy9cy8tHbOVOCUbvWPdLmq7NlAPYi+C/gzMLu278zMPLNTHVU9rwd+0bL7y5n5kabzpF6NxlwHkiRJkqSR1xiydVCf94+I2Bj4Wm3X/3YKEAEyc15EHEoJelajzF/4w4jYqerJ18kM4H8oYdXGwJcbyl7FwEClk2Mood6nKaPqlqfM3XjkIM7tKDM/EhGPAtMoYdZSlKHch/ZQ140RcRz9PTiXAl4xyNNH/P4y86mI2I0yP+IG1e6tqkerJyhDYg9rc2wkfJsSfL6pej2F9t+LucC7KOHtYNvyTuBiyncUYMPqUXceC44PUULPKdXrdXluL9A/DKKeCynTANR7z7qgikaNw5klSZIkaRFQ9Uo7E1i22nUPgxj6mZl3A0fUdr2GQQw3zczvU+Zq6xSGzAKOB15bDentVl9m5mcpQ6B/CDzZ5ZSZlGGd+wE/6lL3pymhzs8pIVYnTwLnAD9oqOt4YHtKgPonysrE8zqVr503KvdXfX5bUebJe7pDscuBbTPz4m7t7FVmzqOExZ9lYI+7uuuBHTLzpCHW/QfgpZTv5eWUHpVzGk8aR5l5F2Ul5Y8Al1DmSXyqh3rmUYZH9/lVZv5tRBopteFwZkmSJEnSsLUMZ/5UZk6rHdsM2AJ4PiVA+gdwaWZ2CpMGc72lKPMubgisThmaO4sy9Pdm4C9VyDLUeleghIDrUebYm0sJpW4Grq9Wxh11o3F/1SIeu1CGQS9OCZKvzsx/NJ44wqpFXF5L6UG3DCVEu94VhYcmIlanfB/65h09qLbCujTiDBElSZIkScPWFCJKGnkR8VHg89XL+4D1MvOZhlOkYXE4syRJkiRJ0kIkIpYDPlDbNd0AUaPNEFGSJEmSJGkhERGTgO8Aa1e7HmfgytfSqHB1ZkmSJEmSpAVYRHwG2BRYjrIoyxq1w8dn5kPj0jAtUgwRJUmSJEmSFmyvoX/O0bpfAF8e47ZoEeVwZkmSJEmSpIXHE8B1wPuBN2fms+PcHi0iXJ1ZkiRJkiRJUiN7IkqSJEmSJElqZIgoSZIkSZIkqZEhoiRJkiRJkqRGhoiSJEmSJEmSGi0x3g3QQipwRR4t8sJfgQRAQox3GyQt8PxTU5K0MPLvuTX2RJQkSZIkSZLUyBBRkiRJkiRJUiNDREmSJEmSJEmNDBElSZIkSZIkNTJElCRJkiRJktTIEFGSJEmSJElSI0NESZIkSZIkSY0MESVJkiRJkiQ1MkSUJEmSJEmS1MgQUZIkSZIkSVIjQ0RJkiRJkiRJjQwRJUmSJEmSJDUyRJQkSZIkSZLUyBBRkiRJkiRJUiNDREmSJEmSJEmNDBElSZIkSZIkNTJElCRJkiRJktTIEFGSJEmSJElSI0NESZIkSZIkSY0MESVJkiRJkiQ1MkSUJEmSJEmS1MgQUZIkSZIkSVIjQ0RJkiRJkiRJjQwRJUmSJEmSJDUyRJQkSZIkSZLUyBBRkiRJkiRJUiNDREmSJEmSJEmNDBElSZIkSZIkNTJElCRJkiRJktTIEFGSJEmSJElSI0NESZIkSZIkSY0MESVJkiRJkiQ1MkSUJEmSJEmS1MgQUZIkSZIkSVIjQ0RJkiRJkiRJjQwRJUmSJEmSJDUyRJQkSZIkSZLUyBBRkiRJkiRJUiNDREmSJEmSJEmNDBElSZIkSZIkNTJElCRJkiRJktTIEFGSJEmSJElSI0NESZIkSZIkSY0MESVJkiRJkiQ1MkSUJEmSJEmS1MgQUZIkSZIkSVIjQ0RJkiRJkiRJjQwRJUmSJEmSJDUyRJQkSZIkSZLUyBBRkiRJkiRJUiNDREmSJEmSJEmNDBElSZIkSZIkNTJElCRJkiRJktTIEFGSJEmSJElSI0NESZIkSZIkSY0MESVJkiRJkiQ1MkSUJEmSJEmS1MgQUZIkSZIkSVIjQ0RJkiRJkiRJjQwRJUmSJEmSJDUyRJQkSZIkSZLUyBBRkiRJkiRJUiNDREmSJEmSJEmNDBElSZIkSZIkNTJElCRJkiRJktTIEFGSJEmSJElSI0NESZIkSZIkSY0MESVJkiRJkiQ1MkSUJEmSJEmS1MgQUZIkSZIkSVIjQ0RJkiRJkiRJjQwRJUmSJEmSJDUyRJQkSZIkSZLUyBBRkiRJkiRJUiNDREmSJEmSJEmNDBElSZIkSZIkNTJElCRJkiRJktTIEFGSJEmSJElSI0NESZIkSZIkSY0MESVJkiRJkiQ1MkSUJEmSJEmS1MgQUZIkSZIkSVIjQ0RJkiRJkiRJjQwRpWF6lEf5MT/mGI5hO7ZjNVZjSZZkFVZhczbn3byba7l2xK/7BE/wZb7Mq3k1a7Imy7AMk5nMQRzERVw0pLqe4RlO5ER2YRfWZm2WZmnWZV3eyBs5i7NIcsTbrwnumWfg0kvhC1+A/feHzTeHddaBZZaB5ZaDKVNg773hlFNg9uyRv/6DD8Lxx8NWW8Gqq8Kyy8IGG8ARR8Dvfje0up54Ar78ZXj1q2HNNcs9TJ4MBx0EFw3ttyZJkiRJC6vINBxQD8JUCeCLfJFjOZanebpr2cM4jOlMZ1mWHfZ1b+AG9md/buXWjmUO5VBO5mSWYqnGum7ndvZlX27gho5ldmVXzuZsVmblnts8EYW/gs5uvhk23nhwZadMgR/+EF71qpG59sUXw6GHwgMPtD8eAR/5CPz3f3ev64YbSgh6a+ffGoceCiefDEs1/9YmsoQY7zZIWuD5p6YkaWHk33NrDBHVG0NEAN7BOziJkwBYn/XZlV3Zgi1YndWZyUwu4RLO4Rye5VkAXsfruIALWGwYnYDv4A62Yzvu534AtmVbDuMwVmd1buRGTuAEHuIhoASX3+f7Het6hEd4Ja/kZm4GYGM25giOYF3W5RZu4QRO4J/8E4DX8lp+yS9ZgiV6bvtEY4jYoC9EXH992G47eOlLYb31So/Axx+HG2+Es86Cu+8u5ZddFq6+GjbddHjX/f3vYYcd4Mkny+vddoP99oPll4drroGTTio9CwE+/nH4zGc613XHHaXt95ffGttuC4cdBquvXtp/wgnwUPmtcdhh8P3Ov7WJzhBR0iD4p6YkaWHk33NrDBHVG0NEAN7JO7mXe/l3/p0d2bFtmcu5nNfzemYxC4CTOZm38/aer7kP+3Ae5wFwBEdwIicOCCXv4A52YAfu5E4Afs7P2Yu92tb1IT7EV/kqAHuwB+dyLsuwzPzjD/Mwu7Lr/F6K3+SbvIf39Nz2icYQscETT5SegC98Yecys2fDW94CP/tZeb3HHnDBBb1fMxO23hquv768njYNjjtuYJkZM0rI+NhjsNhi8Ic/wGabta9vn33gvPJb44gj4MQTyzl97rij1HVn+a3x85/DXu1/axOdIaKkQfBPTUnSwsi/59YYIo6SiDgVOBw4LTOnjnDd2wP/CWwLrEqZ2/Knmbn3SF6nuRH+RRBgJjNZhVW6lvsm3+R9vA+AHdiBX/Prnq43gxlswRYArMd6/JW/Dgj9+pzP+fODw63Zuu2cjA/wAC/gBcxhDsuxHLdyK2uy5nPK3cRNvIyXkSRrsRZ3cReLs3hP7Z9oDBFHwIMPwtprw7PPwhJLlPCx12HBP/1pmWcRSg/Cq64qQ5dbffvb8J4qDN9/fzj77OeWmTEDtii/NdZbD/761zIXYqvzz+8PDrfeGq4d+flPFwaGiJIGwT81JUkLI/+eW+PCKguZiHgFcCnwemA14GHgfmBmdXxa9ZgyXm1clAwmQAQ4gAPmb9/IjT1f7yzOmr99FEe1DRAB9mRPNmRDAK7jurZzJ57HecxhDgAHc3DbABFgUzZlZ3YG4D7u6zkAldpaY43yAJg7F/71r97rOqv/98H73tc+QASYOhVWXLFs/+IX/cObO9V11FHtA0SAPfeEDctvjeuua547UZIkSZIWYoaIC58PAksAVwKrZ+YamblWZvaNjz2uekwZp/apjRVYYf72bHpfifaX/HL+9h7s0bFcEOzO7vNfX8iFPdfVerxdXVLPHn20f17BJZcsKyn36pf932l2371zuWWXhe23L9uzZ8Ov2wTj9br2aPh9RAy81oX+PiRJkiRNTIaIC5++ybvOzMyHx7UlGrSbuGn+9mQm91THPObxZ/4MwBIsweZs3lh+a7Zue/12+7Ziq2HVJfVk7lx473vhmWfK69e/vnOPv27uu68/jJw8uSx+0mTr/u80N7V8p+fNgz+X3xpLLAGbN//WGuuSJEmSpAnCZVYXPstWz7PGtRUakhM4Yf52p0VOurmLu+b3YlyHdbquklwPK//G3wYcm8c8/sE/AFicxVmXdXuuS+pq3rz+xVMAZs2Cv/ylDBn+R/keMmUKfO1rvV/jb7Xv5ZQp3ctProX5f2v5Tt91V+mhCLDOOiVI7LUuSZIkSZogDBHHSTVn4QeB3YDJlF6hdwIXAV/KzDtbyrdORn1KRJxSe30aZSGXPr+KgfOB3ZGZU0ai7Rqa3/JbTqF8VMuwDB/iQz3V8wiPzN9enS69rIDVWK3tuQCzmMVc5gKwMit3DSSb6pK6mjOnrHTczvLLw4EHwhe+0L33YJNHat/LwdSzWv93esC5I12XJEmSJE0QhojjICIOBU4Clq52PQ3MA15cPd4eEftnZm1SLu6vntegBI6PwYDJ9Z6tyjyvej0TqlUzigdH8h40OPdxHwdyIPOYB8DxHN+1118ns2qdTzstqFI3iUnztx/n8VGrSxqWLbaAnXeGlVYaXj2zap2zBzMkelL/d5rHW77TI1mXJEmSJE0Qzok4xiJiN+B0YHHgi8ALgUnAcsBLgLOBFYCzI2K9vvOqxVPWAv5Z7fpA377qcWR1vM++Lce3GYPbU80TPMGbeTN3czdQhjF/hI+Mc6ukcbDMMpBZHvPmlbkLL7kEDj4YrrgCDjsMdt0VHvS/dUiSJEnSgsqeiGMoIhYDvkUJb4/JzBNaivwVODAifgq8CfgwZcjzWLbx94Mpl7SOrlbdUzzFm3gT13ANAK/m1ZzFWQTR5czOlmf5AfV3U18Fur469EjXpUXIzTeXRycvfzmst17n41BWM1511dL7sO/xznfCb34Db3wjXHVVKTNUy/d/p3mq+3d6/pyHACu0fKdHsi5JkiRJmiAMEcfWDsBGwL+A7zWUO50SIu4+Fo3SyJrDHPZlXy7lUgC2ZVvO53yWY7lh1bsyK8/f/hf/6lr+IR5qey6UEHEJlmAuc3mER5jL3MZ5EZvq0iLkzDPhU5/qfPyUU2Dq1KHV+Y53lHovuQSuvhouvBD23HPobVu59r38V/ffx/yVnFvPHem6JEmSJGmCMEQcW6+unlcC7onOvW2Wqp4ndyowWjJzq0EVDLsitvMMz3AAB3ABFwCwJVtyIReyIisOu+51WZdJTGI2s7mbu7sGf3dwx/ztF/GiAccWYzE2YAP+yl95lme5i7uYwpSe6pKGbY89SogIcNllvYWIL6p9L2+/vXv5O/q/0wPOBVh33TLP4ezZcPfdMHdu8wrNTXVJkiRJ0gThnIhj6/nV85KUBVA6PVapyk1qrUALrrnM5WAO5mf8DIDN2Iz/4/9YZf7HOTyLsRibsMn8a81gRmP567hu/vambPqc4/V9v6d5FHu3urSImDatf27Ddo+h9kLsUx8C3Ovqxmut1b9K8p13du9BeF3/d5pNW77Tiy0Gm5TfGnPnwozm31pjXZIkSZI0QRgijq3Fq+erMzMG8xjX1mrQnuVZDuMwzuEcADZhEy7mYlZjtRG9zu61Ee4XcVHHckkOOL4He/RcF8CFXNhYlzQst9zSv7366r3Xs3v1nc6EX/6yc7knn4TLLy/bkybBjjt2rgvgoobfR+bA43v4+5AkSZI0MRkijq37qucxH6as0TOPeRzBEZzFWQC8mBdzCZewJmuO+LUO5MD529OZ3nFRlAu4gFsowczWbM36rP+cMnuzN0tVI+fP4Awe4IG2dd3ETfPnd1yLtdiRNoGL1KtZs+BHP+p//apX9V7XQQf1b3/96yXga+fUU+Gxx8r2XnvBcm3mKz2w/7fG9OmdF1i54IL+EHTrrWH95/7WJEmSJGkiMEQcW1dWz2tFxNajdI2+fzXbi3EMJMnRHM3pnA7AhmzIpVzKWqw15LqmMpWo/jeNaW3LbM7m7M3eANzJnbyX9zKPeQPK3MmdHMMx8193qmsN1uDdvBuAWcxiKlOfE0rOZCZv423zV+P+BJ9g8fkdaqUGxx8Pf/pTc5n774e994Z77imvN9oIdtutfdmddiqrNkeUELCdN76xrBANZZGW449/bpk//hE+9rGyvdhicOyx7evafPPSNijDo9/7Xpg38LfGnXfCMf2/NaZNa1+XJEmSJE0ALqwytn4F3AJsCHwlInbJzDmdCkfEqpn58BCv8Rhl4RaXCB0DH+fjfK9aaHtJluQDfIBruKbrea/jdSzLsj1d86t8lau4ivu5n5M4iZu4ibfyVlZjNW7kRqYzff5qyodyKHuxV8e6juM4LuRCbuZmLuACXs7LeQfvYB3W4RZuYTrT+Sf/BGAnduIojuqpzVoEnXNOCeg23xx22KHMMbjqqqV34P33l5Dvpz+FJ54o5ZdfHk47DZZaqrneJhFwwgnlek8+CccdB1deCfvvX3obXnMNfO97/df8r/+CzTbrXN9XvwpXXVXae9JJcNNN8Na3lrkXb7yx9FDsW5n50ENLr0ZJkiRJmqAMEcdQZs6NiHcBFwKvAX4TER8HfpOZzwBExPrA64AjgZ8CnxniZW6irAJ9aERclJlPjtgN6Dl+y2/nbz/DM7yP9w3qvNu4rXE15CaTmcwFXMD+7M+t3MrV1f9aHcIhnMzJjXWtzMpcwAXsy77cwA38hb/wET7ynHK7sitnczZLsmRPbdYibMaM7guTbLFFCen6ehEOx1ZblXDykEPgwQfL3Iit8yNGwIc/3L6nYt3kyWW48v77w623luDz6uf+1jjkEDi5+bcmSZIkSQs7Q8QxlpmXRMQBwOnAdsDFwDMR8RiwPLB0rfh5PVziu5QQcT/gTRHxADAXuCszXzOsxmuBsSVb8kf+yHSm8xN+wt/5O4/zOGuyJq/gFRzBEYNeAGUKU7iaqzmVUzmTM/kTf2ImM1md1dmSLXkrb+VADiQcIa+huPDCsuDIlVeWEPG228rKyxGw4ooloNtqK9hvP9h11zK0eKTsumsZSv2d75RA8dZby5yGz39+6aV41FHwylcOrq4ttyxDoKdPh5/8BP7+d3j8cVhzTXjFK+CII1xMRZIkSdIiIbLTxPMalog4FTgcOC0zp7Y5vibwbmBPYCNgReAJ4DbgWuAXwPmtw50j4nbKwixvz8xTO1z7MOBoYDNgBcrcl3dk5pRh39j8i+AXR4u88FcgAZDOwyupO//UlCQtjPx7bo0honpjiCgZIkoVQ0RJg+CfmpKkhZF/z61xdWZJkiRJkiRJjQwRJUmSJEmSJDUyRJQkSZKkBVBmctZZZ/GGN7yBddddl6WXXpq1116bXXbZhe/9/+zdfbxd453//9cn94mESCRCQkhRdS9SWtoIoqi27pWqCu349k6nt/P9TfVbMa2ZaauGdqYdFEGpUNowrTDEPXUbkSCImxCaSEjIrSQn1++PtU7OSXL2Pnd7n73P2a9nHvux1l7rWtf6HFnbXnmfa631u9+xdu3akuxn3LhxRESrX5MmTWqy5oceeoiLL76Y0047jdGjR7PddtvRt29f+vXrx4gRIzjqqKP4z//8T5YsWVKS+iVJHcN7IqptvCei5D0RpZz3RJTUAn5rttLixYs58cQTmTZtWsE2o0eP5k9/+hPbb799u/Y1btw47rvvvlZvd9999zF27NgNlq1atYq+ffu2aPshQ4Zw+eWXc8wxx7R635LUQTzPbcQQUW1jiCgZIko5Q0RJLeC3ZiusXr2a8ePH88ADDwCw3XbbcfbZZ7PTTjsxb948rrzySp5//nkAdtttNx555BE233zzNu/vwQcfZNGiRc22e+ihh7jwwgsB+NCHPsRLL71ExIZfAfUh4vDhwznggAPYa6+9GDlyJAMGDGDFihXMnj2bm266iZdeegmA7t27c/vtt3P44Ye3uX5JKiPPcxsxRFTbGCJKhohSzhBRUgv4rdkKl1xyCd/+9reBbLThXXfdxZZbbrl+/apVqzj22GO54447APj+97/PL37xi7LXdcoppzB58mQAfvrTn3Luuedu0mbdunXMnj2b3XbbrWA/dXV1nHPOOfz2t78FYNddd10fikpSlfE8txFDRLWNIaJkiCjlDBEltYDfmi20du1att12WxYuXEhEMHPmTHbfffdN2r399tuMGjWK5cuX07t3b958800GDx5ctroWL17MNttswwcffEC3bt2YO3cuI0aMaHN/a9asYZtttuGdd94B4OWXX2bUqFGlKleSSsXz3EZ8sIokSZIkVYlp06axcOFCAA477LAmA0SAoUOHcsoppwDwwQcfMGXKlLLWdf311/PBBx8AcPjhh7crQATo2bMnO++88/r38+fPb1d/kqTyM0SUJEmSpCpx5513rp8/8sgji7ZtvH7q1KllqwngyiuvXD9/1llntbu/devW8dprr61/P2zYsHb3KUkqL0NESZIkSaoSs2bNWj+/3377FW07ZsyYJrcrtWeeeYannnoKgEGDBrX7acopJX70ox+tH324zz77eCmzJHUCPSpdgCRJkiQp8+KLL66f32GHHYq2HTFiBN27d6euro6XXnqJlNImT0suhcajEE877TR69+7d4m2nTp3KqlWrAFixYgVz5szhlltuYcaMGQAMHjyYK664orQFS5LKwgerqG18sIrkg1WknA9WkdQCfmu20KBBg1i8eDEAS5cupX///iVt31pr1qxh2223ZdGiRQBMnz6dffbZp8XbDxs2jAULFmyyvFevXnzuc5/j5z//OTvuuGPJ6pWkEvM8txEvZ5YkSZKkKrFs2bL183369Gm2fd++fdfPL126tOT13HrrresDxH333bdVAWIxu+66K+PHj2fo0KEl6U+SVH6GiJIkSZKkJl111VXr59vyQJX58+eTUmLdunW89957PPTQQ3zta1/j2Wef5atf/SoHHHAAL7/8cilLliSViZczq228nFnycmYp5+XMklrAb80WqqbLmf/+97+z3XbbUVdXR+/evfn73//OlltuWZK+77jjDo4++mjq6urYcccdmTlzJptttllJ+pakEvI8txFHIkqSJElSlRg4cOD6+frLiAtZu3Yt77//PgA9e/YseQh3zTXXUFdXB8Cxxx5bsgAR4IgjjmDChAkAvPrqq1xzzTUl61uSVB4+nVmSJElS53Ft1x4Uskt/eDWff+2yHdnhI4XbzlsIecbHTkPWEL8v7RiRqy5pmD9r+8lw7eSS9n9kX6h/LvO9k77O1/p/vaT9V53THZArqXNzJKIkSZIkVYk9RjTMP/la8bZPvNow33i7Unj4JXjh79n89oNh/O6l7R9gQKPnxixZUfr+JUmlZYgoSZIkSVXiiD0b5u+YWbzt1Ebrj9yzcLu2uPL+hvkzPgHdyvAvxzlvN8xvNaD0/UuSSssQUZIkSZKqxCEfgSF5oHbXs/DsvKbbvf0+3PC3bL5PTzhmdOlqWPEB3PhoNh8BZ44tXd/11q2DK+5reH/gzqXfhySptAwRJUmSJKlK9OgO534um08JvnQZLF6+YZtVq+GMy2D5B9n7b46HwQVG8k24DOJL2WviLS2r4abHYOmqbH7crrDjkJbXf/FU+Nuc4m2WroTTL4Xpc7P3gzaDUw5o+T4kSZXhg1UkSZIkqYp87TC4+Ql44AV46jXY+1z4P4fCTkNh3uJsBN/zb2VtdxsOPzqmtPu/6oGG+bNaOQrx3tnwneth563h0N2yezVuNQC6d4OF78NTc+FPT8C7eTDaozv87suFQ1BJUvUwRJQkSZKkKtKrB0z5Npz4a5j2HLzxLvzoj5u2G70D/OlbsEW/0u375QVw/wvZ/Bb94ISPtq2flxZkr2JGDYVLJ8D4Pdq2D0lSxzJElCRJkqQqs+VmcNf/ze5NeO1DMP11WLQ0W7778Ozy3zPHZiP5SmnSA9ll1JDto2+v1m1/1T/A/87Kgsin58IrC+GdZbAuZU9j3m4Q7DsSPrcvfGbfLDCVJHUOkeq/IaTWCDxwVPPCT4EEQIKodA2Sql7pvjWv9X856qRO9+RR6oT80mnEB6tIkiRJkiRJKsoQUZIkSZIkSVJRhoiSJEmSJEmSiqqq29hGxJbAeOAAYC9gJLAl0BdYCbwLzAWeAR4F7kopLalMtZIkSZIkSVJtqHiIGBF9gVOB04FPsOnoyPqbWG4GDAZ2JgsaAdZFxP3AtcDklNLK8lcsSZIkSZIk1ZaKXc4cEYMi4l+BN4DLgbFAd7LQsPFrKfAmsKyJdd2BccAVwBsRcUFEDOrJ3xOsAAAgAElEQVTYn0SSJEmSJEnq2iKljn3MfET0An6QvwbQMNJwIfAg8DeyS5WfBxanlNY22rYHMAj4CNklzweQjV4ckjdJZKHjz4ELU0qry/3z1KygYw8cqQqFnwIJgNTwXS5JhZTuW/Na/5ejTup0Tx6lTsgvnUYqESLOAXYk+4tYDkwBrgPuTCnVtaG/7sDhwBeBY8gue07AKymlnUtVtzZiiCgZIko5Q0RJLWCIKBkiSp2RXzqNVOKeiKOAxcB/AJeklJa2p7M8eJwKTI2IAcA/At/J9yNJkiRJkiSpnSpxT8T/B+yQUvppewPEjaWUlqaUfgrsAPy4lH1LkiRJkiRJtarDL2dWF+HlzJKXM0s5L2eW1AJezix5ObPUGfml00jFns4sSZIkSZIkqXMwRJQkSZIkSZJUVCUerNIuEbE7cBBZ7TNSSg9VuCRJkiRJkiSpS6uaEDEitgW+n7+dlFJ6pok2/w38w0bL7geOTyktLn+VkiRJkiRJUu2ppsuZTwW+TRYSvrLxyoj4FnA22U0tG7/GAjd2XJmSJEmSJElSbammEHFsPr0npbSs8YqI6AH8MH/7AXAh8E3gcbIg8dCI+HRHFSpJkiRJkiTVkmoKEUcBCXi0iXWHAkPz9V9NKf1TSuk3wCHAm3mbL3RIlZIkSZIkSVKNqaYQcat8+loT6w7Np+8D19UvTCmtAK4nG404ppzFSZIkSZIkSbWqmkLEQfl0RRPrDiIbhTgtpbR2o3Uv5NPh5SpMkiRJkiRJqmXVFCKuzqdbNF4YEX1oGGX4YBPbvZdPe5epLkmSJEmSJKmmVVOIWH9vw303Wj6ehoDw4Sa2G5hPlzWxTpIkSZIkSVI7VVOI+Deyext+MSI+BBAR3YHv5+uXAE80sd1H8unrZa9QkiRJkiRJqkHVFCJelU8HAo9HxJ+AGcBYsvsh/j6lVNfEdp/M18/skColSZIkSZKkGlM1IWJK6T7gCrLRiAOBz9EwyvAt4CcbbxMROwAfzd8+VPYiJUmSJEmSpBpUNSFi7mzgO8CzZA9aWQLcCHwipbSoifbfaDR/R/nLkyRJkiRJkmpPpJQqXUObRcQwsoeupJSS90TsSEHnPXCkEgk/BRIAKbuKQJKKKd235rX+L0ed1OmePEqdkF86jfSodAHtkVKaX+kaJEmSJEmSpK6u2i5nliRJkiRJklRlDBElSZIkSZIkFdXhIWJEXBIRW5d5H8Mi4pJy7kOSJEmSJEmqFZUYiXgO8EpEXBQR25Sy44jYNiIuBl4BvlnKviVJkiRJkqRaVYkQcTrQF/hHYG5E3B4Rp0VEv7Z0FhH98u2nAq+RhZR98v1IkiRJkiRJaqdKPJ15DPB/gB8Dw4BP5a+VEfE48BjwKPAC8C7wbkrpg4joAwzKXx8GDgD2z/vrm/cdwHxgInB5B/08kiRJkiRJUpcWKaXK7DiiL/ANspGD2+WLCxVTB3Qv1FU+fR24GPjvlNKqUtWpAqLg35VUM8JPgQRAavgulqRCSvetea3/y1Endbonj1In5JdOIxV7OnNKaWVK6UJgFHAccAuwkuwvaONXjwLLVwA3A8cCo1JKFxsgSpIkSZIkSaVVicuZN5BSqgOmAFMiohdwENmlynsAI8kuX+4NfEB2efNrwCyyS54fTimtrkDZkiRJkiRJUs2oeIjYWB4I3pO/JEmSJEmSJFWBil3OLEmSJEmSJKlzMESUJEmSJEmSVJQhoiRJkiRJkqSiDBElSZIkSZIkFWWIKEmSJEmSJKkoQ0RJkiRJkiRJRRkiSpIkSZIkSSrKEFGSJEmSJElSUYaIkiRJkiRJkooyRJQkSZIkSZJUlCGiJEmSJEmSpKIMESVJkiRJkiQV1aPSBRQTEdsDHwG2BHqllK6pcEmSJEmSJElSzanKEDEizga+C+y80aprNmp3LnAwMC+ldFYHlSdJkiRJkiTVlKq6nDki+kfE/wK/JQsQo9GrKX8DxgNnRMTuHVOlJEmSJEmSVFuqKkQE/gAcRhYavgr8G/DfRdpPA+bn858pb2mSJEmSJElSbaqaEDEiPg0cDSTgamDXlNK5wB2FtkkpJeB/yULHT3REnZIkSZIkSVKtqZoQEfhSPn0R+EpKaW0Lt5uRTz9S+pIkSZIkSZIkVVOI+HGyUYjXpJTqWrFd/eXMW5e+JEmSJEmSJEnVFCIOzadzWrnd6nzaq4S1SJIkSZIkScpVU4i4Kp/2bOV2Q/Lp4hLWIkmSJEmSJClXTSHiW/m0tfc2/Hg+faWEtUiSJEmSJEnKVVOIeB/ZU5Y/HxEtqisitgZOILuX4j1lrE2SJEmSJEmqWZFSqnQNAETEx4CHyQLBn6eU/jlffgzwJyCllLo3at8X+B/gEGAtsGtKydGIHSSyvyeppqWodAVSlUj4aZDUHM8dpU7mTc6tdAlSqw3nglJ36XluI1UzEjGl9DfgRrK/oH+KiBsj4gA2ukdiRAyPiDOB6cA4shOS3xogSpIkSZIkSeXRo9IFbOQsYCRwANllyifkyxNARKxlwxQ4gLuA73VgjZIkSZIkSVJNqZqRiAAppRXAwcAlwBqykLD+BVm99e/XAL8EPp1SWtvx1UqSJEmSJEm1odpGIpJSWg18JyJ+BpwMfBLYAdgCWAa8SfYQlhtSSvMqVackSZIkSZJUK6ouRKyXUpoP/Cp/SZIkSZIkSaqQqrqcWZIkSZIkSVL1qZoQMSKmRcTdEXFgK7f7aP225apNkiRJkiRJqmXVdDnzOLKnMG/Vyu0GNdpWkiRJkiRJUolVzUhESZIkSZIkSdWpK4SIvfPp6opWIUmSJEmSJHVRXSFE3CufvlvRKiRJkiRJkqQuqiL3RIyI7YEdCqzeIyKWNNcFsBkwGvgnsvshPl2yAiVJkiRJkiStV6kHq5wJ/LiJ5QH8pJV9BVmIeHV7i5IkSZIkSZK0qUo+nTlaubyQNcCFKaUb21mPJEmSJEmSpCZUKkS8t4ll55GNKLwRmN3M9uuAZcCrwAMppXdKWp0kSZIkSZKk9SoSIqaU7gPua7wsIs7LZ/+QUrq146uSJEmSJEmS1JRKXs68sfPzaXOjECVJkiRJkiR1oKoJEVNK5zffSpIkSZIkSVJH61bpAiRJkiRJkiRVN0NESZIkSZIkSUVVzeXMjUXEJ4HTgQOAEcDmNB94ppRSVf48kiRJkiRJUmdWVaFbRPQHrgGOqV9UwXIkSZIkSZIkUWUhInAjcARZeLgcmAl8DEjAc8BKYCQwJG+fgCfztpIkSZIkSZLKoGruiRgRnwGOzN/eBGyTUjqwUZNzU0r7p5S2BvYDppCFjX2BL6eUDunQgiVJkiRJkqQaUTUhInBaPn0XmJBSWlaoYUppekrpOOACYHdgSkT06YAaJUmSJEmSpJpTTSHiAWSXJ1+bUlrZxPpN7o+YUvp/wNPAbsDZ5S1PkiRJkiRJqk3VFCIOzacvbrQ85dNCIw2vIwsYTypHUZIkSZIkSVKtq6YQsf4hLws3Wl5/WfMQmvZGPt2p5BVJkiRJkiRJqqoQ8Z18utlGyxfk010LbDcsn25Z8ookSZIkSZIkVVWIODuffmij5TPILlf+TEQ0Ve/x+fSdJtZJkiRJkiRJaqdqChEfIQsL999o+ZR8uh1weURsDhARm0XEfwBjye6b+EBHFSpJkiRJkiTVkmoKEafm04Prg8LcjcCcfH4CsDAi3gLeA76VL18HXNQRRUqSJEmSJEm1pmpCxJTSg8DVZCMP92y0fDVwArCIbKRiT7L7IHbL39cB56SUHuvomiVJkiRJkqRa0KP5Jh0npXRmgeUzI2JX4BzgMGBrYAXwOPCblNKMjqtSkiRJkiRJqi1VFSIWk1JaDPxL/pIkSZIkSZLUQarmcmZJkiRJkiRJ1alqQsSIuDJ/7dPK7fbIt7uiXLVJkiRJkiRJtaxqQkSyJy+fAWzfyu2G59tOKG05kiRJkiRJkqC6QkRJkiRJkiRJVagrhIj1D4dZW9EqJEmSJEmSpC6qK4SIH86nSypahSRJkiRJktRF9Wi+SelFxObAwAKrh0ZEc/dFDGAzYDTwAyABs0pXoSRJkiRJkqR6FQkRge8AP25ieQCXtrKvIAsRJ7e3KEmSJEmSJEmbqlSICFn415rlxdwAXN6OWiRJkiRJkiQVUKkQ8Wng6o2WnUE2ovBe4PVmtl8HLANeBe5OKc0sdYGSJEmSJEmSMhUJEVNKU4ApjZdFxBn57CUppVs7vipJkiRJkiRJTank5cwbu4ZsJGJzoxAlSZIkSZIkdaCqCRFTShMqXYMkSZIkSZKkTVVNiNhSERHAzmS1v5xS+qDCJUmSJEmSJEldWrdKF1AvIvpFxOfy13YF2pwKvAU8D8wE3o6IiR1YpiRJkiRJklRzqmkk4onAJKAOGLXxyog4Avh9/dt8OgD4fxExIKX0vY4oUpIkSZIkSao1VTMSETg8nz6aUnqjifW/IAsPA3gC+CPwXv7+HyNi7w6pUpIkSZIkSaox1RQi7kb2dOb7N14REaOBPfL1F6WU9k8pnQx8FFhOFiSe1YG1SpIkSZIkSTWjmkLEIfn0hSbWHZFP1wAX1C9MKc0BbiQLET9R1uokSZIkSZKkGlVNIeJW+fT9JtbVB4QPp5QWb7Tu8Xy6Y1mqkiRJkiRJkmpcNYWI9Q9L6bvBwogAPk6BS52BRfm0f/lKkyRJkiRJkmpXNYWIC/PpLhst3x8YmM8/3MR2/fLpqnIUJUmSJEmSJNW6agoRnyYbjXhqRDQejfgP+XQN8FAT243Kp38vY22SJEmSJElSzepR6QIauQn4DLATcG9EXA/sTvbU5QT8JaW0vIntDsinz3dIlZIkSZIkSVKNqaYQ8TrgHGBMo1e91cDEjTeIiM2BQ8hCxr+Vv0RJkiRJkiSp9lTN5cwppXXAUcCUfFHkr7eAE1NKM5vYbALQK5+/q9w1SpIkSZIkSbWomkYiklJ6BzguIoaQ3etwBfBsHjA2ZTZwZrZpeqKDypQkSZIkSZJqSlWFiPVSSgtpeFpzsXZ3dkA5kiRJkiRJUk2rmsuZJUmSJEmSJFUnQ0RJkiRJkiRJRRkiSpIkSZIkSSrKEFGSJEmSJElSUYaIkiRJkiRJkooyRJQkSZIkSZJUlCGiJEmSJEmSpKIMESVJkiRJkiQVZYgoSZIkSZIkqShDREmSJEmSJElFGSJKkiRJkiRJKsoQUZIkSZIkSVJRhoiSJEmSJEmSijJElCRJkiRJklSUIaIkSZIkSZKkogwRJUmSJEmSJBVliChJkiRJkiSpKENESZIkSZIkSUUZIkqSJEmSJEkqyhBRkiRJkiRJUlGGiFKpvf02XHMNnHUW7LsvDBwIPXvC4MHw0Y/C974Hzz9fnn0vXAg/+Qnstx8MGgT9+sGHPpTV8re/ta6v5cvhoovgoINg6FDo0wdGjoTPfx7uuKM89avTqqOOWcxiEpM4h3P4OB+nH/2I/M9EJpZlv8tZzkVcxEEcxFCG0oc+jGQkn+fz3EHrjtM1rOFyLucwDmMbtqE3vRnBCD7LZ5nMZBKpLD+DJEmSJHUGkZL/KFLrBf5ruknf+hb85jdQV1e8Xbdu8J3vwM9+Bt27l2bfd90Fp52WhZhNicgCzF/8ovm+pk+HE0+EV14p3Oa00+DKK6FXr7bV2wWkqHQF1eMETuAWbim4/jzOK3mQOJ3pnMiJvELh4/Q0TuNKrqQXxY/T13iN4zme6Uwv2GY847mJmxjIwDbX3GUl/DRIao7njlIn8ybnVroEqdWGc0Gpu/Q8t5EelS5A6lKee64hQNx9dzj0UNhzz2w04ttvw1/+ArffDuvWwS9/Ce+9B5df3v79PvkkHHMMrFiRvT/8cDjhBOjfHx57DK64IhtZeOGF0Ls3/PSnhfuaOxeOOgoWLMje778/fPGLsNVWMHMmXHYZvPMOXHddFkxee23761enV8eGwfkgBjGYwbzES2XZ31zmchRHsYDsON2f/fkiX2QrtmImM7mMy3iHd7iO6wiCayl8nC5hCUdxFLOZDcBH+AhncRYjGMEc5nAZl/EGb3AXd3E8x3Mnd9LDr09JkiRJNcaRiGoTRyIWcMQRMGRINspwv/2abvPHP8Kpp8Latdn7u+/Owsa2SgnGjIGnnsreT5wI5523YZsZM2DsWHj//WwU5NNPZ+FmU447Dv7852z+rLOykLNbozsfzJ2b9fX669n7//kfOProttffiTkSscG/8q8sZSn75X92ZEcmMYkzORMo/UjE4ziOP5Mdp2dxFpdzOd0a3aFjLnMZy1heJztO/4f/4WiaPk6/w3e4mIsBOJIj+RN/og991q9/l3cZz/j1oxT/k//kG3yjZD9Ll+BIREnN89xR6mQciajOyJGI5WWI2AYRMQ64ByCl0sYIETEROA+4L6U0rpR9l5IhYgGLF8OWWzbf7vvfz0YiAnzpS3D11W3f55QpcOyx2fwBB8Ajj2QjBDf2m9/AN/Lg48QT4aabNm0zYwbss082v/328MIL2b0QN/bXvzYEh2PGwOOPt73+TswQsbhyhYgzmME+ZMfp9mzPC7ywQehX76/8dX1wOIYxPM6mx+nbvM12bMdqVrMZm/EKrzCUoZu0m8Us9mIvEolhDGMe8+hOiW5F0BUYIkpqnueOUidjiKjOyBCxvHywShcTEcdGxMSIOLbStdSklgSIACed1DA/c2b79jl5csP8Oec0HSACTJgAm2+ezf/lL9nlzcX6OvvspgNEyC533mmnbP6JJ4rfO1Eqsck0HKdnc3aTASLAURzFTmTH6RM80eS9E//Mn1nNagBO5dQmA0SAPdiDQ8lGDM9nPvdxX7t+BkmSJEnqbAwR22YF8EL+qjbHko1kNESsZgMGNMyvXNm+vu68s2H+iCMKt+vXDz75yYZ93tdECNK4ryOPLNxXxIb7mjq1ZbVKJXAnDcfpkRQ+ToPgCBqO06lsepy2tK+N1zfVlyRJkiR1ZYaIbZBSeiyltGtKaddK16JOatashvmRI9vez/z52UNO6vvZaqvi7ceMaboGyB728txz2XyPHrD33m3vSyqTdazjObLjtAc92Jvix+kYGo7TWWx6nDZeth8F7mPawr4kSZIkqSszRJQq4bLLGubb81CSF19smN9hh+bbNw4sG28LMG9ew6jI4cOzILGtfUllMo95rCQ7ToczvNmnJI+k4Th9kQ2P03Ws42VeBqA73RnBiDb3JUmSJEldnSHiRiLi3ohI+X0Fe0bE9yLiiYhYki8fl79SRBS8QXRE7BkRkyNifkSsiohXIuLXETG0Jds36uewiPhLRCzM+3k+Is6LiD4btRuX93dGvuiM+n00eo1r138clcYNN2RPZAbYeuvsCchttWRJw3xzoxABBg9uettS9yWVyRIajrWtaP44HUzDcdp4W4BlLGMt2VPSBzKw2UCyWF+SJEmS1NU1M9SopvUB7gUOBNYCS2nhU+Ui4jhgMtAzX7QM2Ab4JnAC8MMW9vMD4Gf52/eAXsCuwETg4Ig4PKVUl69fDSwAtshrX5Vv09jqluxXZfTcc9kDS+r9+tew2WZt72/Zsob5Qg9Baaxv34b5pUvL15dUJstoOE4LPVClsb40HKdL2fA4LWVfkiRJktTVORKxsG8AewFnApunlAYBQ4Bnim0UEaOA35MFiE8BY1JKA4B+wOFkQd5FLdj/3sC/56+hKaUtgYHAv+TrD6Fh1CEppYdTSsNg/WNLJ6eUhm30ergF+1W5zJ8Pn/1sQ+D29a9v+JRmSZIkSZKkKuVIxML6A59LKd1WvyCl9A5ARBTb7odkgeHbwOEppXfzbRNwV0QcAcxowf4HAuenlCY22v/7wHkRsQdwPHAqcGUrfqZmRcSTLWqYWjQos2uYPTt7FTJ6NGy/ffE+3n0XPvUpeOWV7P2JJ8KvftX+2vr3b5hftar59o2fBN34CdGl7ksqk/40HKeraP44rb9/IsAANjxOS9mXJEmSJHV1hoiFPds4QGyJyNLFE/K3v60PEBtLKb0QETcCpzfT3QfAhQXWTSELEfdqTX1qoxtugPPPL7z+qqtgwoTC6997LwsQZ87M3n/2s3D99dC9e/trGziwYX7Roubb1z/JeeNtS92XVCYDaTjWFtH8cfoODcdp420hCxF70IO1rGUJS1jL2qL3RSzWlyRJkiR1dYaIhT3Uhm1Gwfp/Wd5XpN29NB8iPptSWlZg3Vv5dFDLS2uZlNJ+LWkXLbw/ZM1buhSOOAKezAd4HnEE3HQT9OxZfLuW2mWXhvnXXmu+/dy5TW8LMGJEdp/DlSvhzTdh7driT2gu1pdUJiMYQV/6spKVvMmbzQZ/c2k4Tndhw+O0G934EB/iBV6gjjrmMY8d2KFNfUmSJElSV+c9EQt7uw3bDGk0/1bBVvBmC/oqdtf+tfnUELgjTJyYXb5d6FVoFOKyZXDUUfDoo9n7Qw+FP/8ZevcuXW3DhjU8Jfn115sfQfjEEw3ze+yx4bpu3WC33bL5tWthRjNX3RfrSyqTbnRjN7LjdC1rmdHM3SGeoOE43YNNj9PGy56k+N0cmutLkiRJkroyQ8TC6ppvUpQj9WrZihXwmc/AQ/mA1rFj4bbbWvbU49Y64ohsmhLceWfxmh54IJvv2xcOPrhwXwB33FG4r5Q2XH/kkS2vV2qnI2g4Tu+g8HGaSBusP5JNj9OW9gUwlalF+5IkSZKkrswQsbQWNprftki74eUuRBW0ahUccwzcl1/RftBB8Je/QL9+5dnf5z/fMP+rXxV+6M2kSfD++9n80UfDZptt2ubkkxvmL7208ANWbr8d5szJ5seMgVGjWl221FYn03CcXsqlBR+Kcju3M4fsOB3DGEax6XF6LMfSi14A/IE/8HaBQeizmMU0pgEwjGEcTBMhvCRJkiR1YYaIpfUKsCSfH1ekXbF17bUunxZ9hLTKZPVqOOEEuOuu7P0BB8Bf/7rhk49bY9w4iMhekyY13eazn82eEA3ZpdM/+cmmbZ55Bn74w2y+Wzf48Y+b7mvvveHYY7P511+Hb34T1q3bsM3rr8PXvtbwfuLEFv4wUvMmMIHI/0xkYpNt9mZvjiU7Tl/ndb7JN1nHhsfp67zO12g4Tgv1NYQhfJ2vA7CMZUxgwiah5GIW8yW+RMoHmP+IH9GdEjwYSZIkSZI6Ee+pV0IppRQRtwBnAV+NiEtSSosbt4mInaHRMJrSy4ea+ejQipgwIQsNAQYMyMK2adOa364+uGuLCLjssuyS6RUr4LzzssuoTzwxG2342GPwu9/B8uVZ+3/+Z9hzz8L9XXwxPPIILFgAV1wBs2bB6adn916cOTMboVj/ZObTTstGNarmvcqrXMEVGyx7hmfWz09jGmvX3841cwInsC/7tml/F3Mxj/AIC1jAFVzBLGZxOqczmMHMZCaXcun6pymfxmkcTeHj9DzOYypTmc1sbud2RjOar/AVhjOcOczhUi7lDd4AYBzjOJuz21SzJEmSJHVmhoil92/AqcDWwJ0RcXZKaXpEBHAI8DtgBVDCp2tsYFY+/WRE7JpSml2m/agpDz/cML90aeGHrmys0CXILbXffjBlCnzhC7BwYXZvxI3vjxgB3/1u0yMVGxs5Mrtc+cQT4ZVXstGN9Q+HaewLX4Arr2xf3eoy5jKXC7ig4PoH8j+N7cRObQ4RRzKS27mdEzmRV3iFR/M/G/sCX+BKih+nAxnI7dzO8RzPdKbzPM/zPb63SbvxjOcmbqInJXq6uiRJkiR1Il7OXGIppTnAl8ieoDwGeCoi3geWAXcDvYDv5s0/KEMJN5Pdm3FL4PmIWBgRr+Wvj5Vhf6oW48fDs8/C+ednlzcPHJg9yGXUqCzMfOghuPDCLExszr77ZpdA//KX8PGPw1ZbZU+V3m47OOmkLGS87jro1avsP5ZUyL7syzM8wy/5JR/n42zFVvSmN9uxHSdxErdzO9dx3fp7HhazAzvwKI9yGZdxKIeyNVvTi15sy7YczdHcwA3cyZ0MdJC3JEmSpBoVqb0joLqYiLgXOBg4P6U0sUCbccA9ACmlJhOZiNgbOJfs/odbAG8CtwIXAJ8AbgEWpJSGbbTdROA84L6U0ri27D8ids37+CQwFNYPmzkkpXRvU322Vvj0aYmmP/1SDUreh1dSszx3lDqZNzm30iVIrTa8yNVRbeR5biOGiBUQERcAPwSmpZQOq3Q9bWGIKBkiSusZIkpqnueOUidjiKjOyBCxvLycuYNFxBDgK/nbqZWsRZIkSZIkSWoJQ8QyiIhvRcT/FxE7RUSPfFnviPg0cD/ZJcYLoZm7/UuSJEmSJElVwKczl8co4B/JntRcFxHvAZvT8N/7PeDklNI7FapPkiRJkiRJajFDxPK4GqgDxgLDgcHASuBV4A7gkpTSm5UrT5IkSZIkSWo5Q8QySClNB6ZXug5JkiRJkiSpFLwnoiRJkiRJkqSiDBElSZIkSZIkFWWIKEmSJEmSJKkoQ0RJkiRJkiRJRRkiSpIkSZIkSSrKEFGSJEmSJElSUYaIkiRJkiRJkooyRJQkSZIkSZJUlCGiJEmSJEmSpKIMESVJkiRJkiQVZYgoSZIkSZIkqShDREmSJEmSJElFGSJKkiRJkiRJKsoQUZIkSZIkSVJRhoiSJEmSJEmSijJElCRJkiRJklSUIaIkSZIkSZKkogwRJUmSJEmSJBVliChJkiRJkiSpKENESZIkSZIkSUUZIkqSJEmSJEkqyhBRkiRJkiRJUlGGiJIkSZIkSZKKMkSUJEmSJEmSVJQhoiRJkiRJkqSiDBElSZIkSZIkFWWIKEmSJEmSJKkoQ0RJkiRJkiRJRRkiSpIkSZIkSSrKEFGSJEmSJElSUYaIkiRJkiRJkooyRJQkSZIkSZJUlCGiJEmSJEmSpKIMESVJkiRJkiQVZYgoSZIkSZIkqShDREmSJEmSJElFGSJKkiRJkiRJKsoQUZIkSZIkSVJRhoiSJEmSJHjvhO4AABo6SURBVEmSijJElCRJkiRJklSUIaIkSZIkSZKkogwRJUmSJEmSJBXVo9IFSJIkSZIkVdrq1XXMnvk2zzw5n2ee+Dszn5zP7Jlvs2bNOgAuuuoznDxhr5Lt72M7/Bfz5r7X6u1uvOc0Dhw3coNla9bU8dgDb/D0439nxuNv8epLi3l30QqWvLOSbt27MXhIP3bfZ2s+dczOfO6U3ejbt2epfgzVEENESZIkSZJU8475+NXMfGp+pcsoKgK233HgJsvnvryYzx92fYGt6pg39z3mzX2PO6a8yMX/8iC/vu4Yxhw4orzFqssxRJQkSZIkSTWvrm7dBu+HDtuMXr17tGm0YEv87LKjWLliTbPtpv7pRf54zUwADjxkJCNGblGw7chRA9nngG358O5D2Hb7zenbryfLl65m9sy3uXXy88x/cylvvPYepx7+B2579Ax23WNoyX4edX2GiJIkSZIkqeYddOgOfOqYXdhrv2HsNWYbhm07gF9OvJ//OP/Bsuzv4E+NalG7//r3R9bPf/6svZtss+12m/PwK19vcpRivR/89GC+ccqfufPWl1i5Yg0//cE0fn/7Ka0rWjXNEFGSJEmSJNW88y4aX+kSNvHicwuZ/uhbAGy+RW+OOv7DTbbrt1kvtt+xV9G++vbtyS9+92nu3uZX1NUlHrzrNVavrqNXr+4lr1tdk09nliRJkiRJqkKTr3pm/XwpHogyeMhmDB7SD4C1a9fx7qIV7epPtcUQUZIkSZIkqcqsXbuOW66dtf59oUuZW+P991ax+J2VAPTs2Y2Bg/q2u0/VDkNESZIkSZKkKjPtr3NYuGA5AB/efSv23X/bdvW3du06fvTNO1mzJnuAzKGf3ok+fbzLnVrOo0WSJEmSJKnKTL6y4VLm1oxCXLcuceetL65/v3zZGuY8v4hbJz/P3JcXA7DdDltw/iWHl65Y1QRDREmSJEmSpCqy6O3l3P2XOUB22fEJp+/R4m1Xr67jK8fd3OS6zfr34jMnf4Rzf3YIg7bqV5JaVTu8nFmSJEmSJKmK3HztLNauzS47PuwzOzF4yGYl6Xf3fYZy0KEjGbBF75L0p9riSERJkiRJkqQqcuNVM9bPn9LKB6r06dODeemHAKSUWLJ4Fc89vYDrf/c0U/7wHI89OI/rLpvOZX88vmThpGqDIaIkSZIkSepy5sxexJzZ7xRcv+foYQzffosOrKhlpj/2Fi88uwiArbfpzyFHfajNfUUEWw7qy0GH7rD+9U//8Fcevf8NJnz2Jm595AwiolSlq4szRJQkSZIkSRsYzgWVLqHdLr9hIueff1nB9VdddRX7T5hQtI/NmQg8CMCWnMBwircvhZ9e9bX18xO+9A227/5vJev7B1+BO24Yz9133830R99i5tRPctRRR5Wsf3Vt3hNRkiRJkiSpCqxatYobbrhh/fuzzjqr5Ps48sgj18/fe++9Je9fXZchoiRJkiRJ6nImTpxISqnga0IzoxAr4ZZbbmHJkiUAHHTQQeyyyy4l38eAAQPWz9fvS2oJQ0RJkiRJkqQqcOWVV66fL8coRIA5c+asn99qq63Ksg91TYaIkiRJkiRJFTZ37lymTZsGQP/+/Tn55JNLvo9ly5Zx/fXXr39/4IEHlnwf6roMESVJkiRJkkpo3LhxRAQRwaRJk1q0zaRJk0gpAXDSSSfRv3//Fu/vJz/5Cc8++2zRNgsWLODYY4/lrbfeAmDnnXfm8MMPb/E+JJ/OLEmSJEmSat706dO5+eabN1h2//33r5+/5ZZbNrgUGODLX/4yO+64Y7v3nVLi6quvXv++tZcy33zzzfz4xz9m7733ZuzYsey2224MGjSIlBILFizg0UcfZcqUKSxfvhzIRjpeffXV9OrVq921q3YYIkqSJEmSpJo3Y8YMLrjggoLrb7vtNm677bYNlo0fP74kIeI999zDq6++CsAuu+zCJz7xiTb1M2PGDGbMmFG0zT777MMVV1zB6NGj27QP1S5DREmSJEmSpAq66qqr1s+feeaZrd5+6tSp3HHHHTz00EPMmDGDV199lSVLlhARbL755owcOZL99tuPE044gfHjx9Otm3e3U+tF/fX2UmsEeOCo5qWodAVSlUj4aZDUHM8dJUmdkee5jRg9S5IkSZIkSSrKEFGSJEmSJElSUYaIkiRJkiRJkooyRJQkSZIkSZJUlCGiJEmSJEmSpKIMESVJkiRJkiQVZYgoSZIkSZIkqShDREmSJEmSJElFGSJKkiRJkiRJKsoQUZIkSZIkSVJRhoiSJEmSJEmSijJElCRJkiRJklSUIaIkSZIkSZKkogwRJUmSJEmSJBVliChJkiRJkiSpKENESZIkSZIkSUX1qHQBkiRJkrquiLhu9OjRlS5DkqRWe+qpp65LKZ1W6TqqhSGi2iRBVLqGWhYRTwKklPardC01LVW6gNrm50CSOo+nnnrqqUrXoBbZNZ/OrmgVUtfm50ydliGiJEmSpLJxBEfn4S/opPLzc6bOzHsiSpIkSZIkSSrKEFGSJEmSJElSUYaIkiRJkiRJkooyRJQkSZIkSZJUlCGiJEmSJEmSpKIMESVJkiRJkiQVZYgoSZIkSZIkqShDREmSJEmSJElFRUqp0jVIkiRJkiRJqmKORJQkSZIkSZJUlCGiJEmSJEmSpKIMESVJkiRJkiQVZYgoSZIkSZIkqShDREmSJEmSJElFGSJKkiRJkiRJKsoQUepgETEpIlJETCpD35+MiL9ExMKIqMv38+dS70dqr4gYlx+fqQx9T8z7vrfUfUuSVK08x5TKz3NY1boelS5AUmlExMeAaWSf6wS8A9QBi/P1E/Omk1JKr1WgRKlTiIhjgX2Ap1NK/gNJklTTPMeUOgfPYdURDBGlruPbZJ/ph4DPpZTe3Wj9efn0XuC1jitLatIK4IVKF1HAscAZwNWAJ2CSpFrnOabUwHNY1TRDRKnr2DOf3tDEyZ1UVVJKjwG7VroOSZLULM8xpZznsKp13hNR6jr65dNlFa1CkiRJXYnnmJIkwBBRqjoRsUNEXBwRz0bEsohYERGzI+KSiNi+ifb1N/bdIV90Vf2y+ptrb3Tj33s2Wv9aB/xYqiERcW9+bE2MiJ4R8b2IeCIiluTLx7XkptQRsWdETI6I+RGxKiJeiYhfR8TQ1tzUOiIOa3Qz+FUR8XxEnBcRfTZqNy7v74x80RkbfVZSRIxr138cSZIqxHNMqTjPYaXmeTmzVEUi4jTgCqB3vugDYB3w4fx1ZkScmFK6s9FmC/LpELJfDLwPrGy0vi5vs3X+fjGwutH6haX8GaRG+pDdH+lAYC2wlOyG7M2KiOOAyUDPfNEyYBvgm8AJwA9b2M8PgJ/lb98DepFdgjIRODgiDk8p1eXrV5N9VrbIa1+Vb9PYaiRJ6mQ8x5RaxXNYqQBHIkpVIiIOB64BugM/B3YE+gKbkX1h3AQMAG5q/NvilNKwlNIw4I180T/WL8tfX87X1zt+o/Uf7YAfT7XpG8BewJnA5imlQWT/EHmm2EYRMQr4PdnJ11PAmJTSALLLqQ4nOwm6qAX73xv49/w1NKW0JTAQ+Jd8/SE0/MaWlNLD+Wdlcr5o8kaflWEppYdbsF9JkqqG55hSq3kOKxVgiChVgYjoBvwX2WfyGyml/5tSei01eCGldDJwK7A58N1K1iu1UH/gCymlSSmllQAppXdacFP2H5KdbL0NHJ5SejLfNqWU7gKOoOH+TMUMBH6SUvphSmlR3sf7KaXzgFvyNqe2+qeSJKmT8BxTahPPYaUCDBGl6jAW2BlYBPyuSLtr8ukRZa9Iar9nU0q3tWaDiAiySz0AftvUyVpK6QXgxhZ09wFwYYF1U/LpXq2pT5KkTsZzTKn1PIeVCvCeiFJ1OCifbgG8lX0HNalXPh1Z9oqk9nuoDduMIvvtK8B9RdrdC5zeTF/PppQKPUnyrXw6qOWlSZLU6XiOKbWe57BSAYaIUnXYNp/2pOHm1MX0LWMtUqm83YZthjSaf6tgK3izBX0tLbJubT71e1CS1JV5jim1nuewUgFezixVh+759NGUUrTkVdFqpZapa75JUS16Cp4kSSrIc0yp9TyHlQowRJSqw/x86iUkqnULG81vW7AVDC93IZIkdQGeY0odw3NY1QRDRKk61N93Y1hEjCnTPup/I+ZvmFXNXgGW5PPjirQrtq691uVTPyuSpM7Oc0ypY3gOq5pgiChVh3uAOfn8f0REr2KNI6ItN9J9P58OLNpKqqCUUgJuyd9+NSK23LhNROwMnFzGMvysSJK6Cs8xpQ7gOaxqhSGiVAVSSmuBr5LdKPcTwP0RcVhE9KxvExGjIuKrEfE48PU27GZWPj0tIvq1u2ipfP4NWEl2A/g7I2JfgMgcCtwBrCjj/us/K5+MiF3LuB9JksrKc0ypQ3kOqy7PEFGqEimlu4GTyJ7GdQBwF7A8IhZFxCrgZeC3wBjadrPe/86nJwBLImJeRLwWEQ+2v3qpdFJKc4Avkf2DZwzwVES8DywD7gZ6Ad/Nm39QhhJuJruvzZbA8xGxMP+svBYRHyvD/iRJKhvPMaWO4TmsaoEholRFUkp/BnYCzgceI/vCGUj2JTMD+B1wHPCLNvT9e+B04EGy34BtQ3aT7RGlqF0qpZTSH8lOvm4iOxnqDSwALgH2Bd7Lmy5psoP27XsxMBa4AXgT2ILsszIS6FPq/UmSVG6eY0odw3NYdXWRXbovSVLnEREXAD8EpqWUDqt0PZIkSVJzPIdVZ+dIRElSpxIRQ4Cv5G////buPtiu6qzj+PeBlCS10EIFxtJIgL5gGdpUHOMwKCFWU50WQjtaNRZDO2MrKqKj9X24KjNGZxhE+gKMAm3piy0d4rRCK50QGsaC2BcLHYoSSLSBFoTStDQvBB7/2Ovm7tycvfc5N/ece+/p9zOzZ7+ctdda5xzI/c3aZ6/96bnsiyRJktQPM6zGgb9ElCTNOxFxMfB84CZgW2bui4jFwE8DlwOnUt0i8iOZ+cTc9VSSJEmqmGE17hxElCTNOxHxd8DvlN1nqeaPOQpYVI59G1ibmZtH3ztJkiTpYGZYjbtF3UUkSRq591MFr58CTgBeDOwCHgY+A1yZmTvmrnuSJEnSQcywGmv+ElGSJEmSJElSKx+sIkmSJEmSJKmVg4iSJEmSJEmSWjmIKEmSJEmSJKmVg4iSJEmSJEmSWjmIKEmSJEmSJKmVg4iSJEmSJEmSWjmIKEmSJEmSJKmVg4iSxlpETERElmXVXPdnmCJibXmfuyPihCG2c1Zp55mIOG1Y7UiSJI0LM+lQ2jGTSiPmIKKkBSUiVpQQNhERK+a6P/NFRCwBrii712bmjmG1lZl3ApuARcDfD6sdSZKk+cpM2puZVBpvDiJKWmhWAJeWxcA25SJgObAb2DCC9ibKenVErBlBe5IkSfOJmbQ3M6k0xhxElDTWMnMiM6Msm+e6P8MQEUuBPyq7N2TmI8NuMzO3AHeW3b8YdnuSJEkLmZl0OMyk0mg5iChJC98FwLFl+wMjbHeyrZURceYI25UkSdL8YyaVxpyDiJK08P1GWW/NzM+PsN2bgD1l+6IRtitJkqT5x0wqjTkHESX1JSKOioh1EfGPEfGliHiqPAntyYj4YkRcHhGnDFjn6oi4NiLur9X3eERsiYjLIuJVtbLrIyKB62tVXF97yt3ksm1aG30/CS8ilkXEhvJ+noyIPRGxIyI+Wdo/vOP8zZNt1Y79UkTcFhHfKPVtj4gbIuLUQT6rljZPB15Tdj/cR/kfjojfioiPR8QDEfHdiNgbEY+V/v9hRLywn7Yz81vArWX3/Ih4wczehSRJUn/MpGbS6cyk0uhEZnaXkvR9LSKOAHYCizuK7gMuycz3dNR3LFW4eF1X25kZ5Zz1HBjWmmzPzOW1tiaoJrwGOKdpDpqIeAfVk+SWttR9L3BuZm5rqGMzcHbZXQp8BFjbUNce4PzMvLXh9b5ExJ8Df1l2V2fm7S1lV1E9wS46qn0ceFN54l1X+xcDV5bd8zNzY2enJUmSZsBMup+Z9OA6zaTSCCya6w5IWhAOowprjwC3AV8Bvgk8BywDzgTOpfo35d0R8Uhm3tyrohLW7gZOKoe+TRVs7qEKhS+mesLdG4CX1k7dBJwPrAZ+uxy7qhyv+96gb66Etatrhz4J/AvwFPAK4MLS39OBOyPitZn5eEe111GFtS8AHwX+B/hBYB3V57UYuDEiXpmZ/zdon2t+pqyfA/6jo+wSqrD2VeB24H7giXJ8WenvGVRz2XwqIlY0hdOau2rbawADmyRJGhYzqZm0iZlUGoXMdHFxcWldgMOB11N+vdxQ5tXAo0ACW4HDGsrdUsok8FngmIZyAaztcXx97fz1ffR9olZ+VY/Xl1OFvKS6av2LPcosBT5Vq+fjDW1trpVJ4LLpnxlV+L25VuZdh/i9PF3qua+P8icCp3eU+WXg2VLn9X3UeQSwu5T/4lz/t+ri4uLi4uIyvouZ1EzaUt5M6uIygsU5ESV1ysxnM/PTmdk4/0FmfgX4k7J7MtWVzQNE9bS0nyu7DwLnZeaTDfVljuY2hIuZul3k8sz8WI++7AJ+hSqQArw5Il7eUe+mzPyz6Z9ZZj4H/EHt0JqZdRuoPufnl+0Hugpn5vbMvLejzEeAG8vuWyLieR3l9wIPld3TIsK/K5IkaSjMpGbSlvJmUmkE/B9L0mz6t9r2yh6vr6ttX5aZTw+5P/14U1nvAy5vKpSZO4H3lt2guo2lzZVNL2Tmg8D/lt1XNZXrw4m17Z7Bd4Ymv8elVFfzu3yrrI8AfmgW+yFJkjQTZtIpZlJJs8ZBREl9i4jlEXFpRNweEY9GxK76U+iAr9WKv7RHFWeVdVLN8TKnIuI4pkLPf2bmYx2n/Gttu1cgrbur4/UdZX10R7k2x9S2+w5sEbEyIq6KiHsi4onyJLz691ifi6fX9zjdE7XtQ3k/kiRJncykZtIGZlJpyHywiqS+RMQlwAa6n4Y36agexyb/+D/WdMvIiNWvUP5XH+XrZbqubnZNTL2nrPv9PHupn/udrsLliYb/ALx1gDZ6fY/T7axttz1JUJIk6ZCYSQ8qYyadYiaVhsxBREmdImIdcEXt0BbgDmAbVVDYW44fB1xTtg/vUdXkH//vzn4vZ+TI2nY/t7HU+31kYyn2zzMzbHtq2/0Eq/cwFdb2UE0ofg/VFeinqSavhgOfNtjre5zuhbXtXX2UlyRJGpiZdD8zaW9mUmnIHESU1I+/Kut9wLmZeWuvQhFxWkc9O6lud3jBLPbtUNSvlP5AH+Xr/e68yjoC9SvnxzSWorrtB3h72f06cHZmPtRQ9oQB+zGjW1gkSZIGZCatmEl7M5NKQ+aciJJaRcTJwElld2NTWCtObHkNqqAAcFxEtAaMEXm0tt31ZLvpZR6Z5b7MxLbadtfnuZpq8m2ADU1hrej6HqebbHsvB36mkiRJs8JMegAzaW9mUmnIHESU1OX42vbWjrJrOl7fUtYBvHGG/anfkhGNpfpQJq3eXnZXRMSxHaf8bG373w+l7VnyMFO3vLyyo+xsfo/7RcRi4OSye19mZr/nSpIkDcBMOsVMOo2ZVBoNBxEldflebfuUpkIRsQy4sKOuG2vbfxoR/dyuMV19DpiZnD/dJ8p6EXBJU6GIOBK4qOwmcPMstH1IMvNZ4Atl99SIaJuDpt/v8Tzg1QN0YwVwRNm+e4DzJEmSBmEmxUzawkwqjYCDiJK63M/UlcXzIuLHpxeIiOOBjXRP7HwX1cTJUN2GsbHpFpKonNvjpYdr2z/a0fd+XMXUxMvviog39+jLEqqw+ZJy6BOZ+d+z0PZsuK2sDwN+rKXcPbXt34+Io6cXiIiVwHUDtr+ytv2ZAc+VJEnql5nUTNrGTCqNgA9WkdQqM/dGxDXA7wHPAz4XEddRBYBnqELThcCLgA8AF3RU+WtUt12cBLwO2BoRHy317QSOprrq+AZgOQffHnIv8BjVU/d+NSIeB+5iKnTtysw7Bnh/2yLid4Grqf5NvCki/pkqWD5FFSzfxtTtETuYuvo7H2xkapLxVcCmhnKfp7pCfAbV5/q1iLgaeABYSjU/zVtK2Q8B6/ps/5yyfhr47AD9liRJ6puZ1EzawUwqjUA4VYCkLuWq5y1M/XHu5Rrgb5ma2+T9mbm+ob7jgX8Czu5oOjPzoF9MR8Svl/Z62Z6Zy2tlJ4BLy+45mbm5oU/vBK4AlrT05z7gjZm5raGOzZT3lJmtc+MMUrZLRHyJ6haOrZn5spZyL6MKdMsaiuwGfpNqjp/ry7ELM/OGhvpeBHwDWAzcmJlvndEbkCRJ6oOZdD8z6YH1mUmlEfF2ZkmdMnM31QTOF1FdPfwOsIdqAuiPAWsy850cOMF0W33fzMxVwM8DHwQeorpq+AzVFd07gAkaJmbOzGuB11Nd8fx66cshycyrgVcAfwN8meqK7+ST3W6hurK9oimszbH3lvUpEXFmU6HMfBB4LfDXVLcE7aaaz+cB4N3AGZk5yK0jv0AV1gDeN2inJUmSBmEmNZM2MJNKI+IvESVpgStX5bdT3U5zbWa+Y0Ttfg74SeDuzPyJUbQpSZKk+clMKo0/f4koSQtcuSq/oexeEBEvaSs/GyLiLKqwBlO35kiSJOn7lJlUGn8OIkrSeHgf1VMClwB/PIL2Jsp6U2b6BDxJkiSBmVQaa97OLEljIiLWAjdTzcdzSmbuGFI7ZwFbgH1Uc/J8dRjtSJIkaeExk0rjy0FESZIkSZIkSa28nVmSJEmSJElSKwcRJUmSJEmSJLVyEFGSJEmSJElSKwcRJUmSJEmSJLVyEFGSJEmSJElSKwcRJUmSJEmSJLVyEFGSJEmSJElSKwcRJUmSJEmSJLVyEFGSJEmSJElSKwcRJUmSJEmSJLVyEFGSJEmSJElSKwcRJUmSJEmSJLVyEFGSJEmSJElSKwcRJUmSJEmSJLVyEFGSJEmSJElSq/8HjCze+PJeNU4AAAAASUVORK5CYII=\n",
                "text/plain": "<Figure size 720x648 with 5 Axes>"
              }
            ],
            "_view_module": "@jupyter-widgets/output",
            "_model_module_version": "1.0.0",
            "_view_count": null,
            "_view_module_version": "1.0.0",
            "layout": "IPY_MODEL_a29ff03ef9014ed396a0073400f67ef1",
            "_model_module": "@jupyter-widgets/output"
          }
        },
        "a29ff03ef9014ed396a0073400f67ef1": {
          "model_module": "@jupyter-widgets/base",
          "model_name": "LayoutModel",
          "state": {
            "_view_name": "LayoutView",
            "grid_template_rows": null,
            "right": null,
            "justify_content": null,
            "_view_module": "@jupyter-widgets/base",
            "overflow": null,
            "_model_module_version": "1.2.0",
            "_view_count": null,
            "flex_flow": null,
            "width": null,
            "min_width": null,
            "border": null,
            "align_items": null,
            "bottom": null,
            "_model_module": "@jupyter-widgets/base",
            "top": null,
            "grid_column": null,
            "overflow_y": null,
            "overflow_x": null,
            "grid_auto_flow": null,
            "grid_area": null,
            "grid_template_columns": null,
            "flex": null,
            "_model_name": "LayoutModel",
            "justify_items": null,
            "grid_row": null,
            "max_height": null,
            "align_content": null,
            "visibility": null,
            "align_self": null,
            "height": null,
            "min_height": null,
            "padding": null,
            "grid_auto_rows": null,
            "grid_gap": null,
            "max_width": null,
            "order": null,
            "_view_module_version": "1.2.0",
            "grid_template_areas": null,
            "object_position": null,
            "object_fit": null,
            "grid_auto_columns": null,
            "margin": null,
            "display": null,
            "left": null
          }
        },
        "c97aab0ddb004761b807aa5df8625826": {
          "model_module": "@jupyter-widgets/controls",
          "model_name": "TabModel",
          "state": {
            "_view_name": "TabView",
            "_dom_classes": [],
            "_titles": {
              "0": "Youtube",
              "1": "Bilibili"
            },
            "_model_name": "TabModel",
            "_view_module": "@jupyter-widgets/controls",
            "selected_index": 0,
            "_model_module_version": "1.5.0",
            "_view_count": null,
            "_view_module_version": "1.5.0",
            "box_style": "",
            "layout": "IPY_MODEL_76b3eb0e1c5349ca900f2a2b5bb1d785",
            "_model_module": "@jupyter-widgets/controls",
            "children": [
              "IPY_MODEL_92ec868b745342f591b4a699f3c44d2c",
              "IPY_MODEL_3947129f5bfe4b168cce4c8b8fce06d7"
            ]
          }
        },
        "76b3eb0e1c5349ca900f2a2b5bb1d785": {
          "model_module": "@jupyter-widgets/base",
          "model_name": "LayoutModel",
          "state": {
            "_view_name": "LayoutView",
            "grid_template_rows": null,
            "right": null,
            "justify_content": null,
            "_view_module": "@jupyter-widgets/base",
            "overflow": null,
            "_model_module_version": "1.2.0",
            "_view_count": null,
            "flex_flow": null,
            "width": null,
            "min_width": null,
            "border": null,
            "align_items": null,
            "bottom": null,
            "_model_module": "@jupyter-widgets/base",
            "top": null,
            "grid_column": null,
            "overflow_y": null,
            "overflow_x": null,
            "grid_auto_flow": null,
            "grid_area": null,
            "grid_template_columns": null,
            "flex": null,
            "_model_name": "LayoutModel",
            "justify_items": null,
            "grid_row": null,
            "max_height": null,
            "align_content": null,
            "visibility": null,
            "align_self": null,
            "height": null,
            "min_height": null,
            "padding": null,
            "grid_auto_rows": null,
            "grid_gap": null,
            "max_width": null,
            "order": null,
            "_view_module_version": "1.2.0",
            "grid_template_areas": null,
            "object_position": null,
            "object_fit": null,
            "grid_auto_columns": null,
            "margin": null,
            "display": null,
            "left": null
          }
        },
        "92ec868b745342f591b4a699f3c44d2c": {
          "model_module": "@jupyter-widgets/output",
          "model_name": "OutputModel",
          "state": {
            "_view_name": "OutputView",
            "msg_id": "",
            "_dom_classes": [],
            "_model_name": "OutputModel",
            "outputs": [
              {
                "output_type": "stream",
                "metadata": {
                  "tags": []
                },
                "text": "Video available at https://youtube.com/watch?v=h9L0EYmUpHs\n",
                "stream": "stdout"
              },
              {
                "output_type": "display_data",
                "metadata": {
                  "tags": []
                },
                "text/html": "\n        <iframe\n            width=\"854\"\n            height=\"480\"\n            src=\"https://www.youtube.com/embed/h9L0EYmUpHs?fs=1&rel=0\"\n            frameborder=\"0\"\n            allowfullscreen\n        ></iframe>\n        ",
                "text/plain": "<IPython.lib.display.YouTubeVideo at 0x7f47701fc550>",
                "image/jpeg": "/9j/4AAQSkZJRgABAQAAAQABAAD/2wCEAAUDBAkICAgICAgICAgICAgICAgICQgICAgICAgICAgICAgIChALCAgOCQgIDRUNDhERExMTCAsWGBYSGBASExIBBQUFCAcIDQgIDhINDQ8SEhISEhISEhISEhISEhISEhISEhISEhISEhISEhISEhISEhISEhISEhISEhISEhISEv/AABEIAWgB4AMBIgACEQEDEQH/xAAdAAEAAgIDAQEAAAAAAAAAAAAABgcDBQIECAEJ/8QAWRAAAQMDAQMGBwkMCAMFCQAAAQACAwQFERIGEyEHFBYxQZIIIlFSYdHSFTJTVHGBkZPiGCMzNkJVcpShsbK0JDRic3R1s8E3dvAlNYK14QkXVmODlcLT8f/EABoBAQEAAwEBAAAAAAAAAAAAAAABAwQFAgb/xAAlEQEAAgICAgEFAQEBAAAAAAAAARECAwQSITFBEyJRYXGBkRT/2gAMAwEAAhEDEQA/APGSIiAiIgIiICIiAiIgIiICIiAiIgIiICIiAiIgIiICIiAiIgIiICIiAiIgIiICIiAiIgIiICIiAiIgIiICIiAiIgIiICIiAiIgIiICIiAiIgIiICIiAiIgIiICIiAiIgIiICIiAiIgIiICIiAiIgIiICIiAiIgIiICIiAiIgIiICIiAiIgIiICIiAiIgIiICIiAiIgIiICLf8ARSfz4e8/2E6KT+fD3n+wg0CLf9FJ/Ph7z/YTopP58Pef7CDQIt/0Un8+HvP9hOik/nw95/sINAi3/RSfz4e8/wBhOik/nw95/sINAi3/AEUn8+HvP9hOik/nw95/sINAi3/RSfz4e8/2E6KT+fD3n+wg0CLf9FJ/Ph7z/YTopP58Pef7CDQIt/0Un8+HvP8AYTopP58Pef7CDQIt/wBFJ/Ph7z/YTopP58Pef7CDQIt/0Un8+HvP9hOik/nw95/sINAi3/RSfz4e8/2E6KT+fD3n+wg0CLf9FJ/Ph7z/AGE6KT+fD3n+wg0CLf8ARSfz4e8/2E6KT+fD3n+wg0CLf9FJ/Ph7z/YTopP58Pef7CDQIt/0Un8+HvP9hOik/nw95/sINAi3/RSfz4e8/wBhOik/nw95/sINAi3/AEUn8+HvP9hOik/nw95/sINAi3/RSfz4e8/2E6KT+fD3n+wg0CLf9FJ/Ph7z/YTopP58Pef7CDQIt/0Un8+HvP8AYTopP58Pef7CDQIt/wBFJ/Ph7z/YTopP58Pef7CDQIt/0Un8+HvP9hOik/nw95/sINAi3/RSfz4e8/2E6KT+fD3n+wg0CLf9FJ/Ph7z/AGE6KT+fD3n+wg0CLf8ARSfz4e8/2E6KT+fD3n+wg0CLf9FJ/Ph7z/YTopP58Pef7CDQIt/0Un8+HvP9hOik/nw95/sINAi3/RSfz4e8/wBhOik/nw95/sINAi3/AEUn8+HvP9hOik/nw95/sINAi3/RSfz4e8/2E6KT+fD3n+wgmaIi9PIiIgIiICIiAiIgIiICIiAiIgIiICIiAiIgIiICIiAiIgIiICIiAiIgIiICIiAiIgIiICIiAiIgIiICIiAiIgIiICIiAiIgIiICIiAiKNS7VhrnN3BOkkZ3nkOPMUVJUUX6XD4ufrfsJ0uHxc/W/YQpKEUX6XD4ufrfsJ0uHxc/W/YQpKEUX6XD4ufrfsJ0uHxc/W/YQpKEUX6XD4ufrfsJ0uHxc/W/YQpKEUX6XD4ufrfsJ0uHxc/W/YQpKEUX6XD4ufrfsJ0uHxc/W/YQpKEUX6XD4ufrfsJ0uHxc/W/YQpKEUX6XD4ufrfsJ0uHxc/W/YQpKEUX6XD4ufrfsJ0uHxc/W/YQpKEUX6XD4ufrfsJ0uHxc/W/YQpKEUX6XD4ufrfsJ0uHxc/W/YQpKEUX6XD4ufrfsJ0uHxc/W/YQpKEUX6XD4ufrfsJ0uHxc/W/YQpKEUX6XD4ufrfsJ0uHxc/W/YQpKEUX6XD4ufrfsJ0uHxc/W/YQpKEUco9qBJJHHuCNb2MzvM41ODc40cetSNAREVQREQEREBERAREQEREBERAREQEREBERAREQEREBERACrKr/CP/AE3fxFWaFWVX+Ef+m7+IqSsMSIiiiIiAiIgKScmOy3u3eLdaRPzbn9Syn3+7326158fda268Y6tQ+VRtWR4MH447O/5nB/ugteo8Fq2ivktDNubb7rsIYLfNRiCd0jo2ysjDTXFznFjmuw1rjg5wqF5TdiK3Z251FpuLGNqacsOuJxfBNHIwPjmgkc1pfE5p6yAQQ5pAc0gewtqeQyS6coFZfn3W3ClpKuhuD7fRzOqL0XUNNRuZA+kDWinMjoR4xeSA9hAOeHnbl927Ze9sn190ttZS0NPU0dNNbJ2mnuAt9K9pmimbqbuquRjpnYDvE3rQHHTqIVCi9V8j22my1+u9JYG7A2+noKwvpm1e/kqa6D71IYpJakxCXLiwNJEgc3XnU4t46zkl2NslDyhXXZa6UUNfQTy1dJb3VOoyU8rBzqkG9a4eMafeREj3zzGRjqQeZ0Vm2zklqJNtBsk8vDhdH0skw0h/MYtU76xgIIyaFpmaD5zQVbMXJnZ9p+UOttNupY7fYLFAW1vMw9hqnUUjY6hu8dnTK+rndFqByY6Yubx6g8sovYmw9NYNpbi/ZyXk/mslBUx1MVuvUcVRFXQOghkkgmqp5YR472RE4e+Qay1jhIHFyq/wcuSmiuG2tVYby4Sw2t1ybLC17oRWz2+oFNuQ5rg9rCS+QhpzpiIz1lBRam3J1sZR3SivlVV3yjtUtqojVUlJU7ne3aYQ1UgpKXeVEbt5qp42eI2Q5qGcOoGyOWfbm3RR3Gy1HJ5RWGt0llLUh25rKXTL4k500wbVscGOAc1+h2okOcOvD4M+yVvuNh29qa6jhqZ7bYnVNBLKCXUs4o7rJvYsHg7XDEePwYQUOinfJHtLZbW+rqLzY/d2bRCLfTyVD6aljk1P38lSWZ3o0FmGOY8Eg+94FXrHb7FtjsftFcodmqTZ642GHnUE1AC2KeMRPnwcRsbKHNgmYQ4O05Y4EZwg8novRfgd7C2i9UG1/uzHA1lJboHQ3CZuo2sSw3PfVsY1AZjETJOPwIU05GK/YjaK5v2Tpdk2x0clNUc1vVRUF90qH07N46aQ7veUznjePGmUgaWjQA7SwPICLa7X2nmFxr6HXvOZVtVSbwjBfzad8OvHZnRnHpWqQEREBERAREQduz/1mn/v4v8AUarHVcWf+s0/9/F/qNVjqwkiIiqCIiAiIgIiICIiAiIgIiICIiAiIgIiICIiAiIgIiIAVZVf4R/6bv4irNCrKr/CP/Td/EVJWGJERRRERAREQFZHgwfjjs7/AJnB/uq3XZtlfNSzR1FNNLTzwuD4p4JHxTRPHU+OSMhzHDygoPVnLXyQbWV23lbdbHRTwsdWUUlJdDNBTwwmOjpInzlzn6zGxzH5Aa4uDXANdnBlXLbbLJeOVPZy3VQgnAo3MurA9rY5aiKKuqrfSVGHcZS5sILHcXMmhbxBAHk2TlO2gcC120N8c0jBa66V5BHkIM3EKLtqHiQSh7xKH7wSBzhIJA7UHh+ch+rjnryg952Ko24G2baaSmbatkaG4SRRxwR0FJbTbQ58VDol/CVE02af72w5D5caIxlrfOfhSw19n27r7luZqZ/ujBcLdUSRPbFMYG00sc0D3DTM1sjWg6ScOBBwRhVxtDt/ebiyKOvvF0rI4XNfEypramZjJGZLJQ2SQjejJ8f33pXU2n2quV2fE653GtuD4m7uF1bUzVBiadIIY6d50A6WknhkjJyeKD3vtTcrZRUVbyo02htXXbMUlNSQua1+m4VD9DHS6T98ma80cDse9ZSS8cZXnjwEtt4LftJU09fUCEXqkdSx1MrhqNfvmSwh0shwHSffgC7Op7ox2rp+EfthbYrBs1sjYq2Kvo7bAay4VUGvcz3GQyA6DJhzfvstdLpOQBUxAHxVQKD1ntXdeVqhuMlvZJc60CV7IKykttBLRzxBxEc3OGUpjpw5oDtMrmubnBAKpXZzZvae47SXM0LJ3bS0FRXXCuNPNTwVLKqKtENc+J0b2xPfzioILIiQ4OdpBHBail5VdoooBTR7Q3pkAAa2NlxrGhrQMBjCJcsjxw0jA9C0Fr2hrqWpdW0tdWU1Y8vc+rgqJoal5kdrkLp43iRxc7iSTxPFB7T2brrttBsptHFyh2nm0Fro5JaG61tHzCt502GY7yCJzW6pmuEAbJC1rZN5uyJNRCqzwRPxb5S/+W3/AMhelSG1O3t4usbYbld7lXQsLS2Gqq6iaIOaCA/dPeW7zBPjYzx61rLTfqykjqYaSsq6WKsj3NXFTzzQx1UJa9hiqWRuDZ49Mkg0vBGJHDtKD0v4IOzw6N7R3q00FJc9q6KZkNuhqmxyupIXRRO5xTxye9ne19ZpP5ZpQwHBcDZmwdPthXbJ7Yx7Tc5mr621VHuTQSMpm1rmilqmzbuhpGB7Ncr4WNaW5c5uAOrPiHZfaWvtc3OLbXVdBOW6XS0k8tO9zNQdoeYnDXHkA6XZBx1LvUm315irX3KO8XNtwkiMElbz2pNVJAS07l85k1viy1h0kkZY09YCC9PBPppIdnuU+GaN8UsWz8scsUjXMkjkZQ3xr45GOAcx7XAgg8QQVHPAS/Ha3/4a4/ycqqGm2ouMRrTHca6M3IPFxLKqoZz8SbzeCt0v/pQdvpc7zVnevz74rrWO8VVDM2poaqpo6hgc1s9LNLTzND2lrw2WFwcAWkggHiCg3XK7+MN+/wA5un89OoustXUPlkfLK98ssr3SSSSOc+SSR7i573vcSXvLiSSeJJKxICIiAiIgIiIO3Z/6zT/38X+o1WOq4s/9Zp/7+L/UarHVhJERFUEREBERAREQEREBERAREQEREBERAREQEREBERAREQAqyq/wj/03fxFWaFWVX+Ef+m7+IqSsMSIiiiIiAiIgKef+5raf/wCG73/9vqv/ANaga9g+HbyiXqz7SUUFru1fQwPslNO+GmnkjidM6vuTHSOjadJeWRxgnHUxvkQeV9pNlLlbNAuVtr7eZM7sVtJUUmvHE6N+xur5lpl6+8F/lan2smqdj9rTHdqW5Us5pJp2RtqGSwR710OuNg1OETJZmTfhI3w8CcjRRFv5ILjW7U1uy9va2WppKysgdPMTHBHTUspZz2ocxrjHCW7s8ASTKxoBJAQVwi9CO8HGkrY66LZ7a23X670EL5prVDTup3StiIbIKWp5w9tQdRDQ4N0ansBc3UCqm5KuT+4bS3KO12yNjp3sdLJJK4sgpoGFrX1FQ9rXFkQc9jeDSSXtABJAQRRbey7M19bBV1VHQ1VTT0EYlrZ4IZJYqWMtkfrqHsBETNMUhy7HBjvIrvu/IFs/STS0U/KFaI7hBrZNTOo8Qxzx5D4H1fPdDJGvBaWkBwIIIBGFpOQWyXaq2c20nt14FuoqS3MkudGaWKoNzh5tcXCETSeNTeIyZupnw2fyQgpRFZvIdyRTbSi4VUldT2m1WqJstwuVU1z2RB7ZHNZHEHNEr9MTifHaGjHHLmg/OVbk+s9rooau07V0d/dJUinkpoqV1HUQtMUkm/MUlQ9zosxhucAZkbxQQtuy9wNAboKGrNtbJujX7mTmgl1Bm7M+nRr1EDGesrTq8aaxXc8m81eLyBZRdBG6y80hJdPziJu/57+EHjlrtPV4q0nI7yKz32iqrvWXCksdionbua6V3FjpSWjd08Wtm9IdJG3Jc0F0rWt1Oy0BVKK89pPB/jfa6u7bM7Q0W00FubvLhBBA6jrKeIBzt6KZ8she3SyR3EtJET9OsghRzkH5Hp9rG3fm9WKeW10rKhkO4M76t8gn0QR4kbu3F0IGTn344cEFXovSll8FZlSZLf0ss7do44HyvskYE5ikaM7meqZPrY5uW6i2F2nJOHDBNObBcnFwvF9Zs9BG2Gv39RBPvid1Smk3nOnTvjDsNZunjhnLtIGS4IIcivHbbkZsNvp7judurdV3G3RTufbuZOgM09OHaqWCpdVuZJKXNLQGgnPYqOQEREBERAREQduz/wBZp/7+L/UarHVcWf8ArNP/AH8X+o1WOrCSIiKoIiICIiAiIgIi6NwrxGOAznqPl+Tt+dSZWIt3XEDrOFjNSwHGsZHWo3K+WY5wePAAuA+jK6coe08XY9GSD+0cV47SvVMo5Gu96QfkK5qGRVzmAgO7fL2jtC21uvreDZsg9j8fxY/evUZJTeosNPUsk4seHfJ1/R1rMvQIiIgiIgIiICIiAiIgBVlV/hH/AKbv4irNCrKr/CP/AE3fxFSVhiREUUREQEREBemf/aO/jVQf8v0v/mN1XmZemNqfCjorrM2ouWw9kr52RiFk1ZI2okbC173tiD5aUkMD5JDjqy93lQazwCdlpqramO6aSyjs1NVT1E7hiISVNLNRxQueeAeWzSyfJA5Wp4LG0NLdtpuUOtjbzh9a2SahjicYqiooBUVbCIXEh0bntNCCeGHPZ1cFRfKJ4Q9zuVvks1vo7ds/Z5dTZKK0Q83M0bwN5FNKCAY3kHUI2x6gS12oEg17ycba1+z9xgulsm3NTASMOGuKeJ3CWnqI84kheOBHAghrmlrmtcAvzk/5ZNh9n69twtey94pqyNkkQea98o0St0yMdFPUuYfnHAgeRSXwIbmyrr9vKihZuauriFTbYnFu9jjlmuT2s8Xh4sktGDjhnT6FALh4QFjqZXVtTyfWSa5SEyTVLp/6PNO8l0k0tEaUtkc55LiXucSSckniqr2N5Rq+zXt19tm6pKh088rqaNhFE6GokL5KJ8AcNVJggBuQW6GOaWua1wCIztcHuEgcHhzg8PBDw8E6g4HiHZznK9K+Cj+J3KV/k8f8ld11Lr4R1oqJnV79gLHJdHkyPrJ5GzRvnPEzvpjSDW/V42S8uz+Vniq55LuVSSxWjaK0so46hu0NI2kkmdK6N1KGw1cOtjAwiU4qicEj3g8qDceDpywx7N+6FBcqBt0sd3jbHX0vi71paHs3kQkOiQGORzXMcW5xGQ5unxpPyzclFgm2edthsfVz+5sdTHT11tqy50lHJK6KIRxvfmVr2STQZjkdJqE4e2TSADBeSPlNo7PSVVBc9nLbf6SpnbUNFUdzU08gj3TtxU7uQxtLQ33rQevic4G05VuXB11tUVgtVoo9n7IyUTyUdK908lRM12tpnqCxmtofpdjTkuY0lxwAAn9F/wAGKj/PG/zkCy8pn/B/ZfmWvce6x55o143m8vG83/8AY51jGrhndY/JVSw8rEjdj5NkuZRmKStFZz3fO3gImZLu9xoxjLMZ1dq7fI7y01Fho6q01VBSXux1rt5UWquH3sSjSd7BLpdunF0cTuLXAGJrm6XeMgsj/wBnQJekN0J1czFjm5zqzuNRrKLc7zPia9AqMZ/J3uO1dzwG6ncxbczUr3x7q0iSmfnEjNDbg6F+ex4w0/KFCNpvCBaLXVWjZvZ+g2Zprg0sr5aaV1VWVMZBaY+cuijLWlj5G8Q4gSO0luTmL8ivKxJszDeoY6KOrF5ouZPc+Z0RgAZOzeNDWO3h+/ngce9Qb/wK5HP29sj3uLnuddHOc4lznOdZ7iXOcTxJJOcldWr2+qdmdv7xd6SNkzqe/wB6ZLTyEtZUU8tdUxzQlzeLHFpy12Dpc1pw4AtMQ5GtuH7N3uivUdO2rfRc5xTvkMTZOcUlRSHMjWuLcCcu6uOnHatps1ynCk2iuN9ntNDcIrnNcJKm2Vo31MY7hUGofG1zmkamO0gOc08AeGTwC8ajYzZPlFiuNbs4KiybSxQS11RbZsGlqnkt1y6AXNEbpXNZvYSzSZg58R1DPkpX/V+EVT0dFW02zOy1v2dqbjGYaqviqH1c4icHAtp8wR7lw1Eji5rTxDc4IoBAREQEREBERB27P/Waf+/i/wBRqsdVxZ/6zT/38X+o1WOrCSIiKoIiICIiAiLBWS6WnHvjwA9P/X71JmldO8XDd4a0t1Hjx4/sH71qpbs4jSAC7gA4jq/QYOB+XrXaiss87ySMautzsYA8uM5d5OCzyW5lOMaXSydhLTjt6hniFgyyiWaMZpoZJHE+OM9vHgc+jyLtRhz2ktIByGkZHH5ncDwXaNM5595oGOAPFvEdrD1dS6dRTOByGOYR2tLgPocTw+fCnYjB06uIg4e0A44EcCR6R2n5l09GD6VuYXl+GOYHHqHDGflHUf3hcpbS53FjSAezrAPbgr12pOl+mpp5HMcCHEOB4EHipXY7pvvEfgSN+YOA/wB1F6iiLcntGOv1pE8tkY9pwcgj5RjOV7iWOYr2nqLFSzCRjXjqcM/Ie0fSsqyIIiIgiIgIiICIiAFWVX+Ef+m7+IqzQqyq/wAI/wDTd/EVJWGJERRRERAREQEREBbhmy1xcARbq8ggEEUtQQQeIIIZxGFp1f3Izy87UVF92ft015mfRzXa00UsBgogH0slZTwPiLmwB4BiJbkHPHrQU10TuX5tuH6pUewtMvUHhK8ue01q2rvFvt94lpqOmmhbBA2Cje2NrqSnkcA6WBzj473HiT1qn7tyZyU+ydBtUatjoq65vtraMROEkbmNrHb0zatLm/0M+Lge/HHggr9FYEHJnI/ZOXarnbBFFcxbTR7p28Li2N2932rAH3z3uns61dt05Dtmeh9mrPd63UVTU1komv8AIyukhrdJrP6FHTOm0QvjwGlzQ3JpSe1B5SRWdyT8kE18gr7lPcKS0WK2ybqru9ZqMW9OnRDTwjBnmO8h8TU38NGBlzmtOw215FWw2eS/2C9Uu0drppBHXvp4JqKrodWA2SaincX7nJbk5DhqDtJaHOaFQrs0FBNUOc2CGWdzGGRzYY3yObG0gOe4MBIYC5vE8OIVv8mXIBUXyxMvrLpRUVM2ulpqs1g3UNHTU7N5PWzVBfjQBhoYG8XPbktGXCRciux1TSbS3mh2X2mo5hDs5UTy3VtCyaCppnS0BqKNkEkj91IJXR/fMk/ejwGUHnVFNuSzYmku3O5LhfrdYqWjbCXyVmuWondOZdLaOjjw6pLRC4uwQW6mcDq4SPlW5HGWmz0W0FsvNNfbPWVBpOcw08tJLDUaZXBktNK5zmNxDICXFpBDQR4wyEDuGyFwp7ZSXiakey210skNJVl0ZZNLC+WORjWh2sEOhlHED3hWiXonlK/4UbF/5rdf527rzsgIiICIiAiIgIiIO3Z/6zT/AN/F/qNVjquLP/Waf+/i/wBRqsdWEkREVQREQEREBc4ixpaXjJJIaMZ4kYB/afoXBSzYHZfndZESMxsZvpCfKG8APRqc36Fh3ZdcWfj4ds4hgobMyVhedbnE569PUOGDj95HyLoXigGPwL2F3DOvPjA9ZaOBBXoOm2VYGtiijaMtDSXk8B5T5PkXKn5OmH76QHOGS3LWkA+VgB6/+slc763nw7UcSKedLPYKlzmsLC9h62OGoY48c4Bae3JwtvV7FvOC8OweGRxDMeceGPJgK/6HYYQlz3B0j3cWtbjtzpBBcB1+X0rDW7LvA0OOB+U1uHEcfe9Xk458quWyXrDjY+nn6TYgtxKx3AYPUewnzhk9X7V8FCGHBAHDGeo/Qr1umzrWxkNGGt6h1nJ/JB8irbaegbGH4GMHtHEeTH7VPq37ev8AzRjFwrPaGzhwc5uM4PDHX1eRQgQEZGMjJ7OpWjU4LSep2riB1f2seQHj9CiG0VDu3nTghxcQfQTn5uJ6vStvVk5PJ1+bZtn35iwfyXEfTxWxXQsjMRn9LAXfW3HpoyIiKoIiICIiAiIgBVlV/hH/AKbv4irNCrKr/CP/AE3fxFSVhiREUUREQEREBERAUz5Cfxq2a/5gs3/mNMoYu5Y7pNQ1VNW0sm6qaOohqqeXSx+7np5GywyaJAWO0vY04cCDjiCgs7wwfx3v/wDiKf8AkaVTbaOkln5ILHuIpJtztPK6URMdJu2ubdo2uk0A6Gl80TcntlYOtwVCbXbRVd2rZ7jcJjUVlS5rp5iyOMyOaxsbToha1jcMY0cAOpSXk15Xr/s5FNT2a5vpIJ5N9LCYaWpiMugM3rWVcMjY5C1rAXNwXCNgOdIwF137ZWttPJG6K4076Wapv8NYyCUFszIJWxsjM0bgDE926LtJ46XNzjOBqNvIXP5Itlnsa5zYr5Xb1zQSI9dReA0vI96CS0ZPa4eUKo9oeVG+XCjqqCuuU1VS1lb7oVMczIXulqwxkbZN8Y961rWRRsbG1wY1rGgNAGF3OTrlj2h2ep5KS0XR9LTSSb50DoKSqjEpABextZDJuiQG50YzpGc4QWvBE+v5IN3btT32raB093ijaS/m5EzxI9oGXRNFTRvL+oCB/HxHY4+C7TvpNkeUK41QMNuqbKaGGWTxIqitfBXwxRxOcMOkbLVQM4Zw6pYOsqlOTzlAu2z076mz181FLK0Ml0COSKVrclomgna6KUtLnYLmkjU7GMlbHlF5Xb/tDFHBd7nLU08TtbKdkdPS0+vse+CkijZK9oJAc8Et1OwRk5C14pHN5HXhrnND9pQ14BID2jQ8NcB75uprXYPa0HsC6/gF/wDfd8/5Uuf83bVTPTe5e5HuDzo+5POeec03UGOc9W832733/h1Y9C+bC7aXGxzT1FqqjSTVNLLRTPEcEuulmfHJJFieNwbl0MZ1AB3i8DxKC0eRLk+tb9mr1tdeKOqu8FrqWUcNopZpKUSyFtM6Soq6mEGWOnaKqPizGkRyE6uAFgcob45eSlk1NZTY6aS/RSxUYkrZ2uicHBtUJq5xkkZITgOB08Bhef8Ak15Ub3s2Z/cW4yUYqdO/Zu6eoieWZ0vMNVE+MSDJGoAHHDOFt6rl22nmhucE15mnhu8b4q6KeKkmY+OSIwPZC2SEijaYnEYg3fYesAgLA5Sv+FGxf+a3X+du687KQ3LbS41Nqo7JNVF9rt8ss9HS7uBohlmfLJK8StjEr8vnlOHOIGvhjAxHkBERAREQEREBERB27P8A1mn/AL+L/UarHVcWb+s0/wDfxf6jVY6sJIiIqgiIgIiICvHkpDGtOAA58MPV2jdNxn58nh5FSNPC6R7I2DU97msa0dZc4gAfSVaGwdRNDcKehkaRJFDplwQR97LyMH8pul0f0rV5XnCm9wYnvdeF+WKMascOOMnHXjCmFLTtIHicG8cY6+HDGVE7AcsaeHA4P0lTK2yn5vJhczU7+2ftc+aNaC9zfGIIDeGG54cfK70rSXChZnPAdZ4dvDiVIqt3i8eHBai5MLve9Q4nPkxjt6lnzYNVoXfo2tYSB1j9o6yqZ24ja7LR154enr/erc2pe4NcMcANI7Or5FVl7i4+MM+MCAPp4rXvy28oqFa1o3fiuwNIaPlJJyOHoC0tfBvyGgcG++8hJ4A+XqAHzLcX+PeTyNbn32APLwPHrWoonuY5wcDndu+UgdZ+UEZXQ1x4cHlZeadWjg3bNPaOJ+Ql2P2grMuF2rCJMNaHE8OsAaWuIznHDhj6FzyDxa4OHY5uSD8mQtvGY9NDLGY8/AiIvbGIiICIiAiIgLhuW+Y3uj1LmiKx7lnmN7o9Sm3IlsHDtDd47ZLK6mY+Com3sUcb3gwtaQ3S/hg5UNVxeBz+NdP/AIKu/gYoLO+5EoPzvV/q1Kn3IlB+d6v9WpV6WRRXmn7kSg/O9X+rUqfciUH53q/1alXpZEHmn7kSg/O9X+rUqfciUH53q/1alXpZEHmn7kSg/O9X+rUqfciUH53q/wBWpV6WRB5p+5EoPzvV/q1Kn3IlB+d6v9WpV6WRB5p+5EoPzvV/q1Kn3IlB+d6v9WpV6WRB5p+5EoPzvV/q1Kn3IlB+d6v9WpV6WRB5p+5EoPzvV/q1Kn3IlB+d6v8AVqVelkQeafuRKD871f6tSp9yJQfner/VqVelkQeafuRKD871f6tSp9yJQfner/VqVelkQeafuRKD871f6tSp9yJQfner/VqVelkQeafuRKD871f6tSp9yJQfner/AFalXpZEHmn7kSg/O9X+rUqfciUH53q/1alXpZEHkLlU8GyistnrrpHcaid9HE2RsUlPTtY8uljjw5zeIGHk8PIvOW5Z5je6PUv0D8Jr8U71/h4/5mBeAFUlwETR+S36AuaIqgiIgIiICIiDZbLTMjrqN8pxG2phMh8jN40OPyAZPzK6dorPza+WqqaDmoirad5yMAwRtewDA4niRx81UIvQuz1Xz+02GqJ1y09RVQyuPZJzaWIOcfOIDe8tTkx6l0+BncZa/wBxP/PCytk5oy0HWM54jIwMdeexS+huUAOHSxtd1aS5vzdZyqauGzdRqjEcm5p3uBmk1antYTgiPIwDntcOGc9i0m0HJzUuuIlglPueXSPdK6p1yOZu6cMj0vIcyRj2TnIzqMzfehuFq6tcTEzDo79uUTEVPn8PQ1dUMLdWoEZxkHhx4D9669bVsZF1jJb2/wC6rfYyxTQljXVskrM4cHceAxjVn8rB6x5FF/CIu9bSiCnpHuj3rnNcWniWgHHHsyvPaZlkn7Y/iQ7Z3qnaHh80TXDBLdY/d5cqu7ndaaSJz2yNc3iCQRwUa5NdjWXIy1F3lke0wyiMl7g3fYxG127OtrQTnynTjI4ZjV32QmoWzb2pi0apC2NjnzDBe5zGtDuOA0tblxBwMnisuOmPcy19nI2TMVjcMNRIx8j3xuyWnUB5R+VgejC1d7cWzR4/KZ1+jHEf9eRZKGzTmPf6dBbp4DAB9OOwH6FsLhbHPigqPgxKHj0hpc0j5ws2FNHbjM+/lGbvKx7zHHnIwDnhk57PKNXastvYWxgHhxcceTJ6l0WvDqlo6msIBcO3Ser0nq/Ytu48Twxkk48meKy6o+WPk1jj1fERFnaIiIgIiICIiAiIgK4vA5/Gun/wVd/AxU6ri8Dn8a6f/BV38DFFe5ERFFEREBeevDKjdNNsbSb2oihrtpaWjqebzSwPkgqHRRSs3kTg4Za48exehV5x8Ne2Q1s2xdFUs3lNV7T0tLUR6nM1wVDoopWa2EOblj3DLSCM8EE/2c5DLNQVdPW07rqZqaVs0QmulfPFrYcjXFLKWSN9BCw7W8vVmtlyuVonZXyXC3CkApaanbPNcJa2COohp7dEyXXPLu5AXagxrdJy7qz3uTzkP2d2frPdC0251LV7qSDemrrpxupC0vboqJ3s4ljeOM8FX/JvQxP5VdtJ3xsdNBbrOIZHAF0Qmt1uEu7J96XBoBI44yOolBv+UPaG2Vs2xFZcG7QW6etusbrbRxthpniqL4MU97gkLnNhBDMtYc8XKYcrHKna9mo6c3B88lTWP3dFb6KI1NdWSZa3RBACB757W5c5oJc0ZyQFXnhQ/wDfvJ5/zNH/ABUq1O0m5j5XrY+4YDZdnXR2l8g8TnQkq8sjcfFEml1YADxzK0dbm5C1OTTlMbe55qY2PaKzyQwicG927mEczC8RkQP3rt48EtJGBwPaqv8ACwo+ebR7A26Sapjpa+tusFUymqJqZ0sf/ZXAvhcHcMnB7MlejV588JP8ceTX/Mrr+61IO1th4Pe5ppJ9mb3fbVdYGmWl1XSqno6iVnjNgqo5nk7t+NGc4GvJa8AtO+8HHlX93dmDdrm+OmqLa6opbvK8CCFklHGyaSpcDhsTXU8kcjgMNa4vAwBhWHtptNSWegqblcJ2U9LSxOkke8gZwPFijBP3yZ7sNawcXOc0DJK8dWexXCLki2hrXRSRy3q5e6+6ja9rxb31tuikfp98IXMpppNXUYnA8WnJC96XwjrO58Ek1DfqO1VUzYKbaCttr6eyTPeSI3CqfJrZE8g4e9jR4rydIa4jVbe1sto5SdnKkzObRbQ2ystMsRe7dirpXCZkoYTpMj3voIuoHgeJzhaN3Jpftp9l6WgG1FpdZa6ht7oGU9k3TmQQGnnp42PbVZjcwwsYRgEaXNIHELaeF9Z56XZa1XSN4mrdlrjaLhvtJBlMLo6WQ4ySxrp5IJD14EfzoIL4Vu2lbSbX2qsppZG2zZd1nmuwie8aXXSsle9k0bTiRj6WlibjGfvvDryLU8Ierkrbtsfs7TySR+6N4NyrXROIDrbZojUTwSFrgQybeYHZmL5jWcFpbtRsnyi35sbz7tVs9Rb3aXb2ag2biidbSGY1Ne4wTM0Yzlzh2raeCpfH7UX2S/y7xzLLszZ7DG54IZLXzsFTc52Ajg9s0cjM9rZWdeRgLI2QrLZ012nZBNeJLrFRW91fTzuhdaYojSUjoPc6Nv30TOj3Rdq4FxfjsUK5MvCIqq+93qiqrJe30sNXQU9vjpbRNzqgbUGdspvmZiKU5EZBP5MUpxwXd5Mf+KO3H+XWT+Qt65eDp+OfKSO3n9nOPRu7nx+TiPpQYL94QNRSbXz2g2e8z26moJy6CmtM01ynrIax8HPKdol++2h0bPFmAAJcFftrqxUQQziOWITxRzCKdhjmjEjA/dzRnjHK3OC3sIIVHzOA5WowSBnYsgek+6bzgeU4BPzFXygIiICIiCuPCa/FO9f4eP8AmYF4AXv/AMJr8U71/h4/5mBeAFYSRERVBERAREQEREBWxyHXMGlr6R54wvgrIBnqc97YJcDyYLe8qnW42Mq3Q19MWuLQ6Vkb8HGpj3AFp9HV9AWPbj2xmGxxdnTZE/Hqf5L1zbXiSIMwDkDgeo9h+VdhtjY4eMOHXxwcY6uDQM/OtTYbg1gaHYzgD6O35Vsp79I94hpog44BdI/xY4xniSe0+gcSuXFRD63LrMRMOxTsa1zA1ojja4ANbgAfR6Qqq5f6ln3p+MyNlbjq6jn5+pWOHyyy7rOXasOI4A48gPABVDy8072zMBGlsnVIT4vDPi8Oo8Exxl6nXEYzPzTo7BESvMT26XEZBHDGRx4j0KU1+xMDyJZw+QN8Zoe9zmg9fvS4tGMKrbHtLHSXFrIHteHMa1+slw1N7Qc+KT2q35dot7T+M0NOkHHDTxHWCPQrnFMOGWEzU/CtNuK4R5iZG0NY0tZpAAAOBgehRWef/s/Vk5HOAfq3YOO1dvbe6NlqSPyePAYyQOJ/cVrK54FHIzIIlm4AE50lpzjHZgBbOnFyedsjtUfCK22NpHV73iCesl3Xk+gAfSu8vjWgDAGAvq3McesU5O3Z3ysREXpiEREBERAREQEREBXF4HP410/+Crv4GKnVcHgePDdqqcuIA5lXcSQB7xnaVFe5kWHnUfwkffb6051H8JH32+tRWZFh51H8JH32+tOdR/CR99vrQZlDOVPk0t20jKSO5c5xQzmppnUs76aSObSGh4kj8YOGAQRjB4qW86j+Ej77fWnOo/hI++31oKytPIXbKaogqWV20Dn080U7Gy3mulic+GRsjWyRPfpkjJaAWngQSFK7PsJQ0l5uN+hbKLhdYqeGrc6Quicyliihh0RYwwhkLOI6+KkXOo/hI++31pzqP4SPvt9aCPbZ7C0N3qbVV1jZTNZqwV1EY5DG1tQDGQZGj8I3723gfSupyp8mdq2lghhutO57qWQy0lVDI+CrpJHABzoJ4zkA6WEsdlpMbCQSxpEs51H8JH32+tOdR/CR99vrQQfk65KaKyVLq2Osu9wrDTPoxU3a4T1z2U0kkMr4o2OxGwF9PCchufE6+tZeVLkstu0clBNcDVtlthqHUclHUyUkkbqncb12uLxtX9Hjwc8OPlUz51H8JH32+tOdR/CR99vrQVVS+Dts5v4qirp626vgOqJt2uFbXwsJxnME0m7kacDLXtcDjiFas9JE+J0D4o3wPjMT4XMa6J0Tm6HROjI0ujLSWlpGMHCc6j+Ej77fWnOo/hI++31oKkh8Hazwue2jrdoLfRSOe99robvV09uc55y/7yCXgHiMB4HH5MWLfdlaSttc1mnjcaGaj5i6MPdrEG7ETdMhy7W0AEOOTkArbc6j+Ej77fWnOo/hI++31oNHsJsXQ2W1w2ahic2hgbOxscr3SucKiWWabW93F2p80nzHHUF0eSfk3tuzFHLQ2mOWOCaodVSGaR00jpnRxRE63cQ3RCzDeocT2lSrnUfwkffb6051H8JH32+tBHbPsHQ0l5uN+hbKLhdIqeGrc6Quicymiiii0REYYQyFnEdfFR++cjVsqb2L/FPc7fcHuhNWbbWyUkNwFPo3bK2IAiWPEcYLWlocG8ckkmwudR/CR99vrTnUfwkffb60EE5TuSK23+qpLhUSV9DcqFhip7la6p1FWshcXkw75rTmP75L2ZG9kwRqOZ1bqUQQxQtdI8QxRxB8rzJK8RtDA6SR3F8hAyXHiSSV951H8JH32+tOdR/CR99vrQZkWHnUfwkffb6051H8JH32+tBmRYedR/CR99vrTnUfwkffb60FfeE1+Kd6/wAPH/MwLwAvffhL1DHbKXoB7Cebx8A5pP8AWYOwFeBFYSRERVBERAREQEREBc6eQsex462Oa4dnFpBH7lwRRXpLZm9R1lPDINQEjQRgjOrqc0eUggfSs9ZcpGPjYwSgOzgRte8gNzxkLc6flKpfk+v5izSvdpaX72F+SNEjQSW8OsHGR6QPKrt2PvW/3b3DG9Ba/wB778BpAGT2nr8i4+7VOGX6fQcbkRnjDG65zse6ppquB0oaQ6LeRhpAaG8BqyDnt6+PUqh5TZrvcWNFQx1O2PW4aQA1/EnVnrwAcfSr5utvpo9UssDXDi5wMbXA46gTjrVe7RPoZi8CjaHYIAcSfT4rTnDetZMesesnRzxxyxrtP4eeqGkfSP3kr2tLTkNcfGPZ1dqsPZO5V9VTv3cLt2CAHSAjV1jxR2jiPoXGt2fjllBip9LS/L3aMDGerOMgetb653b3OpssLQGNcCB6Q4DgOo5TPKMvXmXNjD6czN+EC29kayrETSNTGu1uByMjqAPZjP7Fwnc4U8bT1B/X/wCE8M9v/oo9FM6aZ8vv5JHZwRkeM709Zzxx/ZUmuLdMLW+SVwJ8pDeJ+nK29WNU5m7PvctaiItppCIiAiIgIiICIiAiIgLi9gcMEAjyEZH0FckQYubR/Bs7rfUnNo/g2d1vqWVEGLm0fwbO631JzaP4Nndb6llRBi5tH8Gzut9Sc2j+DZ3W+pZUQYubR/Bs7rfUnNo/g2d1vqWVEGLm0fwbO631JzaP4Nndb6llRBi5tH8Gzut9Sc2j+DZ3W+pZUQYubR/Bs7rfUnNo/g2d1vqWVEGLm0fwbO631JzaP4Nndb6llRBi5tH8Gzut9Sc2j+DZ3W+pZUQYubR/Bs7rfUnNo/g2d1vqWVEGLm0fwbO631JzaP4Nndb6llRBi5tH8Gzut9Sc2j+DZ3W+pZUQYubR/Bs7rfUnNo/g2d1vqWVEGNsDAchjAR2hoB+nCyIiAiIgIiICIiAiIgIiIPrOsfKOpXJsvNLbKlsM2t9PUNYYKnSHZkzwjkHU13ADs1asqorbSunmihYCXSSNYAPSQM/IBx+ZekXWyOan3MzA9hAaQR2dWQew9WD2LS5UxcRP7dLga5yjKY+KSdt91RtDmxnIy4nHHhjgAOI4HitDfJKcFx3bA8Z1ENGeJI4ZGDk44eRR250Nwo26qYCsjDSGMLmxzMjAxujqOmTqHjcCodftoq1uSKCdjng5Dy04e4EOw5riNPqC0+n4dOORGMfc7O0e07YnvhIYSQSCwBudAJ8Uflf/ANVTbX3l1TJpc52katPp4uwCBwIyP2elcrnFWPe58jDqHvXOdnQOIPAA/wDrhaJ9O5jsu4u7T5Pkx2LZ164xhzuTyMts16hsbNGIwHdTz1Y/efSpDWtLqUP68Tfscw//AJAqKU7yHgkn1Ka2uRj6Z8bupzMfIesEeQ5AWeMvNy1+t4zCPotGy6GnmkhqJC9owY5A0atJzwe1g6x6AtpSVsUv4ORr/QDxHytPELYibakxXh2ERFUEREBERAREQEREBERAREQEREBERAREQEREBERAREQEREBERAREQEREBERAREQEREBERAREQEREBERAWOombG0ucQAPpPoHlK1d3vjIssjxJJ1Hj4jD/aI6z6B+xR9tQ6R5fI4uc7tP5PoaPyR6EHojwdtld+wXaZ+t0r5Y4Ix+Dp443uY4HHvpnaeLj1DgOsq530+kE+TP7yqF8FXbuOlqXWaseGQ1smuikdwayrIw6Bzjwa2UNaW/2gfOXpe6UYwRjtP/AF8q5PIxyjZPb/P47/Dzw+nj1/3+tI+AuYSOIP0jA6jhaO52tj85APpGPmUlonY8X/ZYK6Icc9ZHyf8AovMT4Z9mFqk2nszQx2mM5+TH7ScKrLpZywuBGOzyntPYvQl7gB1cPk7eztKgN1s+p5JHzjj+zyrJjnTXz0Kfrafd6c4Havvui5oAaeI/2Wz24iDJQ0DGB29efkUQulQYmHz3jDfn6z9C2MPLS3fZNNLc5zJM93Xxx9HD6F1mkjBGQQcgg4I+QjqWQRr6GraiKc+Zvy2VBtBPHgOxM3+3wd3x/vlb2i2ggk4OJid5H+9744fThRAtXzSvSLFY8OGWkEHtBBH0hclXcEr4zljnMP8AZJbn5cda2lJtBOzg/TIP7Qw7vN9SCYItLSbRQu4PDoj5T4zfpHH9i28UjXAOa4OaeotIIPzhBzREQEW/2H2dZc5auE1kdJJT26ur4GvhkndWPoYXTvpImxkFsjoo53avGIELsNd1DrWHZi43Bm8obbcK2Pj99pKSpqYgW8CN7DGWagezOeCDUouxcaGamlMNTBPTTtAc6Gpikp5mgkgF0UzQ8AkHiR2FddAREQEREBERAREQEREBETKAiLsUtBPMyaSKCeWOnYJKiSKKSSOnjcdLZJ3saWwsLuAc4gZQddERAREQEREBERAREQEREBERAREQEREBFiqahkTS6RwY0drjj5h5T6FHLntMTltOMf8AzHDj8rW9nz/QgkFdWxwjVI8N8g63O/RaOJUWu1+km8SPMcZ8h8d3yke9HoH0rVSyue4ue4ucesuJJ/b+5cmDtPWgNGCB5FlYOK4M8q5s/wB0SZZ2PI7SCCCHNOC0g5DgR1HI61608HPlebdY47Vc3tFxjZpgncQ0VkbQAP8A64HWOGeteRys1NO6N7XxvdG9jg9j2Etcx4OQ5rhxBB7Vj2a4zhl07p1z49fL9Dqy3lrgQ3IXRuFIdJI+cFUxyQeEUzRHRX8aXNAay4sBLXjqHOWNBLHYx448Xgc6V6BjnpqynE1LNFNE9upskbg9j+GQWubkOC5+eqcPbuauRGfqbV7Xwg5H7McB1dS6MllLmOcB2Z/YpcyiDnaSOHb2/Lg+hZto6ylt1vqKurlbDTQRkySP6w3hpa1o4vkcSA1o4knCx44zMs2WVeZeW+USjZE6aom8SOPAB6tTuOlrQffEnyKnqud08hkcMDqa3sa0dQCk3KRta+8VbptJgpWOcKanOMsaT7+Ujg6Zw4k9QzgcOJjLupdPVr6xc+3B5O7vlNemIoFzcuJWRrPmF8wuS+Kpb5hfHhcwvhCPTEVnoqySF2qNxb5R+S70Ob1FY3DtXEBBYyIiC++SDb3mVNQ3W9y2+tpaAMsVooqejopr9SvwwGobIGsliom0hka7L3GQlg06nAv6XL7tWx9ZdqWYX+23Siq4aa300dwDrKaOKT+ttpWMjdTGal0yNDdeTJF4wAcFDNhaaOtsl/oY6SmluUAo7tSTbkOr3UtLLouUNPN74BkLo5RG3i4On4HhiI7ypuFUzVJPW1lXLDCx80r5p6iaQsggYZpnEvcSY2DUerSOACKm2xW1r7i+Cx36eWtt9XI2npquocZ66z1c7t3T1lJVSZlMG9dG2SF7iwszgDBDoLeqCSjqKmlnAE9JPPTTNGcCWnkfFIGkgEt1sOD2jCtDZzkuuJoqxrLLXs2jtd2t0jHVBZHQSUUrZODDL/RqoR1FPqe5riNEzCCQHNMR5Y6hk95r547jSXY1BZLJW0NO6kpJZnQsD2wROkkyxpaBrD36+LskkoJdfeSm3Wo0TrxtJFRxV9FTVUDYrdU1VRrlaTNvIoZCIaWMmPEzjmQl4DW6CTrqzkfrWbQOsLaineG0wuDri7MdMy2acvrpGai5gDvvegE+OQNWk6xm8Juuhqa20up5op2t2WtUZdC9krWyCSvcYyWEgP0vYdPXh7fKrSuW21BS7VDe1tLHS3LY2ktgr/vNTTUlS9880LqkO1RGHTjU14LfvkerDSSiKfrdhLfUUVfV2O+e6z7VAKmuppbfPbpDSai2StpHTSOE0TDxcw4c1uCTkta7U8oWxxtEFnmNQKj3WtFPdNIi3XNzO0O3Gdbt6Ggt8fxc8fFCsnaKK+0VBcH1t52UpKeegqqbTb4rOaq6xzR4fR0Yo6JsxZKOGslmnxXEDGW8dstn27SWjZuqobnaIGWyyQ2y5ivrWUr6GamZG1z5I3NLnRnEhHUSAwt1B+QVpaXkZdJfaCyC4jVW2SO8c4FKSIzI2cc2ERnGv75B+E1N4P8Ae8OPVtvJZBWVcVuoL7S1dbE2aa8ObS1MdutVNTtbv5m3CQhleGyuEY3YbqLgToAcRblNe6Bu3dnmir6V9GzZCGFlUZomRkt5/I1r3F2I5TCWv0HiA4cFTPg83ukp33K3XCoZRU98slTa+eyeLHSTyx6Y3zOPBkRDpAXEgAhmcDJBHYk5NqCspa2awX5t3qLbTuqqqikt9Tb5paaM4lqKIzPdv2t8wDPFvHLmh3KHkyoobVabzdL8ygo7nHM7dsoKisqmyxyYjigigeTMwxhz3ykNDCGNw8vGJNye2Loe64Xe7V9qe91qqqK30VBWMrJq+oqXQlrmNY0FtK0xNy9w4CTJDdPGM8qVZC/ZnYiGKaKSSno7uyZjHse+ImoomtErGnMZJjfjVjOh3kQd6/cklvtc0XuttNTU1FWtjktdRBQ1NTLVwSMY41M8Eb9NDTsMjBrc9wdxI04ONezkcrPd+ssclTBFHQU5raq6SNcKWO37tkgqjHqyHHeBu7LhhzJPG0tL198IqtinptmRBNFMY9k7fHIIntkMcgY8GN4YTokyD4pweCtTa/aW3TbTbQ26W4UsFPf9nKa2w3HeMkpYKrcSmJs8rHaWRubUEkkgeKwflhBXOz/JRbrsax1n2kZVx0NFUVM7ZrbU0lSHxtzDu4p5AJaWRweDIDmMhgLXawRvaTZaxP2Kje+9xRMdfWvfdvcSskmjqHUADrZuGu3742tJdvQ7dnHVldrka2RGz9XdZbrdLOyolsNwgpqamr4qh0jHGKWaokdhoijG4jDA7Dn65DpG7KjvJ/SsvGx89ip6uigukF8ZcmU9bUR0nOKU0ccBdA+Tg9zXl+R2aBnGpuStNbOTqjht9Nc75em2qmuDpvcyGOhnr6ysgiIBq3QRPBp6fBa7jnhJHxBc0Gb8k+zMEdLtrQU13oKulmstue26t1w0sUMpuDpH1cbsvp5Imte58eXEAN7TgdK/WZu1FosDLfXW2K4WKhNpuFBWVcVO/FPuoo6umfksnp37gu1tJaRI3jlpC6+x1DT2m3bbULrpbqyR9joQJKOcPgfUufWtlpKeR+nnT43PiaXMGMytGAcgERy7cnlE+0Vl2st7F2ZbHwNuMElvqLdLEyodojqIW1Dy6SLJPAgcI5OOWFqrpWfyT10MWzu20ck0Uck1FaWwse9jHzOFRWAiJjjmQgvZkNzjW3yqsEBERAREQEREBERAREQEREBERAWpvl5bB4jcPlIzj8lueou9S7lzqxDGXflHxWDyu9Q61BJWuL3ayS4klx8pPHKEy+1c8kztUjy53ZnqA8jR1NHyL5FH5VyYxZQjzb5p9CBqyL4ULfAF8K5AoUQC5YXFq5hBxK22y21dwtT9dvrZ6Yk+NGx33mTy7yB+Y3nh1kZWpeuLipMX7escpifHheOx/hDVUTg250rZ28A6elIil7PfQyO0P4Z6nN+RQvli5TqraKoG8Bp6CB2aWiactacY385HCSpI7epoJDe0ugIGFw6z6F4x14xNxDNlytmWPWZc3FfB1JlfXrIwOLl8X1/YiI+EIAvq+FAC+oetAg49nzrivresj0ri7rA9KLaxUREenbs1znoqiGrpJn09VTyCWCeMgPjeARkZBBBaXNLXAtc1zmkEEgzKXamyVrt/cLHPS1hcJJKiw1zaKGeXOS/mFVBLFSuJwSYXAEknAKgSIL/5KeVx4qTaKBtNaKOqguL2196uNVcZoriaOR9JVTVVW9sEcRmiiDoGxaSZHEEuJ1U/tbtG2vjo2C22qhlpWzsmntlLHRiudK9jmyTxwgR5YGYbpAH3x+MAho0CIr4AgC+oiPgaB1ABC0deBlfUQfMDyL6iIPgaB1AD5EwvqIN1atk7hVU5qqejllgG+Ie3dh0u4bqnMETnCSq0N98Ymu04OcYWNuzFcaM3AUkvMxG6YzeIPvDZN06oEWreuphIdJmDdAIILuBU75O9prXRNtMk0scMlKKxlaJLa6vrHSVMlU2OajrJHFlDRthngLmQBkuqGfxZDLqWjuVfbpqenmdXVrJ6axUtmNDSxOhfO+kp20Rc6rfmL3MniaZXxOGsmR7NPHUg0l02OuFJC2aegmijc+KPqY57JZ2l8Ec0EbjLTyvAOlkjWudjgCthdOT+vpqPnFTTyxzOuVJbIaQRtmknmqoK2Uta6GR2mpY+kZGact15qWZ08A6dDbi1UslVPTyQytN2s1zpaWO1up53wWy4mpdTV1ymc+esuBhkH3yV7otUL3B+ZNI1ezW09rs7onQ1dTcsX+C5SA0j4C2j9zbxQPdid+JLgx1wje4cGOLGBrzxLQhtRsTcmzw0rqCZ09QyeSnjj3c++FMxz6kRPhc5kkkbWkuYDqbkAgFwBy1+wl1giknloJWwwwuqHSh8D2GCNuuWeExyHnETG8Xui1Bgzq0qUja6jpo46WGanfG2nvzy+3Wz3LpW1Nwsc1rpA2J2Z5J3PLN5IdLGtEQGvSXLWWbaalidaC9zw2i2fvlumxGTpqrh0g3DWD8ph90aXLhwGXZ96gi9VYKuKSqjkppGSUMTJqtrtP8AR4pHQMje85xpc6ppwME53rcZWuVj7bXHd2K2skjmhuV0pqOOvbMxzHSW+wyVVNa5y2TD9NQ2SA6yPG9ymkEgjNcICIiAiIgIiICIiAiIgIiICIurdandQySdobw/SPBv7SEGgvtVvJSBxbHljflHvj9PD/wrWy8flH7li3q4GVHmWZfcLrslX3eoOwuLjwWAyrg6XsQdhrsYXPK628TeIjs5X3UusHr46RCnYLlxcVgEia0Vn1LiSsWtC5CIZgV9JWDUmtFplcepMrE53ampEplymVhL0D0IhmBXEO4rEHIXItObzh2fLhcZPfD5Vwe7qXxzuIRVlooZ0rn8yHuv9tOlc/mQ91/tqLSZooZ0rn8yHuv9tOlc/mQ91/toUmaKGdK5/Mh7r/bTpXP5kPdf7aFJmihnSufzIe6/206Vz+ZD3X+2hSZooZ0rn8yHuv8AbTpXP5kPdf7aFJmihnSufzIe6/206Vz+ZD3X+2hSZooZ0rn8yHuv9tOlc/mQ91/toUmaKGdK5/Mh7r/bTpXP5kPdf7aFJmihnSufzIe6/wBtOlc/mQ91/toUmaKGdK5/Mh7r/bTpXP5kPdf7aFJo4knJJJwBknJwAGgZPYAAPkAXxQzpXP5kPdf7adK5/Mh7r/bQpM0UM6Vz+ZD3X+2nSufzIe6/20KTNFDOlc/mQ91/tp0rn8yHuv8AbQpM0UM6Vz+ZD3X+2nSufzIe6/20KTNFDOlc/mQ91/tp0rn8yHuv9tCkzRQzpXP5kPdf7adK5/Mh7r/bQpM0UM6Vz+ZD3X+2nSufzIe6/wBtCkzUd23qMRxR+e4uPyMHD9p/Ytd0rn8yHuv9ta67XN9S5rpAwFo0jQHAYznjknillOvqXzUseUyhTJqTUseUyhTmXICuGUyhTJqTUseUyhTJqTUseUyhTJqTUseUyhTJqTUseUyhTJqTUseUyhTJqX3WsWUyhTJqTUseUyhTJqXwuXDKZQpzz2L5lccplCnxERRRERAREQEREBERAREQEREBERAREQEREBERAREQEREBERAREQEREBERAREQEREBERAREQEREBERAREQEREBERAREQEREBERAREQEREBERAREQEREBERAREQEREBERAREQEREBERAREQEREBERAREQEREBERAREQEREBERAREQEREBERAREQEREBERAREQEREBERAREQEREBERAREQEREBERAREQEREBERAREQEREBERAREQEREBERAREQEREBERAREQEREBERAREQEREBERAREQEREBERAREQEREBERAREQf//Z\n"
              }
            ],
            "_view_module": "@jupyter-widgets/output",
            "_model_module_version": "1.0.0",
            "_view_count": null,
            "_view_module_version": "1.0.0",
            "layout": "IPY_MODEL_1428a3f0e57a46849494c761aef57582",
            "_model_module": "@jupyter-widgets/output"
          }
        },
        "3947129f5bfe4b168cce4c8b8fce06d7": {
          "model_module": "@jupyter-widgets/output",
          "model_name": "OutputModel",
          "state": {
            "_view_name": "OutputView",
            "msg_id": "",
            "_dom_classes": [],
            "_model_name": "OutputModel",
            "outputs": [
              {
                "output_type": "stream",
                "metadata": {
                  "tags": []
                },
                "text": "Video available at https://www.bilibili.com/video/BV1QU4y137BS\n",
                "stream": "stdout"
              },
              {
                "output_type": "display_data",
                "metadata": {
                  "tags": []
                },
                "text/html": "\n        <iframe\n            width=\"854\"\n            height=\"480\"\n            src=\"https://player.bilibili.com/player.html?bvid=BV1QU4y137BS&page=1?fs=1\"\n            frameborder=\"0\"\n            allowfullscreen\n        ></iframe>\n        ",
                "text/plain": "<__main__.BiliVideo at 0x7f47701f7ed0>"
              }
            ],
            "_view_module": "@jupyter-widgets/output",
            "_model_module_version": "1.0.0",
            "_view_count": null,
            "_view_module_version": "1.0.0",
            "layout": "IPY_MODEL_7bfba689ff104f59b12dd5c9ec1dc82a",
            "_model_module": "@jupyter-widgets/output"
          }
        },
        "1428a3f0e57a46849494c761aef57582": {
          "model_module": "@jupyter-widgets/base",
          "model_name": "LayoutModel",
          "state": {
            "_view_name": "LayoutView",
            "grid_template_rows": null,
            "right": null,
            "justify_content": null,
            "_view_module": "@jupyter-widgets/base",
            "overflow": null,
            "_model_module_version": "1.2.0",
            "_view_count": null,
            "flex_flow": null,
            "width": null,
            "min_width": null,
            "border": null,
            "align_items": null,
            "bottom": null,
            "_model_module": "@jupyter-widgets/base",
            "top": null,
            "grid_column": null,
            "overflow_y": null,
            "overflow_x": null,
            "grid_auto_flow": null,
            "grid_area": null,
            "grid_template_columns": null,
            "flex": null,
            "_model_name": "LayoutModel",
            "justify_items": null,
            "grid_row": null,
            "max_height": null,
            "align_content": null,
            "visibility": null,
            "align_self": null,
            "height": null,
            "min_height": null,
            "padding": null,
            "grid_auto_rows": null,
            "grid_gap": null,
            "max_width": null,
            "order": null,
            "_view_module_version": "1.2.0",
            "grid_template_areas": null,
            "object_position": null,
            "object_fit": null,
            "grid_auto_columns": null,
            "margin": null,
            "display": null,
            "left": null
          }
        },
        "7bfba689ff104f59b12dd5c9ec1dc82a": {
          "model_module": "@jupyter-widgets/base",
          "model_name": "LayoutModel",
          "state": {
            "_view_name": "LayoutView",
            "grid_template_rows": null,
            "right": null,
            "justify_content": null,
            "_view_module": "@jupyter-widgets/base",
            "overflow": null,
            "_model_module_version": "1.2.0",
            "_view_count": null,
            "flex_flow": null,
            "width": null,
            "min_width": null,
            "border": null,
            "align_items": null,
            "bottom": null,
            "_model_module": "@jupyter-widgets/base",
            "top": null,
            "grid_column": null,
            "overflow_y": null,
            "overflow_x": null,
            "grid_auto_flow": null,
            "grid_area": null,
            "grid_template_columns": null,
            "flex": null,
            "_model_name": "LayoutModel",
            "justify_items": null,
            "grid_row": null,
            "max_height": null,
            "align_content": null,
            "visibility": null,
            "align_self": null,
            "height": null,
            "min_height": null,
            "padding": null,
            "grid_auto_rows": null,
            "grid_gap": null,
            "max_width": null,
            "order": null,
            "_view_module_version": "1.2.0",
            "grid_template_areas": null,
            "object_position": null,
            "object_fit": null,
            "grid_auto_columns": null,
            "margin": null,
            "display": null,
            "left": null
          }
        }
      }
    }
  },
  "cells": [
    {
      "cell_type": "markdown",
      "metadata": {
        "id": "view-in-github",
        "colab_type": "text"
      },
      "source": [
        "<a href=\"https://colab.research.google.com/github/Leehong-DENG/CBIG/blob/master/tutorials/W3D1_BayesianDecisions/student/W3D1_Tutorial1.ipynb\" target=\"_parent\"><img src=\"https://colab.research.google.com/assets/colab-badge.svg\" alt=\"Open In Colab\"/></a>"
      ]
    },
    {
      "cell_type": "markdown",
      "metadata": {
        "execution": {},
        "id": "yY8AH6UXKHLA"
      },
      "source": [
        "# Tutorial 1: Bayes with a binary hidden state\n",
        "**Week 3, Day 1: Bayesian Decisions**\n",
        "\n",
        "**By Neuromatch Academy**\n",
        "\n",
        "__Content creators:__ Eric DeWitt, Xaq Pitkow, Ella Batty, Saeed Salehi\n",
        "\n",
        "__Content reviewers:__ Hyosub Kim, Zahra Arjmandi, Anoop Kulkarni\n",
        "\n",
        "__Production editor:__ Ella Batty"
      ]
    },
    {
      "cell_type": "markdown",
      "metadata": {
        "execution": {},
        "id": "PCCrjV2FKHLC"
      },
      "source": [
        "**Our 2021 Sponsors, including Presenting Sponsor Facebook Reality Labs**\n",
        "\n",
        "<p align='center'><img src='https://github.com/NeuromatchAcademy/widgets/blob/master/sponsors.png?raw=True'/></p>"
      ]
    },
    {
      "cell_type": "markdown",
      "metadata": {
        "execution": {},
        "id": "S5Xaq8RTKHLD"
      },
      "source": [
        "# Tutorial Objectives\n",
        "\n",
        "*Estimated timing of tutorial: 1 hour, 30 minutes*\n",
        "\n",
        "This is the first of two core tutorials on Bayesian statistics. In these tutorials, we will explore the fundemental concepts of the Bayesian approach. In this tutorial you will work through an example of Bayesian inference and decision making using a binary hidden state. The second tutorial extends these concepts to a continuous hidden state. In the related NMA days, each of these basic ideas will be extended. In Hidden Dynamics, we consider these idea through time as you explore what happens when we infere a hidden state using repeated observations and when the hidden state changes across time. In the Optimal Control day, we will introduce the notion of how to use inference and decisions to select actions for optimal control.\n",
        "\n",
        "This notebook will introduce the fundamental building blocks for Bayesian statistics: \n",
        "\n",
        "1. How do we combine the possible loss (or gain) for making a decision with our probabilitic knowledge?\n",
        "2. How do we use probability distributions to represent hidden states?\n",
        "3. How does marginalization work and how can we use it?\n",
        "4. How do we combine new information with our prior knowledge? "
      ]
    },
    {
      "cell_type": "code",
      "metadata": {
        "cellView": "form",
        "execution": {},
        "id": "bQcL09xKKHLG",
        "outputId": "bf18584f-4245-4c0e-ed83-acb1a1e8d5c8",
        "colab": {
          "base_uri": "https://localhost:8080/",
          "height": 520
        }
      },
      "source": [
        "# @title Tutorial slides\n",
        "\n",
        "# @markdown These are the slides for the videos in this tutorial\n",
        "from IPython.display import IFrame\n",
        "IFrame(src=f\"https://mfr.ca-1.osf.io/render?url=https://osf.io/dx7jt/?direct%26mode=render%26action=download%26mode=render\", width=854, height=480)"
      ],
      "execution_count": 1,
      "outputs": [
        {
          "output_type": "execute_result",
          "data": {
            "text/html": [
              "\n",
              "        <iframe\n",
              "            width=\"854\"\n",
              "            height=\"480\"\n",
              "            src=\"https://mfr.ca-1.osf.io/render?url=https://osf.io/dx7jt/?direct%26mode=render%26action=download%26mode=render\"\n",
              "            frameborder=\"0\"\n",
              "            allowfullscreen\n",
              "        ></iframe>\n",
              "        "
            ],
            "text/plain": [
              "<IPython.lib.display.IFrame at 0x7f477c3b7110>"
            ]
          },
          "metadata": {
            "tags": []
          },
          "execution_count": 1
        }
      ]
    },
    {
      "cell_type": "code",
      "metadata": {
        "cellView": "form",
        "execution": {},
        "id": "QeftloAIKHLI",
        "outputId": "264da411-7785-4cfc-85d2-c013e4f5858d",
        "colab": {
          "base_uri": "https://localhost:8080/",
          "height": 597,
          "referenced_widgets": [
            "0b205e2530794e9c85f6f1d8473187dc",
            "b203cc0289ed4784b45f55a52048e47d",
            "e3b142a543874e669b87fee9b686d4a6",
            "4dd775e579f343d480e4ea5a4c0a6018",
            "448a227c01554cb89a2811844eb87abc",
            "73525890bda3417fb950eb28855daaf5"
          ]
        }
      },
      "source": [
        "# @title Video 1: Introduction to Bayesian Statistics and Decisions\n",
        "from ipywidgets import widgets\n",
        "\n",
        "out2 = widgets.Output()\n",
        "with out2:\n",
        "  from IPython.display import IFrame\n",
        "  class BiliVideo(IFrame):\n",
        "      def __init__(self, id, page=1, width=400, height=300, **kwargs):\n",
        "          self.id=id\n",
        "          src = 'https://player.bilibili.com/player.html?bvid={0}&page={1}'.format(id, page)\n",
        "          super(BiliVideo, self).__init__(src, width, height, **kwargs)\n",
        "\n",
        "  video = BiliVideo(id=\"BV1Ch41167jN\", width=854, height=480, fs=1)\n",
        "  print('Video available at https://www.bilibili.com/video/{0}'.format(video.id))\n",
        "  display(video)\n",
        "\n",
        "out1 = widgets.Output()\n",
        "with out1:\n",
        "  from IPython.display import YouTubeVideo\n",
        "  video = YouTubeVideo(id=\"Hcx2_JTpf2M\", width=854, height=480, fs=1, rel=0)\n",
        "  print('Video available at https://youtube.com/watch?v=' + video.id)\n",
        "  display(video)\n",
        "\n",
        "out = widgets.Tab([out1, out2])\n",
        "out.set_title(0, 'Youtube')\n",
        "out.set_title(1, 'Bilibili')\n",
        "\n",
        "display(out)"
      ],
      "execution_count": 2,
      "outputs": [
        {
          "output_type": "display_data",
          "data": {
            "application/vnd.jupyter.widget-view+json": {
              "model_id": "0b205e2530794e9c85f6f1d8473187dc",
              "version_minor": 0,
              "version_major": 2
            },
            "text/plain": [
              "Tab(children=(Output(), Output()), _titles={'0': 'Youtube', '1': 'Bilibili'})"
            ]
          },
          "metadata": {
            "tags": []
          }
        }
      ]
    },
    {
      "cell_type": "markdown",
      "metadata": {
        "execution": {},
        "id": "Z1svLltcKHLJ"
      },
      "source": [
        "# Setup  \n"
      ]
    },
    {
      "cell_type": "code",
      "metadata": {
        "execution": {},
        "id": "xN_Af2sFKHLK"
      },
      "source": [
        "# Imports\n",
        "\n",
        "import numpy as np\n",
        "import matplotlib.pyplot as plt\n",
        "from matplotlib import patches, transforms, gridspec\n",
        "from scipy.optimize import fsolve\n",
        "\n",
        "from collections import namedtuple"
      ],
      "execution_count": 3,
      "outputs": []
    },
    {
      "cell_type": "code",
      "metadata": {
        "cellView": "form",
        "execution": {},
        "id": "AQvtzGrlKHLK"
      },
      "source": [
        "#@title Figure Settings\n",
        "import ipywidgets as widgets       # interactive display\n",
        "from ipywidgets import GridspecLayout, HBox, VBox, FloatSlider, Layout, ToggleButtons\n",
        "from ipywidgets import interactive, interactive_output, Checkbox, Select\n",
        "from IPython.display import clear_output\n",
        "%config InlineBackend.figure_format = 'retina'\n",
        "plt.style.use(\"https://raw.githubusercontent.com/NeuromatchAcademy/course-content/master/nma.mplstyle\")\n",
        "\n",
        "import warnings\n",
        "warnings.filterwarnings(\"ignore\")"
      ],
      "execution_count": 4,
      "outputs": []
    },
    {
      "cell_type": "code",
      "metadata": {
        "cellView": "form",
        "execution": {},
        "id": "zu3AZS-AKHLM"
      },
      "source": [
        "# @title Plotting Functions\n",
        "\n",
        "def plot_joint_probs(P, ):\n",
        "    assert np.all(P >= 0), \"probabilities should be >= 0\"\n",
        "    # normalize if not\n",
        "    P = P / np.sum(P)\n",
        "    marginal_y = np.sum(P,axis=1)\n",
        "    marginal_x = np.sum(P,axis=0)\n",
        "\n",
        "    # definitions for the axes\n",
        "    left, width = 0.1, 0.65\n",
        "    bottom, height = 0.1, 0.65\n",
        "    spacing = 0.005\n",
        "\n",
        "    # start with a square Figure\n",
        "    fig = plt.figure(figsize=(5, 5))\n",
        "\n",
        "    joint_prob = [left, bottom, width, height]\n",
        "    rect_histx = [left, bottom + height + spacing, width, 0.2]\n",
        "    rect_histy = [left + width + spacing, bottom, 0.2, height]\n",
        "\n",
        "    rect_x_cmap = plt.cm.Blues\n",
        "    rect_y_cmap = plt.cm.Reds\n",
        "\n",
        "    # Show joint probs and marginals\n",
        "    ax = fig.add_axes(joint_prob)\n",
        "    ax_x = fig.add_axes(rect_histx, sharex=ax)\n",
        "    ax_y = fig.add_axes(rect_histy, sharey=ax)\n",
        "\n",
        "    # Show joint probs and marginals\n",
        "    ax.matshow(P,vmin=0., vmax=1., cmap='Greys')\n",
        "    ax_x.bar(0, marginal_x[0], facecolor=rect_x_cmap(marginal_x[0]))\n",
        "    ax_x.bar(1, marginal_x[1], facecolor=rect_x_cmap(marginal_x[1]))\n",
        "    ax_y.barh(0, marginal_y[0], facecolor=rect_y_cmap(marginal_y[0]))\n",
        "    ax_y.barh(1, marginal_y[1], facecolor=rect_y_cmap(marginal_y[1]))\n",
        "    # set limits\n",
        "    ax_x.set_ylim([0,1])\n",
        "    ax_y.set_xlim([0,1])\n",
        "\n",
        "    # show values\n",
        "    ind = np.arange(2)\n",
        "    x,y = np.meshgrid(ind,ind)\n",
        "    for i,j in zip(x.flatten(), y.flatten()):\n",
        "        c = f\"{P[i,j]:.2f}\"\n",
        "        ax.text(j,i, c, va='center', ha='center', color='black')\n",
        "    for i in ind:\n",
        "        v = marginal_x[i]\n",
        "        c = f\"{v:.2f}\"\n",
        "        ax_x.text(i, v +0.1, c, va='center', ha='center', color='black')\n",
        "        v = marginal_y[i]\n",
        "        c = f\"{v:.2f}\"\n",
        "        ax_y.text(v+0.2, i, c, va='center', ha='center', color='black')\n",
        "\n",
        "    # set up labels\n",
        "    ax.xaxis.tick_bottom()\n",
        "    ax.yaxis.tick_left()\n",
        "    ax.set_xticks([0,1])\n",
        "    ax.set_yticks([0,1])\n",
        "    ax.set_xticklabels(['Silver','Gold'])\n",
        "    ax.set_yticklabels(['Small', 'Large'])\n",
        "    ax.set_xlabel('color')\n",
        "    ax.set_ylabel('size')\n",
        "    ax_x.axis('off')\n",
        "    ax_y.axis('off')\n",
        "    return fig\n",
        "\n",
        "\n",
        "def plot_prior_likelihood_posterior(prior, likelihood, posterior):\n",
        "\n",
        "    # definitions for the axes\n",
        "    left, width = 0.05, 0.3\n",
        "    bottom, height = 0.05, 0.9\n",
        "    padding = 0.12\n",
        "    small_width = 0.1\n",
        "    left_space = left + small_width + padding\n",
        "    added_space = padding + width\n",
        "\n",
        "    fig = plt.figure(figsize=(12, 4))\n",
        "\n",
        "    rect_prior = [left, bottom, small_width, height]\n",
        "    rect_likelihood = [left_space , bottom , width, height]\n",
        "    rect_posterior = [left_space +  added_space, bottom , width, height]\n",
        "\n",
        "    ax_prior = fig.add_axes(rect_prior)\n",
        "    ax_likelihood = fig.add_axes(rect_likelihood, sharey=ax_prior)\n",
        "    ax_posterior = fig.add_axes(rect_posterior, sharey = ax_prior)\n",
        "\n",
        "    rect_colormap = plt.cm.Blues\n",
        "\n",
        "    # Show posterior probs and marginals\n",
        "    ax_prior.barh(0, prior[0], facecolor = rect_colormap(prior[0, 0]))\n",
        "    ax_prior.barh(1, prior[1], facecolor = rect_colormap(prior[1, 0]))\n",
        "    ax_likelihood.matshow(likelihood, vmin=0., vmax=1., cmap='Reds')\n",
        "    ax_posterior.matshow(posterior, vmin=0., vmax=1., cmap='Greens')\n",
        "\n",
        "\n",
        "    # Probabilities plot details\n",
        "    # ax_prior.set(xlim = [1, 0], yticks = [0, 1], yticklabels = ['left', 'right'],\n",
        "    #              ylabel = 'state (s)', title = \"Prior p(s)\")\n",
        "    ax_prior.set(xlim = [1, 0], xticks = [], yticks = [0, 1], yticklabels = ['left', 'right'],\n",
        "                 title = \"Prior p(s)\")\n",
        "    ax_prior.yaxis.tick_right()\n",
        "    ax_prior.spines['left'].set_visible(False)\n",
        "    ax_prior.spines['bottom'].set_visible(False)\n",
        "\n",
        "    # Likelihood plot details\n",
        "    ax_likelihood.set(xticks = [0, 1], xticklabels = ['fish', 'no fish'],\n",
        "                  yticks = [0, 1], yticklabels = ['left', 'right'],\n",
        "                   ylabel = 'state (s)', xlabel = 'measurement (m)',\n",
        "                   title = 'Likelihood p(m (left) | s)')\n",
        "    ax_likelihood.xaxis.set_ticks_position('bottom')\n",
        "    ax_likelihood.spines['left'].set_visible(False)\n",
        "    ax_likelihood.spines['bottom'].set_visible(False)\n",
        "\n",
        "    # Posterior plot details\n",
        "\n",
        "    ax_posterior.set(xticks = [0, 1], xticklabels = ['fish', 'no fish'],\n",
        "                  yticks = [0, 1], yticklabels = ['left', 'right'],\n",
        "                   ylabel = 'state (s)', xlabel = 'measurement (m)',\n",
        "                   title = 'Posterior p(s | m)')\n",
        "    ax_posterior.xaxis.set_ticks_position('bottom')\n",
        "    ax_posterior.spines['left'].set_visible(False)\n",
        "    ax_posterior.spines['bottom'].set_visible(False)\n",
        "\n",
        "\n",
        "    # show values\n",
        "    ind = np.arange(2)\n",
        "    x,y = np.meshgrid(ind,ind)\n",
        "    for i,j in zip(x.flatten(), y.flatten()):\n",
        "        c = f\"{posterior[i,j]:.2f}\"\n",
        "        ax_posterior.text(j,i, c, va='center', ha='center', color='black')\n",
        "    for i,j in zip(x.flatten(), y.flatten()):\n",
        "        c = f\"{likelihood[i,j]:.2f}\"\n",
        "        ax_likelihood.text(j,i, c, va='center', ha='center', color='black')\n",
        "    for i in ind:\n",
        "        v = prior[i, 0]\n",
        "        c = f\"{v:.2f}\"\n",
        "        ax_prior.text(v+0.2, i, c, va='center', ha='center', color='black')\n",
        "\n",
        "\n",
        "def plot_prior_likelihood(ps, p_a_s1, p_a_s0, measurement):\n",
        "    likelihood = np.asarray([[p_a_s1, 1-p_a_s1],[p_a_s0, 1-p_a_s0]])\n",
        "    assert 0.0 <= ps <= 1.0\n",
        "    prior = np.asarray([ps, 1 - ps])\n",
        "    if measurement == \"Fish\":\n",
        "        posterior = likelihood[:, 0] * prior\n",
        "    else:\n",
        "        posterior = (likelihood[:, 1] * prior).reshape(-1)\n",
        "    posterior /= np.sum(posterior)\n",
        "\n",
        "    # definitions for the axes\n",
        "    left, width = 0.05, 0.3\n",
        "    bottom, height = 0.05, 0.9\n",
        "    padding = 0.12\n",
        "    small_width = 0.2\n",
        "    left_space = left + small_width + padding\n",
        "    small_padding = 0.05\n",
        "\n",
        "    fig = plt.figure(figsize=(12, 4))\n",
        "\n",
        "    rect_prior = [left, bottom, small_width, height]\n",
        "    rect_likelihood = [left_space , bottom , width, height]\n",
        "    rect_posterior = [left_space + width + small_padding, bottom , small_width, height]\n",
        "\n",
        "    ax_prior = fig.add_axes(rect_prior)\n",
        "    ax_likelihood = fig.add_axes(rect_likelihood, sharey=ax_prior)\n",
        "    ax_posterior = fig.add_axes(rect_posterior, sharey=ax_prior)\n",
        "\n",
        "    prior_colormap = plt.cm.Blues\n",
        "    posterior_colormap = plt.cm.Greens\n",
        "\n",
        "    # Show posterior probs and marginals\n",
        "    ax_prior.barh(0, prior[0], facecolor = prior_colormap(prior[0]))\n",
        "    ax_prior.barh(1, prior[1], facecolor = prior_colormap(prior[1]))\n",
        "    ax_likelihood.matshow(likelihood, vmin=0., vmax=1., cmap='Reds')\n",
        "    # ax_posterior.matshow(posterior, vmin=0., vmax=1., cmap='')\n",
        "    ax_posterior.barh(0, posterior[0], facecolor = posterior_colormap(posterior[0]))\n",
        "    ax_posterior.barh(1, posterior[1], facecolor = posterior_colormap(posterior[1]))\n",
        "\n",
        "    # Probabilities plot details\n",
        "    ax_prior.set(xlim = [1, 0], yticks = [0, 1], yticklabels = ['left', 'right'],\n",
        "                 title = \"Prior p(s)\", xticks = [])\n",
        "    ax_prior.yaxis.tick_right()\n",
        "    ax_prior.spines['left'].set_visible(False)\n",
        "    ax_prior.spines['bottom'].set_visible(False)\n",
        "\n",
        "    # Likelihood plot details\n",
        "    ax_likelihood.set(xticks = [0, 1], xticklabels = ['fish', 'no fish'],\n",
        "                  yticks = [0, 1], yticklabels = ['left', 'right'],\n",
        "                   ylabel = 'state (s)', xlabel = 'measurement (m)',\n",
        "                   title = 'Likelihood p(m | s)')\n",
        "    ax_likelihood.xaxis.set_ticks_position('bottom')\n",
        "    ax_likelihood.spines['left'].set_visible(False)\n",
        "    ax_likelihood.spines['bottom'].set_visible(False)\n",
        "\n",
        "    # Posterior plot details\n",
        "    ax_posterior.set(xlim = [0, 1], xticks = [], yticks = [0, 1],\n",
        "                     yticklabels = ['left', 'right'], title = \"Posterior p(s | m)\")\n",
        "    ax_posterior.spines['left'].set_visible(False)\n",
        "    ax_posterior.spines['bottom'].set_visible(False)\n",
        "\n",
        "    # show values\n",
        "    ind = np.arange(2)\n",
        "    x,y = np.meshgrid(ind,ind)\n",
        "    # for i,j in zip(x.flatten(), y.flatten()):\n",
        "    #     c = f\"{posterior[i,j]:.2f}\"\n",
        "    #     ax_posterior.text(j,i, c, va='center', ha='center', color='black')\n",
        "    for i in ind:\n",
        "        v = posterior[i]\n",
        "        c = f\"{v:.2f}\"\n",
        "        ax_posterior.text(v+0.2, i, c, va='center', ha='center', color='black')\n",
        "    for i,j in zip(x.flatten(), y.flatten()):\n",
        "        c = f\"{likelihood[i,j]:.2f}\"\n",
        "        ax_likelihood.text(j,i, c, va='center', ha='center', color='black')\n",
        "    for i in ind:\n",
        "        v = prior[i]\n",
        "        c = f\"{v:.2f}\"\n",
        "        ax_prior.text(v+0.2, i, c, va='center', ha='center', color='black')\n",
        "    return fig\n",
        "\n",
        "\n",
        "from matplotlib import colors\n",
        "def plot_utility(ps):\n",
        "    prior = np.asarray([ps, 1 - ps])\n",
        "\n",
        "    utility = np.array([[2, -3], [-2, 1]])\n",
        "\n",
        "    expected = prior @ utility\n",
        "\n",
        "    # definitions for the axes\n",
        "    left, width = 0.05, 0.16\n",
        "    bottom, height = 0.05, 0.9\n",
        "    padding = 0.02\n",
        "    small_width = 0.1\n",
        "    left_space = left + small_width + padding\n",
        "    added_space = padding + width\n",
        "\n",
        "    fig = plt.figure(figsize=(17, 3))\n",
        "\n",
        "    rect_prior = [left, bottom, small_width, height]\n",
        "    rect_utility = [left + added_space , bottom , width, height]\n",
        "    rect_expected = [left + 2* added_space, bottom , width, height]\n",
        "\n",
        "    ax_prior = fig.add_axes(rect_prior)\n",
        "    ax_utility = fig.add_axes(rect_utility, sharey=ax_prior)\n",
        "    ax_expected = fig.add_axes(rect_expected)\n",
        "\n",
        "    rect_colormap = plt.cm.Blues\n",
        "\n",
        "    # Data of plots\n",
        "    ax_prior.barh(0, prior[0], facecolor = rect_colormap(prior[0]))\n",
        "    ax_prior.barh(1, prior[1], facecolor = rect_colormap(prior[1]))\n",
        "    ax_utility.matshow(utility, cmap='cool')\n",
        "    norm = colors.Normalize(vmin=-3, vmax=3)\n",
        "    ax_expected.bar(0, expected[0], facecolor = rect_colormap(norm(expected[0])))\n",
        "    ax_expected.bar(1, expected[1], facecolor = rect_colormap(norm(expected[1])))\n",
        "\n",
        "    # Probabilities plot details\n",
        "    ax_prior.set(xlim = [1, 0], xticks = [], yticks = [0, 1], yticklabels = ['left', 'right'],\n",
        "                 title = \"Probability of state\")\n",
        "    ax_prior.yaxis.tick_right()\n",
        "    ax_prior.spines['left'].set_visible(False)\n",
        "    ax_prior.spines['bottom'].set_visible(False)\n",
        "\n",
        "    # Utility plot details\n",
        "    ax_utility.set(xticks = [0, 1], xticklabels = ['left', 'right'],\n",
        "                  yticks = [0, 1], yticklabels = ['left', 'right'],\n",
        "                   ylabel = 'state (s)', xlabel = 'action (a)',\n",
        "                   title = 'Utility')\n",
        "    ax_utility.xaxis.set_ticks_position('bottom')\n",
        "    ax_utility.spines['left'].set_visible(False)\n",
        "    ax_utility.spines['bottom'].set_visible(False)\n",
        "\n",
        "    # Expected utility plot details\n",
        "    ax_expected.set(title = 'Expected utility', ylim = [-3, 3],\n",
        "                    xticks = [0, 1], xticklabels = ['left', 'right'],\n",
        "                    xlabel = 'action (a)',\n",
        "                    yticks = [])\n",
        "    ax_expected.xaxis.set_ticks_position('bottom')\n",
        "    ax_expected.spines['left'].set_visible(False)\n",
        "    ax_expected.spines['bottom'].set_visible(False)\n",
        "\n",
        "    # show values\n",
        "    ind = np.arange(2)\n",
        "    x,y = np.meshgrid(ind,ind)\n",
        "\n",
        "    for i,j in zip(x.flatten(), y.flatten()):\n",
        "        c = f\"{utility[i,j]:.2f}\"\n",
        "        ax_utility.text(j,i, c, va='center', ha='center', color='black')\n",
        "    for i in ind:\n",
        "        v = prior[i]\n",
        "        c = f\"{v:.2f}\"\n",
        "        ax_prior.text(v+0.2, i, c, va='center', ha='center', color='black')\n",
        "    for i in ind:\n",
        "        v = expected[i]\n",
        "        c = f\"{v:.2f}\"\n",
        "        ax_expected.text(i, 2.5, c, va='center', ha='center', color='black')\n",
        "\n",
        "    return fig\n",
        "\n",
        "\n",
        "def plot_prior_likelihood_utility(ps, p_a_s1, p_a_s0, measurement):\n",
        "    assert 0.0 <= ps <= 1.0\n",
        "    assert 0.0 <= p_a_s1 <= 1.0\n",
        "    assert 0.0 <= p_a_s0 <= 1.0\n",
        "    prior = np.asarray([ps, 1 - ps])\n",
        "    likelihood = np.asarray([[p_a_s1, 1-p_a_s1],[p_a_s0, 1-p_a_s0]])\n",
        "    utility = np.array([[2.0, -3.0], [-2.0, 1.0]])\n",
        "    # expected = np.zeros_like(utility)\n",
        "\n",
        "    if measurement == \"Fish\":\n",
        "        posterior = likelihood[:, 0] * prior\n",
        "    else:\n",
        "        posterior = (likelihood[:, 1] * prior).reshape(-1)\n",
        "    posterior /= np.sum(posterior)\n",
        "    # expected[:, 0] = utility[:, 0] * posterior\n",
        "    # expected[:, 1] = utility[:, 1] * posterior\n",
        "    expected = posterior @ utility\n",
        "\n",
        "    # definitions for the axes\n",
        "    left, width = 0.05, 0.3\n",
        "    bottom, height = 0.05, 0.3\n",
        "    padding = 0.12\n",
        "    small_width = 0.2\n",
        "    left_space = left + small_width + padding\n",
        "    small_padding = 0.05\n",
        "\n",
        "    fig = plt.figure(figsize=(10, 9))\n",
        "\n",
        "    rect_prior = [left, bottom + height + padding, small_width, height]\n",
        "    rect_likelihood = [left_space , bottom + height + padding , width, height]\n",
        "    rect_posterior = [left_space + width + small_padding, bottom + height + padding , small_width, height]\n",
        "\n",
        "    rect_utility = [padding, bottom, width, height]\n",
        "    rect_expected = [padding + width + padding + left, bottom, width, height]\n",
        "\n",
        "    ax_likelihood = fig.add_axes(rect_likelihood)\n",
        "    ax_prior = fig.add_axes(rect_prior, sharey=ax_likelihood)\n",
        "    ax_posterior = fig.add_axes(rect_posterior, sharey=ax_likelihood)\n",
        "    ax_utility = fig.add_axes(rect_utility)\n",
        "    ax_expected = fig.add_axes(rect_expected)\n",
        "\n",
        "    prior_colormap = plt.cm.Blues\n",
        "    posterior_colormap = plt.cm.Greens\n",
        "    expected_colormap = plt.cm.Wistia\n",
        "\n",
        "    # Show posterior probs and marginals\n",
        "    ax_prior.barh(0, prior[0], facecolor = prior_colormap(prior[0]))\n",
        "    ax_prior.barh(1, prior[1], facecolor = prior_colormap(prior[1]))\n",
        "    ax_likelihood.matshow(likelihood, vmin=0., vmax=1., cmap='Reds')\n",
        "    ax_posterior.barh(0, posterior[0], facecolor = posterior_colormap(posterior[0]))\n",
        "    ax_posterior.barh(1, posterior[1], facecolor = posterior_colormap(posterior[1]))\n",
        "    ax_utility.matshow(utility, vmin=0., vmax=1., cmap='cool')\n",
        "    # ax_expected.matshow(expected, vmin=0., vmax=1., cmap='Wistia')\n",
        "    ax_expected.bar(0, expected[0], facecolor = expected_colormap(expected[0]))\n",
        "    ax_expected.bar(1, expected[1], facecolor = expected_colormap(expected[1]))\n",
        "\n",
        "    # Probabilities plot details\n",
        "    ax_prior.set(xlim = [1, 0], yticks = [0, 1], yticklabels = ['left', 'right'],\n",
        "                 title = \"Prior p(s)\", xticks = [])\n",
        "    ax_prior.yaxis.tick_right()\n",
        "    ax_prior.spines['left'].set_visible(False)\n",
        "    ax_prior.spines['bottom'].set_visible(False)\n",
        "\n",
        "    # Likelihood plot details\n",
        "    ax_likelihood.set(xticks = [0, 1], xticklabels = ['fish', 'no fish'],\n",
        "                  yticks = [0, 1], yticklabels = ['left', 'right'],\n",
        "                   ylabel = 'state (s)', xlabel = 'measurement (m)',\n",
        "                   title = 'Likelihood p(m | s)')\n",
        "    ax_likelihood.xaxis.set_ticks_position('bottom')\n",
        "    ax_likelihood.spines['left'].set_visible(False)\n",
        "    ax_likelihood.spines['bottom'].set_visible(False)\n",
        "\n",
        "    # Posterior plot details\n",
        "    ax_posterior.set(xlim = [0, 1], xticks = [], yticks = [0, 1],\n",
        "                     yticklabels = ['left', 'right'], title = \"Posterior p(s | m)\")\n",
        "    ax_posterior.spines['left'].set_visible(False)\n",
        "    ax_posterior.spines['bottom'].set_visible(False)\n",
        "\n",
        "    # Utility plot details\n",
        "    ax_utility.set(xticks = [0, 1], xticklabels = ['left', 'right'],\n",
        "                   xlabel = 'action (a)', yticks = [0, 1], yticklabels = ['left', 'right'],\n",
        "                   title = 'Utility', ylabel = 'state (s)')\n",
        "    ax_utility.xaxis.set_ticks_position('bottom')\n",
        "    ax_utility.spines['left'].set_visible(False)\n",
        "    ax_utility.spines['bottom'].set_visible(False)\n",
        "\n",
        "    # Expected Utility plot details\n",
        "    ax_expected.set(ylim = [-2, 2], xticks = [0, 1], xticklabels = ['left', 'right'],\n",
        "                 xlabel = 'action (a)', title = 'Expected utility', yticks=[])\n",
        "    # ax_expected.axis('off')\n",
        "    ax_expected.spines['left'].set_visible(False)\n",
        "    # ax_expected.set(xticks = [0, 1], xticklabels = ['left', 'right'],\n",
        "    #                 xlabel = 'action (a)',\n",
        "    #                title = 'Expected utility')\n",
        "    # ax_expected.xaxis.set_ticks_position('bottom')\n",
        "    # ax_expected.spines['left'].set_visible(False)\n",
        "    # ax_expected.spines['bottom'].set_visible(False)\n",
        "\n",
        "    # show values\n",
        "    ind = np.arange(2)\n",
        "    x,y = np.meshgrid(ind,ind)\n",
        "    for i in ind:\n",
        "        v = posterior[i]\n",
        "        c = f\"{v:.2f}\"\n",
        "        ax_posterior.text(v+0.2, i, c, va='center', ha='center', color='black')\n",
        "    for i,j in zip(x.flatten(), y.flatten()):\n",
        "        c = f\"{likelihood[i,j]:.2f}\"\n",
        "        ax_likelihood.text(j,i, c, va='center', ha='center', color='black')\n",
        "    for i,j in zip(x.flatten(), y.flatten()):\n",
        "        c = f\"{utility[i,j]:.2f}\"\n",
        "        ax_utility.text(j,i, c, va='center', ha='center', color='black')\n",
        "    # for i,j in zip(x.flatten(), y.flatten()):\n",
        "    #     c = f\"{expected[i,j]:.2f}\"\n",
        "    #     ax_expected.text(j,i, c, va='center', ha='center', color='black')\n",
        "    for i in ind:\n",
        "        v = prior[i]\n",
        "        c = f\"{v:.2f}\"\n",
        "        ax_prior.text(v+0.2, i, c, va='center', ha='center', color='black')\n",
        "    for i in ind:\n",
        "        v = expected[i]\n",
        "        c = f\"{v:.2f}\"\n",
        "        ax_expected.text(i, v, c, va='center', ha='center', color='black')\n",
        "\n",
        "    return fig"
      ],
      "execution_count": 5,
      "outputs": []
    },
    {
      "cell_type": "code",
      "metadata": {
        "cellView": "form",
        "execution": {},
        "id": "jKXH0hXYKHLP"
      },
      "source": [
        "# @title Helper Functions\n",
        "\n",
        "def compute_marginal(px, py, cor):\n",
        "    \"\"\" Calculate 2x2 joint probabilities given marginals p(x=1), p(y=1) and correlation\n",
        "\n",
        "      Args:\n",
        "        px (scalar): marginal probability of x\n",
        "        py (scalar): marginal probability of y\n",
        "        cor (scalar): correlation value\n",
        "\n",
        "      Returns:\n",
        "        ndarray of size (2, 2): joint probability array of x and y\n",
        "    \"\"\"\n",
        "\n",
        "    p11 = px*py + cor*np.sqrt(px*py*(1-px)*(1-py))\n",
        "    p01 = px - p11\n",
        "    p10 = py - p11\n",
        "    p00 = 1.0 - p11 - p01 - p10\n",
        "\n",
        "    return np.asarray([[p00, p01], [p10, p11]])\n",
        "\n",
        "\n",
        "def compute_cor_range(px,py):\n",
        "    \"\"\" Calculate the allowed range of correlation values given marginals p(x=1)\n",
        "      and p(y=1)\n",
        "\n",
        "    Args:\n",
        "      px (scalar): marginal probability of x\n",
        "      py (scalar): marginal probability of y\n",
        "\n",
        "    Returns:\n",
        "      scalar, scalar: minimum and maximum possible values of correlation\n",
        "    \"\"\"\n",
        "\n",
        "    def p11(corr):\n",
        "        return px*py + corr*np.sqrt(px*py*(1-px)*(1-py))\n",
        "    def p01(corr):\n",
        "        return px - p11(corr)\n",
        "    def p10(corr):\n",
        "        return py - p11(corr)\n",
        "    def p00(corr):\n",
        "        return 1.0 - p11(corr) - p01(corr) - p10(corr)\n",
        "    Cmax = min(fsolve(p01, 0.0), fsolve(p10, 0.0))\n",
        "    Cmin = max(fsolve(p11, 0.0), fsolve(p00, 0.0))\n",
        "    return Cmin, Cmax"
      ],
      "execution_count": 6,
      "outputs": []
    },
    {
      "cell_type": "markdown",
      "metadata": {
        "execution": {},
        "id": "y59EoF7WKHLQ"
      },
      "source": [
        "---\n",
        "# Section 1: Gone Fishin'\n"
      ]
    },
    {
      "cell_type": "code",
      "metadata": {
        "cellView": "form",
        "execution": {},
        "id": "gTSSTFVpKHLR",
        "outputId": "1b46f569-efc9-43a2-ffd3-0288f7cd0988",
        "colab": {
          "base_uri": "https://localhost:8080/",
          "height": 597,
          "referenced_widgets": [
            "39e5e4bc8fb549dd8804ea906526f562",
            "01cc9a19354e401a867d135a37e7f294",
            "0712d538a1324186a65658f00f507bdb",
            "a2d83b18e37a4eb89636187889e446d7",
            "23c46bba18ac4bcfa01fc783b48ab2e4",
            "8a3d9714d00540c7b5676bef41baaa3b"
          ]
        }
      },
      "source": [
        "# @title Video 2: Gone Fishin'\n",
        "from ipywidgets import widgets\n",
        "\n",
        "out2 = widgets.Output()\n",
        "with out2:\n",
        "  from IPython.display import IFrame\n",
        "  class BiliVideo(IFrame):\n",
        "      def __init__(self, id, page=1, width=400, height=300, **kwargs):\n",
        "          self.id=id\n",
        "          src = 'https://player.bilibili.com/player.html?bvid={0}&page={1}'.format(id, page)\n",
        "          super(BiliVideo, self).__init__(src, width, height, **kwargs)\n",
        "\n",
        "  video = BiliVideo(id=\"BV1TP4y147pJ\", width=854, height=480, fs=1)\n",
        "  print('Video available at https://www.bilibili.com/video/{0}'.format(video.id))\n",
        "  display(video)\n",
        "\n",
        "out1 = widgets.Output()\n",
        "with out1:\n",
        "  from IPython.display import YouTubeVideo\n",
        "  video = YouTubeVideo(id=\"kAdBjWOI_yE\", width=854, height=480, fs=1, rel=0)\n",
        "  print('Video available at https://youtube.com/watch?v=' + video.id)\n",
        "  display(video)\n",
        "\n",
        "out = widgets.Tab([out1, out2])\n",
        "out.set_title(0, 'Youtube')\n",
        "out.set_title(1, 'Bilibili')\n",
        "\n",
        "display(out)"
      ],
      "execution_count": 7,
      "outputs": [
        {
          "output_type": "display_data",
          "data": {
            "application/vnd.jupyter.widget-view+json": {
              "model_id": "39e5e4bc8fb549dd8804ea906526f562",
              "version_minor": 0,
              "version_major": 2
            },
            "text/plain": [
              "Tab(children=(Output(), Output()), _titles={'0': 'Youtube', '1': 'Bilibili'})"
            ]
          },
          "metadata": {
            "tags": []
          }
        }
      ]
    },
    {
      "cell_type": "markdown",
      "metadata": {
        "execution": {},
        "id": "nPSTz-tPKHLR"
      },
      "source": [
        "This video covers the example problem of fishing that we will cover in this tutorial.\n",
        "\n",
        "<details>\n",
        "<summary> <font color=‘blue’>Click here for text recap of video </font></summary>\n",
        "\n",
        "You were just introduced to the **binary hidden state problem** we are going to explore. You need to decide which side to fish on--the hidden state. We know fish like to school together. On different days the school of fish is either on the left or right side, but we don’t know what the case is today. We define our knowledge about the fish location as a distribution over the random hidden state variable. Using our probabilistic knowledge, also called our **belief** about the hidden state, we will explore how to make the decision about where to fish today, based on what to expect in terms of gains or losses for the decision.\n",
        "The gains and losss are defined by the utility of choosing an action, which is fishing on the left or right. The details of the utilities are described \n",
        "</details>\n",
        "\n",
        "In the next two sections we will consider just the probability of where the fish might be and what you gain or lose by choosing where to fish (leaving Bayesian approaches to the last few sections).\n",
        "\n",
        "Remember, you can either think of your self as a scientist conducting an experiment or as a brain trying to make a decision. The Bayesian approach is the same!\n"
      ]
    },
    {
      "cell_type": "markdown",
      "metadata": {
        "execution": {},
        "id": "RAliv4mVKHLR"
      },
      "source": [
        "---\n",
        "# Section 2: Deciding where to fish \n",
        "\n",
        "*Estimated timing to here from start of tutorial: 10 min*"
      ]
    },
    {
      "cell_type": "code",
      "metadata": {
        "cellView": "form",
        "execution": {},
        "id": "GyGWShOvKHLS",
        "outputId": "4dd0432e-8415-4e57-b9c5-7a3423453110",
        "colab": {
          "base_uri": "https://localhost:8080/",
          "height": 597,
          "referenced_widgets": [
            "cbb5567b35d5405b92d371352121c0b8",
            "037bc6493ea14fa89958228bfd0e79a7",
            "36ce2f57932c42a9b66137a53b1b38e8",
            "1e4f86092c60426d8ce9f39a0078ea76",
            "f96abdf2b21b492d988fd3af91e77c2e",
            "264817c8169643f3b27c29cdc5a85724"
          ]
        }
      },
      "source": [
        "# @title Video 3: Utility\n",
        "from ipywidgets import widgets\n",
        "\n",
        "out2 = widgets.Output()\n",
        "with out2:\n",
        "  from IPython.display import IFrame\n",
        "  class BiliVideo(IFrame):\n",
        "      def __init__(self, id, page=1, width=400, height=300, **kwargs):\n",
        "          self.id=id\n",
        "          src = 'https://player.bilibili.com/player.html?bvid={0}&page={1}'.format(id, page)\n",
        "          super(BiliVideo, self).__init__(src, width, height, **kwargs)\n",
        "\n",
        "  video = BiliVideo(id=\"BV1uL411H7ZE\", width=854, height=480, fs=1)\n",
        "  print('Video available at https://www.bilibili.com/video/{0}'.format(video.id))\n",
        "  display(video)\n",
        "\n",
        "out1 = widgets.Output()\n",
        "with out1:\n",
        "  from IPython.display import YouTubeVideo\n",
        "  video = YouTubeVideo(id=\"8-5RM0k3IKE\", width=854, height=480, fs=1, rel=0)\n",
        "  print('Video available at https://youtube.com/watch?v=' + video.id)\n",
        "  display(video)\n",
        "\n",
        "out = widgets.Tab([out1, out2])\n",
        "out.set_title(0, 'Youtube')\n",
        "out.set_title(1, 'Bilibili')\n",
        "\n",
        "display(out)"
      ],
      "execution_count": 8,
      "outputs": [
        {
          "output_type": "display_data",
          "data": {
            "application/vnd.jupyter.widget-view+json": {
              "model_id": "cbb5567b35d5405b92d371352121c0b8",
              "version_minor": 0,
              "version_major": 2
            },
            "text/plain": [
              "Tab(children=(Output(), Output()), _titles={'0': 'Youtube', '1': 'Bilibili'})"
            ]
          },
          "metadata": {
            "tags": []
          }
        }
      ]
    },
    {
      "cell_type": "markdown",
      "metadata": {
        "execution": {},
        "id": "NQaQksFxKHLS"
      },
      "source": [
        "This video covers utility and expected utility.\n",
        "\n",
        "<details>\n",
        "<summary> <font color=‘blue’>Click here for text recap of video </font></summary>\n",
        "\n",
        "You need to decide where to fish. It may seem obvious - you could just fish on the side where the probability of the fish being is higher! Unfortunately, decisions and actions are always a little more complicated. Deciding to fish may be influenced by more than just the probability of the school of fish being there as we saw by the potential issues of submarines and sunburn. The consequences of the action you take is based on the true (but hidden) state of the world and the action you choose! In our example, fishing on the wrong side, where there aren't many fish, is likely to lead to you spending your afternoon not catching fish and therefore getting a sunburn. The submarine represents a risk to fishing on the right side that is greater than the left side. If you want to know what to expect from taking the action of fishing on one side or the other, you need to calculate the expected utility.\n",
        "\n",
        "You know the (prior) probability that the school of fish is on the left side of the dock today, $P(s = \\textrm{left})$. So, you also know the probability the school is on the right, $P(s = \\textrm{right})$, because these two probabilities must add up to 1.\n",
        "\n",
        "We quantify gains and losses numerically using a **utility** function $U(s,a)$, which describes the consequences of your actions: how much value you gain (or if negative, lose) given the state of the world ($s$) and the action you take ($a$). In our example, our utility can be summarized as:\n",
        "\n",
        "| Utility: U(s,a)   | a = left   | a = right  |\n",
        "| ----------------- |------------|------------|\n",
        "| s = Left          | +2         | -3         |\n",
        "| s = right         | -2         | +1         |\n",
        "\n",
        "To use possible gains and losses to choose an action, we calculate the **expected utility** of that action by weighing these utilities with the probability of that state occuring. This allows us to choose actions by taking probabilities of events into account: we don't care if the outcome of an action-state pair is a loss if the probability of that state is very low. We can formalize this as:\n",
        "\n",
        "$$ \\text{Expected utility of action a} = \\sum_{s}U(s,a)P(s) $$\n",
        "\n",
        "In other words, the expected utility of an action a is the sum over possible states of the utility of that action and state times the probability of that state.\n",
        "\n",
        "</details>\n"
      ]
    },
    {
      "cell_type": "markdown",
      "metadata": {
        "execution": {},
        "id": "zbeKXnkfKHLU"
      },
      "source": [
        "## Interactive Demo 2: Exploring the decision\n",
        "\n",
        "Let's start to get a sense of how all this works using the interactive demo below. You can change the probability that the school of fish is on the left side,$p(s = \\textrm{left})$, using the slider. You will see the utility function (a matrix) in the middle and the corresponding expected utility for each action on the right.\n",
        "\n",
        "First, make sure you understand how the expected utility of each action is being computed from the probabilities and the utility values. In the initial state: the probability of the fish being on the left is 0.9 and on the right is 0.1. The expected utility of the action of fishing on the left is then $U(s = \\textrm{left},a = \\textrm{left})p(s = \\textrm{left}) + U(s = \\textrm{right},a = \\textrm{left})p(s = \\textrm{right}) = 2(0.9) + -2(0.1) = 1.6$. Essentially, to get the expected utility of action $a$, you are doing a weighted sum over the relevant column of the utility matrix (corresponding to action $a$) where the weights are the state probabilities.\n",
        "\n",
        "For each of these scenarios, think and discuss first. Then use the demo to try out each and see if your action would have been correct (that is, if the expected value of that action is the highest).\n",
        "\n",
        "\n",
        "1.  You just arrived at the dock for the first time and have no sense of where the fish might be. So you guess that the probability of the school being on the left side is 0.5 (so the probability on the right side is also 0.5). Which side would you choose to fish on given our utility values?\n",
        "2.  You think that the probability of the school being on the left side is very low (0.1) and correspondingly high on the right side (0.9). Which side would you choose to fish on given our utility values?\n",
        "3.  What would you choose if the probability of the school being on the left side is slightly lower than on the right side (0. 4 vs 0.6)?"
      ]
    },
    {
      "cell_type": "code",
      "metadata": {
        "cellView": "form",
        "execution": {},
        "id": "Mar70iqHKHLV",
        "outputId": "49f2bfda-c143-417d-931d-e3975d589f55",
        "colab": {
          "base_uri": "https://localhost:8080/",
          "height": 326,
          "referenced_widgets": [
            "42a7d6f65ba247149d13ad0206997b19",
            "e5a24e2ddc794581b96315f4e26c291d",
            "09ab3a1fadf34d68acaebf09f1e8c61e",
            "92e5fed908ad42859f86f03571b0a5c0",
            "a7ce880529af4fd487efea595f7c716f",
            "e874f9c48a6c4cf882f94eb72776d7f9",
            "3395bd7e08544b749a549ca7a1529cf1"
          ]
        }
      },
      "source": [
        "# @markdown Execute this cell to use the widget\n",
        "ps_widget = widgets.FloatSlider(0.9, description='p(s = left)', min=0.0, max=1.0, step=0.01)\n",
        "\n",
        "@widgets.interact(\n",
        "    ps = ps_widget,\n",
        ")\n",
        "def make_utility_plot(ps):\n",
        "    fig = plot_utility(ps)\n",
        "    plt.show(fig)\n",
        "    plt.close(fig)\n",
        "    return None"
      ],
      "execution_count": 9,
      "outputs": [
        {
          "output_type": "display_data",
          "data": {
            "application/vnd.jupyter.widget-view+json": {
              "model_id": "42a7d6f65ba247149d13ad0206997b19",
              "version_minor": 0,
              "version_major": 2
            },
            "text/plain": [
              "interactive(children=(FloatSlider(value=0.9, description='p(s = left)', max=1.0, step=0.01), Output()), _dom_c…"
            ]
          },
          "metadata": {
            "tags": []
          }
        }
      ]
    },
    {
      "cell_type": "markdown",
      "metadata": {
        "execution": {},
        "id": "qWuQP4ArKHLV"
      },
      "source": [
        "[*Click for solution*](https://github.com/NeuromatchAcademy/course-content/tree/master//tutorials/W3D1_BayesianDecisions/solutions/W3D1_Tutorial1_Solution_b21e7033.py)\n",
        "\n"
      ]
    },
    {
      "cell_type": "code",
      "metadata": {
        "cellView": "form",
        "execution": {},
        "id": "n7qzUFVVKHLV",
        "outputId": "9551c674-607c-4bd0-eab7-0306d6a7c6ca",
        "colab": {
          "base_uri": "https://localhost:8080/",
          "height": 597,
          "referenced_widgets": [
            "bb2a7611bff24b8aa5e2918d030d1304",
            "e081a06761194d42834b917b1b98e0db",
            "d8768b1b834d4953b5160ae2536be15a",
            "59fa02d48c73497da12026f8811a0a80",
            "bfbe93c6570843bd87913c8ce2020955",
            "8f64ae8d4a54426ba9b3fe2723c4faa0"
          ]
        }
      },
      "source": [
        "# @title Video 4: Utility Demo Discussion\n",
        "from ipywidgets import widgets\n",
        "\n",
        "out2 = widgets.Output()\n",
        "with out2:\n",
        "  from IPython.display import IFrame\n",
        "  class BiliVideo(IFrame):\n",
        "      def __init__(self, id, page=1, width=400, height=300, **kwargs):\n",
        "          self.id=id\n",
        "          src = 'https://player.bilibili.com/player.html?bvid={0}&page={1}'.format(id, page)\n",
        "          super(BiliVideo, self).__init__(src, width, height, **kwargs)\n",
        "\n",
        "  video = BiliVideo(id=\"BV1po4y1D7Fu\", width=854, height=480, fs=1)\n",
        "  print('Video available at https://www.bilibili.com/video/{0}'.format(video.id))\n",
        "  display(video)\n",
        "\n",
        "out1 = widgets.Output()\n",
        "with out1:\n",
        "  from IPython.display import YouTubeVideo\n",
        "  video = YouTubeVideo(id=\"GHQbmsEyQjE\", width=854, height=480, fs=1, rel=0)\n",
        "  print('Video available at https://youtube.com/watch?v=' + video.id)\n",
        "  display(video)\n",
        "\n",
        "out = widgets.Tab([out1, out2])\n",
        "out.set_title(0, 'Youtube')\n",
        "out.set_title(1, 'Bilibili')\n",
        "\n",
        "display(out)"
      ],
      "execution_count": 10,
      "outputs": [
        {
          "output_type": "display_data",
          "data": {
            "application/vnd.jupyter.widget-view+json": {
              "model_id": "bb2a7611bff24b8aa5e2918d030d1304",
              "version_minor": 0,
              "version_major": 2
            },
            "text/plain": [
              "Tab(children=(Output(), Output()), _titles={'0': 'Youtube', '1': 'Bilibili'})"
            ]
          },
          "metadata": {
            "tags": []
          }
        }
      ]
    },
    {
      "cell_type": "markdown",
      "metadata": {
        "execution": {},
        "id": "dMsrBEs2KHLX"
      },
      "source": [
        "In this section, you have seen that both the utility of various state and action pairs and our knowledge of the probability of each state affects your decision. Importantly, we want our knowledge of the probability of each state to be as accurate as possible! \n",
        "\n",
        "So how do we know these probabilities? We may have prior knowledge from years of fishing at the same dock, learning that the fish are more likely to be on the left side, for example. Of course, we need to update our knowledge (our belief)! To do this, we need to collect more information, or take some measurements! In the next few sections, we will focus on how we improve our knowledge of the probabilities."
      ]
    },
    {
      "cell_type": "markdown",
      "metadata": {
        "execution": {},
        "id": "Iar5N8sQKHLX"
      },
      "source": [
        "---\n",
        "# Section 3: Likelihood of the fish being on either side\n",
        "\n",
        "*Estimated timing to here from start of tutorial: 25 min*\n",
        " \n"
      ]
    },
    {
      "cell_type": "code",
      "metadata": {
        "cellView": "form",
        "execution": {},
        "id": "vMJNyqriKHLY",
        "outputId": "b921bd64-80ff-4d7c-88ae-37a1bc521088",
        "colab": {
          "base_uri": "https://localhost:8080/",
          "height": 597,
          "referenced_widgets": [
            "36be1ad930104fa39687d0baf993e5b8",
            "848a7ca8d52e4c17bfb794093d1951d7",
            "d7f4f658abf94eea88b337cdde3e6ffd",
            "24948c4fd8e340f18a83b16dbe8b0453",
            "07b68d72a98e40ffa0831d7c77c3aa1b",
            "8ee3c5dab6ff47d68eb04da92b826008"
          ]
        }
      },
      "source": [
        "# @title Video 5: Likelihood\n",
        "from ipywidgets import widgets\n",
        "\n",
        "out2 = widgets.Output()\n",
        "with out2:\n",
        "  from IPython.display import IFrame\n",
        "  class BiliVideo(IFrame):\n",
        "      def __init__(self, id, page=1, width=400, height=300, **kwargs):\n",
        "          self.id=id\n",
        "          src = 'https://player.bilibili.com/player.html?bvid={0}&page={1}'.format(id, page)\n",
        "          super(BiliVideo, self).__init__(src, width, height, **kwargs)\n",
        "\n",
        "  video = BiliVideo(id=\"BV1EK4y1u7AV\", width=854, height=480, fs=1)\n",
        "  print('Video available at https://www.bilibili.com/video/{0}'.format(video.id))\n",
        "  display(video)\n",
        "\n",
        "out1 = widgets.Output()\n",
        "with out1:\n",
        "  from IPython.display import YouTubeVideo\n",
        "  video = YouTubeVideo(id=\"Yv8MDjdm1l4\", width=854, height=480, fs=1, rel=0)\n",
        "  print('Video available at https://youtube.com/watch?v=' + video.id)\n",
        "  display(video)\n",
        "\n",
        "out = widgets.Tab([out1, out2])\n",
        "out.set_title(0, 'Youtube')\n",
        "out.set_title(1, 'Bilibili')\n",
        "\n",
        "display(out)"
      ],
      "execution_count": 11,
      "outputs": [
        {
          "output_type": "display_data",
          "data": {
            "application/vnd.jupyter.widget-view+json": {
              "model_id": "36be1ad930104fa39687d0baf993e5b8",
              "version_minor": 0,
              "version_major": 2
            },
            "text/plain": [
              "Tab(children=(Output(), Output()), _titles={'0': 'Youtube', '1': 'Bilibili'})"
            ]
          },
          "metadata": {
            "tags": []
          }
        }
      ]
    },
    {
      "cell_type": "markdown",
      "metadata": {
        "execution": {},
        "id": "j9hy0nZ5KHLZ"
      },
      "source": [
        "\n",
        "<details>\n",
        "<summary> <font color=‘blue’>Click here for text recap of video </font></summary>\n",
        "\n",
        "First, we'll think about what it means to take a measurement (also often called an observation or just data) and what it tells you about what the hidden state may be. Specifically, we'll be looking at the **likelihood**, which is the probability of your measurement ($m$) given the hidden state ($s$): $P(m | s)$. Remember that in this case, the hidden state is which side of the dock the school of fish is on.\n",
        "We will watch someone fish (for let's say 10 minutes) and our measurement is whether they catch a fish or not. We know something about what catching a fish means for the likelihood of the fish being on one side or the other.\n",
        "</details>"
      ]
    },
    {
      "cell_type": "markdown",
      "metadata": {
        "execution": {},
        "id": "YpSxiXxvKHLa"
      },
      "source": [
        "## Think! 3: Guessing the location of the fish\n",
        "\n",
        "Let's say we go to different dock to fish. Here, there are different probabilities of catching fish given the state of the world. At this dock, if you fish on the side of the dock where the fish are, you have a 70% chance of catching a fish. If you fish on the wrong side, you will catch a fish with only 20% probability. These are the likelihoods of observing someone catching a fish! That is, you are taking a measurement by seeing if someone else catches a fish!\n",
        "\n",
        "You see a fisherperson is fishing on the left side.\n",
        "\n",
        "1) Please figure out each of the following (might be easiest to do this separately and then compare notes):\n",
        "- probability of catching a fish given that the school of fish is on the left side, $P(m = \\textrm{catch fish} | s = \\textrm{left} )$\n",
        "- probability of not catching a fish given that the school of fish is on the left side, $P(m = \\textrm{no fish} | s = \\textrm{left})$\n",
        "- probability of catching a fish given that the school of fish is on the right side, $P(m = \\textrm{catch  fish} | s = \\textrm{right})$\n",
        "- probability of not catching a fish given that the school of fish is on the right side, $P(m = \\textrm{no fish} | s = \\textrm{right})$\n",
        "\n",
        "2) If the fisherperson catches a fish, which side would you guess the school is on? Why?\n",
        "\n",
        "3) If the fisherperson does not catch a fish, which side would you guess the school is on? Why?\n"
      ]
    },
    {
      "cell_type": "markdown",
      "metadata": {
        "execution": {},
        "id": "Cn5_166NKHLb"
      },
      "source": [
        "[*Click for solution*](https://github.com/NeuromatchAcademy/course-content/tree/master//tutorials/W3D1_BayesianDecisions/solutions/W3D1_Tutorial1_Solution_84eff60e.py)\n",
        "\n"
      ]
    },
    {
      "cell_type": "markdown",
      "metadata": {
        "execution": {},
        "id": "kiR09pBIKHLc"
      },
      "source": [
        "In the prior exercise, you tried to guess where the school of fish was based on the measurement you took (watching someone fish). You did this by choosing the state (side where you think the fish are) that maximized the probability of the measurement. In other words, you estimated the state by maximizing the likelihood (the side with the highest probability of measurement given state $P(m|s$)). This is called maximum likelihood estimation (MLE) and you've encountered it before during this course, in the [pre-reqs statistics day](https://compneuro.neuromatch.io/tutorials/W0D5_Statistics/student/W0D5_Tutorial2.html#section-2-2-maximum-likelihood) and on [Model Fitting day](https://compneuro.neuromatch.io/tutorials/W1D3_ModelFitting/student/W1D3_Tutorial2.html)!\n",
        "\n",
        "But, what if you had been going to this dock for years and you knew that the fish were almost always on the left side? This should probably affect how you make your estimate -- you would rely less on the single new measurement and more on your prior knowledge. This is the fundemental idea behind Bayesian inference, as we will see later in this tutorial!"
      ]
    },
    {
      "cell_type": "markdown",
      "metadata": {
        "execution": {},
        "id": "MthifPftKHLd"
      },
      "source": [
        "---\n",
        "# Section 4: Correlation and marginalization\n",
        "\n",
        "*Estimated timing to here from start of tutorial: 35 min*\n"
      ]
    },
    {
      "cell_type": "code",
      "metadata": {
        "cellView": "form",
        "execution": {},
        "id": "U0EI8VpsKHLe",
        "outputId": "1b917b4a-5281-4c09-a1c2-0d766102059a",
        "colab": {
          "base_uri": "https://localhost:8080/",
          "height": 597,
          "referenced_widgets": [
            "142b8fe8f65c4947a944c1000f865f5c",
            "751d5b1299ba4a19bec24d0c190d94aa",
            "b7628f3c2f224c76b5c73416bdd84c9a",
            "666472e96b7f406e97437c4f106e39b6",
            "ee9c1b3997984b29aa21572d44f30b6b",
            "e3c2992beff24ea58485947730fcb62e"
          ]
        }
      },
      "source": [
        "# @title Video 6: Correlation and marginalization\n",
        "from ipywidgets import widgets\n",
        "\n",
        "out2 = widgets.Output()\n",
        "with out2:\n",
        "  from IPython.display import IFrame\n",
        "  class BiliVideo(IFrame):\n",
        "      def __init__(self, id, page=1, width=400, height=300, **kwargs):\n",
        "          self.id=id\n",
        "          src = 'https://player.bilibili.com/player.html?bvid={0}&page={1}'.format(id, page)\n",
        "          super(BiliVideo, self).__init__(src, width, height, **kwargs)\n",
        "\n",
        "  video = BiliVideo(id=\"BV1Zq4y1p7N6\", width=854, height=480, fs=1)\n",
        "  print('Video available at https://www.bilibili.com/video/{0}'.format(video.id))\n",
        "  display(video)\n",
        "\n",
        "out1 = widgets.Output()\n",
        "with out1:\n",
        "  from IPython.display import YouTubeVideo\n",
        "  video = YouTubeVideo(id=\"iprFMHch2_g\", width=854, height=480, fs=1, rel=0)\n",
        "  print('Video available at https://youtube.com/watch?v=' + video.id)\n",
        "  display(video)\n",
        "\n",
        "out = widgets.Tab([out1, out2])\n",
        "out.set_title(0, 'Youtube')\n",
        "out.set_title(1, 'Bilibili')\n",
        "\n",
        "display(out)"
      ],
      "execution_count": 12,
      "outputs": [
        {
          "output_type": "display_data",
          "data": {
            "application/vnd.jupyter.widget-view+json": {
              "model_id": "142b8fe8f65c4947a944c1000f865f5c",
              "version_minor": 0,
              "version_major": 2
            },
            "text/plain": [
              "Tab(children=(Output(), Output()), _titles={'0': 'Youtube', '1': 'Bilibili'})"
            ]
          },
          "metadata": {
            "tags": []
          }
        }
      ]
    },
    {
      "cell_type": "markdown",
      "metadata": {
        "execution": {},
        "id": "-p3Vp_uQKHLe"
      },
      "source": [
        "## Section 4.1: Correlation"
      ]
    },
    {
      "cell_type": "markdown",
      "metadata": {
        "execution": {},
        "id": "hlU4_wysKHLf"
      },
      "source": [
        "In this section, we are going to take a step back for a bit and think more generally about the amount of information shared between two random variables. We want to know how much information you gain when you observe one variable (take a measurement) if you know something about another. We will see that the fundamental concept is the same if we think about two attributes, for example the size and color of the fish, or the prior information and the likelihood.\n"
      ]
    },
    {
      "cell_type": "markdown",
      "metadata": {
        "execution": {},
        "id": "583ISihoKHLf"
      },
      "source": [
        "### Think! 4.1: Covarying probability distributions\n",
        "\n",
        "The relationship between the marginal probabilities and the joint probabilities is determined by the correlation between the two random variables - a normalized measure of how much the variables covary. We can also think of this as gaining some information about one of the variables when we observe a measurement from the other. We will think about this more formally in Tutorial 2. \n",
        "\n",
        "Here, we want to think about how the correlation between size and color of these fish changes how much information we gain about one attribute based on the other. See Bonus Section 1 for the formula for correlation.\n",
        "\n",
        "Use the widget below and answer the following questions:\n",
        "\n",
        "1. When the correlation is zero, $\\rho = 0$, what does the distribution of size tell you about color?\n",
        "2. Set $\\rho$ to something small. As you change the probability of golden fish, what happens to the ratio of size probabilities? Set $\\rho$ larger (can be negative). Can you explain the pattern of changes in the probabilities of size as you change the probability of golden fish?\n",
        "3. Set the probability of golden fish and of large fish to around 65%. As the correlation goes towards 1, how often will you see silver large fish?\n",
        "4. What is increasing the (absolute) correlation telling you about how likely you are to see one of the properties if you see a fish with the other?\n"
      ]
    },
    {
      "cell_type": "code",
      "metadata": {
        "execution": {},
        "id": "ev0bl434KHLg",
        "outputId": "86077a4e-41dc-4e75-adde-bbcd030a9de8",
        "colab": {
          "base_uri": "https://localhost:8080/",
          "height": 474,
          "referenced_widgets": [
            "02d993d9b29b4dd7bea81884d08b87fd",
            "ed2257bb5d2345a68a237debbbed68a2",
            "40f1b41cab724cff8a7b5c81ec32beda",
            "aabc52dbddc1406caca8444ddf34548e",
            "eedfe55057a34625adad7c7877fedef5",
            "36e4539976274ad8a90d34f22e01cbbb",
            "e960efc7e5894482bafe26f028846499",
            "ca442ddd23d6418f8474699f48d17e42",
            "bef859ddbf4245bb92071cc5e2c53293",
            "e2faf18134dd4781ae83133815bc1ba4",
            "99c921344711479ebbe36a938333a72c",
            "f8c9e43e10c54b099da59580d9e48ebc",
            "bb4136b19b3e4c02bdbeda25d4888275"
          ]
        }
      },
      "source": [
        "# @markdown Execute this cell to enable the widget\n",
        "style = {'description_width': 'initial'}\n",
        "gs = GridspecLayout(2,2)\n",
        "\n",
        "cor_widget = widgets.FloatSlider(0.0, description='ρ', min=-1, max=1, step=0.01)\n",
        "px_widget = widgets.FloatSlider(0.5, description='p(color=golden)', min=0.01, max=0.99, step=0.01, style=style)\n",
        "py_widget = widgets.FloatSlider(0.5, description='p(size=large)', min=0.01, max=0.99, step=0.01, style=style)\n",
        "gs[0,0] = cor_widget\n",
        "gs[0,1] = px_widget\n",
        "gs[1,0] = py_widget\n",
        "\n",
        "\n",
        "@widgets.interact(\n",
        "    px=px_widget,\n",
        "    py=py_widget,\n",
        "    cor=cor_widget,\n",
        ")\n",
        "def make_corr_plot(px, py, cor):\n",
        "    Cmin, Cmax = compute_cor_range(px, py) #allow correlation values\n",
        "    cor_widget.min, cor_widget.max = Cmin+0.01, Cmax-0.01\n",
        "    if cor_widget.value > Cmax:\n",
        "        cor_widget.value = Cmax\n",
        "    if cor_widget.value < Cmin:\n",
        "        cor_widget.value = Cmin\n",
        "    cor = cor_widget.value\n",
        "    P = compute_marginal(px,py,cor)\n",
        "    # print(P)\n",
        "    fig = plot_joint_probs(P)\n",
        "    plt.show(fig)\n",
        "    plt.close(fig)\n",
        "    return None\n",
        "\n",
        "# gs[1,1] = make_corr_plot()"
      ],
      "execution_count": 23,
      "outputs": [
        {
          "output_type": "display_data",
          "data": {
            "application/vnd.jupyter.widget-view+json": {
              "model_id": "02d993d9b29b4dd7bea81884d08b87fd",
              "version_minor": 0,
              "version_major": 2
            },
            "text/plain": [
              "interactive(children=(FloatSlider(value=0.5, description='p(color=golden)', layout=Layout(grid_area='widget002…"
            ]
          },
          "metadata": {
            "tags": []
          }
        }
      ]
    },
    {
      "cell_type": "markdown",
      "metadata": {
        "execution": {},
        "id": "0CMxCWvCKHLh"
      },
      "source": [
        "[*Click for solution*](https://github.com/NeuromatchAcademy/course-content/tree/master//tutorials/W3D1_BayesianDecisions/solutions/W3D1_Tutorial1_Solution_5567dab4.py)\n",
        "\n"
      ]
    },
    {
      "cell_type": "markdown",
      "metadata": {
        "execution": {},
        "id": "zjuhXdE0KHLi"
      },
      "source": [
        "We have just seen how two random variables can be more or less independent. The more correlated, the less independent, and the more shared information. We also learned that we can marginalize to determine the marginal likelihood of a measurement or to find the marginal probability distribution of two random variables. We are going to now complete our journey towards being fully Bayesian!"
      ]
    },
    {
      "cell_type": "markdown",
      "metadata": {
        "execution": {},
        "id": "rluRbqiYKHLi"
      },
      "source": [
        "## Section 4.2: Marginalisation"
      ]
    },
    {
      "cell_type": "markdown",
      "metadata": {
        "execution": {},
        "id": "AsUDntAQKHLi"
      },
      "source": [
        "\n",
        "<details>\n",
        "<summary> <font color=‘blue’>Click here for text recap of relevant part of video </font></summary>\n",
        "\n",
        "We may want to find the probability of one variable while ignoring another: we will do this by averaging out, or marginalizing, the irrelevant variable.\n",
        "\n",
        "We will think of this in two different ways.\n",
        "\n",
        "In the first math exercise, you will think about the case where you know the joint probabilities of two variables and want to figure out the probability of just one variable. To make this explicit, let's assume that a fish has a color that is either gold or silver (our first variable) and a size that is either small or large (our second). We could write out the the **joint probabilities**: the probability of both specific attributes occuring together. For example, the probability of a fish being small and silver, $P(X = \\textrm{small}, Y = \\textrm{silver})$, is 0.4. The following table summarizes our joint probabilities:\n",
        "\n",
        "| P(X, Y)        | Y = silver  | Y = gold  |\n",
        "| -------------- |-------------|-----------|\n",
        "| X = small      | 0.4         | 0.2       |\n",
        "| X = large      | 0.1         | 0.3       |\n",
        "\n",
        "\n",
        "We want to know what the probability of a fish being small  regardless of color. Since the fish are either silver or gold, this would be the probability of a fish being small and silver plus the probability of a fish being small and gold. This is an example of marginalizing, or averaging out, the variable we are not interested in across the rows or columns.. In math speak: $P(X = \\textrm{small}) = \\sum_y{P(X = \\textrm{small}, Y)}$. This gives us a **marginal probability**, a probability of a variable outcome (in this case size), regardless of the other variables (in this case color).\n",
        "\n",
        "More generally, we can marginalize out a second irrelevant variable $y$ by summing over the relevant joint probabilities:\n",
        "\n",
        "$$p(x) = \\sum_y p(x, y) $$\n",
        "\n",
        "\n",
        "In the second math exercise, you will remove an unknown (the hidden state) to find the marginal probability of a measurement. You will do this by marginalizing out the hidden state. In this case, you know the conditional probabilities of the measurement given state and the probabilities of each state. You can marginalize using:\n",
        "\n",
        "$$p(m) = \\sum_s p(m | s) p(s) $$\n",
        "\n",
        "These two ways of thinking about marginalization (as averaging over joint probabilities or conditioning on some variable) are equivalent because the joint probability of two variables equals the conditional probability of the first given the second times the marginal probability of the second:\n",
        "\n",
        "$$p(x, y) = p(x|y)p(y)$$ \n",
        "\n"
      ]
    },
    {
      "cell_type": "markdown",
      "metadata": {
        "execution": {},
        "id": "O66lldgxKHLj"
      },
      "source": [
        "### Math Exercise 4.2.1: Computing marginal probabilities\n",
        "\n",
        "To understand the information between two variables, let's first consider the joint probabilities over the size and color of the fish.\n",
        "\n",
        "| P(X, Y)        | Y = silver  | Y = gold  |\n",
        "| -------------- |-------------|-----------|\n",
        "| X = small      | 0.4         | 0.2       |\n",
        "| X = large      | 0.1         | 0.3       |\n",
        "\n",
        "Please complete the following math problems to further practice thinking through probabilities:\n",
        "\n",
        "1. Calculate the probability of a fish being silver.\n",
        "2. Calculate the probability of a fish being small, large, silver, or gold.\n",
        "3. Calculate the probability of a fish being small OR gold. (Hint: $P(A\\ \\textrm{or}\\ B) = P(A) + P(B) - P(A\\ \\textrm{and}\\ B)$)\n",
        "\n",
        "**We don't typically have math exercises in NMA but feel it is important for you to really compute this out yourself. Feel free to use the next cell to write out the math if helpful, or use paper and pen. We recommend doing this exercise individually first and then comparing notes and discussing.**\n"
      ]
    },
    {
      "cell_type": "code",
      "metadata": {
        "execution": {},
        "id": "I5X_qReyKHLj",
        "outputId": "74791d39-8c4e-44e4-995a-bfdc04ae123a",
        "colab": {
          "base_uri": "https://localhost:8080/",
          "height": 90
        }
      },
      "source": [
        "\"\"\"\n",
        "\n",
        "Joint probabilities\n",
        "\n",
        "P( X = small, Y = silver) = 0.4\n",
        "P( X = large, Y = silver) = 0.1\n",
        "P( X = small, Y = gold) = 0.2\n",
        "P( X = large, Y = gold) = 0.3\n",
        "\n",
        "\n",
        "1. P(Y = silver) = ...\n",
        "\n",
        "2. P(X = small or large, Y = silver or gold) = ...\n",
        "\n",
        "3. P( X = small or Y = gold) = ...\n",
        "\n",
        "\"\"\""
      ],
      "execution_count": 14,
      "outputs": [
        {
          "output_type": "execute_result",
          "data": {
            "application/vnd.google.colaboratory.intrinsic+json": {
              "type": "string"
            },
            "text/plain": [
              "'\\n\\nJoint probabilities\\n\\nP( X = small, Y = silver) = 0.4\\nP( X = large, Y = silver) = 0.1\\nP( X = small, Y = gold) = 0.2\\nP( X = large, Y = gold) = 0.3\\n\\n\\n1. P(Y = silver) = ...\\n\\n2. P(X = small or large, Y = silver or gold) = ...\\n\\n3. P( X = small or Y = gold) = ...\\n\\n'"
            ]
          },
          "metadata": {
            "tags": []
          },
          "execution_count": 14
        }
      ]
    },
    {
      "cell_type": "markdown",
      "metadata": {
        "execution": {},
        "id": "KIrNGkmsKHLj"
      },
      "source": [
        "[*Click for solution*](https://github.com/NeuromatchAcademy/course-content/tree/master//tutorials/W3D1_BayesianDecisions/solutions/W3D1_Tutorial1_Solution_a2c6d43f.py)\n",
        "\n"
      ]
    },
    {
      "cell_type": "markdown",
      "metadata": {
        "execution": {},
        "id": "KxN4nHv4KHLk"
      },
      "source": [
        "### Math Exercise 4.2.2: Computing marginal likelihood\n",
        "\n",
        "When we normalize to find the posterior, we need to determine the marinal likelihood--or evidence--for the measurement we observed. To do this, we need to marginalize as we just did above to find the probabilities of a color or size. Only, in this case, we are marginalizing to remove a conditioning variable! In this case, let's consider the likelihood of fish (if we observed a fisherperson fishing on the **right**).\n",
        "\n",
        "| p(m\\|s)       | m = fish | m = no fish  |\n",
        "| ------------ | ---------- | -------------- |\n",
        "| s = left     | 0.1      | 0.9          |\n",
        "| s = right    | 0.5      | 0.5          |\n",
        "\n",
        "\n",
        "The table above shows us the **likelihoods**, just as we explored earlier.\n",
        "\n",
        "You want to know the total probability of a fish being caught, $P(m = \\textrm{fish})$, by the fisherperson fishing on the right. (You would need this to calcualate the posterior.) To do this, you will need to consider the prior probability, $p(s)$, and marginalize over the hidden states!\n",
        "\n",
        "This is an example of marginalizing, or conditioning away, the variable we are not interested in as well.\n",
        "\n",
        "Please complete the following math problems to further practice thinking through probabilities:\n",
        "\n",
        "1. Calculate the marginal likelihood of the fish being caught, $P(m = \\textrm{fish})$, if the priors are: $p(s = \\textrm{left}) = 0.3$ and $p(s = \\textrm{right}) = 0.7$.\n",
        "2. Calculate the marginal likelihood of the fish being caught,  $P(m = \\textrm{fish})$, if the priors are: $p(s = \\textrm{left}) = 0.6$ and $p(s = \\textrm{right}) = 0.4$.\n",
        "\n",
        "**We don't typically have math exercises in NMA but feel it is important for you to really compute this out yourself. Feel free to use the next cell to write out the math if helpful, or use paper and pen. We recommend doing this exercise individually first and then comparing notes and discussing.**\n"
      ]
    },
    {
      "cell_type": "code",
      "metadata": {
        "execution": {},
        "id": "hZXamu2eKHLk",
        "outputId": "303e167e-0bf6-43c6-8b81-3baf3ba95033",
        "colab": {
          "base_uri": "https://localhost:8080/",
          "height": 72
        }
      },
      "source": [
        "\"\"\"\n",
        "\n",
        "Priors\n",
        "P(s = left) = 0.3\n",
        "P(s = right) = 0.7\n",
        "\n",
        "Likelihoods\n",
        "P(m = fish | s = left) = 0.1\n",
        "P(m = fish | s = right) = 0.5\n",
        "P(m = no fish | s = left) = 0.9\n",
        "P(m = no fish | s = right) = 0.5\n",
        "\n",
        "1. P(m = fish) = ...\n",
        "\n",
        "2. P(m = fish) = ...\n",
        "\n",
        "\"\"\""
      ],
      "execution_count": 15,
      "outputs": [
        {
          "output_type": "execute_result",
          "data": {
            "application/vnd.google.colaboratory.intrinsic+json": {
              "type": "string"
            },
            "text/plain": [
              "'\\n\\nPriors\\nP(s = left) = 0.3\\nP(s = right) = 0.7\\n\\nLikelihoods\\nP(m = fish | s = left) = 0.1\\nP(m = fish | s = right) = 0.5\\nP(m = no fish | s = left) = 0.9\\nP(m = no fish | s = right) = 0.5\\n\\n1. P(m = fish) = ...\\n\\n2. P(m = fish) = ...\\n\\n'"
            ]
          },
          "metadata": {
            "tags": []
          },
          "execution_count": 15
        }
      ]
    },
    {
      "cell_type": "markdown",
      "metadata": {
        "execution": {},
        "id": "XQAp1OwDKHLl"
      },
      "source": [
        "[*Click for solution*](https://github.com/NeuromatchAcademy/course-content/tree/master//tutorials/W3D1_BayesianDecisions/solutions/W3D1_Tutorial1_Solution_16d6767a.py)\n",
        "\n"
      ]
    },
    {
      "cell_type": "markdown",
      "metadata": {
        "execution": {},
        "id": "f0L0Ze9vKHLl"
      },
      "source": [
        "---\n",
        "# Section 5: Bayes' Rule and the Posterior\n",
        "\n",
        "*Estimated timing to here from start of tutorial: 55 min*"
      ]
    },
    {
      "cell_type": "code",
      "metadata": {
        "cellView": "form",
        "execution": {},
        "id": "O3Q--Z93KHLm",
        "outputId": "9bb23869-8df9-4543-86dc-4d9c109b3156",
        "colab": {
          "base_uri": "https://localhost:8080/",
          "height": 597,
          "referenced_widgets": [
            "e743aeeb588841e0b3ac7bfa73a20b7b",
            "f19d727e3d7f4dab9a3f5210c51416f3",
            "72621323f5e647338fe63bc5228cca59",
            "7798204ca882428997c41a8dbc6bc493",
            "dadce6f948774590b6ac9c56b720f3d1",
            "5cb8b3a3ae54471a8882acdffc2c22b7"
          ]
        }
      },
      "source": [
        "# @title Video 7: Posterior Beliefs\n",
        "from ipywidgets import widgets\n",
        "\n",
        "out2 = widgets.Output()\n",
        "with out2:\n",
        "  from IPython.display import IFrame\n",
        "  class BiliVideo(IFrame):\n",
        "      def __init__(self, id, page=1, width=400, height=300, **kwargs):\n",
        "          self.id=id\n",
        "          src = 'https://player.bilibili.com/player.html?bvid={0}&page={1}'.format(id, page)\n",
        "          super(BiliVideo, self).__init__(src, width, height, **kwargs)\n",
        "\n",
        "  video = BiliVideo(id=\"BV1fK4y1M7EC\", width=854, height=480, fs=1)\n",
        "  print('Video available at https://www.bilibili.com/video/{0}'.format(video.id))\n",
        "  display(video)\n",
        "\n",
        "out1 = widgets.Output()\n",
        "with out1:\n",
        "  from IPython.display import YouTubeVideo\n",
        "  video = YouTubeVideo(id=\"cOAJQ4utwD0\", width=854, height=480, fs=1, rel=0)\n",
        "  print('Video available at https://youtube.com/watch?v=' + video.id)\n",
        "  display(video)\n",
        "\n",
        "out = widgets.Tab([out1, out2])\n",
        "out.set_title(0, 'Youtube')\n",
        "out.set_title(1, 'Bilibili')\n",
        "\n",
        "display(out)"
      ],
      "execution_count": 16,
      "outputs": [
        {
          "output_type": "display_data",
          "data": {
            "application/vnd.jupyter.widget-view+json": {
              "model_id": "e743aeeb588841e0b3ac7bfa73a20b7b",
              "version_minor": 0,
              "version_major": 2
            },
            "text/plain": [
              "Tab(children=(Output(), Output()), _titles={'0': 'Youtube', '1': 'Bilibili'})"
            ]
          },
          "metadata": {
            "tags": []
          }
        }
      ]
    },
    {
      "cell_type": "markdown",
      "metadata": {
        "execution": {},
        "id": "2Xi3-JxkKHLm"
      },
      "source": [
        "Marginalization is going to be used to combine our prior knowlege, which we call the **prior**, and our new information from a measurement, the **likelihood**. Only in this case, the information we gain about the hidden state we are interested in, where the fish are, is based on the relationship between the probabilities of the measurement and our prior. \n",
        "\n",
        "We can now calculate the full posterior distribution for the hidden state ($s$) using Bayes' Rule. As we've seen, the posterior is proportional the the prior times the likelihood. This means that the posterior probability of the hidden state ($s$) given a measurement ($m$) is proportional to the likelihood of the measurement given the state times the prior probability of that state:\n",
        "\n",
        "$$ P(s | m) \\propto P(m | s) P(s)  $$\n",
        "\n",
        "We say proportional to instead of equal because we need to normalize to produce a full probability distribution:\n",
        "\n",
        "$$ P(s | m) = \\frac{P(m | s) P(s)}{P(m)}  $$\n",
        "\n",
        "Normalizing by this $P(m)$ means that our posterior is a complete probability distribution that sums or integrates to 1 appropriately. We now can use this new, complete probability distribution for any future inference or decisions we like! In fact, as we will see tomorrow, we can use it as a new prior! Finally, we often call this probability distribution our beliefs over the hidden states, to emphasize that it is our subjective knowlege about the hidden state.\n",
        "\n",
        "For many complicated cases, like those we might be using to model behavioral or brain inferences, the normalization term can be intractable or extremely complex to calculate. We can be careful to choose probability distributions were we can analytically calculate the posterior probability or numerical approximation is reliable. Better yet, we sometimes don't need to bother with this normalization! The normalization term, $P(m)$, is the probability of the measurement. This does not depend on state so is essentially a constant we can often ignore. We can compare the unnormalized posterior distribution values for different states because how they relate to each other is unchanged when divided by the same constant. We will see how to do this to compare evidence for different hypotheses tomorrow. (It's also used to compare the likelihood of models fit using maximum likelihood estimation)\n",
        "\n",
        "In this relatively simple example, we can compute the marginal likelihood $P(m)$ easily by using:\n",
        "$$P(m) = \\sum_s P(m | s) P(s)$$\n",
        "We can then normalize so that we deal with the full posterior distribution.\n",
        "\n"
      ]
    },
    {
      "cell_type": "markdown",
      "metadata": {
        "execution": {},
        "id": "TDrFylOQKHLm"
      },
      "source": [
        "## Math Exercise 5: Calculating a posterior probability\n",
        "\n",
        "Our prior is $p(s = \\textrm{left}) = 0.3$ and $p(s = \\textrm{right}) = 0.7$. In the video, we learned that the chance of catching a fish given they fish on the same side as the school was 50%. Otherwise, it was 10%. We observe a person fishing on the left side. Our likelihood is: \n",
        "\n",
        "\n",
        "| Likelihood: p(m \\| s) | m = fish   | m = no fish  |\n",
        "| ----------------- |----------|----------|\n",
        "| s = left          | 0.5          | 0.5         |\n",
        "| s = right         | 0.1        |  0.9       |\n",
        "\n",
        "\n",
        "Calculate the posterior probability (on paper) that:\n",
        "\n",
        "1. The school is on the left if the fisherperson catches a fish: $p(s = \\textrm{left} | m = \\textrm{fish})$ (hint: normalize by computing $p(m = \\textrm{fish})$)\n",
        "2. The school is on the right if the fisherperson does not catch a fish: $p(s = \\textrm{right} | m = \\textrm{no fish})$\n",
        "\n",
        "**We don't typically have math exercises in NMA but feel it is important for you to really compute this out yourself. Feel free to use the next cell to write out the math if helpful, or use paper and pen. We recommend doing this exercise individually first and then comparing notes and discussing.**"
      ]
    },
    {
      "cell_type": "code",
      "metadata": {
        "execution": {},
        "id": "1ZW1utbAKHLn",
        "outputId": "dcc48c63-b084-4e2c-ce6e-db6db00e2284",
        "colab": {
          "base_uri": "https://localhost:8080/",
          "height": 90
        }
      },
      "source": [
        "\"\"\"\n",
        "Priors\n",
        "p(s = left) = 0.3\n",
        "p(s = right) = 0.7\n",
        "\n",
        "Likelihoods\n",
        "P(m = fish | s = left) = 0.5\n",
        "P(m = fish | s = right) = 0.1\n",
        "P(m = no fish | s = left) = 0.5\n",
        "P(m = no fish | s = right) = 0.9\n",
        "\n",
        "1. p( s = left | m = fish) = P(m = fish | s = left)P(s = left) / P(m = fish)\n",
        "\n",
        "2. p( s = right | m = no fish ) = ...\n",
        "\n",
        "\"\"\""
      ],
      "execution_count": 17,
      "outputs": [
        {
          "output_type": "execute_result",
          "data": {
            "application/vnd.google.colaboratory.intrinsic+json": {
              "type": "string"
            },
            "text/plain": [
              "'\\nPriors\\np(s = left) = 0.3\\np(s = right) = 0.7\\n\\nLikelihoods\\nP(m = fish | s = left) = 0.5\\nP(m = fish | s = right) = 0.1\\nP(m = no fish | s = left) = 0.5\\nP(m = no fish | s = right) = 0.9\\n\\n1. p( s = left | m = fish) = ...\\n\\n2. p( s = right | m = no fish ) = ...\\n\\n'"
            ]
          },
          "metadata": {
            "tags": []
          },
          "execution_count": 17
        }
      ]
    },
    {
      "cell_type": "markdown",
      "metadata": {
        "execution": {},
        "id": "ExsMBbKgKHLn"
      },
      "source": [
        "[*Click for solution*](https://github.com/NeuromatchAcademy/course-content/tree/master//tutorials/W3D1_BayesianDecisions/solutions/W3D1_Tutorial1_Solution_1fcd83ee.py)\n",
        "\n"
      ]
    },
    {
      "cell_type": "markdown",
      "metadata": {
        "execution": {},
        "id": "cc4jxJ3BKHLo"
      },
      "source": [
        "## Coding Exercise 5: Computing Posteriors\n",
        "\n",
        "Let's implement our above math to be able to compute posteriors for different priors and likelihoods.\n",
        "\n",
        "As before, our prior is $p(s = \\textrm{left}) = 0.3$ and $p(s = \\textrm{right}) = 0.7$. In the video, we learned that the chance of catching a fish given they fish on the same side as the school was 50%. Otherwise, it was 10%. We observe a person fishing on the left side. Our likelihood is: \n",
        "\n",
        "\n",
        "| Likelihood: p(m \\| s) | m = fish   | m = no fish  |\n",
        "| ----------------- |----------|----------|\n",
        "| s = left          | 0.5          | 0.5         |\n",
        "| s = right         | 0.1        |  0.9       |\n",
        "\n",
        "\n",
        "We want our full posterior to take the same 2 by 2 form. Make sure the outputs match your math answers!\n",
        "\n"
      ]
    },
    {
      "cell_type": "code",
      "metadata": {
        "execution": {},
        "id": "HNTY3oBkKHLo"
      },
      "source": [
        "def compute_posterior(likelihood, prior):\n",
        "  \"\"\" Use Bayes' Rule to compute posterior from likelihood and prior\n",
        "\n",
        "  Args:\n",
        "    likelihood (ndarray): i x j array with likelihood probabilities where i is\n",
        "                    number of state options, j is number of measurement options\n",
        "    prior (ndarray): i x 1 array with prior probability of each state\n",
        "\n",
        "  Returns:\n",
        "    ndarray: i x j array with posterior probabilities where i is\n",
        "            number of state options, j is number of measurement options\n",
        "\n",
        "  \"\"\"\n",
        "\n",
        "  #################################################\n",
        "  ## TODO for students ##\n",
        "  # Fill out function and remove\n",
        "  raise NotImplementedError(\"Student exercise: implement compute_posterior\")\n",
        "  #################################################\n",
        "\n",
        "  # Compute unnormalized posterior (likelihood times prior)\n",
        "  posterior = ... # first row is s = left, second row is s = right\n",
        "\n",
        "  # Compute p(m)\n",
        "  p_m = np.sum(posterior, axis = 0)\n",
        "\n",
        "  # Normalize posterior (divide elements by p_m)\n",
        "  posterior /= ...\n",
        "\n",
        "  return posterior\n",
        "\n",
        "\n",
        "# Make prior\n",
        "prior = np.array([0.3, 0.7]).reshape((2, 1)) # first row is s = left, second row is s = right\n",
        "\n",
        "# Make likelihood\n",
        "likelihood = np.array([[0.5, 0.5], [0.1, 0.9]]) # first row is s = left, second row is s = right\n",
        "\n",
        "# Compute posterior\n",
        "posterior = compute_posterior(likelihood, prior)\n",
        "\n",
        "# Visualize\n",
        "plot_prior_likelihood_posterior(prior, likelihood, posterior)"
      ],
      "execution_count": null,
      "outputs": []
    },
    {
      "cell_type": "markdown",
      "metadata": {
        "execution": {},
        "id": "5lN7sfRyKHLp"
      },
      "source": [
        "[*Click for solution*](https://github.com/NeuromatchAcademy/course-content/tree/master//tutorials/W3D1_BayesianDecisions/solutions/W3D1_Tutorial1_Solution_1a2cc907.py)\n",
        "\n",
        "*Example output:*\n",
        "\n",
        "<img alt='Solution hint' align='left' width=1665.0 height=674.0 src=https://raw.githubusercontent.com/NeuromatchAcademy/course-content/master/tutorials/W3D1_BayesianDecisions/static/W3D1_Tutorial1_Solution_1a2cc907_0.png>\n",
        "\n"
      ]
    },
    {
      "cell_type": "markdown",
      "metadata": {
        "execution": {},
        "id": "xA9NlpNaKHLp"
      },
      "source": [
        "## Interactive Demo 5: What affects the posterior?\n",
        "\n",
        "Now that we can understand the implementation of *Bayes rule*, let's vary the parameters of the prior and likelihood to see how changing the prior and likelihood affect the posterior. \n",
        "\n",
        "In the demo below, you can change the prior by playing with the slider for $p( s = left)$. You can also change the likelihood by changing the probability of catching a fish given that the school is on the left and the probability of catching a fish given that the school is on the right. The fisherperson you are observing is fishing on the left.\n",
        " \n",
        "\n",
        "1.   Keeping the likelihood constant, when does the prior have the strongest influence over the posterior? Meaning, when does the posterior look most like the prior no matter whether a fish was caught or not?\n",
        "2.   What happens if the likelihoods for catching a fish are similar when you fish on the correct or incorrect side?\n",
        "3.  Set the prior probability of the state = left to 0.6 and play with the likelihood. When does the likelihood exert the most influence over the posterior?"
      ]
    },
    {
      "cell_type": "code",
      "metadata": {
        "cellView": "form",
        "execution": {},
        "id": "XS8kvkl_KHLq",
        "outputId": "9a98d631-b8e0-43dc-b00c-4e4102e0283f",
        "colab": {
          "base_uri": "https://localhost:8080/",
          "height": 458,
          "referenced_widgets": [
            "af2d84c9d04e4df4b5dca37be483316c",
            "7d1dd767e2b74e82b9d91ad5c431eb92",
            "d1de7ec97ea44b43b671949e7bc44736",
            "f25008c7414a463db6a2dc519f3204e1",
            "f168407161a040259df61ca7f97f49e8",
            "368860e7b6c3474aa8029e681a10bd68",
            "1b2eebed2c47468681953fdf4e32cf1c",
            "52203517da3b4e4498ce50e6f9c4d52d",
            "31d614addd83485693c5c340642b4fcb",
            "ecfd9c07c1244f8a97bb6179af22015c",
            "d6683099e0d3492ab56c48fc651ecbd8",
            "77f48aaef49648b49193dee2d4fb8b47",
            "fc1371be45c84fb1810d6d921cddc370",
            "d12f09aa62f8458380b447abf1e4e706",
            "4d4a6dee87714202ab24543e205a5558",
            "608410230c614b5b84cd42f88820e48a",
            "6fbc0010a0534fe2aefe529d5f33d529",
            "494c8105414f42699ab02b0c25ed2c74"
          ]
        }
      },
      "source": [
        "# @markdown Execute this cell to enable the widget\n",
        "# style = {'description_width': 'initial'}\n",
        "ps_widget = widgets.FloatSlider(0.3, description='p(s = left)',\n",
        "                                min=0.01, max=0.99, step=0.01)\n",
        "p_a_s1_widget = widgets.FloatSlider(0.5, description='p(fish on left | state = left)',\n",
        "                                    min=0.01, max=0.99, step=0.01, style=style, layout=Layout(width='370px'))\n",
        "p_a_s0_widget = widgets.FloatSlider(0.1, description='p(fish on left | state = right)',\n",
        "                                    min=0.01, max=0.99, step=0.01, style=style, layout=Layout(width='370px'))\n",
        "# observed_widget = widgets.Checkbox(value=False, description='Observed fish (m)',\n",
        "#                                  disabled=False, indent=False,\n",
        "#                                  layout=Layout(display=\"flex\", justify_content=\"center\"))\n",
        "\n",
        "observed_widget = ToggleButtons(options=['Fish', 'No Fish'],\n",
        "    description='Observation (m) on the left:', disabled=False, button_style='',\n",
        "    layout=Layout(width='auto', display=\"flex\"),\n",
        "    style={'description_width': 'initial'}\n",
        ")\n",
        "\n",
        "widget_ui = VBox([ps_widget,\n",
        "                  HBox([p_a_s1_widget, p_a_s0_widget]),\n",
        "                  observed_widget])\n",
        "widget_out = interactive_output(plot_prior_likelihood,\n",
        "                                {'ps': ps_widget,\n",
        "                                'p_a_s1': p_a_s1_widget,\n",
        "                                'p_a_s0': p_a_s0_widget,\n",
        "                                'measurement': observed_widget})\n",
        "display(widget_ui, widget_out)\n",
        "\n",
        "# @widgets.interact(\n",
        "#     ps=ps_widget,\n",
        "#     p_a_s1=p_a_s1_widget,\n",
        "#     p_a_s0=p_a_s0_widget,\n",
        "#     m_right=observed_widget\n",
        "# )\n",
        "# def make_prior_likelihood_plot(ps,p_a_s1,p_a_s0,m_right):\n",
        "#     fig = plot_prior_likelihood(ps,p_a_s1,p_a_s0,m_right)\n",
        "#     plt.show(fig)\n",
        "#     plt.close(fig)\n",
        "#     return None"
      ],
      "execution_count": 18,
      "outputs": [
        {
          "output_type": "display_data",
          "data": {
            "application/vnd.jupyter.widget-view+json": {
              "model_id": "af2d84c9d04e4df4b5dca37be483316c",
              "version_minor": 0,
              "version_major": 2
            },
            "text/plain": [
              "VBox(children=(FloatSlider(value=0.3, description='p(s = left)', max=0.99, min=0.01, step=0.01), HBox(children…"
            ]
          },
          "metadata": {
            "tags": []
          }
        },
        {
          "output_type": "display_data",
          "data": {
            "application/vnd.jupyter.widget-view+json": {
              "model_id": "6fbc0010a0534fe2aefe529d5f33d529",
              "version_minor": 0,
              "version_major": 2
            },
            "text/plain": [
              "Output()"
            ]
          },
          "metadata": {
            "tags": []
          }
        }
      ]
    },
    {
      "cell_type": "markdown",
      "metadata": {
        "execution": {},
        "id": "ndqh8E1EKHLr"
      },
      "source": [
        "[*Click for solution*](https://github.com/NeuromatchAcademy/course-content/tree/master//tutorials/W3D1_BayesianDecisions/solutions/W3D1_Tutorial1_Solution_09d33baa.py)\n",
        "\n"
      ]
    },
    {
      "cell_type": "code",
      "metadata": {
        "cellView": "form",
        "execution": {},
        "id": "LWB0BEXmKHLs",
        "outputId": "df523171-4838-4199-b748-01e6ab210ac7",
        "colab": {
          "base_uri": "https://localhost:8080/",
          "height": 597,
          "referenced_widgets": [
            "e9543d2043f7412cb7dffd540bec694b",
            "e80022cfbb144ff3ab89a9253ab07c9a",
            "8dbf92957f6548bc83ff3a3e34f2845f",
            "eaca59ad19ef480ca6dceec4b665f203",
            "fac050e128334e769deb7cc1c85e1bcd",
            "74c42c781e644091a21644d13e19af0b"
          ]
        }
      },
      "source": [
        "# @title Video 8: Posterior Beliefs Exercises Discussion\n",
        "from ipywidgets import widgets\n",
        "\n",
        "out2 = widgets.Output()\n",
        "with out2:\n",
        "  from IPython.display import IFrame\n",
        "  class BiliVideo(IFrame):\n",
        "      def __init__(self, id, page=1, width=400, height=300, **kwargs):\n",
        "          self.id=id\n",
        "          src = 'https://player.bilibili.com/player.html?bvid={0}&page={1}'.format(id, page)\n",
        "          super(BiliVideo, self).__init__(src, width, height, **kwargs)\n",
        "\n",
        "  video = BiliVideo(id=\"BV1TU4y1G7SM\", width=854, height=480, fs=1)\n",
        "  print('Video available at https://www.bilibili.com/video/{0}'.format(video.id))\n",
        "  display(video)\n",
        "\n",
        "out1 = widgets.Output()\n",
        "with out1:\n",
        "  from IPython.display import YouTubeVideo\n",
        "  video = YouTubeVideo(id=\"YPQgLVolvBs\", width=854, height=480, fs=1, rel=0)\n",
        "  print('Video available at https://youtube.com/watch?v=' + video.id)\n",
        "  display(video)\n",
        "\n",
        "out = widgets.Tab([out1, out2])\n",
        "out.set_title(0, 'Youtube')\n",
        "out.set_title(1, 'Bilibili')\n",
        "\n",
        "display(out)"
      ],
      "execution_count": 19,
      "outputs": [
        {
          "output_type": "display_data",
          "data": {
            "application/vnd.jupyter.widget-view+json": {
              "model_id": "e9543d2043f7412cb7dffd540bec694b",
              "version_minor": 0,
              "version_major": 2
            },
            "text/plain": [
              "Tab(children=(Output(), Output()), _titles={'0': 'Youtube', '1': 'Bilibili'})"
            ]
          },
          "metadata": {
            "tags": []
          }
        }
      ]
    },
    {
      "cell_type": "markdown",
      "metadata": {
        "execution": {},
        "id": "87uARAUJKHLt"
      },
      "source": [
        "# Section 6: Making Bayesian fishing decisions\n",
        "\n",
        "*Estimated timing to here from start of tutorial: 1 hr, 15 min*"
      ]
    },
    {
      "cell_type": "code",
      "metadata": {
        "cellView": "form",
        "execution": {},
        "id": "Ytnlb8n1KHLu",
        "outputId": "8567341b-8cce-4c21-b037-ff444c4aa2bf",
        "colab": {
          "base_uri": "https://localhost:8080/",
          "height": 597,
          "referenced_widgets": [
            "d70976d7986e467dba1dfd2707c16477",
            "63bbb99d99304f77aa1805b821de0e34",
            "9b00bfce259147348e522b5c5b2bb666",
            "41395a89bed04c5f9c2f434de60bccac",
            "d8696ad64c2c4edc858086afd1bac90f",
            "4c58b6324fae4718926e6019889e8452"
          ]
        }
      },
      "source": [
        "# @title Video 9: Bayesian Decisions\n",
        "from ipywidgets import widgets\n",
        "\n",
        "out2 = widgets.Output()\n",
        "with out2:\n",
        "  from IPython.display import IFrame\n",
        "  class BiliVideo(IFrame):\n",
        "      def __init__(self, id, page=1, width=400, height=300, **kwargs):\n",
        "          self.id=id\n",
        "          src = 'https://player.bilibili.com/player.html?bvid={0}&page={1}'.format(id, page)\n",
        "          super(BiliVideo, self).__init__(src, width, height, **kwargs)\n",
        "\n",
        "  video = BiliVideo(id=\"BV1954y1n7uH\", width=854, height=480, fs=1)\n",
        "  print('Video available at https://www.bilibili.com/video/{0}'.format(video.id))\n",
        "  display(video)\n",
        "\n",
        "out1 = widgets.Output()\n",
        "with out1:\n",
        "  from IPython.display import YouTubeVideo\n",
        "  video = YouTubeVideo(id=\"tz9zsmTHR68\", width=854, height=480, fs=1, rel=0)\n",
        "  print('Video available at https://youtube.com/watch?v=' + video.id)\n",
        "  display(video)\n",
        "\n",
        "out = widgets.Tab([out1, out2])\n",
        "out.set_title(0, 'Youtube')\n",
        "out.set_title(1, 'Bilibili')\n",
        "\n",
        "display(out)"
      ],
      "execution_count": 20,
      "outputs": [
        {
          "output_type": "display_data",
          "data": {
            "application/vnd.jupyter.widget-view+json": {
              "model_id": "d70976d7986e467dba1dfd2707c16477",
              "version_minor": 0,
              "version_major": 2
            },
            "text/plain": [
              "Tab(children=(Output(), Output()), _titles={'0': 'Youtube', '1': 'Bilibili'})"
            ]
          },
          "metadata": {
            "tags": []
          }
        }
      ]
    },
    {
      "cell_type": "markdown",
      "metadata": {
        "execution": {},
        "id": "VlSuJwS4KHLv"
      },
      "source": [
        "\n",
        "We will explore how to consider the expected utility of an action based on our belief (the posterior distribution) about where we think the fish are. Now we have all the components of a Bayesian decision: our prior information, the likelihood given a measurement, the posterior distribution (belief) and our utility (the gains and losses). This allows us to consider the relationship between the true value of the hidden state, $s$, and what we *expect* to get if we take action, $a$, based on our belief!\n",
        "\n",
        "Let's use the following widget to think about the relationship between these probability distributions and utility function."
      ]
    },
    {
      "cell_type": "markdown",
      "metadata": {
        "execution": {},
        "id": "JtMZNLWaKHLw"
      },
      "source": [
        "## Interactive Demo! 6: What is more important, the probabilities or the utilities?\n",
        "\n",
        "We are now going to put everything we've learned together to gain some intuitions for how each of the elements that goes into a Bayesian decision comes together. Remember, the common assumption in neuroscience, psychology, economics, ecology, etc. is that we (humans and animals) are tying to maximize our expected utility. There is a lot going on in this demo as it brings everything in this tutorial together in one place - please spend time making sure you understand the controls and the plots, especially how everything relates together.\n",
        "\n",
        "1. Can you find a situation where the expected utility is the same for both actions?\n",
        "2. What is more important for determining the expected utility: the prior or a new measurement (the likelihood)?\n",
        "3. Why is this a normative model?\n",
        "4. Can you think of ways in which this model would need to be extended to describe human or animal behavior?"
      ]
    },
    {
      "cell_type": "code",
      "metadata": {
        "cellView": "form",
        "execution": {},
        "id": "MKtZel2TKHLw",
        "outputId": "ce938061-5783-4492-f5d3-3c93b8f98e90",
        "colab": {
          "base_uri": "https://localhost:8080/",
          "height": 662,
          "referenced_widgets": [
            "945965f312ee468ab2f6831adcdd09dd",
            "24487081beb94f18bf67a3f46eb45920",
            "46757e17d0314475baec1869fc3595b4",
            "6fadd2a6772d4285a70a5fde509aa144",
            "b9073f2bcd9641c4963d2ff5a052488c",
            "03940a7d813f409ab7e586a152b7c412",
            "bb05a785ac6e4954be2eac2839ee1abd",
            "8091cd0bd2634f2588e85a52cfa4ed96",
            "4241a01fd4674a9d8c4ba63049e40d93",
            "16010449fae849b3ba80663495b9b50d",
            "65a62fcf145a4fe68272cf7eea2e5790",
            "eb85db2a968e4d4599068e1712bae845",
            "5fe144056467410293d87574b633ea37",
            "65019a0f36fa4d669db273a73818758c",
            "a5a12988a5f9420894657d8f8348ccdf",
            "89df20afeabf44c785ef208c42495589",
            "5a310e15954943cc82073afab06c21bd",
            "a29ff03ef9014ed396a0073400f67ef1"
          ]
        }
      },
      "source": [
        "# @markdown Execute this cell to enable the widget\n",
        "# style = {'description_width': 'initial'}\n",
        "\n",
        "ps_widget = widgets.FloatSlider(0.3, description='p(s = left)',\n",
        "                                min=0.01, max=0.99, step=0.01, layout=Layout(width='300px'))\n",
        "p_a_s1_widget = widgets.FloatSlider(0.5, description='p(fish on left | state = left)',\n",
        "                                    min=0.01, max=0.99, step=0.01, style=style, layout=Layout(width='370px'))\n",
        "p_a_s0_widget = widgets.FloatSlider(0.1, description='p(fish on left | state = right)',\n",
        "                                    min=0.01, max=0.99, step=0.01, style=style, layout=Layout(width='370px'))\n",
        "\n",
        "observed_widget = ToggleButtons(options=['Fish', 'No Fish'],\n",
        "    description='Observation (m) on the left:', disabled=False, button_style='',\n",
        "    layout=Layout(width='auto', display=\"flex\"),\n",
        "    style={'description_width': 'initial'}\n",
        ")\n",
        "\n",
        "widget_ui = VBox([ps_widget,\n",
        "                  HBox([p_a_s1_widget, p_a_s0_widget]),\n",
        "                  observed_widget])\n",
        "\n",
        "widget_out = interactive_output(plot_prior_likelihood_utility,\n",
        "                                {'ps': ps_widget,\n",
        "                                'p_a_s1': p_a_s1_widget,\n",
        "                                'p_a_s0': p_a_s0_widget,\n",
        "                                'measurement': observed_widget})\n",
        "display(widget_ui, widget_out)\n",
        "\n",
        "# @widgets.interact(\n",
        "#     ps=ps_widget,\n",
        "#     p_a_s1=p_a_s1_widget,\n",
        "#     p_a_s0=p_a_s0_widget,\n",
        "#     m_right=observed_widget\n",
        "# )\n",
        "# def make_prior_likelihood_utility_plot(ps, p_a_s1, p_a_s0,m_right):\n",
        "#     fig = plot_prior_likelihood_utility(ps, p_a_s1, p_a_s0,m_right)\n",
        "#     plt.show(fig)\n",
        "#     plt.close(fig)\n",
        "#     return None"
      ],
      "execution_count": 21,
      "outputs": [
        {
          "output_type": "display_data",
          "data": {
            "application/vnd.jupyter.widget-view+json": {
              "model_id": "945965f312ee468ab2f6831adcdd09dd",
              "version_minor": 0,
              "version_major": 2
            },
            "text/plain": [
              "VBox(children=(FloatSlider(value=0.3, description='p(s = left)', layout=Layout(width='300px'), max=0.99, min=0…"
            ]
          },
          "metadata": {
            "tags": []
          }
        },
        {
          "output_type": "display_data",
          "data": {
            "application/vnd.jupyter.widget-view+json": {
              "model_id": "5a310e15954943cc82073afab06c21bd",
              "version_minor": 0,
              "version_major": 2
            },
            "text/plain": [
              "Output()"
            ]
          },
          "metadata": {
            "tags": []
          }
        }
      ]
    },
    {
      "cell_type": "markdown",
      "metadata": {
        "execution": {},
        "id": "lC7W3s1IKHLy"
      },
      "source": [
        "[*Click for solution*](https://github.com/NeuromatchAcademy/course-content/tree/master//tutorials/W3D1_BayesianDecisions/solutions/W3D1_Tutorial1_Solution_0dad47c0.py)\n",
        "\n"
      ]
    },
    {
      "cell_type": "code",
      "metadata": {
        "cellView": "form",
        "execution": {},
        "id": "DTziTUUzKHLy",
        "outputId": "5afac67b-97d7-4c21-a02d-2f0e3692b1cb",
        "colab": {
          "base_uri": "https://localhost:8080/",
          "height": 597,
          "referenced_widgets": [
            "c97aab0ddb004761b807aa5df8625826",
            "76b3eb0e1c5349ca900f2a2b5bb1d785",
            "92ec868b745342f591b4a699f3c44d2c",
            "3947129f5bfe4b168cce4c8b8fce06d7",
            "1428a3f0e57a46849494c761aef57582",
            "7bfba689ff104f59b12dd5c9ec1dc82a"
          ]
        }
      },
      "source": [
        "# @title Video 10: Bayesian Decisions Demo Discussion\n",
        "from ipywidgets import widgets\n",
        "\n",
        "out2 = widgets.Output()\n",
        "with out2:\n",
        "  from IPython.display import IFrame\n",
        "  class BiliVideo(IFrame):\n",
        "      def __init__(self, id, page=1, width=400, height=300, **kwargs):\n",
        "          self.id=id\n",
        "          src = 'https://player.bilibili.com/player.html?bvid={0}&page={1}'.format(id, page)\n",
        "          super(BiliVideo, self).__init__(src, width, height, **kwargs)\n",
        "\n",
        "  video = BiliVideo(id=\"BV1QU4y137BS\", width=854, height=480, fs=1)\n",
        "  print('Video available at https://www.bilibili.com/video/{0}'.format(video.id))\n",
        "  display(video)\n",
        "\n",
        "out1 = widgets.Output()\n",
        "with out1:\n",
        "  from IPython.display import YouTubeVideo\n",
        "  video = YouTubeVideo(id=\"h9L0EYmUpHs\", width=854, height=480, fs=1, rel=0)\n",
        "  print('Video available at https://youtube.com/watch?v=' + video.id)\n",
        "  display(video)\n",
        "\n",
        "out = widgets.Tab([out1, out2])\n",
        "out.set_title(0, 'Youtube')\n",
        "out.set_title(1, 'Bilibili')\n",
        "\n",
        "display(out)"
      ],
      "execution_count": 22,
      "outputs": [
        {
          "output_type": "display_data",
          "data": {
            "application/vnd.jupyter.widget-view+json": {
              "model_id": "c97aab0ddb004761b807aa5df8625826",
              "version_minor": 0,
              "version_major": 2
            },
            "text/plain": [
              "Tab(children=(Output(), Output()), _titles={'0': 'Youtube', '1': 'Bilibili'})"
            ]
          },
          "metadata": {
            "tags": []
          }
        }
      ]
    },
    {
      "cell_type": "markdown",
      "metadata": {
        "execution": {},
        "id": "d7tqUiRVKHLz"
      },
      "source": [
        "---\n",
        "# Summary\n",
        "\n",
        "*Estimated timing of tutorial: 1 hour, 30 minutes*\n",
        "\n",
        "In this tutorial, you learned about combining prior information with new measurements to update your knowledge using Bayes Rule, in the context of a fishing problem. \n",
        "\n",
        "Specifically, we covered:\n",
        "\n",
        "* That the likelihood is the probability of the measurement given some hidden state\n",
        "\n",
        "* That how the prior and likelihood interact to create the posterior, the probability of the hidden state given a measurement, depends on how they covary\n",
        "\n",
        "* That utility is the gain from each action and state pair, and the expected utility for an action is the sum of the utility for all state pairs, weighted by the probability of that state happening. You can then choose the action with highest expected utility.\n"
      ]
    },
    {
      "cell_type": "markdown",
      "metadata": {
        "execution": {},
        "id": "XmOZMaF1KHL0"
      },
      "source": [
        "---\n",
        "# Bonus"
      ]
    },
    {
      "cell_type": "markdown",
      "metadata": {
        "execution": {},
        "id": "kUSeZTXoKHL0"
      },
      "source": [
        "## Bonus Section 1: Correlation Formula\n",
        "To understand the way we calculate the correlation, we need to review the definition of covariance and correlation.\n",
        "\n",
        "Covariance:\n",
        "\n",
        "$$\n",
        "cov(X,Y) = \\sigma_{XY} = E[(X - \\mu_{x})(Y - \\mu_{y})] = E[X]E[Y] - \\mu_{x}\\mu_{y}\n",
        "$$\n",
        "\n",
        "Correlation:\n",
        "\n",
        "$$\n",
        "\\rho_{XY} = \\frac{cov(Y,Y)}{\\sqrt{V(X)V(Y)}} = \\frac{\\sigma_{XY}}{\\sigma_{X}\\sigma_{Y}}\n",
        "$$"
      ]
    }
  ]
}